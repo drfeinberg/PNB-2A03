{
 "cells": [
  {
   "cell_type": "markdown",
   "metadata": {
    "slideshow": {
     "slide_type": "slide"
    }
   },
   "source": [
    "<h1><center> We finished Python! </center></h1>"
   ]
  },
  {
   "cell_type": "markdown",
   "metadata": {
    "collapsed": true,
    "slideshow": {
     "slide_type": "fragment"
    }
   },
   "source": [
    "<h2><center> (Sort of.) </h2></center>"
   ]
  },
  {
   "cell_type": "markdown",
   "metadata": {
    "slideshow": {
     "slide_type": "slide"
    }
   },
   "source": [
    "<h1><center> Miderm: Wednesday, November 7th, in Class </center></h1>"
   ]
  },
  {
   "cell_type": "markdown",
   "metadata": {
    "slideshow": {
     "slide_type": "slide"
    }
   },
   "source": [
    "## Midterm Expectations"
   ]
  },
  {
   "cell_type": "markdown",
   "metadata": {
    "slideshow": {
     "slide_type": "fragment"
    }
   },
   "source": [
    "For the midterm, you will be expected to:\n",
    "\n",
    "- Recognize, understand and respond to Python syntax:\n",
    "    - statements & comments, whitespace, code blocks & indentation levels\n",
    "- Recognize, understand, and be able to explain code constructions:\n",
    "    - variables, operators, data types, conditionals, loops, functions, errors, classes & imports\n",
    "    - keywords (`def`, `class`, `return`, etc.)\n",
    "- Know and be able explain (roughly define) concepts we have talked about:\n",
    "    - encoding & algorithms and related / derived concepts such as encryption & computability\n",
    "- Be able to apply this know\n",
    "    - Given a task:\n",
    "        - What kind of code constructions will we need to answer it.\n",
    "        - What kind of concepts does it relate to.\n",
    "- With respect to all of the above, be able to read and respond to short code snippets, and write out code or pseudocode responses\n",
    "\n",
    "Material covered in Class as well as in Assignments & CodingLabs is fair game. "
   ]
  },
  {
   "cell_type": "markdown",
   "metadata": {},
   "source": [
    "## Midterm Mechanics"
   ]
  },
  {
   "cell_type": "markdown",
   "metadata": {
    "slideshow": {
     "slide_type": "fragment"
    }
   },
   "source": [
    "Midterm Format:\n",
    "- Multiple choice style (resembling clicker questions) and short answer formats\n",
    "    - Fill in the blanks, short written answers (words), read and respond to short snippets of code, write short snippets of code\n",
    "- The test is on paper. \n",
    "    - You will not be writing or debugging large code sections on paper"
   ]
  },
  {
   "cell_type": "markdown",
   "metadata": {
    "slideshow": {
     "slide_type": "fragment"
    }
   },
   "source": [
    "How to study:\n",
    "- Revisit Lecture Materials, Coding Labs & Assignments\n",
    "- Do the practice questions (to be posted)\n",
    "- Ask questions in Office Hours and on Piazza for anything that is unclear"
   ]
  },
  {
   "cell_type": "markdown",
   "metadata": {
    "slideshow": {
     "slide_type": "slide"
    }
   },
   "source": [
    "<h2><center>After the midterm:</center></h2>"
   ]
  },
  {
   "cell_type": "markdown",
   "metadata": {
    "slideshow": {
     "slide_type": "fragment"
    }
   },
   "source": [
    "<h3><center> We will focus on the Python ecosystem, and applications of Python. </center></h3>"
   ]
  },
  {
   "cell_type": "markdown",
   "metadata": {
    "slideshow": {
     "slide_type": "fragment"
    }
   },
   "source": [
    "<h3><center> We also become a project based course. </center></h3>"
   ]
  }
 ],
 "metadata": {
  "celltoolbar": "Slideshow",
  "kernelspec": {
   "display_name": "Python 3",
   "language": "python",
   "name": "python3"
  },
  "language_info": {
   "codemirror_mode": {
    "name": "ipython",
    "version": 3
   },
   "file_extension": ".py",
   "mimetype": "text/x-python",
   "name": "python",
   "nbconvert_exporter": "python",
   "pygments_lexer": "ipython3",
   "version": "3.6.4"
  }
 },
 "nbformat": 4,
 "nbformat_minor": 2
}
