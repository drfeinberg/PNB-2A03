{
 "cells": [
  {
   "cell_type": "markdown",
   "metadata": {
    "slideshow": {
     "slide_type": "slide"
    }
   },
   "source": [
    "# Documentation"
   ]
  },
  {
   "cell_type": "markdown",
   "metadata": {
    "slideshow": {
     "slide_type": "slide"
    }
   },
   "source": [
    "## Code Readability"
   ]
  },
  {
   "cell_type": "markdown",
   "metadata": {
    "slideshow": {
     "slide_type": "fragment"
    }
   },
   "source": [
    "\"Code is more often read than written\" - Guido van Rossum"
   ]
  },
  {
   "cell_type": "markdown",
   "metadata": {
    "slideshow": {
     "slide_type": "fragment"
    }
   },
   "source": [
    "So: code should be written to be readable by humans."
   ]
  },
  {
   "cell_type": "markdown",
   "metadata": {
    "slideshow": {
     "slide_type": "fragment"
    }
   },
   "source": [
    "Note: one of those humans is future you."
   ]
  },
  {
   "cell_type": "markdown",
   "metadata": {
    "slideshow": {
     "slide_type": "slide"
    }
   },
   "source": [
    "### Writing Readable Code"
   ]
  },
  {
   "cell_type": "markdown",
   "metadata": {
    "slideshow": {
     "slide_type": "fragment"
    }
   },
   "source": [
    "So how do we write good code for humans?\n",
    "\n",
    "- Use good structure\n",
    "- Use good naming\n",
    "- Use code comments and include documentation"
   ]
  },
  {
   "cell_type": "markdown",
   "metadata": {
    "slideshow": {
     "slide_type": "skip"
    }
   },
   "source": [
    "Good code has good documentation - but code documentation should not be used to try and fix unclear names, or bad structure. \n",
    "\n",
    "Rather, comments should add any additional context and information that helps explain what the code is, how it works, and why it works that way. "
   ]
  },
  {
   "cell_type": "markdown",
   "metadata": {
    "slideshow": {
     "slide_type": "slide"
    }
   },
   "source": [
    "### Clicker Question #1\n",
    "\n",
    "What does the following code do:"
   ]
  },
  {
   "cell_type": "code",
   "execution_count": null,
   "metadata": {
    "slideshow": {
     "slide_type": "fragment"
    }
   },
   "outputs": [],
   "source": [
    "def ff(jj):\n",
    "    oo = list(); jj = list(jj)\n",
    "    for ii in jj: oo.append(str(ord(ii)))\n",
    "    return '+'.join(oo)\n",
    "ff('Hello World.')"
   ]
  },
  {
   "cell_type": "markdown",
   "metadata": {
    "slideshow": {
     "slide_type": "fragment"
    }
   },
   "source": [
    "- A) Returns unicode code points, as a list\n",
    "- B) Encodes a string as a cypher, returning a string of alphabetical characters\n",
    "- C) Returns unicode code points, as a string\n",
    "- D) Encodes inputs alphabetical characters, returned as a list\n",
    "- E) This code will fail"
   ]
  },
  {
   "cell_type": "code",
   "execution_count": 1,
   "metadata": {
    "slideshow": {
     "slide_type": "slide"
    }
   },
   "outputs": [],
   "source": [
    "# Let's fix this code!\n",
    "def convert_to_unicode(input_string):\n",
    "    \"\"\"Converts an input string into a string containing the unicode code points.\n",
    "    \n",
    "    Parameters\n",
    "    ----------\n",
    "    input_string : string\n",
    "        String to convert to code points\n",
    "        \n",
    "    Returns\n",
    "    -------\n",
    "    output_string : string\n",
    "        String containing the code points for the input string.\n",
    "    \"\"\"\n",
    "    \n",
    "    output = list()\n",
    "\n",
    "    # Converting a string to a list, to split up the characters of the string\n",
    "    input_list = list(input_string)\n",
    "    \n",
    "    for character in input_list:\n",
    "        \n",
    "        temp = ord(character)\n",
    "        output.append(temp)\n",
    "\n",
    "    output_string = '+'.join(output)\n",
    "        \n",
    "    return output_string"
   ]
  },
  {
   "cell_type": "markdown",
   "metadata": {
    "slideshow": {
     "slide_type": "slide"
    }
   },
   "source": [
    "## Code Documentation"
   ]
  },
  {
   "cell_type": "markdown",
   "metadata": {
    "slideshow": {
     "slide_type": "fragment"
    }
   },
   "source": [
    "<div class=\"alert alert-success\">\n",
    "Code documentation is text that accompanies and/or is embedded within a software project, that explains what the code is and how to use it. \n",
    "</div>"
   ]
  },
  {
   "cell_type": "markdown",
   "metadata": {
    "collapsed": true,
    "slideshow": {
     "slide_type": "slide"
    }
   },
   "source": [
    "## Code Comments vs. Documentation"
   ]
  },
  {
   "cell_type": "markdown",
   "metadata": {
    "collapsed": true,
    "slideshow": {
     "slide_type": "fragment"
    }
   },
   "source": [
    "#### Comments"
   ]
  },
  {
   "cell_type": "markdown",
   "metadata": {
    "slideshow": {
     "slide_type": "fragment"
    }
   },
   "source": [
    "Comments are string literals written directly in the code, typically directed at developers - people reading and potentially writing the code. "
   ]
  },
  {
   "cell_type": "markdown",
   "metadata": {
    "slideshow": {
     "slide_type": "fragment"
    }
   },
   "source": [
    "#### Documentation"
   ]
  },
  {
   "cell_type": "markdown",
   "metadata": {
    "slideshow": {
     "slide_type": "fragment"
    }
   },
   "source": [
    "Documentation are descriptions and guides written for code users. "
   ]
  },
  {
   "cell_type": "markdown",
   "metadata": {
    "slideshow": {
     "slide_type": "slide"
    }
   },
   "source": [
    "## Inline Comments"
   ]
  },
  {
   "cell_type": "markdown",
   "metadata": {
    "slideshow": {
     "slide_type": "fragment"
    }
   },
   "source": [
    "Code comments should use `#`, and be written at the same indentation level of the code it describes. "
   ]
  },
  {
   "cell_type": "markdown",
   "metadata": {
    "slideshow": {
     "slide_type": "slide"
    }
   },
   "source": [
    "How to use comments:\n",
    "- Generally:\n",
    "    - focus on the how and why, over literal 'what is the code'\n",
    "    - explain any context needed to understand the task at hand\n",
    "    - give a broad overview of what approach you are taking to perform the task\n",
    "    - if you're using any unusual approaches, explain what they are, and why you're using them\n",
    "- Comments need to be maintained - make sure to keep them up to date"
   ]
  },
  {
   "cell_type": "markdown",
   "metadata": {
    "slideshow": {
     "slide_type": "slide"
    }
   },
   "source": [
    "#### Bad Comments"
   ]
  },
  {
   "cell_type": "code",
   "execution_count": null,
   "metadata": {
    "slideshow": {
     "slide_type": "fragment"
    }
   },
   "outputs": [],
   "source": [
    "# This is a loop that iterates over elements in a list\n",
    "for element in list_of_elements:\n",
    "    pass"
   ]
  },
  {
   "cell_type": "markdown",
   "metadata": {
    "collapsed": true,
    "slideshow": {
     "slide_type": "fragment"
    }
   },
   "source": [
    "#### Good Comments"
   ]
  },
  {
   "cell_type": "code",
   "execution_count": null,
   "metadata": {
    "collapsed": true,
    "slideshow": {
     "slide_type": "fragment"
    }
   },
   "outputs": [],
   "source": [
    "# Because of X, we will use approach Y to do Z\n",
    "for element in list_of_elements:\n",
    "    pass"
   ]
  },
  {
   "cell_type": "markdown",
   "metadata": {
    "slideshow": {
     "slide_type": "slide"
    }
   },
   "source": [
    "## Docstrings"
   ]
  },
  {
   "cell_type": "markdown",
   "metadata": {
    "slideshow": {
     "slide_type": "fragment"
    }
   },
   "source": [
    "<div class=\"alert alert-success\">\n",
    "Docstrings are in-code text that describe modules, classes and functions. They describe the operation of the code.\n",
    "</div>"
   ]
  },
  {
   "cell_type": "markdown",
   "metadata": {
    "slideshow": {
     "slide_type": "fragment"
    }
   },
   "source": [
    "<div class=\"alert alert-info\">\n",
    "[Numpy style docs](https://numpydoc.readthedocs.io/en/latest/format.html) are a particular specification for docstrings. \n",
    "</div>"
   ]
  },
  {
   "cell_type": "markdown",
   "metadata": {
    "collapsed": true,
    "slideshow": {
     "slide_type": "slide"
    }
   },
   "source": [
    "### Example Docstring"
   ]
  },
  {
   "cell_type": "code",
   "execution_count": 4,
   "metadata": {
    "collapsed": true,
    "slideshow": {
     "slide_type": "fragment"
    }
   },
   "outputs": [],
   "source": [
    "def add(num1, num2):\n",
    "    \"\"\"Add two numbers together. \n",
    "    \n",
    "    Parameters\n",
    "    ----------\n",
    "    num1 : int or float\n",
    "        The first number, to be added. \n",
    "    num2 : int or float\n",
    "        The second number, to be added.\n",
    "    \n",
    "    Returns\n",
    "    -------\n",
    "    answer : float\n",
    "        The result of the addition. \n",
    "    \"\"\"\n",
    "    \n",
    "    answer = num1 + num2\n",
    "    \n",
    "    return answer"
   ]
  },
  {
   "cell_type": "markdown",
   "metadata": {
    "slideshow": {
     "slide_type": "slide"
    }
   },
   "source": [
    "### Docstrings are available through the code"
   ]
  },
  {
   "cell_type": "code",
   "execution_count": 5,
   "metadata": {
    "slideshow": {
     "slide_type": "fragment"
    }
   },
   "outputs": [
    {
     "name": "stdout",
     "output_type": "stream",
     "text": [
      "Help on function add in module __main__:\n",
      "\n",
      "add(num1, num2)\n",
      "    Add two numbers together. \n",
      "    \n",
      "    Parameters\n",
      "    ----------\n",
      "    num1 : int or float\n",
      "        The first number, to be added. \n",
      "    num2 : int or float\n",
      "        The second number, to be added.\n",
      "    \n",
      "    Returns\n",
      "    -------\n",
      "    answer : float\n",
      "        The result of the addition.\n",
      "\n"
     ]
    }
   ],
   "source": [
    "# The `help` function prints out the `docstring` of an object (module, function, class)\n",
    "help(add)"
   ]
  },
  {
   "cell_type": "markdown",
   "metadata": {
    "slideshow": {
     "slide_type": "slide"
    }
   },
   "source": [
    "### `__doc__`"
   ]
  },
  {
   "cell_type": "code",
   "execution_count": 6,
   "metadata": {
    "slideshow": {
     "slide_type": "fragment"
    }
   },
   "outputs": [
    {
     "name": "stdout",
     "output_type": "stream",
     "text": [
      "Add two numbers together. \n",
      "    \n",
      "    Parameters\n",
      "    ----------\n",
      "    num1 : int or float\n",
      "        The first number, to be added. \n",
      "    num2 : int or float\n",
      "        The second number, to be added.\n",
      "    \n",
      "    Returns\n",
      "    -------\n",
      "    answer : float\n",
      "        The result of the addition. \n",
      "    \n"
     ]
    }
   ],
   "source": [
    "# Docstrings get stored as the `__doc__` attribute, and can also be accessed from there\n",
    "print(add.__doc__)"
   ]
  },
  {
   "cell_type": "markdown",
   "metadata": {
    "slideshow": {
     "slide_type": "slide"
    }
   },
   "source": [
    "### Clicker Question #2\n",
    "\n",
    "What should be included in a docstring?\n",
    "\n",
    "- 1) Input arguments and their types\n",
    "- 2) A brief overview sentence about the code\n",
    "- 3) A copy of the `def` line\n",
    "- 4) Returned variables and their types\n",
    "- 5) A step by step description of the procedure used in the code\n",
    "\n",
    "A) 1, 4 | B) 2, 3, 5 | C) 3, 5 | D) 1, 2, 4 | E) 1, 2, 3, 4, 5"
   ]
  },
  {
   "cell_type": "markdown",
   "metadata": {
    "slideshow": {
     "slide_type": "slide"
    }
   },
   "source": [
    "## Documentation for a Software Project"
   ]
  },
  {
   "cell_type": "markdown",
   "metadata": {
    "slideshow": {
     "slide_type": "fragment"
    }
   },
   "source": [
    "Documentation Files:\n",
    "- A `README` is a file that provides an overview of the project to potential users and developers\n",
    "- A `LICENSE` file specifies the license under which the code is available (the terms of use)\n",
    "- An `API Reference` is a collection of the docstrings, listing public interfaces, parameters and return values\n",
    "- Tutorials and/or Examples show examples and tutorials for using the codebase"
   ]
  },
  {
   "cell_type": "markdown",
   "metadata": {
    "collapsed": true,
    "slideshow": {
     "slide_type": "slide"
    }
   },
   "source": [
    "## Documentation Sites"
   ]
  },
  {
   "cell_type": "markdown",
   "metadata": {
    "collapsed": true,
    "slideshow": {
     "slide_type": "fragment"
    }
   },
   "source": [
    "<div class=\"alert alert-success\">\n",
    "Documentation sites are a host of a package's documentation, for code users. \n",
    "</div>"
   ]
  },
  {
   "cell_type": "markdown",
   "metadata": {
    "slideshow": {
     "slide_type": "fragment"
    }
   },
   "source": [
    "<div class=\"alert alert-info\">\n",
    "For an example of a documentation site, check out the [neurodsp](https://voytekresearch.github.io/neurodsp/), docsite, as well as the source code (with comments), on [Github](https://github.com/voytekresearch/neurodsp/).\n",
    "</div>"
   ]
  }
 ],
 "metadata": {
  "celltoolbar": "Slideshow",
  "kernelspec": {
   "display_name": "Python 3",
   "language": "python",
   "name": "python3"
  },
  "language_info": {
   "codemirror_mode": {
    "name": "ipython",
    "version": 3
   },
   "file_extension": ".py",
   "mimetype": "text/x-python",
   "name": "python",
   "nbconvert_exporter": "python",
   "pygments_lexer": "ipython3",
   "version": "3.6.4"
  }
 },
 "nbformat": 4,
 "nbformat_minor": 2
}
