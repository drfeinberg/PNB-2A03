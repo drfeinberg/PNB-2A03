{
 "cells": [
  {
   "cell_type": "markdown",
   "metadata": {},
   "source": [
    "# The Big 5 Questionnaire\n",
    "\n",
    "<div class=\"alert alert-warning\">\n",
    "The Big 5 is a model of personality that has 5 independent dimensions: Extraversion, Agreeableness, Conscientiousness, Neuroticism, Openness.  We're going to write a program that asks the user to rate themselves on these dimenstion on a 7-point Likert scale.  Then write code that figures out their total score across all 5 dimensions. \n",
    "\n",
    "Costa, P. T., & McCrae, R. R. (1980). Influence of extraversion and neuroticism on subjective well-being: happy and unhappy people. Journal of personality and social psychology, 38(4), 668.\n",
    "</div>\n",
    "\n",
    "1) Write a statement that prints, `Hello participant!`  \n",
    "\n",
    "2) Write a statement that prints the question, `What is your name?`  \n",
    "\n",
    "3) Use the `input()` function to assign your name to the variable `my_name`  \n",
    "\n",
    "4) Write a statement that prints `It is good to meet you my_name`, where `my_name` is the `my_name` variable.  \n",
    "\n",
    "    1) For example, for me, it would print: `It's good to meet you Dr. Feinberg.`  \n",
    "    \n",
    "5) Write a statement that prints `On a scale from 1-7; 1=\"Not at all\"; 7=\"Very Much\", how extraverted are you?`\n",
    "\n",
    "6) Use the `input()` function to assign a rating to the variable `extraverted`  \n",
    "\n",
    "7) Write a statement that prints `On a scale from 1-7; 1=\"Not at all\"; 7=\"Very Much\", how agreeable are you?`\n",
    "\n",
    "8) Use the `input()` function to assign a rating to the variable `agreeable`  \n",
    "\n",
    "9) Write a statement that prints `On a scale from 1-7; 1=\"Not at all\"; 7=\"Very Much\", how conscientious are you?`\n",
    "\n",
    "10) Use the `input()` function to assign a rating to the variable `conscientious`  \n",
    "    \n",
    "11) Write a statement that prints `On a scale from 1-7; 1=\"Not at all\"; 7=\"Very Much\", how neurotic are you?`\n",
    "\n",
    "12) Use the `input()` function to assign a rating to the variable `neurotic`  \n",
    "\n",
    "13) Write a statement that prints `On a scale from 1-7; 1=\"Not at all\"; 7=\"Very Much\", how open are you?`\n",
    "\n",
    "14) Use the `input()` function to assign a rating to the variable `open`  \n",
    "\n",
    "15) Write a statement that prints `What is your age?`\n",
    "\n",
    "16) 14) Use the `input()` function to assign an age to the variable `age`  \n",
    "    \n",
    "17) Write a statement that calculates the total score across all 5 dimensions\n",
    "\n",
    "18) Write a statement that prints `Your total Big-5 personality score is X`, where `X` displays the total score\n"
   ]
  },
  {
   "cell_type": "code",
   "execution_count": 5,
   "metadata": {},
   "outputs": [
    {
     "name": "stdout",
     "output_type": "stream",
     "text": [
      "hello participant!\n"
     ]
    }
   ],
   "source": [
    "## YOUR CODE HERE\n",
    "print ('hello participant!')"
   ]
  },
  {
   "cell_type": "code",
   "execution_count": 1,
   "metadata": {},
   "outputs": [
    {
     "name": "stdout",
     "output_type": "stream",
     "text": [
      "what is your name?\n"
     ]
    }
   ],
   "source": [
    "print ('what is your name?')"
   ]
  },
  {
   "cell_type": "code",
   "execution_count": 2,
   "metadata": {},
   "outputs": [
    {
     "name": "stdout",
     "output_type": "stream",
     "text": [
      "my_nameShawna\n"
     ]
    },
    {
     "data": {
      "text/plain": [
       "'Shawna'"
      ]
     },
     "execution_count": 2,
     "metadata": {},
     "output_type": "execute_result"
    }
   ],
   "source": [
    "input(\"my_name\")"
   ]
  },
  {
   "cell_type": "code",
   "execution_count": 11,
   "metadata": {},
   "outputs": [
    {
     "name": "stdout",
     "output_type": "stream",
     "text": [
      "it is good to meet you shawna\n"
     ]
    }
   ],
   "source": [
    "space = \" \"\n",
    "print('it is good to meet you' + space + my_name)"
   ]
  },
  {
   "cell_type": "code",
   "execution_count": 13,
   "metadata": {},
   "outputs": [
    {
     "name": "stdout",
     "output_type": "stream",
     "text": [
      "on a scale from 1-7; 1=\"not at all\"; 7=\"very much\", how extraverted are you?\n"
     ]
    }
   ],
   "source": [
    "print ('on a scale from 1-7; 1=\"not at all\"; 7=\"very much\", how extraverted are you?')"
   ]
  },
  {
   "cell_type": "code",
   "execution_count": 1,
   "metadata": {},
   "outputs": [
    {
     "name": "stdout",
     "output_type": "stream",
     "text": [
      "how extraverted are you from 1-7?4\n"
     ]
    }
   ],
   "source": [
    "extravert = int(input('how extraverted are you from 1-7?'))"
   ]
  },
  {
   "cell_type": "code",
   "execution_count": 1,
   "metadata": {},
   "outputs": [
    {
     "name": "stdout",
     "output_type": "stream",
     "text": [
      "on a scale from 1-7; 1=\"not at all\"; 7=\"very much\", how agreeable are you?\n"
     ]
    }
   ],
   "source": [
    "print ('on a scale from 1-7; 1=\"not at all\"; 7=\"very much\", how agreeable are you?')"
   ]
  },
  {
   "cell_type": "code",
   "execution_count": 2,
   "metadata": {},
   "outputs": [
    {
     "name": "stdout",
     "output_type": "stream",
     "text": [
      "how agreeable are you from 1-7?3\n"
     ]
    }
   ],
   "source": [
    "agreeable = int(input('how agreeable are you from 1-7?'))"
   ]
  },
  {
   "cell_type": "code",
   "execution_count": 3,
   "metadata": {},
   "outputs": [
    {
     "name": "stdout",
     "output_type": "stream",
     "text": [
      "on a scale from 1-7; 1=\"not at all\"; 7=\"very much\", how conscientious are you?\n"
     ]
    }
   ],
   "source": [
    "print ('on a scale from 1-7; 1=\"not at all\"; 7=\"very much\", how conscientious are you?')"
   ]
  },
  {
   "cell_type": "code",
   "execution_count": 4,
   "metadata": {},
   "outputs": [
    {
     "name": "stdout",
     "output_type": "stream",
     "text": [
      "how conscientious are you from 1-7?6\n"
     ]
    }
   ],
   "source": [
    "conscientious = int(input('how conscientious are you from 1-7?'))"
   ]
  },
  {
   "cell_type": "code",
   "execution_count": 1,
   "metadata": {},
   "outputs": [
    {
     "name": "stdout",
     "output_type": "stream",
     "text": [
      "on a scale from 1-7; 1=\"not at all\"; 7=\"very much\", how neurotic are you?\n"
     ]
    }
   ],
   "source": [
    "print ('on a scale from 1-7; 1=\"not at all\"; 7=\"very much\", how neurotic are you?')"
   ]
  },
  {
   "cell_type": "code",
   "execution_count": 2,
   "metadata": {},
   "outputs": [
    {
     "name": "stdout",
     "output_type": "stream",
     "text": [
      "how neurotic are you from 1-7?2\n"
     ]
    }
   ],
   "source": [
    "neurotic = int(input('how neurotic are you from 1-7?'))"
   ]
  },
  {
   "cell_type": "code",
   "execution_count": 3,
   "metadata": {},
   "outputs": [
    {
     "name": "stdout",
     "output_type": "stream",
     "text": [
      "on a scale from 1-7; 1=\"not at all\"; 7=\"very much\", how open are you?\n"
     ]
    }
   ],
   "source": [
    "print ('on a scale from 1-7; 1=\"not at all\"; 7=\"very much\", how open are you?')"
   ]
  },
  {
   "cell_type": "code",
   "execution_count": 4,
   "metadata": {},
   "outputs": [
    {
     "name": "stdout",
     "output_type": "stream",
     "text": [
      "how open are you from 1-7?6\n"
     ]
    }
   ],
   "source": [
    "openness = int(input('how open are you from 1-7?'))"
   ]
  },
  {
   "cell_type": "code",
   "execution_count": 6,
   "metadata": {},
   "outputs": [
    {
     "name": "stdout",
     "output_type": "stream",
     "text": [
      "what is your age?\n"
     ]
    }
   ],
   "source": [
    "print ('what is your age?')"
   ]
  },
  {
   "cell_type": "code",
   "execution_count": 7,
   "metadata": {
    "scrolled": true
   },
   "outputs": [
    {
     "name": "stdout",
     "output_type": "stream",
     "text": [
      "age22\n"
     ]
    },
    {
     "data": {
      "text/plain": [
       "'22'"
      ]
     },
     "execution_count": 7,
     "metadata": {},
     "output_type": "execute_result"
    }
   ],
   "source": [
    "input(\"age\")"
   ]
  },
  {
   "cell_type": "code",
   "execution_count": 10,
   "metadata": {},
   "outputs": [
    {
     "data": {
      "text/plain": [
       "21"
      ]
     },
     "execution_count": 10,
     "metadata": {},
     "output_type": "execute_result"
    }
   ],
   "source": [
    "extravert = 4\n",
    "agreeable = 3\n",
    "conscientious = 6\n",
    "neurotic = 2\n",
    "openness = 6\n",
    "total = extravert + agreeable + conscientious + neurotic + openness\n",
    "total"
   ]
  },
  {
   "cell_type": "code",
   "execution_count": 11,
   "metadata": {},
   "outputs": [
    {
     "name": "stdout",
     "output_type": "stream",
     "text": [
      "your total big-5 personality score is 21\n"
     ]
    }
   ],
   "source": [
    "print ('your total big-5 personality score is 21')"
   ]
  }
 ],
 "metadata": {
  "kernelspec": {
   "display_name": "Python 3",
   "language": "python",
   "name": "python3"
  },
  "language_info": {
   "codemirror_mode": {
    "name": "ipython",
    "version": 3
   },
   "file_extension": ".py",
   "mimetype": "text/x-python",
   "name": "python",
   "nbconvert_exporter": "python",
   "pygments_lexer": "ipython3",
   "version": "3.7.3"
  },
  "toc": {
   "base_numbering": 1,
   "nav_menu": {},
   "number_sections": false,
   "sideBar": false,
   "skip_h1_title": false,
   "title_cell": "Table of Contents",
   "title_sidebar": "Contents",
   "toc_cell": false,
   "toc_position": {},
   "toc_section_display": false,
   "toc_window_display": false
  }
 },
 "nbformat": 4,
 "nbformat_minor": 2
}
