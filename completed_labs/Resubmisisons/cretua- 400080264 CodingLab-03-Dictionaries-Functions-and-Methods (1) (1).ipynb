{
 "cells": [
  {
   "cell_type": "markdown",
   "metadata": {},
   "source": [
    "# Coding Lab 3: Dictionaries, Functions and Methods\n",
    "\n",
    "Welcome to the third coding lab!\n",
    "\n",
    "CodingLab labs are meant to be interactive - so you should find another person to work together with on this notebook. For this lab, you can either work together on one notebook, or work together but each fill out your own notebook, if you prefer. \n",
    "\n",
    "CodingLabs are also meant to be exploratory. There are broad questions in the notebook that you should explore, and try to answer - but you are also very much encouraged to explore other related ideas as you go! \n",
    "\n",
    "If you have a question about how something works / what something does - try it out, and see what happens!"
   ]
  },
  {
   "cell_type": "markdown",
   "metadata": {},
   "source": [
    "# Part 1 - Dictionaries"
   ]
  },
  {
   "cell_type": "markdown",
   "metadata": {},
   "source": [
    "Let's get back to neurotransmitters.  They're names are long and hard to spell.  Let's make a dictionary called `neurotransmitters` that uses our keys to store their abbreviations (shown here in parentheses), and their values to store their full names\n",
    "\n",
    "- Glutamate (Glu)\n",
    "- Gamma-aminobutyric acid (GABBA)\n",
    "- Serotonin (5-HT)\n",
    "- Acetylcholine (Ach)\n",
    "- Dopamine (DA)\n",
    "- Norepinephrine (NE)"
   ]
  },
  {
   "cell_type": "code",
   "execution_count": 7,
   "metadata": {},
   "outputs": [],
   "source": [
    "neurotransmitters= {'Glu': 'Glutamate', \n",
    "                    'GABBA': 'Gamma-aminobutyric acid', \n",
    "                    '5-HT': 'Serotonin',\n",
    "                    'Ach': 'Acetylcholine', \n",
    "                    'DA': 'Dopamine', \n",
    "                    'NE': 'Norepinephrine'}\n"
   ]
  },
  {
   "cell_type": "markdown",
   "metadata": {},
   "source": [
    "Show the value of `Glu`"
   ]
  },
  {
   "cell_type": "code",
   "execution_count": 11,
   "metadata": {},
   "outputs": [
    {
     "data": {
      "text/plain": [
       "'Glutamate'"
      ]
     },
     "execution_count": 11,
     "metadata": {},
     "output_type": "execute_result"
    }
   ],
   "source": [
    "neurotransmitters['Glu']\n"
   ]
  },
  {
   "cell_type": "markdown",
   "metadata": {},
   "source": [
    "Use a loop to show all of the values stored in the `neurotransmitters` dictionary"
   ]
  },
  {
   "cell_type": "code",
   "execution_count": 12,
   "metadata": {},
   "outputs": [
    {
     "name": "stdout",
     "output_type": "stream",
     "text": [
      "\tKey:\t Glu\n",
      "\tValue:\t Glutamate\n",
      "\tKey:\t GABBA\n",
      "\tValue:\t Gamma-aminobutyric acid\n",
      "\tKey:\t 5-HT\n",
      "\tValue:\t Serotonin\n",
      "\tKey:\t Ach\n",
      "\tValue:\t Acetylcholine\n",
      "\tKey:\t DA\n",
      "\tValue:\t Dopamine\n",
      "\tKey:\t NE\n",
      "\tValue:\t Norepinephrine\n"
     ]
    }
   ],
   "source": [
    "for item in neurotransmitters:\n",
    "    print('\\tKey:\\t', item)\n",
    "    print('\\tValue:\\t', neurotransmitters[item])\n"
   ]
  },
  {
   "cell_type": "markdown",
   "metadata": {},
   "source": [
    "Use a conditional to determine if `haemoglobin (Hb)` is in the dictionary of neurotransmitters"
   ]
  },
  {
   "cell_type": "code",
   "execution_count": 17,
   "metadata": {},
   "outputs": [
    {
     "name": "stdout",
     "output_type": "stream",
     "text": [
      "your dictionary is correct\n"
     ]
    }
   ],
   "source": [
    "if 'haemoglobin (Hb)' in neurotransmitters:\n",
    "    print('your dictionary is incorrect')\n",
    "    \n",
    "else:\n",
    "    print('your dictionary is correct')\n"
   ]
  },
  {
   "cell_type": "markdown",
   "metadata": {},
   "source": [
    "# Part 2 - Functions"
   ]
  },
  {
   "cell_type": "markdown",
   "metadata": {},
   "source": [
    "### Write a function with a conditional inside it.  Return a value.\n",
    "\n",
    "You can decide what this function does. \n",
    "\n",
    "It could, for example, take a boolean, and print out a status if the input is True. "
   ]
  },
  {
   "cell_type": "code",
   "execution_count": 25,
   "metadata": {},
   "outputs": [
    {
     "name": "stdout",
     "output_type": "stream",
     "text": [
      "Your code worked\n"
     ]
    }
   ],
   "source": [
    "def style(fancy, classy):\n",
    "    style= fancy ** classy\n",
    "    return style\n",
    "\n",
    "if style(2, 2) is 4:\n",
    "    print ( 'Your code worked')\n"
   ]
  },
  {
   "cell_type": "markdown",
   "metadata": {},
   "source": [
    "### Write a function with a loop inside it. Return a value.\n",
    "\n",
    "You can decide what this function does. \n",
    "\n",
    "It could, for example, take a list of numbers, and add 1 to each element, and return the new list. "
   ]
  },
  {
   "cell_type": "code",
   "execution_count": 52,
   "metadata": {},
   "outputs": [
    {
     "name": "stdout",
     "output_type": "stream",
     "text": [
      "2\n",
      "3\n",
      "4\n",
      "5\n",
      "6\n",
      "7\n",
      "8\n",
      "9\n",
      "10\n"
     ]
    }
   ],
   "source": [
    "def f(x):\n",
    "    return x + 1\n",
    "for x in range (1, 10):\n",
    "    print (f(x))\n",
    "\n"
   ]
  },
  {
   "cell_type": "markdown",
   "metadata": {},
   "source": [
    "### Write a function with a loop and a conditional inside it. Return a value.\n",
    "\n",
    "You can decide what this function does. \n",
    "\n",
    "It could, for example, take a list of booleans, and count how many elements are True, returning a count of `True` values. "
   ]
  },
  {
   "cell_type": "code",
   "execution_count": 67,
   "metadata": {},
   "outputs": [
    {
     "data": {
      "text/plain": [
       "3"
      ]
     },
     "execution_count": 67,
     "metadata": {},
     "output_type": "execute_result"
    }
   ],
   "source": [
    "listofbooleans= True, False, False, True, False, True\n",
    "thatwearelookingfor=True\n",
    "def thesumofbooleans():\n",
    "    return listofbooleans.count(thatwearelookingfor)\n",
    "    \n",
    "thesumofbooleans()\n",
    "    \n",
    "    "
   ]
  },
  {
   "cell_type": "markdown",
   "metadata": {},
   "source": [
    "# Part 3 - Methods"
   ]
  },
  {
   "cell_type": "markdown",
   "metadata": {},
   "source": [
    "- Create an empty `list_of_integers`.\n",
    "- Write a function that counts from zero, and adding 1 each loop cycle  \n",
    "- Append this value to the `list_of_integers` at each loop cycle"
   ]
  },
  {
   "cell_type": "code",
   "execution_count": 84,
   "metadata": {},
   "outputs": [
    {
     "name": "stdout",
     "output_type": "stream",
     "text": [
      "[<function z at 0x106d68d08>]\n"
     ]
    }
   ],
   "source": [
    "list_of_integers= []\n",
    "def z(x):\n",
    "    return x+1\n",
    "        \n",
    "\n",
    "    \n",
    "list_of_integers.append(z)\n",
    "print(list_of_integers)"
   ]
  },
  {
   "cell_type": "markdown",
   "metadata": {},
   "source": [
    "Write a loop to check if each element in the `list_of_integers` is an integer using the `.is_integer()` method."
   ]
  },
  {
   "cell_type": "code",
   "execution_count": 85,
   "metadata": {},
   "outputs": [
    {
     "ename": "AttributeError",
     "evalue": "'list' object has no attribute 'is_integer'",
     "output_type": "error",
     "traceback": [
      "\u001b[0;31m---------------------------------------------------------------------------\u001b[0m",
      "\u001b[0;31mAttributeError\u001b[0m                            Traceback (most recent call last)",
      "\u001b[0;32m<ipython-input-85-e7f7d1d96a6b>\u001b[0m in \u001b[0;36m<module>\u001b[0;34m\u001b[0m\n\u001b[0;32m----> 1\u001b[0;31m \u001b[0mlist_of_integers\u001b[0m\u001b[0;34m.\u001b[0m\u001b[0mis_integer\u001b[0m\u001b[0;34m(\u001b[0m\u001b[0;34m)\u001b[0m\u001b[0;34m\u001b[0m\u001b[0;34m\u001b[0m\u001b[0m\n\u001b[0m",
      "\u001b[0;31mAttributeError\u001b[0m: 'list' object has no attribute 'is_integer'"
     ]
    }
   ],
   "source": [
    "list_of_integers.is_integer()\n"
   ]
  },
  {
   "cell_type": "markdown",
   "metadata": {},
   "source": [
    "# Part 4 - Algorithms"
   ]
  },
  {
   "cell_type": "markdown",
   "metadata": {},
   "source": [
    "## PseudoCode\n",
    "\n",
    "First, let's briefly consider the idea of pseudocode. \n",
    "\n",
    "Pseudocode is an informal, 'high-level' sketch or description of a program or algorithm. \n",
    "\n",
    "It will typically resemble the structure of a program, but the details to make it actually run have not been fleshed out. "
   ]
  },
  {
   "cell_type": "markdown",
   "metadata": {},
   "source": [
    "### Pseudocode Human Language\n",
    "\n",
    "Some pseudocode is written in human level language, in a way that sketches out the tasks and general control flow. \n",
    "\n",
    "This highly abstract pseudocode is often not specific to any particular programming language. "
   ]
  },
  {
   "cell_type": "markdown",
   "metadata": {},
   "source": [
    "```\n",
    "# PseudoCode for checking if a student got full credit on assignment\n",
    "\n",
    "function that takes a list of student ids with student grades\n",
    "\n",
    "    create an output object to collect full credit\n",
    "\n",
    "    for student in list of grades\n",
    "\n",
    "        if grade of student is equal to max grade\n",
    "            add to list of full credits\n",
    "\n",
    "    return list of students who got full credit\n",
    "```"
   ]
  },
  {
   "cell_type": "markdown",
   "metadata": {},
   "source": [
    "### Pseudocode in Python format\n",
    "\n",
    "You can also write pseudocode, that is much closer to Python, including Python syntax, but that is more of a template / outline. \n",
    "\n",
    "PseudoCode like this is sometimes just a work-in-progress that is just not yet finished. \n",
    "\n",
    "Note the use of the `pass` keyword - `pass` is just a placeholder keyword, that does nothing."
   ]
  },
  {
   "cell_type": "code",
   "execution_count": null,
   "metadata": {
    "collapsed": true
   },
   "outputs": [],
   "source": [
    "# PseudoCode for a function to email a list of emails, and return a log of what was sent\n",
    "def sent_emails(list_of_emails):\n",
    "\n",
    "    emails_sent = {}  # Define an output variable for the logging\n",
    "\n",
    "    for email in list_of_emails:\n",
    "\n",
    "        # Send email to current student\n",
    "        pass\n",
    "\n",
    "        # Add logging information that email was sent\n",
    "        email_sent[email] = True\n",
    "\n",
    "    return emails_sent"
   ]
  },
  {
   "cell_type": "markdown",
   "metadata": {},
   "source": [
    "## Computation &  Algorithms\n",
    "\n",
    "Both computers and humans are good at some things, and bad at others. However, it tends to be different things that computers and humans are good at. \n",
    "\n",
    "Here is a list of possible tasks that a human and/or computer could try and do:\n",
    "\n",
    "- Given a list of 100K values, find the average and range of the list\n",
    "- Sort an array of randomly generated numbers from smallest to largest\n",
    "- Recognize the saddest part of a movie\n",
    "- Recall specific facts, like answering 'which day of the week was the 1st of June, 1997\n",
    "- Identify the likely country of origin of a person from their accent\n",
    "- Create a meme\n",
    "- Sort a list of 10,000 names alphabetically\n",
    "- Rank memes in order of how funny they are\n",
    "- Given two locations, figure out the best route to drive to get between them\n",
    "- Recognize the emotional state of a person\n",
    "- Flexibly change strategy, based on cues in the environment\n",
    "- Write and perform a winning rap battle \n",
    "- Learn and be able to understand a human language\n",
    "- Learn and be able to understand a programming language\n",
    "- Play tic-tac-toe\n",
    "- Write a review of a movie\n",
    "- Play chess\n",
    "- Play PACMAN"
   ]
  },
  {
   "cell_type": "markdown",
   "metadata": {},
   "source": [
    "### Instructions\n",
    "\n",
    "For the tasks above, we want to try and decide whether it is a task that computers would be better at, that humans would be better at, or if it would be a tie.\n",
    "\n",
    "In small groups (2 or 3 people), pick 3 or 4 examples from the list of tasks above, have a quick discussion about the task and hand and try to answer the question of who (computers and/or humans) this task would be easier for. \n",
    "\n",
    "For each task, try to imagine how you might try and do this in Python. \n",
    "\n",
    "Use pseudocode to sketch out an outline of the procedure. \n",
    "- If you think it is something computers can do well, your pseudocode should roughly cover the whole process.\n",
    "- If you think think it is more of a human thing, try to identify which part of the process, in particular, is difficult to specify within a formal algorithm. \n",
    "\n",
    "As you work through a few examples, make sure you talk through at least one of each of 'computer better' and 'human better' task. \n",
    "\n",
    "Note: as a rule of thumb, computers can do, and are good at anything we can write down an algorithm to complete. \n",
    "\n",
    "So one way to think of this task is to think through if and how you can think of writing an algorithm to complete this task.\n",
    "\n",
    "Below is an example, with an answer for the first listed task."
   ]
  },
  {
   "cell_type": "markdown",
   "metadata": {},
   "source": [
    "#### Example: Given a list of 100K values, find the average and range of the list\n",
    "\n",
    "This is a task that is easier for computers because we can write down a clear set of steps to complete this task (we can write an algorithm). \n",
    "\n",
    "Humans would not be good at completing this task, as there are a lot of steps to complete, and it would be slow, and we might not have the memory to do it.  "
   ]
  },
  {
   "cell_type": "code",
   "execution_count": null,
   "metadata": {
    "collapsed": true
   },
   "outputs": [],
   "source": [
    "# Pseudocode for array statistics\n",
    "def array_statistics():\n",
    "    \n",
    "    # Find the mean of the array. \n",
    "    pass\n",
    "    # To do so:\n",
    "        # Find the total sum of the array\n",
    "        # Find the number of elements in the array\n",
    "        # Divide the sum by the number of elements\n",
    "        \n",
    "    # Find the range of the array. \n",
    "    pass\n",
    "    # To do so:\n",
    "        # Find the maximum value of the array\n",
    "        # Find the minimum value of the array\n",
    "        # Calculate range by subtracting the max from the min for the array\n",
    "    \n",
    "    # Return the mean and range of the array\n",
    "    return None"
   ]
  },
  {
   "cell_type": "code",
   "execution_count": null,
   "metadata": {
    "collapsed": true
   },
   "outputs": [],
   "source": [
    "#1. Sort a list of 10,000 names alphabetically\n",
    "#label the list\n",
    "listexample= ['ear', 'bag', 'table', 'muffin', 'sloth' etc.]\n",
    "#use the method of sorting \".sort\" at the end of the labeled list to alphabetize it\n",
    "listexample.sort()\n",
    "\n",
    "#2.Sort an array of randomly generated numbers from smallest to largest\n",
    "#label the list\n",
    "listexample2= ['1','2','3', '100']\n",
    "# use the method of sorting \".sort(key=int)\"\n",
    "listexample2.sort(key=int)\n",
    "\n",
    "#3. Create a meme would be easier for a human to do since it would be very hard to program a code to determine the funny factor of an image\n",
    "# Also how to relate the picture to human emotions\n",
    "# However, a computer program has to put the text on the picture which it can do:\n",
    "# The code that can be used to do this is selecting a text and within the text to \"print()\" what was typed in by the person.\n",
    "print (\"text just typed in the textbox\")"
   ]
  }
 ],
 "metadata": {
  "kernelspec": {
   "display_name": "Python 3",
   "language": "python",
   "name": "python3"
  },
  "language_info": {
   "codemirror_mode": {
    "name": "ipython",
    "version": 3
   },
   "file_extension": ".py",
   "mimetype": "text/x-python",
   "name": "python",
   "nbconvert_exporter": "python",
   "pygments_lexer": "ipython3",
   "version": "3.7.3"
  },
  "toc": {
   "base_numbering": 1,
   "nav_menu": {},
   "number_sections": false,
   "sideBar": false,
   "skip_h1_title": false,
   "title_cell": "Table of Contents",
   "title_sidebar": "Contents",
   "toc_cell": false,
   "toc_position": {},
   "toc_section_display": false,
   "toc_window_display": false
  }
 },
 "nbformat": 4,
 "nbformat_minor": 2
}
