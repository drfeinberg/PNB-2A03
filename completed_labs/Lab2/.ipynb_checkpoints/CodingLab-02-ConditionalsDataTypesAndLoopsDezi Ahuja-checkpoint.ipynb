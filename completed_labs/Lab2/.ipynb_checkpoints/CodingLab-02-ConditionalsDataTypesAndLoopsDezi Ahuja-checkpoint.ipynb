{
 "cells": [
  {
   "cell_type": "markdown",
   "metadata": {},
   "source": [
    "# Coding Lab 2: Conditionals, Data Types, and Loops\n",
    "# Dezi Ahuja - 400035520\n",
    "\n",
    "Welcome to the second coding lab!\n",
    "\n",
    "CodingLab labs are meant to be interactive - so you should find another person to work together with on this notebook. For this lab, you can either work together on one notebook, or work together but each fill out your own notebook, if you prefer. \n",
    "\n",
    "CodingLabs are also meant to be exploratory. There are broad questions in the notebook that you should explore, and try to answer - but you are also very much encouraged to explore other related ideas as you go! \n",
    "\n",
    "If you have a question about how something works / what something does - try it out, and see what happens!"
   ]
  },
  {
   "cell_type": "markdown",
   "metadata": {},
   "source": [
    "## Part 1: Collection types\n",
    "\n",
    "Collections are Python variable types than can store a 'collection' of items."
   ]
  },
  {
   "cell_type": "markdown",
   "metadata": {},
   "source": [
    "### Collection Questions\n",
    "\n",
    "Create a list with a names of the 7 major neurotransmitters.\n",
    "    - Glutamate\n",
    "    - Gamma-aminobutyric acid (GABBA)\n",
    "    - Serotonin\n",
    "    - Acetylcholine\n",
    "    - Dopamine\n",
    "    - Norepinephrine\n",
    "\n",
    "Call the list `neurotransmitters`."
   ]
  },
  {
   "cell_type": "code",
   "execution_count": 1,
   "metadata": {},
   "outputs": [
    {
     "name": "stdout",
     "output_type": "stream",
     "text": [
      "['Glutamate', 'Gamma-aminobutyric acid (GABBA)', 'Serotonin', 'Acetylcholine', 'Dopamine', 'Norepinephrine']\n"
     ]
    }
   ],
   "source": [
    "neurotransmitters = [\"Glutamate\",\n",
    "                     \"Gamma-aminobutyric acid (GABBA)\",\n",
    "                     \"Serotonin\",\n",
    "                     \"Acetylcholine\",\n",
    "                     \"Dopamine\",\n",
    "                     \"Norepinephrine\"]\n",
    "print(neurotransmitters)\n"
   ]
  },
  {
   "cell_type": "markdown",
   "metadata": {},
   "source": [
    "Use the following cells to check the types of the variables you write are as expected"
   ]
  },
  {
   "cell_type": "code",
   "execution_count": 2,
   "metadata": {},
   "outputs": [
    {
     "data": {
      "text/plain": [
       "list"
      ]
     },
     "execution_count": 2,
     "metadata": {},
     "output_type": "execute_result"
    }
   ],
   "source": [
    "type(neurotransmitters)"
   ]
  },
  {
   "cell_type": "markdown",
   "metadata": {},
   "source": [
    "### Indexing\n",
    "\n",
    "Let's use the `neurotransmitters` list we created above.\n",
    "\n",
    "Given the neurotransmitters list, do the following operations:\n",
    "- Get the length of the list of neurotransmitters (assign this to a variable `number_of_neurotransmitters`)\n",
    "- Get the 1st element of the list (call the selection `neurotransmitter_1`)\n",
    "- Get the last element of the list (call the selection `neurotransmitter_2`)\n",
    "- Get the second to the fourth element of the list (call the selection `neurotransmitter_3`)\n",
    "- Get from the fifth element, to the end of the list (call the selection `end_of_list`)\n",
    "- Get every second element of the list, starting at the first element (call the selection `odd_number_neurotransmitters`)\n",
    "- Get every second element of the list, starting at the second element (call the selection `even_number_neurotransmitters`)\n",
    "\n"
   ]
  },
  {
   "cell_type": "code",
   "execution_count": 3,
   "metadata": {},
   "outputs": [
    {
     "name": "stdout",
     "output_type": "stream",
     "text": [
      "['Glutamate', 'Gamma-aminobutyric acid (GABBA)', 'Serotonin', 'Acetylcholine', 'Dopamine', 'Norepinephrine']\n",
      "6\n",
      "Glutamate\n",
      "Norepinephrine\n",
      "['Gamma-aminobutyric acid (GABBA)', 'Serotonin', 'Acetylcholine']\n",
      "['Dopamine', 'Norepinephrine']\n",
      "['Glutamate', 'Serotonin', 'Dopamine']\n",
      "['Gamma-aminobutyric acid (GABBA)', 'Acetylcholine', 'Norepinephrine']\n"
     ]
    }
   ],
   "source": [
    "print(neurotransmitters)\n",
    "number_of_neurotransmitters = len(neurotransmitters)\n",
    "print(number_of_neurotransmitters)\n",
    "neurotransmitter_1 = neurotransmitters[0]\n",
    "print(neurotransmitter_1)\n",
    "neurotransmitter_2 = neurotransmitters[-1]\n",
    "print(neurotransmitter_2)\n",
    "neurotransmitter_3 = neurotransmitters[1:4]\n",
    "print(neurotransmitter_3)\n",
    "end_of_list =  neurotransmitters[4:6]\n",
    "print(end_of_list)\n",
    "odd_number_neurotransmitters =[neurotransmitters[0],\n",
    "                               neurotransmitters[2],\n",
    "                               neurotransmitters[4]]\n",
    "print(odd_number_neurotransmitters)\n",
    "even_number_neurotransmitters = [neurotransmitters[1],\n",
    "                                neurotransmitters[3],\n",
    "                                neurotransmitters[5]]\n",
    "print(even_number_neurotransmitters)\n"
   ]
  },
  {
   "cell_type": "markdown",
   "metadata": {},
   "source": [
    "### Index Challenge\n",
    "- Use `neurotransmitters.append()` to add `Oxytocin` to the list of neurotransmitters\n",
    "- use `del` to remove `Oxytocin` from the list of neurotransmitters"
   ]
  },
  {
   "cell_type": "code",
   "execution_count": 4,
   "metadata": {},
   "outputs": [
    {
     "name": "stdout",
     "output_type": "stream",
     "text": [
      "['Glutamate', 'Gamma-aminobutyric acid (GABBA)', 'Serotonin', 'Acetylcholine', 'Dopamine', 'Norepinephrine']\n",
      "['Glutamate', 'Gamma-aminobutyric acid (GABBA)', 'Serotonin', 'Acetylcholine', 'Dopamine', 'Norepinephrine', 'Oxytocin']\n",
      "['Glutamate', 'Gamma-aminobutyric acid (GABBA)', 'Serotonin', 'Acetylcholine', 'Dopamine', 'Norepinephrine']\n"
     ]
    }
   ],
   "source": [
    "neurotransmitters = [\"Glutamate\",\n",
    "                     \"Gamma-aminobutyric acid (GABBA)\",\n",
    "                     \"Serotonin\",\n",
    "                     \"Acetylcholine\",\n",
    "                     \"Dopamine\",\n",
    "                     \"Norepinephrine\"]\n",
    "print(neurotransmitters)\n",
    "neurotransmitters.append(\"Oxytocin\")\n",
    "print(neurotransmitters)\n",
    "del(neurotransmitters[6])\n",
    "print(neurotransmitters)\n"
   ]
  },
  {
   "cell_type": "markdown",
   "metadata": {},
   "source": [
    "## Part 2: Conditionals\n",
    "\n",
    "Conditionals a form of control flow for executing certain code if a specific condition is met. "
   ]
  },
  {
   "cell_type": "markdown",
   "metadata": {},
   "source": [
    "### Conditional Questions\n",
    "\n",
    "In this part, we will re-visit some questions about conditionals, and start combining them together with collections. \n",
    "\n",
    "Make sure you can use if/elif/else statements to control which code blocks are run."
   ]
  },
  {
   "cell_type": "markdown",
   "metadata": {},
   "source": [
    "#### Controlling Output With Conditionals\n",
    "\n",
    "You do something depending on whether an item is in a list by typing `if item in list:`  \n",
    "\n",
    "You can check if it's not in the list by typing `if not item in list:`\n",
    "\n",
    "Remember our list of neurotransmitters?\n",
    "- In the cell below, write a statent to check if `Oxytocin` is in the list of neurotransmitters. \n",
    "- If `Oxytocin` is in the list of neurotransmitters, print a statement telling the user that their list is incorrect, and that `Oxytocin` is a neuropeptide, not a neurotransmitter.\n",
    "    - Then delete `Oxytocin` from the list of neurotransmitters\n",
    "    - Then check how many neurotransmitters there are in the list\n",
    "        - If there are 7 neurotransmitters, use the `continue` statement to keep going.\n",
    "        - If there are not 7 neurotransmitters, tell the user to fix their list of neurotransmitters.\n",
    "    - Otherwise, if `Oxytocin` is not in the list of neurotransmitters, tell the user that their list doesn't have `Oxytocin` in it.\n",
    "    - Otherwise, if `Glutamate` and `Serotonin` are both in the list of neurotransmitters, tell the user they have a pretty good list there.\n",
    "    - Otherwise, tell the user something went wrong"
   ]
  },
  {
   "cell_type": "code",
   "execution_count": 5,
   "metadata": {},
   "outputs": [
    {
     "name": "stdout",
     "output_type": "stream",
     "text": [
      "['Glutamate', 'Gamma-aminobutyric acid (GABBA)', 'Serotonin', 'Acetylcholine', 'Dopamine', 'Norepinephrine', 'Oxytocin']\n",
      "Your list is incorrect; oxytocin is a neuropeptide.\n",
      "Fix yr list\n"
     ]
    }
   ],
   "source": [
    "neurotransmitters = [\"Glutamate\",\n",
    "                     \"Gamma-aminobutyric acid (GABBA)\",\n",
    "                    \"Serotonin\",\n",
    "                   \"Acetylcholine\",\n",
    "                    \"Dopamine\",\n",
    "                    \"Norepinephrine\"]\n",
    "\n",
    "neurotransmitters.append(\"Oxytocin\")\n",
    "print(neurotransmitters)\n",
    "\n",
    "if 'Oxytocin' in neurotransmitters:\n",
    "    print('Your list is incorrect; oxytocin is a neuropeptide.')\n",
    "    del(neurotransmitters[6]) \n",
    "    while len(neurotransmitters) == 7:\n",
    "        continue\n",
    "    else:\n",
    "        print(\"Fix yr list\")\n",
    "elif 'Oxytocin' not in neurotransmitters:\n",
    "    print(\"No oxy in list.\") \n",
    "    if \"Glutamate\" and \"Serotonin\" in neurotransmitters:\n",
    "        print(\"The list has glutamate and serotonin. This list is good.\")\n",
    "else:\n",
    "    print(\"Something went wrong\")"
   ]
  },
  {
   "cell_type": "markdown",
   "metadata": {},
   "source": [
    "### Operator Explorations\n",
    "\n",
    "For each of the following questions, start by writing out a guess of what you think it might do. \n",
    "\n",
    "Then, test out each one by writing out some code. \n",
    "\n",
    "Finally, once you have answered the question, using some code, add a comment in the markdown here with the answer. \n",
    "\n",
    "Questions:\n",
    "- Can you include multiple conditions in an if statement?\n",
    "\n",
    "Yes, you can.\n",
    "\n",
    "    - If think so, write an if statement that tests multiple conditions.\n",
    "- What happens if you put an if statement inside an if statement? When would such a statement run?\n",
    "\n",
    "The second if statement would run when its condition was met, immediately after the first if statement's condition was met.\n",
    "\n",
    "    - To explore this, write an if statement that has an embedded if statement in it. \n"
   ]
  },
  {
   "cell_type": "code",
   "execution_count": 6,
   "metadata": {},
   "outputs": [
    {
     "name": "stdout",
     "output_type": "stream",
     "text": [
      "Var is a number between 8 and 10\n",
      "Var is also indivisible by 3\n"
     ]
    }
   ],
   "source": [
    "## YOUR EXPLORATIONS HERE\n",
    "\n",
    "var = 9.1\n",
    "\n",
    "if (var > 8) and (var < 10):\n",
    "    print(\"Var is a number between 8 and 10\")\n",
    "    if (var%3 == 0):\n",
    "        print(\"Var is also a number divisible by 3\")\n",
    "    else:\n",
    "        print(\"Var is also indivisible by 3\")\n",
    "else:\n",
    "    print(\"Var is not a number between 8 and 10\")\n"
   ]
  },
  {
   "cell_type": "markdown",
   "metadata": {},
   "source": [
    "## Part 3: Loops\n",
    "\n",
    "We will now explore two ways to iterate over data in Python - `for` and `while` loops. \n",
    "\n",
    "Each type of loop performs its respective code block until certain conditions are met. Here, we will explore what those conditions are. \n",
    "\n",
    "Note: \"iterate\" means to perform an action repeatedly \n",
    "\n",
    "Note: Sometimes, we accidentally make loops that never end. \n",
    "- If that happens, \"break\" the cell by selecting it and then pressing \"ctrl+c\". Alternatively, press the \"stop\" button (square icon) in the Jupyter toolbar. "
   ]
  },
  {
   "cell_type": "markdown",
   "metadata": {},
   "source": [
    "#### Loops Q1\n",
    "\n",
    "\n",
    "Let's suppose we are writing a program to count the number of times a mouse presses a lever to get a food reward.\n",
    "\n",
    "First, declare a variable called `number_of_presses` that has type int and value zero.\n",
    "\n",
    "Then write a for loop that runs 10 times and use `number_of_presses` to track how many times the loop runs. "
   ]
  },
  {
   "cell_type": "code",
   "execution_count": 7,
   "metadata": {},
   "outputs": [
    {
     "name": "stdout",
     "output_type": "stream",
     "text": [
      "The current number of presses is:  1\n",
      "The current number of presses is:  2\n",
      "The current number of presses is:  3\n",
      "The current number of presses is:  4\n",
      "The current number of presses is:  5\n",
      "The current number of presses is:  6\n",
      "The current number of presses is:  7\n",
      "The current number of presses is:  8\n",
      "The current number of presses is:  9\n",
      "The current number of presses is:  10\n"
     ]
    }
   ],
   "source": [
    "\n",
    "number_of_presses = 0\n",
    "type(number_of_presses)\n",
    "\n",
    "for i in range(15):\n",
    "    number_of_presses += 1\n",
    "    print(\"The current number of presses is: \", number_of_presses)\n",
    "    if number_of_presses == 10:\n",
    "        break\n",
    "    "
   ]
  },
  {
   "cell_type": "markdown",
   "metadata": {},
   "source": [
    "#### Infinite Loops\n",
    "\n",
    "The while loop below will run indefinitely unless someone puts a stop to it! \n",
    "\n",
    "Add your own code that causes the loop to exit when the `number_of_presses` variable reaches 10. You can use `break` to do this. \n",
    "\n",
    "Note: Sometimes, we accidentally make loops that never end - try that by running the cell below before adding \n",
    "\n",
    "If that happens, interrupt the cell by selecting it and then pressing \"ctrl+c\". Alternatively, press the \"stop\" button (square icon) in the Jupyter toolbar. "
   ]
  },
  {
   "cell_type": "code",
   "execution_count": 8,
   "metadata": {},
   "outputs": [
    {
     "name": "stdout",
     "output_type": "stream",
     "text": [
      "the value of 'number_of_presses' = 0\n",
      "the value of 'number_of_presses' = 1\n",
      "the value of 'number_of_presses' = 2\n",
      "the value of 'number_of_presses' = 3\n",
      "the value of 'number_of_presses' = 4\n",
      "the value of 'number_of_presses' = 5\n",
      "the value of 'number_of_presses' = 6\n",
      "the value of 'number_of_presses' = 7\n",
      "the value of 'number_of_presses' = 8\n",
      "the value of 'number_of_presses' = 9\n"
     ]
    }
   ],
   "source": [
    "number_of_presses = 0\n",
    "\n",
    "while True:\n",
    "    \n",
    "    print(\"the value of 'number_of_presses' = {}\".format(number_of_presses))\n",
    "    number_of_presses +=1\n",
    "    if number_of_presses == 10:\n",
    "        break\n"
   ]
  },
  {
   "cell_type": "markdown",
   "metadata": {},
   "source": [
    "###  Loop Explorations\n",
    "\n",
    "- Write these combinations: \n",
    "    - a `for` loop with a `break`, a `for` loop with a `continue`\n",
    "    - a `while` loop with a `break`, a `for` loop with a `continue`\n",
    "- Write some loops that loop across lists:\n",
    "    - Write a loop that loops across, and prints out, all the elements of a list\n",
    "    - Write a loop that loops across, and prints out, every second element of a list\n",
    "    - Write a loop that loops across, and prints out, every element of a list in reverse order\n",
    "    - Write a loop that loops across, and prints out, the first half of a list\n",
    "- Write a loop with a conditional inside it.\n",
    "- Can you have loops inside loops? If you think so, try and write a nested loop. "
   ]
  },
  {
   "cell_type": "code",
   "execution_count": 9,
   "metadata": {},
   "outputs": [
    {
     "name": "stdout",
     "output_type": "stream",
     "text": [
      "My initial investment is $1000.\n",
      "My student debt is $40000.\n",
      "My compounded interest rate is 1.2%. \n",
      "When will I pay off my student debt, assuming nothing changes?\n",
      "Make an easy-to-read list of bank entries, only displaying entries for years where my deposit is perfectly divisible by 3.\n",
      "\n",
      "My bank account contains $ 1200 after 1 years.\n",
      "My bank account contains $ 1440 after 2 years.\n",
      "My bank account contains $ 1728 after 3 years.\n",
      "My bank account contains $ 18492 after 16 years.\n",
      "My bank account contains $ 26628 after 18 years.\n",
      "My bank account contains $ 46014 after 21 years.\n",
      "\n",
      "You can pay off your debt after 21 years.\n"
     ]
    }
   ],
   "source": [
    "initial_investment = 1000\n",
    "student_debt = 40000\n",
    "years =1\n",
    "print(\"My initial investment is $1000.\\nMy student debt is $40000.\\nMy compounded interest rate is 1.2%. \\nWhen will I pay off my student debt, assuming nothing changes?\\nMake an easy-to-read list of bank entries, only displaying entries for years where my deposit is perfectly divisible by 3.\\n\")\n",
    "\n",
    "for years in range(1,50):\n",
    "    initial_investment = round(initial_investment*1.20)\n",
    "    if (initial_investment%3 == 0):\n",
    "        print(\"My bank account contains $\",initial_investment, \"after\",years,\"years.\")\n",
    "        continue\n",
    "    elif (initial_investment - student_debt > 0):\n",
    "        print(\"\\nYou can pay off your debt after\",years-1, \"years.\")\n",
    "        break\n"
   ]
  },
  {
   "cell_type": "code",
   "execution_count": 10,
   "metadata": {},
   "outputs": [
    {
     "name": "stdout",
     "output_type": "stream",
     "text": [
      "['alpha', 'beta', 'gamma', 'epsilon', 'omega']\n",
      "The current element in the list: alpha\n",
      "The current element in the list: beta\n",
      "The current element in the list: gamma\n",
      "The current element in the list: epsilon\n",
      "The current element in the list: omega\n",
      "These are every element in the original list\n"
     ]
    }
   ],
   "source": [
    "lets = [\"alpha\",\"beta\",\"gamma\",\"epsilon\",\"omega\"]\n",
    "print(lets)\n",
    "for i in range(5):\n",
    "    print(\"The current element in the list:\", lets[i])\n",
    "print(\"These are every element in the original list\")\n"
   ]
  },
  {
   "cell_type": "code",
   "execution_count": 11,
   "metadata": {
    "scrolled": true
   },
   "outputs": [
    {
     "name": "stdout",
     "output_type": "stream",
     "text": [
      "['alpha', 'beta', 'gamma', 'epsilon', 'omega']\n",
      "The current element in the list: beta\n",
      "The current element in the list: epsilon\n",
      "These are every second elements in the original list\n"
     ]
    }
   ],
   "source": [
    "lets = [\"alpha\",\"beta\",\"gamma\",\"epsilon\",\"omega\"]\n",
    "print(lets)\n",
    "for i in range(1,5,2):\n",
    "    print(\"The current element in the list:\", lets[i])\n",
    "print(\"These are every second elements in the original list\")"
   ]
  },
  {
   "cell_type": "code",
   "execution_count": 12,
   "metadata": {
    "scrolled": true
   },
   "outputs": [
    {
     "name": "stdout",
     "output_type": "stream",
     "text": [
      "['alpha', 'beta', 'gamma', 'epsilon', 'omega']\n",
      "The element in the list is: omega\n",
      "The element in the list is: epsilon\n",
      "The element in the list is: gamma\n",
      "The element in the list is: beta\n",
      "The element in the list is: alpha\n",
      "This is the reverse order of the original list.\n"
     ]
    }
   ],
   "source": [
    "lets = [\"alpha\",\"beta\",\"gamma\",\"epsilon\",\"omega\"]\n",
    "print(lets)\n",
    "for i in reversed(lets):\n",
    "    print(\"The element in the list is:\",i)\n",
    "print(\"This is the reverse order of the original list.\")"
   ]
  },
  {
   "cell_type": "code",
   "execution_count": 13,
   "metadata": {
    "scrolled": true
   },
   "outputs": [
    {
     "name": "stdout",
     "output_type": "stream",
     "text": [
      "['alpha', 'beta', 'gamma', 'epsilon', 'omega', 'phi', 1, 2]\n",
      "The current element in the list is: alpha\n",
      "The current element in the list is: beta\n",
      "The current element in the list is: gamma\n",
      "The current element in the list is: epsilon\n",
      "This is the first half of the original list.\n"
     ]
    }
   ],
   "source": [
    "lets = [\"alpha\",\"beta\",\"gamma\",\"epsilon\",\"omega\",\"phi\", 1,2]\n",
    "print(lets)\n",
    "for i in range(8):\n",
    "    print(\"The current element in the list is:\",lets[i])\n",
    "    if i == ((len(lets)/2)-1):\n",
    "        print(\"This is the first half of the original list.\")\n",
    "        break\n"
   ]
  },
  {
   "cell_type": "code",
   "execution_count": 14,
   "metadata": {
    "scrolled": true
   },
   "outputs": [
    {
     "name": "stdout",
     "output_type": "stream",
     "text": [
      "The current rate of neuronal proliferation is: 1 neuron(s) per second.\n",
      "The current rate of neuronal proliferation is: 2 neuron(s) per second.\n",
      "The current rate of neuronal proliferation is: 4 neuron(s) per second.\n",
      "The current rate of neuronal proliferation is: 7 neuron(s) per second.\n",
      "The current rate of neuronal proliferation is: 8 neuron(s) per second.\n",
      "The current rate of neuronal proliferation is: 11 neuron(s) per second.\n",
      "The current rate of neuronal proliferation is: 13 neuron(s) per second.\n",
      "The current rate of neuronal proliferation is: 14 neuron(s) per second.\n",
      "The current rate of neuronal proliferation is: 16 neuron(s) per second.\n",
      "The current rate of neuronal proliferation is: 17 neuron(s) per second.\n",
      "The current rate of neuronal proliferation is: 19 neuron(s) per second.\n"
     ]
    }
   ],
   "source": [
    "neuron = 0\n",
    "while neuron < 20:\n",
    "    neuron += 1\n",
    "    if (neuron%3 == 0) or (neuron%5 == 0):\n",
    "        continue\n",
    "    print(\"The current rate of neuronal proliferation is:\",neuron,\"neuron(s) per second.\")\n",
    "        \n",
    "    "
   ]
  },
  {
   "cell_type": "code",
   "execution_count": 15,
   "metadata": {},
   "outputs": [
    {
     "name": "stdout",
     "output_type": "stream",
     "text": [
      "V1 contains neurons of class a in layer 1\n",
      "Sample 1 contains excitatory neurons\n",
      "Sample 2 contains excitatory neurons\n",
      "Sample 3 contains excitatory neurons\n",
      "Sample 3 was contaminated!\n",
      "V1 contains neurons of class b in layer 2\n",
      "Sample 1 contains excitatory neurons\n",
      "Sample 2 contains excitatory neurons\n",
      "Sample 3 contains excitatory neurons\n",
      "Sample 3 was contaminated!\n",
      "V1 contains neurons of class c in layer 3\n",
      "Sample 1 contains excitatory neurons\n",
      "Sample 2 contains excitatory neurons\n",
      "Sample 3 contains excitatory neurons\n",
      "Sample 3 was contaminated!\n",
      "V1 contains neurons of class d in layer 4\n",
      "Sample 1 contains excitatory neurons\n",
      "Sample 2 contains excitatory neurons\n",
      "Sample 3 contains excitatory neurons\n",
      "Sample 3 was contaminated!\n",
      "V1 contains neurons of class e in layer 5\n",
      "Sample 1 contains excitatory neurons\n",
      "Sample 2 contains excitatory neurons\n",
      "Sample 3 contains excitatory neurons\n",
      "Sample 3 was contaminated!\n",
      "V1 contains neurons of class f in layer 6\n",
      "Sample 1 contains excitatory neurons\n",
      "Sample 2 contains excitatory neurons\n",
      "Sample 3 contains excitatory neurons\n",
      "Sample 3 was contaminated!\n",
      "No more laminar sections to examine!\n"
     ]
    }
   ],
   "source": [
    "neuron = ['a','b','c','d','e','f','g','h']\n",
    "\n",
    "i = 0\n",
    "j = 0\n",
    "\n",
    "while True:\n",
    "    print(\"V1 contains neurons of class\",neuron[i], \"in layer\",i+1)\n",
    "    i += 1\n",
    "    for j in range(3):\n",
    "        j += 1\n",
    "        print(\"Sample\",j,\"contains excitatory neurons\")\n",
    "        if j == 3:\n",
    "            print(\"Sample\",j, \"was contaminated!\")\n",
    "            continue\n",
    "    if i == 6:\n",
    "        print(\"No more laminar sections to examine!\")\n",
    "        break\n",
    "\n"
   ]
  },
  {
   "cell_type": "markdown",
   "metadata": {},
   "source": [
    "1) What happens if you use 'break' all by itself?"
   ]
  },
  {
   "cell_type": "code",
   "execution_count": 17,
   "metadata": {},
   "outputs": [
    {
     "ename": "SyntaxError",
     "evalue": "'break' outside loop (<ipython-input-17-6aaf1f276005>, line 4)",
     "output_type": "error",
     "traceback": [
      "\u001b[1;36m  File \u001b[1;32m\"<ipython-input-17-6aaf1f276005>\"\u001b[1;36m, line \u001b[1;32m4\u001b[0m\n\u001b[1;31mSyntaxError\u001b[0m\u001b[1;31m:\u001b[0m 'break' outside loop\n"
     ]
    }
   ],
   "source": [
    "break"
   ]
  },
  {
   "cell_type": "markdown",
   "metadata": {},
   "source": [
    "2) Using our list of `neurotransmitters` from above, write a `for` loop and `print` out each item in the list."
   ]
  },
  {
   "cell_type": "code",
   "execution_count": 18,
   "metadata": {},
   "outputs": [
    {
     "name": "stdout",
     "output_type": "stream",
     "text": [
      "The current neurotransmitter is: Glutamate\n",
      "The current neurotransmitter is: Gamma-aminobutyric acid (GABBA)\n",
      "The current neurotransmitter is: Serotonin\n",
      "The current neurotransmitter is: Acetylcholine\n",
      "The current neurotransmitter is: Dopamine\n",
      "The current neurotransmitter is: Norepinephrine\n"
     ]
    }
   ],
   "source": [
    "for i in range(6):\n",
    "    print(\"The current neurotransmitter is:\", neurotransmitters[i])\n",
    "    "
   ]
  },
  {
   "cell_type": "markdown",
   "metadata": {},
   "source": [
    "3) Define tuple named `dopaminergic_peptides` containing 3 dopaminergic neuropeptides: cholecystokinin, neurotensin, and glucagon-like peptide-1.  Use the type function to demonstrate that it is indeed a tuple."
   ]
  },
  {
   "cell_type": "code",
   "execution_count": 19,
   "metadata": {},
   "outputs": [
    {
     "data": {
      "text/plain": [
       "tuple"
      ]
     },
     "execution_count": 19,
     "metadata": {},
     "output_type": "execute_result"
    }
   ],
   "source": [
    "dopaminergic_peptides =(\"cholecystokinin\", \"neurotensin\", \"glucagon-like peptide-1\")\n",
    "type(dopaminergic_peptides)"
   ]
  },
  {
   "cell_type": "markdown",
   "metadata": {},
   "source": [
    "4) Write a `for` loop that iterates through the `dopaminergic_peptides` tuple, if the current tuple is `neurotensin`, `continue` the loop."
   ]
  },
  {
   "cell_type": "code",
   "execution_count": 20,
   "metadata": {},
   "outputs": [
    {
     "name": "stdout",
     "output_type": "stream",
     "text": [
      "cholecystokinin\n",
      "glucagon-like peptide-1\n"
     ]
    }
   ],
   "source": [
    "for i in range(3):\n",
    "    if dopaminergic_peptides[i] == \"neurotensin\":\n",
    "        continue\n",
    "    print(dopaminergic_peptides[i])\n",
    "    \n"
   ]
  },
  {
   "cell_type": "markdown",
   "metadata": {},
   "source": [
    "5) Write a `for` loop that iterates through the `dopaminergic_peptides` tuple, if the current tuple is `neurotensin`, `break` the loop."
   ]
  },
  {
   "cell_type": "code",
   "execution_count": 21,
   "metadata": {},
   "outputs": [
    {
     "name": "stdout",
     "output_type": "stream",
     "text": [
      "cholecystokinin\n",
      "neurotensin\n"
     ]
    }
   ],
   "source": [
    "for i in range(2):\n",
    "    print(dopaminergic_peptides[i])\n",
    "    if dopaminergic_peptides[i] == \"neurotensin\":\n",
    "        break\n"
   ]
  },
  {
   "cell_type": "markdown",
   "metadata": {},
   "source": [
    "6) Using our list of `neurotransmitters` from above, write a `for` loop that loops across, and prints out, every second element of the list\n"
   ]
  },
  {
   "cell_type": "code",
   "execution_count": 22,
   "metadata": {},
   "outputs": [
    {
     "name": "stdout",
     "output_type": "stream",
     "text": [
      "The current neurotransmitter is: Gamma-aminobutyric acid (GABBA)\n",
      "The current neurotransmitter is: Acetylcholine\n",
      "The current neurotransmitter is: Norepinephrine\n",
      "Above are the names of every other neurotransmitter in the list.\n"
     ]
    }
   ],
   "source": [
    "for i in range(1,6,2):\n",
    "    print(\"The current neurotransmitter is:\", neurotransmitters[i])\n",
    "print(\"Above are the names of every other neurotransmitter in the list.\")\n",
    "    "
   ]
  },
  {
   "cell_type": "markdown",
   "metadata": {},
   "source": [
    "7) Using our list of `neurotransmitters` from above, write a `for` loop that loops across, and prints out, every element of the list in reverse order\n"
   ]
  },
  {
   "cell_type": "code",
   "execution_count": 23,
   "metadata": {},
   "outputs": [
    {
     "name": "stdout",
     "output_type": "stream",
     "text": [
      "The current neurotransmitter in the list is: Norepinephrine\n",
      "The current neurotransmitter in the list is: Dopamine\n",
      "The current neurotransmitter in the list is: Acetylcholine\n",
      "The current neurotransmitter in the list is: Serotonin\n",
      "The current neurotransmitter in the list is: Gamma-aminobutyric acid (GABBA)\n",
      "The current neurotransmitter in the list is: Glutamate\n",
      "This is the reverse order of the original neurotransmitter list.\n"
     ]
    }
   ],
   "source": [
    "for i in reversed(neurotransmitters):\n",
    "    print(\"The current neurotransmitter in the list is:\",i)\n",
    "print(\"This is the reverse order of the original neurotransmitter list.\")"
   ]
  },
  {
   "cell_type": "markdown",
   "metadata": {},
   "source": [
    "8) Using our list of `neurotransmitters` from above, write a `for`  loop that loops across, and prints out only the first half of the list"
   ]
  },
  {
   "cell_type": "code",
   "execution_count": 24,
   "metadata": {},
   "outputs": [
    {
     "name": "stdout",
     "output_type": "stream",
     "text": [
      "The current neurotransmitter is: Glutamate\n",
      "The current neurotransmitter is: Gamma-aminobutyric acid (GABBA)\n",
      "The current neurotransmitter is: Serotonin\n",
      "This is the first half of the neurotransmitter list, as they are indexed\n"
     ]
    }
   ],
   "source": [
    "for i in range(6):\n",
    "    print('The current neurotransmitter is:', neurotransmitters[i])\n",
    "    if i == ((len(neurotransmitters)/2)-1):\n",
    "        print(\"This is the first half of the neurotransmitter list, as they are indexed\")\n",
    "        break"
   ]
  }
 ],
 "metadata": {
  "kernelspec": {
   "display_name": "Python 3",
   "language": "python",
   "name": "python3"
  },
  "language_info": {
   "codemirror_mode": {
    "name": "ipython",
    "version": 3
   },
   "file_extension": ".py",
   "mimetype": "text/x-python",
   "name": "python",
   "nbconvert_exporter": "python",
   "pygments_lexer": "ipython3",
   "version": "3.6.5"
  },
  "toc": {
   "base_numbering": 1,
   "nav_menu": {},
   "number_sections": false,
   "sideBar": false,
   "skip_h1_title": false,
   "title_cell": "Table of Contents",
   "title_sidebar": "Contents",
   "toc_cell": false,
   "toc_position": {},
   "toc_section_display": false,
   "toc_window_display": false
  }
 },
 "nbformat": 4,
 "nbformat_minor": 2
}
