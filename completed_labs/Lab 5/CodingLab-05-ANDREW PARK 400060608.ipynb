{
 "cells": [
  {
   "cell_type": "markdown",
   "metadata": {},
   "source": [
    "# Coding Lab 05 - Classes"
   ]
  },
  {
   "cell_type": "markdown",
   "metadata": {},
   "source": [
    "## Class - Dog\n",
    "- Create a class called `Dog`\n",
    "- Give the dog a class attribute `mammal` as all dogs are mamals\n",
    "- Create instance attributes `breed`, `size`, and `colour` that will be initialized when we create an instance (hint, use `__init__`)\n",
    "- Create a method called `feed`\n",
    "    - set class attribute `fed` to `True`\n",
    "    - Have the method print to the screen that `The dog has been fed` if `self.fed == True`\n",
    "- Create a new method called `walked`\n",
    "    - set class attribute `walked` to `True`\n",
    "    - Have the method print to the screen that `The dog has been walked` if `self.walked == True`\n",
    "- Create a new method called `happy_dog`\n",
    "    - if the dog has been fed and walked, set class attribute `is_happy` to `True`\n",
    "    - Print whether the dog is happy or not\n",
    "- Create an instance of `Dog` called `fido`, assigning `corgi` to `breed`, `medium` to `size`, and pick a colour for `colour`\n",
    "    - Create 3 other instances with other dog breeds.  You can look up breeds on the internet.\n",
    "- Call each instance attribute for each dog breed\n",
    "- Call the class attribute for `dog`."
   ]
  },
  {
   "cell_type": "code",
   "execution_count": 19,
   "metadata": {},
   "outputs": [
    {
     "name": "stdout",
     "output_type": "stream",
     "text": [
      "corgi\n",
      "medium\n",
      "colour\n",
      "the dog has been fed\n",
      "the dog was been walked\n",
      "the dog is happy\n",
      "cat\n",
      "small\n",
      "red\n",
      "the dog has been fed\n",
      "the dog was been walked\n",
      "the dog is happy\n",
      "poodle\n",
      "medium\n",
      "white\n",
      "the dog has been fed\n",
      "the dog was been walked\n",
      "the dog is happy\n",
      "aussie\n",
      "big\n",
      "black\n",
      "the dog has been fed\n",
      "the dog was been walked\n",
      "the dog is happy\n"
     ]
    }
   ],
   "source": [
    "# I LIKE DOGS\n",
    "class Dog():\n",
    "    mammal = True\n",
    "    \n",
    "    #INSTANCE ATTRIBUTES FOR DOG\n",
    "    def __init__(self, breed, size, colour):\n",
    "        self.breed = breed\n",
    "        self.size = size\n",
    "        self.colour = colour\n",
    "    \n",
    "    #FEEDING DOG\n",
    "    def feed(self):\n",
    "        self.fed = True\n",
    "        if self.fed == True:\n",
    "            print(\"the dog has been fed\")\n",
    "\n",
    "    #WALKING DOG\n",
    "    def walk(self):\n",
    "        self.walked = True\n",
    "        if self.walked == True:\n",
    "            print(\"the dog was been walked\")\n",
    "            \n",
    "    #HAPPY DOG\n",
    "    def happy_dog(self):\n",
    "        if self.fed == True and self.walked == True:\n",
    "            self.is_happy = True\n",
    "            print ('the dog is happy')\n",
    "        else:\n",
    "            print('the dog is not happy')\n",
    "\n",
    "#TYPES OF DOGS\n",
    "fido = Dog('corgi', 'medium','colour')\n",
    "rex = Dog('cat', 'small', 'red')\n",
    "roger = Dog('poodle', 'medium', 'white')\n",
    "dodger = Dog('aussie', 'big', 'black')\n",
    "\n",
    "#TESTING CODE FOR ALL DOGS \n",
    "for i in [fido, rex, roger, dodger]:\n",
    "    \n",
    "    print(i.breed)\n",
    "    print(i.size)\n",
    "    print(i.colour)\n",
    "    i.feed()\n",
    "    i.walk()\n",
    "    i.happy_dog()\n",
    "\n"
   ]
  },
  {
   "cell_type": "code",
   "execution_count": null,
   "metadata": {},
   "outputs": [],
   "source": []
  }
 ],
 "metadata": {
  "kernelspec": {
   "display_name": "Python 3",
   "language": "python",
   "name": "python3"
  },
  "language_info": {
   "codemirror_mode": {
    "name": "ipython",
    "version": 3
   },
   "file_extension": ".py",
   "mimetype": "text/x-python",
   "name": "python",
   "nbconvert_exporter": "python",
   "pygments_lexer": "ipython3",
   "version": "3.6.5"
  },
  "toc": {
   "base_numbering": 1,
   "nav_menu": {},
   "number_sections": false,
   "sideBar": false,
   "skip_h1_title": false,
   "title_cell": "Table of Contents",
   "title_sidebar": "Contents",
   "toc_cell": false,
   "toc_position": {},
   "toc_section_display": false,
   "toc_window_display": false
  }
 },
 "nbformat": 4,
 "nbformat_minor": 2
}
