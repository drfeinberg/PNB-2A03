{
 "cells": [
  {
   "cell_type": "markdown",
   "metadata": {},
   "source": [
    "# Coding Lab 05 - Classes"
   ]
  },
  {
   "cell_type": "markdown",
   "metadata": {},
   "source": [
    "## Class - Dog\n",
    "- Create a class called `Dog`\n",
    "- Give the dog a class attribute `mammal` as all dogs are mamals\n",
    "- Create instance attributes `breed`, `size`, and `colour` that will be initialized when we create an instance (hint, use `__init__`)\n",
    "- Create a method called `feed`\n",
    "    - set class attribute `fed` to `True`\n",
    "    - Have the method print to the screen that `The dog has been fed` if `self.fed == True`\n",
    "- Create a new method called `walked`\n",
    "    - set class attribute `walked` to `True`\n",
    "    - Have the method print to the screen that `The dog has been walked` if `self.walked == True`\n",
    "- Create a new method called `happy_dog`\n",
    "    - if the dog has been fed and walked, set class attribute `is_happy` to `True`\n",
    "    - Print whether the dog is happy or not\n",
    "- Create an instance of `Dog` called `fido`, assigning `corgi` to `breed`, `medium` to `size`, and pick a colour for `colour`\n",
    "    - Create 3 other instances with other dog breeds.  You can look up breeds on the internet.\n",
    "- Call each instance attribute for each dog breed\n",
    "- Call the class attribute for `dog`."
   ]
  },
  {
   "cell_type": "code",
   "execution_count": 99,
   "metadata": {},
   "outputs": [
    {
     "name": "stdout",
     "output_type": "stream",
     "text": [
      "corgi\n",
      "medium\n",
      "blue\n",
      "The dog has been fed\n",
      "The dog as been walked\n",
      "The Dog is Happy\n",
      " \n",
      "bulldog\n",
      "small\n",
      "red\n",
      "The dog has been fed\n",
      "The dog as been walked\n",
      "The Dog is Happy\n",
      " \n",
      "poodle\n",
      "small\n",
      "blue\n",
      "The dog has been fed\n",
      "The dog as been walked\n",
      "The Dog is Happy\n",
      " \n",
      "labrador\n",
      "large\n",
      "yellow\n",
      "The dog has been fed\n",
      "The dog as been walked\n",
      "The Dog is Happy\n",
      " \n",
      "mammal\n"
     ]
    }
   ],
   "source": [
    "# Your work here\n",
    "class dog:\n",
    "    class_of_dog = \"mammal\"\n",
    "\n",
    "    def __init__(self, breed, size, colour):\n",
    "        self.breed = breed\n",
    "        self.size = size\n",
    "        self.colour = colour\n",
    "        self.walked = None\n",
    "        self.fed = None\n",
    "        self.happy = None\n",
    "        \n",
    "    def feed(self):\n",
    "        self.fed = True\n",
    "        if self.fed:\n",
    "            return (\"The dog has been fed\")\n",
    "    def walk(self):\n",
    "        self.walked = True\n",
    "        if self.walked:\n",
    "            return(\"The dog as been walked\")\n",
    "    def happy_dog(self):\n",
    "        if self.fed and self.walked:\n",
    "            self.happy_dog = True\n",
    "            return(\"The Dog is Happy\")\n",
    "        else:\n",
    "            return (\"The Dog is not Happy\")\n",
    "        \n",
    "fido = dog(\"corgi\",\"medium\",\"blue\")\n",
    "tommy = dog(\"bulldog\",\"small\",\"red\")\n",
    "jenny = dog(\"poodle\",\"small\",\"blue\")\n",
    "will = dog(\"labrador\",\"large\",\"yellow\")\n",
    "\n",
    "my_dogs = [fido,tommy,jenny,will]\n",
    "for i in my_dogs:\n",
    "    print(i.breed)\n",
    "    print(i.size)\n",
    "    print(i.colour)\n",
    "    print(i.feed())\n",
    "    print(i.walk())\n",
    "    print(i.happy_dog())\n",
    "    print(\" \")\n",
    "    \n",
    "print(fido.class_of_dog)\n"
   ]
  }
 ],
 "metadata": {
  "kernelspec": {
   "display_name": "Python 3",
   "language": "python",
   "name": "python3"
  },
  "language_info": {
   "codemirror_mode": {
    "name": "ipython",
    "version": 3
   },
   "file_extension": ".py",
   "mimetype": "text/x-python",
   "name": "python",
   "nbconvert_exporter": "python",
   "pygments_lexer": "ipython3",
   "version": "3.6.5"
  },
  "toc": {
   "base_numbering": 1,
   "nav_menu": {},
   "number_sections": false,
   "sideBar": false,
   "skip_h1_title": false,
   "title_cell": "Table of Contents",
   "title_sidebar": "Contents",
   "toc_cell": false,
   "toc_position": {},
   "toc_section_display": false,
   "toc_window_display": false
  }
 },
 "nbformat": 4,
 "nbformat_minor": 2
}
