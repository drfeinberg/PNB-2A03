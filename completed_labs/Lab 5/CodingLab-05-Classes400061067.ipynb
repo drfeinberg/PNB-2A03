{
 "cells": [
  {
   "cell_type": "markdown",
   "metadata": {},
   "source": [
    "# Coding Lab 05 - Classes"
   ]
  },
  {
   "cell_type": "markdown",
   "metadata": {},
   "source": [
    "## Class - Dog\n",
    "- Create a class called `Dog`\n",
    "- Give the dog a class attribute `mammal` as all dogs are mamals\n",
    "- Create instance attributes `breed`, `size`, and `colour` that will be initialized when we create an instance (hint, use `__init__`)\n",
    "- Create a method called `feed`\n",
    "    - set class attribute `fed` to `True`\n",
    "    - Have the method print to the screen that `The dog has been fed` if `self.fed == True`\n",
    "- Create a new method called `walked`\n",
    "    - set class attribute `walked` to `True`\n",
    "    - Have the method print to the screen that `The dog has been walked` if `self.walked == True`\n",
    "- Create a new method called `happy_dog`\n",
    "    - if the dog has been fed and walked, set class attribute `is_happy` to `True`\n",
    "    - Print whether the dog is happy or not\n",
    "- Create an instance of `Dog` called `fido`, assigning `corgi` to `breed`, `medium` to `size`, and pick a colour for `colour`\n",
    "    - Create 3 other instances with other dog breeds.  You can look up breeds on the internet.\n",
    "- Call each instance attribute for each dog breed\n",
    "- Call the class attribute for `dog`."
   ]
  },
  {
   "cell_type": "code",
   "execution_count": 79,
   "metadata": {
    "scrolled": true
   },
   "outputs": [],
   "source": [
    "class Dog():\n",
    "    dog = \"mammal\"\n",
    "    def __init__(self, breed, size, colour):\n",
    "        self.breed = breed\n",
    "        self.size = size\n",
    "        self.colour = colour\n",
    "        self.fed = True\n",
    "        self.walk = True \n",
    "    def feed(self):\n",
    "        if self.fed == True:\n",
    "            return(\"dog has been fed\")\n",
    "        else:\n",
    "            return(\"feed the dog\")\n",
    "    def walked(self):\n",
    "        if self.walk == True:\n",
    "            return('The dog has been walked')\n",
    "        else:\n",
    "            return(\"bring that dog outside mister!\")\n",
    "    def happy_dog(self):\n",
    "        if self.fed == True and self.walk == True:\n",
    "            self.happy = True\n",
    "            return(\"That is one happy dog\")\n",
    "        else:\n",
    "            return(\"that is a sad pupper\")\n",
    "fido= Dog('corgi','medium','magenta')\n",
    "bingo = Dog('Golden Retriever', 'large', 'yellow')\n",
    "scooby = Dog('rottweiler', 'large', 'brown')\n",
    "hutch = Dog('poodle','small','white')\n",
    "\n"
   ]
  },
  {
   "cell_type": "code",
   "execution_count": 75,
   "metadata": {},
   "outputs": [
    {
     "name": "stdout",
     "output_type": "stream",
     "text": [
      "corgi\n",
      "medium\n",
      "magenta\n",
      "dog has been fed\n",
      "The dog has been walked\n",
      "That is one happy dog\n"
     ]
    }
   ],
   "source": [
    "#fido\n",
    "print(fido.breed)\n",
    "print(fido.size)\n",
    "print(fido.colour)\n",
    "print(fido.feed())\n",
    "print(fido.walked())\n",
    "print(fido.happy_dog())"
   ]
  },
  {
   "cell_type": "code",
   "execution_count": 77,
   "metadata": {},
   "outputs": [
    {
     "name": "stdout",
     "output_type": "stream",
     "text": [
      "Golden Retriever\n",
      "large\n",
      "yellow\n",
      "dog has been fed\n",
      "The dog has been walked\n",
      "That is one happy dog\n"
     ]
    }
   ],
   "source": [
    "#bingo\n",
    "print(bingo.breed)\n",
    "print(bingo.size)\n",
    "print(bingo.colour)\n",
    "print(bingo.feed())\n",
    "print(bingo.walked())\n",
    "print(bingo.happy_dog())"
   ]
  },
  {
   "cell_type": "code",
   "execution_count": 76,
   "metadata": {},
   "outputs": [
    {
     "name": "stdout",
     "output_type": "stream",
     "text": [
      "rottweiler\n",
      "large\n",
      "brown\n",
      "dog has been fed\n",
      "The dog has been walked\n",
      "That is one happy dog\n"
     ]
    }
   ],
   "source": [
    "#scooby\n",
    "print(scooby.breed)\n",
    "print(scooby.size)\n",
    "print(scooby.colour)\n",
    "print(scooby.feed())\n",
    "print(scooby.walked())\n",
    "print(scooby.happy_dog())"
   ]
  },
  {
   "cell_type": "code",
   "execution_count": 78,
   "metadata": {},
   "outputs": [
    {
     "name": "stdout",
     "output_type": "stream",
     "text": [
      "poodle\n",
      "small\n",
      "white\n",
      "dog has been fed\n",
      "The dog has been walked\n",
      "That is one happy dog\n"
     ]
    }
   ],
   "source": [
    "print(hutch.breed)\n",
    "print(hutch.size)\n",
    "print(hutch.colour)\n",
    "print(hutch.feed())\n",
    "print(hutch.walked())\n",
    "print(hutch.happy_dog())\n"
   ]
  },
  {
   "cell_type": "code",
   "execution_count": 60,
   "metadata": {},
   "outputs": [
    {
     "data": {
      "text/plain": [
       "'mammal'"
      ]
     },
     "execution_count": 60,
     "metadata": {},
     "output_type": "execute_result"
    }
   ],
   "source": [
    "Dog.dog"
   ]
  },
  {
   "cell_type": "code",
   "execution_count": 72,
   "metadata": {},
   "outputs": [
    {
     "name": "stdout",
     "output_type": "stream",
     "text": [
      "The dog has been walked\n"
     ]
    }
   ],
   "source": []
  },
  {
   "cell_type": "code",
   "execution_count": null,
   "metadata": {},
   "outputs": [],
   "source": []
  }
 ],
 "metadata": {
  "kernelspec": {
   "display_name": "Python 3",
   "language": "python",
   "name": "python3"
  },
  "language_info": {
   "codemirror_mode": {
    "name": "ipython",
    "version": 3
   },
   "file_extension": ".py",
   "mimetype": "text/x-python",
   "name": "python",
   "nbconvert_exporter": "python",
   "pygments_lexer": "ipython3",
   "version": "3.7.3"
  },
  "toc": {
   "base_numbering": 1,
   "nav_menu": {},
   "number_sections": false,
   "sideBar": false,
   "skip_h1_title": false,
   "title_cell": "Table of Contents",
   "title_sidebar": "Contents",
   "toc_cell": false,
   "toc_position": {},
   "toc_section_display": false,
   "toc_window_display": false
  }
 },
 "nbformat": 4,
 "nbformat_minor": 2
}
