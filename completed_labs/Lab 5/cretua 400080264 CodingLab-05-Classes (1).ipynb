{
 "cells": [
  {
   "cell_type": "markdown",
   "metadata": {},
   "source": [
    "# Coding Lab 05 - Classes"
   ]
  },
  {
   "cell_type": "markdown",
   "metadata": {},
   "source": [
    "## Class - Dog\n",
    "- Create a class called `Dog`\n",
    "- Give the dog a class attribute `mammal` as all dogs are mamals\n",
    "- Create instance attributes `breed`, `size`, and `colour` that will be initialized when we create an instance (hint, use `__init__`)\n",
    "- Create a method called `feed`\n",
    "    - set class attribute `fed` to `True`\n",
    "    - Have the method print to the screen that `The dog has been fed` if `self.fed == True`\n",
    "- Create a new method called `walked`\n",
    "    - set class attribute `walked` to `True`\n",
    "    - Have the method print to the screen that `The dog has been walked` if `self.walked == True`\n",
    "- Create a new method called `happy_dog`\n",
    "    - if the dog has been fed and walked, set class attribute `is_happy` to `True`\n",
    "    - Print whether the dog is happy or not\n",
    "- Create an instance of `Dog` called `fido`, assigning `corgi` to `breed`, `medium` to `size`, and pick a colour for `colour`\n",
    "    - Create 3 other instances with other dog breeds.  You can look up breeds on the internet.\n",
    "- Call each instance attribute for each dog breed\n",
    "- Call the class attribute for `dog`."
   ]
  },
  {
   "cell_type": "code",
   "execution_count": 70,
   "metadata": {},
   "outputs": [],
   "source": [
    "class Dog:\n",
    "    dog=\"mammals\"\n",
    "    def __init__(self, n, b, s, c, f, w):\n",
    "        self.name= n\n",
    "        self.breed = b\n",
    "        self.size = s\n",
    "        self.colour = c\n",
    "        self.fed= f\n",
    "        self.walk= w\n",
    "    \n",
    "    def feed(self):\n",
    "        if self.fed== True:\n",
    "            print(\"The dog has been fed\")\n",
    "    \n",
    "    def walked(self):\n",
    "        if self.walk== True:  \n",
    "            print(\"The dog has been walked\")\n",
    "\n",
    "    def happy_dog(self):\n",
    "        if self.fed and self.walk== True:\n",
    "            print(\"The dog is happy\")     \n"
   ]
  },
  {
   "cell_type": "code",
   "execution_count": 71,
   "metadata": {},
   "outputs": [],
   "source": [
    "d1= Dog (\"Fido\", \"corgi\", \"medium\", \"purple\", True, False)\n",
    "d2= Dog (\"Moxie\", \"shih tzu\", \"very small\", \"oreo\", True, True)\n",
    "d3= Dog (\"Fluffy\", \"german shepherd\", \"large\", \"caramel\", False, True)"
   ]
  },
  {
   "cell_type": "code",
   "execution_count": 72,
   "metadata": {},
   "outputs": [
    {
     "name": "stdout",
     "output_type": "stream",
     "text": [
      "The dog has been fed\n"
     ]
    }
   ],
   "source": [
    "d1.feed()"
   ]
  },
  {
   "cell_type": "code",
   "execution_count": 73,
   "metadata": {},
   "outputs": [],
   "source": [
    "d1.walked()"
   ]
  },
  {
   "cell_type": "code",
   "execution_count": 74,
   "metadata": {},
   "outputs": [],
   "source": [
    "d1.happy_dog()"
   ]
  },
  {
   "cell_type": "code",
   "execution_count": 75,
   "metadata": {},
   "outputs": [
    {
     "name": "stdout",
     "output_type": "stream",
     "text": [
      "The dog has been fed\n"
     ]
    }
   ],
   "source": [
    "d2.feed()"
   ]
  },
  {
   "cell_type": "code",
   "execution_count": 76,
   "metadata": {},
   "outputs": [
    {
     "name": "stdout",
     "output_type": "stream",
     "text": [
      "The dog has been walked\n"
     ]
    }
   ],
   "source": [
    "d2.walked()"
   ]
  },
  {
   "cell_type": "code",
   "execution_count": 77,
   "metadata": {},
   "outputs": [
    {
     "name": "stdout",
     "output_type": "stream",
     "text": [
      "The dog is happy\n"
     ]
    }
   ],
   "source": [
    "d2.happy_dog()"
   ]
  },
  {
   "cell_type": "code",
   "execution_count": 78,
   "metadata": {},
   "outputs": [],
   "source": [
    "d3.feed()"
   ]
  },
  {
   "cell_type": "code",
   "execution_count": 79,
   "metadata": {},
   "outputs": [
    {
     "name": "stdout",
     "output_type": "stream",
     "text": [
      "The dog has been walked\n"
     ]
    }
   ],
   "source": [
    "d3.walked()"
   ]
  },
  {
   "cell_type": "code",
   "execution_count": 80,
   "metadata": {},
   "outputs": [],
   "source": [
    "d3.happy_dog()"
   ]
  }
 ],
 "metadata": {
  "kernelspec": {
   "display_name": "Python 3",
   "language": "python",
   "name": "python3"
  },
  "language_info": {
   "codemirror_mode": {
    "name": "ipython",
    "version": 3
   },
   "file_extension": ".py",
   "mimetype": "text/x-python",
   "name": "python",
   "nbconvert_exporter": "python",
   "pygments_lexer": "ipython3",
   "version": "3.7.3"
  },
  "toc": {
   "base_numbering": 1,
   "nav_menu": {},
   "number_sections": false,
   "sideBar": false,
   "skip_h1_title": false,
   "title_cell": "Table of Contents",
   "title_sidebar": "Contents",
   "toc_cell": false,
   "toc_position": {},
   "toc_section_display": false,
   "toc_window_display": false
  }
 },
 "nbformat": 4,
 "nbformat_minor": 2
}
