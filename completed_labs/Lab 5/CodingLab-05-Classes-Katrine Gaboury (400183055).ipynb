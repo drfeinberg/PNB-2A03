{
 "cells": [
  {
   "cell_type": "markdown",
   "metadata": {},
   "source": [
    "# Coding Lab 05 - Classes"
   ]
  },
  {
   "cell_type": "markdown",
   "metadata": {},
   "source": [
    "## Class - Dog\n",
    "- Create a class called `Dog`\n",
    "- Give the dog a class attribute `mammal` as all dogs are mamals\n",
    "- Create instance attributes `breed`, `size`, and `colour` that will be initialized when we create an instance (hint, use `__init__`)\n",
    "- Create a method called `feed`\n",
    "    - set class attribute `fed` to `True`\n",
    "    - Have the method print to the screen that `The dog has been fed` if `self.fed == True`\n",
    "- Create a new method called `walked`\n",
    "    - set class attribute `walked` to `True`\n",
    "    - Have the method print to the screen that `The dog has been walked` if `self.walked == True`\n",
    "- Create a new method called `happy_dog`\n",
    "    - if the dog has been fed and walked, set class attribute `is_happy` to `True`\n",
    "    - Print whether the dog is happy or not\n",
    "- Create an instance of `Dog` called `fido`, assigning `corgi` to `breed`, `medium` to `size`, and pick a colour for `colour`\n",
    "    - Create 3 other instances with other dog breeds.  You can look up breeds on the internet.\n",
    "- Call each instance attribute for each dog breed\n",
    "- Call the class attribute for `dog`."
   ]
  },
  {
   "cell_type": "code",
   "execution_count": 11,
   "metadata": {},
   "outputs": [
    {
     "name": "stdout",
     "output_type": "stream",
     "text": [
      "corgi\n",
      "sheltie\n",
      "cockapoo\n",
      "golden retriever\n",
      "True\n"
     ]
    }
   ],
   "source": [
    "# Your work here\n",
    "#This lab is by Katrine Gaboury: 400183055\n",
    "class Dog:\n",
    "    mammal = True\n",
    "    def __init__(self, breed, size, colour):\n",
    "        self.breed = breed\n",
    "        self.size = size\n",
    "        self.colour = colour\n",
    "    def feed(self):\n",
    "        fed = True \n",
    "        if self.fed == True:\n",
    "            print(\"The dog has been fed.\")\n",
    "    def walked(self):\n",
    "        walked = True\n",
    "        if self.walked == True:\n",
    "            print(\"The dog has been walked.\")\n",
    "    def happy_dog(self):\n",
    "        is_happy = True\n",
    "        if self.fed and self.walked:\n",
    "            print(\"The dog is happy.\")\n",
    "            \n",
    "Fido = Dog('corgi', 'medium','brown')\n",
    "Willow = Dog('sheltie', 'small','sable')\n",
    "Clover = Dog('cockapoo', 'medium','white')\n",
    "Rosie = Dog('golden retriever','large','golden yellow')\n",
    "\n",
    "for pup in [Fido, Willow, Clover, Rosie]:\n",
    "    print(pup.breed)\n",
    "    \n",
    "print(Dog.mammal)"
   ]
  },
  {
   "cell_type": "code",
   "execution_count": null,
   "metadata": {},
   "outputs": [],
   "source": []
  }
 ],
 "metadata": {
  "kernelspec": {
   "display_name": "Python 3",
   "language": "python",
   "name": "python3"
  },
  "language_info": {
   "codemirror_mode": {
    "name": "ipython",
    "version": 3
   },
   "file_extension": ".py",
   "mimetype": "text/x-python",
   "name": "python",
   "nbconvert_exporter": "python",
   "pygments_lexer": "ipython3",
   "version": "3.7.3"
  },
  "toc": {
   "base_numbering": 1,
   "nav_menu": {},
   "number_sections": false,
   "sideBar": false,
   "skip_h1_title": false,
   "title_cell": "Table of Contents",
   "title_sidebar": "Contents",
   "toc_cell": false,
   "toc_position": {},
   "toc_section_display": false,
   "toc_window_display": false
  }
 },
 "nbformat": 4,
 "nbformat_minor": 2
}
