{
 "cells": [
  {
   "cell_type": "markdown",
   "metadata": {},
   "source": [
    "# Coding Lab 05 - Classes"
   ]
  },
  {
   "cell_type": "markdown",
   "metadata": {},
   "source": [
    "## Class - Dog\n",
    "- Create a class called `Dog`\n",
    "- Give the dog a class attribute `mammal` as all dogs are mammals\n",
    "- Create instance attributes `breed`, `size`, and `colour` that will be initialized when we create an instance (hint, use `__init__`)\n",
    "- Create a method called `feed`\n",
    "    - set instance attribute `fed` to `True`\n",
    "    - Have the method print to the screen that `The dog has been fed` if `self.fed == True`\n",
    "- Create a new method called `walked`\n",
    "    - set instance attribute `walked` to `True`\n",
    "    - Have the method print to the screen that `The dog has been walked` if `self.walked == True`\n",
    "- Create a new method called `happy_dog`\n",
    "    - if the dog has been fed and walked, set instance attribute `is_happy` to `True`\n",
    "    - Print whether the dog is happy or not\n",
    "- Create an instance of `Dog` called `fido`, assigning `corgi` to `breed`, `medium` to `size`, and pick a colour for `colour`\n",
    "    - Create 3 other instances with other dog breeds.  You can look up breeds on the internet.\n",
    "- Call each instance attribute for each dog breed\n",
    "- Call the class attribute for `dog`.\n",
    "\n",
    "\n",
    "edit:\n",
    "\"I accidentally asked you to create class attributes for walked, fed, and happy_dog.  These should be instance attributes (i.e. start with self.)  You may have to declare them as None in __init__.\n",
    "Best,\n",
    "David\""
   ]
  },
  {
   "cell_type": "code",
   "execution_count": 32,
   "metadata": {},
   "outputs": [],
   "source": [
    "class Dog:\n",
    "    # mammal is a class attribute - you could reference it by typing \"Dog.mammal\" later\n",
    "    dog = 'mammal'\n",
    "    \n",
    "    #these input variables are placeholders for what will be defined later.\n",
    "    def __init__(self, breed, size, colour):\n",
    "        #.breed is an instance attribute - it hangs off of a \"self\" instance\n",
    "        self.breed = breed\n",
    "        self.size = size\n",
    "        self.colour = colour\n",
    "        self.fed = True\n",
    "        self.walked = True\n",
    "        #try to always set all the attributes to SOMETHING. You only figure out if the instance is_happy\n",
    "        # by calling the function later. So far it doesn't know at all\n",
    "        self.is_happy = None\n",
    "    \n",
    "    def has_been_fed(self): #\"fed\" is a method\n",
    "        if self.fed == True:\n",
    "            return(\"The dog has been fed\")\n",
    "        else:\n",
    "            return(\"The dog has not been fed\")\n",
    "            \n",
    "    def has_been_walked(self):\n",
    "        if self.walked == True:\n",
    "            return(\"The dog has been walked\")\n",
    "        else:\n",
    "            return(\"The dog has not been walked\")\n",
    "        \n",
    "    def happy_dog(self):\n",
    "        if self.fed == True and self.walked == True:\n",
    "            self.is_happy = True\n",
    "            return(\"The dog is happy\")\n",
    "        else:\n",
    "            self.is_happy = False\n",
    "            return(\"The dog is not happy\")\n",
    "    \n",
    "    #just for fun\n",
    "    def return_attributes(self):\n",
    "        return 'Breed={} Size={} Colour={}'.format(self.breed, self.size, self.colour)\n",
    "        \n",
    "#calls the class, and the first __init__ method in the class, and assigns the name\n",
    "#[\"newly created empty object\"] to self, and uses all those \"\" as the input parameters\n",
    "#'cheddar' is a variable that references an instance of a class object. yikes.\n",
    "cheddar = Dog('corgi', 'medium', 'brown')\n",
    "dora = Dog('westie', 'small', 'pink colar')\n",
    "callie = Dog('westie', 'very small', 'purple colar')\n",
    "daisy = Dog('not sure', 'very tiny', 'black and white')"
   ]
  },
  {
   "cell_type": "code",
   "execution_count": 33,
   "metadata": {},
   "outputs": [
    {
     "name": "stdout",
     "output_type": "stream",
     "text": [
      "cheddar attributes:\n",
      "corgi\n",
      "medium\n",
      "brown\n",
      "True\n",
      "True\n",
      "True\n",
      "before running 'happy_dog', None\n",
      "now that we've run the method 'happy_dog,' True\n",
      "\n",
      "dora attributes:\n",
      "westie\n",
      "small\n",
      "pink colar\n",
      "True\n",
      "True\n",
      "None\n",
      "\n",
      "callie attributes:\n",
      "westie\n",
      "very small\n",
      "purple colar\n",
      "True\n",
      "True\n",
      "None\n",
      "\n",
      "daisy attributes:\n",
      "not sure\n",
      "very tiny\n",
      "black and white\n",
      "True\n",
      "True\n",
      "None\n"
     ]
    }
   ],
   "source": [
    "#calling each instance attribute\n",
    "print(\"cheddar attributes:\")\n",
    "print(cheddar.breed)\n",
    "print(cheddar.size)\n",
    "print(cheddar.colour)\n",
    "print(cheddar.fed)\n",
    "print(cheddar.fed)\n",
    "print(cheddar.walked)\n",
    "print(\"before running 'happy_dog',\", cheddar.is_happy)\n",
    "cheddar.happy_dog()\n",
    "print(\"now that we've run the method 'happy_dog,'\", cheddar.is_happy)\n",
    "\n",
    "print(\"\\ndora attributes:\")\n",
    "print(dora.breed)\n",
    "print(dora.size)\n",
    "print(dora.colour)\n",
    "print(dora.fed)\n",
    "print(dora.walked)\n",
    "print(dora.is_happy)\n",
    "\n",
    "print(\"\\ncallie attributes:\")\n",
    "print(callie.breed)\n",
    "print(callie.size)\n",
    "print(callie.colour)\n",
    "print(callie.fed)\n",
    "print(callie.walked)\n",
    "print(callie.is_happy)\n",
    "\n",
    "print(\"\\ndaisy attributes:\")\n",
    "print(daisy.breed)\n",
    "print(daisy.size)\n",
    "print(daisy.colour)\n",
    "print(daisy.fed)\n",
    "print(daisy.walked)\n",
    "print(daisy.is_happy)"
   ]
  },
  {
   "cell_type": "code",
   "execution_count": 34,
   "metadata": {},
   "outputs": [
    {
     "data": {
      "text/plain": [
       "'mammal'"
      ]
     },
     "execution_count": 34,
     "metadata": {},
     "output_type": "execute_result"
    }
   ],
   "source": [
    "Dog.dog"
   ]
  },
  {
   "cell_type": "code",
   "execution_count": 35,
   "metadata": {},
   "outputs": [
    {
     "data": {
      "text/plain": [
       "'Breed=corgi Size=medium Colour=brown'"
      ]
     },
     "execution_count": 35,
     "metadata": {},
     "output_type": "execute_result"
    }
   ],
   "source": [
    "#just for fun\n",
    "cheddar.return_attributes()"
   ]
  }
 ],
 "metadata": {
  "kernelspec": {
   "display_name": "Python 3",
   "language": "python",
   "name": "python3"
  },
  "language_info": {
   "codemirror_mode": {
    "name": "ipython",
    "version": 3
   },
   "file_extension": ".py",
   "mimetype": "text/x-python",
   "name": "python",
   "nbconvert_exporter": "python",
   "pygments_lexer": "ipython3",
   "version": "3.7.3"
  },
  "toc": {
   "base_numbering": 1,
   "nav_menu": {},
   "number_sections": false,
   "sideBar": false,
   "skip_h1_title": false,
   "title_cell": "Table of Contents",
   "title_sidebar": "Contents",
   "toc_cell": false,
   "toc_position": {},
   "toc_section_display": false,
   "toc_window_display": false
  }
 },
 "nbformat": 4,
 "nbformat_minor": 2
}
