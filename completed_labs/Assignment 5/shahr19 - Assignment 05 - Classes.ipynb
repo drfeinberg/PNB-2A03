{
 "cells": [
  {
   "cell_type": "markdown",
   "metadata": {},
   "source": [
    "# Assignment 5: Classes"
   ]
  },
  {
   "cell_type": "markdown",
   "metadata": {},
   "source": [
    "## Overview\n",
    "\n",
    "This assignment covers Classes.  We will be using the `assert` function to test our classes out.  The code for that is provided to you.  No need to worry."
   ]
  },
  {
   "cell_type": "markdown",
   "metadata": {},
   "source": [
    "## Creating a Class\n",
    "\n",
    "- We can start with a class object to make a 'schedule book' for our course Office Hours.\n",
    "\n",
    "- Create a class called OfficeHours\n",
    "\n",
    "    - Class Attributes:\n",
    "        course, which has the value \"PNB2A03\"\n",
    "    - Instance Attibutes:\n",
    "        - name : string\n",
    "        - day : string\n",
    "        - time : string\n",
    "        - place : string\n",
    "        - Note: all these attributes should be passed into the __init__, and attached to the object in there.\n",
    "    - Method\n",
    "        - check()\n",
    "            - This method should print out information, to look something like:\n",
    "                - Dr Feinberg's office hours are on Mondays at 10:00 in PC 103.\n",
    "                - Note that this should use the instance attributes to print out name, day, time & place of the particular instance.\n"
   ]
  },
  {
   "cell_type": "code",
   "execution_count": 7,
   "metadata": {},
   "outputs": [],
   "source": [
    "# YOUR CODE HERE\n",
    "class OfficeHours():\n",
    "    course = \"PNB2A03\"\n",
    "    def __init__(self,name,day,time,place):\n",
    "        self.name = name\n",
    "        self.day = day\n",
    "        self.time = time\n",
    "        self.place = place\n",
    "    def check(self):\n",
    "        return self.name + \"'s office hours are on \" + self.day + \"s at \" + self.time + \" in \" + self.place"
   ]
  },
  {
   "cell_type": "code",
   "execution_count": 8,
   "metadata": {},
   "outputs": [
    {
     "name": "stdout",
     "output_type": "stream",
     "text": [
      "Instructor's office hours are on Tuesdays at 12:30 in CSB115\n"
     ]
    }
   ],
   "source": [
    "# Test if your class works\n",
    "\n",
    "name = \"Instructor\"\n",
    "day = \"Tuesday\"\n",
    "time = \"12:30\"\n",
    "place = \"CSB115\"\n",
    "\n",
    "test_oh = OfficeHours(name, day, time, place)\n",
    "print(test_oh.check())\n"
   ]
  },
  {
   "cell_type": "markdown",
   "metadata": {},
   "source": [
    "Here is a list of some office hours:\n",
    "\n",
    "    Tom - Monday @ 12:30 in BSB 212e\n",
    "    Rob - Wednesday @ 2:00 in PC 114\n",
    "    Daril - Tuesday @ 10:00 in ABB 115\n",
    "    Paolo - Friday @ 1:00 in MDCL 106\n",
    "\n",
    "Create a new instance of the OfficeHours class for each of the office hours listed above.\n",
    "\n",
    "Then store each of these instances together in a list called all_office_hours.\n"
   ]
  },
  {
   "cell_type": "code",
   "execution_count": 9,
   "metadata": {},
   "outputs": [],
   "source": [
    "# YOUR CODE HERE\n",
    "all_office_hours = [OfficeHours(\"Tom\",\"Monday\",\"12:30\",\"BSB 212e\"),\n",
    "                OfficeHours(\"Rob\",\"Wednesday\",\"2:00\",\"PC 114\"),\n",
    "                OfficeHours(\"Daril\",\"Tuesday\",\"10:00\",\"ABB 115\"),\n",
    "                OfficeHours(\"Paolo\",\"Friday\",\"1:00\",\"MDCL 106\")]"
   ]
  },
  {
   "cell_type": "code",
   "execution_count": 10,
   "metadata": {},
   "outputs": [],
   "source": [
    "# Test if your class works\n",
    "assert isinstance(all_office_hours, list)\n",
    "assert len(all_office_hours) == 4\n",
    "for item in all_office_hours:\n",
    "    assert isinstance(item, OfficeHours)\n",
    "    assert item.name in ['Tom', 'Rob', 'Daril', 'Paolo']"
   ]
  },
  {
   "cell_type": "markdown",
   "metadata": {},
   "source": [
    "Now write a function called check_all that will take in a list of OfficeHour objects, and will call the check method on each one, using a loop to loop across each element in the input list.\n",
    "\n",
    "Call this function on your all_office_hours list to make sure that it works as expected.\n",
    "\n",
    "You should see that running this function prints out a string of information for each object, that looks like:\n",
    "\n",
    "    Tom's office hours are on Monday at 12:30 in BSB 212e.\n",
    "    Rob's office hours are on Wednesday at 2:00 in PC 114.\n",
    "    Daril's office hours are on Tuesday at 10:00 in ABB 115.\n",
    "    Paolo's office hours are on Friday at 1:00 in MDCL 106."
   ]
  },
  {
   "cell_type": "code",
   "execution_count": 11,
   "metadata": {},
   "outputs": [
    {
     "name": "stdout",
     "output_type": "stream",
     "text": [
      "Tom's office hours are on Mondays at 12:30 in BSB 212e\n",
      "Rob's office hours are on Wednesdays at 2:00 in PC 114\n",
      "Daril's office hours are on Tuesdays at 10:00 in ABB 115\n",
      "Paolo's office hours are on Fridays at 1:00 in MDCL 106\n"
     ]
    }
   ],
   "source": [
    "# YOUR CODE HERE\n",
    "def check_all(list_of_OH):\n",
    "    for i in list_of_OH:\n",
    "        print(i.check())\n",
    "    \n",
    "check_all(all_office_hours)"
   ]
  },
  {
   "cell_type": "markdown",
   "metadata": {},
   "source": [
    "##  Car Inventory\n",
    "For this question you will create an object to store information on an inventory of cars.\n",
    "\n",
    "#### Create a class called CarInventory\n",
    "\n",
    "    Instance Attibutes:\n",
    "        n_cars : int\n",
    "        cars : list\n",
    "    Methods\n",
    "        add_car()\n",
    "        compare()\n",
    "\n",
    "#### Details:\n",
    "\n",
    "    The constructor (__init__) should take no inputs, but set `n_cars` to `0`, and `cars` to be `[]` (an empty list).\n",
    "\n",
    "#### Method: ` add_car`\n",
    "\n",
    "Input(s):\n",
    "\n",
    "    manufacturer : string\n",
    "    model : string\n",
    "    year : int\n",
    "    mpg : float\n",
    "\n",
    "Procedure(s):\n",
    "\n",
    "    Create a dictionary from the values passed with the corresponding keys 'manufacturer', 'model', 'year' and 'mpg'\n",
    "    Append this dictionary to the cars attribute\n",
    "    Increment the `n_cars` attribute by 1\n",
    "\n",
    "#### Method: `compare`\n",
    "\n",
    "This method will compare all the cars on a specified attribute ('year', or 'mpg'), and find the highest and lowest values. It will return either the highest of lowest value, depending on the setting in a parameter direction.\n",
    "\n",
    "Input(s):\n",
    "\n",
    "    attribute : string\n",
    "    direction : string, default: 'highest'\n",
    "\n",
    "Procedure(s):\n",
    "\n",
    "    Initialize a variable called lowest to be the 0th element of `cars`, and another variable highest to be the same\n",
    "    Loop through each `car` in `cars`\n",
    "        If the value of the attribute for the car is less than the car stored as lowest, replace lowest to be the current car\n",
    "        Similarly, if the value of the attribute for the car is greater than the car stored as highest, replace highest to be the current car\n",
    "    After the loop, if the value of direction is 'highest', set a new variable output to be the variable highest\n",
    "        Else if the value of direction is 'lowest', set output to be lowest\n",
    "    Return output\n"
   ]
  },
  {
   "cell_type": "code",
   "execution_count": 6,
   "metadata": {},
   "outputs": [],
   "source": [
    "# YOUR CODE HERE\n",
    "class CarInventory:\n",
    "    def __init__(self):\n",
    "        self.n_cars = 0\n",
    "        self.cars = []\n",
    "    def add_car(self,manufacturer,model,year,mpg):\n",
    "        specific_car = {\"manufacturer\":manufacturer,\"model\":model,\"year\":year,\"mpg\":mpg}\n",
    "        self.cars.append(specific_car)\n",
    "        self.n_cars += 1\n",
    "    def compare(self,attribute,direction):\n",
    "        lowest = self.cars[0]\n",
    "        highest = self.cars[0]\n",
    "        for i in self.cars:\n",
    "            if i[attribute]<lowest[attribute]:\n",
    "                lowest = i\n",
    "            elif i[attribute] > highest[attribute]:\n",
    "                highest = i\n",
    "        if direction == \"highest\":\n",
    "            output = highest\n",
    "        else:\n",
    "            output = lowest\n",
    "        return output\n"
   ]
  },
  {
   "cell_type": "code",
   "execution_count": 7,
   "metadata": {},
   "outputs": [],
   "source": [
    "# Tests for the object\n",
    "assert CarInventory\n",
    "test_car_inv = CarInventory()\n",
    "assert isinstance(test_car_inv, CarInventory)\n",
    "assert test_car_inv.n_cars == 0\n",
    "assert isinstance(test_car_inv.cars, list)"
   ]
  },
  {
   "cell_type": "code",
   "execution_count": 8,
   "metadata": {},
   "outputs": [],
   "source": [
    "# Tests for add_car method\n",
    "test_inv = CarInventory()\n",
    "test_inv.add_car('Toyota', 'Prius', 2012, 36)\n",
    "assert test_inv.n_cars == 1\n",
    "assert test_inv.cars[0] == {'manufacturer': 'Toyota', 'model': 'Prius', 'year': 2012, 'mpg':36}"
   ]
  },
  {
   "cell_type": "code",
   "execution_count": 9,
   "metadata": {},
   "outputs": [],
   "source": [
    "# Tests for compare method\n",
    "test_inv = CarInventory()\n",
    "test_inv.add_car('Toyota', 'Prius', 2012, 36)\n",
    "test_inv.add_car('BMW', 'M3', 2017, 27)\n",
    "assert test_inv.compare('mpg','highest') == {'manufacturer': 'Toyota', 'model': 'Prius', 'year': 2012, 'mpg': 36}\n",
    "assert test_inv.compare('year', 'lowest') == {'manufacturer': 'Toyota', 'model': 'Prius', 'year': 2012, 'mpg': 36}"
   ]
  },
  {
   "cell_type": "markdown",
   "metadata": {},
   "source": [
    "### Using our class\n",
    "\n",
    "Using the inventory instance created for you in the cell below, do the following:\n",
    "\n",
    "- Use compare to get the car with the highest mpg, and get the manufacturer of that car from the returned car\n",
    "    - Store the answer in a variable called highest_mpg\n",
    "- Use compare to get the car with the lowest year, and get the model of that car from the returned car\n",
    "    - Store the answer in a variable called oldest_car\n"
   ]
  },
  {
   "cell_type": "code",
   "execution_count": 10,
   "metadata": {},
   "outputs": [],
   "source": [
    "# The following code provided for you\n",
    "inventory = CarInventory()\n",
    "inventory.add_car('Ford', 'Mustang', 2004, 20)\n",
    "inventory.add_car('Honda', 'Civic', 2014, 40)\n",
    "inventory.add_car('Toyota', 'Corrolla', 2010, 50)\n",
    "inventory.add_car('Tesla', 'S', 2017, 1000)"
   ]
  },
  {
   "cell_type": "code",
   "execution_count": 11,
   "metadata": {},
   "outputs": [
    {
     "data": {
      "text/plain": [
       "{'manufacturer': 'Ford', 'model': 'Mustang', 'year': 2004, 'mpg': 20}"
      ]
     },
     "execution_count": 11,
     "metadata": {},
     "output_type": "execute_result"
    }
   ],
   "source": [
    "# Example: Get the least efficient car (lowest mpg)\n",
    "inventory.compare('mpg', 'lowest')"
   ]
  },
  {
   "cell_type": "code",
   "execution_count": 12,
   "metadata": {},
   "outputs": [
    {
     "data": {
      "text/plain": [
       "1000"
      ]
     },
     "execution_count": 12,
     "metadata": {},
     "output_type": "execute_result"
    }
   ],
   "source": [
    "# Example: Get the newest car (highest year), and extract it's mpg\n",
    "inventory.compare('year', 'highest')['mpg']"
   ]
  },
  {
   "cell_type": "code",
   "execution_count": 13,
   "metadata": {},
   "outputs": [],
   "source": [
    "# YOUR CODE HERE\n",
    "highest_mpg = inventory.compare('mpg','highest')['manufacturer']\n",
    "oldest_car = inventory.compare('year','lowest')['model']"
   ]
  },
  {
   "cell_type": "code",
   "execution_count": 14,
   "metadata": {},
   "outputs": [],
   "source": [
    "# Test your code\n",
    "\n",
    "assert isinstance(highest_mpg, str)\n",
    "assert highest_mpg in ['Ford', 'Honda', 'Toyota', 'Tesla']\n",
    "\n",
    "assert isinstance(oldest_car, str)\n",
    "assert oldest_car in ['Mustang', 'Civic', 'Corrola', 'S']"
   ]
  },
  {
   "cell_type": "code",
   "execution_count": 15,
   "metadata": {},
   "outputs": [],
   "source": [
    "# Test your code\n",
    "\n",
    "assert highest_mpg\n",
    "assert oldest_car"
   ]
  },
  {
   "cell_type": "code",
   "execution_count": null,
   "metadata": {},
   "outputs": [],
   "source": []
  },
  {
   "cell_type": "code",
   "execution_count": null,
   "metadata": {},
   "outputs": [],
   "source": []
  }
 ],
 "metadata": {
  "kernelspec": {
   "display_name": "Python 3",
   "language": "python",
   "name": "python3"
  },
  "language_info": {
   "codemirror_mode": {
    "name": "ipython",
    "version": 3
   },
   "file_extension": ".py",
   "mimetype": "text/x-python",
   "name": "python",
   "nbconvert_exporter": "python",
   "pygments_lexer": "ipython3",
   "version": "3.7.3"
  },
  "toc": {
   "base_numbering": 1,
   "nav_menu": {},
   "number_sections": false,
   "sideBar": false,
   "skip_h1_title": false,
   "title_cell": "Table of Contents",
   "title_sidebar": "Contents",
   "toc_cell": false,
   "toc_position": {},
   "toc_section_display": false,
   "toc_window_display": false
  }
 },
 "nbformat": 4,
 "nbformat_minor": 2
}
