{
 "cells": [
  {
   "cell_type": "markdown",
   "metadata": {},
   "source": [
    "# The Big 5 Questionnaire\n",
    "\n",
    "<div class=\"alert alert-warning\">\n",
    "The Big 5 is a model of personality that has 5 independent dimensions: Extraversion, Agreeableness, Conscientiousness, Neuroticism, Openness.  We're going to write a program that asks the user to rate themselves on these dimenstion on a 7-point Likert scale.  Then write code that figures out their total score across all 5 dimensions. \n",
    "\n",
    "Costa, P. T., & McCrae, R. R. (1980). Influence of extraversion and neuroticism on subjective well-being: happy and unhappy people. Journal of personality and social psychology, 38(4), 668.\n",
    "</div>\n",
    "\n",
    "1) Write a statement that prints, `Hello participant!`  \n",
    "\n",
    "2) Write a statement that prints the question, `What is your name?`  \n",
    "\n",
    "3) Use the `input()` function to assign your name to the variable `my_name`  \n",
    "\n",
    "4) Write a statement that prints `It is good to meet you my_name`, where `my_name` is the `my_name` variable.  \n",
    "\n",
    "    1) For example, for me, it would print: `It's good to meet you Dr. Feinberg.`  \n",
    "    \n",
    "5) Write a statement that prints `On a scale from 1-7; 1=\"Not at all\"; 7=\"Very Much\", how extraverted are you?`\n",
    "\n",
    "6) Use the `input()` function to assign a rating to the variable `extraverted`  \n",
    "\n",
    "7) Write a statement that prints `On a scale from 1-7; 1=\"Not at all\"; 7=\"Very Much\", how agreeable are you?`\n",
    "\n",
    "8) Use the `input()` function to assign a rating to the variable `agreeable`  \n",
    "\n",
    "9) Write a statement that prints `On a scale from 1-7; 1=\"Not at all\"; 7=\"Very Much\", how conscientious are you?`\n",
    "\n",
    "10) Use the `input()` function to assign a rating to the variable `conscientious`  \n",
    "    \n",
    "11) Write a statement that prints `On a scale from 1-7; 1=\"Not at all\"; 7=\"Very Much\", how neurotic are you?`\n",
    "\n",
    "12) Use the `input()` function to assign a rating to the variable `neurotic`  \n",
    "\n",
    "13) Write a statement that prints `On a scale from 1-7; 1=\"Not at all\"; 7=\"Very Much\", how open are you?`\n",
    "\n",
    "14) Use the `input()` function to assign a rating to the variable `open`  \n",
    "\n",
    "15) Write a statement that prints `What is your age?`\n",
    "\n",
    "16) 14) Use the `input()` function to assign an age to the variable `age`  \n",
    "    \n",
    "17) Write a statement that calculates the total score across all 5 dimensions\n",
    "\n",
    "18) Write a statement that prints `Your total Big-5 personality score is X`, where `X` displays the total score\n"
   ]
  },
  {
   "cell_type": "code",
   "execution_count": 46,
   "metadata": {},
   "outputs": [
    {
     "name": "stdout",
     "output_type": "stream",
     "text": [
      "Hello participant!\n"
     ]
    }
   ],
   "source": [
    "## YOUR CODE HERE\n",
    "print (\"Hello participant!\")"
   ]
  },
  {
   "cell_type": "code",
   "execution_count": 47,
   "metadata": {},
   "outputs": [
    {
     "name": "stdout",
     "output_type": "stream",
     "text": [
      "What is your name?\n"
     ]
    }
   ],
   "source": [
    "print (\"What is your name?\")"
   ]
  },
  {
   "cell_type": "code",
   "execution_count": 48,
   "metadata": {},
   "outputs": [
    {
     "name": "stdout",
     "output_type": "stream",
     "text": [
      "Jackie\n"
     ]
    }
   ],
   "source": [
    "my_name = input()"
   ]
  },
  {
   "cell_type": "code",
   "execution_count": 49,
   "metadata": {},
   "outputs": [
    {
     "name": "stdout",
     "output_type": "stream",
     "text": [
      "It is good to meet you Jackie\n"
     ]
    }
   ],
   "source": [
    "print (\"It is good to meet you\", my_name)"
   ]
  },
  {
   "cell_type": "code",
   "execution_count": 50,
   "metadata": {},
   "outputs": [
    {
     "name": "stdout",
     "output_type": "stream",
     "text": [
      "On a scale from 1-7; 1=\"Not at all\"; 7=\"Very Much\", how extraverted are you?\n"
     ]
    }
   ],
   "source": [
    "print ('On a scale from 1-7; 1=\"Not at all\"; 7=\"Very Much\", how extraverted are you?')"
   ]
  },
  {
   "cell_type": "code",
   "execution_count": 5,
   "metadata": {},
   "outputs": [
    {
     "name": "stdout",
     "output_type": "stream",
     "text": [
      "3.2\n"
     ]
    }
   ],
   "source": [
    "extraverted = float(input())"
   ]
  },
  {
   "cell_type": "code",
   "execution_count": 6,
   "metadata": {},
   "outputs": [
    {
     "name": "stdout",
     "output_type": "stream",
     "text": [
      "On a scale from 1-7; 1=\"Not at all\"; 7=\"Very Much\", how agreeable are you?\n"
     ]
    },
    {
     "data": {
      "text/plain": [
       "float"
      ]
     },
     "execution_count": 6,
     "metadata": {},
     "output_type": "execute_result"
    }
   ],
   "source": [
    "print ('On a scale from 1-7; 1=\"Not at all\"; 7=\"Very Much\", how agreeable are you?')\n",
    "type (extraverted)"
   ]
  },
  {
   "cell_type": "code",
   "execution_count": 7,
   "metadata": {},
   "outputs": [
    {
     "name": "stdout",
     "output_type": "stream",
     "text": [
      "4.1\n"
     ]
    }
   ],
   "source": [
    "agreeable = float(input())"
   ]
  },
  {
   "cell_type": "code",
   "execution_count": 8,
   "metadata": {},
   "outputs": [
    {
     "name": "stdout",
     "output_type": "stream",
     "text": [
      "On a scale from 1-7; 1=\"Not at all\"; 7=\"Very Much\", how conscientious are you?\n"
     ]
    }
   ],
   "source": [
    "print ('On a scale from 1-7; 1=\"Not at all\"; 7=\"Very Much\", how conscientious are you?')"
   ]
  },
  {
   "cell_type": "code",
   "execution_count": 9,
   "metadata": {},
   "outputs": [
    {
     "name": "stdout",
     "output_type": "stream",
     "text": [
      "5.2\n"
     ]
    }
   ],
   "source": [
    "conscientious = float(input())"
   ]
  },
  {
   "cell_type": "code",
   "execution_count": 10,
   "metadata": {},
   "outputs": [
    {
     "name": "stdout",
     "output_type": "stream",
     "text": [
      "On a scale from 1-7; 1=\"Not at all\"; 7=\"Very Much\", how neurotic are you?\n"
     ]
    }
   ],
   "source": [
    "print ('On a scale from 1-7; 1=\"Not at all\"; 7=\"Very Much\", how neurotic are you?')"
   ]
  },
  {
   "cell_type": "code",
   "execution_count": 11,
   "metadata": {},
   "outputs": [
    {
     "name": "stdout",
     "output_type": "stream",
     "text": [
      "2.5\n"
     ]
    }
   ],
   "source": [
    "neurotic = float(input())"
   ]
  },
  {
   "cell_type": "code",
   "execution_count": 12,
   "metadata": {},
   "outputs": [
    {
     "name": "stdout",
     "output_type": "stream",
     "text": [
      "On a scale from 1-7; 1=\"Not at all\"; 7=\"Very Much\", how open are you?\n"
     ]
    }
   ],
   "source": [
    "print ('On a scale from 1-7; 1=\"Not at all\"; 7=\"Very Much\", how open are you?')"
   ]
  },
  {
   "cell_type": "code",
   "execution_count": 13,
   "metadata": {},
   "outputs": [
    {
     "name": "stdout",
     "output_type": "stream",
     "text": [
      "3.5\n"
     ]
    }
   ],
   "source": [
    "open = float(input())"
   ]
  },
  {
   "cell_type": "code",
   "execution_count": 2,
   "metadata": {},
   "outputs": [
    {
     "name": "stdout",
     "output_type": "stream",
     "text": [
      "What is your age?\n"
     ]
    }
   ],
   "source": [
    "print (\"What is your age?\")"
   ]
  },
  {
   "cell_type": "code",
   "execution_count": 3,
   "metadata": {},
   "outputs": [
    {
     "name": "stdout",
     "output_type": "stream",
     "text": [
      "19.2\n"
     ]
    }
   ],
   "source": [
    "age = float(input())"
   ]
  },
  {
   "cell_type": "code",
   "execution_count": 14,
   "metadata": {},
   "outputs": [],
   "source": [
    "X = extraverted + agreeable + conscientious + neurotic + open"
   ]
  },
  {
   "cell_type": "code",
   "execution_count": 15,
   "metadata": {},
   "outputs": [
    {
     "name": "stdout",
     "output_type": "stream",
     "text": [
      "Your total Big-5 personality score is 18.5\n"
     ]
    }
   ],
   "source": [
    "print (\"Your total Big-5 personality score is\", X)"
   ]
  }
 ],
 "metadata": {
  "kernelspec": {
   "display_name": "Python 3",
   "language": "python",
   "name": "python3"
  },
  "language_info": {
   "codemirror_mode": {
    "name": "ipython",
    "version": 3
   },
   "file_extension": ".py",
   "mimetype": "text/x-python",
   "name": "python",
   "nbconvert_exporter": "python",
   "pygments_lexer": "ipython3",
   "version": "3.7.3"
  },
  "toc": {
   "base_numbering": 1,
   "nav_menu": {},
   "number_sections": false,
   "sideBar": false,
   "skip_h1_title": false,
   "title_cell": "Table of Contents",
   "title_sidebar": "Contents",
   "toc_cell": false,
   "toc_position": {},
   "toc_section_display": false,
   "toc_window_display": false
  }
 },
 "nbformat": 4,
 "nbformat_minor": 2
}
