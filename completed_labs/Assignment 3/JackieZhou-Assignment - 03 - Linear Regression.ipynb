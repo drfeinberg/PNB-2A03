{
 "cells": [
  {
   "cell_type": "markdown",
   "metadata": {},
   "source": [
    "# Assignment 3 - Linear Regression"
   ]
  },
  {
   "cell_type": "markdown",
   "metadata": {},
   "source": [
    "## Your assignment is to write a funtion that will perform an Ordinary Least Squares Regression.\n",
    "### The function should return the slope and the intercept, and a  list of residuals\n",
    "### Test the regression funtion using the simulated data provided below.\n",
    "\n",
    "The OLS regression equation takes the form:\n",
    "$Y_i = b_0 + b_1X_i + \\epsilon_i$\n",
    "\n",
    "#### To code the regression, you need only these 2 formulae\n",
    "Slope = $b_0 = $(Σy)(Σx^2) - (Σx)(Σxy)/ n(Σx^2) - (Σx)^2  \n",
    "Intercept = $b_1= $ n(Σxy) - (Σx)(Σy) /n(Σx^2) - (Σx)^2\n",
    "\n",
    "Residual = Observed y-value - Predicted y-value\n",
    "\n",
    "#### Extra credit\n",
    "Use the equation for a correlation from last assignment. Make a funciton out of it.  Calculate the $R^2$ value of the regression by squaring the r-value of these data from the correlation equation."
   ]
  },
  {
   "cell_type": "markdown",
   "metadata": {},
   "source": [
    "## Use this code to simulate your data.  Use `x` and `y` to test your regression."
   ]
  },
  {
   "cell_type": "code",
   "execution_count": 1,
   "metadata": {
    "scrolled": true
   },
   "outputs": [],
   "source": [
    "import numpy as np\n",
    "\n",
    "mean = [12, 9]  # These are the means we wrote above\n",
    "cov = [[1, 0.345], [0.345, 1]] # This is a covariance matrix. \n",
    "\n",
    "## Let's pick a sample size of 100\n",
    "num_samples = 100\n",
    "\n",
    "## Simulate the data\n",
    "x, y = np.random.multivariate_normal(mean, cov, size=num_samples).T\n"
   ]
  },
  {
   "cell_type": "code",
   "execution_count": 2,
   "metadata": {},
   "outputs": [
    {
     "name": "stdout",
     "output_type": "stream",
     "text": [
      "1192.0340481655185 902.1172544056587 10795.832226795856 14324.908618444235\n"
     ]
    }
   ],
   "source": [
    "# Your work here\n",
    "sumx = 0\n",
    "sumy = 0\n",
    "sumxy = 0\n",
    "sum_xsquared = 0\n",
    "n = len(x)\n",
    "for i in range (n):\n",
    "    sumx += x[i]\n",
    "    sumy += y[i]\n",
    "    sumxy += (x[i]*y[i])\n",
    "    sum_xsquared += (x[i]**2)\n",
    "print (sumx, sumy, sumxy, sum_xsquared)"
   ]
  },
  {
   "cell_type": "code",
   "execution_count": 3,
   "metadata": {},
   "outputs": [
    {
     "name": "stdout",
     "output_type": "stream",
     "text": [
      "11501793.07684486\n",
      "-341362.6999948346\n",
      "[-7559496, -6944363, -6907897, -7213173, -7409743, -7517924, -7686557, -7480704, -6974569, -8078603, -7897230, -7404241, -7442427, -7127875, -7136639, -7420303, -7466039, -7328019, -7513127, -7078567, -7346613, -7846473, -7550394, -7515301, -6894914, -8136217, -7767292, -7200943, -7728610, -6812763, -7849980, -7725604, -6844980, -6872093, -7826505, -7192721, -7036895, -7747587, -7453534, -7792763, -7047194, -7029922, -6821760, -8255304, -7013127, -7356596, -8049005, -7449737, -7824274, -7562002, -7803223, -7139722, -7471745, -7658480, -7524673, -7029528, -6718664, -7448547, -7316231, -7823580, -7485651, -7101260, -7661868, -7460985, -6869233, -7828422, -7830900, -6991114, -7245096, -7718833, -7350387, -7658667, -7665831, -7308800, -7790403, -7440362, -7113419, -7903780, -7172009, -7462593, -7600412, -7231230, -7089627, -7437171, -8298762, -7771376, -7762387, -7432198, -7735935, -6295982, -7467522, -7288100, -7728256, -6781634, -7413027, -7461017, -7668045, -7286388, -7350636, -8030092]\n"
     ]
    }
   ],
   "source": [
    "# Slope =  𝑏0= (Σy)(Σx^2) - (Σx)(Σxy)/ n(Σx^2) - (Σx)^2\n",
    "slope = (sumy)*(sum_xsquared) - (sumx)*(sumxy)/(n*sum_xsquared) - sumx**2\n",
    "print (slope)\n",
    "\n",
    "# Intercept =  𝑏1=  n(Σxy) - (Σx)(Σy) /n(Σx^2) - (Σx)^2\n",
    "intercept = (n*sumxy) - (sumx)*(sumy) / (n*sum_xsquared) - sumx**2\n",
    "print (intercept)\n",
    "\n",
    "# The OLS regression equation takes the form:  𝑌𝑖=𝑏0+𝑏1𝑋𝑖+𝜖𝑖\n",
    "residuals = []\n",
    "for i in range (n):\n",
    "    e = y[i] - slope - (intercept * x[i])\n",
    "    e = int(e)\n",
    "    residuals.append(e)\n",
    "print (residuals)"
   ]
  },
  {
   "cell_type": "code",
   "execution_count": 5,
   "metadata": {},
   "outputs": [
    {
     "name": "stdout",
     "output_type": "stream",
     "text": [
      "8227.197240500354\n",
      "4228.739990445087 10139.277067162608\n",
      "0.41706523674556856\n",
      "0.17394341170163716\n"
     ]
    },
    {
     "data": {
      "text/plain": [
       "0.17394341170163716"
      ]
     },
     "execution_count": 5,
     "metadata": {},
     "output_type": "execute_result"
    }
   ],
   "source": [
    "# Extra credit here\n",
    "sum_ysquared = 0\n",
    "for i in range(n):\n",
    "    sum_ysquared = sum_ysquared + (y[i]**2)\n",
    "print (sum_ysquared)\n",
    "\n",
    "def correlation (n, sumx, sumy, sumxy, sum_xsquared, sum_ysquared):\n",
    "    numerator = n*sumxy - (sumx * sumy)\n",
    "    denominator = ((n*(sum_xsquared) - (sumx**2)) * (n*(sum_ysquared) - (sumy**2)))**(0.5)\n",
    "    print (numerator, denominator)\n",
    "    r = numerator / denominator\n",
    "    print (r)\n",
    "    r_squared = r**2\n",
    "    print (r_squared)\n",
    "    \n",
    "    return r_squared\n",
    "\n",
    "correlation (n, sumx, sumy, sumxy, sum_xsquared, sum_ysquared)"
   ]
  },
  {
   "cell_type": "code",
   "execution_count": null,
   "metadata": {},
   "outputs": [],
   "source": []
  }
 ],
 "metadata": {
  "kernelspec": {
   "display_name": "Python 3",
   "language": "python",
   "name": "python3"
  },
  "language_info": {
   "codemirror_mode": {
    "name": "ipython",
    "version": 3
   },
   "file_extension": ".py",
   "mimetype": "text/x-python",
   "name": "python",
   "nbconvert_exporter": "python",
   "pygments_lexer": "ipython3",
   "version": "3.6.5"
  },
  "toc": {
   "base_numbering": 1,
   "nav_menu": {},
   "number_sections": false,
   "sideBar": false,
   "skip_h1_title": false,
   "title_cell": "Table of Contents",
   "title_sidebar": "Contents",
   "toc_cell": false,
   "toc_position": {},
   "toc_section_display": false,
   "toc_window_display": false
  }
 },
 "nbformat": 4,
 "nbformat_minor": 2
}
