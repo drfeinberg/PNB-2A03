{
 "cells": [
  {
   "cell_type": "markdown",
   "metadata": {},
   "source": [
    "# Assignment 3 - Linear Regression"
   ]
  },
  {
   "cell_type": "markdown",
   "metadata": {},
   "source": [
    "## Your assignment is to write a funtion that will perform an Ordinary Least Squares Regression.\n",
    "### The function should return the slope and the intercept, and a  list of residuals\n",
    "### Test the regression funtion using the simulated data provided below.\n",
    "\n",
    "The OLS regression equation takes the form:\n",
    "$Y_i = b_0 + b_1X_i + \\epsilon_i$\n",
    "\n",
    "#### To code the regression, you need only these 2 formulae\n",
    "Slope = $b_0 = $(Σy)(Σx^2) - (Σx)(Σxy)/ n(Σx^2) - (Σx)^2  \n",
    "Intercept = $b_1= $ n(Σxy) - (Σx)(Σy) /n(Σx^2) - (Σx)^2\n",
    "\n",
    "Residual = Observed y-value - Predicted y-value\n",
    "\n",
    "#### Extra credit\n",
    "Use the equation for a correlation from last assignment. Make a funciton out of it.  Calculate the $R^2$ value of the regression by squaring the r-value of these data from the correlation equation."
   ]
  },
  {
   "cell_type": "markdown",
   "metadata": {},
   "source": [
    "## Use this code to simulate your data.  Use `x` and `y` to test your regression."
   ]
  },
  {
   "cell_type": "code",
   "execution_count": 1,
   "metadata": {},
   "outputs": [],
   "source": [
    "import numpy as np\n",
    "\n",
    "mean = [12, 9]  # These are the means we wrote above\n",
    "cov = [[1, 0.345], [0.345, 1]] # This is a covariance matrix. \n",
    "\n",
    "## Let's pick a sample size of 100\n",
    "num_samples = 100\n",
    "\n",
    "## Simulate the data\n",
    "x, y = np.random.multivariate_normal(mean, cov, size=num_samples).T\n"
   ]
  },
  {
   "cell_type": "code",
   "execution_count": 2,
   "metadata": {},
   "outputs": [
    {
     "name": "stdout",
     "output_type": "stream",
     "text": [
      "The equation is: 0.3893357956449453 x + 4.263319299311603\n",
      "[[1.         0.40133676]\n",
      " [0.40133676 1.        ]]\n"
     ]
    }
   ],
   "source": [
    "#All the values you need for the equation\n",
    "sumx=0\n",
    "for value in x:\n",
    "    sumx += value\n",
    "\n",
    "sumy=0\n",
    "for value in y:\n",
    "    sumy+= value\n",
    "\n",
    "sum_xsquared = 0\n",
    "for value in x:\n",
    "    sum_xsquared += value**2\n",
    "\n",
    "\n",
    "sum_ysquared = 0 \n",
    "for value in y:\n",
    "    sum_ysquared += value**2\n",
    "\n",
    "\n",
    "sumxy = 0\n",
    "for value in range(len(x)):\n",
    "    sumxy += x[value] * y[value]\n",
    "    \n",
    "n = len(x)\n",
    "\n",
    "#Y intercept equation\n",
    "\n",
    "numerator1= sumy*sum_xsquared - sumx*sumxy\n",
    "\n",
    "denominator1= n*sum_xsquared - sumx**2\n",
    "\n",
    "b0 = numerator1/denominator1\n",
    "\n",
    "\n",
    "#Slope Equation\n",
    "numerator2 = len(x)*sumxy - sumx*sumy\n",
    "denominator2 = len(x)*sum_xsquared - sumx**2\n",
    "\n",
    "b1 = numerator2/denominator2\n",
    "\n",
    "\n",
    "print(\"The equation is:\", b1, \"x\", \"+\", b0)\n",
    "\n",
    "#Tried using the sum function to find the slope using the same steps\n",
    "#Kept on getting weird numbers. I realize that this would have been more\n",
    "#efficient, but I couldn't get a value close to the variance. \n",
    "print(np.corrcoef(x,y))"
   ]
  },
  {
   "cell_type": "code",
   "execution_count": 3,
   "metadata": {
    "scrolled": true
   },
   "outputs": [
    {
     "data": {
      "text/plain": [
       "0.1610711974147371"
      ]
     },
     "execution_count": 3,
     "metadata": {},
     "output_type": "execute_result"
    }
   ],
   "source": [
    "#Bonus question!\n",
    "def rsquared(x,y):\n",
    "    sumx=0\n",
    "    for value in x:\n",
    "        sumx += value\n",
    "   \n",
    "    sumy=0\n",
    "    for value in y:\n",
    "        sumy+= value\n",
    "    \n",
    "\n",
    "    sum_xsquared = 0\n",
    "    for value in x:\n",
    "        sum_xsquared += value**2\n",
    "    \n",
    "\n",
    "    sum_ysquared = 0 \n",
    "    for value in y:\n",
    "        sum_ysquared += value**2\n",
    "    \n",
    "\n",
    "    sumxy = 0\n",
    "    for value in range(0,100):\n",
    "        sumxy += x[value] * y[value]\n",
    "    \n",
    "   \n",
    "    n = len(x)\n",
    "    numerator = n * (sumxy) - sumx*sumy\n",
    "    denominator =  ((n *(sum_xsquared)-(sumx)**2) *(n *(sum_ysquared) - (sumy)**2))**0.5\n",
    "    \n",
    "    return((numerator/denominator)**2)\n",
    "rsquared(x,y)"
   ]
  },
  {
   "cell_type": "code",
   "execution_count": 4,
   "metadata": {},
   "outputs": [
    {
     "data": {
      "text/plain": [
       "0.1610711974147371"
      ]
     },
     "execution_count": 4,
     "metadata": {},
     "output_type": "execute_result"
    }
   ],
   "source": [
    "#OR \n",
    "def rsquared2(x,y):\n",
    "    return ((n * sum(x*y) - sum(x)*sum(y))/((n* sum(x**2) - sum(x)**2) * (n * sum(y**2) - sum(y)**2))**0.5)**2\n",
    "rsquared2(x,y)"
   ]
  },
  {
   "cell_type": "code",
   "execution_count": null,
   "metadata": {},
   "outputs": [],
   "source": []
  },
  {
   "cell_type": "code",
   "execution_count": null,
   "metadata": {},
   "outputs": [],
   "source": []
  }
 ],
 "metadata": {
  "kernelspec": {
   "display_name": "Python 3",
   "language": "python",
   "name": "python3"
  },
  "language_info": {
   "codemirror_mode": {
    "name": "ipython",
    "version": 3
   },
   "file_extension": ".py",
   "mimetype": "text/x-python",
   "name": "python",
   "nbconvert_exporter": "python",
   "pygments_lexer": "ipython3",
   "version": "3.6.5"
  },
  "toc": {
   "base_numbering": 1,
   "nav_menu": {},
   "number_sections": false,
   "sideBar": false,
   "skip_h1_title": false,
   "title_cell": "Table of Contents",
   "title_sidebar": "Contents",
   "toc_cell": false,
   "toc_position": {},
   "toc_section_display": false,
   "toc_window_display": false
  }
 },
 "nbformat": 4,
 "nbformat_minor": 2
}
