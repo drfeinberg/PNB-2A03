{
 "cells": [
  {
   "cell_type": "markdown",
   "metadata": {},
   "source": [
    "# Assignment 3 - Linear Regression"
   ]
  },
  {
   "cell_type": "markdown",
   "metadata": {},
   "source": [
    "## Your assignment is to write a funtion that will perform an Ordinary Least Squares Regression.\n",
    "### The function should return the slope and the intercept, and a  list of residuals\n",
    "### Test the regression funtion using the simulated data provided below.\n",
    "\n",
    "The OLS regression equation takes the form:\n",
    "$Y_i = b_0 + b_1X_i + \\epsilon_i$\n",
    "\n",
    "#### To code the regression, you need only these 2 formulae\n",
    "Slope = $b_0 = $(Σy)(Σx^2) - (Σx)(Σxy)/ n(Σx^2) - (Σx)^2  \n",
    "Intercept = $b_1= $ n(Σxy) - (Σx)(Σy) /n(Σx^2) - (Σx)^2\n",
    "\n",
    "Residual = Observed y-value - Predicted y-value\n",
    "\n",
    "#### Extra credit\n",
    "Use the equation for a correlation from last assignment. Make a funciton out of it.  Calculate the $R^2$ value of the regression by squaring the r-value of these data from the correlation equation."
   ]
  },
  {
   "cell_type": "markdown",
   "metadata": {},
   "source": [
    "## Use this code to simulate your data.  Use `x` and `y` to test your regression."
   ]
  },
  {
   "cell_type": "code",
   "execution_count": 4,
   "metadata": {},
   "outputs": [],
   "source": [
    "import numpy as np\n",
    "\n",
    "mean = [12, 9]  # These are the means we wrote above\n",
    "cov = [[1, 0.345], [0.345, 1]] # This is a covariance matrix. \n",
    "\n",
    "## Let's pick a sample size of 100\n",
    "num_samples = 100\n",
    "\n",
    "## Simulate the data\n",
    "x, y = np.random.multivariate_normal(mean, cov, size=num_samples).T"
   ]
  },
  {
   "cell_type": "code",
   "execution_count": 5,
   "metadata": {},
   "outputs": [
    {
     "name": "stdout",
     "output_type": "stream",
     "text": [
      "Yi = 3.661515203571001 X +  0.4435263064763004\n"
     ]
    }
   ],
   "source": [
    "# Your work here\n",
    "def regression(x, y):\n",
    "    np.sum(y)\n",
    "    np.sum(x**2)\n",
    "    np.sum(x)\n",
    "    np.sum(x*y)\n",
    "    np.sum(x)**2\n",
    "\n",
    "    ## slope\n",
    "    slope = (np.sum(y)*np.sum(x**2)- np.sum(x)*np.sum(x*y))/((num_samples*np.sum(x**2)) - (np.sum(x)**2))\n",
    " \n",
    "\n",
    "    ## intercept\n",
    "    intercept = (num_samples*np.sum(x*y) - np.sum(x)*np.sum(y))/(num_samples*np.sum(x**2) - np.sum(x)**2)\n",
    "    \n",
    "    return [slope, intercept]\n",
    "\n",
    "print(\"Yi =\", regression(x,y)[0], \"X + \",regression(x,y)[1])"
   ]
  },
  {
   "cell_type": "code",
   "execution_count": 6,
   "metadata": {},
   "outputs": [
    {
     "name": "stdout",
     "output_type": "stream",
     "text": [
      "r^2 = 0.23764855764379925\n"
     ]
    }
   ],
   "source": [
    "# Extra credit here\n",
    "def correlation(x,y):\n",
    "    \n",
    "    ## numerator\n",
    "    numerator = (num_samples * np.sum(x*y)) - (np.sum(x)*np.sum(y))\n",
    "    \n",
    "    ##denominator\n",
    "    denominator = ((num_samples*np.sum(x**2) - np.sum(x)**2) * (num_samples * np.sum(y**2) - np.sum(y)**2))**0.5\n",
    "    \n",
    "    return [numerator, denominator]\n",
    "\n",
    "print (\"r^2 =\", (correlation(x,y)[0]/correlation(x,y)[1])**2)"
   ]
  },
  {
   "cell_type": "code",
   "execution_count": null,
   "metadata": {},
   "outputs": [],
   "source": []
  },
  {
   "cell_type": "code",
   "execution_count": null,
   "metadata": {},
   "outputs": [],
   "source": []
  }
 ],
 "metadata": {
  "kernelspec": {
   "display_name": "Python 3",
   "language": "python",
   "name": "python3"
  },
  "language_info": {
   "codemirror_mode": {
    "name": "ipython",
    "version": 3
   },
   "file_extension": ".py",
   "mimetype": "text/x-python",
   "name": "python",
   "nbconvert_exporter": "python",
   "pygments_lexer": "ipython3",
   "version": "3.6.5"
  },
  "toc": {
   "base_numbering": 1,
   "nav_menu": {},
   "number_sections": false,
   "sideBar": false,
   "skip_h1_title": false,
   "title_cell": "Table of Contents",
   "title_sidebar": "Contents",
   "toc_cell": false,
   "toc_position": {},
   "toc_section_display": false,
   "toc_window_display": false
  }
 },
 "nbformat": 4,
 "nbformat_minor": 2
}
