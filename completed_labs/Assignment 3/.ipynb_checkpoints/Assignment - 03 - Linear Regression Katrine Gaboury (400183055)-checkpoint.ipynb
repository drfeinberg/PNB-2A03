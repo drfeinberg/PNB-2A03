{
 "cells": [
  {
   "cell_type": "markdown",
   "metadata": {},
   "source": [
    "# Assignment 3 - Linear Regression"
   ]
  },
  {
   "cell_type": "markdown",
   "metadata": {},
   "source": [
    "## Your assignment is to write a funtion that will perform an Ordinary Least Squares Regression.\n",
    "### The function should return the slope and the intercept, and a  list of residuals\n",
    "### Test the regression funtion using the simulated data provided below.\n",
    "\n",
    "The OLS regression equation takes the form:\n",
    "$Y_i = b_0 + b_1X_i + \\epsilon_i$\n",
    "\n",
    "#### To code the regression, you need only these 2 formulae\n",
    "Slope = $b_0 = $(Σy)(Σx^2) - (Σx)(Σxy)/ n(Σx^2) - (Σx)^2  \n",
    "Intercept = $b_1= $ n(Σxy) - (Σx)(Σy) /n(Σx^2) - (Σx)^2\n",
    "\n",
    "Residual = Observed y-value - Predicted y-value\n",
    "\n",
    "#### Extra credit\n",
    "Use the equation for a correlation from last assignment. Make a funciton out of it.  Calculate the $R^2$ value of the regression by squaring the r-value of these data from the correlation equation."
   ]
  },
  {
   "cell_type": "markdown",
   "metadata": {},
   "source": [
    "## Use this code to simulate your data.  Use `x` and `y` to test your regression."
   ]
  },
  {
   "cell_type": "code",
   "execution_count": 4,
   "metadata": {},
   "outputs": [],
   "source": [
    "import numpy as np\n",
    "\n",
    "mean = [12, 9]  # These are the means we wrote above\n",
    "cov = [[1, 0.345], [0.345, 1]] # This is a covariance matrix. \n",
    "\n",
    "## Let's pick a sample size of 100\n",
    "num_samples = 100\n",
    "\n",
    "## Simulate the data\n",
    "x, y = np.random.multivariate_normal(mean, cov, size=num_samples).T"
   ]
  },
  {
   "cell_type": "code",
   "execution_count": 5,
   "metadata": {},
   "outputs": [
    {
     "data": {
      "text/plain": [
       "('The slope is:',\n",
       " 0.42583217321374756,\n",
       " 'and the intercept is:',\n",
       " 3.90815614670235)"
      ]
     },
     "execution_count": 5,
     "metadata": {},
     "output_type": "execute_result"
    }
   ],
   "source": [
    "# Your work here\n",
    "#This assignment is by: Katrine Gaboury (400183055)\n",
    "\n",
    "def regression_function(a,b):\n",
    "    sumx = 0\n",
    "    sumy = 0\n",
    "    sumxy = 0\n",
    "    sum_xsquared = 0\n",
    "    index = 0\n",
    "    n = len(x)\n",
    "\n",
    "    for index in range (n): \n",
    "        sumx += x[index]\n",
    "        sumy += y[index]\n",
    "        sumxy += (x[index] * y[index])\n",
    "        sum_xsquared += (x[index]**2)\n",
    "    \n",
    "    b0 = (((sumy)*(sum_xsquared))-((sumx)*(sumxy)))/((n*(sum_xsquared))-((sumx)**2))\n",
    "    b1 = (n*(sumxy)-(sumx*sumy))/(n*(sum_xsquared)-((sumx)**2))\n",
    "    \n",
    "    return ('The slope is:', b1, 'and the intercept is:', b0)\n",
    "\n",
    "regression_function(x,y)"
   ]
  },
  {
   "cell_type": "code",
   "execution_count": 6,
   "metadata": {},
   "outputs": [
    {
     "data": {
      "text/plain": [
       "1.0"
      ]
     },
     "execution_count": 6,
     "metadata": {},
     "output_type": "execute_result"
    }
   ],
   "source": [
    "# Extra credit here\n",
    "def extra_credit (a,b):\n",
    "    sumx = 0\n",
    "    sumy = 0\n",
    "    sumxy = 0\n",
    "    sum_xsquared = 0\n",
    "    sum_ysquared = 0\n",
    "    index = 0\n",
    "    n = len(x)\n",
    "    for index in range (n): \n",
    "        sumx += x[index]\n",
    "        sumy += y[index]\n",
    "        sumxy += (x[index] * y[index])\n",
    "        sum_xsquared += (x[index]**2)\n",
    "        sum_ysquared += (y[index]**2)\n",
    "        numerator = (n*(sumxy)) - sumx * sumy\n",
    "        denominator = (((n*(sum_xsquared)) - ((sumx)**2))*((n*(sum_ysquared)) - (sumy)**2))**(0.5)\n",
    "        r = numerator/denominator\n",
    "        return r**2\n",
    "extra_credit(x,y)"
   ]
  },
  {
   "cell_type": "code",
   "execution_count": null,
   "metadata": {},
   "outputs": [],
   "source": []
  },
  {
   "cell_type": "code",
   "execution_count": null,
   "metadata": {},
   "outputs": [],
   "source": []
  }
 ],
 "metadata": {
  "kernelspec": {
   "display_name": "Python 3",
   "language": "python",
   "name": "python3"
  },
  "language_info": {
   "codemirror_mode": {
    "name": "ipython",
    "version": 3
   },
   "file_extension": ".py",
   "mimetype": "text/x-python",
   "name": "python",
   "nbconvert_exporter": "python",
   "pygments_lexer": "ipython3",
   "version": "3.6.5"
  },
  "toc": {
   "base_numbering": 1,
   "nav_menu": {},
   "number_sections": false,
   "sideBar": false,
   "skip_h1_title": false,
   "title_cell": "Table of Contents",
   "title_sidebar": "Contents",
   "toc_cell": false,
   "toc_position": {},
   "toc_section_display": false,
   "toc_window_display": false
  }
 },
 "nbformat": 4,
 "nbformat_minor": 2
}
