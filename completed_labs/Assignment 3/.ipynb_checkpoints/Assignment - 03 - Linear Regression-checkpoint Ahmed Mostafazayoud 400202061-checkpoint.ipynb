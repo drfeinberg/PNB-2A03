{
 "cells": [
  {
   "cell_type": "markdown",
   "metadata": {},
   "source": [
    "# Assignment 3 - Linear Regression"
   ]
  },
  {
   "cell_type": "markdown",
   "metadata": {},
   "source": [
    "## Your assignment is to write a funtion that will perform an Ordinary Least Squares Regression.\n",
    "### The function should return the slope and the intercept, and a  list of residuals\n",
    "### Test the regression funtion using the simulated data provided below.\n",
    "\n",
    "The OLS regression equation takes the form:\n",
    "$Y_i = b_0 + b_1X_i + \\epsilon_i$\n",
    "\n",
    "#### To code the regression, you need only these 2 formulae\n",
    "Slope = $b_0 = $(Σy)(Σx^2) - (Σx)(Σxy)/ n(Σx^2) - (Σx)^2  \n",
    "Intercept = $b_1= $ n(Σxy) - (Σx)(Σy) /n(Σx^2) - (Σx)^2\n",
    "\n",
    "Residual = Observed y-value - Predicted y-value\n",
    "\n",
    "#### Extra credit\n",
    "Use the equation for a correlation from last assignment. Make a funciton out of it.  Calculate the $R^2$ value of the regression by squaring the r-value of these data from the correlation equation."
   ]
  },
  {
   "cell_type": "markdown",
   "metadata": {},
   "source": [
    "## Use this code to simulate your data.  Use `x` and `y` to test your regression."
   ]
  },
  {
   "cell_type": "code",
   "execution_count": 1,
   "metadata": {},
   "outputs": [
    {
     "name": "stdout",
     "output_type": "stream",
     "text": [
      "[11.80624763 10.37027184 12.06166033  9.06384563 11.03996108 13.79004231\n",
      " 12.56017804 12.37455944 13.54676137 11.85802391 10.65340702 11.97667182\n",
      " 11.96320779 11.65475771 10.72279819 12.20183215 13.71782809 12.89048526\n",
      " 12.51688393 11.30207975 10.90616177 11.11047956 12.62966839 11.85926992\n",
      " 12.1850662  11.67389634 13.29419731 12.22231917 11.49259374 11.6422089\n",
      " 11.68979987 12.80746913 12.41876896 10.33683927 11.97910025 12.65624696\n",
      " 13.90006874 12.34675212 13.03233324 13.72336471 13.86554586 12.17836459\n",
      " 12.26692193 10.34067451 11.48032084 11.50495899 13.03812262 11.81346136\n",
      " 13.98214334 11.97524567 13.26182488 10.17172943 10.65406717 12.58501749\n",
      " 10.94214644 11.26000353 12.0991996  12.5400502  11.68875035 12.40469713\n",
      " 10.6510062  11.90947936 12.74555252 10.64304044 13.2769257  11.09125805\n",
      " 11.84005517 11.16950866 11.1838363  12.48099103 13.03941608 12.14561472\n",
      " 12.29967447 13.90444873 13.255688   12.15405517 10.88155958 13.90460567\n",
      " 11.52637479 12.82129353 13.09656262 10.86170559 12.11852805 11.79365877\n",
      " 11.38708467 10.86359951  9.59230033 12.37671246 12.92661579 12.05950604\n",
      " 13.33551867 12.55622964 12.4672998  11.52729938 13.15234909 11.37645601\n",
      " 12.13135876 12.28933567 13.64872021 11.04822325]\n",
      "[ 9.83540698 10.28230854  8.15298027  8.02216096  8.34951293  9.13012354\n",
      "  8.52720137 10.69156303 10.64073635  9.78263735  9.01077989  7.8813132\n",
      "  9.77130708  7.86109283  7.84142308  9.05278057  9.29030095  9.87270592\n",
      "  8.23323745  9.19537055  8.9981654   9.06116015  7.96025196  8.91570736\n",
      "  9.07388279  8.3500006   8.58760717  8.73201395  9.02042343  9.60017714\n",
      "  9.31153903  9.08555572 10.61075122  8.87498788  8.54392253  9.68294422\n",
      "  9.48542229  9.12302176 10.20421    10.0255172   9.27894501  8.26832094\n",
      "  8.86255582  8.88607421  8.95226102  8.95218636  9.04850694  9.95521231\n",
      "  9.92624549  9.14692332  8.66928722  6.79262321  8.89296856  7.8310815\n",
      "  9.77783995  8.64948889  9.41155363  8.16401965  7.30678596  9.59440706\n",
      "  8.37502858  9.56157291  9.1153613   7.70066477  9.51724042  8.91101256\n",
      "  8.63266846  8.74466632 10.11029946  8.33566324 12.1718424   9.82153829\n",
      "  9.81772168  8.4429714   9.89936193 10.1690634   7.97620444  7.88660782\n",
      "  8.8780613   9.96729771 10.38737762  8.42629902 10.4477684   8.50648676\n",
      "  7.88398384  8.66376827  7.52926337  8.48199694  9.70170688  7.88859015\n",
      "  9.64589939  9.65645696  9.78195477  9.22188677  8.51805113  9.13970871\n",
      "  6.49796251 10.37833947  9.88919216  8.38237078]\n"
     ]
    }
   ],
   "source": [
    "import numpy as np\n",
    "\n",
    "mean = [12, 9]  # These are the means we wrote above\n",
    "cov = [[1, 0.345], [0.345, 1]] # This is a covariance matrix. \n",
    "\n",
    "## Let's pick a sample size of 100\n",
    "num_samples = 100\n",
    "\n",
    "## Simulate the data\n",
    "x, y = np.random.multivariate_normal(mean, cov, size=num_samples).T\n",
    "print(x)\n",
    "print(y)"
   ]
  },
  {
   "cell_type": "code",
   "execution_count": 2,
   "metadata": {},
   "outputs": [
    {
     "name": "stdout",
     "output_type": "stream",
     "text": [
      "This is the b0 value: 5.26186500389616\n",
      "This is the b1 value: 0.31347705480656374\n"
     ]
    }
   ],
   "source": [
    "# Your work here\n",
    "\n",
    "#pre-math\n",
    "sumx = sum(x)\n",
    "sumy = sum(y)\n",
    "\n",
    "x_squared = 0\n",
    "for i in x:\n",
    "    x_squared += i**2\n",
    "    \n",
    "sboth = 0\n",
    "for j in range(len(x)):\n",
    "    sboth += x[j]*y[j]\n",
    "\n",
    "    \n",
    "#slope\n",
    "b0top = (sumy)*(x_squared)-(sumx)*(sboth)\n",
    "\n",
    "b0bottom = (num_samples*(x_squared))-(sumx**2)\n",
    "\n",
    "b0 = b0top/b0bottom\n",
    "\n",
    "print(\"This is the b0 value:\",b0)\n",
    "\n",
    "\n",
    "#intercept\n",
    "b1top = (num_samples*sboth) - (sumx*sumy)\n",
    "b1bottom = (num_samples*(x_squared))-(sumx**2) \n",
    "\n",
    "b1 = b1top/b1bottom\n",
    "\n",
    "print(\"This is the b1 value:\", b1)\n"
   ]
  },
  {
   "cell_type": "code",
   "execution_count": 11,
   "metadata": {},
   "outputs": [
    {
     "name": "stdout",
     "output_type": "stream",
     "text": [
      "0.43018163259347275\n"
     ]
    }
   ],
   "source": [
    "# Extra credit here\n",
    "import math\n",
    "n = len(x)\n",
    "xy = 0\n",
    "for i in range(n):\n",
    "    xy += x[i]*y[i]\n",
    "\n",
    "x_2 = 0\n",
    "for i in range(n):\n",
    "    x_2 += x[i]**2\n",
    "\n",
    "y_2 = 0\n",
    "for i in range(n):\n",
    "    y_2 += y[i]**2\n",
    "    \n",
    "sx = sum(x)\n",
    "sy = sum(y)\n",
    "\n",
    "\n",
    "top = (n*xy)-(sx*sy)\n",
    "bottom = math.sqrt(((n*x_2)-sx**2)*((n*y_2)-sy**2)) \n",
    "\n",
    "r = top/bottom\n",
    "\n",
    "print(r)"
   ]
  },
  {
   "cell_type": "code",
   "execution_count": null,
   "metadata": {},
   "outputs": [],
   "source": []
  },
  {
   "cell_type": "code",
   "execution_count": null,
   "metadata": {},
   "outputs": [],
   "source": []
  },
  {
   "cell_type": "code",
   "execution_count": null,
   "metadata": {},
   "outputs": [],
   "source": []
  }
 ],
 "metadata": {
  "kernelspec": {
   "display_name": "Python 3",
   "language": "python",
   "name": "python3"
  },
  "language_info": {
   "codemirror_mode": {
    "name": "ipython",
    "version": 3
   },
   "file_extension": ".py",
   "mimetype": "text/x-python",
   "name": "python",
   "nbconvert_exporter": "python",
   "pygments_lexer": "ipython3",
   "version": "3.6.5"
  },
  "toc": {
   "base_numbering": 1,
   "nav_menu": {},
   "number_sections": false,
   "sideBar": false,
   "skip_h1_title": false,
   "title_cell": "Table of Contents",
   "title_sidebar": "Contents",
   "toc_cell": false,
   "toc_position": {},
   "toc_section_display": false,
   "toc_window_display": false
  }
 },
 "nbformat": 4,
 "nbformat_minor": 2
}
