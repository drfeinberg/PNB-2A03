{
 "cells": [
  {
   "cell_type": "markdown",
   "metadata": {},
   "source": [
    "# Assignment 3 - Linear Regression"
   ]
  },
  {
   "cell_type": "markdown",
   "metadata": {},
   "source": [
    "## Your assignment is to write a funtion that will perform an Ordinary Least Squares Regression.\n",
    "### The function should return the slope and the intercept, and a  list of residuals\n",
    "### Test the regression funtion using the simulated data provided below.\n",
    "\n",
    "The OLS regression equation takes the form:\n",
    "$Y_i = b_0 + b_1X_i + \\epsilon_i$\n",
    "\n",
    "#### To code the regression, you need only these 2 formulae\n",
    "Slope = $b_0 = $(Σy)(Σx^2) - (Σx)(Σxy)/ n(Σx^2) - (Σx)^2  \n",
    "Intercept = $b_1= $ n(Σxy) - (Σx)(Σy) /n(Σx^2) - (Σx)^2\n",
    "\n",
    "Residual = Observed y-value - Predicted y-value\n",
    "\n",
    "#### Extra credit\n",
    "Use the equation for a correlation from last assignment. Make a funciton out of it.  Calculate the $R^2$ value of the regression by squaring the r-value of these data from the correlation equation."
   ]
  },
  {
   "cell_type": "markdown",
   "metadata": {},
   "source": [
    "## Use this code to simulate your data.  Use `x` and `y` to test your regression."
   ]
  },
  {
   "cell_type": "code",
   "execution_count": 1,
   "metadata": {},
   "outputs": [],
   "source": [
    "import numpy as np\n",
    "\n",
    "mean = [12, 9]  # These are the means we wrote above\n",
    "cov = [[1, 0.345], [0.345, 1]] # This is a covariance matrix. \n",
    "\n",
    "## Let's pick a sample size of 100\n",
    "num_samples = 100\n",
    "\n",
    "## Simulate the data\n",
    "x, y = np.random.multivariate_normal(mean, cov, size=num_samples).T\n"
   ]
  },
  {
   "cell_type": "code",
   "execution_count": 2,
   "metadata": {},
   "outputs": [
    {
     "data": {
      "text/plain": [
       "(0.5404679860162789,\n",
       " 2.6354452546870055,\n",
       " [1.5065249932753417,\n",
       "  1.106712601335449,\n",
       "  -2.4398180123720685,\n",
       "  0.45792814438148355,\n",
       "  -1.0584079474953807,\n",
       "  0.2898728780643154,\n",
       "  0.009598134130305525,\n",
       "  0.45728567257937414,\n",
       "  -0.009858541881939686,\n",
       "  0.14011794588992466,\n",
       "  1.3045084925761294,\n",
       "  1.386313161297112,\n",
       "  -0.012042161287096675,\n",
       "  -0.2592605283698717,\n",
       "  0.09738532368793251,\n",
       "  -0.7812565626843622,\n",
       "  -1.8364980120160208,\n",
       "  1.2704806452485098,\n",
       "  -1.3639663184977069,\n",
       "  0.6541270079989108,\n",
       "  -0.6935611049794765,\n",
       "  1.6729902772937173,\n",
       "  0.712710394490438,\n",
       "  -0.27670167099650733,\n",
       "  0.5673358749744501,\n",
       "  0.5446752008981033,\n",
       "  1.229057530301242,\n",
       "  -1.1937146608845763,\n",
       "  0.20607387523890353,\n",
       "  0.5537612757083501,\n",
       "  -0.8832273978092058,\n",
       "  -0.11644568321268878,\n",
       "  0.3641723597252664,\n",
       "  0.3953136405246269,\n",
       "  -0.014325412735622933,\n",
       "  -0.3894814612004094,\n",
       "  -0.27556928521302027,\n",
       "  0.04048383987316484,\n",
       "  1.3395187120271554,\n",
       "  -1.3288655341202924,\n",
       "  0.38980656398753943,\n",
       "  -0.9216120699803323,\n",
       "  -0.29071442936086456,\n",
       "  0.2644664777690604,\n",
       "  1.0883209651005963,\n",
       "  -0.2789558521511317,\n",
       "  -0.9381480709422441,\n",
       "  2.6744844185954157,\n",
       "  -0.3147911911317838,\n",
       "  -0.7205144947600157,\n",
       "  0.5598814844557154,\n",
       "  0.33165963867458004,\n",
       "  -0.9536427905888987,\n",
       "  1.2281285546543206,\n",
       "  -1.2948160924484755,\n",
       "  -0.5189756394950447,\n",
       "  0.7065009632866932,\n",
       "  1.1876368376854476,\n",
       "  0.10484774545541775,\n",
       "  0.6385165540650526,\n",
       "  0.8127245478467824,\n",
       "  -0.12901512457006525,\n",
       "  -2.487284153978333,\n",
       "  0.5201132679113503,\n",
       "  -0.16067170721304436,\n",
       "  0.6393084389030239,\n",
       "  -0.2723574150426131,\n",
       "  -0.5171314864911629,\n",
       "  0.06497755532703842,\n",
       "  0.18347870558988966,\n",
       "  -1.3150307485379251,\n",
       "  0.5180688565969831,\n",
       "  -0.04141564505333761,\n",
       "  -0.8835884378351491,\n",
       "  0.5761103222639701,\n",
       "  -0.7346296922974993,\n",
       "  0.44772514280457365,\n",
       "  -0.5406307829726593,\n",
       "  -1.4167312400498666,\n",
       "  -1.7920570745888096,\n",
       "  0.4538444845082328,\n",
       "  0.34435329750886545,\n",
       "  -0.19093987028627524,\n",
       "  -1.64743703979995,\n",
       "  0.27431336464999845,\n",
       "  -0.3529578123825363,\n",
       "  0.7120188876139917,\n",
       "  -0.5381646091870209,\n",
       "  2.081956137257375,\n",
       "  -0.5802308421533997,\n",
       "  -0.5846134067430064,\n",
       "  -0.1480001683074459,\n",
       "  -0.6497056861398303,\n",
       "  0.9911864168757614,\n",
       "  -0.46381367222781833,\n",
       "  -0.6992052884685833,\n",
       "  0.18577188429444647,\n",
       "  1.1935618313011638,\n",
       "  0.29110998909936825,\n",
       "  -0.4610384846861617])"
      ]
     },
     "execution_count": 2,
     "metadata": {},
     "output_type": "execute_result"
    }
   ],
   "source": [
    "def suma(x): \n",
    "    sum=0\n",
    "    for i in x:\n",
    "        sum=sum+i\n",
    "    return sum\n",
    "\n",
    "def sumxy(x,y):\n",
    "    sumxy=0\n",
    "    for i in range(len(x)):\n",
    "        sumxy= sumxy + x[i]*y[i]\n",
    "    return sumxy\n",
    "\n",
    "def sumsquared(x):\n",
    "    sumsquared=0\n",
    "    for i in x:\n",
    "        sumsquared=sumsquared + i*i\n",
    "    return sumsquared\n",
    "\n",
    "def ols_regression(x,y,num_samples):\n",
    "    intercept=0\n",
    "    intercept= (suma(y)*sumsquared(x) - suma(x)*sumxy(x,y)) / (num_samples*sumsquared(x) - suma(x)**2)\n",
    "    slope=0\n",
    "    slope= (num_samples*sumxy(x,y) - suma(x)*suma(y))/ (num_samples*sumsquared(x) - suma(x)**2)\n",
    "    residuals=[]\n",
    "    for i in range(len(x)):\n",
    "        residuals.append(y[i] - (slope*x[i] + intercept))\n",
    "    return slope,intercept,residuals\n",
    "\n",
    "ols_regression(x,y,100)\n",
    "    "
   ]
  },
  {
   "cell_type": "code",
   "execution_count": 3,
   "metadata": {},
   "outputs": [
    {
     "name": "stdout",
     "output_type": "stream",
     "text": [
      "0.5226147252288329\n",
      "0.2731261510260085\n"
     ]
    }
   ],
   "source": [
    "# Extra credit here\n",
    "def correlation(x,y,num_samples):\n",
    "    r = 0\n",
    "    r = (num_samples*sumxy(x,y) - suma(x) * suma(y)) / ((num_samples*sumsquared(x) - (suma(x)**2))*(num_samples*sumsquared(y) - (suma(y))**2))**0.5\n",
    "    return r\n",
    "\n",
    "r= correlation(x,y,100)\n",
    "rsquared = r**2\n",
    "print(r)\n",
    "print(rsquared)\n",
    "\n"
   ]
  },
  {
   "cell_type": "code",
   "execution_count": null,
   "metadata": {},
   "outputs": [],
   "source": []
  }
 ],
 "metadata": {
  "kernelspec": {
   "display_name": "Python 3",
   "language": "python",
   "name": "python3"
  },
  "language_info": {
   "codemirror_mode": {
    "name": "ipython",
    "version": 3
   },
   "file_extension": ".py",
   "mimetype": "text/x-python",
   "name": "python",
   "nbconvert_exporter": "python",
   "pygments_lexer": "ipython3",
   "version": "3.6.5"
  },
  "toc": {
   "base_numbering": 1,
   "nav_menu": {},
   "number_sections": false,
   "sideBar": false,
   "skip_h1_title": false,
   "title_cell": "Table of Contents",
   "title_sidebar": "Contents",
   "toc_cell": false,
   "toc_position": {},
   "toc_section_display": false,
   "toc_window_display": false
  }
 },
 "nbformat": 4,
 "nbformat_minor": 2
}
