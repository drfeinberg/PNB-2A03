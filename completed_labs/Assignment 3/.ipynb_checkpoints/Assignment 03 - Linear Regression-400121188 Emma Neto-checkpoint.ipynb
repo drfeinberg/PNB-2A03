{
 "cells": [
  {
   "cell_type": "markdown",
   "metadata": {},
   "source": [
    "# Assignment 3 - Linear Regression"
   ]
  },
  {
   "cell_type": "markdown",
   "metadata": {},
   "source": [
    "## Your assignment is to write a funtion that will perform an Ordinary Least Squares Regression.\n",
    "### The function should return the slope and the intercept, and a  list of residuals\n",
    "### Test the regression funtion using the simulated data provided below.\n",
    "\n",
    "The OLS regression equation takes the form:\n",
    "$Y_i = b_0 + b_1X_i + \\epsilon_i$\n",
    "\n",
    "#### To code the regression, you need only these 2 formulae\n",
    "Slope = $b_1 = $(Σy)(Σx^2) - (Σx)(Σxy)/ n(Σx^2) - (Σx)^2  \n",
    "Intercept = $b_0= $ n(Σxy) - (Σx)(Σy) /n(Σx^2) - (Σx)^2\n",
    "\n",
    "Residual = Observed y-value - Predicted y-value\n",
    "\n",
    "#### Extra credit\n",
    "Use the equation for a correlation from last assignment. Make a funciton out of it.  Calculate the $R^2$ value of the regression by squaring the r-value of these data from the correlation equation."
   ]
  },
  {
   "cell_type": "markdown",
   "metadata": {},
   "source": [
    "## Use this code to simulate your data.  Use `x` and `y` to test your regression."
   ]
  },
  {
   "cell_type": "code",
   "execution_count": 1,
   "metadata": {},
   "outputs": [],
   "source": [
    "import numpy as np\n",
    "\n",
    "mean = [12, 9]  # These are the means we wrote above\n",
    "cov = [[1, 0.345], [0.345, 1]] # This is a covariance matrix. \n",
    "\n",
    "## Let's pick a sample size of 100\n",
    "num_samples = 100\n",
    "\n",
    "## Simulate the data\n",
    "x, y = np.random.multivariate_normal(mean, cov, size=num_samples).T"
   ]
  },
  {
   "cell_type": "code",
   "execution_count": 2,
   "metadata": {},
   "outputs": [
    {
     "name": "stdout",
     "output_type": "stream",
     "text": [
      "slope = 5.7853453387442695\n",
      "intercept = 0.26960428422830846\n"
     ]
    }
   ],
   "source": [
    "#creating the linear regression equation using for loops\n",
    "sumx=0\n",
    "for i in x:\n",
    "    sumx+=i\n",
    "sumy=0\n",
    "for i in y:\n",
    "    sumy+=i\n",
    "sumxy=0\n",
    "for i in range(0,100):\n",
    "    sumxy+=x[i]*y[i]\n",
    "sum_xsquared=0\n",
    "for i in x:\n",
    "    sum_xsquared+=i**2\n",
    "sum_ysquared=0\n",
    "for i in y:\n",
    "    sum_ysquared+=i**2\n",
    "squared_sumx=sumx**2\n",
    "squared_sumy=sumy**2\n",
    "n=len(x)\n",
    "slope_withforloops = (sumy*sum_xsquared - sumx*sumxy)/(n*sum_xsquared - squared_sumx)\n",
    "intercept_withforloops = (n*sumxy - sumx*sumy)/(n*sum_xsquared - squared_sumx)\n",
    "print(\"slope =\", slope_withforloops)\n",
    "print(\"intercept =\", intercept_withforloops)"
   ]
  },
  {
   "cell_type": "code",
   "execution_count": 51,
   "metadata": {},
   "outputs": [
    {
     "name": "stdout",
     "output_type": "stream",
     "text": [
      "slope = 5.073953835318431\n",
      "intercept = 0.32759908132120535\n"
     ]
    }
   ],
   "source": [
    "#creating the linear regression equation using built-in functions\n",
    "slope_withfunctions=(sum(y)*sum(x**2)-sum(x)*sum(x*y))/(n*sum(x**2)-sum(x)**2)\n",
    "print(\"slope =\",slope_withfunctions)\n",
    "intercept_withfunctions=(n*sum(x*y)-sum(x)*sum(y))/(n*sum(x**2)-(sum(x))**2)\n",
    "print(\"intercept =\", intercept_withfunctions)"
   ]
  },
  {
   "cell_type": "code",
   "execution_count": 52,
   "metadata": {},
   "outputs": [],
   "source": [
    "#extra credit:\n",
    "#Use the equation for a correlation from last assignment. Make a funciton out of it. \n",
    "#Calculate the  𝑅2  value of the regression by squaring the r-value of these data from \n",
    "#the correlation equation."
   ]
  },
  {
   "cell_type": "code",
   "execution_count": 3,
   "metadata": {},
   "outputs": [
    {
     "name": "stdout",
     "output_type": "stream",
     "text": [
      "r = 0.2619690774736097\n",
      "r_squared = 0.06862779755237412\n"
     ]
    }
   ],
   "source": [
    "def correlation(x,y):\n",
    "    n=num_samples\n",
    "    r=(n*sum(x*y)-sum(x)*sum(y))/((n*sum(x**2)-(sum(x)**2))*(n*sum(y**2)-(sum(y)**2)))**0.5\n",
    "    print(\"r =\", r)\n",
    "    r_squared=r**2\n",
    "    print(\"r_squared =\", r_squared)\n",
    "\n",
    "correlation(x,y)"
   ]
  },
  {
   "cell_type": "code",
   "execution_count": null,
   "metadata": {},
   "outputs": [],
   "source": []
  }
 ],
 "metadata": {
  "kernelspec": {
   "display_name": "Python 3",
   "language": "python",
   "name": "python3"
  },
  "language_info": {
   "codemirror_mode": {
    "name": "ipython",
    "version": 3
   },
   "file_extension": ".py",
   "mimetype": "text/x-python",
   "name": "python",
   "nbconvert_exporter": "python",
   "pygments_lexer": "ipython3",
   "version": "3.6.5"
  },
  "toc": {
   "base_numbering": 1,
   "nav_menu": {},
   "number_sections": false,
   "sideBar": false,
   "skip_h1_title": false,
   "title_cell": "Table of Contents",
   "title_sidebar": "Contents",
   "toc_cell": false,
   "toc_position": {},
   "toc_section_display": false,
   "toc_window_display": false
  }
 },
 "nbformat": 4,
 "nbformat_minor": 2
}
