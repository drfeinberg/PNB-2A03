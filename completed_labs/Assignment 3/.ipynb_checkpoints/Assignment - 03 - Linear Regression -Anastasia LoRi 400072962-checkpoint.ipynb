{
 "cells": [
  {
   "cell_type": "markdown",
   "metadata": {},
   "source": [
    "# Assignment 3 - Linear Regression"
   ]
  },
  {
   "cell_type": "markdown",
   "metadata": {},
   "source": [
    "## Your assignment is to write a funtion that will perform an Ordinary Least Squares Regression.\n",
    "### The function should return the slope and the intercept, and a  list of residuals\n",
    "### Test the regression funtion using the simulated data provided below.\n",
    "\n",
    "The OLS regression equation takes the form:\n",
    "$Y_i = b_0 + b_1X_i + \\epsilon_i$\n",
    "\n",
    "#### To code the regression, you need only these 2 formulae\n",
    "Slope = $b_0 = $(Σy)(Σx^2) - (Σx)(Σxy)/ n(Σx^2) - (Σx)^2  \n",
    "Intercept = $b_1= $ n(Σxy) - (Σx)(Σy) /n(Σx^2) - (Σx)^2\n",
    "\n",
    "Residual = Observed y-value - Predicted y-value\n",
    "\n",
    "#### Extra credit\n",
    "Use the equation for a correlation from last assignment. Make a funciton out of it.  Calculate the $R^2$ value of the regression by squaring the r-value of these data from the correlation equation."
   ]
  },
  {
   "cell_type": "markdown",
   "metadata": {},
   "source": [
    "## Use this code to simulate your data.  Use `x` and `y` to test your regression."
   ]
  },
  {
   "cell_type": "code",
   "execution_count": 37,
   "metadata": {},
   "outputs": [
    {
     "name": "stdout",
     "output_type": "stream",
     "text": [
      "[12.53839736 13.12742614 10.47972332 11.90391788 10.943877   11.89150821\n",
      " 11.29711987 12.14795328 11.38819868 11.82632804 10.06462613 13.8193223\n",
      " 13.23058601 11.69304729 12.32052087 10.67218964 11.56117692 12.8264898\n",
      " 12.14475068 12.55116365 12.24294291 11.18796233 11.97445742 12.72040773\n",
      " 11.30720192 12.70874886 12.11436664 12.35554756 10.96471326 11.49809367\n",
      " 12.75580774 12.82097189 12.46128233 10.85899945 13.04789588 11.48243346\n",
      " 11.70336209 11.415074   13.13321978 12.44297238 10.90584911 12.15329904\n",
      " 12.86968889 13.0327852  10.69790383 11.81657812 13.05846751 12.99913109\n",
      " 13.58582118 13.53427424  9.95670806 11.39541698 12.65794316  9.7327622\n",
      " 11.48697853 11.49590203 10.62773923 13.51799694 11.54048159 13.44567821\n",
      " 12.82239654 13.41753413 12.45089417 12.11328694 13.4320228  11.49074963\n",
      " 10.4287071  12.07707229 10.73110576 12.0535076  10.59600107 11.9344495\n",
      " 13.30282968 11.13900125 11.12260477 12.09582654 11.26444065  8.84352335\n",
      " 11.71967998 12.33403165 11.48529868 12.92831357 11.90478414 11.73124708\n",
      " 12.08704975 11.50464324 12.6655009  11.41756796 12.88234156 12.32324638\n",
      " 12.13398171 12.54055519 13.57865773  9.27103776 10.62685672 13.08900867\n",
      " 11.32403954 12.18590441 11.71550348 12.9453157 ]\n",
      "[ 8.10851451 10.31283174  8.43404164  9.69752501  9.18550747  8.20367476\n",
      "  8.06343219  9.59831934 10.00278398  8.82858378  8.04091723  9.0629325\n",
      " 10.09854949  7.89444869  9.25681231  9.61588738 11.22868237  8.70590022\n",
      "  7.97133084  9.01194555  9.58647694  8.10266049  8.18099883  8.66505429\n",
      "  8.85535799  9.9942647  10.46460092  9.33736263  7.78646063  8.45877611\n",
      "  9.61331149  8.82563739  9.6474698   8.76218146  8.3167841   9.54405433\n",
      "  9.12563516  8.13045513  9.5498343  10.24449793 10.23021997  9.27376367\n",
      "  7.97686597  9.26838791  8.75674666  9.23170952 10.48613152  9.81834425\n",
      "  9.05205611  9.75196033  8.57444443  9.00634592  9.63676507  8.41471883\n",
      "  7.17521348 11.03607915  7.13931549  6.99099263  9.40926948  7.20714791\n",
      "  8.97291779  9.64140826 11.58038255  7.70910902 10.34796954  8.5743891\n",
      "  6.45331882  8.91596094  9.91603226 10.39068248  8.59469269  8.90455673\n",
      "  9.30374542  8.07140881  8.18191551  8.10760332  8.01886398  7.18345226\n",
      "  9.10105168 10.16006289  8.26402285  9.61734108  9.11707331  9.09446068\n",
      "  9.6656494   7.42069015  9.79374311 10.0879056   7.00255545 10.28843349\n",
      "  9.54646187  9.52723052  8.94905385  8.35881211  8.36884186 10.5000836\n",
      "  7.97846795  8.79203888 10.30600197  8.20366081]\n"
     ]
    }
   ],
   "source": [
    "import numpy as np\n",
    "\n",
    "mean = [12, 9]  # These are the means we wrote above\n",
    "cov = [[1, 0.345], [0.345, 1]] # This is a covariance matrix. \n",
    "\n",
    "## Let's pick a sample size of 100\n",
    "num_samples = 100\n",
    "\n",
    "## Simulate the data\n",
    "x, y = np.random.multivariate_normal(mean, cov, size=num_samples).T\n",
    "\n",
    "print(x)\n",
    "\n",
    "print(y)"
   ]
  },
  {
   "cell_type": "code",
   "execution_count": 38,
   "metadata": {},
   "outputs": [
    {
     "name": "stdout",
     "output_type": "stream",
     "text": [
      "5.384684154128431\n",
      "0.3022917639457539\n",
      "[67.81760137 70.9893353  56.73229186 64.40112973 59.23161281 64.33430761\n",
      " 61.13371413 65.71518328 61.62414475 63.98333298 54.49712459 74.71497755\n",
      " 71.54481859 63.2656582  66.64440525 57.76866219 62.55557792 69.36888817\n",
      " 65.69793828 67.88634381 66.22667243 60.54593525 64.7809629  68.79766972\n",
      " 61.18800278 68.73489039 65.53432987 66.83301293 59.34380952 62.21589455\n",
      " 68.98828756 69.33917596 67.40236128 58.77457404 70.56108997 62.13156928\n",
      " 63.32120015 61.76885986 71.02053221 67.30376797 59.02684465 65.74396851\n",
      " 69.6015016  70.4797237  57.90712501 63.93083272 70.61801485 70.29850698\n",
      " 73.4576478  73.1800838  53.91601991 61.663013   68.46131772 52.71014216\n",
      " 62.15604302 62.20409324 57.52931078 73.09243569 62.44414011 72.70302217\n",
      " 69.34684725 72.55147516 67.34642428 65.528516   72.6294921  62.1763492\n",
      " 56.45758564 65.33351157 58.0859069  65.20662315 57.35841081 64.5655329\n",
      " 71.93382793 60.28229531 60.19400543 65.43449724 60.95774685 47.9218718\n",
      " 63.40906686 66.71715654 62.14699755 69.917177   64.40579429 63.47135204\n",
      " 65.38723704 62.25116191 68.50201375 61.78228905 69.66963221 66.65908126\n",
      " 65.63995079 67.82922058 73.41907486 50.22390191 57.52455874 70.78246933\n",
      " 61.27866801 65.91953814 63.38657774 70.00872807]\n"
     ]
    }
   ],
   "source": [
    "# Your work here\n",
    "m =((sum(y)*sum(x**2)) - ((sum(x))*sum(x*y)))/ (((num_samples)*(sum(x**2))) - (sum(x))**2)\n",
    "print(m)\n",
    "\n",
    "b = (((num_samples)*(sum(x*y)))- ((sum(x))*(sum(y))))/ (((num_samples)*(sum(x**2))) - (sum(x))**2)\n",
    "print(b)\n",
    "\n",
    "regression = b + (m*(x))\n",
    "print(regression)"
   ]
  },
  {
   "cell_type": "code",
   "execution_count": 39,
   "metadata": {},
   "outputs": [],
   "source": [
    "# Extra credit here \n",
    "#Use the equation for a correlation from last assignment. Make a funciton out of it. \n",
    "#Calculate the  𝑅2  value of the regression by squaring the r-value of these data from the correlation equation.\n",
    "\n",
    "#Not sure if you would like the function of the previous correlation made here. We did find R in the previous lab \n",
    "    #so I squared that below to find R^2"
   ]
  },
  {
   "cell_type": "code",
   "execution_count": 1,
   "metadata": {},
   "outputs": [
    {
     "name": "stdout",
     "output_type": "stream",
     "text": [
      "0.001865836990551378\n"
     ]
    }
   ],
   "source": [
    "r=-0.04319533528694248\n",
    "print(r**2)"
   ]
  },
  {
   "cell_type": "code",
   "execution_count": null,
   "metadata": {},
   "outputs": [],
   "source": []
  }
 ],
 "metadata": {
  "kernelspec": {
   "display_name": "Python 3",
   "language": "python",
   "name": "python3"
  },
  "language_info": {
   "codemirror_mode": {
    "name": "ipython",
    "version": 3
   },
   "file_extension": ".py",
   "mimetype": "text/x-python",
   "name": "python",
   "nbconvert_exporter": "python",
   "pygments_lexer": "ipython3",
   "version": "3.6.5"
  },
  "toc": {
   "base_numbering": 1,
   "nav_menu": {},
   "number_sections": false,
   "sideBar": false,
   "skip_h1_title": false,
   "title_cell": "Table of Contents",
   "title_sidebar": "Contents",
   "toc_cell": false,
   "toc_position": {},
   "toc_section_display": false,
   "toc_window_display": false
  }
 },
 "nbformat": 4,
 "nbformat_minor": 2
}
