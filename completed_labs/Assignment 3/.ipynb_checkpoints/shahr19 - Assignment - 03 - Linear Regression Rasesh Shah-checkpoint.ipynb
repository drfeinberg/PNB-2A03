{
 "cells": [
  {
   "cell_type": "markdown",
   "metadata": {},
   "source": [
    "# Assignment 3 - Linear Regression"
   ]
  },
  {
   "cell_type": "markdown",
   "metadata": {},
   "source": [
    "## Your assignment is to write a funtion that will perform an Ordinary Least Squares Regression.\n",
    "### The function should return the slope and the intercept, and a  list of residuals\n",
    "### Test the regression funtion using the simulated data provided below.\n",
    "\n",
    "The OLS regression equation takes the form:\n",
    "$Y_i = b_0 + b_1X_i + \\epsilon_i$\n",
    "\n",
    "#### To code the regression, you need only these 2 formulae\n",
    "Slope = $b_0 = $(Σy)(Σx^2) - (Σx)(Σxy)/ n(Σx^2) - (Σx)^2  \n",
    "Intercept = $b_1= $ n(Σxy) - (Σx)(Σy) /n(Σx^2) - (Σx)^2\n",
    "\n",
    "Residual = Observed y-value - Predicted y-value\n",
    "\n",
    "#### Extra credit\n",
    "Use the equation for a correlation from last assignment. Make a funciton out of it.  Calculate the $R^2$ value of the regression by squaring the r-value of these data from the correlation equation."
   ]
  },
  {
   "cell_type": "markdown",
   "metadata": {},
   "source": [
    "## Use this code to simulate your data.  Use `x` and `y` to test your regression."
   ]
  },
  {
   "cell_type": "code",
   "execution_count": 1,
   "metadata": {},
   "outputs": [],
   "source": [
    "import numpy as np\n",
    "\n",
    "mean = [12, 9]  # These are the means we wrote above\n",
    "cov = [[1, 0.345], [0.345, 1]] # This is a covariance matrix. \n",
    "\n",
    "## Let's pick a sample size of 100\n",
    "num_samples = 100\n",
    "\n",
    "## Simulate the data\n",
    "x, y = np.random.multivariate_normal(mean, cov, size=num_samples).T"
   ]
  },
  {
   "cell_type": "code",
   "execution_count": 2,
   "metadata": {},
   "outputs": [
    {
     "name": "stdout",
     "output_type": "stream",
     "text": [
      "Y =  1.6094736340813331 X +  0.6218174111745729\n"
     ]
    },
    {
     "data": {
      "text/plain": [
       "<Figure size 640x480 with 1 Axes>"
      ]
     },
     "metadata": {},
     "output_type": "display_data"
    }
   ],
   "source": [
    "# Your work here\n",
    "\n",
    "def regression(x,y):\n",
    "    n = len(x)\n",
    "    intercept = (np.sum(y)*np.sum(x**2) - np.sum(x)*np.sum(x*y))/(n*np.sum(x**2) - np.sum(x)**2)\n",
    "    slope = (n*np.sum(x*y) - np.sum(x)*np.sum(y))/(n*np.sum(x**2) - np.sum(x)**2)\n",
    "    \n",
    "    return [slope,intercept]\n",
    "\n",
    "regression_result = regression(x,y)\n",
    "print(\"Y = \",regression_result[1],\"X + \",regression_result[0])\n",
    "\n",
    "\n",
    "predicted_values = []\n",
    "for i in x:\n",
    "    predicted_values.append(regression_result[0]*i + regression_result[1])\n",
    "\n",
    "import matplotlib.pyplot as plt\n",
    "plt.scatter(x,y)\n",
    "plt.plot(x,predicted_values)\n",
    "plt.ylabel('some numbers')\n",
    "plt.show()\n"
   ]
  },
  {
   "cell_type": "code",
   "execution_count": 3,
   "metadata": {},
   "outputs": [
    {
     "name": "stdout",
     "output_type": "stream",
     "text": [
      "0.3019119605791274\n"
     ]
    }
   ],
   "source": [
    "# Extra credit here\n",
    "\n",
    "def pearson_correlation(x,y):\n",
    "    sumy = 0\n",
    "    sumx_squared = 0\n",
    "    sumx = 0\n",
    "    sumxy = 0\n",
    "    sumy_squared = 0\n",
    "    n = len(x)\n",
    "    for i in range (len(x)):\n",
    "        sumy += y[i]\n",
    "        sumx_squared += (x[i]**2)\n",
    "        sumx += x[i]\n",
    "        sumxy += (x[i]*y[i])\n",
    "        sumy_squared += y[i]**2\n",
    "    \n",
    "    numerator = n*(np.sum(x*y))-np.sum(x)*np.sum(y)\n",
    "    denominator = (((n*np.sum(x**2))-np.sum(x)**2) *(n*(np.sum(y**2))-(np.sum(y)**2)))**0.5\n",
    "    r = numerator/denominator\n",
    "    return r**2\n",
    "\n",
    "print(pearson_correlation(x,y))"
   ]
  },
  {
   "cell_type": "code",
   "execution_count": null,
   "metadata": {},
   "outputs": [],
   "source": []
  }
 ],
 "metadata": {
  "kernelspec": {
   "display_name": "Python 3",
   "language": "python",
   "name": "python3"
  },
  "language_info": {
   "codemirror_mode": {
    "name": "ipython",
    "version": 3
   },
   "file_extension": ".py",
   "mimetype": "text/x-python",
   "name": "python",
   "nbconvert_exporter": "python",
   "pygments_lexer": "ipython3",
   "version": "3.6.5"
  },
  "toc": {
   "base_numbering": 1,
   "nav_menu": {},
   "number_sections": false,
   "sideBar": false,
   "skip_h1_title": false,
   "title_cell": "Table of Contents",
   "title_sidebar": "Contents",
   "toc_cell": false,
   "toc_position": {},
   "toc_section_display": false,
   "toc_window_display": false
  }
 },
 "nbformat": 4,
 "nbformat_minor": 2
}
