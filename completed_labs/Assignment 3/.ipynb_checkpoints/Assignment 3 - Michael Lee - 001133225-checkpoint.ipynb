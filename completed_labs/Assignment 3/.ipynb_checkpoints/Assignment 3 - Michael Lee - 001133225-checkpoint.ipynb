{
 "cells": [
  {
   "cell_type": "markdown",
   "metadata": {},
   "source": [
    "# Assignment 3 - Linear Regression"
   ]
  },
  {
   "cell_type": "markdown",
   "metadata": {},
   "source": [
    "## Your assignment is to write a function that will perform an Ordinary Least Squares Regression.\n",
    "### The function should return the slope and the intercept, and a  list of residuals\n",
    "### Test the regression funtion using the simulated data provided below.\n",
    "\n",
    "The OLS regression equation takes the form:\n",
    "$Y_i = b_0 + b_1X_i + \\epsilon_i$\n",
    "\n",
    "#### To code the regression, you need only these 2 formulae\n",
    "Slope = $b_0 = $(Σy)(Σx^2) - (Σx)(Σxy)/ n(Σx^2) - (Σx)^2  \n",
    "Intercept = $b_1= $ n(Σxy) - (Σx)(Σy) /n(Σx^2) - (Σx)^2\n",
    "\n",
    "Residual = Observed y-value - Predicted y-value\n",
    "\n",
    "#### Extra credit\n",
    "Use the equation for a correlation from last assignment. Make a funciton out of it.  Calculate the $R^2$ value of the regression by squaring the r-value of these data from the correlation equation."
   ]
  },
  {
   "cell_type": "markdown",
   "metadata": {},
   "source": [
    "## Use this code to simulate your data.  Use `x` and `y` to test your regression."
   ]
  },
  {
   "cell_type": "code",
   "execution_count": 1,
   "metadata": {},
   "outputs": [],
   "source": [
    "import numpy as np\n",
    "\n",
    "mean = [12, 9]  # These are the means we wrote above\n",
    "cov = [[1, 0.345], [0.345, 1]] # This is a covariance matrix. \n",
    "\n",
    "## Let's pick a sample size of 100\n",
    "num_samples = 100\n",
    "\n",
    "## Simulate the data\n",
    "x, y = np.random.multivariate_normal(mean, cov, size=num_samples).T"
   ]
  },
  {
   "cell_type": "code",
   "execution_count": 2,
   "metadata": {},
   "outputs": [
    {
     "data": {
      "text/plain": [
       "(11864135.839625219,\n",
       " -362784.0576578153,\n",
       " array([8164204.32756489, 7660204.88199389, 7247307.16988121,\n",
       "        6934035.01964762, 7697567.36831374, 7751757.04585847,\n",
       "        8005593.56015603, 7159550.97577863, 7941096.20123349,\n",
       "        7170711.23104553, 7876708.07906506, 6807460.64697368,\n",
       "        7354333.53838825, 7314878.8643178 , 6867480.62576616,\n",
       "        7612262.65744388, 7151839.10192224, 7463111.73529175,\n",
       "        7514208.40024621, 7323519.43872582, 7697201.84091812,\n",
       "        7708309.22620387, 7126512.95438432, 7679614.43232664,\n",
       "        7142274.48522109, 7929944.15503148, 7428359.68606593,\n",
       "        7485192.88589093, 7052859.80968391, 7761324.34245957,\n",
       "        7395107.59286496, 8316084.19299371, 7653710.54185859,\n",
       "        7942434.46441642, 7326383.68688938, 7578595.62071436,\n",
       "        7073823.26845189, 7113999.0344402 , 6951944.39485875,\n",
       "        7682218.3014878 , 7171244.42516048, 6869316.44012025,\n",
       "        7730303.00583723, 7061862.37656011, 7153082.99025024,\n",
       "        7462085.58089611, 7512853.93379967, 7817420.90329341,\n",
       "        7580207.26160687, 7188595.02510602, 6530578.26815997,\n",
       "        6719381.59263776, 7740308.95535195, 7325143.67998748,\n",
       "        7673850.1896021 , 7297175.14486581, 7719792.71499437,\n",
       "        7250420.39750325, 7878170.82927415, 7673478.85804698,\n",
       "        7975895.65608747, 8268803.18243595, 7329851.88577737,\n",
       "        7797648.60179443, 7530688.07270404, 8046871.79766567,\n",
       "        7395617.16705911, 7323045.86105449, 7630778.68664226,\n",
       "        7579131.5378485 , 7349966.75932805, 7453442.94771311,\n",
       "        7394762.32029082, 7395412.94259198, 7941433.69671479,\n",
       "        7325556.47105602, 7603841.60145515, 7584289.62830481,\n",
       "        7622311.21842248, 7727715.27851268, 7614115.01905355,\n",
       "        6910720.83206134, 7098190.6182322 , 7405042.33936309,\n",
       "        7295748.29645345, 8139422.46330556, 7424674.05876669,\n",
       "        7272389.97400129, 7627699.90359843, 7566167.54554532,\n",
       "        6777516.98888305, 7546116.50066601, 7810532.37339391,\n",
       "        6959162.84824143, 8076360.43198647, 7712376.22561208,\n",
       "        7174694.62148555, 7878868.89927427, 7853104.73394925,\n",
       "        6942330.22938579]),\n",
       " array([-8164195.31187965, -7660196.18473348, -7247297.94235105,\n",
       "        -6934025.2266664 , -7697558.39776739, -7751748.65464646,\n",
       "        -8005583.83502265, -7159542.22829921, -7941088.81929464,\n",
       "        -7170702.55991338, -7876698.67255764, -6807450.1339884 ,\n",
       "        -7354324.48151523, -7314868.69618287, -6867470.88641187,\n",
       "        -7612254.57971193, -7151829.69475955, -7463102.45497871,\n",
       "        -7514198.27982457, -7323509.3216971 , -7697192.43173094,\n",
       "        -7708300.66136897, -7126501.81016948, -7679604.42828051,\n",
       "        -7142264.72703218, -7929934.54470798, -7428350.27837699,\n",
       "        -7485183.62447166, -7052851.56562597, -7761315.58050607,\n",
       "        -7395098.10300284, -8316077.7313149 , -7653701.52382424,\n",
       "        -7942425.05870226, -7326373.68521945, -7578585.82109346,\n",
       "        -7073812.92518464, -7113990.99071113, -6951934.78344197,\n",
       "        -7682209.09064108, -7171234.33535782, -6869307.10835209,\n",
       "        -7730293.73816564, -7061852.21637482, -7153072.72863845,\n",
       "        -7462077.06409146, -7512846.19821198, -7817411.99262829,\n",
       "        -7580197.32017813, -7188585.79983032, -6530567.24175878,\n",
       "        -6719372.38041325, -7740302.64697958, -7325135.17303759,\n",
       "        -7673841.16087208, -7297164.7121372 , -7719782.58218546,\n",
       "        -7250412.62181434, -7878162.03145393, -7673471.66880094,\n",
       "        -7975889.44934777, -8268794.62643059, -7329843.40694515,\n",
       "        -7797639.79639722, -7530678.51500684, -8046863.06310723,\n",
       "        -7395608.27307549, -7323035.89998593, -7630769.8627442 ,\n",
       "        -7579123.00156867, -7349958.19593119, -7453435.57553104,\n",
       "        -7394753.06115791, -7395403.60035903, -7941424.23182941,\n",
       "        -7325546.03332648, -7603833.48682372, -7584281.07948104,\n",
       "        -7622302.41062035, -7727706.16662431, -7614107.28381091,\n",
       "        -6910710.42975895, -7098179.28461169, -7405032.57577788,\n",
       "        -7295738.27039663, -8139415.80272624, -7424663.42494517,\n",
       "        -7272381.24064279, -7627691.49675746, -7566158.62016172,\n",
       "        -6777508.74545532, -7546107.87918012, -7810524.46321346,\n",
       "        -6959154.57989308, -8076351.54047583, -7712369.04164729,\n",
       "        -7174685.76246443, -7878859.45250609, -7853095.89934917,\n",
       "        -6942321.1450539 ]))"
      ]
     },
     "execution_count": 2,
     "metadata": {},
     "output_type": "execute_result"
    }
   ],
   "source": [
    "# Your work here\n",
    "x_squared = x**2\n",
    "y_squared = y**2\n",
    "\n",
    "sum_x = sum(x)\n",
    "sum_y = sum(y)\n",
    "sum_x_squared = sum(x_squared)\n",
    "sum_y_squared = sum(y_squared)\n",
    "n = len(x)\n",
    "\n",
    "sum_xy = 0\n",
    "for each in range (len(x)):\n",
    "    sum_xy = sum_xy + (x[each]*y[each])\n",
    "    \n",
    "def intercept(x, y):\n",
    "    first_part = sum(y)*sum_x_squared\n",
    "    second_part = (sum(x)*sum_xy)/(n*sum_x_squared)\n",
    "    third_part = (sum(x))**2\n",
    "    b_0 = first_part - second_part - third_part\n",
    "    return b_0\n",
    "\n",
    "def slope(x, y):\n",
    "    first_part = n*sum_xy\n",
    "    second_part = (sum(x)*sum(y))/(n*sum_x_squared)\n",
    "    third_part = (sum(x))**2\n",
    "    b_1 = first_part - second_part - third_part\n",
    "    return b_1\n",
    "\n",
    "def all_predictions(x, b0, b1):\n",
    "    y_predict = b0 + b1*x \n",
    "    return y_predict\n",
    "\n",
    "def all_residuals(y, y_predict):\n",
    "    residuals = y-y_predict\n",
    "    return residuals\n",
    "\n",
    "def final(x, y):\n",
    "    b0 = intercept(x, y)\n",
    "    b1 = slope(x, y)\n",
    "    y_predict = all_predictions(x, b0, b1)\n",
    "    residuals = all_residuals(y, y_predict)\n",
    "    return b0, b1, y_predict, residuals\n",
    "\n",
    "final(x, y)"
   ]
  },
  {
   "cell_type": "code",
   "execution_count": null,
   "metadata": {},
   "outputs": [],
   "source": [
    "# Extra credit here"
   ]
  }
 ],
 "metadata": {
  "kernelspec": {
   "display_name": "Python 3",
   "language": "python",
   "name": "python3"
  },
  "language_info": {
   "codemirror_mode": {
    "name": "ipython",
    "version": 3
   },
   "file_extension": ".py",
   "mimetype": "text/x-python",
   "name": "python",
   "nbconvert_exporter": "python",
   "pygments_lexer": "ipython3",
   "version": "3.6.5"
  },
  "toc": {
   "base_numbering": 1,
   "nav_menu": {},
   "number_sections": false,
   "sideBar": false,
   "skip_h1_title": false,
   "title_cell": "Table of Contents",
   "title_sidebar": "Contents",
   "toc_cell": false,
   "toc_position": {},
   "toc_section_display": false,
   "toc_window_display": false
  }
 },
 "nbformat": 4,
 "nbformat_minor": 2
}
