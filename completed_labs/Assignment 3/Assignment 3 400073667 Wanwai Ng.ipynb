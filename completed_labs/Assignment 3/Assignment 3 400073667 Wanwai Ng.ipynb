{
 "cells": [
  {
   "cell_type": "markdown",
   "metadata": {},
   "source": [
    "# Assignment 3 - Linear Regression"
   ]
  },
  {
   "cell_type": "markdown",
   "metadata": {},
   "source": [
    "## Your assignment is to write a funtion that will perform an Ordinary Least Squares Regression.\n",
    "### The function should return the slope and the intercept, and a  list of residuals\n",
    "### Test the regression funtion using the simulated data provided below.\n",
    "\n",
    "The OLS regression equation takes the form:\n",
    "$Y_i = b_0 + b_1X_i + \\epsilon_i$\n",
    "\n",
    "#### To code the regression, you need only these 2 formulae\n",
    "Slope = $b_0 = $(Σy)(Σx^2) - (Σx)(Σxy)/ n(Σx^2) - (Σx)^2  \n",
    "Intercept = $b_1= $ n(Σxy) - (Σx)(Σy) /n(Σx^2) - (Σx)^2\n",
    "\n",
    "Residual = Observed y-value - Predicted y-value\n",
    "\n",
    "#### Extra credit\n",
    "Use the equation for a correlation from last assignment. Make a funciton out of it.  Calculate the $R^2$ value of the regression by squaring the r-value of these data from the correlation equation."
   ]
  },
  {
   "cell_type": "markdown",
   "metadata": {},
   "source": [
    "## Use this code to simulate your data.  Use `x` and `y` to test your regression."
   ]
  },
  {
   "cell_type": "code",
   "execution_count": 1,
   "metadata": {},
   "outputs": [
    {
     "name": "stdout",
     "output_type": "stream",
     "text": [
      "<class 'numpy.ndarray'>\n",
      "<class 'numpy.ndarray'>\n"
     ]
    },
    {
     "data": {
      "text/plain": [
       "array([[1.        , 0.32913514],\n",
       "       [0.32913514, 1.        ]])"
      ]
     },
     "execution_count": 1,
     "metadata": {},
     "output_type": "execute_result"
    }
   ],
   "source": [
    "import numpy as np\n",
    "\n",
    "mean = [12, 9]  # These are the means we wrote above\n",
    "cov = [[1, 0.345], [0.345, 1]] # This is a covariance matrix. \n",
    "\n",
    "## Let's pick a sample size of 100\n",
    "num_samples = 100\n",
    "\n",
    "## Simulate the data\n",
    "x, y = np.random.multivariate_normal(mean, cov, size=num_samples).T\n",
    "\n",
    "print(type(x))\n",
    "print(type(y))\n",
    "np.corrcoef(x, y)"
   ]
  },
  {
   "cell_type": "code",
   "execution_count": 2,
   "metadata": {},
   "outputs": [
    {
     "name": "stdout",
     "output_type": "stream",
     "text": [
      "sumx: 1178.2507429361683\n",
      "sumy: 886.8948734528964\n",
      "sum_xy: 10479.20789846253\n",
      "sum_xsquared: 13959.32791147185\n",
      "sum_ysquared: 7969.75071773332\n",
      "n:  100\n",
      "slope = 10992172.703224625\n"
     ]
    }
   ],
   "source": [
    "sumx = 0\n",
    "sumy = 0\n",
    "sum_xy = 0\n",
    "sum_xsquared = 0\n",
    "sum_ysquared = 0\n",
    "\n",
    "for i in range(len(x)):\n",
    "    sumx += x[i]\n",
    "    sumy += y[i]\n",
    "    sum_xy += x[i]*y[i]\n",
    "    sum_xsquared += x[i]**2 \n",
    "    sum_ysquared += y[i]**2\n",
    "    \n",
    "    \n",
    "print(\"sumx: {}\\nsumy: {}\\nsum_xy: {}\\nsum_xsquared: {}\\nsum_ysquared: {}\".format(sumx,sumy,sum_xy,sum_xsquared,sum_ysquared))\n",
    "    \n",
    "\n",
    "n = len(x)\n",
    "print('n: ', n)\n",
    "\n",
    "#slope (Σy)(Σx^2) - (Σx)(Σxy)/ n(Σx^2) - (Σx)^2\n",
    "\n",
    "slope = (sumy*sum_xsquared) - (sumx*sum_xy)/(n*sum_xsquared) - (sumx**2)\n",
    "print('slope =', slope)"
   ]
  },
  {
   "cell_type": "code",
   "execution_count": 3,
   "metadata": {},
   "outputs": [
    {
     "name": "stdout",
     "output_type": "stream",
     "text": [
      "intercept = -340354.77197568305\n"
     ]
    }
   ],
   "source": [
    "#intercept requires: sum_xy, sumx, sumy, sum_xsquared,n\n",
    "#n(Σxy) - (Σx)(Σy) /n(Σx^2) - (Σx)^2\n",
    "\n",
    "intercept = (n*sum_xy) - (sumx*sumy)/(n*sum_xsquared) - (sumx**2)\n",
    "print('intercept =', intercept)"
   ]
  },
  {
   "cell_type": "code",
   "execution_count": 4,
   "metadata": {},
   "outputs": [
    {
     "name": "stdout",
     "output_type": "stream",
     "text": [
      "[1.28535415e+08 1.29332669e+08 1.28421667e+08 1.23442120e+08\n",
      " 1.27520338e+08 1.17202053e+08 1.14809776e+08 1.34184549e+08\n",
      " 1.30788350e+08 1.30497488e+08 1.41633122e+08 1.43296665e+08\n",
      " 1.33696809e+08 1.33758629e+08 1.21487563e+08 1.28870028e+08\n",
      " 1.06415067e+08 1.25065350e+08 1.42150939e+08 1.26750339e+08\n",
      " 1.28353534e+08 1.08137059e+08 1.18222397e+08 1.23275105e+08\n",
      " 1.28984192e+08 1.20704870e+08 1.30060340e+08 1.40479449e+08\n",
      " 1.20741201e+08 1.26648093e+08 1.45275236e+08 1.32014959e+08\n",
      " 1.32297073e+08 1.20697784e+08 1.31287882e+08 1.40654241e+08\n",
      " 1.40560399e+08 1.23147315e+08 1.42357492e+08 1.27214031e+08\n",
      " 1.19577792e+08 1.38500269e+08 1.46083863e+08 1.10015684e+08\n",
      " 1.26674208e+08 1.26679393e+08 1.26271456e+08 1.28279726e+08\n",
      " 1.28965353e+08 1.26455745e+08 1.25829561e+08 1.26851246e+08\n",
      " 1.22447895e+08 1.18898440e+08 1.30127762e+08 1.17495437e+08\n",
      " 1.43003220e+08 1.49036499e+08 1.38616102e+08 1.28795844e+08\n",
      " 1.15512392e+08 1.28441824e+08 1.48273906e+08 1.25431119e+08\n",
      " 1.28991656e+08 1.22531236e+08 1.17229520e+08 1.19380362e+08\n",
      " 1.18822241e+08 1.19545238e+08 1.44724076e+08 1.48585092e+08\n",
      " 1.31496298e+08 1.44825659e+08 1.19419943e+08 1.24931711e+08\n",
      " 1.33654601e+08 1.21896004e+08 1.24847778e+08 1.36263728e+08\n",
      " 1.36408203e+08 1.32988690e+08 1.41271397e+08 1.17465224e+08\n",
      " 1.30773823e+08 1.41382195e+08 1.17973558e+08 1.16229586e+08\n",
      " 1.35932144e+08 1.18497807e+08 1.43970019e+08 1.41972456e+08\n",
      " 1.31212694e+08 1.44356168e+08 1.30424072e+08 1.31371137e+08\n",
      " 1.17420462e+08 1.33188802e+08 1.16053543e+08 1.36226725e+08]\n"
     ]
    }
   ],
   "source": [
    "# Regression function 𝑌𝑖=𝑏0+𝑏1𝑋𝑖+𝜖𝑖\n",
    "Yi = intercept + (slope * x)\n",
    "print(Yi)"
   ]
  },
  {
   "cell_type": "code",
   "execution_count": 5,
   "metadata": {},
   "outputs": [
    {
     "name": "stdout",
     "output_type": "stream",
     "text": [
      "numerator = 2936.246294098906\n",
      "denominator = 8921.096252893583\n",
      "r = 0.3291351433571324\n"
     ]
    },
    {
     "data": {
      "text/plain": [
       "0.3291351433571324"
      ]
     },
     "execution_count": 5,
     "metadata": {},
     "output_type": "execute_result"
    }
   ],
   "source": [
    "# Extra credit here\n",
    "\n",
    "numerator = (n * sum_xy) - (sumx * sumy)\n",
    "print('numerator =', numerator)\n",
    "\n",
    "#step 2\n",
    "denominator = ((n*(sum_xsquared) - (sumx)**2) * (n*(sum_ysquared) - (sumy)**2))**0.5\n",
    "print('denominator =', denominator)\n",
    "\n",
    "#step 3\n",
    "r = numerator/denominator\n",
    "print('r =', r)\n",
    "\n",
    "def correlation(num, deno):\n",
    "    corr = num/deno\n",
    "    return corr\n",
    "\n",
    "correlation(numerator, denominator)\n"
   ]
  },
  {
   "cell_type": "code",
   "execution_count": null,
   "metadata": {},
   "outputs": [],
   "source": []
  }
 ],
 "metadata": {
  "kernelspec": {
   "display_name": "Python 3",
   "language": "python",
   "name": "python3"
  },
  "language_info": {
   "codemirror_mode": {
    "name": "ipython",
    "version": 3
   },
   "file_extension": ".py",
   "mimetype": "text/x-python",
   "name": "python",
   "nbconvert_exporter": "python",
   "pygments_lexer": "ipython3",
   "version": "3.6.5"
  },
  "toc": {
   "base_numbering": 1,
   "nav_menu": {},
   "number_sections": false,
   "sideBar": false,
   "skip_h1_title": false,
   "title_cell": "Table of Contents",
   "title_sidebar": "Contents",
   "toc_cell": false,
   "toc_position": {},
   "toc_section_display": false,
   "toc_window_display": false
  }
 },
 "nbformat": 4,
 "nbformat_minor": 2
}
