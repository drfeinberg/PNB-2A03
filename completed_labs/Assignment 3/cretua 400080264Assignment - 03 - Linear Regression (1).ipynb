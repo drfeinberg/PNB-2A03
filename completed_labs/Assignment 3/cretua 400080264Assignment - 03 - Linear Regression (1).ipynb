{
 "cells": [
  {
   "cell_type": "markdown",
   "metadata": {},
   "source": [
    "# Assignment 3 - Linear Regression"
   ]
  },
  {
   "cell_type": "markdown",
   "metadata": {},
   "source": [
    "## Your assignment is to write a funtion that will perform an Ordinary Least Squares Regression.\n",
    "### The function should return the slope and the intercept, and a  list of residuals\n",
    "### Test the regression funtion using the simulated data provided below.\n",
    "\n",
    "The OLS regression equation takes the form:\n",
    "$Y_i = b_0 + b_1X_i + \\epsilon_i$\n",
    "\n",
    "#### To code the regression, you need only these 2 formulae\n",
    "Slope = $b_0 = $(Σy)(Σx^2) - (Σx)(Σxy)/ n(Σx^2) - (Σx)^2  \n",
    "Intercept = $b_1= $ n(Σxy) - (Σx)(Σy) /n(Σx^2) - (Σx)^2\n",
    "\n",
    "Residual = Observed y-value - Predicted y-value\n",
    "\n",
    "#### Extra credit\n",
    "Use the equation for a correlation from last assignment. Make a funciton out of it.  Calculate the $R^2$ value of the regression by squaring the r-value of these data from the correlation equation."
   ]
  },
  {
   "cell_type": "markdown",
   "metadata": {},
   "source": [
    "## Use this code to simulate your data.  Use `x` and `y` to test your regression."
   ]
  },
  {
   "cell_type": "code",
   "execution_count": 16,
   "metadata": {},
   "outputs": [],
   "source": [
    "import numpy as np\n",
    "\n",
    "mean = [12, 9]  # These are the means we wrote above\n",
    "cov = [[1, 0.345], [0.345, 1]] # This is a covariance matrix. \n",
    "\n",
    "## Let's pick a sample size of 100\n",
    "num_samples = 100\n",
    "\n",
    "## Simulate the data\n",
    "x, y = np.random.multivariate_normal(mean, cov, size=num_samples).T"
   ]
  },
  {
   "cell_type": "code",
   "execution_count": 17,
   "metadata": {},
   "outputs": [
    {
     "name": "stdout",
     "output_type": "stream",
     "text": [
      "8.798678534084832\n",
      "2.2070503300409945e-05\n"
     ]
    }
   ],
   "source": [
    "n=100\n",
    "#y= 1,2,3,4,5\n",
    "#x= 1,2,3,4,6\n",
    "\n",
    "yy=sum(y)\n",
    "xx=sum(x)\n",
    "\n",
    "import numpy as np\n",
    "xy = np.multiply(x,y)\n",
    "\n",
    "zz= sum(xy)\n",
    "\n",
    "q= yy*(xx**2) \n",
    "w= xx*sum(xy)\n",
    "e= n*(xx**2) \n",
    "r= xx**2\n",
    "\n",
    "\n",
    "t= (n*zz) - (xx*yy)\n",
    "y= n*(xx**2)\n",
    "u= xx**2\n",
    "\n",
    "b0= (q-w) / (e-r)\n",
    "b1= t / (y-u)\n",
    "print (b0)\n",
    "print (b1)\n",
    "#𝑏0= (Σy)(Σx^2) - (Σx)(Σxy)/ n(Σx^2) - (Σx)^2\n",
    "#𝑏1=  n(Σxy) - (Σx)(Σy) /n(Σx^2) - (Σx)^2\n",
    "\n",
    "\n"
   ]
  },
  {
   "cell_type": "code",
   "execution_count": 18,
   "metadata": {},
   "outputs": [
    {
     "ename": "TypeError",
     "evalue": "'numpy.float64' object is not iterable",
     "output_type": "error",
     "traceback": [
      "\u001b[1;31m---------------------------------------------------------------------------\u001b[0m",
      "\u001b[1;31mTypeError\u001b[0m                                 Traceback (most recent call last)",
      "\u001b[1;32m<ipython-input-18-aaf3e12a0e9e>\u001b[0m in \u001b[0;36m<module>\u001b[1;34m()\u001b[0m\n\u001b[0;32m      5\u001b[0m \u001b[1;31m#x= 1,2,3,4,6\u001b[0m\u001b[1;33m\u001b[0m\u001b[1;33m\u001b[0m\u001b[0m\n\u001b[0;32m      6\u001b[0m \u001b[1;33m\u001b[0m\u001b[0m\n\u001b[1;32m----> 7\u001b[1;33m \u001b[0myy\u001b[0m\u001b[1;33m=\u001b[0m\u001b[0msum\u001b[0m\u001b[1;33m(\u001b[0m\u001b[0my\u001b[0m\u001b[1;33m)\u001b[0m\u001b[1;33m\u001b[0m\u001b[0m\n\u001b[0m\u001b[0;32m      8\u001b[0m \u001b[0mxx\u001b[0m\u001b[1;33m=\u001b[0m\u001b[0msum\u001b[0m\u001b[1;33m(\u001b[0m\u001b[0mx\u001b[0m\u001b[1;33m)\u001b[0m\u001b[1;33m\u001b[0m\u001b[0m\n\u001b[0;32m      9\u001b[0m \u001b[1;33m\u001b[0m\u001b[0m\n",
      "\u001b[1;31mTypeError\u001b[0m: 'numpy.float64' object is not iterable"
     ]
    }
   ],
   "source": [
    "#𝑟=𝑛∑(𝑥𝑦)−∑(𝑥)∑(𝑦)/ √ [𝑛∑(𝑥2)−(∑𝑥)2][𝑛∑(𝑦2)−(∑𝑦)2]\n",
    "\n",
    "n=100\n",
    "#y= 1,2,3,4,5\n",
    "#x= 1,2,3,4,6\n",
    "\n",
    "yy=sum(y)\n",
    "xx=sum(x)\n",
    "\n",
    "import numpy as np\n",
    "xy = np.multiply(x,y)\n",
    "\n",
    "zz= sum(xy)\n",
    "\n",
    "import numpy as np\n",
    "arr= np.array(x)\n",
    "cc= np.sum(arr**2)\n",
    "\n",
    "import numpy as np\n",
    "arr= np.array(y)\n",
    "aa= np.sum(arr**2)\n",
    "\n",
    "\n",
    "i= n*zz - xx*yy\n",
    "o= n*cc - xx**2\n",
    "p= n*aa - yy**2\n",
    "a= o*p\n",
    "\n",
    "import math  \n",
    "s= math.sqrt(a)\n",
    "\n",
    "r=i/s\n",
    "print (r)\n",
    "print (\"𝑅^2 value of the regression is:\",(r**2))\n"
   ]
  },
  {
   "cell_type": "code",
   "execution_count": null,
   "metadata": {},
   "outputs": [],
   "source": []
  }
 ],
 "metadata": {
  "kernelspec": {
   "display_name": "Python 3",
   "language": "python",
   "name": "python3"
  },
  "language_info": {
   "codemirror_mode": {
    "name": "ipython",
    "version": 3
   },
   "file_extension": ".py",
   "mimetype": "text/x-python",
   "name": "python",
   "nbconvert_exporter": "python",
   "pygments_lexer": "ipython3",
   "version": "3.6.5"
  },
  "toc": {
   "base_numbering": 1,
   "nav_menu": {},
   "number_sections": false,
   "sideBar": false,
   "skip_h1_title": false,
   "title_cell": "Table of Contents",
   "title_sidebar": "Contents",
   "toc_cell": false,
   "toc_position": {},
   "toc_section_display": false,
   "toc_window_display": false
  }
 },
 "nbformat": 4,
 "nbformat_minor": 2
}
