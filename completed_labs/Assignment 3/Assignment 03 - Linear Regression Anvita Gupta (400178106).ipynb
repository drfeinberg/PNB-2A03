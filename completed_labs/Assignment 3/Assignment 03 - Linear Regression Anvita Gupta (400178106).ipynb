{
 "cells": [
  {
   "cell_type": "markdown",
   "metadata": {},
   "source": [
    "# Assignment 3 - Linear Regression"
   ]
  },
  {
   "cell_type": "markdown",
   "metadata": {},
   "source": [
    "## Your assignment is to write a funtion that will perform an Ordinary Least Squares Regression.\n",
    "### The function should return the slope and the intercept, and a  list of residuals\n",
    "### Test the regression funtion using the simulated data provided below.\n",
    "\n",
    "The OLS regression equation takes the form:\n",
    "$Y_i = b_0 + b_1X_i + \\epsilon_i$\n",
    "\n",
    "#### To code the regression, you need only these 2 formulae\n",
    "Slope = $b_0 = $(Σy)(Σx^2) - (Σx)(Σxy)/ n(Σx^2) - (Σx)^2  \n",
    "Intercept = $b_1= $ n(Σxy) - (Σx)(Σy) /n(Σx^2) - (Σx)^2\n",
    "\n",
    "Residual = Observed y-value - Predicted y-value\n",
    "\n",
    "#### Extra credit\n",
    "Use the equation for a correlation from last assignment. Make a funciton out of it.  Calculate the $R^2$ value of the regression by squaring the r-value of these data from the correlation equation."
   ]
  },
  {
   "cell_type": "markdown",
   "metadata": {},
   "source": [
    "## Use this code to simulate your data.  Use `x` and `y` to test your regression."
   ]
  },
  {
   "cell_type": "code",
   "execution_count": 2,
   "metadata": {},
   "outputs": [],
   "source": [
    "import numpy as np\n",
    "\n",
    "mean = [12, 9]  # These are the means we wrote above\n",
    "cov = [[1, 0.345], [0.345, 1]] # This is a covariance matrix. \n",
    "\n",
    "## Let's pick a sample size of 100\n",
    "num_samples = 100\n",
    "\n",
    "## Simulate the data\n",
    "x, y = np.random.multivariate_normal(mean, cov, size=num_samples).T"
   ]
  },
  {
   "cell_type": "code",
   "execution_count": 3,
   "metadata": {},
   "outputs": [
    {
     "name": "stdout",
     "output_type": "stream",
     "text": [
      "Slope: 4.791193529110326 \n",
      "Intercept: 0.3569030866279142\n"
     ]
    }
   ],
   "source": [
    "# Your work here\n",
    "def ols_regression(list1,list2):\n",
    "    sumx = 0 #sum of x\n",
    "    for s in range(len(list1)):\n",
    "        sumx += list1[s]\n",
    "    sumy = 0 #sum of y\n",
    "    for s in range(len(list2)):\n",
    "        sumy += list2[s]\n",
    "    sum_xsquared = 0 #sum of x^2\n",
    "    for j in range(len(list1)):\n",
    "        sum_xsquared = sum_xsquared + list1[j]**2\n",
    "    xy = [] #sum of xy\n",
    "    for i in range(len(list1)):\n",
    "        xy.append(list1[i]*list2[i])\n",
    "    sum_xy = sum(xy)\n",
    "    (sumx_squared) = sumx**2 #(sum of x)^2\n",
    "    \n",
    "    \n",
    "    slope = (sumy*sum_xsquared - sumx*sum_xy)/(num_samples*sum_xsquared - sumx_squared)\n",
    "    intercept = (num_samples*sum_xy - sumx*sumy)/(num_samples*sum_xsquared - sumx_squared)\n",
    "    \n",
    "    return print(\"Slope:\", slope, \"\\nIntercept:\", intercept)    \n",
    "\n",
    "ols_regression(x,y)\n"
   ]
  },
  {
   "cell_type": "code",
   "execution_count": 4,
   "metadata": {},
   "outputs": [
    {
     "name": "stdout",
     "output_type": "stream",
     "text": [
      "R-Squared: 0.11429349848110779\n"
     ]
    }
   ],
   "source": [
    "def pearson_correlation(list1, list2):\n",
    "    sumx = 0 #sum of x\n",
    "    for s in range(len(list1)):\n",
    "        sumx += list1[s]\n",
    "        \n",
    "    sumy = 0 #sum of y\n",
    "    for s in range(len(list2)):\n",
    "        sumy += list2[s]\n",
    "        \n",
    "    xy = [] #sum of xy\n",
    "    for i in range(len(list1)):\n",
    "        xy.append(list1[i]*list2[i])\n",
    "    sum_xy = sum(xy)\n",
    "\n",
    "    sum_xsquared = 0 #sum of x^2\n",
    "    for j in range(len(list1)):\n",
    "        sum_xsquared = sum_xsquared + list1[j]**2\n",
    "    \n",
    "    sum_ysquared = 0 #sum of y^2\n",
    "    for k in range(len(list2)):\n",
    "        sum_ysquared = sum_ysquared + list2[k]**2\n",
    "    \n",
    "    numerator = num_samples*sum_xy - sumx*sumy\n",
    "    denominator = ((num_samples*sum_xsquared-(sumx)**2)*(num_samples*sum_ysquared-(sumy)**2))**(1/2)\n",
    "\n",
    "    r = numerator/denominator\n",
    "    \n",
    "    r_squared = r**2\n",
    "    return print(\"R-Squared:\", r_squared)\n",
    "\n",
    "pearson_correlation(x,y)"
   ]
  },
  {
   "cell_type": "code",
   "execution_count": null,
   "metadata": {},
   "outputs": [],
   "source": []
  }
 ],
 "metadata": {
  "kernelspec": {
   "display_name": "Python 3",
   "language": "python",
   "name": "python3"
  },
  "language_info": {
   "codemirror_mode": {
    "name": "ipython",
    "version": 3
   },
   "file_extension": ".py",
   "mimetype": "text/x-python",
   "name": "python",
   "nbconvert_exporter": "python",
   "pygments_lexer": "ipython3",
   "version": "3.6.5"
  },
  "toc": {
   "base_numbering": 1,
   "nav_menu": {},
   "number_sections": false,
   "sideBar": false,
   "skip_h1_title": false,
   "title_cell": "Table of Contents",
   "title_sidebar": "Contents",
   "toc_cell": false,
   "toc_position": {},
   "toc_section_display": false,
   "toc_window_display": false
  }
 },
 "nbformat": 4,
 "nbformat_minor": 2
}
