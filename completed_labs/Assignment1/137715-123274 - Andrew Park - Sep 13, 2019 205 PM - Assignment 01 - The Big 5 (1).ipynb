{
 "cells": [
  {
   "cell_type": "markdown",
   "metadata": {},
   "source": [
    "# The Big 5 Questionnaire\n",
    "\n",
    "<div class=\"alert alert-warning\">\n",
    "The Big 5 is a model of personality that has 5 independent dimensions: Extraversion, Agreeableness, Conscientiousness, Neuroticism, Openness.  We're going to write a program that asks the user to rate themselves on these dimenstion on a 7-point Likert scale.  Then write code that figures out their total score across all 5 dimensions. \n",
    "\n",
    "Costa, P. T., & McCrae, R. R. (1980). Influence of extraversion and neuroticism on subjective well-being: happy and unhappy people. Journal of personality and social psychology, 38(4), 668.\n",
    "</div>\n",
    "\n",
    "1) Write a statement that prints, `Hello participant!`  \n",
    "\n",
    "2) Write a statement that prints the question, `What is your name?`  \n",
    "\n",
    "3) Use the `input()` function to assign your name to the variable `my_name`  \n",
    "\n",
    "4) Write a statement that prints `It is good to meet you my_name`, where `my_name` is the `my_name` variable.  \n",
    "\n",
    "    1) For example, for me, it would print: `It's good to meet you Dr. Feinberg.`  \n",
    "    \n",
    "5) Write a statement that prints `On a scale from 1-7; 1=\"Not at all\"; 7=\"Very Much\", how extraverted are you?`\n",
    "\n",
    "6) Use the `input()` function to assign a rating to the variable `extraverted`  \n",
    "\n",
    "7) Write a statement that prints `On a scale from 1-7; 1=\"Not at all\"; 7=\"Very Much\", how agreeable are you?`\n",
    "\n",
    "8) Use the `input()` function to assign a rating to the variable `agreeable`  \n",
    "\n",
    "9) Write a statement that prints `On a scale from 1-7; 1=\"Not at all\"; 7=\"Very Much\", how conscientious are you?`\n",
    "\n",
    "10) Use the `input()` function to assign a rating to the variable `conscientious`  \n",
    "    \n",
    "11) Write a statement that prints `On a scale from 1-7; 1=\"Not at all\"; 7=\"Very Much\", how neurotic are you?`\n",
    "\n",
    "12) Use the `input()` function to assign a rating to the variable `neurotic`  \n",
    "\n",
    "13) Write a statement that prints `On a scale from 1-7; 1=\"Not at all\"; 7=\"Very Much\", how open are you?`\n",
    "\n",
    "14) Use the `input()` function to assign a rating to the variable `open`  \n",
    "\n",
    "15) Write a statement that prints `What is your age?`\n",
    "\n",
    "16) 14) Use the `input()` function to assign an age to the variable `age`  \n",
    "    \n",
    "17) Write a statement that calculates the total score across all 5 dimensions\n",
    "\n",
    "18) Write a statement that prints `Your total Big-5 personality score is X`, where `X` displays the total score\n"
   ]
  },
  {
   "cell_type": "code",
   "execution_count": 3,
   "metadata": {},
   "outputs": [
    {
     "name": "stdout",
     "output_type": "stream",
     "text": [
      "Hello participants!\n"
     ]
    }
   ],
   "source": [
    "## YOUR CODE HERE\n",
    "print (\"Hello participants!\")\n"
   ]
  },
  {
   "cell_type": "code",
   "execution_count": 4,
   "metadata": {},
   "outputs": [
    {
     "name": "stdout",
     "output_type": "stream",
     "text": [
      "What is your name?\n"
     ]
    }
   ],
   "source": [
    "print (\"What is your name?\")"
   ]
  },
  {
   "cell_type": "code",
   "execution_count": 5,
   "metadata": {},
   "outputs": [
    {
     "name": "stdout",
     "output_type": "stream",
     "text": [
      "my_nameParker\n"
     ]
    },
    {
     "data": {
      "text/plain": [
       "'Parker'"
      ]
     },
     "execution_count": 5,
     "metadata": {},
     "output_type": "execute_result"
    }
   ],
   "source": [
    "input(\"my_name\")"
   ]
  },
  {
   "cell_type": "code",
   "execution_count": 6,
   "metadata": {},
   "outputs": [
    {
     "ename": "NameError",
     "evalue": "name 'my_name' is not defined",
     "output_type": "error",
     "traceback": [
      "\u001b[1;31m---------------------------------------------------------------------------\u001b[0m",
      "\u001b[1;31mNameError\u001b[0m                                 Traceback (most recent call last)",
      "\u001b[1;32m<ipython-input-6-e87369af9a7e>\u001b[0m in \u001b[0;36m<module>\u001b[1;34m()\u001b[0m\n\u001b[0;32m      1\u001b[0m \u001b[0mspace\u001b[0m \u001b[1;33m=\u001b[0m \u001b[1;34m\" \"\u001b[0m\u001b[1;33m\u001b[0m\u001b[0m\n\u001b[1;32m----> 2\u001b[1;33m \u001b[0mprint\u001b[0m\u001b[1;33m(\u001b[0m\u001b[1;34m'It is good to meet you'\u001b[0m\u001b[1;33m+\u001b[0m \u001b[0mspace\u001b[0m \u001b[1;33m+\u001b[0m \u001b[0mmy_name\u001b[0m\u001b[1;33m)\u001b[0m\u001b[1;33m\u001b[0m\u001b[0m\n\u001b[0m",
      "\u001b[1;31mNameError\u001b[0m: name 'my_name' is not defined"
     ]
    }
   ],
   "source": [
    "space = \" \"\n",
    "print('It is good to meet you'+ space + my_name)\n"
   ]
  },
  {
   "cell_type": "code",
   "execution_count": 7,
   "metadata": {},
   "outputs": [
    {
     "name": "stdout",
     "output_type": "stream",
     "text": [
      "On a scale from 1-7; 1 =\"not at all\"; 7 = \"very much\", how extraverted are you?\n"
     ]
    }
   ],
   "source": [
    "print('On a scale from 1-7; 1 =\"not at all\"; 7 = \"very much\", how extraverted are you?')"
   ]
  },
  {
   "cell_type": "code",
   "execution_count": 8,
   "metadata": {},
   "outputs": [
    {
     "name": "stdout",
     "output_type": "stream",
     "text": [
      "How extraverted are you 1-7?7\n"
     ]
    },
    {
     "data": {
      "text/plain": [
       "7"
      ]
     },
     "execution_count": 8,
     "metadata": {},
     "output_type": "execute_result"
    }
   ],
   "source": [
    "extravert = int(input('How extraverted are you 1-7?'))\n",
    "extravert"
   ]
  },
  {
   "cell_type": "code",
   "execution_count": 9,
   "metadata": {},
   "outputs": [
    {
     "name": "stdout",
     "output_type": "stream",
     "text": [
      "On a scale from 1-7; 1 =\"not at all\"; 7 = \"very much\", how agreeable are you?\n"
     ]
    }
   ],
   "source": [
    "print('On a scale from 1-7; 1 =\"not at all\"; 7 = \"very much\", how agreeable are you?')"
   ]
  },
  {
   "cell_type": "code",
   "execution_count": 10,
   "metadata": {},
   "outputs": [
    {
     "name": "stdout",
     "output_type": "stream",
     "text": [
      "How agreeable are you 1-7?4\n"
     ]
    }
   ],
   "source": [
    "agreeable = int(input('How agreeable are you 1-7?'))"
   ]
  },
  {
   "cell_type": "code",
   "execution_count": 11,
   "metadata": {},
   "outputs": [
    {
     "name": "stdout",
     "output_type": "stream",
     "text": [
      "On a scale from 1-7; 1 =\"not at all\"; 7 = \"very much\", how conscientious are you?\n"
     ]
    }
   ],
   "source": [
    "print('On a scale from 1-7; 1 =\"not at all\"; 7 = \"very much\", how conscientious are you?')"
   ]
  },
  {
   "cell_type": "code",
   "execution_count": 12,
   "metadata": {},
   "outputs": [
    {
     "name": "stdout",
     "output_type": "stream",
     "text": [
      "How conscientious are you 1-7?6\n"
     ]
    }
   ],
   "source": [
    "conscientious = int(input('How conscientious are you 1-7?'))"
   ]
  },
  {
   "cell_type": "code",
   "execution_count": 13,
   "metadata": {},
   "outputs": [
    {
     "name": "stdout",
     "output_type": "stream",
     "text": [
      "On a scale from 1-7; 1 =\"not at all\"; 7 = \"very much\", how neurotic are you?\n"
     ]
    }
   ],
   "source": [
    "print('On a scale from 1-7; 1 =\"not at all\"; 7 = \"very much\", how neurotic are you?')"
   ]
  },
  {
   "cell_type": "code",
   "execution_count": 14,
   "metadata": {},
   "outputs": [
    {
     "name": "stdout",
     "output_type": "stream",
     "text": [
      "How neurotic are you 1-7?7\n"
     ]
    }
   ],
   "source": [
    "neurotic = int(input('How neurotic are you 1-7?'))"
   ]
  },
  {
   "cell_type": "code",
   "execution_count": 15,
   "metadata": {},
   "outputs": [
    {
     "name": "stdout",
     "output_type": "stream",
     "text": [
      "On a scale from 1-7; 1 =\"not at all\"; 7 = \"very much\", how open are you?\n"
     ]
    }
   ],
   "source": [
    "print('On a scale from 1-7; 1 =\"not at all\"; 7 = \"very much\", how open are you?')"
   ]
  },
  {
   "cell_type": "code",
   "execution_count": 16,
   "metadata": {},
   "outputs": [
    {
     "name": "stdout",
     "output_type": "stream",
     "text": [
      "How open are you 1-7?2\n"
     ]
    }
   ],
   "source": [
    "open = int(input('How open are you 1-7?'))"
   ]
  },
  {
   "cell_type": "code",
   "execution_count": 17,
   "metadata": {},
   "outputs": [
    {
     "name": "stdout",
     "output_type": "stream",
     "text": [
      "what is your age?\n"
     ]
    }
   ],
   "source": [
    "print('what is your age?')"
   ]
  },
  {
   "cell_type": "code",
   "execution_count": 18,
   "metadata": {},
   "outputs": [
    {
     "name": "stdout",
     "output_type": "stream",
     "text": [
      "what is your age?27\n"
     ]
    }
   ],
   "source": [
    "age = int(input('what is your age?'))"
   ]
  },
  {
   "cell_type": "code",
   "execution_count": 19,
   "metadata": {},
   "outputs": [
    {
     "data": {
      "text/plain": [
       "26"
      ]
     },
     "execution_count": 19,
     "metadata": {},
     "output_type": "execute_result"
    }
   ],
   "source": [
    "total_score = extravert + agreeable + conscientious + neurotic + open\n",
    "total_score"
   ]
  },
  {
   "cell_type": "code",
   "execution_count": 20,
   "metadata": {},
   "outputs": [
    {
     "data": {
      "text/plain": [
       "26"
      ]
     },
     "execution_count": 20,
     "metadata": {},
     "output_type": "execute_result"
    }
   ],
   "source": [
    "x = total_score\n",
    "x"
   ]
  },
  {
   "cell_type": "code",
   "execution_count": null,
   "metadata": {},
   "outputs": [],
   "source": []
  }
 ],
 "metadata": {
  "kernelspec": {
   "display_name": "Python 3",
   "language": "python",
   "name": "python3"
  },
  "language_info": {
   "codemirror_mode": {
    "name": "ipython",
    "version": 3
   },
   "file_extension": ".py",
   "mimetype": "text/x-python",
   "name": "python",
   "nbconvert_exporter": "python",
   "pygments_lexer": "ipython3",
   "version": "3.6.5"
  },
  "toc": {
   "base_numbering": 1,
   "nav_menu": {},
   "number_sections": false,
   "sideBar": false,
   "skip_h1_title": false,
   "title_cell": "Table of Contents",
   "title_sidebar": "Contents",
   "toc_cell": false,
   "toc_position": {},
   "toc_section_display": false,
   "toc_window_display": false
  }
 },
 "nbformat": 4,
 "nbformat_minor": 2
}
