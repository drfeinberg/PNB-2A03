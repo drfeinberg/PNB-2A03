{
 "cells": [
  {
   "cell_type": "markdown",
   "metadata": {
    "slideshow": {
     "slide_type": "slide"
    }
   },
   "source": [
    "# APIs"
   ]
  },
  {
   "cell_type": "markdown",
   "metadata": {
    "slideshow": {
     "slide_type": "slide"
    }
   },
   "source": [
    "## Application Programming Interface"
   ]
  },
  {
   "cell_type": "markdown",
   "metadata": {
    "slideshow": {
     "slide_type": "fragment"
    }
   },
   "source": [
    "<div class=\"alert alert-success\">\n",
    "An API is a programmatic interface to an application - a software to software interface, or way for programs to talk to other programs. \n",
    "</div>"
   ]
  },
  {
   "cell_type": "markdown",
   "metadata": {
    "slideshow": {
     "slide_type": "slide"
    }
   },
   "source": [
    "## Module APIs"
   ]
  },
  {
   "cell_type": "markdown",
   "metadata": {
    "slideshow": {
     "slide_type": "fragment"
    }
   },
   "source": [
    "Modules have an API. Every time you write or use a set of functions and/or classes, you are writing or using an API. "
   ]
  },
  {
   "cell_type": "markdown",
   "metadata": {
    "slideshow": {
     "slide_type": "slide"
    }
   },
   "source": [
    "### Clicker Question #1\n",
    "\n",
    "What will the following code snippet print out:"
   ]
  },
  {
   "cell_type": "code",
   "execution_count": 1,
   "metadata": {
    "slideshow": {
     "slide_type": "fragment"
    }
   },
   "outputs": [
    {
     "name": "stdout",
     "output_type": "stream",
     "text": [
      "20\n"
     ]
    }
   ],
   "source": [
    "def foo(a, b, c=0):\n",
    "    d = c\n",
    "    for e in a[:b]:\n",
    "        d += e\n",
    "    return d\n",
    "\n",
    "print(foo(b=2, a=[10, 10, 10, 10]))"
   ]
  },
  {
   "cell_type": "markdown",
   "metadata": {
    "slideshow": {
     "slide_type": "fragment"
    }
   },
   "source": [
    "A) 10 | B) 20 | C) 30 | D) 40 | E) None"
   ]
  },
  {
   "cell_type": "markdown",
   "metadata": {
    "slideshow": {
     "slide_type": "slide"
    }
   },
   "source": [
    "### Function with Fixed Names"
   ]
  },
  {
   "cell_type": "code",
   "execution_count": null,
   "metadata": {
    "collapsed": true,
    "slideshow": {
     "slide_type": "slide"
    }
   },
   "outputs": [],
   "source": [
    "def sum_across_list(list_to_count, end_index, start_val=0):\n",
    "\n",
    "    running_count = start_val\n",
    "    \n",
    "    for element in list_to_count[:end_index]:\n",
    "        running_count += element\n",
    "    \n",
    "    return running_count\n",
    "\n",
    "print(sum_across_list(end_index=2, list_to_count=[10, 10, 10, 10]))"
   ]
  },
  {
   "cell_type": "markdown",
   "metadata": {
    "slideshow": {
     "slide_type": "slide"
    }
   },
   "source": [
    "## Names Matter!"
   ]
  },
  {
   "cell_type": "markdown",
   "metadata": {
    "slideshow": {
     "slide_type": "fragment"
    }
   },
   "source": [
    "When writing an API, you are designing the user facing code that a programmer (maybe you in the future) will use.\n",
    "\n",
    "When using an API, you are using the programmer-facing code that someone else wrote for the task. \n",
    "\n",
    "Taking time to have good names and clear documentation can *really help* a programmer interact with an API. "
   ]
  },
  {
   "cell_type": "markdown",
   "metadata": {
    "slideshow": {
     "slide_type": "slide"
    }
   },
   "source": [
    "## Web APIs"
   ]
  },
  {
   "cell_type": "markdown",
   "metadata": {
    "slideshow": {
     "slide_type": "fragment"
    }
   },
   "source": [
    "APIs are an interface to interact with an application, designed for programmatic use\n",
    "- They allow systematic, controlled access to (for example) an applications database and procedures\n",
    "- They can be used to request data and/or to request that the the application perform some procedure"
   ]
  },
  {
   "cell_type": "markdown",
   "metadata": {
    "slideshow": {
     "slide_type": "slide"
    }
   },
   "source": [
    "## EUtils API"
   ]
  },
  {
   "cell_type": "markdown",
   "metadata": {
    "slideshow": {
     "slide_type": "fragment"
    }
   },
   "source": [
    "<div class=\"alert alert-success\">\n",
    "EUtils is a web accessible API for the National Center for Biotechnology Information, and the databases they curate.\n",
    "</div>"
   ]
  },
  {
   "cell_type": "markdown",
   "metadata": {
    "slideshow": {
     "slide_type": "slide"
    }
   },
   "source": [
    "### EUtils: Search"
   ]
  },
  {
   "cell_type": "code",
   "execution_count": 1,
   "metadata": {
    "slideshow": {
     "slide_type": "fragment"
    }
   },
   "outputs": [],
   "source": [
    "# Set the base URL for the e-utils API\n",
    "base_url = 'http://eutils.ncbi.nlm.nih.gov/entrez/eutils/'"
   ]
  },
  {
   "cell_type": "code",
   "execution_count": 2,
   "metadata": {
    "slideshow": {
     "slide_type": "fragment"
    }
   },
   "outputs": [],
   "source": [
    "# Set the information we need for launching a search request\n",
    "search = 'esearch.fcgi?'\n",
    "term = 'term=' + 'brain'"
   ]
  },
  {
   "cell_type": "markdown",
   "metadata": {
    "slideshow": {
     "slide_type": "slide"
    }
   },
   "source": [
    "### EUtils: Fetch"
   ]
  },
  {
   "cell_type": "code",
   "execution_count": 3,
   "metadata": {
    "slideshow": {
     "slide_type": "fragment"
    }
   },
   "outputs": [
    {
     "name": "stdout",
     "output_type": "stream",
     "text": [
      "http://eutils.ncbi.nlm.nih.gov/entrez/eutils/esearch.fcgi?term=brain\n"
     ]
    }
   ],
   "source": [
    "# Build the full search URL\n",
    "search_url = base_url + search + term\n",
    "print(search_url)"
   ]
  },
  {
   "cell_type": "code",
   "execution_count": 4,
   "metadata": {
    "slideshow": {
     "slide_type": "fragment"
    }
   },
   "outputs": [],
   "source": [
    "# Set the information we need for launching a fetch request\n",
    "fetch = 'efetch.fcgi?'\n",
    "db = 'db=' + 'pubmed'\n",
    "retmode = '&retmode=' + 'xml'\n",
    "pubmed_id = '&id=' + str(30439964)"
   ]
  },
  {
   "cell_type": "code",
   "execution_count": 5,
   "metadata": {
    "slideshow": {
     "slide_type": "fragment"
    }
   },
   "outputs": [
    {
     "name": "stdout",
     "output_type": "stream",
     "text": [
      "http://eutils.ncbi.nlm.nih.gov/entrez/eutils/efetch.fcgi?db=pubmed&retmode=xml&id=30439964\n"
     ]
    }
   ],
   "source": [
    "# Build the full search URL\n",
    "fetch_url = base_url + fetch + db + retmode + pubmed_id\n",
    "print(fetch_url)"
   ]
  },
  {
   "cell_type": "markdown",
   "metadata": {
    "slideshow": {
     "slide_type": "slide"
    }
   },
   "source": [
    "## Requesting Web Pages from Python"
   ]
  },
  {
   "cell_type": "code",
   "execution_count": 6,
   "metadata": {
    "slideshow": {
     "slide_type": "fragment"
    }
   },
   "outputs": [],
   "source": [
    "# The requests module allows you to send URL requests from python\n",
    "import requests\n",
    "\n",
    "# Beautiful Soup has functions to 'clean up' returned web pages into human-friendlier formats\n",
    "from bs4 import BeautifulSoup"
   ]
  },
  {
   "cell_type": "markdown",
   "metadata": {
    "slideshow": {
     "slide_type": "slide"
    }
   },
   "source": [
    "### EUtils Search, through Python"
   ]
  },
  {
   "cell_type": "code",
   "execution_count": 7,
   "metadata": {
    "slideshow": {
     "slide_type": "fragment"
    }
   },
   "outputs": [],
   "source": [
    "# Request the search page, and parse\n",
    "search_page = requests.get(search_url)\n",
    "search_content = BeautifulSoup(search_page.content, 'xml')"
   ]
  },
  {
   "cell_type": "code",
   "execution_count": 8,
   "metadata": {
    "slideshow": {
     "slide_type": "fragment"
    }
   },
   "outputs": [
    {
     "data": {
      "text/plain": [
       "<?xml version=\"1.0\" encoding=\"utf-8\"?>\n",
       "<!DOCTYPE eSearchResult PUBLIC \"-//NLM//DTD esearch 20060628//EN\" \"https://eutils.ncbi.nlm.nih.gov/eutils/dtd/20060628/esearch.dtd\">\n",
       "<eSearchResult><Count>1860105</Count><RetMax>20</RetMax><RetStart>0</RetStart><IdList>\n",
       "<Id>30879275</Id>\n",
       "<Id>30879176</Id>\n",
       "<Id>30879175</Id>\n",
       "<Id>30879172</Id>\n",
       "<Id>30879147</Id>\n",
       "<Id>30879126</Id>\n",
       "<Id>30879125</Id>\n",
       "<Id>30879099</Id>\n",
       "<Id>30879067</Id>\n",
       "<Id>30879033</Id>\n",
       "<Id>30879030</Id>\n",
       "<Id>30879005</Id>\n",
       "<Id>30878996</Id>\n",
       "<Id>30878968</Id>\n",
       "<Id>30878854</Id>\n",
       "<Id>30878792</Id>\n",
       "<Id>30878790</Id>\n",
       "<Id>30878789</Id>\n",
       "<Id>30878788</Id>\n",
       "<Id>30878753</Id>\n",
       "</IdList><TranslationSet><Translation> <From>brain</From> <To>\"brain\"[MeSH Terms] OR \"brain\"[All Fields]</To> </Translation></TranslationSet><TranslationStack> <TermSet> <Term>\"brain\"[MeSH Terms]</Term> <Field>MeSH Terms</Field> <Count>1151425</Count> <Explode>Y</Explode> </TermSet> <TermSet> <Term>\"brain\"[All Fields]</Term> <Field>All Fields</Field> <Count>1478901</Count> <Explode>N</Explode> </TermSet> <OP>OR</OP> <OP>GROUP</OP> </TranslationStack><QueryTranslation>\"brain\"[MeSH Terms] OR \"brain\"[All Fields]</QueryTranslation></eSearchResult>"
      ]
     },
     "execution_count": 8,
     "metadata": {},
     "output_type": "execute_result"
    }
   ],
   "source": [
    "# Check out the content of the returned page\n",
    "search_content"
   ]
  },
  {
   "cell_type": "markdown",
   "metadata": {
    "slideshow": {
     "slide_type": "slide"
    }
   },
   "source": [
    "### EUtils Fetch, through Python"
   ]
  },
  {
   "cell_type": "code",
   "execution_count": 9,
   "metadata": {
    "slideshow": {
     "slide_type": "fragment"
    }
   },
   "outputs": [],
   "source": [
    "# Request the fetch page, and parse\n",
    "fetch_page = requests.get(fetch_url)\n",
    "fetch_content = BeautifulSoup(fetch_page.content, 'lxml')"
   ]
  },
  {
   "cell_type": "code",
   "execution_count": 10,
   "metadata": {
    "scrolled": false,
    "slideshow": {
     "slide_type": "fragment"
    }
   },
   "outputs": [
    {
     "data": {
      "text/plain": [
       "<?xml version=\"1.0\" ?><!DOCTYPE PubmedArticleSet PUBLIC \"-//NLM//DTD PubMedArticle, 1st January 2019//EN\" \"https://dtd.nlm.nih.gov/ncbi/pubmed/out/pubmed_190101.dtd\">\n",
       "<html><body><pubmedarticleset>\n",
       "<pubmedarticle>\n",
       "<medlinecitation owner=\"NLM\" status=\"In-Data-Review\">\n",
       "<pmid version=\"1\">30439964</pmid>\n",
       "<daterevised>\n",
       "<year>2018</year>\n",
       "<month>12</month>\n",
       "<day>07</day>\n",
       "</daterevised>\n",
       "<article pubmodel=\"Electronic-eCollection\">\n",
       "<journal>\n",
       "<issn issntype=\"Electronic\">1932-6203</issn>\n",
       "<journalissue citedmedium=\"Internet\">\n",
       "<volume>13</volume>\n",
       "<issue>11</issue>\n",
       "<pubdate>\n",
       "<year>2018</year>\n",
       "</pubdate>\n",
       "</journalissue>\n",
       "<title>PloS one</title>\n",
       "<isoabbreviation>PLoS ONE</isoabbreviation>\n",
       "</journal>\n",
       "<articletitle>Hyperacute changes in blood mRNA expression profiles of rats after middle cerebral artery occlusion: Towards a stroke time signature.</articletitle>\n",
       "<pagination>\n",
       "<medlinepgn>e0206321</medlinepgn>\n",
       "</pagination>\n",
       "<elocationid eidtype=\"doi\" validyn=\"Y\">10.1371/journal.pone.0206321</elocationid>\n",
       "<abstract>\n",
       "<abstracttext>Stroke evolution is a highly dynamic but variable disease which makes clinical decision making difficult. Biomarker discovery programs intended to aid clinical decision making have however largely ignored the rapidity of stroke evolution. We have used gene array technology to determine blood mRNA expression changes over the first day after stroke in rats. Blood samples were collected from 8 male spontaneously hypertensive rats at 0, 1, 2, 3, 6 and 24h post stroke induction by middle cerebral artery occlusion. RNA was extracted from whole blood stabilized in PAXgene tubes and mRNA expression was detected by oligonucleotide Affymetrix microarray. Using a pairwise comparison model, 1932 genes were identified to vary significantly over time (pâ‰¤0.5x10-7) within 24h after stroke. Some of the top20 most changed genes are already known to be relevant to the ischemic stroke physiopathology (e.g. Il-1R, Nos2, Prok2). Cluster analysis showed multiple stereotyped and time dependent profiles of gene expression. Direction and rate of change of expression for some profiles varied dramatically during these 24h. Profiles with potential clinical utility including hyper acute or acute transient upregulation (with expression peaking from 2 to 6h after stroke and normalisation by 24h) were identified. We found that blood gene expression varies rapidly and stereotypically after stroke in rats. Previous researchers have often missed the optimum time for biomarker measurement. Temporally overlapping profiles have the potential to provide a biological \"stroke clock\" able to tell the clinician how far an individual stroke has evolved.</abstracttext>\n",
       "</abstract>\n",
       "<authorlist completeyn=\"Y\">\n",
       "<author validyn=\"Y\">\n",
       "<lastname>Dagonnier</lastname>\n",
       "<forename>Marie</forename>\n",
       "<initials>M</initials>\n",
       "<identifier source=\"ORCID\">http://orcid.org/0000-0002-0981-4962</identifier>\n",
       "<affiliationinfo>\n",
       "<affiliation>The Florey Institute of Neuroscience and Mental Health, Melbourne Brain Centre, Austin Campus, Heidelberg, Australia.</affiliation>\n",
       "</affiliationinfo>\n",
       "</author>\n",
       "<author validyn=\"Y\">\n",
       "<lastname>Wilson</lastname>\n",
       "<forename>William John</forename>\n",
       "<initials>WJ</initials>\n",
       "<affiliationinfo>\n",
       "<affiliation>The Commonwealth Scientific and Industrial Research Organisation (CSIRO), Sydney, Australia.</affiliation>\n",
       "</affiliationinfo>\n",
       "</author>\n",
       "<author validyn=\"Y\">\n",
       "<lastname>Favaloro</lastname>\n",
       "<forename>Jenny Margaret</forename>\n",
       "<initials>JM</initials>\n",
       "<affiliationinfo>\n",
       "<affiliation>The Florey Institute of Neuroscience and Mental Health, Melbourne Brain Centre, Austin Campus, Heidelberg, Australia.</affiliation>\n",
       "</affiliationinfo>\n",
       "</author>\n",
       "<author validyn=\"Y\">\n",
       "<lastname>Rewell</lastname>\n",
       "<forename>Sarah Susan Jane</forename>\n",
       "<initials>SSJ</initials>\n",
       "<affiliationinfo>\n",
       "<affiliation>The Florey Institute of Neuroscience and Mental Health, Melbourne Brain Centre, Austin Campus, Heidelberg, Australia.</affiliation>\n",
       "</affiliationinfo>\n",
       "</author>\n",
       "<author validyn=\"Y\">\n",
       "<lastname>Lockett</lastname>\n",
       "<forename>Linda Jane</forename>\n",
       "<initials>LJ</initials>\n",
       "<affiliationinfo>\n",
       "<affiliation>The Commonwealth Scientific and Industrial Research Organisation (CSIRO), Sydney, Australia.</affiliation>\n",
       "</affiliationinfo>\n",
       "</author>\n",
       "<author validyn=\"Y\">\n",
       "<lastname>Sastra</lastname>\n",
       "<forename>Stephen Andrew</forename>\n",
       "<initials>SA</initials>\n",
       "<affiliationinfo>\n",
       "<affiliation>The Florey Institute of Neuroscience and Mental Health, Melbourne Brain Centre, Austin Campus, Heidelberg, Australia.</affiliation>\n",
       "</affiliationinfo>\n",
       "</author>\n",
       "<author validyn=\"Y\">\n",
       "<lastname>Jeffreys</lastname>\n",
       "<forename>Amy Lucienne</forename>\n",
       "<initials>AL</initials>\n",
       "<affiliationinfo>\n",
       "<affiliation>The Florey Institute of Neuroscience and Mental Health, Melbourne Brain Centre, Austin Campus, Heidelberg, Australia.</affiliation>\n",
       "</affiliationinfo>\n",
       "</author>\n",
       "<author validyn=\"Y\">\n",
       "<lastname>Dewey</lastname>\n",
       "<forename>Helen Margaret</forename>\n",
       "<initials>HM</initials>\n",
       "<affiliationinfo>\n",
       "<affiliation>The Florey Institute of Neuroscience and Mental Health, Melbourne Brain Centre, Austin Campus, Heidelberg, Australia.</affiliation>\n",
       "</affiliationinfo>\n",
       "</author>\n",
       "<author validyn=\"Y\">\n",
       "<lastname>Donnan</lastname>\n",
       "<forename>Geoffrey Alan</forename>\n",
       "<initials>GA</initials>\n",
       "<identifier source=\"ORCID\">http://orcid.org/0000-0001-6324-3403</identifier>\n",
       "<affiliationinfo>\n",
       "<affiliation>The Florey Institute of Neuroscience and Mental Health, Melbourne Brain Centre, Austin Campus, Heidelberg, Australia.</affiliation>\n",
       "</affiliationinfo>\n",
       "</author>\n",
       "<author validyn=\"Y\">\n",
       "<lastname>Howells</lastname>\n",
       "<forename>David William</forename>\n",
       "<initials>DW</initials>\n",
       "<affiliationinfo>\n",
       "<affiliation>The Florey Institute of Neuroscience and Mental Health, Melbourne Brain Centre, Austin Campus, Heidelberg, Australia.</affiliation>\n",
       "</affiliationinfo>\n",
       "<affiliationinfo>\n",
       "<affiliation>School of Medicine, Faculty of Health, University of Tasmania, Hobart, Australia.</affiliation>\n",
       "</affiliationinfo>\n",
       "</author>\n",
       "</authorlist>\n",
       "<language>eng</language>\n",
       "<publicationtypelist>\n",
       "<publicationtype ui=\"D016428\">Journal Article</publicationtype>\n",
       "</publicationtypelist>\n",
       "<articledate datetype=\"Electronic\">\n",
       "<year>2018</year>\n",
       "<month>11</month>\n",
       "<day>15</day>\n",
       "</articledate>\n",
       "</article>\n",
       "<medlinejournalinfo>\n",
       "<country>United States</country>\n",
       "<medlineta>PLoS One</medlineta>\n",
       "<nlmuniqueid>101285081</nlmuniqueid>\n",
       "<issnlinking>1932-6203</issnlinking>\n",
       "</medlinejournalinfo>\n",
       "<coistatement>The authors have declared that no competing interests exist.</coistatement>\n",
       "</medlinecitation>\n",
       "<pubmeddata>\n",
       "<history>\n",
       "<pubmedpubdate pubstatus=\"received\">\n",
       "<year>2018</year>\n",
       "<month>03</month>\n",
       "<day>08</day>\n",
       "</pubmedpubdate>\n",
       "<pubmedpubdate pubstatus=\"accepted\">\n",
       "<year>2018</year>\n",
       "<month>10</month>\n",
       "<day>10</day>\n",
       "</pubmedpubdate>\n",
       "<pubmedpubdate pubstatus=\"entrez\">\n",
       "<year>2018</year>\n",
       "<month>11</month>\n",
       "<day>16</day>\n",
       "<hour>6</hour>\n",
       "<minute>0</minute>\n",
       "</pubmedpubdate>\n",
       "<pubmedpubdate pubstatus=\"pubmed\">\n",
       "<year>2018</year>\n",
       "<month>11</month>\n",
       "<day>16</day>\n",
       "<hour>6</hour>\n",
       "<minute>0</minute>\n",
       "</pubmedpubdate>\n",
       "<pubmedpubdate pubstatus=\"medline\">\n",
       "<year>2018</year>\n",
       "<month>11</month>\n",
       "<day>16</day>\n",
       "<hour>6</hour>\n",
       "<minute>0</minute>\n",
       "</pubmedpubdate>\n",
       "</history>\n",
       "<publicationstatus>epublish</publicationstatus>\n",
       "<articleidlist>\n",
       "<articleid idtype=\"pubmed\">30439964</articleid>\n",
       "<articleid idtype=\"doi\">10.1371/journal.pone.0206321</articleid>\n",
       "<articleid idtype=\"pii\">PONE-D-18-07138</articleid>\n",
       "<articleid idtype=\"pmc\">PMC6237327</articleid>\n",
       "</articleidlist>\n",
       "<referencelist>\n",
       "<reference>\n",
       "<citation>Stroke. 2013 Jun;44(6 Suppl 1):S23-5</citation>\n",
       "<articleidlist>\n",
       "<articleid idtype=\"pubmed\">23709718</articleid>\n",
       "</articleidlist>\n",
       "</reference>\n",
       "<reference>\n",
       "<citation>Lancet. 2004 Mar 6;363(9411):768-74</citation>\n",
       "<articleidlist>\n",
       "<articleid idtype=\"pubmed\">15016487</articleid>\n",
       "</articleidlist>\n",
       "</reference>\n",
       "<reference>\n",
       "<citation>Stroke. 2000 Aug;31(8):1889-92</citation>\n",
       "<articleidlist>\n",
       "<articleid idtype=\"pubmed\">10926952</articleid>\n",
       "</articleidlist>\n",
       "</reference>\n",
       "<reference>\n",
       "<citation>Genomics. 2014 Sep;104(3):163-9</citation>\n",
       "<articleidlist>\n",
       "<articleid idtype=\"pubmed\">25135788</articleid>\n",
       "</articleidlist>\n",
       "</reference>\n",
       "<reference>\n",
       "<citation>Life Sci. 1999;64(13):1099-108</citation>\n",
       "<articleidlist>\n",
       "<articleid idtype=\"pubmed\">10210272</articleid>\n",
       "</articleidlist>\n",
       "</reference>\n",
       "<reference>\n",
       "<citation>J Neuroimmunol. 2012 Aug 15;249(1-2):60-5</citation>\n",
       "<articleidlist>\n",
       "<articleid idtype=\"pubmed\">22591946</articleid>\n",
       "</articleidlist>\n",
       "</reference>\n",
       "<reference>\n",
       "<citation>N Engl J Med. 1995 Dec 14;333(24):1581-7</citation>\n",
       "<articleidlist>\n",
       "<articleid idtype=\"pubmed\">7477192</articleid>\n",
       "</articleidlist>\n",
       "</reference>\n",
       "<reference>\n",
       "<citation>Stroke. 1989 Jan;20(1):84-91</citation>\n",
       "<articleidlist>\n",
       "<articleid idtype=\"pubmed\">2643202</articleid>\n",
       "</articleidlist>\n",
       "</reference>\n",
       "<reference>\n",
       "<citation>Neurology. 2000 Dec 12;55(11):1649-55</citation>\n",
       "<articleidlist>\n",
       "<articleid idtype=\"pubmed\">11113218</articleid>\n",
       "</articleidlist>\n",
       "</reference>\n",
       "<reference>\n",
       "<citation>J Clin Neurosci. 2006 Jan;13(1):1-8</citation>\n",
       "<articleidlist>\n",
       "<articleid idtype=\"pubmed\">16410192</articleid>\n",
       "</articleidlist>\n",
       "</reference>\n",
       "<reference>\n",
       "<citation>N Engl J Med. 2008 Sep 25;359(13):1317-29</citation>\n",
       "<articleidlist>\n",
       "<articleid idtype=\"pubmed\">18815396</articleid>\n",
       "</articleidlist>\n",
       "</reference>\n",
       "<reference>\n",
       "<citation>J Neuroimmunol. 2007 Mar;184(1-2):53-68</citation>\n",
       "<articleidlist>\n",
       "<articleid idtype=\"pubmed\">17188755</articleid>\n",
       "</articleidlist>\n",
       "</reference>\n",
       "<reference>\n",
       "<citation>Cerebrovasc Dis. 2011;32(6):517-27</citation>\n",
       "<articleidlist>\n",
       "<articleid idtype=\"pubmed\">22104408</articleid>\n",
       "</articleidlist>\n",
       "</reference>\n",
       "<reference>\n",
       "<citation>J Neurol. 2014 Mar;261(3):533-45</citation>\n",
       "<articleidlist>\n",
       "<articleid idtype=\"pubmed\">24477489</articleid>\n",
       "</articleidlist>\n",
       "</reference>\n",
       "<reference>\n",
       "<citation>Hum Mol Genet. 2014 Nov 15;23(22):5866-78</citation>\n",
       "<articleidlist>\n",
       "<articleid idtype=\"pubmed\">24939910</articleid>\n",
       "</articleidlist>\n",
       "</reference>\n",
       "<reference>\n",
       "<citation>Chest. 2008 Jun;133(6 Suppl):630S-669S</citation>\n",
       "<articleidlist>\n",
       "<articleid idtype=\"pubmed\">18574275</articleid>\n",
       "</articleidlist>\n",
       "</reference>\n",
       "<reference>\n",
       "<citation>Neurology. 2010 Sep 14;75(11):1009-14</citation>\n",
       "<articleidlist>\n",
       "<articleid idtype=\"pubmed\">20837969</articleid>\n",
       "</articleidlist>\n",
       "</reference>\n",
       "<reference>\n",
       "<citation>Ann Neurol. 2001 Dec;50(6):699-707</citation>\n",
       "<articleidlist>\n",
       "<articleid idtype=\"pubmed\">11761467</articleid>\n",
       "</articleidlist>\n",
       "</reference>\n",
       "<reference>\n",
       "<citation>PLoS One. 2012;7(9):e43830</citation>\n",
       "<articleidlist>\n",
       "<articleid idtype=\"pubmed\">23028472</articleid>\n",
       "</articleidlist>\n",
       "</reference>\n",
       "<reference>\n",
       "<citation>Brain Res Bull. 2003 Aug 15;61(3):261-4</citation>\n",
       "<articleidlist>\n",
       "<articleid idtype=\"pubmed\">12909296</articleid>\n",
       "</articleidlist>\n",
       "</reference>\n",
       "<reference>\n",
       "<citation>PLoS One. 2013 Sep 12;8(9):e72758</citation>\n",
       "<articleidlist>\n",
       "<articleid idtype=\"pubmed\">24069157</articleid>\n",
       "</articleidlist>\n",
       "</reference>\n",
       "<reference>\n",
       "<citation>J Stroke Cerebrovasc Dis. 2009 Jul-Aug;18(4):269-76</citation>\n",
       "<articleidlist>\n",
       "<articleid idtype=\"pubmed\">19560680</articleid>\n",
       "</articleidlist>\n",
       "</reference>\n",
       "<reference>\n",
       "<citation>Circulation. 2005 Jan 18;111(2):212-21</citation>\n",
       "<articleidlist>\n",
       "<articleid idtype=\"pubmed\">15630028</articleid>\n",
       "</articleidlist>\n",
       "</reference>\n",
       "<reference>\n",
       "<citation>Br J Clin Pharmacol. 2012 Aug;74(2):230-40</citation>\n",
       "<articleidlist>\n",
       "<articleid idtype=\"pubmed\">22320313</articleid>\n",
       "</articleidlist>\n",
       "</reference>\n",
       "<reference>\n",
       "<citation>J Neurosci Methods. 2006 Sep 15;155(2):285-90</citation>\n",
       "<articleidlist>\n",
       "<articleid idtype=\"pubmed\">16513179</articleid>\n",
       "</articleidlist>\n",
       "</reference>\n",
       "<reference>\n",
       "<citation>J Neurol Sci. 2014 Oct 15;345(1-2):202-8</citation>\n",
       "<articleidlist>\n",
       "<articleid idtype=\"pubmed\">25109534</articleid>\n",
       "</articleidlist>\n",
       "</reference>\n",
       "<reference>\n",
       "<citation>Stroke. 2008 Oct;39(10):2902-9</citation>\n",
       "<articleidlist>\n",
       "<articleid idtype=\"pubmed\">18658039</articleid>\n",
       "</articleidlist>\n",
       "</reference>\n",
       "<reference>\n",
       "<citation>Cerebrovasc Dis. 2009;27(1):37-41</citation>\n",
       "<articleidlist>\n",
       "<articleid idtype=\"pubmed\">19018136</articleid>\n",
       "</articleidlist>\n",
       "</reference>\n",
       "<reference>\n",
       "<citation>Expert Opin Biol Ther. 2001 Mar;1(2):227-37</citation>\n",
       "<articleidlist>\n",
       "<articleid idtype=\"pubmed\">11727532</articleid>\n",
       "</articleidlist>\n",
       "</reference>\n",
       "<reference>\n",
       "<citation>Biomark Insights. 2017 Dec 20;12:1177271917749216</citation>\n",
       "<articleidlist>\n",
       "<articleid idtype=\"pubmed\">29308009</articleid>\n",
       "</articleidlist>\n",
       "</reference>\n",
       "<reference>\n",
       "<citation>Neurology. 2001 Apr 24;56(8):1015-20</citation>\n",
       "<articleidlist>\n",
       "<articleid idtype=\"pubmed\">11320171</articleid>\n",
       "</articleidlist>\n",
       "</reference>\n",
       "<reference>\n",
       "<citation>Neurol Sci. 2014 Dec;35(12):1977-82</citation>\n",
       "<articleidlist>\n",
       "<articleid idtype=\"pubmed\">25030125</articleid>\n",
       "</articleidlist>\n",
       "</reference>\n",
       "<reference>\n",
       "<citation>Stroke. 2002 Apr;33(4):988-93</citation>\n",
       "<articleidlist>\n",
       "<articleid idtype=\"pubmed\">11935049</articleid>\n",
       "</articleidlist>\n",
       "</reference>\n",
       "<reference>\n",
       "<citation>Stroke. 2011 Oct;42(10):2838-43</citation>\n",
       "<articleidlist>\n",
       "<articleid idtype=\"pubmed\">21852612</articleid>\n",
       "</articleidlist>\n",
       "</reference>\n",
       "<reference>\n",
       "<citation>Stroke. 2010 Oct;41(10):2171-7</citation>\n",
       "<articleidlist>\n",
       "<articleid idtype=\"pubmed\">20798371</articleid>\n",
       "</articleidlist>\n",
       "</reference>\n",
       "<reference>\n",
       "<citation>J Cereb Blood Flow Metab. 2006 Aug;26(8):1089-102</citation>\n",
       "<articleidlist>\n",
       "<articleid idtype=\"pubmed\">16395289</articleid>\n",
       "</articleidlist>\n",
       "</reference>\n",
       "<reference>\n",
       "<citation>Nat Protoc. 2009;4(8):1184-91</citation>\n",
       "<articleidlist>\n",
       "<articleid idtype=\"pubmed\">19617889</articleid>\n",
       "</articleidlist>\n",
       "</reference>\n",
       "<reference>\n",
       "<citation>Stroke. 2009 May;40(5):e380-9</citation>\n",
       "<articleidlist>\n",
       "<articleid idtype=\"pubmed\">19286602</articleid>\n",
       "</articleidlist>\n",
       "</reference>\n",
       "<reference>\n",
       "<citation>Stroke. 2009 Jan;40(1):77-85</citation>\n",
       "<articleidlist>\n",
       "<articleid idtype=\"pubmed\">18948614</articleid>\n",
       "</articleidlist>\n",
       "</reference>\n",
       "<reference>\n",
       "<citation>Biol Res Nurs. 2015 May;17(3):248-56</citation>\n",
       "<articleidlist>\n",
       "<articleid idtype=\"pubmed\">25124890</articleid>\n",
       "</articleidlist>\n",
       "</reference>\n",
       "<reference>\n",
       "<citation>Hum Exp Toxicol. 2008 Oct;27(10):761-7</citation>\n",
       "<articleidlist>\n",
       "<articleid idtype=\"pubmed\">19042962</articleid>\n",
       "</articleidlist>\n",
       "</reference>\n",
       "<reference>\n",
       "<citation>J Neurol. 2008 May;255(5):723-31</citation>\n",
       "<articleidlist>\n",
       "<articleid idtype=\"pubmed\">18465111</articleid>\n",
       "</articleidlist>\n",
       "</reference>\n",
       "<reference>\n",
       "<citation>Stroke. 2004 Jan;35(1):57-63</citation>\n",
       "<articleidlist>\n",
       "<articleid idtype=\"pubmed\">14671250</articleid>\n",
       "</articleidlist>\n",
       "</reference>\n",
       "<reference>\n",
       "<citation>Stroke. 2013 Mar;44(3):870-947</citation>\n",
       "<articleidlist>\n",
       "<articleid idtype=\"pubmed\">23370205</articleid>\n",
       "</articleidlist>\n",
       "</reference>\n",
       "<reference>\n",
       "<citation>Circulation. 2012 Jan 3;125(1):188-97</citation>\n",
       "<articleidlist>\n",
       "<articleid idtype=\"pubmed\">22215894</articleid>\n",
       "</articleidlist>\n",
       "</reference>\n",
       "<reference>\n",
       "<citation>Int J Stroke. 2015 Jul;10(5):759-62</citation>\n",
       "<articleidlist>\n",
       "<articleid idtype=\"pubmed\">25833105</articleid>\n",
       "</articleidlist>\n",
       "</reference>\n",
       "<reference>\n",
       "<citation>Proc Natl Acad Sci U S A. 2012 Apr 3;109(14):5475-80</citation>\n",
       "<articleidlist>\n",
       "<articleid idtype=\"pubmed\">22431614</articleid>\n",
       "</articleidlist>\n",
       "</reference>\n",
       "<reference>\n",
       "<citation>Cerebrovasc Dis. 2014;38(1):59-72</citation>\n",
       "<articleidlist>\n",
       "<articleid idtype=\"pubmed\">25227260</articleid>\n",
       "</articleidlist>\n",
       "</reference>\n",
       "<reference>\n",
       "<citation>Pharmacol Rev. 2009 Mar;61(1):62-97</citation>\n",
       "<articleidlist>\n",
       "<articleid idtype=\"pubmed\">19293146</articleid>\n",
       "</articleidlist>\n",
       "</reference>\n",
       "</referencelist>\n",
       "</pubmeddata>\n",
       "</pubmedarticle>\n",
       "</pubmedarticleset></body></html>"
      ]
     },
     "execution_count": 10,
     "metadata": {},
     "output_type": "execute_result"
    }
   ],
   "source": [
    "# Check out the content of the page\n",
    "fetch_content"
   ]
  },
  {
   "cell_type": "markdown",
   "metadata": {
    "slideshow": {
     "slide_type": "slide"
    }
   },
   "source": [
    "### BeautifulSoup Objects"
   ]
  },
  {
   "cell_type": "code",
   "execution_count": 11,
   "metadata": {
    "slideshow": {
     "slide_type": "fragment"
    }
   },
   "outputs": [
    {
     "data": {
      "text/plain": [
       "bs4.BeautifulSoup"
      ]
     },
     "execution_count": 11,
     "metadata": {},
     "output_type": "execute_result"
    }
   ],
   "source": [
    "# Our 'fetch_content' variable is a custom BeautifulSoup object\n",
    "type(fetch_content)"
   ]
  },
  {
   "cell_type": "code",
   "execution_count": 12,
   "metadata": {
    "scrolled": false,
    "slideshow": {
     "slide_type": "fragment"
    }
   },
   "outputs": [
    {
     "data": {
      "text/plain": [
       "'2018'"
      ]
     },
     "execution_count": 12,
     "metadata": {},
     "output_type": "execute_result"
    }
   ],
   "source": [
    "# We can use some methods to access particular information\n",
    "fetch_content.find('year').text"
   ]
  },
  {
   "cell_type": "markdown",
   "metadata": {
    "slideshow": {
     "slide_type": "slide"
    }
   },
   "source": [
    "## Literature Scanner"
   ]
  },
  {
   "cell_type": "code",
   "execution_count": 14,
   "metadata": {
    "slideshow": {
     "slide_type": "fragment"
    }
   },
   "outputs": [
    {
     "ename": "ModuleNotFoundError",
     "evalue": "No module named 'lisc'",
     "output_type": "error",
     "traceback": [
      "\u001b[0;31m---------------------------------------------------------------------------\u001b[0m",
      "\u001b[0;31mModuleNotFoundError\u001b[0m                       Traceback (most recent call last)",
      "\u001b[0;32m<ipython-input-14-a301915c2afa>\u001b[0m in \u001b[0;36m<module>\u001b[0;34m()\u001b[0m\n\u001b[1;32m      1\u001b[0m \u001b[0;31m# Import LISC - Words\u001b[0m\u001b[0;34m\u001b[0m\u001b[0;34m\u001b[0m\u001b[0m\n\u001b[0;32m----> 2\u001b[0;31m \u001b[0;32mfrom\u001b[0m \u001b[0mlisc\u001b[0m\u001b[0;34m.\u001b[0m\u001b[0mwords\u001b[0m \u001b[0;32mimport\u001b[0m \u001b[0mWords\u001b[0m\u001b[0;34m\u001b[0m\u001b[0m\n\u001b[0m",
      "\u001b[0;31mModuleNotFoundError\u001b[0m: No module named 'lisc'"
     ]
    }
   ],
   "source": [
    "# Import LISC - Words\n",
    "from lisc.words import Words"
   ]
  },
  {
   "cell_type": "code",
   "execution_count": 15,
   "metadata": {
    "slideshow": {
     "slide_type": "fragment"
    }
   },
   "outputs": [
    {
     "ename": "NameError",
     "evalue": "name 'Words' is not defined",
     "output_type": "error",
     "traceback": [
      "\u001b[0;31m---------------------------------------------------------------------------\u001b[0m",
      "\u001b[0;31mNameError\u001b[0m                                 Traceback (most recent call last)",
      "\u001b[0;32m<ipython-input-15-a58927e89ef8>\u001b[0m in \u001b[0;36m<module>\u001b[0;34m()\u001b[0m\n\u001b[1;32m      1\u001b[0m \u001b[0;31m# Initialize Words object & set some search terms\u001b[0m\u001b[0;34m\u001b[0m\u001b[0;34m\u001b[0m\u001b[0m\n\u001b[0;32m----> 2\u001b[0;31m \u001b[0mwords\u001b[0m \u001b[0;34m=\u001b[0m \u001b[0mWords\u001b[0m\u001b[0;34m(\u001b[0m\u001b[0;34m)\u001b[0m\u001b[0;34m\u001b[0m\u001b[0m\n\u001b[0m\u001b[1;32m      3\u001b[0m \u001b[0mwords\u001b[0m\u001b[0;34m.\u001b[0m\u001b[0mset_terms\u001b[0m\u001b[0;34m(\u001b[0m\u001b[0;34m[\u001b[0m\u001b[0;34m'brain'\u001b[0m\u001b[0;34m]\u001b[0m\u001b[0;34m)\u001b[0m\u001b[0;34m\u001b[0m\u001b[0m\n",
      "\u001b[0;31mNameError\u001b[0m: name 'Words' is not defined"
     ]
    }
   ],
   "source": [
    "# Initialize Words object & set some search terms\n",
    "words = Words()\n",
    "words.set_terms(['brain']) "
   ]
  },
  {
   "cell_type": "code",
   "execution_count": 16,
   "metadata": {
    "slideshow": {
     "slide_type": "fragment"
    }
   },
   "outputs": [
    {
     "ename": "NameError",
     "evalue": "name 'words' is not defined",
     "output_type": "error",
     "traceback": [
      "\u001b[0;31m---------------------------------------------------------------------------\u001b[0m",
      "\u001b[0;31mNameError\u001b[0m                                 Traceback (most recent call last)",
      "\u001b[0;32m<ipython-input-16-bb2c3e49dcb1>\u001b[0m in \u001b[0;36m<module>\u001b[0;34m()\u001b[0m\n\u001b[1;32m      1\u001b[0m \u001b[0;31m# Run words scrape\u001b[0m\u001b[0;34m\u001b[0m\u001b[0;34m\u001b[0m\u001b[0m\n\u001b[0;32m----> 2\u001b[0;31m \u001b[0mwords\u001b[0m\u001b[0;34m.\u001b[0m\u001b[0mrun_scrape\u001b[0m\u001b[0;34m(\u001b[0m\u001b[0mretmax\u001b[0m\u001b[0;34m=\u001b[0m\u001b[0;34m'5'\u001b[0m\u001b[0;34m)\u001b[0m\u001b[0;34m\u001b[0m\u001b[0m\n\u001b[0m",
      "\u001b[0;31mNameError\u001b[0m: name 'words' is not defined"
     ]
    }
   ],
   "source": [
    "# Run words scrape\n",
    "words.run_scrape(retmax='5')"
   ]
  },
  {
   "cell_type": "markdown",
   "metadata": {
    "slideshow": {
     "slide_type": "slide"
    }
   },
   "source": [
    "### LISC: Words Data"
   ]
  },
  {
   "cell_type": "code",
   "execution_count": 17,
   "metadata": {
    "slideshow": {
     "slide_type": "fragment"
    }
   },
   "outputs": [
    {
     "ename": "NameError",
     "evalue": "name 'words' is not defined",
     "output_type": "error",
     "traceback": [
      "\u001b[0;31m---------------------------------------------------------------------------\u001b[0m",
      "\u001b[0;31mNameError\u001b[0m                                 Traceback (most recent call last)",
      "\u001b[0;32m<ipython-input-17-d34a0f907135>\u001b[0m in \u001b[0;36m<module>\u001b[0;34m()\u001b[0m\n\u001b[1;32m      1\u001b[0m \u001b[0;31m# Check out some information from our scraped data\u001b[0m\u001b[0;34m\u001b[0m\u001b[0;34m\u001b[0m\u001b[0m\n\u001b[0;32m----> 2\u001b[0;31m \u001b[0;32mfor\u001b[0m \u001b[0mart\u001b[0m \u001b[0;32min\u001b[0m \u001b[0mwords\u001b[0m\u001b[0;34m[\u001b[0m\u001b[0;34m'brain'\u001b[0m\u001b[0;34m]\u001b[0m\u001b[0;34m:\u001b[0m\u001b[0;34m\u001b[0m\u001b[0m\n\u001b[0m\u001b[1;32m      3\u001b[0m     \u001b[0mprint\u001b[0m\u001b[0;34m(\u001b[0m\u001b[0mart\u001b[0m\u001b[0;34m[\u001b[0m\u001b[0;34m'title'\u001b[0m\u001b[0;34m]\u001b[0m\u001b[0;34m)\u001b[0m\u001b[0;34m\u001b[0m\u001b[0m\n",
      "\u001b[0;31mNameError\u001b[0m: name 'words' is not defined"
     ]
    }
   ],
   "source": [
    "# Check out some information from our scraped data\n",
    "for art in words['brain']:\n",
    "    print(art['title'])"
   ]
  },
  {
   "cell_type": "code",
   "execution_count": 18,
   "metadata": {
    "slideshow": {
     "slide_type": "fragment"
    }
   },
   "outputs": [
    {
     "ename": "ModuleNotFoundError",
     "evalue": "No module named 'lisc'",
     "output_type": "error",
     "traceback": [
      "\u001b[0;31m---------------------------------------------------------------------------\u001b[0m",
      "\u001b[0;31mModuleNotFoundError\u001b[0m                       Traceback (most recent call last)",
      "\u001b[0;32m<ipython-input-18-da390392e123>\u001b[0m in \u001b[0;36m<module>\u001b[0;34m()\u001b[0m\n\u001b[1;32m      1\u001b[0m \u001b[0mget_ipython\u001b[0m\u001b[0;34m(\u001b[0m\u001b[0;34m)\u001b[0m\u001b[0;34m.\u001b[0m\u001b[0mrun_line_magic\u001b[0m\u001b[0;34m(\u001b[0m\u001b[0;34m'matplotlib'\u001b[0m\u001b[0;34m,\u001b[0m \u001b[0;34m'inline'\u001b[0m\u001b[0;34m)\u001b[0m\u001b[0;34m\u001b[0m\u001b[0m\n\u001b[0;32m----> 2\u001b[0;31m \u001b[0;32mfrom\u001b[0m \u001b[0mlisc\u001b[0m\u001b[0;34m.\u001b[0m\u001b[0mplts\u001b[0m\u001b[0;34m.\u001b[0m\u001b[0mwc\u001b[0m \u001b[0;32mimport\u001b[0m \u001b[0mmake_wc\u001b[0m\u001b[0;34m\u001b[0m\u001b[0m\n\u001b[0m\u001b[1;32m      3\u001b[0m \u001b[0;32mfrom\u001b[0m \u001b[0mlisc\u001b[0m\u001b[0;34m.\u001b[0m\u001b[0mdata_all\u001b[0m \u001b[0;32mimport\u001b[0m \u001b[0mDataAll\u001b[0m\u001b[0;34m\u001b[0m\u001b[0m\n",
      "\u001b[0;31mModuleNotFoundError\u001b[0m: No module named 'lisc'"
     ]
    }
   ],
   "source": [
    "%matplotlib inline\n",
    "from lisc.plts.wc import make_wc\n",
    "from lisc.data_all import DataAll"
   ]
  },
  {
   "cell_type": "code",
   "execution_count": 19,
   "metadata": {
    "slideshow": {
     "slide_type": "fragment"
    }
   },
   "outputs": [
    {
     "ename": "NameError",
     "evalue": "name 'DataAll' is not defined",
     "output_type": "error",
     "traceback": [
      "\u001b[0;31m---------------------------------------------------------------------------\u001b[0m",
      "\u001b[0;31mNameError\u001b[0m                                 Traceback (most recent call last)",
      "\u001b[0;32m<ipython-input-19-3baa528e82ba>\u001b[0m in \u001b[0;36m<module>\u001b[0;34m()\u001b[0m\n\u001b[1;32m      1\u001b[0m \u001b[0;31m# Get the data from the 'brain' word search, and make a wordcloud\u001b[0m\u001b[0;34m\u001b[0m\u001b[0;34m\u001b[0m\u001b[0m\n\u001b[0;32m----> 2\u001b[0;31m \u001b[0mbrain_dat\u001b[0m \u001b[0;34m=\u001b[0m \u001b[0mDataAll\u001b[0m\u001b[0;34m(\u001b[0m\u001b[0mwords\u001b[0m\u001b[0;34m.\u001b[0m\u001b[0mresults\u001b[0m\u001b[0;34m[\u001b[0m\u001b[0;36m0\u001b[0m\u001b[0;34m]\u001b[0m\u001b[0;34m)\u001b[0m\u001b[0;34m\u001b[0m\u001b[0m\n\u001b[0m\u001b[1;32m      3\u001b[0m \u001b[0mmake_wc\u001b[0m\u001b[0;34m(\u001b[0m\u001b[0mbrain_dat\u001b[0m\u001b[0;34m.\u001b[0m\u001b[0mword_freqs\u001b[0m\u001b[0;34m,\u001b[0m \u001b[0;36m20\u001b[0m\u001b[0;34m,\u001b[0m \u001b[0;34m'Brain'\u001b[0m\u001b[0;34m)\u001b[0m\u001b[0;34m\u001b[0m\u001b[0m\n",
      "\u001b[0;31mNameError\u001b[0m: name 'DataAll' is not defined"
     ]
    }
   ],
   "source": [
    "# Get the data from the 'brain' word search, and make a wordcloud\n",
    "brain_dat = DataAll(words.results[0])\n",
    "make_wc(brain_dat.word_freqs, 20, 'Brain')"
   ]
  },
  {
   "cell_type": "markdown",
   "metadata": {
    "slideshow": {
     "slide_type": "slide"
    }
   },
   "source": [
    "## Twitter API"
   ]
  },
  {
   "cell_type": "code",
   "execution_count": 20,
   "metadata": {
    "slideshow": {
     "slide_type": "fragment"
    }
   },
   "outputs": [
    {
     "ename": "ModuleNotFoundError",
     "evalue": "No module named 'tweepy'",
     "output_type": "error",
     "traceback": [
      "\u001b[0;31m---------------------------------------------------------------------------\u001b[0m",
      "\u001b[0;31mModuleNotFoundError\u001b[0m                       Traceback (most recent call last)",
      "\u001b[0;32m<ipython-input-20-ed73e3395daf>\u001b[0m in \u001b[0;36m<module>\u001b[0;34m()\u001b[0m\n\u001b[1;32m      4\u001b[0m \u001b[0;34m\u001b[0m\u001b[0m\n\u001b[1;32m      5\u001b[0m \u001b[0;31m# Import tweepy to access API\u001b[0m\u001b[0;34m\u001b[0m\u001b[0;34m\u001b[0m\u001b[0m\n\u001b[0;32m----> 6\u001b[0;31m \u001b[0;32mimport\u001b[0m \u001b[0mtweepy\u001b[0m\u001b[0;34m\u001b[0m\u001b[0m\n\u001b[0m\u001b[1;32m      7\u001b[0m \u001b[0;32mfrom\u001b[0m \u001b[0mtweepy\u001b[0m \u001b[0;32mimport\u001b[0m \u001b[0mOAuthHandler\u001b[0m\u001b[0;34m\u001b[0m\u001b[0m\n\u001b[1;32m      8\u001b[0m \u001b[0;34m\u001b[0m\u001b[0m\n",
      "\u001b[0;31mModuleNotFoundError\u001b[0m: No module named 'tweepy'"
     ]
    }
   ],
   "source": [
    "# Accessing Twitter API from Python\n",
    "#  Note: to run this, you will have to fill in stw.py with your OAuth credentials.\n",
    "#    You can do that here: https://apps.twitter.com/\n",
    "\n",
    "# Import tweepy to access API\n",
    "import tweepy\n",
    "from tweepy import OAuthHandler\n",
    "\n",
    "# Import my API credentials\n",
    "from stw import *\n",
    "\n",
    "# Twitter API requires Authentification with OAuth\n",
    "auth = OAuthHandler(CONSUMER_KEY, CONSUMER_SECRET)\n",
    "auth.set_access_token(ACCESS_TOKEN, ACCESS_SECRET)\n",
    "\n",
    "# # Create an API object to access Twitter\n",
    "api = tweepy.API(auth)\n",
    "\n",
    "for status in tweepy.Cursor(api.home_timeline).items(3):\n",
    "    # Process a single status\n",
    "    print(status.user.name)\n",
    "    print(status.text, '\\n')"
   ]
  }
 ],
 "metadata": {
  "celltoolbar": "Slideshow",
  "kernelspec": {
   "display_name": "Python 3",
   "language": "python",
   "name": "python3"
  },
  "language_info": {
   "codemirror_mode": {
    "name": "ipython",
    "version": 3
   },
   "file_extension": ".py",
   "mimetype": "text/x-python",
   "name": "python",
   "nbconvert_exporter": "python",
   "pygments_lexer": "ipython3",
   "version": "3.6.4"
  }
 },
 "nbformat": 4,
 "nbformat_minor": 2
}
