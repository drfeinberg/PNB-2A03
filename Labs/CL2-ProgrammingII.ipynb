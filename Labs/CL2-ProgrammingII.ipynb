{
 "cells": [
  {
   "cell_type": "markdown",
   "metadata": {},
   "source": [
    "# Coding Lab 2: Programming II\n",
    "\n",
    "Welcome to the second coding lab!\n",
    "\n",
    "CodingLab labs are meant to be interactive - so you should find another person to work together with on this notebook. For this lab, you can either work together on one notebook, or work together but each fill out your own notebook, if you prefer. \n",
    "\n",
    "CodingLabs are also meant to be exploratory. There are broad questions in the notebook that you should explore, and try to answer - but you are also very much encouraged to explore other related ideas as you go! \n",
    "\n",
    "If you have a question about how something works / what something does - try it out, and see what happens!"
   ]
  },
  {
   "cell_type": "markdown",
   "metadata": {},
   "source": [
    "## Part 1: Collection types\n",
    "\n",
    "Collections are Python variable types than can store a 'collection' of items."
   ]
  },
  {
   "cell_type": "markdown",
   "metadata": {},
   "source": [
    "### Collection Questions\n",
    "\n",
    "Create a list with a names of the 8 planets in our solar system.\n",
    "\n",
    "Create a tuple with the 7 days of the week in it.\n",
    "\n",
    "Call them `planets` and `days_of_the_week`."
   ]
  },
  {
   "cell_type": "code",
   "execution_count": null,
   "metadata": {
    "collapsed": true
   },
   "outputs": [],
   "source": [
    "## YOUR CODE HERE\n"
   ]
  },
  {
   "cell_type": "markdown",
   "metadata": {},
   "source": [
    "Use the following cells to check the types of the variables you write are as expected"
   ]
  },
  {
   "cell_type": "code",
   "execution_count": null,
   "metadata": {
    "collapsed": true
   },
   "outputs": [],
   "source": [
    "type(planets)"
   ]
  },
  {
   "cell_type": "code",
   "execution_count": null,
   "metadata": {
    "collapsed": true
   },
   "outputs": [],
   "source": [
    "type(days_of_the_week)"
   ]
  },
  {
   "cell_type": "markdown",
   "metadata": {},
   "source": [
    "### Indexing\n",
    "\n",
    "Let's use the `planets` list we created above.\n",
    "\n",
    "Given the planets list, do the following operations:\n",
    "- Get the length of the list of planets (assign this to a variable `number_of_planets`)\n",
    "- Get the 1st element of the list (call the selection `planet_1`)\n",
    "- Get the last element of the list (call the selection `planet_2`)\n",
    "- Get the second to the fourth element of the list (call the selection `planet_3`)\n",
    "- Get from the fifth element, to the end of the list (call the selection `outer_planets`)\n",
    "- Get every second element of the list, starting at the first element (call the selection `odd_number_planets`)\n",
    "- Get every second element of the list, starting at the second element (call the selection `even_number_planets`)\n",
    "\n"
   ]
  },
  {
   "cell_type": "code",
   "execution_count": null,
   "metadata": {
    "collapsed": true
   },
   "outputs": [],
   "source": [
    "# YOUR CODE HERE\n"
   ]
  },
  {
   "cell_type": "markdown",
   "metadata": {},
   "source": [
    "### Index Challenge\n",
    "- Use `planets.append()` to add \"Pluto\" to the list of planets\n",
    "- use `del` to remove \"Pluto\" from the list of planets"
   ]
  },
  {
   "cell_type": "code",
   "execution_count": null,
   "metadata": {},
   "outputs": [],
   "source": [
    "# YOUR CODE HERE\n"
   ]
  },
  {
   "cell_type": "markdown",
   "metadata": {},
   "source": [
    "## Part 2: Conditionals\n",
    "\n",
    "Conditionals a form of control flow for executing certain code if a specific condition is met. "
   ]
  },
  {
   "cell_type": "markdown",
   "metadata": {},
   "source": [
    "### Conditional Questions\n",
    "\n",
    "In this part, we will re-visit some questions about conditionals, and start combining them together with collections. \n",
    "\n",
    "Make sure you can use if/elif/else statements to control which code blocks are run."
   ]
  },
  {
   "cell_type": "markdown",
   "metadata": {},
   "source": [
    "#### Controlling Output With Conditionals\n",
    "\n",
    "You do something depending on whether an item is in a list by typing `if item in list:`  \n",
    "\n",
    "You can check if it's not in the list by typing `if not item in list:`\n",
    "\n",
    "Remember our list of planets?\n",
    "- In the cell below, write a statent to check if 'Pluto' is in the list of planets. \n",
    "- If Pluto is in the list of planets, print a statement telling the user that their list is incorrect, and that Pluto is no longer a planet.\n",
    "    - Then delete Pluto from the list of planets\n",
    "    - Then check how many planets there are in the list\n",
    "        - If there are 8 planets, use the `continue` statement to keep going.\n",
    "        - If there are not 8 planets, tell the user to fix their list of planets.\n",
    "    - Otherwise, if Pluto is not in the list of planets, tell the user that their list doesn't have Pluto in it.\n",
    "    - Otherwise, if Earth and Mars are both in the list of Planets, tell the user they have a pretty good list there.\n",
    "    - Otherwise, tell the user something went wrong"
   ]
  },
  {
   "cell_type": "code",
   "execution_count": 1,
   "metadata": {},
   "outputs": [],
   "source": [
    "# YOUR CODE HERE"
   ]
  },
  {
   "cell_type": "markdown",
   "metadata": {},
   "source": [
    "### Operator Explorations\n",
    "\n",
    "For each of the following questions, start by writing out a guess of what you think it might do. \n",
    "\n",
    "Then, test out each one by writing out some code. \n",
    "\n",
    "Finally, once you have answered the question, using some code, add a comment in the markdown here with the answer. \n",
    "\n",
    "Questions:\n",
    "- Can you include multiple conditions in an if statement?\n",
    "    - If think so, write an if statement that tests multiple conditions.\n",
    "- What happens if you put an if statement inside an if statement? When would such a statement run?\n",
    "    - To explore this, write an if statement that has an embedded if statement in it. \n"
   ]
  },
  {
   "cell_type": "code",
   "execution_count": null,
   "metadata": {
    "collapsed": true
   },
   "outputs": [],
   "source": [
    "## YOUR EXPLORATIONS HERE\n",
    "\n",
    "\n"
   ]
  },
  {
   "cell_type": "markdown",
   "metadata": {},
   "source": [
    "## Part 3: Loops\n",
    "\n",
    "We will now explore two ways to iterate over data in Python - `for` and `while` loops. \n",
    "\n",
    "Each type of loop performs its respective code block until certain conditions are met. Here, we will explore what those conditions are. \n",
    "\n",
    "Note: \"iterate\" means to perform an action repeatedly \n",
    "\n",
    "Note: Sometimes, we accidentally make loops that never end. \n",
    "- If that happens, \"break\" the cell by selecting it and then pressing \"ctrl+c\". Alternatively, press the \"stop\" button (square icon) in the Jupyter toolbar. "
   ]
  },
  {
   "cell_type": "markdown",
   "metadata": {},
   "source": [
    "#### Loops Q1\n",
    "\n",
    "First, declare a variable called `counter` that has type int and value zero.\n",
    "\n",
    "Then write a while loop that runs 10 times and use 'counter' to track how many times the loop runs. "
   ]
  },
  {
   "cell_type": "code",
   "execution_count": null,
   "metadata": {
    "collapsed": true
   },
   "outputs": [],
   "source": [
    "## YOUR CODE HERE\n"
   ]
  },
  {
   "cell_type": "code",
   "execution_count": null,
   "metadata": {
    "collapsed": true
   },
   "outputs": [],
   "source": [
    "# Check that (after the loop runs) that there is a variable called `counter` that has value 10\n",
    "assert counter == 10"
   ]
  },
  {
   "cell_type": "markdown",
   "metadata": {},
   "source": [
    "#### Infinite Loops\n",
    "\n",
    "The while loop below will run indefinitely unless someone puts a stop to it! \n",
    "\n",
    "Add your own code that causes the loop to exit when the `counter` variable reaches 10. You can use `break` to do this. \n",
    "\n",
    "Note: Sometimes, we accidentally make loops that never end - try that by running the cell below before adding \n",
    "\n",
    "If that happens, interrupt the cell by selecting it and then pressing \"ctrl+c\". Alternatively, press the \"stop\" button (square icon) in the Jupyter toolbar. "
   ]
  },
  {
   "cell_type": "code",
   "execution_count": null,
   "metadata": {
    "collapsed": true
   },
   "outputs": [],
   "source": [
    "counter = 0\n",
    "\n",
    "while True:\n",
    "    \n",
    "    print(\"the value of 'counter' = {}\".format(counter))\n",
    "    counter +=1\n",
    "    \n",
    "    ## YOUR CODE HERE\n"
   ]
  },
  {
   "cell_type": "markdown",
   "metadata": {},
   "source": [
    "###  Loop Explorations\n",
    "\n",
    "Now, explore using for and while loops and breaks. \n",
    "\n",
    "Here are some things to try, and questions to ask - each of which you should explore in code. \n",
    "- What happens if you use 'break' all by itself?\n",
    "- What are some different ways to loop through a list? tuple?\n",
    "- Write these combinations: \n",
    "    - a `for` loop with a `break`, a `for` loop with a `continue`\n",
    "    - a `while` loop with a `break`, a `for` loop with a `continue`\n",
    "- Write some loops that loop across lists:\n",
    "    - Write a loop that loops across, and prints out, all the elements of a list\n",
    "    - Write a loop that loops across, and prints out, every second element of a list\n",
    "    - Write a loop that loops across, and prints out, every element of a list in reverse order\n",
    "    - Write a loop that loops across, and prints out, the first half of a list\n",
    "- Write a loop with a conditional inside it.\n",
    "- Can you have loops inside loops? If you think so, try and write a nested loop. "
   ]
  },
  {
   "cell_type": "code",
   "execution_count": null,
   "metadata": {
    "collapsed": true
   },
   "outputs": [],
   "source": [
    "# YOUR CODE EXPLORATIONS HERE\n",
    "\n",
    "\n"
   ]
  },
  {
   "cell_type": "markdown",
   "metadata": {},
   "source": [
    "### Nested Loop Challenge\n",
    "\n",
    "Using nested loops, you will print out a pattern that looks like this:\n",
    "\n",
    "1 <br>\n",
    "1 2 <br>\n",
    "1 2 3 <br>\n",
    "1 2 3 4 <br>\n",
    "1 2 3 4 5 <br>\n",
    "1 2 3 4 5 6 <br>\n",
    "1 2 3 4 5 6 7\n",
    "\n",
    "Hints:\n",
    "- You can do this with two while loops, one inside the other.\n",
    "- You will have two indices counters, one for each loop. \n",
    "- For the print statement, it will look something like `print(index_inner, end=\" \")`"
   ]
  },
  {
   "cell_type": "code",
   "execution_count": null,
   "metadata": {
    "collapsed": true
   },
   "outputs": [],
   "source": [
    "# YOUR CODE HERE\n"
   ]
  },
  {
   "cell_type": "markdown",
   "metadata": {},
   "source": [
    "If you get the above pattern working, try manipulating the code to print out different patterns, and with different symbols. "
   ]
  },
  {
   "cell_type": "markdown",
   "metadata": {},
   "source": [
    "# Coding Challenge\n",
    "## Write a correlation function from scratch using only mathematic operators (no built-in or imported functions)"
   ]
  },
  {
   "cell_type": "markdown",
   "metadata": {},
   "source": [
    "Let's correlate the number of apples we pick with the temperature.\n",
    "\n",
    "First we'll simulate some data....\n",
    "\n"
   ]
  },
  {
   "cell_type": "code",
   "execution_count": 31,
   "metadata": {},
   "outputs": [],
   "source": [
    "import numpy as np\n",
    "import matplotlib.pyplot as plt"
   ]
  },
  {
   "cell_type": "code",
   "execution_count": 38,
   "metadata": {},
   "outputs": [],
   "source": [
    "## Let's pretend that on average we pick 25 apples\n",
    "## Let's pretend that on average it's 20 degrees outside\n",
    "mean = [25, 20]  \n",
    "cov = [[1, 0.6], [0.6, 1]]\n",
    "\n",
    "## Let's pick a sample size of 100\n",
    "num_samples = 100\n",
    "\n",
    "## Simulate the data\n",
    "apples, temperature = np.random.multivariate_normal(mean, cov, size=num_samples).T\n",
    "\n",
    "x = apples\n",
    "y = temperature\n"
   ]
  },
  {
   "cell_type": "markdown",
   "metadata": {},
   "source": [
    "## Next we'll plot the data to make sure it looks good"
   ]
  },
  {
   "cell_type": "code",
   "execution_count": 39,
   "metadata": {
    "scrolled": true
   },
   "outputs": [
    {
     "data": {
      "image/png": "[encoded data removed]",
      "text/plain": [
       "<Figure size 432x288 with 1 Axes>"
      ]
     },
     "metadata": {
      "needs_background": "light"
     },
     "output_type": "display_data"
    }
   ],
   "source": [
    "## Plot the data to see if it looks right\n",
    "plt.plot(x, y, 'o')\n",
    "#plt.axis('equal')\n",
    "plt.show()\n",
    "\n",
    "\n",
    "# source: https://docs.scipy.org/doc/numpy/reference/generated/numpy.random.multivariate_normal.html#numpy.random.multivariate_normal"
   ]
  },
  {
   "cell_type": "markdown",
   "metadata": {},
   "source": [
    "## Now the callenge begins.  Here is the formula for a correlation:\n",
    "\n",
    "$$\n",
    "r = \\frac{{}n\\sum (xy)-\\sum(x)\\sum(y)}\n",
    "\t{\\sqrt{[n\\sum x^2 -  (\\sum x)^2] [n\\sum y^2 -  (\\sum y)^2]}}\n",
    "$$"
   ]
  },
  {
   "cell_type": "markdown",
   "metadata": {},
   "source": [
    "### Calculate the following:\n",
    "- sumx = sum of x\n",
    "- sumy = sum of y"
   ]
  },
  {
   "cell_type": "code",
   "execution_count": 34,
   "metadata": {},
   "outputs": [],
   "source": [
    "## Your code here\n",
    "\n"
   ]
  },
  {
   "cell_type": "markdown",
   "metadata": {},
   "source": [
    "### Using for loop(s), for each observation, calculate:\n",
    "- xy = $xy$\n",
    "- xsquared = $x^2$\n",
    "- ysquared = $y^2$"
   ]
  },
  {
   "cell_type": "code",
   "execution_count": 35,
   "metadata": {},
   "outputs": [],
   "source": [
    "## Your code here\n",
    "\n"
   ]
  },
  {
   "cell_type": "markdown",
   "metadata": {},
   "source": [
    "### Using for loop(s), for each observation, calculate:\n",
    "- sum_xy = sum of $xy$\n",
    "- sum_xsquared = sum of $x^2$\n",
    "- sum_ysquared = sum of $y^2$"
   ]
  },
  {
   "cell_type": "code",
   "execution_count": 29,
   "metadata": {},
   "outputs": [],
   "source": [
    "## Your code here\n",
    "\n"
   ]
  },
  {
   "cell_type": "markdown",
   "metadata": {},
   "source": [
    "### Now plug all those numbers into the equation in these 3 steps:"
   ]
  },
  {
   "cell_type": "markdown",
   "metadata": {},
   "source": [
    "1) $$numerator = n(sum_xy) - sumx*sumy  $$\n",
    "2) $$denominator = (n(sum_xsquared - sumx^2)(n(sum_ysquared - sumy^2)))^\\frac{1}{2}  $$\n",
    "3) $$r = numerator / denominator$$"
   ]
  },
  {
   "cell_type": "code",
   "execution_count": 40,
   "metadata": {},
   "outputs": [],
   "source": [
    "## Your code here\n"
   ]
  },
  {
   "cell_type": "markdown",
   "metadata": {},
   "source": [
    "### Use this table and `if` and `print` statements to tell us how strong the relationship is.\n",
    "\n",
    "r value = \t\n",
    "+.70 or higher: \tVery strong positive relationship  \n",
    "+.40 to +.69: \tStrong positive relationship  \n",
    "+.30 to +.39: \tModerate positive relationship  \n",
    "+.20 to +.29: \tweak positive relationship  \n",
    "+.01 to +.19: \tNo or negligible relationship  \n",
    "0: \tNo relationship [zero correlation]  \n",
    "-.01 to -.19: \tNo or negligible relationship  \n",
    "-.20 to -.29: \tweak negative relationship  \n",
    "-.30 to -.39: \tModerate negative relationship  \n",
    "-.40 to -.69: \tStrong negative relationship  \n",
    "-.70 or higher: \tVery strong negative relationship  "
   ]
  },
  {
   "cell_type": "code",
   "execution_count": null,
   "metadata": {},
   "outputs": [],
   "source": [
    "## Your code here\n"
   ]
  }
 ],
 "metadata": {
  "kernelspec": {
   "display_name": "Python 3",
   "language": "python",
   "name": "python3"
  },
  "language_info": {
   "codemirror_mode": {
    "name": "ipython",
    "version": 3
   },
   "file_extension": ".py",
   "mimetype": "text/x-python",
   "name": "python",
   "nbconvert_exporter": "python",
   "pygments_lexer": "ipython3",
   "version": "3.7.3"
  },
  "toc": {
   "base_numbering": 1,
   "nav_menu": {},
   "number_sections": false,
   "sideBar": false,
   "skip_h1_title": false,
   "title_cell": "Table of Contents",
   "title_sidebar": "Contents",
   "toc_cell": false,
   "toc_position": {},
   "toc_section_display": false,
   "toc_window_display": false
  }
 },
 "nbformat": 4,
 "nbformat_minor": 2
}
