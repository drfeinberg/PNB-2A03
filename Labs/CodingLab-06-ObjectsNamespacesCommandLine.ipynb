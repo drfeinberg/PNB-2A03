{
 "cells": [
  {
   "cell_type": "markdown",
   "metadata": {},
   "source": [
    "# Coding Lab/Assigment 6 - Objects, Namespaces, and Command Line"
   ]
  },
  {
   "cell_type": "markdown",
   "metadata": {},
   "source": [
    "# Objects"
   ]
  },
  {
   "cell_type": "markdown",
   "metadata": {},
   "source": [
    "## Datetime Manipulations\n",
    "\n",
    "Using `datetime` objects there are several operations and methods we can use that are useful, some of these are shown as examples below."
   ]
  },
  {
   "cell_type": "code",
   "execution_count": null,
   "metadata": {},
   "outputs": [],
   "source": [
    "# Get current times\n",
    "now = datetime.now()"
   ]
  },
  {
   "cell_type": "code",
   "execution_count": null,
   "metadata": {},
   "outputs": [],
   "source": [
    "# Create a time delta object, to represent a \n",
    "delta = timedelta(days=1, minutes=7, seconds=37)"
   ]
  },
  {
   "cell_type": "code",
   "execution_count": null,
   "metadata": {},
   "outputs": [],
   "source": [
    "# Add a time\n",
    "later = now + delta"
   ]
  },
  {
   "cell_type": "code",
   "execution_count": null,
   "metadata": {},
   "outputs": [],
   "source": [
    "# Check out what time it will be after \n",
    "#   Note - format is 'YEAR-MONTH-DAY'T'HOUR:MINUTE:SECOND:MICROSECOND'\n",
    "later.isoformat()"
   ]
  },
  {
   "cell_type": "markdown",
   "metadata": {},
   "source": [
    "### DateTime Manipulation Questions"
   ]
  },
  {
   "cell_type": "markdown",
   "metadata": {},
   "source": [
    "- a) What day of the week it will be 4675 days from now?\n",
    "- b) Write a boolean if/else stement that checks whether `date_1` is earlier or later than `date_2`, and prints out 'earlier' or 'later' appropriately."
   ]
  },
  {
   "cell_type": "code",
   "execution_count": null,
   "metadata": {},
   "outputs": [],
   "source": [
    "# YOUR CODE HERE"
   ]
  },
  {
   "cell_type": "markdown",
   "metadata": {},
   "source": [
    "### DateTime Manipulation Exploration\n",
    "\n",
    "If you start from Jan 1st, 1757, and repeatedly add 8 days, until you hit 1800, how many times will it be a Monday?"
   ]
  },
  {
   "cell_type": "code",
   "execution_count": null,
   "metadata": {},
   "outputs": [],
   "source": [
    "# YOUR CODE HERE\n"
   ]
  },
  {
   "cell_type": "markdown",
   "metadata": {},
   "source": [
    "#### Make a function\n",
    "\n",
    "Once you have answered this question, convert your code into a generalized function. \n",
    "\n",
    "This function, call it `count_weekdays` should take:\n",
    "- `start_date`: a start date (a datetime object)\n",
    "- `add_days`: a number of days to add (an int)\n",
    "- `stop_year`: a stop year (an int)\n",
    "- `weekday`: a day to count, represented in isoweekday format (an int)\n",
    "\n",
    "It should return the number of `weekday`'s that occur from the start date, until stop year, when adding `add_days` days."
   ]
  },
  {
   "cell_type": "code",
   "execution_count": null,
   "metadata": {},
   "outputs": [],
   "source": [
    "# YOUR CODE HERE\n"
   ]
  },
  {
   "cell_type": "code",
   "execution_count": null,
   "metadata": {},
   "outputs": [],
   "source": [
    "# Check that the function returns the expected result for an example case\n",
    "assert count_weekdays(datetime(1322, 6, 17), 3, 1324, 5) == 27"
   ]
  },
  {
   "cell_type": "markdown",
   "metadata": {},
   "source": [
    "# Command Line"
   ]
  },
  {
   "cell_type": "markdown",
   "metadata": {},
   "source": [
    "## Part I: Command Line\n",
    "\n",
    "Open a terminal from the Jupyter notebook server, and do the following:\n",
    "\n",
    "- Navigate to your desktop\n",
    "- Make a new directory\n",
    "- Move inside that directory\n",
    "- Create a new Python file\n",
    "- Inside your terminal, use a text editor to open the file\n",
    "    - If on OSX, the program is called terminal\n",
    "    - If on Windows, press the Windows key, type `cmd`, and press enter\n",
    "- Write some Python code inside that file\n",
    "    - For example: print('Hello World')\n",
    "- Save and exit from the terminal text editor\n",
    "- Execute the Python file from the terminal"
   ]
  },
  {
   "cell_type": "markdown",
   "metadata": {},
   "source": [
    "## Part II: Module Files\n",
    "\n",
    "First, in notebook below, do the following:\n",
    "\n",
    "- Write a new Class\n",
    "    - This could be, for example, base class `Animal` and you could instantiate for example `Cat` and `Dog`\n",
    "    - Make sure there is at least one method in the class that prints something out\n",
    "- Write two new functions, that do something with instances of your new class\n",
    "    - For example, take a list of custom objects, and call a method on each one"
   ]
  },
  {
   "cell_type": "code",
   "execution_count": null,
   "metadata": {},
   "outputs": [],
   "source": [
    "# YOUR CODE HERE"
   ]
  },
  {
   "cell_type": "markdown",
   "metadata": {},
   "source": [
    "Next, we are going to move this code to an external file - a Python module file. \n",
    "\n",
    "- Open a new text file\n",
    "    - On windows, open notepad\n",
    "    - On OSX, open TextEdit\n",
    "- Copy your classes and functions into that file\n",
    "- Save that file, with some name that you give it, and a `.py` extension\n",
    "    - This is important.  You might have to rename your file so that it has a `.py` extension\n",
    "    - Your computer by default may not show you file extensions\n",
    "    - Change you folder settings so that you see the file extension\n",
    "- Now, import the classes and functions from that file into the notebook, and check that you can use them. "
   ]
  },
  {
   "cell_type": "code",
   "execution_count": null,
   "metadata": {},
   "outputs": [],
   "source": [
    "# YOUR CODE HERE\n",
    "import ..."
   ]
  },
  {
   "cell_type": "markdown",
   "metadata": {},
   "source": [
    "## Part III: Python Scripts\n",
    "\n",
    "Now write a small script that imports from your module file, and uses that code to do something.\n",
    "\n",
    "To do so, start with the new text file. It should import your classes and functions from the file you made above. Then, use these functions and classes to do something (write some Python code that does something with these objects). Save your file with a '.py' extension, and then execute it from the terminal."
   ]
  },
  {
   "cell_type": "markdown",
   "metadata": {},
   "source": [
    "# Install PsychoPy\n",
    "Here is the PsychoPy website: https://www.psychopy.org/download.html  \n",
    "We want to install the standalone version.  I will not be able to help you install other versions.\n",
    "    "
   ]
  }
 ],
 "metadata": {
  "kernelspec": {
   "display_name": "Python 3",
   "language": "python",
   "name": "python3"
  },
  "language_info": {
   "codemirror_mode": {
    "name": "ipython",
    "version": 3
   },
   "file_extension": ".py",
   "mimetype": "text/x-python",
   "name": "python",
   "nbconvert_exporter": "python",
   "pygments_lexer": "ipython3",
   "version": "3.7.3"
  },
  "toc": {
   "base_numbering": 1,
   "nav_menu": {},
   "number_sections": false,
   "sideBar": false,
   "skip_h1_title": false,
   "title_cell": "Table of Contents",
   "title_sidebar": "Contents",
   "toc_cell": false,
   "toc_position": {},
   "toc_section_display": false,
   "toc_window_display": false
  }
 },
 "nbformat": 4,
 "nbformat_minor": 2
}
