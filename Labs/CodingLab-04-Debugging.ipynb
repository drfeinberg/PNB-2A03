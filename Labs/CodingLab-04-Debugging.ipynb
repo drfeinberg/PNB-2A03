{
 "cells": [
  {
   "cell_type": "markdown",
   "metadata": {},
   "source": [
    "# CL4: Reading Code\n",
    "\n",
    "Welcome to the fourth coding lab!\n",
    "\n",
    "In this CodingLab we will be thinking and working on debugging & objects. \n",
    "\n",
    "We will also start thinking about exploring all of the Python resources and tools that are available, with an eye towards starting to think about the projects."
   ]
  },
  {
   "cell_type": "markdown",
   "metadata": {},
   "source": [
    "## Debugging Questions"
   ]
  },
  {
   "cell_type": "markdown",
   "metadata": {},
   "source": [
    "### Creating Errors\n",
    "For each of the follow Exceptions, write a small piece of code that will cause it to happen:\n",
    "- ZeroDivisionError\n",
    "- SyntaxError\n",
    "- IndentationError\n",
    "- TypeError\n",
    "- IndexError\n",
    "- KeyError\n",
    "- ValueError\n",
    "- NameError"
   ]
  },
  {
   "cell_type": "code",
   "execution_count": null,
   "metadata": {
    "collapsed": true
   },
   "outputs": [],
   "source": [
    "# YOUR CODE HERE"
   ]
  },
  {
   "cell_type": "code",
   "execution_count": null,
   "metadata": {
    "collapsed": true
   },
   "outputs": [],
   "source": []
  },
  {
   "cell_type": "markdown",
   "metadata": {},
   "source": [
    "### Fixing Errors\n",
    "\n",
    "For each of the following cells, try to debug the code to fix any errors, and get it running. "
   ]
  },
  {
   "cell_type": "code",
   "execution_count": null,
   "metadata": {
    "collapsed": true
   },
   "outputs": [],
   "source": [
    "if True\n",
    "    print('It worked')"
   ]
  },
  {
   "cell_type": "code",
   "execution_count": null,
   "metadata": {
    "collapsed": true
   },
   "outputs": [],
   "source": [
    "age_string = \"My favourite number is \" + 27"
   ]
  },
  {
   "cell_type": "code",
   "execution_count": null,
   "metadata": {
    "collapsed": true
   },
   "outputs": [],
   "source": [
    "my_list = [1, a, 24]"
   ]
  },
  {
   "cell_type": "code",
   "execution_count": null,
   "metadata": {
    "collapsed": true
   },
   "outputs": [],
   "source": [
    "my_list2 = ['1st', '2nd', '3rd', '4th', '5th']\n",
    "print('Printing the 3rd element of my list ' + my_list2(2))"
   ]
  },
  {
   "cell_type": "code",
   "execution_count": null,
   "metadata": {
    "collapsed": true
   },
   "outputs": [],
   "source": [
    "print('Three plus five equals' + str(3+5)"
   ]
  },
  {
   "cell_type": "markdown",
   "metadata": {},
   "source": [
    "## Debugging Challenges"
   ]
  },
  {
   "cell_type": "markdown",
   "metadata": {},
   "source": [
    "### Debugging A Function\n",
    "\n",
    "The following function has a series of issues with it. \n",
    "\n",
    "Work through debugging this function, fixing it up to be able to run with all the inputs below. "
   ]
  },
  {
   "cell_type": "code",
   "execution_count": null,
   "metadata": {
    "collapsed": true
   },
   "outputs": [],
   "source": [
    "def my_function(input_1, input_2):\n",
    "    \"\"\"A long function that might error.\"\"\"\n",
    "    \n",
    "    if len(input_1) > 1\n",
    "        if input_1[0] = 0:\n",
    "        answer = 0\n",
    "    \n",
    "    elif len(input_2) == 2:\n",
    "        answer = input_2[1] / input_1[0]\n",
    "        \n",
    "    elif len(input_1) == len(input_2):\n",
    "        answer = input_1[0] + input_2[0]\n",
    "        \n",
    "    print(answer)"
   ]
  },
  {
   "cell_type": "code",
   "execution_count": null,
   "metadata": {
    "collapsed": true
   },
   "outputs": [],
   "source": [
    "my_function([0, 1], [0])"
   ]
  },
  {
   "cell_type": "code",
   "execution_count": null,
   "metadata": {
    "collapsed": true
   },
   "outputs": [],
   "source": [
    "my_function([0], [0, 1])"
   ]
  },
  {
   "cell_type": "code",
   "execution_count": null,
   "metadata": {
    "collapsed": true
   },
   "outputs": [],
   "source": [
    "my_function([1], [1])"
   ]
  },
  {
   "cell_type": "code",
   "execution_count": null,
   "metadata": {
    "collapsed": true
   },
   "outputs": [],
   "source": [
    "my_function([1], ['1'])"
   ]
  },
  {
   "cell_type": "markdown",
   "metadata": {},
   "source": [
    "### Debugging code with a semantic error"
   ]
  },
  {
   "cell_type": "markdown",
   "metadata": {},
   "source": [
    "#### First let's generate some random data.  Here we're using decibels at SPL.\n",
    "\n",
    "\n",
    "\"Remember that decibels measure a ratio. 0 dB occurs when you take the log of a ratio of 1 (log 1 = 0). So 0 dB does not mean no sound, it means a sound level where the sound pressure is equal to that of the reference level. This is a small pressure, but not zero. It is also possible to have negative sound levels: - 20 dB would mean a sound with pressure 10 times smaller than the reference pressure, ie 2 μPa.\"  -https://www.animations.physics.unsw.edu.au/jw/dB.htm\n",
    "\n"
   ]
  },
  {
   "cell_type": "code",
   "execution_count": 23,
   "metadata": {},
   "outputs": [
    {
     "name": "stdout",
     "output_type": "stream",
     "text": [
      "[-0.198, -0.942, -0.226, -0.048, -0.726, -0.93, -0.624, -0.837, -0.783, -0.824, -0.396, -0.432, -0.747, -0.098, -0.577, -0.751, -0.911, -0.909, -0.319, -0.059, -0.878, -0.272, -0.762, -0.116, -0.302, -0.663, -0.509, -0.773, -0.328, -0.095, -0.198, -0.916, -0.942, -0.101, -0.63, -0.145, -0.0, -0.668, -0.395, -0.992, -0.41, -0.428, -0.754, -0.106, -0.343, -0.066, -0.99, -0.866, -0.092, -0.65, -0.979, -0.805, -0.02, -0.892, -0.77, -0.343, -0.56, -0.571, -0.867, -0.123, -0.534, -0.422, -0.233, -0.727, -0.963, -0.523, -0.344, -0.699, -0.007, -0.351]\n"
     ]
    }
   ],
   "source": [
    "from random import random\n",
    "dBValues = [round(-1*random(), 3) for _ in range(0,-70, -1)]\n",
    "print(dBValues)\n"
   ]
  },
  {
   "cell_type": "markdown",
   "metadata": {},
   "source": [
    "#### The task\n",
    "This code is syntactically correct, but does not give the correct answer.  In fact it tells us that our maxdB is a value that is not in our list.  Your job is to find the minimum and maximum dbValue.  Debug this code so that it gives a proper maxdB value. You may use any built-in function or method you like here, but do not import any code.  In your assignment you will have to do this without built-in functions.\n",
    "\n",
    "##### Explain why the current code does not do what is intended, and explain why your solution works"
   ]
  },
  {
   "cell_type": "code",
   "execution_count": 24,
   "metadata": {},
   "outputs": [
    {
     "name": "stdout",
     "output_type": "stream",
     "text": [
      "0 -0.992\n"
     ]
    }
   ],
   "source": [
    "maxdB = 0\n",
    "mindB = 100\n",
    "for dBValue in dBValues:\n",
    "    if dBValue > maxdB:\n",
    "        maxdB = dBValue\n",
    "    if dBValue < mindB:\n",
    "        mindB = dBValue\n",
    "print(maxdB, mindB)"
   ]
  },
  {
   "cell_type": "markdown",
   "metadata": {},
   "source": [
    "## Exploring Code"
   ]
  },
  {
   "cell_type": "markdown",
   "metadata": {},
   "source": [
    "One of the great things about Python is how many tools, utilities and examples there are out there.\n",
    "\n",
    "Let's start exploring what is available:\n",
    "\n",
    "GitHub is a website that people use to save and present code. Below we have listed some some notebooks that are hosted on GitHub showing some particular projects, as well as a link to Github in general, and a curated list of interesting Jupyter notebooks. \n",
    "\n",
    "Take time to look at at least one of the notebooks mentioned below. See if you can get, to a first approximation, a sense of what the notebook is doing, and how the Python code does it. \n",
    "\n",
    "Also go and search through Github and/or the list of notebooks, to see if you can find some code projects that interest you. See if you can understand the code and help fix an error.\n",
    "\n",
    "Don't worry if you don't understand all the code you see - this is just a start, to see what is out there, and you will understand more and more of it as we go along. \n",
    "\n",
    "- https://anaconda.org/jbednar/census/notebook - Demographic data plotted out on maps of the US, showing differences in racial segregation/integration in different cities.\n",
    "- https://github.com/jupyter/jupyter/wiki/A-gallery-of-interesting-Jupyter-Notebooks#linguistics-and-text-mining - Mining text to learn trends in bodies of text.\n",
    "- https://anaconda.org/jbednar/nyc_taxi/notebook - NYC taxi data plotted out on cities of NYC\n",
    "- https://www.fullstackpython.com/ - for advanced python user, next level guideline"
   ]
  },
  {
   "cell_type": "markdown",
   "metadata": {},
   "source": [
    "<div class=\"alert alert-info\">\n",
    "    Go and explore <a href=\"https://github.com\">Github</a>, and search for some Python projects. And/or check out this list of interesting <a href=\"https://github.com/jupyter/jupyter/wiki/A-gallery-of-interesting-Jupyter-Notebooks\">Jupyter notebooks</a>\n",
    "</div>"
   ]
  }
 ],
 "metadata": {
  "kernelspec": {
   "display_name": "Python 3",
   "language": "python",
   "name": "python3"
  },
  "language_info": {
   "codemirror_mode": {
    "name": "ipython",
    "version": 3
   },
   "file_extension": ".py",
   "mimetype": "text/x-python",
   "name": "python",
   "nbconvert_exporter": "python",
   "pygments_lexer": "ipython3",
   "version": "3.7.3"
  },
  "toc": {
   "base_numbering": 1,
   "nav_menu": {},
   "number_sections": false,
   "sideBar": false,
   "skip_h1_title": false,
   "title_cell": "Table of Contents",
   "title_sidebar": "Contents",
   "toc_cell": false,
   "toc_position": {},
   "toc_section_display": false,
   "toc_window_display": false
  }
 },
 "nbformat": 4,
 "nbformat_minor": 2
}
