{
 "cells": [
  {
   "cell_type": "markdown",
   "metadata": {},
   "source": [
    "# Coding Lab 1: Programming I\n",
    "\n",
    "\n"
   ]
  },
  {
   "cell_type": "markdown",
   "metadata": {},
   "source": [
    "## Part 0: My first Program\n",
    "\n",
    "In every programming language, it is tradition to write your first program as a simple statement that says \"hello world\".  This makes sure you are all set up properly. Using the `print()` function, write a program that prints the words, \"Hello world\".\n",
    "\n"
   ]
  },
  {
   "cell_type": "code",
   "execution_count": 2,
   "metadata": {},
   "outputs": [],
   "source": [
    "## YOUR CODE HERE\n"
   ]
  },
  {
   "cell_type": "markdown",
   "metadata": {},
   "source": [
    "## Part 1: Variables\n",
    "\n",
    "### Variables are used in Python to store values. \n",
    "\n",
    "In psychology experiments we can store:\n",
    "- participants responses on surveys and scales\n",
    "- measurements \n",
    "- EEG readings \n",
    "- any type of data point\n",
    "as values.  Let's start a hypothetical experiment by asking some info from our participants..."
   ]
  },
  {
   "cell_type": "markdown",
   "metadata": {},
   "source": [
    "### Defining Variables\n",
    "\n",
    "\n",
    "- Each participant has a random ID number that we'll assign and store as an integer.  \n",
    "    - Let's start with participant 3301.  \n",
    "- Participant 3301 is new to the lab hand has not done the experiment yet.  \n",
    "    - We'll store their status as a boolean.  \n",
    "- Participant 3301 is 20.6 years old.  \n",
    "    - We'll store their height as a float.\n",
    "- Participant 3301 has a cat\n",
    "    - We'll store their pet as a string\n",
    "\n",
    "\n",
    "Declare the variables `participant_ID`, `has_done_experiment`, `age` by assigning them the values mentioned above."
   ]
  },
  {
   "cell_type": "code",
   "execution_count": 12,
   "metadata": {},
   "outputs": [],
   "source": [
    "## YOUR CODE HERE\n"
   ]
  },
  {
   "cell_type": "markdown",
   "metadata": {},
   "source": [
    "Use the following cells to check the types of the variables you write are as expected"
   ]
  },
  {
   "cell_type": "code",
   "execution_count": 13,
   "metadata": {},
   "outputs": [
    {
     "ename": "NameError",
     "evalue": "name 'participant_ID' is not defined",
     "output_type": "error",
     "traceback": [
      "\u001b[0;31m---------------------------------------------------------------------------\u001b[0m",
      "\u001b[0;31mNameError\u001b[0m                                 Traceback (most recent call last)",
      "\u001b[0;32m<ipython-input-13-ede32ffb7919>\u001b[0m in \u001b[0;36m<module>\u001b[0;34m\u001b[0m\n\u001b[0;32m----> 1\u001b[0;31m \u001b[0mtype\u001b[0m\u001b[0;34m(\u001b[0m\u001b[0mparticipant_ID\u001b[0m\u001b[0;34m)\u001b[0m\u001b[0;34m\u001b[0m\u001b[0;34m\u001b[0m\u001b[0m\n\u001b[0m",
      "\u001b[0;31mNameError\u001b[0m: name 'participant_ID' is not defined"
     ]
    }
   ],
   "source": [
    "type(participant_ID)"
   ]
  },
  {
   "cell_type": "code",
   "execution_count": 14,
   "metadata": {},
   "outputs": [
    {
     "ename": "NameError",
     "evalue": "name 'has_done_experiment' is not defined",
     "output_type": "error",
     "traceback": [
      "\u001b[0;31m---------------------------------------------------------------------------\u001b[0m",
      "\u001b[0;31mNameError\u001b[0m                                 Traceback (most recent call last)",
      "\u001b[0;32m<ipython-input-14-4e608e9cccb6>\u001b[0m in \u001b[0;36m<module>\u001b[0;34m\u001b[0m\n\u001b[0;32m----> 1\u001b[0;31m \u001b[0mtype\u001b[0m\u001b[0;34m(\u001b[0m\u001b[0mhas_done_experiment\u001b[0m\u001b[0;34m)\u001b[0m\u001b[0;34m\u001b[0m\u001b[0;34m\u001b[0m\u001b[0m\n\u001b[0m",
      "\u001b[0;31mNameError\u001b[0m: name 'has_done_experiment' is not defined"
     ]
    }
   ],
   "source": [
    "type(has_done_experiment)"
   ]
  },
  {
   "cell_type": "code",
   "execution_count": 15,
   "metadata": {},
   "outputs": [
    {
     "ename": "NameError",
     "evalue": "name 'age' is not defined",
     "output_type": "error",
     "traceback": [
      "\u001b[0;31m---------------------------------------------------------------------------\u001b[0m",
      "\u001b[0;31mNameError\u001b[0m                                 Traceback (most recent call last)",
      "\u001b[0;32m<ipython-input-15-3c7fea6f43fb>\u001b[0m in \u001b[0;36m<module>\u001b[0;34m\u001b[0m\n\u001b[0;32m----> 1\u001b[0;31m \u001b[0mtype\u001b[0m\u001b[0;34m(\u001b[0m\u001b[0mage\u001b[0m\u001b[0;34m)\u001b[0m\u001b[0;34m\u001b[0m\u001b[0;34m\u001b[0m\u001b[0m\n\u001b[0m",
      "\u001b[0;31mNameError\u001b[0m: name 'age' is not defined"
     ]
    }
   ],
   "source": [
    "type(age)"
   ]
  },
  {
   "cell_type": "code",
   "execution_count": null,
   "metadata": {
    "collapsed": true
   },
   "outputs": [],
   "source": [
    "type(my_boolean)"
   ]
  },
  {
   "cell_type": "markdown",
   "metadata": {},
   "source": [
    "## Part 2: Operators & Comparisons\n",
    "\n",
    "Operators are used in Python to do things with variables. "
   ]
  },
  {
   "cell_type": "markdown",
   "metadata": {},
   "source": [
    "### Operator Questions"
   ]
  },
  {
   "cell_type": "markdown",
   "metadata": {},
   "source": [
    "What year was the particpant born in?"
   ]
  },
  {
   "cell_type": "code",
   "execution_count": 17,
   "metadata": {},
   "outputs": [],
   "source": [
    "# YOUR CODE HERE\n"
   ]
  },
  {
   "cell_type": "markdown",
   "metadata": {},
   "source": [
    "How many decades has the participant lived for?"
   ]
  },
  {
   "cell_type": "code",
   "execution_count": 18,
   "metadata": {},
   "outputs": [],
   "source": [
    "# YOUR CODE HERE\n"
   ]
  },
  {
   "cell_type": "markdown",
   "metadata": {},
   "source": [
    "Is it true that the participant hasn't done the experiment yet?"
   ]
  },
  {
   "cell_type": "code",
   "execution_count": 19,
   "metadata": {},
   "outputs": [],
   "source": [
    "# YOUR CODE HERE\n"
   ]
  },
  {
   "cell_type": "markdown",
   "metadata": {},
   "source": [
    "What kind of pet does the participant have?"
   ]
  },
  {
   "cell_type": "code",
   "execution_count": 20,
   "metadata": {},
   "outputs": [],
   "source": [
    "# YOUR CODE HERE\n"
   ]
  },
  {
   "cell_type": "markdown",
   "metadata": {},
   "source": [
    "Once you have explored using operators, try to answer some quesions using them. \n",
    "\n",
    "Let's start with an example: is the multiplication of 13 and 15 greater than 200?"
   ]
  },
  {
   "cell_type": "code",
   "execution_count": 3,
   "metadata": {},
   "outputs": [
    {
     "data": {
      "text/plain": [
       "False"
      ]
     },
     "execution_count": 3,
     "metadata": {},
     "output_type": "execute_result"
    }
   ],
   "source": [
    "13 * 15 > 200"
   ]
  },
  {
   "cell_type": "markdown",
   "metadata": {},
   "source": [
    "Similar to that example, answer the following questions using Python variables & comparisons:\n",
    "- Is the remainder of dividing 323 by 13 greater than 6?\n",
    "- Is 7 to the power of 3 greater than or equal to 300?\n",
    "- Is 49 squared greater than 2500 or (boolean comparison) is 14 to the power of 3 greater than 2500\n",
    "- Is 49 modulus 9 equal to 67 modulus 9 and (boolean comparison) is the sum 49 & 67 modulus 9 greater than 7"
   ]
  },
  {
   "cell_type": "code",
   "execution_count": 4,
   "metadata": {},
   "outputs": [],
   "source": [
    "## YOUR CODE HERE\n",
    "# Is the remainder of dividing 323 by 13 greater than 6?\n",
    "\n"
   ]
  },
  {
   "cell_type": "code",
   "execution_count": 5,
   "metadata": {},
   "outputs": [],
   "source": [
    "## YOUR CODE HERE\n",
    "# Is 7 to the power of 3 greater than or equal to 300?\n",
    "\n",
    "\n"
   ]
  },
  {
   "cell_type": "code",
   "execution_count": 6,
   "metadata": {},
   "outputs": [],
   "source": [
    "## YOUR CODE HERE\n",
    "# Is 49 squared greater than 2500 or (boolean comparison) is 14 to the power of 3 greater than 2500\n",
    "\n",
    "\n"
   ]
  },
  {
   "cell_type": "code",
   "execution_count": 7,
   "metadata": {},
   "outputs": [],
   "source": [
    "## YOUR CODE HERE\n",
    "# Is 49 modulus 9 equal to 67 modulus 9 and (boolean comparison) is the sum 49 & 67 modulus 9 greater than 7\n",
    "\n"
   ]
  },
  {
   "cell_type": "markdown",
   "metadata": {},
   "source": [
    "### Operator Challenges\n",
    "\n",
    "The following are more challenging operator related questions. If they seem too tricky for now, just skip ahead to the next section.\n",
    "\n",
    "Some more comparisons, with variable assignment:\n",
    "- Set the variable `comp_1` to the result of whether 17 squared is not the same as 867 divided by 3\n",
    "- Set the variable `comp_2` to the result of whether 4^3 is less than 3^4 and also greater than the remainder of dividing 1234 by 99\n",
    "\n",
    "Bonus: both of the above questions can be written in (at least) two ways. \n",
    "\n",
    "If you found an answer to them, see if you can update the construction, changing at least one operator, to answer the question in a different way. \n",
    "\n",
    "Note: x^y indicates 'x to the power of y'"
   ]
  },
  {
   "cell_type": "code",
   "execution_count": 9,
   "metadata": {},
   "outputs": [],
   "source": [
    "## YOUR CODE HERE\n",
    "# Set the variable `comp_1` to the result of whether 17 squared is not the same as 867 divided by 3\n",
    "\n",
    "\n"
   ]
  },
  {
   "cell_type": "code",
   "execution_count": 10,
   "metadata": {},
   "outputs": [],
   "source": [
    "## YOUR CODE HERE\n",
    "# Set the variable `comp_2` to the result of whether 4^3 is less than 3^4 and also greater than the remainder of dividing 1234 by 99\n",
    "\n",
    "\n"
   ]
  },
  {
   "cell_type": "markdown",
   "metadata": {},
   "source": [
    "### Operator Explorations.\n",
    "\n",
    "For each of the following questions, start by writing out a guess of what you think it might do. \n",
    "\n",
    "Then, test out each one by writing out some code. \n",
    "\n",
    "Finally, once you have answered the question, using some code, add a comment in the markdown here with the answer. \n",
    "\n",
    "Questions:\n",
    "- If you divide a float by an int, what is the type of the outcome? What about dividing an int by a float?\n",
    "- What happens if you multiply a string with a number?\n",
    "- The '+' sign works if you for adding numbers, and for concatenating strings. Can you use '+' with a number and string?\n",
    "- Since you can use '+' and '*' with strings, can you use '-'?"
   ]
  },
  {
   "cell_type": "code",
   "execution_count": 2,
   "metadata": {},
   "outputs": [],
   "source": [
    "## EXPLORATION CODE HERE\n",
    "\n",
    "\n"
   ]
  },
  {
   "cell_type": "markdown",
   "metadata": {},
   "source": [
    "# My second program\n",
    "## This is going to be more challenging\n",
    "\n",
    "1) Write a statement that prints, `Hello world!`  \n",
    "\n",
    "2) Write a statement that prints the question, `What is your name?`  \n",
    "\n",
    "3) Use the `input()` function to assign your name to the variable `my_name`  \n",
    "\n",
    "4) Write a statement that prints `It is good to meet you my_name`, where `my_name` is the `my_name` variable.  \n",
    "\n",
    "    1) For example, for me, it would print: `It's good to meet you Dr. Feinberg.`  \n",
    "    \n",
    "5) Use the function `len(my_name)` to write a statement that prints `The length of your name is: X`, where X is the length of your name.  \n",
    "\n",
    "6) Write a statment that asks the user: `What is your age?`\n",
    "\n",
    "7) Use the `input()` function to assign an integer to the variable `my_age`.  \n",
    "\n",
    "8) Use the `str()` and `int()` Write a statement that tells the user, `You will be X in a year` where X is their age + 1.\n"
   ]
  },
  {
   "cell_type": "code",
   "execution_count": null,
   "metadata": {},
   "outputs": [],
   "source": [
    "## YOUR CODE HERE\n",
    "\n"
   ]
  }
 ],
 "metadata": {
  "kernelspec": {
   "display_name": "Python 3",
   "language": "python",
   "name": "python3"
  },
  "language_info": {
   "codemirror_mode": {
    "name": "ipython",
    "version": 3
   },
   "file_extension": ".py",
   "mimetype": "text/x-python",
   "name": "python",
   "nbconvert_exporter": "python",
   "pygments_lexer": "ipython3",
   "version": "3.7.3"
  },
  "toc": {
   "base_numbering": 1,
   "nav_menu": {},
   "number_sections": false,
   "sideBar": false,
   "skip_h1_title": false,
   "title_cell": "Table of Contents",
   "title_sidebar": "Contents",
   "toc_cell": false,
   "toc_position": {},
   "toc_section_display": false,
   "toc_window_display": false
  }
 },
 "nbformat": 4,
 "nbformat_minor": 2
}
