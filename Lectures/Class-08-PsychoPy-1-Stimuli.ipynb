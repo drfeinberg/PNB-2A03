{
 "cells": [
  {
   "cell_type": "markdown",
   "metadata": {},
   "source": [
    "<img src=\"img/psychopyLogoType3_h240.png\">\n",
    "\n",
    "# <a href=\"https://www.psychopy.org/\">PsychoPy</a> is an open-source application allowing you run a wide range of neuroscience, psychology and psychophysics experiments."
   ]
  },
  {
   "cell_type": "markdown",
   "metadata": {},
   "source": [
    "# Installing PsychoPy"
   ]
  },
  {
   "cell_type": "markdown",
   "metadata": {},
   "source": [
    "Psychopy offers installable applications for Mac and Windows.  Unless you are an advanced user, it's recommended you download the appropriate standalone version for your computer here, from the author's GitHub site: https://github.com/psychopy/psychopy/releases\n",
    "\n",
    "<div class=\"alert alert-warning\">\n",
    " We are using PsychoPy 3, not PsychoPy 2.  Make sure you install the proper version so you're using Python 3.\n",
    "</div>"
   ]
  },
  {
   "cell_type": "markdown",
   "metadata": {},
   "source": [
    "- For windows, choose: `StandalonePsychoPy3-3.1.5-win64.exe`\n",
    "- For mac, choose: `StandalonePsychoPy3-3.1.5-MacOS.dmg`\n",
    "- For linux\n",
    "    - follow instructions here: https://www.psychopy.org/download.html#download\n",
    "        - Remember to use the version of `pip` inside the `/anaconda3/bin/` you installed for class\n",
    "    - or compile the source on the GitHub: https://www.psychopy.org/download.html#download"
   ]
  },
  {
   "cell_type": "markdown",
   "metadata": {},
   "source": [
    "# Starting PsychoPy\n",
    "- Start PsychoPy program however you normally start programs."
   ]
  },
  {
   "cell_type": "markdown",
   "metadata": {},
   "source": [
    "# Builder and Coder"
   ]
  },
  {
   "cell_type": "markdown",
   "metadata": {},
   "source": [
    "Psychopy has builder mode and coder mode. "
   ]
  },
  {
   "cell_type": "markdown",
   "metadata": {},
   "source": [
    "# PsychoPy Coder"
   ]
  },
  {
   "cell_type": "markdown",
   "metadata": {},
   "source": [
    "## Example - Hello World in PsychoPy\n",
    "\n",
    "Saying `Hello world` in PsychoPy takes a few steps.  That's because there's lots of parts to an experiment.  "
   ]
  },
  {
   "cell_type": "markdown",
   "metadata": {},
   "source": [
    "## Load the Modules"
   ]
  },
  {
   "cell_type": "code",
   "execution_count": 1,
   "metadata": {},
   "outputs": [
    {
     "name": "stdout",
     "output_type": "stream",
     "text": [
      "pygame 1.9.6\n",
      "Hello from the pygame community. https://www.pygame.org/contribute.html\n"
     ]
    }
   ],
   "source": [
    "from psychopy import visual, core  # import psychopy's core and the visual module"
   ]
  },
  {
   "cell_type": "markdown",
   "metadata": {},
   "source": [
    "## Create a window\n",
    "- Visual programs have windows where things appear on the screen.  \n",
    "- Look at your web browser\n",
    "    - there's a window with menus, buttons, and a web page on it.  \n",
    "    - In PsychoPy, we have to make a window to type `Hello World` on.\n",
    "\n",
    "- Previoulsy, we imported the `visual` _module_ from `psychopy`.  \n",
    "- Create an _instance_ of the `Window` _class_.  \n",
    "    - Specify the size of the window with the _list_ `[400, 400]`"
   ]
  },
  {
   "cell_type": "code",
   "execution_count": 2,
   "metadata": {},
   "outputs": [],
   "source": [
    "win = visual.Window([400,400])  # create a window size 400 x 400"
   ]
  },
  {
   "cell_type": "markdown",
   "metadata": {},
   "source": [
    "## Tell Psychopy what message to write on the screen.  \n",
    "- To do this, we need to tell PsychoPy that we want to present Text Stimuli.  \n",
    "- create an _instance_ the `TextStim` _class_ called `message`.  \n",
    "    - That message goes into `win`, which is the window we just created. \n",
    "- The message contains the text `Hello world`."
   ]
  },
  {
   "cell_type": "code",
   "execution_count": 3,
   "metadata": {},
   "outputs": [],
   "source": [
    "message = visual.TextStim(win, text='Hello world')  # create a message that is a visual text stimulus"
   ]
  },
  {
   "cell_type": "markdown",
   "metadata": {},
   "source": [
    "##  Set the message to automatically be drawn at each frame\n",
    "- The previous code just created the `message` object.  It didn't draw it on the window.  \n",
    "- To do that, we will set the `autoDraw` boolean asset to True"
   ]
  },
  {
   "cell_type": "code",
   "execution_count": 4,
   "metadata": {},
   "outputs": [],
   "source": [
    "message.autoDraw = True  # Automatically draw that message on the window"
   ]
  },
  {
   "cell_type": "markdown",
   "metadata": {},
   "source": [
    "## Flip the window\n",
    "Ack! We still can't see something on the screen.  \n",
    "- Imagine the screen is covered by a window curtain and you need to reveal what's behind the curtain to see everything you put on the window.\n",
    "- The window shade is a buffer and makes sure everything is 100% ready to go before we reveal what's behind the curtain.\n",
    "    - That's super important in experiments so that we are sure everything gets timed perfectly."
   ]
  },
  {
   "cell_type": "code",
   "execution_count": 5,
   "metadata": {},
   "outputs": [
    {
     "data": {
      "text/plain": [
       "336.530222407"
      ]
     },
     "execution_count": 5,
     "metadata": {},
     "output_type": "execute_result"
    }
   ],
   "source": [
    "win.flip()  # Show the window"
   ]
  },
  {
   "cell_type": "markdown",
   "metadata": {},
   "source": [
    "## Tell PsychoPy to wait 10 seconds before executing the next command"
   ]
  },
  {
   "cell_type": "code",
   "execution_count": 6,
   "metadata": {},
   "outputs": [],
   "source": [
    "core.wait(10)"
   ]
  },
  {
   "cell_type": "markdown",
   "metadata": {},
   "source": [
    "## We can change the stimulus by taking the previous code, and changing some attributes of the message\n",
    "\n",
    "<div class=\"alert alert-info\" role=\"alert\">\n",
    "Remember that message is an instance of the TextStim class, so it has more methods and attributes available to it.  If we want to learn them or forget them, we can type <code>dir message.</code>  You may find that there's usually examples and better information online. Try searching `psychopy TexStim` on google and look at some results.\n",
    "</div>"
   ]
  },
  {
   "cell_type": "code",
   "execution_count": 7,
   "metadata": {},
   "outputs": [
    {
     "data": {
      "text/plain": [
       "['__class__',\n",
       " '__del__',\n",
       " '__delattr__',\n",
       " '__dict__',\n",
       " '__dir__',\n",
       " '__doc__',\n",
       " '__eq__',\n",
       " '__format__',\n",
       " '__ge__',\n",
       " '__getattribute__',\n",
       " '__gt__',\n",
       " '__hash__',\n",
       " '__init__',\n",
       " '__init_subclass__',\n",
       " '__le__',\n",
       " '__lt__',\n",
       " '__module__',\n",
       " '__ne__',\n",
       " '__new__',\n",
       " '__reduce__',\n",
       " '__reduce_ex__',\n",
       " '__repr__',\n",
       " '__setattr__',\n",
       " '__sizeof__',\n",
       " '__str__',\n",
       " '__subclasshook__',\n",
       " '__weakref__',\n",
       " '_borderBase',\n",
       " '_borderPix',\n",
       " '_calcPosRendered',\n",
       " '_calcSizeRendered',\n",
       " '_font',\n",
       " '_fontHeightPix',\n",
       " '_getDesiredRGB',\n",
       " '_getPolyAsRendered',\n",
       " '_heightPix',\n",
       " '_initParams',\n",
       " '_listID',\n",
       " '_needSetText',\n",
       " '_needUpdate',\n",
       " '_needVertexUpdate',\n",
       " '_pygletTextObj',\n",
       " '_rotationMatrix',\n",
       " '_selectWindow',\n",
       " '_set',\n",
       " '_setTextNoShaders',\n",
       " '_setTextShaders',\n",
       " '_updateList',\n",
       " '_updateListNoShaders',\n",
       " '_updateListShaders',\n",
       " '_updateVertices',\n",
       " '_verticesBase',\n",
       " '_wrapWidthPix',\n",
       " 'alignHoriz',\n",
       " 'alignVert',\n",
       " 'antialias',\n",
       " 'autoDraw',\n",
       " 'autoLog',\n",
       " 'bold',\n",
       " 'boundingBox',\n",
       " 'color',\n",
       " 'colorSpace',\n",
       " 'contains',\n",
       " 'contrast',\n",
       " 'depth',\n",
       " 'draw',\n",
       " 'flipHoriz',\n",
       " 'flipVert',\n",
       " 'font',\n",
       " 'fontFiles',\n",
       " 'height',\n",
       " 'italic',\n",
       " 'languageStyle',\n",
       " 'name',\n",
       " 'opacity',\n",
       " 'ori',\n",
       " 'overlaps',\n",
       " 'pos',\n",
       " 'posPix',\n",
       " 'rgb',\n",
       " 'setAutoDraw',\n",
       " 'setAutoLog',\n",
       " 'setColor',\n",
       " 'setContrast',\n",
       " 'setDKL',\n",
       " 'setDepth',\n",
       " 'setFlip',\n",
       " 'setFlipHoriz',\n",
       " 'setFlipVert',\n",
       " 'setFont',\n",
       " 'setHeight',\n",
       " 'setLMS',\n",
       " 'setOpacity',\n",
       " 'setOri',\n",
       " 'setPos',\n",
       " 'setRGB',\n",
       " 'setSize',\n",
       " 'setText',\n",
       " 'setUseShaders',\n",
       " 'size',\n",
       " 'status',\n",
       " 'text',\n",
       " 'units',\n",
       " 'useShaders',\n",
       " 'verticesPix',\n",
       " 'width',\n",
       " 'win',\n",
       " 'wrapWidth']"
      ]
     },
     "execution_count": 7,
     "metadata": {},
     "output_type": "execute_result"
    }
   ],
   "source": [
    "dir(message)"
   ]
  },
  {
   "cell_type": "markdown",
   "metadata": {},
   "source": [
    "## We can change are `text` and `color`.\n",
    "\n",
    "Let's begin by drawing that `Hello world` text in the window."
   ]
  },
  {
   "cell_type": "code",
   "execution_count": 1,
   "metadata": {},
   "outputs": [
    {
     "name": "stdout",
     "output_type": "stream",
     "text": [
      "pygame 1.9.6\n",
      "Hello from the pygame community. https://www.pygame.org/contribute.html\n"
     ]
    }
   ],
   "source": [
    "from psychopy import visual, core  # import psychopy's core and the visual module\n",
    "win = visual.Window([400,400])  # create a window size 400 x 400\n",
    "message = visual.TextStim(win, text='Hello world')  # create a message that is a visual text stimulus\n",
    "message.autoDraw = True  # Automatically draw that message on the window\n",
    "win.flip()  # Show the window\n",
    "core.wait(15)  # here we're waiting 15 seconds before doing the next command "
   ]
  },
  {
   "cell_type": "markdown",
   "metadata": {},
   "source": [
    "## Now let's update the  `text` and `color`."
   ]
  },
  {
   "cell_type": "code",
   "execution_count": 2,
   "metadata": {},
   "outputs": [],
   "source": [
    "message.text = \"Green\"  # make a \n",
    "message.color = \"red\"\n",
    "win.flip()  # Show the window\n",
    "core.wait(10) # wait 10 seconds"
   ]
  },
  {
   "cell_type": "markdown",
   "metadata": {},
   "source": [
    "## Make a list of all of the text and colour combinations between the colors red, green and blue, and the text 'red', 'green', and 'blue' and call it `trialList`"
   ]
  },
  {
   "cell_type": "code",
   "execution_count": 3,
   "metadata": {},
   "outputs": [],
   "source": [
    "trialList = [{'text': 'red', 'letterColour': 'red'},\n",
    "    {'text': 'red', 'letterColour': 'green'},\n",
    "    {'text': 'green', 'letterColour': 'green'},\n",
    "    {'text': 'green', 'letterColour': 'blue'},\n",
    "    {'text': 'blue', 'letterColour': 'blue'},\n",
    "    {'text': 'blue', 'letterColour': 'red'}]"
   ]
  },
  {
   "cell_type": "markdown",
   "metadata": {},
   "source": [
    "## Let's pick the last combination"
   ]
  },
  {
   "cell_type": "code",
   "execution_count": 4,
   "metadata": {},
   "outputs": [],
   "source": [
    "current_trial = trialList[-1]"
   ]
  },
  {
   "cell_type": "markdown",
   "metadata": {},
   "source": [
    "## Now, let's update the window with these values"
   ]
  },
  {
   "cell_type": "code",
   "execution_count": 5,
   "metadata": {},
   "outputs": [],
   "source": [
    "message.text = current_trial['text']  # make a \n",
    "message.color = current_trial['letterColour']\n",
    "win.flip()  # Show the window\n",
    "core.wait(10) # wait 10 seconds"
   ]
  },
  {
   "cell_type": "markdown",
   "metadata": {},
   "source": [
    "## Let's randomize the order of the stimuli and make a loop through the randomized list"
   ]
  },
  {
   "cell_type": "code",
   "execution_count": 6,
   "metadata": {},
   "outputs": [
    {
     "data": {
      "text/plain": [
       "[{'text': 'green', 'letterColour': 'blue'},\n",
       " {'text': 'red', 'letterColour': 'red'},\n",
       " {'text': 'blue', 'letterColour': 'red'},\n",
       " {'text': 'red', 'letterColour': 'green'},\n",
       " {'text': 'blue', 'letterColour': 'blue'},\n",
       " {'text': 'green', 'letterColour': 'green'}]"
      ]
     },
     "execution_count": 6,
     "metadata": {},
     "output_type": "execute_result"
    }
   ],
   "source": [
    "import random\n",
    "\n",
    "random.shuffle(trialList)\n",
    "trialList"
   ]
  },
  {
   "cell_type": "markdown",
   "metadata": {},
   "source": [
    "## Loop through the list of stimuli, pausing for 2 seconds at a time"
   ]
  },
  {
   "cell_type": "code",
   "execution_count": 7,
   "metadata": {},
   "outputs": [],
   "source": [
    "for trial in trialList:\n",
    "    message.text = trial['text']  # make a \n",
    "    message.color = trial['letterColour']\n",
    "    win.flip()  # S5ow the window\n",
    "    core.wait(5) # wait 10 seconds"
   ]
  },
  {
   "cell_type": "markdown",
   "metadata": {},
   "source": [
    "## Close the window"
   ]
  },
  {
   "cell_type": "code",
   "execution_count": 8,
   "metadata": {},
   "outputs": [
    {
     "name": "stdout",
     "output_type": "stream",
     "text": [
      "0.2902 \tWARNING \tMonitor specification not found. Creating a temporary one...\n",
      "0.4957 \tWARNING \tThe size of the gamma ramp was reported as 0. This can mean that gamma settings have no effect. Proceeding with a default gamma ramp size.\n",
      "0.4960 \tWARNING \tThe size of the gamma ramp was reported as 0. This can mean that gamma settings have no effect. Proceeding with a default gamma ramp size.\n"
     ]
    }
   ],
   "source": [
    "win.close() # close the window called `win`"
   ]
  },
  {
   "cell_type": "code",
   "execution_count": null,
   "metadata": {},
   "outputs": [],
   "source": []
  }
 ],
 "metadata": {
  "kernelspec": {
   "display_name": "Python 3",
   "language": "python",
   "name": "python3"
  },
  "language_info": {
   "codemirror_mode": {
    "name": "ipython",
    "version": 3
   },
   "file_extension": ".py",
   "mimetype": "text/x-python",
   "name": "python",
   "nbconvert_exporter": "python",
   "pygments_lexer": "ipython3",
   "version": "3.7.4"
  },
  "toc": {
   "base_numbering": 1,
   "nav_menu": {},
   "number_sections": false,
   "sideBar": false,
   "skip_h1_title": false,
   "title_cell": "Table of Contents",
   "title_sidebar": "Contents",
   "toc_cell": false,
   "toc_position": {},
   "toc_section_display": false,
   "toc_window_display": false
  },
  "varInspector": {
   "cols": {
    "lenName": 16,
    "lenType": 16,
    "lenVar": 40
   },
   "kernels_config": {
    "python": {
     "delete_cmd_postfix": "",
     "delete_cmd_prefix": "del ",
     "library": "var_list.py",
     "varRefreshCmd": "print(var_dic_list())"
    },
    "r": {
     "delete_cmd_postfix": ") ",
     "delete_cmd_prefix": "rm(",
     "library": "var_list.r",
     "varRefreshCmd": "cat(var_dic_list()) "
    }
   },
   "types_to_exclude": [
    "module",
    "function",
    "builtin_function_or_method",
    "instance",
    "_Feature"
   ],
   "window_display": false
  }
 },
 "nbformat": 4,
 "nbformat_minor": 2
}
