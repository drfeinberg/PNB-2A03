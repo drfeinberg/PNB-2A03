{
 "cells": [
  {
   "cell_type": "code",
   "execution_count": 1,
   "metadata": {},
   "outputs": [],
   "source": [
    "import pandas as pd\n",
    "%matplotlib inline"
   ]
  },
  {
   "cell_type": "markdown",
   "metadata": {},
   "source": [
    "Here we can import our pickled data"
   ]
  },
  {
   "cell_type": "code",
   "execution_count": 2,
   "metadata": {},
   "outputs": [
    {
     "data": {
      "text/html": [
       "<div>\n",
       "<style scoped>\n",
       "    .dataframe tbody tr th:only-of-type {\n",
       "        vertical-align: middle;\n",
       "    }\n",
       "\n",
       "    .dataframe tbody tr th {\n",
       "        vertical-align: top;\n",
       "    }\n",
       "\n",
       "    .dataframe thead th {\n",
       "        text-align: right;\n",
       "    }\n",
       "</style>\n",
       "<table border=\"1\" class=\"dataframe\">\n",
       "  <thead>\n",
       "    <tr style=\"text-align: right;\">\n",
       "      <th></th>\n",
       "      <th>Incongruent Response</th>\n",
       "      <th>Congruent Response</th>\n",
       "      <th>Incongruent RT</th>\n",
       "      <th>Congruent RT</th>\n",
       "      <th>Apple Preference</th>\n",
       "      <th>Crab Preference</th>\n",
       "    </tr>\n",
       "  </thead>\n",
       "  <tbody>\n",
       "    <tr>\n",
       "      <th>0</th>\n",
       "      <td>incorrect</td>\n",
       "      <td>correct</td>\n",
       "      <td>4.609095</td>\n",
       "      <td>2.809274</td>\n",
       "      <td>104.185547</td>\n",
       "      <td>31.080650</td>\n",
       "    </tr>\n",
       "    <tr>\n",
       "      <th>1</th>\n",
       "      <td>incorrect</td>\n",
       "      <td>correct</td>\n",
       "      <td>4.504086</td>\n",
       "      <td>2.765419</td>\n",
       "      <td>101.650526</td>\n",
       "      <td>27.538217</td>\n",
       "    </tr>\n",
       "    <tr>\n",
       "      <th>2</th>\n",
       "      <td>incorrect</td>\n",
       "      <td>correct</td>\n",
       "      <td>2.109383</td>\n",
       "      <td>2.597594</td>\n",
       "      <td>99.967340</td>\n",
       "      <td>5.299206</td>\n",
       "    </tr>\n",
       "    <tr>\n",
       "      <th>3</th>\n",
       "      <td>incorrect</td>\n",
       "      <td>correct</td>\n",
       "      <td>2.719660</td>\n",
       "      <td>2.183409</td>\n",
       "      <td>73.779880</td>\n",
       "      <td>63.977441</td>\n",
       "    </tr>\n",
       "    <tr>\n",
       "      <th>4</th>\n",
       "      <td>correct</td>\n",
       "      <td>correct</td>\n",
       "      <td>2.795648</td>\n",
       "      <td>3.679280</td>\n",
       "      <td>71.299888</td>\n",
       "      <td>32.757141</td>\n",
       "    </tr>\n",
       "  </tbody>\n",
       "</table>\n",
       "</div>"
      ],
      "text/plain": [
       "  Incongruent Response Congruent Response  Incongruent RT  Congruent RT  \\\n",
       "0            incorrect            correct        4.609095      2.809274   \n",
       "1            incorrect            correct        4.504086      2.765419   \n",
       "2            incorrect            correct        2.109383      2.597594   \n",
       "3            incorrect            correct        2.719660      2.183409   \n",
       "4              correct            correct        2.795648      3.679280   \n",
       "\n",
       "   Apple Preference  Crab Preference  \n",
       "0        104.185547        31.080650  \n",
       "1        101.650526        27.538217  \n",
       "2         99.967340         5.299206  \n",
       "3         73.779880        63.977441  \n",
       "4         71.299888        32.757141  "
      ]
     },
     "execution_count": 2,
     "metadata": {},
     "output_type": "execute_result"
    }
   ],
   "source": [
    "df = pd.read_pickle(\"simulated_data.pkl\")\n",
    "df.head()"
   ]
  },
  {
   "cell_type": "markdown",
   "metadata": {},
   "source": [
    "When reading our excel file or csv file we need to specify that the first column is the index using `index_col=0`. "
   ]
  },
  {
   "cell_type": "code",
   "execution_count": 3,
   "metadata": {},
   "outputs": [
    {
     "data": {
      "text/html": [
       "<div>\n",
       "<style scoped>\n",
       "    .dataframe tbody tr th:only-of-type {\n",
       "        vertical-align: middle;\n",
       "    }\n",
       "\n",
       "    .dataframe tbody tr th {\n",
       "        vertical-align: top;\n",
       "    }\n",
       "\n",
       "    .dataframe thead th {\n",
       "        text-align: right;\n",
       "    }\n",
       "</style>\n",
       "<table border=\"1\" class=\"dataframe\">\n",
       "  <thead>\n",
       "    <tr style=\"text-align: right;\">\n",
       "      <th></th>\n",
       "      <th>Incongruent Response</th>\n",
       "      <th>Congruent Response</th>\n",
       "      <th>Incongruent RT</th>\n",
       "      <th>Congruent RT</th>\n",
       "      <th>Apple Preference</th>\n",
       "      <th>Crab Preference</th>\n",
       "    </tr>\n",
       "  </thead>\n",
       "  <tbody>\n",
       "    <tr>\n",
       "      <th>0</th>\n",
       "      <td>incorrect</td>\n",
       "      <td>correct</td>\n",
       "      <td>4.609095</td>\n",
       "      <td>2.809274</td>\n",
       "      <td>104.185547</td>\n",
       "      <td>31.080650</td>\n",
       "    </tr>\n",
       "    <tr>\n",
       "      <th>1</th>\n",
       "      <td>incorrect</td>\n",
       "      <td>correct</td>\n",
       "      <td>4.504086</td>\n",
       "      <td>2.765419</td>\n",
       "      <td>101.650526</td>\n",
       "      <td>27.538217</td>\n",
       "    </tr>\n",
       "    <tr>\n",
       "      <th>2</th>\n",
       "      <td>incorrect</td>\n",
       "      <td>correct</td>\n",
       "      <td>2.109383</td>\n",
       "      <td>2.597594</td>\n",
       "      <td>99.967340</td>\n",
       "      <td>5.299206</td>\n",
       "    </tr>\n",
       "    <tr>\n",
       "      <th>3</th>\n",
       "      <td>incorrect</td>\n",
       "      <td>correct</td>\n",
       "      <td>2.719660</td>\n",
       "      <td>2.183409</td>\n",
       "      <td>73.779880</td>\n",
       "      <td>63.977441</td>\n",
       "    </tr>\n",
       "    <tr>\n",
       "      <th>4</th>\n",
       "      <td>correct</td>\n",
       "      <td>correct</td>\n",
       "      <td>2.795648</td>\n",
       "      <td>3.679280</td>\n",
       "      <td>71.299888</td>\n",
       "      <td>32.757141</td>\n",
       "    </tr>\n",
       "  </tbody>\n",
       "</table>\n",
       "</div>"
      ],
      "text/plain": [
       "  Incongruent Response Congruent Response  Incongruent RT  Congruent RT  \\\n",
       "0            incorrect            correct        4.609095      2.809274   \n",
       "1            incorrect            correct        4.504086      2.765419   \n",
       "2            incorrect            correct        2.109383      2.597594   \n",
       "3            incorrect            correct        2.719660      2.183409   \n",
       "4              correct            correct        2.795648      3.679280   \n",
       "\n",
       "   Apple Preference  Crab Preference  \n",
       "0        104.185547        31.080650  \n",
       "1        101.650526        27.538217  \n",
       "2         99.967340         5.299206  \n",
       "3         73.779880        63.977441  \n",
       "4         71.299888        32.757141  "
      ]
     },
     "execution_count": 3,
     "metadata": {},
     "output_type": "execute_result"
    }
   ],
   "source": [
    "df = pd.read_excel(\"simulated_data.xlsx\", index_col=0)\n",
    "df.head()"
   ]
  },
  {
   "cell_type": "code",
   "execution_count": 5,
   "metadata": {},
   "outputs": [
    {
     "data": {
      "text/html": [
       "<div>\n",
       "<style scoped>\n",
       "    .dataframe tbody tr th:only-of-type {\n",
       "        vertical-align: middle;\n",
       "    }\n",
       "\n",
       "    .dataframe tbody tr th {\n",
       "        vertical-align: top;\n",
       "    }\n",
       "\n",
       "    .dataframe thead th {\n",
       "        text-align: right;\n",
       "    }\n",
       "</style>\n",
       "<table border=\"1\" class=\"dataframe\">\n",
       "  <thead>\n",
       "    <tr style=\"text-align: right;\">\n",
       "      <th></th>\n",
       "      <th>Unnamed: 0</th>\n",
       "      <th>Incongruent Response</th>\n",
       "      <th>Congruent Response</th>\n",
       "      <th>Incongruent RT</th>\n",
       "      <th>Congruent RT</th>\n",
       "      <th>Apple Preference</th>\n",
       "      <th>Crab Preference</th>\n",
       "    </tr>\n",
       "  </thead>\n",
       "  <tbody>\n",
       "    <tr>\n",
       "      <th>0</th>\n",
       "      <td>0</td>\n",
       "      <td>incorrect</td>\n",
       "      <td>correct</td>\n",
       "      <td>4.609095</td>\n",
       "      <td>2.809274</td>\n",
       "      <td>104.185547</td>\n",
       "      <td>31.080650</td>\n",
       "    </tr>\n",
       "    <tr>\n",
       "      <th>1</th>\n",
       "      <td>1</td>\n",
       "      <td>incorrect</td>\n",
       "      <td>correct</td>\n",
       "      <td>4.504086</td>\n",
       "      <td>2.765419</td>\n",
       "      <td>101.650526</td>\n",
       "      <td>27.538217</td>\n",
       "    </tr>\n",
       "    <tr>\n",
       "      <th>2</th>\n",
       "      <td>2</td>\n",
       "      <td>incorrect</td>\n",
       "      <td>correct</td>\n",
       "      <td>2.109383</td>\n",
       "      <td>2.597594</td>\n",
       "      <td>99.967340</td>\n",
       "      <td>5.299206</td>\n",
       "    </tr>\n",
       "    <tr>\n",
       "      <th>3</th>\n",
       "      <td>3</td>\n",
       "      <td>incorrect</td>\n",
       "      <td>correct</td>\n",
       "      <td>2.719660</td>\n",
       "      <td>2.183409</td>\n",
       "      <td>73.779880</td>\n",
       "      <td>63.977441</td>\n",
       "    </tr>\n",
       "    <tr>\n",
       "      <th>4</th>\n",
       "      <td>4</td>\n",
       "      <td>correct</td>\n",
       "      <td>correct</td>\n",
       "      <td>2.795648</td>\n",
       "      <td>3.679280</td>\n",
       "      <td>71.299888</td>\n",
       "      <td>32.757141</td>\n",
       "    </tr>\n",
       "  </tbody>\n",
       "</table>\n",
       "</div>"
      ],
      "text/plain": [
       "   Unnamed: 0 Incongruent Response Congruent Response  Incongruent RT  \\\n",
       "0           0            incorrect            correct        4.609095   \n",
       "1           1            incorrect            correct        4.504086   \n",
       "2           2            incorrect            correct        2.109383   \n",
       "3           3            incorrect            correct        2.719660   \n",
       "4           4              correct            correct        2.795648   \n",
       "\n",
       "   Congruent RT  Apple Preference  Crab Preference  \n",
       "0      2.809274        104.185547        31.080650  \n",
       "1      2.765419        101.650526        27.538217  \n",
       "2      2.597594         99.967340         5.299206  \n",
       "3      2.183409         73.779880        63.977441  \n",
       "4      3.679280         71.299888        32.757141  "
      ]
     },
     "execution_count": 5,
     "metadata": {},
     "output_type": "execute_result"
    }
   ],
   "source": [
    "df = pd.read_excel(\"simulated_data.xlsx\")\n",
    "df.head()"
   ]
  },
  {
   "cell_type": "markdown",
   "metadata": {},
   "source": [
    " Look what happens when we don't specify the index column"
   ]
  },
  {
   "cell_type": "code",
   "execution_count": 42,
   "metadata": {},
   "outputs": [
    {
     "data": {
      "text/html": [
       "<div>\n",
       "<style scoped>\n",
       "    .dataframe tbody tr th:only-of-type {\n",
       "        vertical-align: middle;\n",
       "    }\n",
       "\n",
       "    .dataframe tbody tr th {\n",
       "        vertical-align: top;\n",
       "    }\n",
       "\n",
       "    .dataframe thead th {\n",
       "        text-align: right;\n",
       "    }\n",
       "</style>\n",
       "<table border=\"1\" class=\"dataframe\">\n",
       "  <thead>\n",
       "    <tr style=\"text-align: right;\">\n",
       "      <th></th>\n",
       "      <th>Unnamed: 0</th>\n",
       "      <th>Incongruent Response</th>\n",
       "      <th>Congruent Response</th>\n",
       "      <th>Incongruent RT</th>\n",
       "      <th>Congruent RT</th>\n",
       "      <th>Apple Preference</th>\n",
       "      <th>Crab Preference</th>\n",
       "    </tr>\n",
       "  </thead>\n",
       "  <tbody>\n",
       "    <tr>\n",
       "      <th>0</th>\n",
       "      <td>0</td>\n",
       "      <td>incorrect</td>\n",
       "      <td>correct</td>\n",
       "      <td>4.609095</td>\n",
       "      <td>2.809274</td>\n",
       "      <td>104.185547</td>\n",
       "      <td>31.080650</td>\n",
       "    </tr>\n",
       "    <tr>\n",
       "      <th>1</th>\n",
       "      <td>1</td>\n",
       "      <td>incorrect</td>\n",
       "      <td>correct</td>\n",
       "      <td>4.504086</td>\n",
       "      <td>2.765419</td>\n",
       "      <td>101.650526</td>\n",
       "      <td>27.538217</td>\n",
       "    </tr>\n",
       "    <tr>\n",
       "      <th>2</th>\n",
       "      <td>2</td>\n",
       "      <td>incorrect</td>\n",
       "      <td>correct</td>\n",
       "      <td>2.109383</td>\n",
       "      <td>2.597594</td>\n",
       "      <td>99.967340</td>\n",
       "      <td>5.299206</td>\n",
       "    </tr>\n",
       "    <tr>\n",
       "      <th>3</th>\n",
       "      <td>3</td>\n",
       "      <td>incorrect</td>\n",
       "      <td>correct</td>\n",
       "      <td>2.719660</td>\n",
       "      <td>2.183409</td>\n",
       "      <td>73.779880</td>\n",
       "      <td>63.977441</td>\n",
       "    </tr>\n",
       "    <tr>\n",
       "      <th>4</th>\n",
       "      <td>4</td>\n",
       "      <td>correct</td>\n",
       "      <td>correct</td>\n",
       "      <td>2.795648</td>\n",
       "      <td>3.679280</td>\n",
       "      <td>71.299888</td>\n",
       "      <td>32.757141</td>\n",
       "    </tr>\n",
       "  </tbody>\n",
       "</table>\n",
       "</div>"
      ],
      "text/plain": [
       "   Unnamed: 0 Incongruent Response Congruent Response  Incongruent RT  \\\n",
       "0           0            incorrect            correct        4.609095   \n",
       "1           1            incorrect            correct        4.504086   \n",
       "2           2            incorrect            correct        2.109383   \n",
       "3           3            incorrect            correct        2.719660   \n",
       "4           4              correct            correct        2.795648   \n",
       "\n",
       "   Congruent RT  Apple Preference  Crab Preference  \n",
       "0      2.809274        104.185547        31.080650  \n",
       "1      2.765419        101.650526        27.538217  \n",
       "2      2.597594         99.967340         5.299206  \n",
       "3      2.183409         73.779880        63.977441  \n",
       "4      3.679280         71.299888        32.757141  "
      ]
     },
     "execution_count": 42,
     "metadata": {},
     "output_type": "execute_result"
    }
   ],
   "source": [
    "df = pd.read_csv(\"simulated_data.csv\")\n",
    "df.head()"
   ]
  },
  {
   "cell_type": "markdown",
   "metadata": {},
   "source": [
    "See the difference?"
   ]
  },
  {
   "cell_type": "code",
   "execution_count": 45,
   "metadata": {},
   "outputs": [
    {
     "data": {
      "text/html": [
       "<div>\n",
       "<style scoped>\n",
       "    .dataframe tbody tr th:only-of-type {\n",
       "        vertical-align: middle;\n",
       "    }\n",
       "\n",
       "    .dataframe tbody tr th {\n",
       "        vertical-align: top;\n",
       "    }\n",
       "\n",
       "    .dataframe thead th {\n",
       "        text-align: right;\n",
       "    }\n",
       "</style>\n",
       "<table border=\"1\" class=\"dataframe\">\n",
       "  <thead>\n",
       "    <tr style=\"text-align: right;\">\n",
       "      <th></th>\n",
       "      <th>Incongruent Response</th>\n",
       "      <th>Congruent Response</th>\n",
       "      <th>Incongruent RT</th>\n",
       "      <th>Congruent RT</th>\n",
       "      <th>Apple Preference</th>\n",
       "      <th>Crab Preference</th>\n",
       "    </tr>\n",
       "  </thead>\n",
       "  <tbody>\n",
       "    <tr>\n",
       "      <th>0</th>\n",
       "      <td>incorrect</td>\n",
       "      <td>correct</td>\n",
       "      <td>4.609095</td>\n",
       "      <td>2.809274</td>\n",
       "      <td>104.185547</td>\n",
       "      <td>31.080650</td>\n",
       "    </tr>\n",
       "    <tr>\n",
       "      <th>1</th>\n",
       "      <td>incorrect</td>\n",
       "      <td>correct</td>\n",
       "      <td>4.504086</td>\n",
       "      <td>2.765419</td>\n",
       "      <td>101.650526</td>\n",
       "      <td>27.538217</td>\n",
       "    </tr>\n",
       "    <tr>\n",
       "      <th>2</th>\n",
       "      <td>incorrect</td>\n",
       "      <td>correct</td>\n",
       "      <td>2.109383</td>\n",
       "      <td>2.597594</td>\n",
       "      <td>99.967340</td>\n",
       "      <td>5.299206</td>\n",
       "    </tr>\n",
       "    <tr>\n",
       "      <th>3</th>\n",
       "      <td>incorrect</td>\n",
       "      <td>correct</td>\n",
       "      <td>2.719660</td>\n",
       "      <td>2.183409</td>\n",
       "      <td>73.779880</td>\n",
       "      <td>63.977441</td>\n",
       "    </tr>\n",
       "    <tr>\n",
       "      <th>4</th>\n",
       "      <td>correct</td>\n",
       "      <td>correct</td>\n",
       "      <td>2.795648</td>\n",
       "      <td>3.679280</td>\n",
       "      <td>71.299888</td>\n",
       "      <td>32.757141</td>\n",
       "    </tr>\n",
       "  </tbody>\n",
       "</table>\n",
       "</div>"
      ],
      "text/plain": [
       "  Incongruent Response Congruent Response  Incongruent RT  Congruent RT  \\\n",
       "0            incorrect            correct        4.609095      2.809274   \n",
       "1            incorrect            correct        4.504086      2.765419   \n",
       "2            incorrect            correct        2.109383      2.597594   \n",
       "3            incorrect            correct        2.719660      2.183409   \n",
       "4              correct            correct        2.795648      3.679280   \n",
       "\n",
       "   Apple Preference  Crab Preference  \n",
       "0        104.185547        31.080650  \n",
       "1        101.650526        27.538217  \n",
       "2         99.967340         5.299206  \n",
       "3         73.779880        63.977441  \n",
       "4         71.299888        32.757141  "
      ]
     },
     "execution_count": 45,
     "metadata": {},
     "output_type": "execute_result"
    }
   ],
   "source": [
    "df = pd.read_csv(\"simulated_data.csv\", index_col=0)\n",
    "df.head()"
   ]
  },
  {
   "cell_type": "code",
   "execution_count": 59,
   "metadata": {},
   "outputs": [
    {
     "data": {
      "text/html": [
       "<div>\n",
       "<style scoped>\n",
       "    .dataframe tbody tr th:only-of-type {\n",
       "        vertical-align: middle;\n",
       "    }\n",
       "\n",
       "    .dataframe tbody tr th {\n",
       "        vertical-align: top;\n",
       "    }\n",
       "\n",
       "    .dataframe thead th {\n",
       "        text-align: right;\n",
       "    }\n",
       "</style>\n",
       "<table border=\"1\" class=\"dataframe\">\n",
       "  <thead>\n",
       "    <tr style=\"text-align: right;\">\n",
       "      <th></th>\n",
       "      <th></th>\n",
       "      <th>Congruent RT</th>\n",
       "    </tr>\n",
       "    <tr>\n",
       "      <th>Apple Preference</th>\n",
       "      <th>Crab Preference</th>\n",
       "      <th></th>\n",
       "    </tr>\n",
       "  </thead>\n",
       "  <tbody>\n",
       "    <tr>\n",
       "      <th>18.162952</th>\n",
       "      <th>51.434446</th>\n",
       "      <td>3.760541</td>\n",
       "    </tr>\n",
       "    <tr>\n",
       "      <th>22.795899</th>\n",
       "      <th>26.059273</th>\n",
       "      <td>1.823644</td>\n",
       "    </tr>\n",
       "    <tr>\n",
       "      <th>28.883287</th>\n",
       "      <th>5.062850</th>\n",
       "      <td>4.117101</td>\n",
       "    </tr>\n",
       "    <tr>\n",
       "      <th>33.459719</th>\n",
       "      <th>38.865948</th>\n",
       "      <td>1.238513</td>\n",
       "    </tr>\n",
       "    <tr>\n",
       "      <th>37.050669</th>\n",
       "      <th>57.168507</th>\n",
       "      <td>3.312076</td>\n",
       "    </tr>\n",
       "    <tr>\n",
       "      <th>37.436093</th>\n",
       "      <th>2.273614</th>\n",
       "      <td>2.560032</td>\n",
       "    </tr>\n",
       "    <tr>\n",
       "      <th>37.865129</th>\n",
       "      <th>55.643836</th>\n",
       "      <td>4.668477</td>\n",
       "    </tr>\n",
       "    <tr>\n",
       "      <th>56.740725</th>\n",
       "      <th>7.225427</th>\n",
       "      <td>0.795192</td>\n",
       "    </tr>\n",
       "    <tr>\n",
       "      <th>56.782860</th>\n",
       "      <th>6.831342</th>\n",
       "      <td>4.357143</td>\n",
       "    </tr>\n",
       "    <tr>\n",
       "      <th>60.106664</th>\n",
       "      <th>58.192946</th>\n",
       "      <td>3.690811</td>\n",
       "    </tr>\n",
       "    <tr>\n",
       "      <th>61.050178</th>\n",
       "      <th>18.531153</th>\n",
       "      <td>3.203608</td>\n",
       "    </tr>\n",
       "    <tr>\n",
       "      <th>63.167321</th>\n",
       "      <th>28.970266</th>\n",
       "      <td>2.336391</td>\n",
       "    </tr>\n",
       "    <tr>\n",
       "      <th>66.352416</th>\n",
       "      <th>87.533020</th>\n",
       "      <td>2.871721</td>\n",
       "    </tr>\n",
       "    <tr>\n",
       "      <th>66.381932</th>\n",
       "      <th>3.365773</th>\n",
       "      <td>4.924657</td>\n",
       "    </tr>\n",
       "    <tr>\n",
       "      <th>66.639215</th>\n",
       "      <th>66.639579</th>\n",
       "      <td>2.665568</td>\n",
       "    </tr>\n",
       "    <tr>\n",
       "      <th>67.700045</th>\n",
       "      <th>36.396664</th>\n",
       "      <td>2.596194</td>\n",
       "    </tr>\n",
       "    <tr>\n",
       "      <th>71.299888</th>\n",
       "      <th>32.757141</th>\n",
       "      <td>3.679280</td>\n",
       "    </tr>\n",
       "    <tr>\n",
       "      <th>73.087846</th>\n",
       "      <th>43.869322</th>\n",
       "      <td>2.047780</td>\n",
       "    </tr>\n",
       "    <tr>\n",
       "      <th>73.639028</th>\n",
       "      <th>34.422074</th>\n",
       "      <td>2.481648</td>\n",
       "    </tr>\n",
       "    <tr>\n",
       "      <th>73.779880</th>\n",
       "      <th>63.977441</th>\n",
       "      <td>2.183409</td>\n",
       "    </tr>\n",
       "    <tr>\n",
       "      <th>73.850784</th>\n",
       "      <th>50.462682</th>\n",
       "      <td>2.875755</td>\n",
       "    </tr>\n",
       "    <tr>\n",
       "      <th>74.221624</th>\n",
       "      <th>41.189897</th>\n",
       "      <td>4.035729</td>\n",
       "    </tr>\n",
       "    <tr>\n",
       "      <th>75.709107</th>\n",
       "      <th>9.475456</th>\n",
       "      <td>2.858489</td>\n",
       "    </tr>\n",
       "    <tr>\n",
       "      <th>76.346019</th>\n",
       "      <th>26.020526</th>\n",
       "      <td>3.491988</td>\n",
       "    </tr>\n",
       "    <tr>\n",
       "      <th>76.920449</th>\n",
       "      <th>43.951958</th>\n",
       "      <td>0.646021</td>\n",
       "    </tr>\n",
       "    <tr>\n",
       "      <th>77.923514</th>\n",
       "      <th>64.934142</th>\n",
       "      <td>2.404415</td>\n",
       "    </tr>\n",
       "    <tr>\n",
       "      <th>79.351317</th>\n",
       "      <th>64.176409</th>\n",
       "      <td>2.474732</td>\n",
       "    </tr>\n",
       "    <tr>\n",
       "      <th>80.140699</th>\n",
       "      <th>47.155606</th>\n",
       "      <td>3.539150</td>\n",
       "    </tr>\n",
       "    <tr>\n",
       "      <th>80.541147</th>\n",
       "      <th>38.348154</th>\n",
       "      <td>3.944942</td>\n",
       "    </tr>\n",
       "    <tr>\n",
       "      <th>80.819423</th>\n",
       "      <th>60.450684</th>\n",
       "      <td>4.559183</td>\n",
       "    </tr>\n",
       "    <tr>\n",
       "      <th>81.437182</th>\n",
       "      <th>39.385459</th>\n",
       "      <td>1.212386</td>\n",
       "    </tr>\n",
       "    <tr>\n",
       "      <th>82.710143</th>\n",
       "      <th>59.362533</th>\n",
       "      <td>2.535340</td>\n",
       "    </tr>\n",
       "    <tr>\n",
       "      <th>83.757561</th>\n",
       "      <th>18.108949</th>\n",
       "      <td>1.865172</td>\n",
       "    </tr>\n",
       "    <tr>\n",
       "      <th>87.292248</th>\n",
       "      <th>29.377337</th>\n",
       "      <td>2.980974</td>\n",
       "    </tr>\n",
       "    <tr>\n",
       "      <th>89.134739</th>\n",
       "      <th>28.595067</th>\n",
       "      <td>1.188933</td>\n",
       "    </tr>\n",
       "    <tr>\n",
       "      <th>89.545750</th>\n",
       "      <th>49.274611</th>\n",
       "      <td>2.828258</td>\n",
       "    </tr>\n",
       "    <tr>\n",
       "      <th>89.690278</th>\n",
       "      <th>68.120394</th>\n",
       "      <td>1.166895</td>\n",
       "    </tr>\n",
       "    <tr>\n",
       "      <th>92.436491</th>\n",
       "      <th>18.820133</th>\n",
       "      <td>2.023170</td>\n",
       "    </tr>\n",
       "    <tr>\n",
       "      <th>92.736332</th>\n",
       "      <th>18.710864</th>\n",
       "      <td>3.756774</td>\n",
       "    </tr>\n",
       "    <tr>\n",
       "      <th>92.895071</th>\n",
       "      <th>19.068626</th>\n",
       "      <td>3.160608</td>\n",
       "    </tr>\n",
       "    <tr>\n",
       "      <th>94.905259</th>\n",
       "      <th>10.777191</th>\n",
       "      <td>1.084555</td>\n",
       "    </tr>\n",
       "    <tr>\n",
       "      <th>96.251090</th>\n",
       "      <th>27.181162</th>\n",
       "      <td>4.927256</td>\n",
       "    </tr>\n",
       "    <tr>\n",
       "      <th>99.967340</th>\n",
       "      <th>5.299206</th>\n",
       "      <td>2.597594</td>\n",
       "    </tr>\n",
       "    <tr>\n",
       "      <th>101.158362</th>\n",
       "      <th>14.721415</th>\n",
       "      <td>3.797284</td>\n",
       "    </tr>\n",
       "    <tr>\n",
       "      <th>101.650526</th>\n",
       "      <th>27.538217</th>\n",
       "      <td>2.765419</td>\n",
       "    </tr>\n",
       "    <tr>\n",
       "      <th>104.169970</th>\n",
       "      <th>26.863508</th>\n",
       "      <td>4.223714</td>\n",
       "    </tr>\n",
       "    <tr>\n",
       "      <th>104.185547</th>\n",
       "      <th>31.080650</th>\n",
       "      <td>2.809274</td>\n",
       "    </tr>\n",
       "    <tr>\n",
       "      <th>108.220444</th>\n",
       "      <th>46.205843</th>\n",
       "      <td>4.067843</td>\n",
       "    </tr>\n",
       "    <tr>\n",
       "      <th>109.271897</th>\n",
       "      <th>4.591243</th>\n",
       "      <td>5.660371</td>\n",
       "    </tr>\n",
       "    <tr>\n",
       "      <th>109.765006</th>\n",
       "      <th>6.711923</th>\n",
       "      <td>3.619662</td>\n",
       "    </tr>\n",
       "  </tbody>\n",
       "</table>\n",
       "</div>"
      ],
      "text/plain": [
       "                                  Congruent RT\n",
       "Apple Preference Crab Preference              \n",
       "18.162952        51.434446            3.760541\n",
       "22.795899        26.059273            1.823644\n",
       "28.883287        5.062850             4.117101\n",
       "33.459719        38.865948            1.238513\n",
       "37.050669        57.168507            3.312076\n",
       "37.436093        2.273614             2.560032\n",
       "37.865129        55.643836            4.668477\n",
       "56.740725        7.225427             0.795192\n",
       "56.782860        6.831342             4.357143\n",
       "60.106664        58.192946            3.690811\n",
       "61.050178        18.531153            3.203608\n",
       "63.167321        28.970266            2.336391\n",
       "66.352416        87.533020            2.871721\n",
       "66.381932        3.365773             4.924657\n",
       "66.639215        66.639579            2.665568\n",
       "67.700045        36.396664            2.596194\n",
       "71.299888        32.757141            3.679280\n",
       "73.087846        43.869322            2.047780\n",
       "73.639028        34.422074            2.481648\n",
       "73.779880        63.977441            2.183409\n",
       "73.850784        50.462682            2.875755\n",
       "74.221624        41.189897            4.035729\n",
       "75.709107        9.475456             2.858489\n",
       "76.346019        26.020526            3.491988\n",
       "76.920449        43.951958            0.646021\n",
       "77.923514        64.934142            2.404415\n",
       "79.351317        64.176409            2.474732\n",
       "80.140699        47.155606            3.539150\n",
       "80.541147        38.348154            3.944942\n",
       "80.819423        60.450684            4.559183\n",
       "81.437182        39.385459            1.212386\n",
       "82.710143        59.362533            2.535340\n",
       "83.757561        18.108949            1.865172\n",
       "87.292248        29.377337            2.980974\n",
       "89.134739        28.595067            1.188933\n",
       "89.545750        49.274611            2.828258\n",
       "89.690278        68.120394            1.166895\n",
       "92.436491        18.820133            2.023170\n",
       "92.736332        18.710864            3.756774\n",
       "92.895071        19.068626            3.160608\n",
       "94.905259        10.777191            1.084555\n",
       "96.251090        27.181162            4.927256\n",
       "99.967340        5.299206             2.597594\n",
       "101.158362       14.721415            3.797284\n",
       "101.650526       27.538217            2.765419\n",
       "104.169970       26.863508            4.223714\n",
       "104.185547       31.080650            2.809274\n",
       "108.220444       46.205843            4.067843\n",
       "109.271897       4.591243             5.660371\n",
       "109.765006       6.711923             3.619662"
      ]
     },
     "execution_count": 59,
     "metadata": {},
     "output_type": "execute_result"
    }
   ],
   "source": [
    "import numpy as np\n",
    "pd.pivot_table(df, index=[\"Apple Preference\", \"Crab Preference\"], values=\"Congruent RT\")"
   ]
  },
  {
   "cell_type": "markdown",
   "metadata": {},
   "source": [
    "# Matplotlib and Seaborn\n",
    "\n",
    "To plot our data we are going to use two Python packages: Matplotlib and Seaborn.\n",
    "Matplotlib was originally a clone of plotting in matlab.  Seaborn uses matplotlib to make nicer looking plots more easily.  Matplotlib is more customizable but harder to use."
   ]
  },
  {
   "cell_type": "markdown",
   "metadata": {},
   "source": [
    "## MatPlotLib"
   ]
  },
  {
   "cell_type": "code",
   "execution_count": 8,
   "metadata": {},
   "outputs": [],
   "source": [
    "import matplotlib.pyplot as plt\n",
    "%matplotlib inline"
   ]
  },
  {
   "cell_type": "markdown",
   "metadata": {},
   "source": [
    "Let's look at the distribution of our data using a histogram.\n",
    "A histogram plots the frequency of each data bin, meaning how often each data value occurs in the set of data."
   ]
  },
  {
   "cell_type": "code",
   "execution_count": 9,
   "metadata": {},
   "outputs": [
    {
     "data": {
      "text/plain": [
       "(array([2., 3., 5., 2., 6., 7., 5., 7., 6., 7.]),\n",
       " array([0.61072798, 1.12899455, 1.64726112, 2.1655277 , 2.68379427,\n",
       "        3.20206084, 3.72032741, 4.23859398, 4.75686055, 5.27512713,\n",
       "        5.7933937 ]),\n",
       " <a list of 10 Patch objects>)"
      ]
     },
     "execution_count": 9,
     "metadata": {},
     "output_type": "execute_result"
    },
    {
     "data": {
      "image/png": "[encoded data removed]",
      "text/plain": [
       "<Figure size 432x288 with 1 Axes>"
      ]
     },
     "metadata": {
      "needs_background": "light"
     },
     "output_type": "display_data"
    }
   ],
   "source": [
    "plt.hist(df['Incongruent RT']) "
   ]
  },
  {
   "cell_type": "markdown",
   "metadata": {},
   "source": [
    "Cool beans.  We made a graph"
   ]
  },
  {
   "cell_type": "markdown",
   "metadata": {},
   "source": [
    "### Labelling the x-axis"
   ]
  },
  {
   "cell_type": "code",
   "execution_count": 10,
   "metadata": {},
   "outputs": [
    {
     "data": {
      "text/plain": [
       "Text(0.5, 0, 'Reaction Times in Incongruent Condition ')"
      ]
     },
     "execution_count": 10,
     "metadata": {},
     "output_type": "execute_result"
    },
    {
     "data": {
      "image/png": "[encoded data removed]",
      "text/plain": [
       "<Figure size 432x288 with 1 Axes>"
      ]
     },
     "metadata": {
      "needs_background": "light"
     },
     "output_type": "display_data"
    }
   ],
   "source": [
    "plt.hist(df['Incongruent RT'])\n",
    "plt.xlabel('Reaction Times in Incongruent Condition ')"
   ]
  },
  {
   "cell_type": "markdown",
   "metadata": {},
   "source": [
    "### Labeling the y-axis"
   ]
  },
  {
   "cell_type": "code",
   "execution_count": 11,
   "metadata": {},
   "outputs": [
    {
     "data": {
      "text/plain": [
       "Text(0, 0.5, 'Frequency')"
      ]
     },
     "execution_count": 11,
     "metadata": {},
     "output_type": "execute_result"
    },
    {
     "data": {
      "image/png": "[encoded data removed]",
      "text/plain": [
       "<Figure size 432x288 with 1 Axes>"
      ]
     },
     "metadata": {
      "needs_background": "light"
     },
     "output_type": "display_data"
    }
   ],
   "source": [
    "plt.hist(df['Incongruent RT'])\n",
    "plt.xlabel('Reaction Times in Incongruent Condition ')\n",
    "plt.ylabel('Frequency')"
   ]
  },
  {
   "cell_type": "markdown",
   "metadata": {},
   "source": [
    "What if we want to write something on the plot, like the mean and standard deviation?"
   ]
  },
  {
   "cell_type": "markdown",
   "metadata": {},
   "source": [
    "First we caculate the values"
   ]
  },
  {
   "cell_type": "code",
   "execution_count": 12,
   "metadata": {},
   "outputs": [],
   "source": [
    "mean = df['Incongruent RT'].mean()\n",
    "stdev = df['Incongruent RT'].std()"
   ]
  },
  {
   "cell_type": "markdown",
   "metadata": {},
   "source": [
    "The plt.text function first takes the coordinates of where the text should be placed, and then takes the text to display.\n",
    "\n",
    "- The coordinates are easy, they follow your axes\n",
    "- To display special symbols like greek letters in matplotlib\n",
    "    - surround the statement with dollar signs `$` and back slashes `\\\\`\n",
    "    - We're technically using LaTeX here\n",
    "    - you can google LaTeX in Jupyter Notebooks for more examples and help\n",
    "- I'm also using string formatting here where `%s` inside quotes tells Python I'm using a string\n",
    "    - Then outside the quotes, you put a `%`, and a tuple containing your variables."
   ]
  },
  {
   "cell_type": "code",
   "execution_count": 14,
   "metadata": {},
   "outputs": [
    {
     "data": {
      "text/plain": [
       "Text(2, 8, '$\\\\mu=3.6654021567978727, \\\\sigma=1.3940926435565593$')"
      ]
     },
     "execution_count": 14,
     "metadata": {},
     "output_type": "execute_result"
    },
    {
     "data": {
      "image/png": "[encoded data removed]",
      "text/plain": [
       "<Figure size 432x288 with 1 Axes>"
      ]
     },
     "metadata": {
      "needs_background": "light"
     },
     "output_type": "display_data"
    }
   ],
   "source": [
    "plt.hist(df['Incongruent RT'])\n",
    "plt.xlabel('Reaction Times in Incongruent Condition ')\n",
    "plt.ylabel('Frequency')\n",
    "plt.text(2, 8, r'$\\mu=%s, \\sigma=%s$'% (mean,stdev))"
   ]
  },
  {
   "cell_type": "markdown",
   "metadata": {},
   "source": [
    "As you can see, it's sloppy.  There are too many decimal places to look nice.  Let's round our numbers and display again.  \n",
    "\n",
    "<div class=\"alert alert-success\" role=\"alert\">\n",
    "In science it's best not to round the actual variables, but to round the display of the variables.  This ensures that when you are doing calculations, you are not accumulating errors and you always are using the most accurate data.\n",
    "</div>"
   ]
  },
  {
   "cell_type": "code",
   "execution_count": 15,
   "metadata": {},
   "outputs": [
    {
     "data": {
      "text/plain": [
       "Text(2, 8, '$\\\\mu=3.665, \\\\sigma=1.394$')"
      ]
     },
     "execution_count": 15,
     "metadata": {},
     "output_type": "execute_result"
    },
    {
     "data": {
      "image/png": "[encoded data removed]",
      "text/plain": [
       "<Figure size 432x288 with 1 Axes>"
      ]
     },
     "metadata": {
      "needs_background": "light"
     },
     "output_type": "display_data"
    }
   ],
   "source": [
    "plt.hist(df['Incongruent RT'])\n",
    "plt.xlabel('Reaction Times in Incongruent Condition ')\n",
    "plt.ylabel('Frequency')\n",
    "plt.text(2, 8, r'$\\mu=%s, \\sigma=%s$'% (round(mean, 3),round(stdev, 3)))"
   ]
  },
  {
   "cell_type": "markdown",
   "metadata": {},
   "source": [
    "### Grids"
   ]
  },
  {
   "cell_type": "code",
   "execution_count": 16,
   "metadata": {},
   "outputs": [
    {
     "data": {
      "image/png": "[encoded data removed]",
      "text/plain": [
       "<Figure size 432x288 with 1 Axes>"
      ]
     },
     "metadata": {
      "needs_background": "light"
     },
     "output_type": "display_data"
    }
   ],
   "source": [
    "plt.hist(df['Incongruent RT'])\n",
    "plt.xlabel('Reaction Times in Incongruent Condition ')\n",
    "plt.ylabel('Frequency')\n",
    "plt.text(2, 8, r'$\\mu=%s, \\sigma=%s$'% (round(mean, 3),round(stdev, 3)))\n",
    "plt.grid(True)"
   ]
  },
  {
   "cell_type": "markdown",
   "metadata": {},
   "source": [
    "### Changing the axis limits"
   ]
  },
  {
   "cell_type": "code",
   "execution_count": 17,
   "metadata": {},
   "outputs": [
    {
     "data": {
      "text/plain": [
       "(0, 20)"
      ]
     },
     "execution_count": 17,
     "metadata": {},
     "output_type": "execute_result"
    },
    {
     "data": {
      "image/png": "[encoded data removed]",
      "text/plain": [
       "<Figure size 432x288 with 1 Axes>"
      ]
     },
     "metadata": {
      "needs_background": "light"
     },
     "output_type": "display_data"
    }
   ],
   "source": [
    "plt.hist(df['Incongruent RT'])\n",
    "plt.xlabel('Reaction Times in Incongruent Condition ')\n",
    "plt.ylabel('Frequency')\n",
    "plt.text(2, 8, r'$\\mu=%s, \\sigma=%s$'% (round(mean, 3),round(stdev, 3)))\n",
    "plt.grid(True)\n",
    "plt.xlim(0, 6)\n",
    "plt.ylim(0, 20)"
   ]
  },
  {
   "cell_type": "markdown",
   "metadata": {},
   "source": [
    "### Plot title"
   ]
  },
  {
   "cell_type": "code",
   "execution_count": 18,
   "metadata": {},
   "outputs": [
    {
     "data": {
      "text/plain": [
       "Text(0.5, 1.0, 'Histogram of Reaction Times')"
      ]
     },
     "execution_count": 18,
     "metadata": {},
     "output_type": "execute_result"
    },
    {
     "data": {
      "image/png": "[encoded data removed]",
      "text/plain": [
       "<Figure size 432x288 with 1 Axes>"
      ]
     },
     "metadata": {
      "needs_background": "light"
     },
     "output_type": "display_data"
    }
   ],
   "source": [
    "plt.hist(df['Incongruent RT'])\n",
    "plt.xlabel('Reaction Times in Incongruent Condition ')\n",
    "plt.ylabel('Frequency')\n",
    "plt.text(2, 8, r'$\\mu=%s, \\sigma=%s$'% (round(mean, 3),round(stdev, 3)))\n",
    "plt.title('Histogram of Reaction Times')"
   ]
  },
  {
   "cell_type": "markdown",
   "metadata": {},
   "source": [
    "### Plotting two varaibles on the same histogram"
   ]
  },
  {
   "cell_type": "code",
   "execution_count": 19,
   "metadata": {},
   "outputs": [
    {
     "data": {
      "text/plain": [
       "(array([3., 4., 4., 9., 8., 6., 9., 3., 3., 1.]),\n",
       " array([0.64602051, 1.14745561, 1.6488907 , 2.1503258 , 2.65176089,\n",
       "        3.15319599, 3.65463108, 4.15606618, 4.65750127, 5.15893637,\n",
       "        5.66037146]),\n",
       " <a list of 10 Patch objects>)"
      ]
     },
     "execution_count": 19,
     "metadata": {},
     "output_type": "execute_result"
    },
    {
     "data": {
      "image/png": "[encoded data removed]",
      "text/plain": [
       "<Figure size 432x288 with 1 Axes>"
      ]
     },
     "metadata": {
      "needs_background": "light"
     },
     "output_type": "display_data"
    }
   ],
   "source": [
    "plt.hist(df['Incongruent RT'])\n",
    "plt.hist(df['Congruent RT'])"
   ]
  },
  {
   "cell_type": "code",
   "execution_count": 20,
   "metadata": {},
   "outputs": [
    {
     "data": {
      "text/plain": [
       "Text(0.5, 1.0, 'Histogram of Reaction Times')"
      ]
     },
     "execution_count": 20,
     "metadata": {},
     "output_type": "execute_result"
    },
    {
     "data": {
      "image/png": "[encoded data removed]",
      "text/plain": [
       "<Figure size 432x288 with 1 Axes>"
      ]
     },
     "metadata": {
      "needs_background": "light"
     },
     "output_type": "display_data"
    }
   ],
   "source": [
    "plt.hist(df['Incongruent RT'])\n",
    "plt.hist(df['Congruent RT'])\n",
    "plt.xlabel('Reaction Times')\n",
    "plt.ylabel('Frequency')\n",
    "plt.title('Histogram of Reaction Times')"
   ]
  },
  {
   "cell_type": "markdown",
   "metadata": {},
   "source": [
    "### The Legend of the Plot"
   ]
  },
  {
   "cell_type": "markdown",
   "metadata": {},
   "source": [
    "First specify the labels for your legend in a list"
   ]
  },
  {
   "cell_type": "code",
   "execution_count": 21,
   "metadata": {},
   "outputs": [],
   "source": [
    "labels = ['Incongruent', 'Congruent']"
   ]
  },
  {
   "cell_type": "markdown",
   "metadata": {},
   "source": [
    "Then apply the legend method"
   ]
  },
  {
   "cell_type": "code",
   "execution_count": 22,
   "metadata": {},
   "outputs": [
    {
     "data": {
      "text/plain": [
       "<matplotlib.legend.Legend at 0x7fc290d20b00>"
      ]
     },
     "execution_count": 22,
     "metadata": {},
     "output_type": "execute_result"
    },
    {
     "data": {
      "image/png": "[encoded data removed]",
      "text/plain": [
       "<Figure size 432x288 with 1 Axes>"
      ]
     },
     "metadata": {
      "needs_background": "light"
     },
     "output_type": "display_data"
    }
   ],
   "source": [
    "plt.hist(df['Incongruent RT'])\n",
    "plt.hist(df['Congruent RT'])\n",
    "plt.xlabel('Reaction Times')\n",
    "plt.ylabel('Frequency')\n",
    "plt.title('Histogram of Reaction Times')\n",
    "plt.legend(labels)"
   ]
  },
  {
   "cell_type": "markdown",
   "metadata": {},
   "source": [
    "Our congruent data is blocking our view of our incongruent data.  To fix that we can make the plot more transparant by increasing the alpha value, which loosly translates as transparancy."
   ]
  },
  {
   "cell_type": "code",
   "execution_count": 23,
   "metadata": {},
   "outputs": [
    {
     "data": {
      "text/plain": [
       "<matplotlib.legend.Legend at 0x7fc290cbaf98>"
      ]
     },
     "execution_count": 23,
     "metadata": {},
     "output_type": "execute_result"
    },
    {
     "data": {
      "image/png": "[encoded data removed]",
      "text/plain": [
       "<Figure size 432x288 with 1 Axes>"
      ]
     },
     "metadata": {
      "needs_background": "light"
     },
     "output_type": "display_data"
    }
   ],
   "source": [
    "plt.hist(df['Incongruent RT'], alpha = 0.6)\n",
    "plt.hist(df['Congruent RT'], alpha = 0.6)\n",
    "plt.xlabel('Reaction Times')\n",
    "plt.ylabel('Frequency')\n",
    "plt.title('Histogram of Reaction Times')\n",
    "plt.legend(labels)"
   ]
  },
  {
   "cell_type": "markdown",
   "metadata": {},
   "source": [
    "### Saving the figure"
   ]
  },
  {
   "cell_type": "markdown",
   "metadata": {
    "slideshow": {
     "slide_type": "slide"
    }
   },
   "source": [
    "#### It is best to always use raw, uncompressed images\n",
    "\n",
    "#### Data is lost and/or altered when compressing.  You can always compress later.\n",
    "\n",
    "Compressing is when you reduce the size of a file by rather than storing all of the pixel values, we store an equation that produces something similar. The more you compress, the more you mess it up.\n",
    "\n",
    "<table><td><img src=\"img/img43.jpg\"></td><td><img src=\"img/img44.jpg\"></td><td><img src=\"img/img45.jpg\"></td></table>"
   ]
  },
  {
   "cell_type": "markdown",
   "metadata": {},
   "source": [
    "For uncompressed images use `tiff` or `png` do not use `jpg`"
   ]
  },
  {
   "cell_type": "markdown",
   "metadata": {},
   "source": [
    "#### To save our file we use the `savefig` method and specify our filename.  \n",
    "\n",
    "If you use the file extension, Python knows what format to save in automatically.\n",
    "You can get more complicated, but those are the basics"
   ]
  },
  {
   "cell_type": "code",
   "execution_count": 24,
   "metadata": {},
   "outputs": [
    {
     "data": {
      "image/png": "[encoded data removed]",
      "text/plain": [
       "<Figure size 432x288 with 1 Axes>"
      ]
     },
     "metadata": {
      "needs_background": "light"
     },
     "output_type": "display_data"
    }
   ],
   "source": [
    "plt.hist(df['Incongruent RT'], alpha = 0.6)\n",
    "plt.hist(df['Congruent RT'], alpha = 0.6)\n",
    "plt.xlabel('Reaction Times')\n",
    "plt.ylabel('Frequency')\n",
    "plt.title('Histogram of Reaction Times')\n",
    "plt.legend(labels)\n",
    "plt.savefig('reaction_times.png')"
   ]
  },
  {
   "cell_type": "markdown",
   "metadata": {},
   "source": [
    "Here we can see the saved `reaction_times.png` file\n",
    "\n",
    "<img src=\"reaction_times.png\">"
   ]
  },
  {
   "cell_type": "markdown",
   "metadata": {},
   "source": [
    "# Scatterplots\n",
    "\n",
    "Here we are going to use seaborn.  You can also make scatterplots in MatPlotLib"
   ]
  },
  {
   "cell_type": "markdown",
   "metadata": {},
   "source": [
    "First import seaborn and matplotlib"
   ]
  },
  {
   "cell_type": "code",
   "execution_count": 25,
   "metadata": {},
   "outputs": [],
   "source": [
    "import seaborn as sns\n",
    "import matplotlib.pyplot as plt"
   ]
  },
  {
   "cell_type": "markdown",
   "metadata": {},
   "source": [
    "Set aesthetic parameters"
   ]
  },
  {
   "cell_type": "code",
   "execution_count": 26,
   "metadata": {},
   "outputs": [],
   "source": [
    "sns.set()"
   ]
  },
  {
   "cell_type": "markdown",
   "metadata": {},
   "source": [
    "Create the plot.\n",
    "- We specify the x and y axis as the variable names in our Pandas DataFrame\n",
    "- We specify the dataframe by assigning it to data"
   ]
  },
  {
   "cell_type": "markdown",
   "metadata": {},
   "source": [
    "#### Do people who like apples like crabs also?"
   ]
  },
  {
   "cell_type": "code",
   "execution_count": 27,
   "metadata": {},
   "outputs": [
    {
     "data": {
      "image/png": "[encoded data removed]",
      "text/plain": [
       "<Figure size 432x288 with 1 Axes>"
      ]
     },
     "metadata": {},
     "output_type": "display_data"
    }
   ],
   "source": [
    "ax = sns.scatterplot(x=\"Apple Preference\", y=\"Crab Preference\", data=df)"
   ]
  },
  {
   "cell_type": "markdown",
   "metadata": {},
   "source": [
    "### NICE!!! It made our axes labels, and grids for us.  That's why we're using seaborn."
   ]
  },
  {
   "cell_type": "markdown",
   "metadata": {},
   "source": [
    "### We can change the colour of the dots based on whether or not their responses were correct or not\n",
    "This doesn't make sense for analysis.  I'm just showing you how to change the colours."
   ]
  },
  {
   "cell_type": "code",
   "execution_count": 28,
   "metadata": {},
   "outputs": [
    {
     "data": {
      "image/png": "[encoded data removed]",
      "text/plain": [
       "<Figure size 432x288 with 1 Axes>"
      ]
     },
     "metadata": {},
     "output_type": "display_data"
    }
   ],
   "source": [
    "ax = sns.scatterplot(x=\"Apple Preference\", y=\"Crab Preference\", hue =\"Congruent Response\", data=df)"
   ]
  },
  {
   "cell_type": "markdown",
   "metadata": {},
   "source": [
    "#### We can change the style of dots based on the data also"
   ]
  },
  {
   "cell_type": "code",
   "execution_count": 29,
   "metadata": {},
   "outputs": [
    {
     "data": {
      "image/png": "[encoded data removed]",
      "text/plain": [
       "<Figure size 432x288 with 1 Axes>"
      ]
     },
     "metadata": {},
     "output_type": "display_data"
    }
   ],
   "source": [
    "ax = sns.scatterplot(x=\"Apple Preference\", y=\"Crab Preference\", \n",
    "                     hue =\"Congruent Response\", style= \"Incongruent Response\", data=df)"
   ]
  },
  {
   "cell_type": "markdown",
   "metadata": {},
   "source": [
    "#### You can even make the dots change size based on another variable"
   ]
  },
  {
   "cell_type": "code",
   "execution_count": 30,
   "metadata": {},
   "outputs": [
    {
     "data": {
      "image/png": "[encoded data removed]",
      "text/plain": [
       "<Figure size 432x288 with 1 Axes>"
      ]
     },
     "metadata": {},
     "output_type": "display_data"
    }
   ],
   "source": [
    "ax = sns.scatterplot(x=\"Apple Preference\", y=\"Crab Preference\", \n",
    "                     hue =\"Congruent Response\", style= \"Incongruent Response\",\n",
    "                     size = \"Congruent RT\",\n",
    "                     data=df)"
   ]
  },
  {
   "cell_type": "markdown",
   "metadata": {},
   "source": [
    "Notice the difference here between Seaborn ant MatPlotLib\n",
    "We still only have 1 line of code in Seaborn, whereas in MatPlotLib, we had to keep adding more and more code.  The legend is produced automatically also."
   ]
  },
  {
   "cell_type": "markdown",
   "metadata": {},
   "source": [
    "#### You can use pre-determined colour palates like this one specially designed to aid people who are colour blind."
   ]
  },
  {
   "cell_type": "code",
   "execution_count": 31,
   "metadata": {},
   "outputs": [
    {
     "data": {
      "image/png": "[encoded data removed]",
      "text/plain": [
       "<Figure size 432x288 with 1 Axes>"
      ]
     },
     "metadata": {},
     "output_type": "display_data"
    }
   ],
   "source": [
    "cmap = sns.color_palette('colorblind')\n",
    "ax = sns.scatterplot(x=\"Apple Preference\", y=\"Crab Preference\", \n",
    "                     style= \"Incongruent Response\",\n",
    "                     size = \"Congruent RT\",  palette=cmap,\n",
    "                     data=df)"
   ]
  },
  {
   "cell_type": "code",
   "execution_count": 32,
   "metadata": {},
   "outputs": [
    {
     "data": {
      "text/plain": [
       "Text(0.5, 1.0, 'Crab Apples')"
      ]
     },
     "execution_count": 32,
     "metadata": {},
     "output_type": "execute_result"
    },
    {
     "data": {
      "image/png": "[encoded data removed]",
      "text/plain": [
       "<Figure size 432x288 with 1 Axes>"
      ]
     },
     "metadata": {},
     "output_type": "display_data"
    }
   ],
   "source": [
    "cmap = sns.color_palette('colorblind')\n",
    "ax = sns.scatterplot(x=\"Apple Preference\", y=\"Crab Preference\", \n",
    "                     style= \"Incongruent Response\",\n",
    "                     size = \"Congruent RT\",  palette=cmap,\n",
    "                     data=df)\n",
    "ax.set_title(\"Crab Apples\")"
   ]
  },
  {
   "cell_type": "markdown",
   "metadata": {},
   "source": [
    "Saving figures is the same in seaborn and matplotlib"
   ]
  },
  {
   "cell_type": "code",
   "execution_count": 33,
   "metadata": {},
   "outputs": [
    {
     "data": {
      "image/png": "[encoded data removed]",
      "text/plain": [
       "<Figure size 432x288 with 1 Axes>"
      ]
     },
     "metadata": {},
     "output_type": "display_data"
    }
   ],
   "source": [
    "cmap = sns.color_palette('colorblind')\n",
    "ax = sns.scatterplot(x=\"Apple Preference\", y=\"Crab Preference\", \n",
    "                     style= \"Incongruent Response\",\n",
    "                     size = \"Congruent RT\",  palette=cmap,\n",
    "                     data=df)\n",
    "ax.set_title(\"Crab Apples\")\n",
    "ax.figure.savefig(\"seaborn_plot.png\")"
   ]
  },
  {
   "cell_type": "markdown",
   "metadata": {},
   "source": [
    "# Bar Graphs\n",
    "\n",
    "### In Excel, to make bar graphs, you have to calculate all of the means and standard errors by yourself and specify them. \n",
    "\n",
    "###  In Seaborn, it's easier, it does that math for you."
   ]
  },
  {
   "cell_type": "markdown",
   "metadata": {},
   "source": [
    "First, we're going to have to `melt` our variables."
   ]
  },
  {
   "cell_type": "code",
   "execution_count": 35,
   "metadata": {},
   "outputs": [
    {
     "data": {
      "text/html": [
       "<div>\n",
       "<style scoped>\n",
       "    .dataframe tbody tr th:only-of-type {\n",
       "        vertical-align: middle;\n",
       "    }\n",
       "\n",
       "    .dataframe tbody tr th {\n",
       "        vertical-align: top;\n",
       "    }\n",
       "\n",
       "    .dataframe thead th {\n",
       "        text-align: right;\n",
       "    }\n",
       "</style>\n",
       "<table border=\"1\" class=\"dataframe\">\n",
       "  <thead>\n",
       "    <tr style=\"text-align: right;\">\n",
       "      <th></th>\n",
       "      <th>Condition</th>\n",
       "      <th>RT</th>\n",
       "      <th>Response Condition</th>\n",
       "      <th>Response</th>\n",
       "    </tr>\n",
       "  </thead>\n",
       "  <tbody>\n",
       "    <tr>\n",
       "      <th>0</th>\n",
       "      <td>Incongruent RT</td>\n",
       "      <td>4.609095</td>\n",
       "      <td>Incongruent Response</td>\n",
       "      <td>incorrect</td>\n",
       "    </tr>\n",
       "    <tr>\n",
       "      <th>1</th>\n",
       "      <td>Incongruent RT</td>\n",
       "      <td>4.504086</td>\n",
       "      <td>Incongruent Response</td>\n",
       "      <td>incorrect</td>\n",
       "    </tr>\n",
       "    <tr>\n",
       "      <th>2</th>\n",
       "      <td>Incongruent RT</td>\n",
       "      <td>2.109383</td>\n",
       "      <td>Incongruent Response</td>\n",
       "      <td>incorrect</td>\n",
       "    </tr>\n",
       "    <tr>\n",
       "      <th>3</th>\n",
       "      <td>Incongruent RT</td>\n",
       "      <td>2.719660</td>\n",
       "      <td>Incongruent Response</td>\n",
       "      <td>incorrect</td>\n",
       "    </tr>\n",
       "    <tr>\n",
       "      <th>4</th>\n",
       "      <td>Incongruent RT</td>\n",
       "      <td>2.795648</td>\n",
       "      <td>Incongruent Response</td>\n",
       "      <td>correct</td>\n",
       "    </tr>\n",
       "  </tbody>\n",
       "</table>\n",
       "</div>"
      ],
      "text/plain": [
       "        Condition        RT    Response Condition   Response\n",
       "0  Incongruent RT  4.609095  Incongruent Response  incorrect\n",
       "1  Incongruent RT  4.504086  Incongruent Response  incorrect\n",
       "2  Incongruent RT  2.109383  Incongruent Response  incorrect\n",
       "3  Incongruent RT  2.719660  Incongruent Response  incorrect\n",
       "4  Incongruent RT  2.795648  Incongruent Response    correct"
      ]
     },
     "execution_count": 35,
     "metadata": {},
     "output_type": "execute_result"
    }
   ],
   "source": [
    "melted_df=df.melt(id_vars=['Incongruent Response', 'Congruent Response'],\n",
    "                  value_vars=['Incongruent RT', 'Congruent RT'],\n",
    "                  var_name = 'Condition', value_name = 'RT') \n",
    "\n",
    "\n",
    "melted_df=melted_df.melt(id_vars=['Condition', 'RT'],\n",
    "                  value_vars=['Incongruent Response', 'Congruent Response'],\n",
    "                  var_name = 'Response Condition', value_name = 'Response') \n",
    "\n",
    "\n",
    "melted_df.head()"
   ]
  },
  {
   "cell_type": "code",
   "execution_count": 36,
   "metadata": {},
   "outputs": [],
   "source": [
    "import seaborn as sns\n",
    "import matplotlib.pyplot as plt\n",
    "sns.set()"
   ]
  },
  {
   "cell_type": "markdown",
   "metadata": {},
   "source": [
    "### Basic Bar Plot"
   ]
  },
  {
   "cell_type": "code",
   "execution_count": 38,
   "metadata": {},
   "outputs": [
    {
     "data": {
      "image/png": "[encoded data removed]",
      "text/plain": [
       "<Figure size 432x288 with 1 Axes>"
      ]
     },
     "metadata": {},
     "output_type": "display_data"
    }
   ],
   "source": [
    "ax = sns.barplot(x=\"Condition\", y=\"RT\", data=melted_df)"
   ]
  },
  {
   "cell_type": "markdown",
   "metadata": {},
   "source": [
    "### Here we split the data up based on the responses"
   ]
  },
  {
   "cell_type": "code",
   "execution_count": 39,
   "metadata": {},
   "outputs": [
    {
     "data": {
      "image/png": "[encoded data removed]",
      "text/plain": [
       "<Figure size 432x288 with 1 Axes>"
      ]
     },
     "metadata": {},
     "output_type": "display_data"
    }
   ],
   "source": [
    "ax = sns.barplot(x=\"Condition\", y=\"RT\", hue=\"Response\", data=melted_df)"
   ]
  },
  {
   "cell_type": "markdown",
   "metadata": {},
   "source": [
    "### Adding caps to the error bars"
   ]
  },
  {
   "cell_type": "code",
   "execution_count": 40,
   "metadata": {},
   "outputs": [
    {
     "data": {
      "image/png": "[encoded data removed]",
      "text/plain": [
       "<Figure size 432x288 with 1 Axes>"
      ]
     },
     "metadata": {},
     "output_type": "display_data"
    }
   ],
   "source": [
    "ax = sns.barplot(x=\"Condition\", y=\"RT\", hue=\"Response\", capsize=.2, data=melted_df)"
   ]
  },
  {
   "cell_type": "markdown",
   "metadata": {},
   "source": [
    "### We can use colour palates here too"
   ]
  },
  {
   "cell_type": "code",
   "execution_count": 41,
   "metadata": {},
   "outputs": [
    {
     "data": {
      "image/png": "[encoded data removed]",
      "text/plain": [
       "<Figure size 432x288 with 1 Axes>"
      ]
     },
     "metadata": {},
     "output_type": "display_data"
    }
   ],
   "source": [
    " ax = sns.barplot(x=\"Condition\", y=\"RT\", hue=\"Response\", capsize=.2, palette=\"Blues_d\", data=melted_df)"
   ]
  }
 ],
 "metadata": {
  "kernelspec": {
   "display_name": "Python 3",
   "language": "python",
   "name": "python3"
  },
  "language_info": {
   "codemirror_mode": {
    "name": "ipython",
    "version": 3
   },
   "file_extension": ".py",
   "mimetype": "text/x-python",
   "name": "python",
   "nbconvert_exporter": "python",
   "pygments_lexer": "ipython3",
   "version": "3.7.3"
  },
  "toc": {
   "base_numbering": 1,
   "nav_menu": {},
   "number_sections": false,
   "sideBar": false,
   "skip_h1_title": false,
   "title_cell": "Table of Contents",
   "title_sidebar": "Contents",
   "toc_cell": false,
   "toc_position": {},
   "toc_section_display": false,
   "toc_window_display": false
  }
 },
 "nbformat": 4,
 "nbformat_minor": 2
}
