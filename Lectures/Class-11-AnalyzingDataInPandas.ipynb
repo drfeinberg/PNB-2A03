{
 "cells": [
  {
   "cell_type": "markdown",
   "metadata": {},
   "source": [
    "# Analyzing Data in Pandas"
   ]
  },
  {
   "cell_type": "markdown",
   "metadata": {},
   "source": [
    "# Simulate the data set again"
   ]
  },
  {
   "cell_type": "code",
   "execution_count": null,
   "metadata": {
    "scrolled": true
   },
   "outputs": [],
   "source": [
    "import random\n",
    "import numpy as np\n",
    "import pandas as pd\n",
    "\n",
    "# Simulate Responses\n",
    "congruent_responses = np.random.choice([\"incorrect\", \"correct\"], size=(50,), p=[3./4, 1./4])\n",
    "incongruent_responses = np.random.choice([\"incorrect\", \"correct\"], size=(50,), p=[1./4, 3./4])\n",
    "\n",
    "# Simulate Reaction Times\n",
    "a = 0.5 # lowest possible reaction time\n",
    "b = 6 # highest possible reaction time\n",
    "reaction_time_incongruent = []\n",
    "reaction_time_congruent = []\n",
    "for i in range(50):\n",
    "    x = 4 # mode of reaction time\n",
    "    reaction_time_incongruent.append(random.triangular(a, b, 3*x - a - b))\n",
    "    x = 3 # mode of reaction time\n",
    "    reaction_time_congruent.append(random.triangular(a, b, 3*x - a - b))\n",
    "\n",
    "# Compile Data\n",
    "data_tuples = list(zip(congruent_responses, incongruent_responses, reaction_time_incongruent, reaction_time_congruent))\n",
    "df = pd.DataFrame(data_tuples, columns=[\"Incongruent Response\", \"Congruent Response\", \"Incongruent RT\", \"Congruent RT\"]) # columns can be defined here too\n",
    "df.head()"
   ]
  },
  {
   "cell_type": "markdown",
   "metadata": {},
   "source": [
    "## Let's simulate a couple more variables here to help us learn data analysis in Python"
   ]
  },
  {
   "cell_type": "code",
   "execution_count": null,
   "metadata": {},
   "outputs": [],
   "source": [
    "preference_for_apples = []\n",
    "preference_for_crabs = []\n",
    "a=1\n",
    "b=100\n",
    "for i in range(50):\n",
    "    x = 75\n",
    "    preference_for_apples.append(random.triangular(a, b, 3*x - a - b))\n",
    "    x = 35\n",
    "    preference_for_crabs.append(random.triangular(a, b, 3*x - a - b))\n",
    "\n",
    "data_tuples = list(zip(preference_for_apples, preference_for_crabs))\n",
    "df2 = pd.DataFrame(data_tuples, columns=[\"Apple Preference\", \"Crab Preference\"]) # columns can be defined here too\n",
    "df2.head()"
   ]
  },
  {
   "cell_type": "markdown",
   "metadata": {},
   "source": [
    "### Concatenate the dataframes"
   ]
  },
  {
   "cell_type": "code",
   "execution_count": null,
   "metadata": {},
   "outputs": [],
   "source": [
    "df = pd.concat([df,df2], axis=1, sort=False)\n",
    "df.head()"
   ]
  },
  {
   "cell_type": "markdown",
   "metadata": {},
   "source": [
    "## Calculate the mean reaction times using the `mean()` method."
   ]
  },
  {
   "cell_type": "code",
   "execution_count": null,
   "metadata": {},
   "outputs": [],
   "source": [
    "print(df['Incongruent RT'].mean())\n",
    "print(df['Congruent RT'].mean())"
   ]
  },
  {
   "cell_type": "markdown",
   "metadata": {},
   "source": [
    "## Calculate the median reaction times using the `median()` method."
   ]
  },
  {
   "cell_type": "code",
   "execution_count": null,
   "metadata": {},
   "outputs": [],
   "source": [
    "print(df['Incongruent RT'].median())\n",
    "print(df['Congruent RT'].median())"
   ]
  },
  {
   "cell_type": "markdown",
   "metadata": {},
   "source": [
    "## Calculate the mode of responses times using the `mode()` method.\n",
    "Here we're calculating the mode of responses instead of reaction times because `mode()` calculates the most often occuring value.  Our reaction times are all unique values, so the mode function just returns the original data.  If we want to see the mode method in action, we can use it on the responses, and see what the most often occuring responses are in each category."
   ]
  },
  {
   "cell_type": "code",
   "execution_count": null,
   "metadata": {},
   "outputs": [],
   "source": [
    "print(df['Incongruent Response'].mode())\n",
    "print(df['Congruent Response'].mode())"
   ]
  },
  {
   "cell_type": "markdown",
   "metadata": {},
   "source": [
    "## Calculate the standard deviation of the reaction times using the `stdev()` method."
   ]
  },
  {
   "cell_type": "code",
   "execution_count": null,
   "metadata": {},
   "outputs": [],
   "source": [
    "print(df['Incongruent RT'].std())\n",
    "print(df['Congruent RT'].std())"
   ]
  },
  {
   "cell_type": "markdown",
   "metadata": {},
   "source": [
    "<h2>Functions &amp; Description</h2>\n",
    "<p>Let us now understand the functions under Descriptive Statistics in Python Pandas. The following table list down the important functions &minus;</p>\n",
    "<table class=\"table table-bordered\">\n",
    "<tr>\n",
    "<th style=\"text-align:center;\">Sr.No.</th>\n",
    "<th style=\"text-align:center;\">Function</th>\n",
    "<th style=\"text-align:center;\">Description</th>\n",
    "</tr>\n",
    "<tr>\n",
    "<td style=\"text-align:center;\">1</td>\n",
    "<td style=\"text-align:center;\">count()</td>\n",
    "<td>Number of non-null observations</td>\n",
    "</tr>\n",
    "<tr>\n",
    "<td style=\"text-align:center;\">2</td>\n",
    "<td style=\"text-align:center;\">sum()</td>\n",
    "<td>Sum of values</td>\n",
    "</tr>\n",
    "<tr>\n",
    "<td style=\"text-align:center;\">3</td>\n",
    "<td style=\"text-align:center;\">mean()</td>\n",
    "<td>Mean of Values</td>\n",
    "</tr>\n",
    "<tr>\n",
    "<td style=\"text-align:center;\">4</td>\n",
    "<td style=\"text-align:center;\">median()</td>\n",
    "<td>Median of Values</td>\n",
    "</tr>\n",
    "<tr>\n",
    "<td style=\"text-align:center;\">5</td>\n",
    "<td style=\"text-align:center;\">mode()</td>\n",
    "<td>Mode of values</td>\n",
    "</tr>\n",
    "<tr>\n",
    "<td style=\"text-align:center;\">6</td>\n",
    "<td style=\"text-align:center;\">std()</td>\n",
    "<td>Standard Deviation of the Values</td>\n",
    "</tr>\n",
    "<tr>\n",
    "<td style=\"text-align:center;\">7</td>\n",
    "<td style=\"text-align:center;\">min()</td>\n",
    "<td>Minimum Value</td>\n",
    "</tr>\n",
    "<tr>\n",
    "<td style=\"text-align:center;\">8</td>\n",
    "<td style=\"text-align:center;\">max()</td>\n",
    "<td>Maximum Value</td>\n",
    "</tr>\n",
    "<tr>\n",
    "<td style=\"text-align:center;\">9</td>\n",
    "<td style=\"text-align:center;\">abs()</td>\n",
    "<td>Absolute Value</td>\n",
    "</tr>\n",
    "<tr>\n",
    "<td style=\"text-align:center;\">10</td>\n",
    "<td style=\"text-align:center;\">prod()</td>\n",
    "<td>Product of Values</td>\n",
    "</tr>\n",
    "<tr>\n",
    "<td style=\"text-align:center;\">11</td>\n",
    "<td style=\"text-align:center;\">cumsum()</td>\n",
    "<td>Cumulative Sum</td>\n",
    "</tr>\n",
    "<tr>\n",
    "<td style=\"text-align:center;\">12</td>\n",
    "<td style=\"text-align:center;\">cumprod()</td>\n",
    "<td>Cumulative Product</td>\n",
    "</tr>\n",
    "</table>\n",
    "\n",
    "https://www.tutorialspoint.com/python_pandas/python_pandas_descriptive_statistics.htm"
   ]
  },
  {
   "cell_type": "markdown",
   "metadata": {},
   "source": [
    "## Describe the data gives a summary of the numerical data in a given dataset"
   ]
  },
  {
   "cell_type": "code",
   "execution_count": null,
   "metadata": {},
   "outputs": [],
   "source": [
    "df.describe()"
   ]
  },
  {
   "cell_type": "markdown",
   "metadata": {},
   "source": [
    "### We can use `=object` to see info about cells that contain objects, not numbers.  This includes text, like our response variables"
   ]
  },
  {
   "cell_type": "code",
   "execution_count": null,
   "metadata": {},
   "outputs": [],
   "source": [
    "df.describe(include=['object'])"
   ]
  },
  {
   "cell_type": "markdown",
   "metadata": {},
   "source": [
    "### We can use `=all` to see all of that info at once.  `NaN` stands for  `not a number`, which is Pandas' N/A value"
   ]
  },
  {
   "cell_type": "code",
   "execution_count": null,
   "metadata": {},
   "outputs": [],
   "source": [
    "df. describe(include='all')"
   ]
  },
  {
   "cell_type": "markdown",
   "metadata": {},
   "source": [
    "# Test for normal distribution\n",
    "Let's see if our data are normally distributed.\n",
    "\n",
    "To do that, we'll use the `scipy` module. `scipy` stands for scientific python.  In the `stats` folder, there's a module called pearsonr, which calculates correlations and corresponding p-values. `scipy` is compatable with `Pandas`.  If the p-value is less than 0.05, then the distribution is not normal."
   ]
  },
  {
   "cell_type": "code",
   "execution_count": null,
   "metadata": {},
   "outputs": [],
   "source": [
    "import scipy.stats\n",
    "\n",
    "print(scipy.stats.normaltest(df['Incongruent RT']))\n",
    "print(scipy.stats.normaltest(df['Congruent RT']))"
   ]
  },
  {
   "cell_type": "markdown",
   "metadata": {},
   "source": [
    "## Correlation\n",
    "To test for a correlation in Pandas, you can use the `corr()` method to test for all correlations in a dataset.  This is called a correlation matrix.  It's not particularly useful for our analysis here, but it's something you should learn."
   ]
  },
  {
   "cell_type": "code",
   "execution_count": 62,
   "metadata": {},
   "outputs": [
    {
     "data": {
      "text/html": [
       "<div>\n",
       "<style scoped>\n",
       "    .dataframe tbody tr th:only-of-type {\n",
       "        vertical-align: middle;\n",
       "    }\n",
       "\n",
       "    .dataframe tbody tr th {\n",
       "        vertical-align: top;\n",
       "    }\n",
       "\n",
       "    .dataframe thead th {\n",
       "        text-align: right;\n",
       "    }\n",
       "</style>\n",
       "<table border=\"1\" class=\"dataframe\">\n",
       "  <thead>\n",
       "    <tr style=\"text-align: right;\">\n",
       "      <th></th>\n",
       "      <th>Incongruent RT</th>\n",
       "      <th>Congruent RT</th>\n",
       "      <th>Apple Preference</th>\n",
       "      <th>Crab Preference</th>\n",
       "    </tr>\n",
       "  </thead>\n",
       "  <tbody>\n",
       "    <tr>\n",
       "      <th>Incongruent RT</th>\n",
       "      <td>1.000000</td>\n",
       "      <td>-0.227141</td>\n",
       "      <td>-0.154159</td>\n",
       "      <td>-0.337268</td>\n",
       "    </tr>\n",
       "    <tr>\n",
       "      <th>Congruent RT</th>\n",
       "      <td>-0.227141</td>\n",
       "      <td>1.000000</td>\n",
       "      <td>0.093086</td>\n",
       "      <td>-0.042904</td>\n",
       "    </tr>\n",
       "    <tr>\n",
       "      <th>Apple Preference</th>\n",
       "      <td>-0.154159</td>\n",
       "      <td>0.093086</td>\n",
       "      <td>1.000000</td>\n",
       "      <td>-0.329471</td>\n",
       "    </tr>\n",
       "    <tr>\n",
       "      <th>Crab Preference</th>\n",
       "      <td>-0.337268</td>\n",
       "      <td>-0.042904</td>\n",
       "      <td>-0.329471</td>\n",
       "      <td>1.000000</td>\n",
       "    </tr>\n",
       "  </tbody>\n",
       "</table>\n",
       "</div>"
      ],
      "text/plain": [
       "                  Incongruent RT  Congruent RT  Apple Preference  \\\n",
       "Incongruent RT          1.000000     -0.227141         -0.154159   \n",
       "Congruent RT           -0.227141      1.000000          0.093086   \n",
       "Apple Preference       -0.154159      0.093086          1.000000   \n",
       "Crab Preference        -0.337268     -0.042904         -0.329471   \n",
       "\n",
       "                  Crab Preference  \n",
       "Incongruent RT          -0.337268  \n",
       "Congruent RT            -0.042904  \n",
       "Apple Preference        -0.329471  \n",
       "Crab Preference          1.000000  "
      ]
     },
     "execution_count": 62,
     "metadata": {},
     "output_type": "execute_result"
    }
   ],
   "source": [
    "df.corr()"
   ]
  },
  {
   "cell_type": "markdown",
   "metadata": {},
   "source": [
    "If you just want to correlate 2 variables, you can call the `corr()` method on one column, and put the other column inside the `corr` method."
   ]
  },
  {
   "cell_type": "code",
   "execution_count": 63,
   "metadata": {},
   "outputs": [
    {
     "data": {
      "text/plain": [
       "-0.22714103075635755"
      ]
     },
     "execution_count": 63,
     "metadata": {},
     "output_type": "execute_result"
    }
   ],
   "source": [
    "df['Incongruent RT'].corr(df['Congruent RT'])"
   ]
  },
  {
   "cell_type": "markdown",
   "metadata": {},
   "source": [
    "### p-values for correlations\n",
    "p-value politics aside, you should learn how to calculate them.  We can't do that in Pandas, but we can do it in `scipy.stats.pearsonr`. `scipy.stats.pearsonr` returns a tuple.  The first value is the r-value or correlation coefficient.  The second value is the p-value."
   ]
  },
  {
   "cell_type": "code",
   "execution_count": 64,
   "metadata": {},
   "outputs": [
    {
     "data": {
      "text/plain": [
       "(-0.22714103075635758, 0.11266703493324166)"
      ]
     },
     "execution_count": 64,
     "metadata": {},
     "output_type": "execute_result"
    }
   ],
   "source": [
    "import scipy.stats\n",
    "\n",
    "scipy.stats.pearsonr(df['Incongruent RT'], df['Congruent RT'])"
   ]
  },
  {
   "cell_type": "markdown",
   "metadata": {},
   "source": [
    "Those two variables are not related, and we would not be surprised to find that given our null hypothesis (i.e. that the two variables are not related)"
   ]
  },
  {
   "cell_type": "markdown",
   "metadata": {},
   "source": [
    "# Are RT's in the incongruent condition longer than the RT's in the congruent condition?"
   ]
  },
  {
   "cell_type": "markdown",
   "metadata": {},
   "source": [
    "To do that, we'll use a paired sample t-test `scipy.stats.ttest_rel`.  "
   ]
  },
  {
   "cell_type": "code",
   "execution_count": 65,
   "metadata": {},
   "outputs": [
    {
     "data": {
      "text/plain": [
       "Ttest_relResult(statistic=3.918447945115612, pvalue=0.0002763808275058839)"
      ]
     },
     "execution_count": 65,
     "metadata": {},
     "output_type": "execute_result"
    }
   ],
   "source": [
    "scipy.stats.ttest_rel(df['Incongruent RT'], df['Congruent RT'])"
   ]
  },
  {
   "cell_type": "markdown",
   "metadata": {},
   "source": [
    "The t-value of 5.6 tells us that the mean of incongruent is much higher than the mean of congruent, and the p-value of 8.153 e-07 means we would be very very suprised if we reached this result given the null hypothesis that there is no differnece in the means."
   ]
  },
  {
   "cell_type": "markdown",
   "metadata": {},
   "source": [
    "## In each condition, is the frequency of \"correct\" responses different than we would expect than if people were just guessing?\n",
    "\n",
    "x is the number of correct responses - we already calculated this last time.\n",
    "n is the sample size (50)\n",
    "p is the probability of being correct if there was no effect of the letter colour (1)"
   ]
  },
  {
   "cell_type": "markdown",
   "metadata": {},
   "source": [
    "### Congruent"
   ]
  },
  {
   "cell_type": "code",
   "execution_count": 66,
   "metadata": {},
   "outputs": [
    {
     "name": "stdout",
     "output_type": "stream",
     "text": [
      "Proportion correct congruent 0.8\n"
     ]
    },
    {
     "data": {
      "text/plain": [
       "1.0000000000000444e-100"
      ]
     },
     "execution_count": 66,
     "metadata": {},
     "output_type": "execute_result"
    }
   ],
   "source": [
    "proportion_correct_congruent = (df[df[\"Congruent Response\"] == \"correct\"].count(axis=0) / 50)[0]\n",
    "print('Proportion correct congruent', proportion_correct_congruent)\n",
    "scipy.stats.binom_test(proportion_correct_congruent, n=50, p=0.99)"
   ]
  },
  {
   "cell_type": "markdown",
   "metadata": {},
   "source": [
    "### Incongruent"
   ]
  },
  {
   "cell_type": "code",
   "execution_count": 69,
   "metadata": {},
   "outputs": [
    {
     "name": "stdout",
     "output_type": "stream",
     "text": [
      "Proportion correct incongruent 0.24\n"
     ]
    },
    {
     "data": {
      "text/plain": [
       "1.0000000000000444e-100"
      ]
     },
     "execution_count": 69,
     "metadata": {},
     "output_type": "execute_result"
    }
   ],
   "source": [
    "proportion_correct_incongruent = (df[df[\"Incongruent Response\"] == \"correct\"].count(axis=0) / 50)[0]\n",
    "print('Proportion correct incongruent', proportion_correct_incongruent)\n",
    "scipy.stats.binom_test(proportion_correct_incongruent, n=50, p=0.99)"
   ]
  },
  {
   "cell_type": "markdown",
   "metadata": {},
   "source": [
    "In both cases, there is almost a zero probability that the observed responses are the same as we would expect if there was no effect of the colour on the word people read. Had we used p=1, there would be a zero probability."
   ]
  },
  {
   "cell_type": "markdown",
   "metadata": {},
   "source": [
    "# Saving Your Data to a file"
   ]
  },
  {
   "cell_type": "markdown",
   "metadata": {},
   "source": [
    "There are many formats you can save your data to.  Python doesn't care, it can save in any non-proprietary format (and some proprietary ones too).\n",
    "\n",
    "You can save:"
   ]
  },
  {
   "cell_type": "markdown",
   "metadata": {},
   "source": [
    "CSV (comma-separated values)"
   ]
  },
  {
   "cell_type": "code",
   "execution_count": 75,
   "metadata": {},
   "outputs": [
    {
     "data": {
      "text/plain": [
       "['README.md',\n",
       " 'Class-03-Dictionaries_Functions_and_Methods.ipynb',\n",
       " 'Class-02-Conditionals_DataTypes_and_Loops.slides.html',\n",
       " 'seaborn_plot.png',\n",
       " 'Class-11-AnalyzingDataInPandas.ipynb',\n",
       " 'Class-07-Namespaces.ipynb',\n",
       " 'reaction_times.png',\n",
       " 'Class-10-ExploringDataInPandas.ipynb',\n",
       " 'Class-12-PlottingDataInPython.ipynb',\n",
       " 'simulated_data.pkl',\n",
       " '.~lock.simulated_data.xlsx#',\n",
       " 'Class-09-Psychopy-2-Responses.ipynb',\n",
       " '.ipynb_checkpoints',\n",
       " 'data',\n",
       " '__pycache__',\n",
       " 'data.csv',\n",
       " 'Class-06-Objects.ipynb',\n",
       " 'Class-00-Introduction.ipynb',\n",
       " 'Class-04-Debugging.ipynb',\n",
       " 'Class-02-Conditionals_DataTypes_and_Loops.ipynb',\n",
       " 'simulated_data.csv',\n",
       " 'Untitled.ipynb',\n",
       " 'simulated_data.xlsx',\n",
       " 'my_favourite_song.webm',\n",
       " 'individual_files',\n",
       " 'Class-01-Variables_and_Operators.ipynb',\n",
       " 'Class-08-PsychoPy-1-Stimuli.ipynb',\n",
       " 'Class-05-Classes.ipynb',\n",
       " 'video.mp4',\n",
       " 'external_code.py',\n",
       " 'img',\n",
       " 'my_favourite_song.mp4']"
      ]
     },
     "execution_count": 75,
     "metadata": {},
     "output_type": "execute_result"
    }
   ],
   "source": [
    "df.to_csv(r'simulated_data.csv')\n",
    "import os\n",
    "os.getcwd()\n",
    "os.listdir()\n",
    "os."
   ]
  },
  {
   "cell_type": "markdown",
   "metadata": {},
   "source": [
    "Excel"
   ]
  },
  {
   "cell_type": "code",
   "execution_count": 77,
   "metadata": {},
   "outputs": [],
   "source": [
    "df.to_excel('simulated_data.xlsx')"
   ]
  },
  {
   "cell_type": "markdown",
   "metadata": {},
   "source": [
    "You can also save your objects by pickling them.  These objects can be loaded into other Python programs directly.  Whether it's a dataframe or any other Python object, it can be pickled."
   ]
  },
  {
   "cell_type": "code",
   "execution_count": 78,
   "metadata": {},
   "outputs": [],
   "source": [
    "df.to_pickle('simulated_data.pkl')"
   ]
  },
  {
   "cell_type": "markdown",
   "metadata": {},
   "source": [
    "# Basic Linear Model in Tensor Flow\n",
    "## Tensor Flow is a library used for Machine Learning and Neural Networks\n",
    "\n",
    "First we train a model, then we test it."
   ]
  },
  {
   "cell_type": "markdown",
   "metadata": {},
   "source": [
    "### Import Tensor Flow & pick our variables"
   ]
  },
  {
   "cell_type": "code",
   "execution_count": 79,
   "metadata": {
    "code_folding": []
   },
   "outputs": [
    {
     "name": "stdout",
     "output_type": "stream",
     "text": [
      "1.14.0\n"
     ]
    }
   ],
   "source": [
    "import sklearn.preprocessing\n",
    "import tensorflow as tf\n",
    "import pandas as pd\n",
    "\n",
    "#%%\n",
    "tf.enable_eager_execution()\n",
    "print(tf.__version__)\n",
    "\n",
    "#%%\n",
    "x = df[\"Incongruent RT\"].values\n",
    "y = df[\"Congruent RT\"].values"
   ]
  },
  {
   "cell_type": "markdown",
   "metadata": {},
   "source": [
    "### Scale our data using a z-score"
   ]
  },
  {
   "cell_type": "code",
   "execution_count": 81,
   "metadata": {
    "code_folding": []
   },
   "outputs": [
    {
     "data": {
      "text/plain": [
       "array([[ 6.89573382e-02],\n",
       "       [ 1.30790577e+00],\n",
       "       [-2.57848455e-01],\n",
       "       [-1.89863492e+00],\n",
       "       [ 1.26681070e+00],\n",
       "       [-1.76129791e+00],\n",
       "       [ 1.36546468e+00],\n",
       "       [-7.92626869e-01],\n",
       "       [ 3.69653675e-02],\n",
       "       [ 6.05494610e-01],\n",
       "       [ 1.04440493e-01],\n",
       "       [-4.18331988e-01],\n",
       "       [-7.95129617e-01],\n",
       "       [ 9.12177907e-01],\n",
       "       [ 2.18703453e-01],\n",
       "       [ 6.36637022e-01],\n",
       "       [ 1.06910655e+00],\n",
       "       [-9.79346793e-01],\n",
       "       [ 1.48720783e+00],\n",
       "       [-9.20709178e-01],\n",
       "       [ 5.40855858e-01],\n",
       "       [-6.48569567e-01],\n",
       "       [ 9.32108779e-01],\n",
       "       [-1.55445092e+00],\n",
       "       [-3.38062509e-01],\n",
       "       [-1.80990734e+00],\n",
       "       [-3.18871154e-01],\n",
       "       [ 2.76718116e-01],\n",
       "       [-1.66389648e+00],\n",
       "       [ 1.01370625e+00],\n",
       "       [ 1.31814091e+00],\n",
       "       [ 6.12343820e-01],\n",
       "       [ 1.31356876e+00],\n",
       "       [ 2.40562730e-01],\n",
       "       [ 2.84823489e-01],\n",
       "       [-9.23460358e-04],\n",
       "       [-1.25619233e+00],\n",
       "       [-2.75991343e-01],\n",
       "       [-2.00315397e+00],\n",
       "       [-1.03485703e+00],\n",
       "       [-1.13416230e-01],\n",
       "       [ 1.15902124e+00],\n",
       "       [ 1.34587051e+00],\n",
       "       [-8.06044131e-01],\n",
       "       [ 9.82543336e-01],\n",
       "       [-9.26436940e-01],\n",
       "       [ 1.00369462e+00],\n",
       "       [ 9.52796062e-01],\n",
       "       [-3.65325695e-01],\n",
       "       [-1.16601385e-01]])"
      ]
     },
     "execution_count": 81,
     "metadata": {},
     "output_type": "execute_result"
    }
   ],
   "source": [
    "preprocessing_method = sklearn.preprocessing.StandardScaler()\n",
    "x = x.reshape(-1,1)\n",
    "x = preprocessing_method.fit_transform(x)\n",
    "x"
   ]
  },
  {
   "cell_type": "markdown",
   "metadata": {},
   "source": [
    "### Create a Linear Model Object\n",
    "Initialize slope and interecept with 'random' values"
   ]
  },
  {
   "cell_type": "code",
   "execution_count": 82,
   "metadata": {
    "code_folding": []
   },
   "outputs": [],
   "source": [
    "#%%\n",
    "class LinearModel:\n",
    "    def __call__(self, x):\n",
    "        return self.Weight * x + self.Bias  # our linear regression equation\n",
    "\n",
    "    def __init__(self):  # initializes the weight and bias randomly\n",
    "        self.Weight = tf.Variable(11.0) \n",
    "        self.Bias = tf.Variable(12.0)"
   ]
  },
  {
   "cell_type": "markdown",
   "metadata": {},
   "source": [
    "### Define our loss function.  We want to minimize mean squared error"
   ]
  },
  {
   "cell_type": "code",
   "execution_count": 83,
   "metadata": {
    "code_folding": []
   },
   "outputs": [],
   "source": [
    "def loss(y, pred):\n",
    "    return tf.reduce_mean(tf.square(y - pred))  # This is our loss function.  We run the regression and minimize this value"
   ]
  },
  {
   "cell_type": "markdown",
   "metadata": {},
   "source": [
    "### Train the model\n",
    "Fit the model to (a subset) of the data.  We are only training the data today, so we don't need to subset our data.  \n",
    "\n",
    "In this regard, we are simply running many linear regressions the same way we learned in class, and finding the best slope and intercept to minimize the mean-squared error"
   ]
  },
  {
   "cell_type": "code",
   "execution_count": 85,
   "metadata": {
    "code_folding": []
   },
   "outputs": [],
   "source": [
    "def train(linear_model, x, y, lr=0.12):  #  Gradient tape helps back propigate error to minimize the loss function\n",
    "    with tf.GradientTape() as t:\n",
    "        current_loss = loss(y, linear_model(x))\n",
    "\n",
    "    lr_weight, lr_bias = t.gradient(current_loss, [linear_model.Weight, linear_model.Bias])\n",
    "    linear_model.Weight.assign_sub(lr * lr_weight)\n",
    "    linear_model.Bias.assign_sub(lr * lr_bias)\n",
    "\n",
    "linear_model = LinearModel()\n",
    "Weights, Biases = [], []\n",
    "epochs = 30  # How many times do we run the regression?"
   ]
  },
  {
   "cell_type": "markdown",
   "metadata": {},
   "source": [
    "### Epochs are essentially the number of times we run the regression"
   ]
  },
  {
   "cell_type": "code",
   "execution_count": 86,
   "metadata": {
    "code_folding": []
   },
   "outputs": [
    {
     "name": "stdout",
     "output_type": "stream",
     "text": [
      "Epoch count 0: Loss value: 209.2376708984375\n",
      "Epoch count 1: Loss value: 134.32492065429688\n",
      "Epoch count 2: Loss value: 86.38072204589844\n",
      "Epoch count 3: Loss value: 55.696475982666016\n",
      "Epoch count 4: Loss value: 36.05852127075195\n",
      "Epoch count 5: Loss value: 23.49024772644043\n",
      "Epoch count 6: Loss value: 15.446550369262695\n",
      "Epoch count 7: Loss value: 10.29858112335205\n",
      "Epoch count 8: Loss value: 7.003884315490723\n",
      "Epoch count 9: Loss value: 4.895277500152588\n",
      "Epoch count 10: Loss value: 3.5457661151885986\n",
      "Epoch count 11: Loss value: 2.682081699371338\n",
      "Epoch count 12: Loss value: 2.129322052001953\n",
      "Epoch count 13: Loss value: 1.775557041168213\n",
      "Epoch count 14: Loss value: 1.5491466522216797\n",
      "Epoch count 15: Loss value: 1.4042447805404663\n",
      "Epoch count 16: Loss value: 1.311507225036621\n",
      "Epoch count 17: Loss value: 1.2521556615829468\n",
      "Epoch count 18: Loss value: 1.2141695022583008\n",
      "Epoch count 19: Loss value: 1.189859390258789\n",
      "Epoch count 20: Loss value: 1.174301028251648\n",
      "Epoch count 21: Loss value: 1.1643427610397339\n",
      "Epoch count 22: Loss value: 1.1579700708389282\n",
      "Epoch count 23: Loss value: 1.1538918018341064\n",
      "Epoch count 24: Loss value: 1.1512809991836548\n",
      "Epoch count 25: Loss value: 1.1496104001998901\n",
      "Epoch count 26: Loss value: 1.1485413312911987\n",
      "Epoch count 27: Loss value: 1.1478571891784668\n",
      "Epoch count 28: Loss value: 1.1474192142486572\n",
      "Epoch count 29: Loss value: 1.1471387147903442\n"
     ]
    }
   ],
   "source": [
    "for epoch_count in range(epochs):\n",
    "    Weights.append(linear_model.Weight.numpy())\n",
    "    Biases.append(linear_model.Bias.numpy())\n",
    "    real_loss = loss(y, linear_model(x))\n",
    "    train(linear_model, x, y, lr=0.1)  # lr is how fast we minimize the loss function...  If we do it too fast, we over fit our data\n",
    "    print(f\"Epoch count {epoch_count}: Loss value: {real_loss.numpy()}\")"
   ]
  },
  {
   "cell_type": "markdown",
   "metadata": {},
   "source": [
    "### Print the results"
   ]
  },
  {
   "cell_type": "code",
   "execution_count": 87,
   "metadata": {
    "code_folding": []
   },
   "outputs": [
    {
     "name": "stdout",
     "output_type": "stream",
     "text": [
      "slope =  0.013617331 \n",
      "intercept 2.6792932\n",
      "RMSE 1.1469595\n"
     ]
    }
   ],
   "source": [
    "print('slope = ', linear_model.Weight.numpy(), '\\nintercept', linear_model.Bias.numpy())  # slope is weight, intercept is bias\n",
    "RMSE = loss(y, linear_model(x))\n",
    "print('RMSE', RMSE.numpy())"
   ]
  },
  {
   "cell_type": "code",
   "execution_count": 88,
   "metadata": {},
   "outputs": [
    {
     "data": {
      "text/plain": [
       "<matplotlib.collections.PathCollection at 0x7fd2c86ad940>"
      ]
     },
     "execution_count": 88,
     "metadata": {},
     "output_type": "execute_result"
    },
    {
     "data": {
      "image/png": "[encoded data removed]",
      "text/plain": [
       "<Figure size 432x288 with 1 Axes>"
      ]
     },
     "metadata": {
      "needs_background": "light"
     },
     "output_type": "display_data"
    }
   ],
   "source": [
    "%matplotlib inline\n",
    "import matplotlib.pyplot as plt\n",
    "plt.scatter(x, y)"
   ]
  },
  {
   "cell_type": "code",
   "execution_count": 89,
   "metadata": {},
   "outputs": [],
   "source": [
    "weight = linear_model.Weight.numpy()\n",
    "bias = linear_model.Bias.numpy()\n",
    "predictions = weight * x + bias "
   ]
  },
  {
   "cell_type": "code",
   "execution_count": 90,
   "metadata": {},
   "outputs": [
    {
     "data": {
      "image/png": "[encoded data removed]",
      "text/plain": [
       "<Figure size 432x288 with 1 Axes>"
      ]
     },
     "metadata": {
      "needs_background": "light"
     },
     "output_type": "display_data"
    }
   ],
   "source": [
    "plt.plot(x, y, 'ro', label ='Original data') \n",
    "plt.plot(x, predictions, label ='Fitted line') \n",
    "plt.title('Linear Regression Result') \n",
    "plt.legend() \n",
    "plt.show() "
   ]
  }
 ],
 "metadata": {
  "kernelspec": {
   "display_name": "Python 3",
   "language": "python",
   "name": "python3"
  },
  "language_info": {
   "codemirror_mode": {
    "name": "ipython",
    "version": 3
   },
   "file_extension": ".py",
   "mimetype": "text/x-python",
   "name": "python",
   "nbconvert_exporter": "python",
   "pygments_lexer": "ipython3",
   "version": "3.7.3"
  },
  "toc": {
   "base_numbering": 1,
   "nav_menu": {},
   "number_sections": false,
   "sideBar": false,
   "skip_h1_title": false,
   "title_cell": "Table of Contents",
   "title_sidebar": "Contents",
   "toc_cell": false,
   "toc_position": {},
   "toc_section_display": false,
   "toc_window_display": false
  }
 },
 "nbformat": 4,
 "nbformat_minor": 2
}
