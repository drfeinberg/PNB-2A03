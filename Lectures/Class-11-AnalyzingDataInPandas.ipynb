{
 "cells": [
  {
   "cell_type": "markdown",
   "metadata": {},
   "source": [
    "# Analyzing Data in Pandas"
   ]
  },
  {
   "cell_type": "markdown",
   "metadata": {},
   "source": [
    "# Simulate the data set again"
   ]
  },
  {
   "cell_type": "code",
   "execution_count": 2,
   "metadata": {
    "scrolled": true
   },
   "outputs": [
    {
     "data": {
      "text/html": [
       "<div>\n",
       "<style scoped>\n",
       "    .dataframe tbody tr th:only-of-type {\n",
       "        vertical-align: middle;\n",
       "    }\n",
       "\n",
       "    .dataframe tbody tr th {\n",
       "        vertical-align: top;\n",
       "    }\n",
       "\n",
       "    .dataframe thead th {\n",
       "        text-align: right;\n",
       "    }\n",
       "</style>\n",
       "<table border=\"1\" class=\"dataframe\">\n",
       "  <thead>\n",
       "    <tr style=\"text-align: right;\">\n",
       "      <th></th>\n",
       "      <th>Incongruent Response</th>\n",
       "      <th>Congruent Response</th>\n",
       "      <th>Incongruent RT</th>\n",
       "      <th>Congruent RT</th>\n",
       "    </tr>\n",
       "  </thead>\n",
       "  <tbody>\n",
       "    <tr>\n",
       "      <th>0</th>\n",
       "      <td>incorrect</td>\n",
       "      <td>correct</td>\n",
       "      <td>4.512119</td>\n",
       "      <td>3.401761</td>\n",
       "    </tr>\n",
       "    <tr>\n",
       "      <th>1</th>\n",
       "      <td>incorrect</td>\n",
       "      <td>correct</td>\n",
       "      <td>4.630665</td>\n",
       "      <td>3.049635</td>\n",
       "    </tr>\n",
       "    <tr>\n",
       "      <th>2</th>\n",
       "      <td>incorrect</td>\n",
       "      <td>correct</td>\n",
       "      <td>3.451311</td>\n",
       "      <td>3.544197</td>\n",
       "    </tr>\n",
       "    <tr>\n",
       "      <th>3</th>\n",
       "      <td>incorrect</td>\n",
       "      <td>correct</td>\n",
       "      <td>4.139284</td>\n",
       "      <td>1.553025</td>\n",
       "    </tr>\n",
       "    <tr>\n",
       "      <th>4</th>\n",
       "      <td>incorrect</td>\n",
       "      <td>correct</td>\n",
       "      <td>2.565913</td>\n",
       "      <td>3.495347</td>\n",
       "    </tr>\n",
       "  </tbody>\n",
       "</table>\n",
       "</div>"
      ],
      "text/plain": [
       "  Incongruent Response Congruent Response  Incongruent RT  Congruent RT\n",
       "0            incorrect            correct        4.512119      3.401761\n",
       "1            incorrect            correct        4.630665      3.049635\n",
       "2            incorrect            correct        3.451311      3.544197\n",
       "3            incorrect            correct        4.139284      1.553025\n",
       "4            incorrect            correct        2.565913      3.495347"
      ]
     },
     "execution_count": 2,
     "metadata": {},
     "output_type": "execute_result"
    }
   ],
   "source": [
    "import random\n",
    "import numpy as np\n",
    "import pandas as pd\n",
    "\n",
    "# Simulate Responses\n",
    "congruent_responses = np.random.choice([\"incorrect\", \"correct\"], size=(50,), p=[3./4, 1./4])\n",
    "incongruent_responses = np.random.choice([\"incorrect\", \"correct\"], size=(50,), p=[1./4, 3./4])\n",
    "\n",
    "# Simulate Reaction Times\n",
    "a = 0.5 # lowest possible reaction time\n",
    "b = 6 # highest possible reaction time\n",
    "reaction_time_incongruent = []\n",
    "reaction_time_congruent = []\n",
    "for i in range(50):\n",
    "    x = 4 # mode of reaction time\n",
    "    reaction_time_incongruent.append(random.triangular(a, b, 3*x - a - b))\n",
    "    x = 3 # mode of reaction time\n",
    "    reaction_time_congruent.append(random.triangular(a, b, 3*x - a - b))\n",
    "\n",
    "# Compile Data\n",
    "data_tuples = list(zip(congruent_responses, incongruent_responses, reaction_time_incongruent, reaction_time_congruent))\n",
    "df = pd.DataFrame(data_tuples, columns=[\"Incongruent Response\", \"Congruent Response\", \"Incongruent RT\", \"Congruent RT\"]) # columns can be defined here too\n",
    "df.head()"
   ]
  },
  {
   "cell_type": "markdown",
   "metadata": {},
   "source": [
    "## Let's simulate a couple more variables here to help us learn data analysis in Python"
   ]
  },
  {
   "cell_type": "code",
   "execution_count": 3,
   "metadata": {},
   "outputs": [
    {
     "data": {
      "text/html": [
       "<div>\n",
       "<style scoped>\n",
       "    .dataframe tbody tr th:only-of-type {\n",
       "        vertical-align: middle;\n",
       "    }\n",
       "\n",
       "    .dataframe tbody tr th {\n",
       "        vertical-align: top;\n",
       "    }\n",
       "\n",
       "    .dataframe thead th {\n",
       "        text-align: right;\n",
       "    }\n",
       "</style>\n",
       "<table border=\"1\" class=\"dataframe\">\n",
       "  <thead>\n",
       "    <tr style=\"text-align: right;\">\n",
       "      <th></th>\n",
       "      <th>Apple Preference</th>\n",
       "      <th>Crab Preference</th>\n",
       "    </tr>\n",
       "  </thead>\n",
       "  <tbody>\n",
       "    <tr>\n",
       "      <th>0</th>\n",
       "      <td>78.795446</td>\n",
       "      <td>5.210716</td>\n",
       "    </tr>\n",
       "    <tr>\n",
       "      <th>1</th>\n",
       "      <td>64.532171</td>\n",
       "      <td>10.051328</td>\n",
       "    </tr>\n",
       "    <tr>\n",
       "      <th>2</th>\n",
       "      <td>49.320005</td>\n",
       "      <td>38.124945</td>\n",
       "    </tr>\n",
       "    <tr>\n",
       "      <th>3</th>\n",
       "      <td>103.676105</td>\n",
       "      <td>51.733424</td>\n",
       "    </tr>\n",
       "    <tr>\n",
       "      <th>4</th>\n",
       "      <td>86.422666</td>\n",
       "      <td>28.784980</td>\n",
       "    </tr>\n",
       "  </tbody>\n",
       "</table>\n",
       "</div>"
      ],
      "text/plain": [
       "   Apple Preference  Crab Preference\n",
       "0         78.795446         5.210716\n",
       "1         64.532171        10.051328\n",
       "2         49.320005        38.124945\n",
       "3        103.676105        51.733424\n",
       "4         86.422666        28.784980"
      ]
     },
     "execution_count": 3,
     "metadata": {},
     "output_type": "execute_result"
    }
   ],
   "source": [
    "preference_for_apples = []\n",
    "preference_for_crabs = []\n",
    "a=1\n",
    "b=100\n",
    "for i in range(50):\n",
    "    x = 75\n",
    "    preference_for_apples.append(random.triangular(a, b, 3*x - a - b))\n",
    "    x = 35\n",
    "    preference_for_crabs.append(random.triangular(a, b, 3*x - a - b))\n",
    "\n",
    "data_tuples = list(zip(preference_for_apples, preference_for_crabs))\n",
    "df2 = pd.DataFrame(data_tuples, columns=[\"Apple Preference\", \"Crab Preference\"]) # columns can be defined here too\n",
    "df2.head()"
   ]
  },
  {
   "cell_type": "markdown",
   "metadata": {},
   "source": [
    "### Concatenate the dataframes"
   ]
  },
  {
   "cell_type": "code",
   "execution_count": 4,
   "metadata": {},
   "outputs": [
    {
     "data": {
      "text/html": [
       "<div>\n",
       "<style scoped>\n",
       "    .dataframe tbody tr th:only-of-type {\n",
       "        vertical-align: middle;\n",
       "    }\n",
       "\n",
       "    .dataframe tbody tr th {\n",
       "        vertical-align: top;\n",
       "    }\n",
       "\n",
       "    .dataframe thead th {\n",
       "        text-align: right;\n",
       "    }\n",
       "</style>\n",
       "<table border=\"1\" class=\"dataframe\">\n",
       "  <thead>\n",
       "    <tr style=\"text-align: right;\">\n",
       "      <th></th>\n",
       "      <th>Incongruent Response</th>\n",
       "      <th>Congruent Response</th>\n",
       "      <th>Incongruent RT</th>\n",
       "      <th>Congruent RT</th>\n",
       "      <th>Apple Preference</th>\n",
       "      <th>Crab Preference</th>\n",
       "    </tr>\n",
       "  </thead>\n",
       "  <tbody>\n",
       "    <tr>\n",
       "      <th>0</th>\n",
       "      <td>incorrect</td>\n",
       "      <td>correct</td>\n",
       "      <td>4.512119</td>\n",
       "      <td>3.401761</td>\n",
       "      <td>78.795446</td>\n",
       "      <td>5.210716</td>\n",
       "    </tr>\n",
       "    <tr>\n",
       "      <th>1</th>\n",
       "      <td>incorrect</td>\n",
       "      <td>correct</td>\n",
       "      <td>4.630665</td>\n",
       "      <td>3.049635</td>\n",
       "      <td>64.532171</td>\n",
       "      <td>10.051328</td>\n",
       "    </tr>\n",
       "    <tr>\n",
       "      <th>2</th>\n",
       "      <td>incorrect</td>\n",
       "      <td>correct</td>\n",
       "      <td>3.451311</td>\n",
       "      <td>3.544197</td>\n",
       "      <td>49.320005</td>\n",
       "      <td>38.124945</td>\n",
       "    </tr>\n",
       "    <tr>\n",
       "      <th>3</th>\n",
       "      <td>incorrect</td>\n",
       "      <td>correct</td>\n",
       "      <td>4.139284</td>\n",
       "      <td>1.553025</td>\n",
       "      <td>103.676105</td>\n",
       "      <td>51.733424</td>\n",
       "    </tr>\n",
       "    <tr>\n",
       "      <th>4</th>\n",
       "      <td>incorrect</td>\n",
       "      <td>correct</td>\n",
       "      <td>2.565913</td>\n",
       "      <td>3.495347</td>\n",
       "      <td>86.422666</td>\n",
       "      <td>28.784980</td>\n",
       "    </tr>\n",
       "  </tbody>\n",
       "</table>\n",
       "</div>"
      ],
      "text/plain": [
       "  Incongruent Response Congruent Response  Incongruent RT  Congruent RT  \\\n",
       "0            incorrect            correct        4.512119      3.401761   \n",
       "1            incorrect            correct        4.630665      3.049635   \n",
       "2            incorrect            correct        3.451311      3.544197   \n",
       "3            incorrect            correct        4.139284      1.553025   \n",
       "4            incorrect            correct        2.565913      3.495347   \n",
       "\n",
       "   Apple Preference  Crab Preference  \n",
       "0         78.795446         5.210716  \n",
       "1         64.532171        10.051328  \n",
       "2         49.320005        38.124945  \n",
       "3        103.676105        51.733424  \n",
       "4         86.422666        28.784980  "
      ]
     },
     "execution_count": 4,
     "metadata": {},
     "output_type": "execute_result"
    }
   ],
   "source": [
    "df = pd.concat([df,df2], axis=1, sort=False)\n",
    "df.head()"
   ]
  },
  {
   "cell_type": "markdown",
   "metadata": {},
   "source": [
    "## Calculate the mean reaction times using the `mean()` method."
   ]
  },
  {
   "cell_type": "code",
   "execution_count": 5,
   "metadata": {},
   "outputs": [
    {
     "name": "stdout",
     "output_type": "stream",
     "text": [
      "4.101313426830777\n",
      "3.069708255177009\n"
     ]
    }
   ],
   "source": [
    "print(df['Incongruent RT'].mean())\n",
    "print(df['Congruent RT'].mean())"
   ]
  },
  {
   "cell_type": "markdown",
   "metadata": {},
   "source": [
    "## Calculate the median reaction times using the `median()` method."
   ]
  },
  {
   "cell_type": "code",
   "execution_count": 6,
   "metadata": {},
   "outputs": [
    {
     "name": "stdout",
     "output_type": "stream",
     "text": [
      "4.428318064424483\n",
      "3.056854355099855\n"
     ]
    }
   ],
   "source": [
    "print(df['Incongruent RT'].median())\n",
    "print(df['Congruent RT'].median())"
   ]
  },
  {
   "cell_type": "markdown",
   "metadata": {},
   "source": [
    "## Calculate the mode of responses times using the `mode()` method.\n",
    "Here we're calculating the mode of responses instead of reaction times because `mode()` calculates the most often occuring value.  Our reaction times are all unique values, so the mode function just returns the original data.  If we want to see the mode method in action, we can use it on the responses, and see what the most often occuring responses are in each category."
   ]
  },
  {
   "cell_type": "code",
   "execution_count": 7,
   "metadata": {},
   "outputs": [
    {
     "name": "stdout",
     "output_type": "stream",
     "text": [
      "0    incorrect\n",
      "dtype: object\n",
      "0    correct\n",
      "dtype: object\n"
     ]
    }
   ],
   "source": [
    "print(df['Incongruent Response'].mode())\n",
    "print(df['Congruent Response'].mode())"
   ]
  },
  {
   "cell_type": "markdown",
   "metadata": {},
   "source": [
    "## Calculate the standard deviation of the reaction times using the `stdev()` method."
   ]
  },
  {
   "cell_type": "code",
   "execution_count": 8,
   "metadata": {},
   "outputs": [
    {
     "name": "stdout",
     "output_type": "stream",
     "text": [
      "1.0872290950798025\n",
      "1.26929244589055\n"
     ]
    }
   ],
   "source": [
    "print(df['Incongruent RT'].std())\n",
    "print(df['Congruent RT'].std())"
   ]
  },
  {
   "cell_type": "markdown",
   "metadata": {},
   "source": [
    "<h2>Functions &amp; Description</h2>\n",
    "<p>Let us now understand the functions under Descriptive Statistics in Python Pandas. The following table list down the important functions &minus;</p>\n",
    "<table class=\"table table-bordered\">\n",
    "<tr>\n",
    "<th style=\"text-align:center;\">Sr.No.</th>\n",
    "<th style=\"text-align:center;\">Function</th>\n",
    "<th style=\"text-align:center;\">Description</th>\n",
    "</tr>\n",
    "<tr>\n",
    "<td style=\"text-align:center;\">1</td>\n",
    "<td style=\"text-align:center;\">count()</td>\n",
    "<td>Number of non-null observations</td>\n",
    "</tr>\n",
    "<tr>\n",
    "<td style=\"text-align:center;\">2</td>\n",
    "<td style=\"text-align:center;\">sum()</td>\n",
    "<td>Sum of values</td>\n",
    "</tr>\n",
    "<tr>\n",
    "<td style=\"text-align:center;\">3</td>\n",
    "<td style=\"text-align:center;\">mean()</td>\n",
    "<td>Mean of Values</td>\n",
    "</tr>\n",
    "<tr>\n",
    "<td style=\"text-align:center;\">4</td>\n",
    "<td style=\"text-align:center;\">median()</td>\n",
    "<td>Median of Values</td>\n",
    "</tr>\n",
    "<tr>\n",
    "<td style=\"text-align:center;\">5</td>\n",
    "<td style=\"text-align:center;\">mode()</td>\n",
    "<td>Mode of values</td>\n",
    "</tr>\n",
    "<tr>\n",
    "<td style=\"text-align:center;\">6</td>\n",
    "<td style=\"text-align:center;\">std()</td>\n",
    "<td>Standard Deviation of the Values</td>\n",
    "</tr>\n",
    "<tr>\n",
    "<td style=\"text-align:center;\">7</td>\n",
    "<td style=\"text-align:center;\">min()</td>\n",
    "<td>Minimum Value</td>\n",
    "</tr>\n",
    "<tr>\n",
    "<td style=\"text-align:center;\">8</td>\n",
    "<td style=\"text-align:center;\">max()</td>\n",
    "<td>Maximum Value</td>\n",
    "</tr>\n",
    "<tr>\n",
    "<td style=\"text-align:center;\">9</td>\n",
    "<td style=\"text-align:center;\">abs()</td>\n",
    "<td>Absolute Value</td>\n",
    "</tr>\n",
    "<tr>\n",
    "<td style=\"text-align:center;\">10</td>\n",
    "<td style=\"text-align:center;\">prod()</td>\n",
    "<td>Product of Values</td>\n",
    "</tr>\n",
    "<tr>\n",
    "<td style=\"text-align:center;\">11</td>\n",
    "<td style=\"text-align:center;\">cumsum()</td>\n",
    "<td>Cumulative Sum</td>\n",
    "</tr>\n",
    "<tr>\n",
    "<td style=\"text-align:center;\">12</td>\n",
    "<td style=\"text-align:center;\">cumprod()</td>\n",
    "<td>Cumulative Product</td>\n",
    "</tr>\n",
    "</table>\n",
    "\n",
    "https://www.tutorialspoint.com/python_pandas/python_pandas_descriptive_statistics.htm"
   ]
  },
  {
   "cell_type": "markdown",
   "metadata": {},
   "source": [
    "## Describe the data gives a summary of the numerical data in a given dataset"
   ]
  },
  {
   "cell_type": "code",
   "execution_count": 9,
   "metadata": {},
   "outputs": [
    {
     "data": {
      "text/html": [
       "<div>\n",
       "<style scoped>\n",
       "    .dataframe tbody tr th:only-of-type {\n",
       "        vertical-align: middle;\n",
       "    }\n",
       "\n",
       "    .dataframe tbody tr th {\n",
       "        vertical-align: top;\n",
       "    }\n",
       "\n",
       "    .dataframe thead th {\n",
       "        text-align: right;\n",
       "    }\n",
       "</style>\n",
       "<table border=\"1\" class=\"dataframe\">\n",
       "  <thead>\n",
       "    <tr style=\"text-align: right;\">\n",
       "      <th></th>\n",
       "      <th>Incongruent RT</th>\n",
       "      <th>Congruent RT</th>\n",
       "      <th>Apple Preference</th>\n",
       "      <th>Crab Preference</th>\n",
       "    </tr>\n",
       "  </thead>\n",
       "  <tbody>\n",
       "    <tr>\n",
       "      <th>count</th>\n",
       "      <td>50.000000</td>\n",
       "      <td>50.000000</td>\n",
       "      <td>50.000000</td>\n",
       "      <td>50.000000</td>\n",
       "    </tr>\n",
       "    <tr>\n",
       "      <th>mean</th>\n",
       "      <td>4.101313</td>\n",
       "      <td>3.069708</td>\n",
       "      <td>83.105620</td>\n",
       "      <td>35.028070</td>\n",
       "    </tr>\n",
       "    <tr>\n",
       "      <th>std</th>\n",
       "      <td>1.087229</td>\n",
       "      <td>1.269292</td>\n",
       "      <td>22.984023</td>\n",
       "      <td>21.596587</td>\n",
       "    </tr>\n",
       "    <tr>\n",
       "      <th>min</th>\n",
       "      <td>1.616654</td>\n",
       "      <td>0.712919</td>\n",
       "      <td>31.786232</td>\n",
       "      <td>5.210716</td>\n",
       "    </tr>\n",
       "    <tr>\n",
       "      <th>25%</th>\n",
       "      <td>3.120999</td>\n",
       "      <td>2.087029</td>\n",
       "      <td>65.749024</td>\n",
       "      <td>16.981601</td>\n",
       "    </tr>\n",
       "    <tr>\n",
       "      <th>50%</th>\n",
       "      <td>4.428318</td>\n",
       "      <td>3.056854</td>\n",
       "      <td>86.392377</td>\n",
       "      <td>32.501331</td>\n",
       "    </tr>\n",
       "    <tr>\n",
       "      <th>75%</th>\n",
       "      <td>5.026026</td>\n",
       "      <td>3.994842</td>\n",
       "      <td>103.632848</td>\n",
       "      <td>51.606026</td>\n",
       "    </tr>\n",
       "    <tr>\n",
       "      <th>max</th>\n",
       "      <td>5.694001</td>\n",
       "      <td>5.882009</td>\n",
       "      <td>110.108720</td>\n",
       "      <td>89.265397</td>\n",
       "    </tr>\n",
       "  </tbody>\n",
       "</table>\n",
       "</div>"
      ],
      "text/plain": [
       "       Incongruent RT  Congruent RT  Apple Preference  Crab Preference\n",
       "count       50.000000     50.000000         50.000000        50.000000\n",
       "mean         4.101313      3.069708         83.105620        35.028070\n",
       "std          1.087229      1.269292         22.984023        21.596587\n",
       "min          1.616654      0.712919         31.786232         5.210716\n",
       "25%          3.120999      2.087029         65.749024        16.981601\n",
       "50%          4.428318      3.056854         86.392377        32.501331\n",
       "75%          5.026026      3.994842        103.632848        51.606026\n",
       "max          5.694001      5.882009        110.108720        89.265397"
      ]
     },
     "execution_count": 9,
     "metadata": {},
     "output_type": "execute_result"
    }
   ],
   "source": [
    "df.describe()"
   ]
  },
  {
   "cell_type": "markdown",
   "metadata": {},
   "source": [
    "### We can use `=object` to see info about cells that contain objects, not numbers.  This includes text, like our response variables"
   ]
  },
  {
   "cell_type": "code",
   "execution_count": 10,
   "metadata": {},
   "outputs": [
    {
     "data": {
      "text/html": [
       "<div>\n",
       "<style scoped>\n",
       "    .dataframe tbody tr th:only-of-type {\n",
       "        vertical-align: middle;\n",
       "    }\n",
       "\n",
       "    .dataframe tbody tr th {\n",
       "        vertical-align: top;\n",
       "    }\n",
       "\n",
       "    .dataframe thead th {\n",
       "        text-align: right;\n",
       "    }\n",
       "</style>\n",
       "<table border=\"1\" class=\"dataframe\">\n",
       "  <thead>\n",
       "    <tr style=\"text-align: right;\">\n",
       "      <th></th>\n",
       "      <th>Incongruent Response</th>\n",
       "      <th>Congruent Response</th>\n",
       "    </tr>\n",
       "  </thead>\n",
       "  <tbody>\n",
       "    <tr>\n",
       "      <th>count</th>\n",
       "      <td>50</td>\n",
       "      <td>50</td>\n",
       "    </tr>\n",
       "    <tr>\n",
       "      <th>unique</th>\n",
       "      <td>2</td>\n",
       "      <td>2</td>\n",
       "    </tr>\n",
       "    <tr>\n",
       "      <th>top</th>\n",
       "      <td>incorrect</td>\n",
       "      <td>correct</td>\n",
       "    </tr>\n",
       "    <tr>\n",
       "      <th>freq</th>\n",
       "      <td>34</td>\n",
       "      <td>37</td>\n",
       "    </tr>\n",
       "  </tbody>\n",
       "</table>\n",
       "</div>"
      ],
      "text/plain": [
       "       Incongruent Response Congruent Response\n",
       "count                    50                 50\n",
       "unique                    2                  2\n",
       "top               incorrect            correct\n",
       "freq                     34                 37"
      ]
     },
     "execution_count": 10,
     "metadata": {},
     "output_type": "execute_result"
    }
   ],
   "source": [
    "df.describe(include=['object'])"
   ]
  },
  {
   "cell_type": "markdown",
   "metadata": {},
   "source": [
    "### We can use `=all` to see all of that info at once.  `NaN` stands for  `not a number`, which is Pandas' N/A value"
   ]
  },
  {
   "cell_type": "code",
   "execution_count": 11,
   "metadata": {},
   "outputs": [
    {
     "data": {
      "text/html": [
       "<div>\n",
       "<style scoped>\n",
       "    .dataframe tbody tr th:only-of-type {\n",
       "        vertical-align: middle;\n",
       "    }\n",
       "\n",
       "    .dataframe tbody tr th {\n",
       "        vertical-align: top;\n",
       "    }\n",
       "\n",
       "    .dataframe thead th {\n",
       "        text-align: right;\n",
       "    }\n",
       "</style>\n",
       "<table border=\"1\" class=\"dataframe\">\n",
       "  <thead>\n",
       "    <tr style=\"text-align: right;\">\n",
       "      <th></th>\n",
       "      <th>Incongruent Response</th>\n",
       "      <th>Congruent Response</th>\n",
       "      <th>Incongruent RT</th>\n",
       "      <th>Congruent RT</th>\n",
       "      <th>Apple Preference</th>\n",
       "      <th>Crab Preference</th>\n",
       "    </tr>\n",
       "  </thead>\n",
       "  <tbody>\n",
       "    <tr>\n",
       "      <th>count</th>\n",
       "      <td>50</td>\n",
       "      <td>50</td>\n",
       "      <td>50.000000</td>\n",
       "      <td>50.000000</td>\n",
       "      <td>50.000000</td>\n",
       "      <td>50.000000</td>\n",
       "    </tr>\n",
       "    <tr>\n",
       "      <th>unique</th>\n",
       "      <td>2</td>\n",
       "      <td>2</td>\n",
       "      <td>NaN</td>\n",
       "      <td>NaN</td>\n",
       "      <td>NaN</td>\n",
       "      <td>NaN</td>\n",
       "    </tr>\n",
       "    <tr>\n",
       "      <th>top</th>\n",
       "      <td>incorrect</td>\n",
       "      <td>correct</td>\n",
       "      <td>NaN</td>\n",
       "      <td>NaN</td>\n",
       "      <td>NaN</td>\n",
       "      <td>NaN</td>\n",
       "    </tr>\n",
       "    <tr>\n",
       "      <th>freq</th>\n",
       "      <td>34</td>\n",
       "      <td>37</td>\n",
       "      <td>NaN</td>\n",
       "      <td>NaN</td>\n",
       "      <td>NaN</td>\n",
       "      <td>NaN</td>\n",
       "    </tr>\n",
       "    <tr>\n",
       "      <th>mean</th>\n",
       "      <td>NaN</td>\n",
       "      <td>NaN</td>\n",
       "      <td>4.101313</td>\n",
       "      <td>3.069708</td>\n",
       "      <td>83.105620</td>\n",
       "      <td>35.028070</td>\n",
       "    </tr>\n",
       "    <tr>\n",
       "      <th>std</th>\n",
       "      <td>NaN</td>\n",
       "      <td>NaN</td>\n",
       "      <td>1.087229</td>\n",
       "      <td>1.269292</td>\n",
       "      <td>22.984023</td>\n",
       "      <td>21.596587</td>\n",
       "    </tr>\n",
       "    <tr>\n",
       "      <th>min</th>\n",
       "      <td>NaN</td>\n",
       "      <td>NaN</td>\n",
       "      <td>1.616654</td>\n",
       "      <td>0.712919</td>\n",
       "      <td>31.786232</td>\n",
       "      <td>5.210716</td>\n",
       "    </tr>\n",
       "    <tr>\n",
       "      <th>25%</th>\n",
       "      <td>NaN</td>\n",
       "      <td>NaN</td>\n",
       "      <td>3.120999</td>\n",
       "      <td>2.087029</td>\n",
       "      <td>65.749024</td>\n",
       "      <td>16.981601</td>\n",
       "    </tr>\n",
       "    <tr>\n",
       "      <th>50%</th>\n",
       "      <td>NaN</td>\n",
       "      <td>NaN</td>\n",
       "      <td>4.428318</td>\n",
       "      <td>3.056854</td>\n",
       "      <td>86.392377</td>\n",
       "      <td>32.501331</td>\n",
       "    </tr>\n",
       "    <tr>\n",
       "      <th>75%</th>\n",
       "      <td>NaN</td>\n",
       "      <td>NaN</td>\n",
       "      <td>5.026026</td>\n",
       "      <td>3.994842</td>\n",
       "      <td>103.632848</td>\n",
       "      <td>51.606026</td>\n",
       "    </tr>\n",
       "    <tr>\n",
       "      <th>max</th>\n",
       "      <td>NaN</td>\n",
       "      <td>NaN</td>\n",
       "      <td>5.694001</td>\n",
       "      <td>5.882009</td>\n",
       "      <td>110.108720</td>\n",
       "      <td>89.265397</td>\n",
       "    </tr>\n",
       "  </tbody>\n",
       "</table>\n",
       "</div>"
      ],
      "text/plain": [
       "       Incongruent Response Congruent Response  Incongruent RT  Congruent RT  \\\n",
       "count                    50                 50       50.000000     50.000000   \n",
       "unique                    2                  2             NaN           NaN   \n",
       "top               incorrect            correct             NaN           NaN   \n",
       "freq                     34                 37             NaN           NaN   \n",
       "mean                    NaN                NaN        4.101313      3.069708   \n",
       "std                     NaN                NaN        1.087229      1.269292   \n",
       "min                     NaN                NaN        1.616654      0.712919   \n",
       "25%                     NaN                NaN        3.120999      2.087029   \n",
       "50%                     NaN                NaN        4.428318      3.056854   \n",
       "75%                     NaN                NaN        5.026026      3.994842   \n",
       "max                     NaN                NaN        5.694001      5.882009   \n",
       "\n",
       "        Apple Preference  Crab Preference  \n",
       "count          50.000000        50.000000  \n",
       "unique               NaN              NaN  \n",
       "top                  NaN              NaN  \n",
       "freq                 NaN              NaN  \n",
       "mean           83.105620        35.028070  \n",
       "std            22.984023        21.596587  \n",
       "min            31.786232         5.210716  \n",
       "25%            65.749024        16.981601  \n",
       "50%            86.392377        32.501331  \n",
       "75%           103.632848        51.606026  \n",
       "max           110.108720        89.265397  "
      ]
     },
     "execution_count": 11,
     "metadata": {},
     "output_type": "execute_result"
    }
   ],
   "source": [
    "df. describe(include='all')"
   ]
  },
  {
   "cell_type": "markdown",
   "metadata": {},
   "source": [
    "# Test for normal distribution\n",
    "Let's see if our data are normally distributed.\n",
    "\n",
    "To do that, we'll use the `scipy` module. `scipy` stands for scientific python.  In the `stats` folder, there's a module called pearsonr, which calculates correlations and corresponding p-values. `scipy` is compatable with `Pandas`.  If the p-value is less than 0.05, then the distribution is not normal."
   ]
  },
  {
   "cell_type": "code",
   "execution_count": 12,
   "metadata": {},
   "outputs": [
    {
     "name": "stdout",
     "output_type": "stream",
     "text": [
      "NormaltestResult(statistic=6.730283817948463, pvalue=0.034557111805740635)\n",
      "NormaltestResult(statistic=2.3827578526077122, pvalue=0.3038020544594923)\n"
     ]
    }
   ],
   "source": [
    "import scipy.stats\n",
    "\n",
    "print(scipy.stats.normaltest(df['Incongruent RT']))\n",
    "print(scipy.stats.normaltest(df['Congruent RT']))"
   ]
  },
  {
   "cell_type": "markdown",
   "metadata": {},
   "source": [
    "## Correlation\n",
    "To test for a correlation in Pandas, you can use the `corr()` method to test for all correlations in a dataset.  This is called a correlation matrix.  It's not particularly useful for our analysis here, but it's something you should learn."
   ]
  },
  {
   "cell_type": "code",
   "execution_count": 13,
   "metadata": {},
   "outputs": [
    {
     "data": {
      "text/html": [
       "<div>\n",
       "<style scoped>\n",
       "    .dataframe tbody tr th:only-of-type {\n",
       "        vertical-align: middle;\n",
       "    }\n",
       "\n",
       "    .dataframe tbody tr th {\n",
       "        vertical-align: top;\n",
       "    }\n",
       "\n",
       "    .dataframe thead th {\n",
       "        text-align: right;\n",
       "    }\n",
       "</style>\n",
       "<table border=\"1\" class=\"dataframe\">\n",
       "  <thead>\n",
       "    <tr style=\"text-align: right;\">\n",
       "      <th></th>\n",
       "      <th>Incongruent RT</th>\n",
       "      <th>Congruent RT</th>\n",
       "      <th>Apple Preference</th>\n",
       "      <th>Crab Preference</th>\n",
       "    </tr>\n",
       "  </thead>\n",
       "  <tbody>\n",
       "    <tr>\n",
       "      <th>Incongruent RT</th>\n",
       "      <td>1.000000</td>\n",
       "      <td>0.053828</td>\n",
       "      <td>0.078238</td>\n",
       "      <td>0.272555</td>\n",
       "    </tr>\n",
       "    <tr>\n",
       "      <th>Congruent RT</th>\n",
       "      <td>0.053828</td>\n",
       "      <td>1.000000</td>\n",
       "      <td>-0.099812</td>\n",
       "      <td>-0.054170</td>\n",
       "    </tr>\n",
       "    <tr>\n",
       "      <th>Apple Preference</th>\n",
       "      <td>0.078238</td>\n",
       "      <td>-0.099812</td>\n",
       "      <td>1.000000</td>\n",
       "      <td>-0.062034</td>\n",
       "    </tr>\n",
       "    <tr>\n",
       "      <th>Crab Preference</th>\n",
       "      <td>0.272555</td>\n",
       "      <td>-0.054170</td>\n",
       "      <td>-0.062034</td>\n",
       "      <td>1.000000</td>\n",
       "    </tr>\n",
       "  </tbody>\n",
       "</table>\n",
       "</div>"
      ],
      "text/plain": [
       "                  Incongruent RT  Congruent RT  Apple Preference  \\\n",
       "Incongruent RT          1.000000      0.053828          0.078238   \n",
       "Congruent RT            0.053828      1.000000         -0.099812   \n",
       "Apple Preference        0.078238     -0.099812          1.000000   \n",
       "Crab Preference         0.272555     -0.054170         -0.062034   \n",
       "\n",
       "                  Crab Preference  \n",
       "Incongruent RT           0.272555  \n",
       "Congruent RT            -0.054170  \n",
       "Apple Preference        -0.062034  \n",
       "Crab Preference          1.000000  "
      ]
     },
     "execution_count": 13,
     "metadata": {},
     "output_type": "execute_result"
    }
   ],
   "source": [
    "df.corr()"
   ]
  },
  {
   "cell_type": "markdown",
   "metadata": {},
   "source": [
    "If you just want to correlate 2 variables, you can call the `corr()` method on one column, and put the other column inside the `corr` method."
   ]
  },
  {
   "cell_type": "code",
   "execution_count": 14,
   "metadata": {},
   "outputs": [
    {
     "data": {
      "text/plain": [
       "0.05382758297868144"
      ]
     },
     "execution_count": 14,
     "metadata": {},
     "output_type": "execute_result"
    }
   ],
   "source": [
    "df['Incongruent RT'].corr(df['Congruent RT'])"
   ]
  },
  {
   "cell_type": "markdown",
   "metadata": {},
   "source": [
    "### p-values for correlations\n",
    "p-value politics aside, you should learn how to calculate them.  We can't do that in Pandas, but we can do it in `scipy.stats.pearsonr`. `scipy.stats.pearsonr` returns a tuple.  The first value is the r-value or correlation coefficient.  The second value is the p-value."
   ]
  },
  {
   "cell_type": "code",
   "execution_count": 15,
   "metadata": {},
   "outputs": [
    {
     "data": {
      "text/plain": [
       "(0.05382758297868139, 0.7104432091821069)"
      ]
     },
     "execution_count": 15,
     "metadata": {},
     "output_type": "execute_result"
    }
   ],
   "source": [
    "import scipy.stats\n",
    "\n",
    "scipy.stats.pearsonr(df['Incongruent RT'], df['Congruent RT'])"
   ]
  },
  {
   "cell_type": "markdown",
   "metadata": {},
   "source": [
    "Those two variables are not related, and we would not be surprised to find that given our null hypothesis (i.e. that the two variables are not related)"
   ]
  },
  {
   "cell_type": "markdown",
   "metadata": {},
   "source": [
    "# Are responses in the incongruent condition longer than the responses in the congruent condition?"
   ]
  },
  {
   "cell_type": "markdown",
   "metadata": {},
   "source": [
    "To do that, we'll use a paired sample t-test `scipy.stats.ttest_rel`.  "
   ]
  },
  {
   "cell_type": "code",
   "execution_count": 16,
   "metadata": {},
   "outputs": [
    {
     "data": {
      "text/plain": [
       "Ttest_relResult(statistic=4.485574796148902, pvalue=4.3983785411430516e-05)"
      ]
     },
     "execution_count": 16,
     "metadata": {},
     "output_type": "execute_result"
    }
   ],
   "source": [
    "scipy.stats.ttest_rel(df['Incongruent RT'], df['Congruent RT'])"
   ]
  },
  {
   "cell_type": "markdown",
   "metadata": {},
   "source": [
    "The t-value of 5.6 tells us that the mean of incongruent is much higher than the mean of congruent, and the p-value of 8.153 e-07 means we would be very very suprised if we reached this result given the null hypothesis that there is no differnece in the means."
   ]
  },
  {
   "cell_type": "markdown",
   "metadata": {},
   "source": [
    "## In each condition, is the frequency of \"correct\" responses different than we would expect than if people were just guessing?\n",
    "\n",
    "x is the number of correct responses - we already calculated this last time.\n",
    "n is the sample size (50)\n",
    "p is the probability of being correct if there was no effect of the letter colour (1)"
   ]
  },
  {
   "cell_type": "markdown",
   "metadata": {},
   "source": [
    "### Congruent"
   ]
  },
  {
   "cell_type": "code",
   "execution_count": 17,
   "metadata": {},
   "outputs": [
    {
     "name": "stdout",
     "output_type": "stream",
     "text": [
      "Proportion correct congruent 0.74\n"
     ]
    },
    {
     "data": {
      "text/plain": [
       "1.0000000000000444e-100"
      ]
     },
     "execution_count": 17,
     "metadata": {},
     "output_type": "execute_result"
    }
   ],
   "source": [
    "proportion_correct_congruent = (df[df[\"Congruent Response\"] == \"correct\"].count(axis=0) / 50)[0]\n",
    "print('Proportion correct congruent', proportion_correct_congruent)\n",
    "scipy.stats.binom_test(proportion_correct_congruent, n=50, p=0.99)"
   ]
  },
  {
   "cell_type": "markdown",
   "metadata": {},
   "source": [
    "### Incongruent"
   ]
  },
  {
   "cell_type": "code",
   "execution_count": 18,
   "metadata": {},
   "outputs": [
    {
     "name": "stdout",
     "output_type": "stream",
     "text": [
      "Proportion correct incongruent 0.32\n"
     ]
    },
    {
     "data": {
      "text/plain": [
       "1.0000000000000444e-100"
      ]
     },
     "execution_count": 18,
     "metadata": {},
     "output_type": "execute_result"
    }
   ],
   "source": [
    "proportion_correct_incongruent = (df[df[\"Incongruent Response\"] == \"correct\"].count(axis=0) / 50)[0]\n",
    "print('Proportion correct incongruent', proportion_correct_incongruent)\n",
    "scipy.stats.binom_test(proportion_correct_incongruent, n=50, p=0.99)"
   ]
  },
  {
   "cell_type": "markdown",
   "metadata": {},
   "source": [
    "In both cases, there is almost a zero probability that the observed responses are the same as we would expect if there was no effect of the colour on the word people read. Had we used p=1, there would be a zero probability."
   ]
  },
  {
   "cell_type": "markdown",
   "metadata": {},
   "source": [
    "# Saving Your Data to a file"
   ]
  },
  {
   "cell_type": "markdown",
   "metadata": {},
   "source": [
    "There are many formats you can save your data to.  Python doesn't care, it can save in any non-proprietary format (and some proprietary ones too).\n",
    "\n",
    "You can save:"
   ]
  },
  {
   "cell_type": "markdown",
   "metadata": {},
   "source": [
    "CSV (comma-separated values)"
   ]
  },
  {
   "cell_type": "code",
   "execution_count": 20,
   "metadata": {},
   "outputs": [],
   "source": [
    "df.to_csv('simulated_data.csv')"
   ]
  },
  {
   "cell_type": "markdown",
   "metadata": {},
   "source": [
    "Excel"
   ]
  },
  {
   "cell_type": "code",
   "execution_count": 26,
   "metadata": {},
   "outputs": [],
   "source": [
    "df.to_excel('simulated_data.xlsx')"
   ]
  },
  {
   "cell_type": "markdown",
   "metadata": {},
   "source": [
    "You can also save your objects by pickling them.  These objects can be loaded into other Python programs directly.  Whether it's a dataframe or any other Python object, it can be pickled."
   ]
  },
  {
   "cell_type": "code",
   "execution_count": 24,
   "metadata": {},
   "outputs": [],
   "source": [
    "df.to_pickle('simulated_data.pkl')"
   ]
  }
 ],
 "metadata": {
  "kernelspec": {
   "display_name": "Python 3",
   "language": "python",
   "name": "python3"
  },
  "language_info": {
   "codemirror_mode": {
    "name": "ipython",
    "version": 3
   },
   "file_extension": ".py",
   "mimetype": "text/x-python",
   "name": "python",
   "nbconvert_exporter": "python",
   "pygments_lexer": "ipython3",
   "version": "3.7.3"
  },
  "toc": {
   "base_numbering": 1,
   "nav_menu": {},
   "number_sections": false,
   "sideBar": false,
   "skip_h1_title": false,
   "title_cell": "Table of Contents",
   "title_sidebar": "Contents",
   "toc_cell": false,
   "toc_position": {},
   "toc_section_display": false,
   "toc_window_display": false
  }
 },
 "nbformat": 4,
 "nbformat_minor": 2
}
