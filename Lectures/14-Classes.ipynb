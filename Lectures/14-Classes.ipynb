{
 "cells": [
  {
   "cell_type": "markdown",
   "metadata": {
    "collapsed": true,
    "slideshow": {
     "slide_type": "slide"
    }
   },
   "source": [
    "# Classes"
   ]
  },
  {
   "cell_type": "markdown",
   "metadata": {
    "slideshow": {
     "slide_type": "slide"
    }
   },
   "source": [
    "### Clicker Question #1\n",
    "\n",
    "What will the following code snippet print out:"
   ]
  },
  {
   "cell_type": "code",
   "execution_count": 1,
   "metadata": {
    "slideshow": {
     "slide_type": "fragment"
    }
   },
   "outputs": [
    {
     "data": {
      "text/plain": [
       "'A2'"
      ]
     },
     "execution_count": 1,
     "metadata": {},
     "output_type": "execute_result"
    }
   ],
   "source": [
    "def check_data(word, number):\n",
    "\n",
    "    if not word.islower():\n",
    "        answer = 'A1'\n",
    "    elif number.is_integer() or word.isalpha():\n",
    "        answer = 'A2'\n",
    "    else:\n",
    "        answer = 'A3'\n",
    "        \n",
    "    return answer\n",
    "\n",
    "my_number = 13.3; my_string = \"word\"\n",
    "check_data(my_string, my_number)"
   ]
  },
  {
   "cell_type": "markdown",
   "metadata": {
    "slideshow": {
     "slide_type": "fragment"
    }
   },
   "source": [
    "A) 'A1' | B) 'A2' | C) 'A3' | D) 'A1,A2' | E) None"
   ]
  },
  {
   "cell_type": "markdown",
   "metadata": {
    "slideshow": {
     "slide_type": "slide"
    }
   },
   "source": [
    "## Objects\n",
    "\n",
    "- Objects are a way to combine associated data and procedures to do upon that data with a systematic organization\n",
    "\n",
    "- So how do we define objects?"
   ]
  },
  {
   "cell_type": "markdown",
   "metadata": {
    "slideshow": {
     "slide_type": "slide"
    }
   },
   "source": [
    "## Classes"
   ]
  },
  {
   "cell_type": "markdown",
   "metadata": {
    "slideshow": {
     "slide_type": "fragment"
    }
   },
   "source": [
    "<div class=\"alert alert-success\">\n",
    "'Classes' define objects. The 'class' keyword opens a code block for instructions on how to create objects of a particular type.\n",
    "</div>"
   ]
  },
  {
   "cell_type": "markdown",
   "metadata": {
    "collapsed": true,
    "slideshow": {
     "slide_type": "subslide"
    }
   },
   "source": [
    "## Example Class: Participant\n",
    "\n",
    "Our Participant has several attributes.  They have an ID number, they have data associated with them"
   ]
  },
  {
   "cell_type": "markdown",
   "metadata": {},
   "source": [
    "## Define a class with `class`. By convention, class definitions use CamelCase"
   ]
  },
  {
   "cell_type": "code",
   "execution_count": 27,
   "metadata": {
    "slideshow": {
     "slide_type": "fragment"
    }
   },
   "outputs": [],
   "source": [
    "class Participant:\n",
    "    \n",
    "    # Class attributes for objects of type Participant\n",
    "    # These are attributes that can be accessed without making an instance of the class\n",
    "    recruitment = \"SONA\"\n",
    "    \n",
    "    # Class methods for objects of type Participant\n",
    "    def assign_credits(self):\n",
    "        if self.recruitment == \"SONA\":\n",
    "            self.credits = 3\n",
    "            print(\"Credits assigned: \", self.credits)\n",
    "            "
   ]
  },
  {
   "cell_type": "code",
   "execution_count": 18,
   "metadata": {
    "slideshow": {
     "slide_type": "fragment"
    }
   },
   "outputs": [],
   "source": [
    "# Initialize a Participant object\n",
    "current_participant = Participant()"
   ]
  },
  {
   "cell_type": "code",
   "execution_count": 19,
   "metadata": {
    "slideshow": {
     "slide_type": "fragment"
    }
   },
   "outputs": [
    {
     "name": "stdout",
     "output_type": "stream",
     "text": [
      "SONA\n"
     ]
    }
   ],
   "source": [
    "# p1234, has 'Participant' attribute(s)\n",
    "print(current_participant.recruitment)"
   ]
  },
  {
   "cell_type": "code",
   "execution_count": 20,
   "metadata": {
    "slideshow": {
     "slide_type": "fragment"
    }
   },
   "outputs": [
    {
     "name": "stdout",
     "output_type": "stream",
     "text": [
      "('Credits assigned: ', 3)\n"
     ]
    }
   ],
   "source": [
    "# george, has 'Participant' method(s)\n",
    "current_participant.assign_credits()"
   ]
  },
  {
   "cell_type": "markdown",
   "metadata": {
    "slideshow": {
     "slide_type": "slide"
    }
   },
   "source": [
    "### Using our Participant Objects"
   ]
  },
  {
   "cell_type": "code",
   "execution_count": 23,
   "metadata": {
    "slideshow": {
     "slide_type": "fragment"
    }
   },
   "outputs": [],
   "source": [
    "# Initialize a group of participants\n",
    "population_of_participants = [Participant(), Participant(), Participant(), Participant()]"
   ]
  },
  {
   "cell_type": "code",
   "execution_count": 24,
   "metadata": {
    "slideshow": {
     "slide_type": "fragment"
    }
   },
   "outputs": [
    {
     "name": "stdout",
     "output_type": "stream",
     "text": [
      "('Credits assigned: ', 3)\n",
      "('Credits assigned: ', 3)\n",
      "('Credits assigned: ', 3)\n",
      "('Credits assigned: ', 3)\n"
     ]
    }
   ],
   "source": [
    "for participant in population_of_participants:\n",
    "    participant.assign_credits()"
   ]
  },
  {
   "cell_type": "markdown",
   "metadata": {
    "slideshow": {
     "slide_type": "slide"
    }
   },
   "source": [
    "## Instances & Self"
   ]
  },
  {
   "cell_type": "markdown",
   "metadata": {
    "slideshow": {
     "slide_type": "fragment"
    }
   },
   "source": [
    "<div class=\"alert alert-success\">\n",
    "An 'instance' is particular instantiation of a class object. `self` refers to the current instance. \n",
    "</div>\n",
    "\n",
    "An instance is like a running version of the Class.  In our previous example, `p1234` was an instance of the class `p1234`.  You can have an infinite number of instances of a class.  So if `Participant` is our class, the instances are the individual participants."
   ]
  },
  {
   "cell_type": "markdown",
   "metadata": {
    "slideshow": {
     "slide_type": "slide"
    }
   },
   "source": [
    "## Instance Attributes"
   ]
  },
  {
   "cell_type": "markdown",
   "metadata": {
    "slideshow": {
     "slide_type": "fragment"
    }
   },
   "source": [
    "<div class=\"alert alert-success\">\n",
    "Instance attributes are attributes that we can make be different for each instance of a class. `__init__` is a special method used to define instance attributes. \n",
    "</div>"
   ]
  },
  {
   "cell_type": "markdown",
   "metadata": {},
   "source": [
    "What's the difference between a class attribute and an instance attribute?\n",
    "\n",
    "- A class attribute is the same in every instance because it's a feature of the class, not the instance.\n",
    "- That means you can access the info in a class attribute from the actual class itself.\n",
    "\n",
    "This is confusing.  Why do they do this?\n",
    "- class attributes act like global variables inside of a class\n",
    "- instance attributes act like local variables inside of a class\n",
    "\n",
    "This is all about namespaces\n",
    "- When you try to access an attribute from an instance of a class, it first looks at its instance namespace. If it finds the attribute, it returns the associated value. If not, it then looks in the class namespace and returns the attribute (if it’s present, throwing an error otherwise)\n",
    "\n",
    "Usually you'll just use instance attributes, not class attributes.\n",
    "Here's some reasons to use a class attribute:\n",
    "- Storing constants\n",
    "- Defining default values\n",
    "- Tracking all data across all instances of a given class\n",
    "\n",
    "Reference: https://www.toptal.com/python/python-class-attributes-an-overly-thorough-guide"
   ]
  },
  {
   "cell_type": "markdown",
   "metadata": {},
   "source": [
    "### Example - Tracking all data across all instances of a given class"
   ]
  },
  {
   "cell_type": "code",
   "execution_count": 31,
   "metadata": {},
   "outputs": [
    {
     "name": "stdout",
     "output_type": "stream",
     "text": [
      "[1234, 1235]\n"
     ]
    }
   ],
   "source": [
    "class Participant(object):\n",
    "    all_participants = []\n",
    "\n",
    "    def __init__(self, id_number):\n",
    "        self.id_number = id_number\n",
    "        Participant.all_participants.append(id_number)\n",
    "\n",
    "current_participant = Participant(1234)\n",
    "next_participant = Participant(1235)\n",
    "print Participant.all_participants"
   ]
  },
  {
   "cell_type": "markdown",
   "metadata": {},
   "source": [
    "Wait... that jumped ahead a bit... what's all this `__init__(self)` stuff?\n",
    "\n",
    "- `def __init__(self)` initializes the data.\n",
    "- `self` makes the instance attributes available to all functions inside of a class\n",
    "- class attributes are also available to all functions inside a class"
   ]
  },
  {
   "cell_type": "markdown",
   "metadata": {
    "collapsed": true,
    "slideshow": {
     "slide_type": "slide"
    }
   },
   "source": [
    "## Example Class - Instance Attributes : Participant Revisited"
   ]
  },
  {
   "cell_type": "code",
   "execution_count": 33,
   "metadata": {
    "slideshow": {
     "slide_type": "fragment"
    }
   },
   "outputs": [],
   "source": [
    "import random\n",
    "\n",
    "\n",
    "class Participant(object):\n",
    "    all_participants = []\n",
    "    recruitment = \"SONA\"\n",
    "    \n",
    "    def __init__(self, id_number): # Initializer, which allows us to specificy instance specific attributes\n",
    "        self.id_number = id_number\n",
    "        Participant.all_participants.append(id_number) # Our tracker of all participants\n",
    "\n",
    "    # Class methods for objects of type Participant\n",
    "    def assign_credits(self):\n",
    "        if self.recruitment == \"SONA\":\n",
    "            self.credits = 3\n",
    "            print(\"Credits assigned: \", self.credits)\n"
   ]
  },
  {
   "cell_type": "code",
   "execution_count": 43,
   "metadata": {
    "slideshow": {
     "slide_type": "fragment"
    }
   },
   "outputs": [
    {
     "name": "stdout",
     "output_type": "stream",
     "text": [
      "('Credits assigned: ', 3)\n"
     ]
    }
   ],
   "source": [
    "current_participant = Participant(1234) # Initialize a participant\n",
    "current_participant.assign_credits() # Assign the credits by checking the methods"
   ]
  },
  {
   "cell_type": "code",
   "execution_count": 44,
   "metadata": {
    "slideshow": {
     "slide_type": "fragment"
    }
   },
   "outputs": [
    {
     "name": "stdout",
     "output_type": "stream",
     "text": [
      "SONA\n",
      "3\n",
      "SONA\n"
     ]
    }
   ],
   "source": [
    "# Check current_participant's attributes\n",
    "print(current_participant.recruitment)    # This is an class attribute\n",
    "print(current_participant.credits)     # This is a instace attribute\n",
    "print(Participant.recruitment) # You can also access the class attributes by calling the class"
   ]
  },
  {
   "cell_type": "markdown",
   "metadata": {
    "collapsed": true,
    "slideshow": {
     "slide_type": "slide"
    }
   },
   "source": [
    "### Clicker Question #2\n",
    "\n",
    "What will the following code snippet print out:"
   ]
  },
  {
   "cell_type": "code",
   "execution_count": 46,
   "metadata": {
    "slideshow": {
     "slide_type": "fragment"
    }
   },
   "outputs": [],
   "source": [
    "class MyClass():\n",
    "    \n",
    "    def __init__(self, name, email, score):\n",
    "        self.name = name\n",
    "        self.email = email\n",
    "        self.score = score\n",
    "    \n",
    "    def check_score(self):\n",
    "        \n",
    "        if self.score <= 75:\n",
    "            return self.email\n",
    "        else:\n",
    "            return False"
   ]
  },
  {
   "cell_type": "code",
   "execution_count": 47,
   "metadata": {
    "slideshow": {
     "slide_type": "fragment"
    }
   },
   "outputs": [
    {
     "data": {
      "text/plain": [
       "'rob@python.com'"
      ]
     },
     "execution_count": 47,
     "metadata": {},
     "output_type": "execute_result"
    }
   ],
   "source": [
    "student = MyClass('Rob', 'rob@python.com' , 62)\n",
    "student.check_score()"
   ]
  },
  {
   "cell_type": "markdown",
   "metadata": {
    "collapsed": true,
    "slideshow": {
     "slide_type": "fragment"
    }
   },
   "source": [
    "A) True | B) 'Rob' | C) False | D) 'rob@python.com' | E) None"
   ]
  },
  {
   "cell_type": "markdown",
   "metadata": {
    "collapsed": true,
    "slideshow": {
     "slide_type": "slide"
    }
   },
   "source": [
    "### Clicker Question #3\n",
    "\n",
    "Which is the best description:\n",
    "- A) objects are described by instances, with particular instantiations of them called classes. \n",
    "- B) instances are described by classes, with particular instantiations of them called objects. \n",
    "- C) classes are described by objects, with particular instantiations of them called instances. \n",
    "- D) objects are described by classes, with particular instantiations of them called instances. \n",
    "- E) None of this makes any sense. "
   ]
  },
  {
   "cell_type": "markdown",
   "metadata": {
    "slideshow": {
     "slide_type": "slide"
    }
   },
   "source": [
    "## Class Inheritance"
   ]
  },
  {
   "cell_type": "markdown",
   "metadata": {
    "slideshow": {
     "slide_type": "fragment"
    }
   },
   "source": [
    "<div class=\"alert alert-success\">\n",
    "Objects can also be built from other objects, inheriting their properties and building of them.\n",
    "</div>"
   ]
  },
  {
   "cell_type": "code",
   "execution_count": 52,
   "metadata": {
    "slideshow": {
     "slide_type": "slide"
    }
   },
   "outputs": [],
   "source": [
    "class Student:\n",
    "    \n",
    "    def __init__(self):\n",
    "        self.is_student = True\n",
    "        self.student_type = \"Undergrad\"\n",
    "    \n",
    "    def student_type(self):\n",
    "        print('Student is an ', self.student_type)\n",
    "\n",
    "class Participant(Student):\n",
    "    \n",
    "    def __init__(self): \n",
    "        super().__init__()\n",
    "        self.student_type = 'Participant'\n",
    "        self.why = 'To learn things.'"
   ]
  },
  {
   "cell_type": "code",
   "execution_count": 59,
   "metadata": {
    "slideshow": {
     "slide_type": "fragment"
    }
   },
   "outputs": [
    {
     "ename": "TypeError",
     "evalue": "__init__() takes exactly 1 argument (2 given)",
     "output_type": "error",
     "traceback": [
      "\u001b[0;31m---------------------------------------------------------------------------\u001b[0m",
      "\u001b[0;31mTypeError\u001b[0m                                 Traceback (most recent call last)",
      "\u001b[0;32m<ipython-input-59-68857374cad4>\u001b[0m in \u001b[0;36m<module>\u001b[0;34m()\u001b[0m\n\u001b[1;32m      1\u001b[0m \u001b[0mmy_student\u001b[0m \u001b[0;34m=\u001b[0m \u001b[0mStudent\u001b[0m\u001b[0;34m(\u001b[0m\u001b[0;34m)\u001b[0m\u001b[0;34m\u001b[0m\u001b[0m\n\u001b[0;32m----> 2\u001b[0;31m \u001b[0mmy_participant\u001b[0m \u001b[0;34m=\u001b[0m \u001b[0mParticipant\u001b[0m\u001b[0;34m(\u001b[0m\u001b[0mmy_student\u001b[0m\u001b[0;34m)\u001b[0m\u001b[0;34m\u001b[0m\u001b[0m\n\u001b[0m\u001b[1;32m      3\u001b[0m \u001b[0;32mprint\u001b[0m\u001b[0;34m(\u001b[0m\u001b[0mmy_participant\u001b[0m\u001b[0;34m.\u001b[0m\u001b[0mis_student\u001b[0m\u001b[0;34m)\u001b[0m\u001b[0;34m\u001b[0m\u001b[0m\n\u001b[1;32m      4\u001b[0m \u001b[0;32mprint\u001b[0m\u001b[0;34m(\u001b[0m\u001b[0mmy_participant\u001b[0m\u001b[0;34m.\u001b[0m\u001b[0mwhy\u001b[0m\u001b[0;34m)\u001b[0m\u001b[0;34m\u001b[0m\u001b[0m\n\u001b[1;32m      5\u001b[0m \u001b[0mmy_participant\u001b[0m\u001b[0;34m.\u001b[0m\u001b[0mstudent_type\u001b[0m\u001b[0;34m\u001b[0m\u001b[0m\n",
      "\u001b[0;31mTypeError\u001b[0m: __init__() takes exactly 1 argument (2 given)"
     ]
    }
   ],
   "source": [
    "my_tool = Tool()\n",
    "my_hammer = Hammer()\n",
    "print(my_hammer.is_tool)\n",
    "print(my_hammer.why)\n",
    "my_hammer.use_tool()\n",
    "\n",
    "my_student = Student()\n",
    "my_participant = Participant(my_student)\n",
    "print(my_participant.is_student)\n",
    "print(my_participant.why)\n",
    "my_participant.student_type"
   ]
  },
  {
   "cell_type": "markdown",
   "metadata": {
    "collapsed": true,
    "slideshow": {
     "slide_type": "slide"
    }
   },
   "source": [
    "## Everything in Python is an Object!"
   ]
  },
  {
   "cell_type": "markdown",
   "metadata": {
    "slideshow": {
     "slide_type": "slide"
    }
   },
   "source": [
    "### Data variables are objects"
   ]
  },
  {
   "cell_type": "code",
   "execution_count": 5,
   "metadata": {
    "slideshow": {
     "slide_type": "fragment"
    }
   },
   "outputs": [
    {
     "name": "stdout",
     "output_type": "stream",
     "text": [
      "True\n",
      "True\n",
      "True\n",
      "True\n"
     ]
    }
   ],
   "source": [
    "print(isinstance(True, object))\n",
    "print(isinstance(1, object))\n",
    "print(isinstance('word', object))\n",
    "print(isinstance(None, object))"
   ]
  },
  {
   "cell_type": "markdown",
   "metadata": {
    "slideshow": {
     "slide_type": "slide"
    }
   },
   "source": [
    "### Functions are objects"
   ]
  },
  {
   "cell_type": "code",
   "execution_count": 6,
   "metadata": {
    "slideshow": {
     "slide_type": "fragment"
    }
   },
   "outputs": [
    {
     "name": "stdout",
     "output_type": "stream",
     "text": [
      "True\n",
      "True\n"
     ]
    }
   ],
   "source": [
    "print(isinstance(sum, object))\n",
    "print(isinstance(max, object))"
   ]
  },
  {
   "cell_type": "code",
   "execution_count": 7,
   "metadata": {
    "slideshow": {
     "slide_type": "fragment"
    }
   },
   "outputs": [
    {
     "data": {
      "text/plain": [
       "True"
      ]
     },
     "execution_count": 7,
     "metadata": {},
     "output_type": "execute_result"
    }
   ],
   "source": [
    "# Custom function are also objects\n",
    "def my_function():\n",
    "    print('yay Python!')\n",
    "    \n",
    "isinstance(my_function, object)"
   ]
  },
  {
   "cell_type": "markdown",
   "metadata": {
    "slideshow": {
     "slide_type": "slide"
    }
   },
   "source": [
    "### Class definitions & instances are objects"
   ]
  },
  {
   "cell_type": "code",
   "execution_count": 8,
   "metadata": {
    "slideshow": {
     "slide_type": "fragment"
    }
   },
   "outputs": [
    {
     "name": "stdout",
     "output_type": "stream",
     "text": [
      "True\n",
      "True\n"
     ]
    }
   ],
   "source": [
    "class MyClass():\n",
    "    def __init__(self):\n",
    "        self.data = 13\n",
    "\n",
    "instance = MyClass()\n",
    "\n",
    "print(isinstance(MyClass, object))\n",
    "print(isinstance(instance, object))"
   ]
  },
  {
   "cell_type": "markdown",
   "metadata": {
    "slideshow": {
     "slide_type": "slide"
    }
   },
   "source": [
    "## Object Oriented Programming"
   ]
  },
  {
   "cell_type": "markdown",
   "metadata": {
    "slideshow": {
     "slide_type": "fragment"
    }
   },
   "source": [
    "<div class=\"alert alert-success\">\n",
    "Object-oriented programming (OOP) is a programming paradigm in which code is organized around objects. Python is an OOP programming langauge. \n",
    "</div>"
   ]
  }
 ],
 "metadata": {
  "kernelspec": {
   "display_name": "Python 2",
   "language": "python",
   "name": "python2"
  },
  "language_info": {
   "codemirror_mode": {
    "name": "ipython",
    "version": 2
   },
   "file_extension": ".py",
   "mimetype": "text/x-python",
   "name": "python",
   "nbconvert_exporter": "python",
   "pygments_lexer": "ipython2",
   "version": "2.7.15"
  }
 },
 "nbformat": 4,
 "nbformat_minor": 2
}
