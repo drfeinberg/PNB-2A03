{
 "cells": [
  {
   "cell_type": "markdown",
   "metadata": {},
   "source": [
    "# Debugging\n",
    "<div class=\"alert alert-success\">\n",
    "Debugging is the process of finding and fixing errors in a computer program.\n",
    "</div>\n",
    "\n",
    "Different kinds of errors can occur in a program, and it is useful to distinguish among them in order to track them down more quickly."
   ]
  },
  {
   "cell_type": "markdown",
   "metadata": {
    "slideshow": {
     "slide_type": "slide"
    }
   },
   "source": [
    "# Different types of Errors \n",
    "There are many different types of errors in Python.  Here is a nonexhaustive list of popular errors.\n",
    "\n",
    "- Syntax errors\n",
    "- Indentation error\n",
    "- Zero division error\n",
    "- Name error\n",
    "- Index error\n",
    "- Value error\n",
    "- Type error"
   ]
  },
  {
   "cell_type": "markdown",
   "metadata": {},
   "source": [
    "## Syntax Errors\n",
    "\n",
    "- Syntax errors are usually easy to fix once you figure out what they are.\n",
    "- Unfortunately, the error messages are often not helpful. \n",
    "- The most common messages are `SyntaxError: invalid syntax` and `SyntaxError:invalid token`\n",
    "    - Neither are very informative\n",
    "- The message does tell you where in the program the problem occurred. \n",
    "    - Actually, it tells you where Python noticed a problem, which is not necessarily where the error is. \n",
    "    - Sometimes the error is prior to the location of the error message, often on the preceding line.\n",
    "- If you are building the program incrementally, you should have a good idea about where the error is. \n",
    "    - It will be in the last line you added\n",
    "- If you are copying code from a book, or the internet, start by comparing your code to the book's or website's code very carefully.\n",
    "    - Check every character. \n",
    "    - Remember that the book or website might be wrong, or using an incompatible software version\n",
    "        - If you see something that looks like a syntax error, it might not be your fault\n",
    "- Syntax errors are produced by Python when it is translating the source code into byte code. \n",
    "    - They usually indicate that there is something wrong with the syntax of the program. "
   ]
  },
  {
   "cell_type": "markdown",
   "metadata": {
    "slideshow": {
     "slide_type": "slide"
    }
   },
   "source": [
    "### Syntax Error Examples"
   ]
  },
  {
   "cell_type": "markdown",
   "metadata": {},
   "source": [
    "#### Missing colon"
   ]
  },
  {
   "cell_type": "code",
   "execution_count": null,
   "metadata": {
    "slideshow": {
     "slide_type": "fragment"
    }
   },
   "outputs": [],
   "source": [
    "if True\n",
    "    print('Yep.')"
   ]
  },
  {
   "cell_type": "markdown",
   "metadata": {},
   "source": [
    "You can see that Python is trying really hard to show you where the error is.  It put the `^` symbol right where it's missing something."
   ]
  },
  {
   "cell_type": "markdown",
   "metadata": {},
   "source": [
    "#### Forgot to close quotes"
   ]
  },
  {
   "cell_type": "code",
   "execution_count": null,
   "metadata": {},
   "outputs": [],
   "source": [
    "name = 'Dr Feinberg"
   ]
  },
  {
   "cell_type": "markdown",
   "metadata": {},
   "source": [
    "#### Forgot to close parentheses"
   ]
  },
  {
   "cell_type": "code",
   "execution_count": null,
   "metadata": {},
   "outputs": [],
   "source": [
    "print('My Name is; My name is; My name is Slim Shady'"
   ]
  },
  {
   "cell_type": "markdown",
   "metadata": {},
   "source": [
    "#### Typed your operator backwards... should be `+=`, not `=+`"
   ]
  },
  {
   "cell_type": "code",
   "execution_count": null,
   "metadata": {
    "scrolled": true
   },
   "outputs": [],
   "source": [
    " 6 =+ 1"
   ]
  },
  {
   "cell_type": "markdown",
   "metadata": {},
   "source": [
    "# Avoiding common syntax errors:\n",
    "\n",
    "- Don't use `def` or `print` or something Python has reserved as your variable name\n",
    "- Check that you have a colon at the end of the header of statement like `for`, `while`, `if`, and `def`.\n",
    "- Check that indentation is correct. \n",
    "    - In jupyter notebook, you can indent with `tab`, and you can also unindent with `shift+tab`\n",
    "- Make sure that any quotes, parentheses, blocks, etc are closed properly.\n",
    "    - Software can change the colour of the text\n",
    "    - Software can't tell you if you are making a semantic error.\n"
   ]
  },
  {
   "cell_type": "markdown",
   "metadata": {},
   "source": [
    "## More common errors..."
   ]
  },
  {
   "cell_type": "markdown",
   "metadata": {},
   "source": [
    "### Indentation Error Example"
   ]
  },
  {
   "cell_type": "code",
   "execution_count": null,
   "metadata": {
    "slideshow": {
     "slide_type": "fragment"
    }
   },
   "outputs": [],
   "source": [
    "my_list = [1, 2]\n",
    "for value in my_list:\n",
    "    print(value)"
   ]
  },
  {
   "cell_type": "markdown",
   "metadata": {
    "slideshow": {
     "slide_type": "slide"
    }
   },
   "source": [
    "### ZeroDivisionError\n",
    "\n",
    "ZeroDivisionError occurs when you try to divide by zero. There are other math errors that occur when trying to do illegal mathematical operations.  Don't worry, you won't go to jail if you do illegal mathematical operations.  Your program won't work though."
   ]
  },
  {
   "cell_type": "code",
   "execution_count": null,
   "metadata": {
    "slideshow": {
     "slide_type": "fragment"
    }
   },
   "outputs": [],
   "source": [
    "1 / 0"
   ]
  },
  {
   "cell_type": "markdown",
   "metadata": {
    "slideshow": {
     "slide_type": "slide"
    }
   },
   "source": [
    "### Name Error\n",
    "\n",
    "#### NameError occurs when you try to access a name that Python does not know."
   ]
  },
  {
   "cell_type": "markdown",
   "metadata": {},
   "source": [
    "#### For example, if you typo a name, you will get a NameError"
   ]
  },
  {
   "cell_type": "code",
   "execution_count": null,
   "metadata": {
    "slideshow": {
     "slide_type": "fragment"
    }
   },
   "outputs": [],
   "source": [
    "variable = 12\n",
    "varaible"
   ]
  },
  {
   "cell_type": "markdown",
   "metadata": {},
   "source": [
    "#### You also get a name error if you try to use the wrong operator for assignment\n"
   ]
  },
  {
   "cell_type": "code",
   "execution_count": null,
   "metadata": {
    "slideshow": {
     "slide_type": "fragment"
    }
   },
   "outputs": [],
   "source": [
    "new_variable == 1"
   ]
  },
  {
   "cell_type": "markdown",
   "metadata": {},
   "source": [
    "#### Name errors can also occur if you make certain typos for built-in commands:"
   ]
  },
  {
   "cell_type": "code",
   "execution_count": null,
   "metadata": {},
   "outputs": [],
   "source": [
    "if Ture:\n",
    "    print('The truth is out there.')"
   ]
  },
  {
   "cell_type": "markdown",
   "metadata": {
    "slideshow": {
     "slide_type": "slide"
    }
   },
   "source": [
    "### IndexError\n",
    "\n",
    "IndexError occurs when you try to access an index that doesn't exist.  You probably think the index does exist, otherwise you wouldn't have an error, so you have to get out of your head and realize Python is trying to tell you that the item you are trying to reference doesn't exist."
   ]
  },
  {
   "cell_type": "code",
   "execution_count": null,
   "metadata": {
    "slideshow": {
     "slide_type": "fragment"
    }
   },
   "outputs": [],
   "source": [
    "my_list = [1, 2, 3]\n",
    "my_list[5]"
   ]
  },
  {
   "cell_type": "code",
   "execution_count": null,
   "metadata": {
    "slideshow": {
     "slide_type": "fragment"
    }
   },
   "outputs": [],
   "source": [
    "# Relatedly, 'KeyError' occurs if you ask for a dictionary key that doesn't exist\n",
    "my_dictionary = {'name1' : 1, 'name2' : 2}\n",
    "my_dictionary['name3']"
   ]
  },
  {
   "cell_type": "markdown",
   "metadata": {
    "slideshow": {
     "slide_type": "slide"
    }
   },
   "source": [
    "### ValueError\n",
    "\n",
    "ValueError occurs when you try to use an illegal value for something."
   ]
  },
  {
   "cell_type": "code",
   "execution_count": null,
   "metadata": {
    "slideshow": {
     "slide_type": "fragment"
    }
   },
   "outputs": [],
   "source": [
    "int('cat')\n",
    "#int('50')"
   ]
  },
  {
   "cell_type": "code",
   "execution_count": null,
   "metadata": {
    "slideshow": {
     "slide_type": "fragment"
    }
   },
   "outputs": [],
   "source": [
    "my_list = [1, 2, 3]\n",
    "my_list.remove(9)\n"
   ]
  },
  {
   "cell_type": "markdown",
   "metadata": {
    "slideshow": {
     "slide_type": "slide"
    }
   },
   "source": [
    "### TypeErrors \n",
    "Type errors occur when you do something illegal to that DataType. "
   ]
  },
  {
   "cell_type": "code",
   "execution_count": null,
   "metadata": {
    "slideshow": {
     "slide_type": "fragment"
    }
   },
   "outputs": [],
   "source": [
    "'a_string' + 12"
   ]
  },
  {
   "cell_type": "markdown",
   "metadata": {},
   "source": [
    "### Key error\n",
    "- You are trying to access an element of a dictionary using a key value that\n",
    "the dictionary does not contain.\n"
   ]
  },
  {
   "cell_type": "code",
   "execution_count": null,
   "metadata": {},
   "outputs": [],
   "source": [
    "dict = {\"yellow\": 4, \"green\": 3, \"elbow\": 9}\n",
    "\n",
    "print(dict['granola'])"
   ]
  },
  {
   "cell_type": "markdown",
   "metadata": {},
   "source": [
    "### AttributeError\n",
    "You are trying to access an attribute or method that does not exist."
   ]
  },
  {
   "cell_type": "code",
   "execution_count": null,
   "metadata": {},
   "outputs": [],
   "source": [
    "brain_region = \"hypothalamus\"\n",
    "brain_region.stain()"
   ]
  },
  {
   "cell_type": "markdown",
   "metadata": {},
   "source": [
    "Here the problem isn't that we're trying to add to a string, it's that we're trying to add a number (in particular, an integer) to a string.  "
   ]
  },
  {
   "cell_type": "markdown",
   "metadata": {},
   "source": [
    "# Finding your errors\n",
    "\n",
    "## Finding an error isn't easy.  Even when Python tells you about your error, sometimes we can spend hours looking for a typo.\n",
    "\n",
    "So how can we do this?"
   ]
  },
  {
   "cell_type": "markdown",
   "metadata": {
    "slideshow": {
     "slide_type": "slide"
    }
   },
   "source": [
    "## Stack Trace\n",
    "\n",
    "A stack trace tells you where the error occured in the code, and traces that back all the way to the root of the problem."
   ]
  },
  {
   "cell_type": "code",
   "execution_count": null,
   "metadata": {
    "scrolled": true,
    "slideshow": {
     "slide_type": "fragment"
    }
   },
   "outputs": [],
   "source": [
    "def running_sums(list):\n",
    "    running_sum = 0\n",
    "    for val in my_list:\n",
    "\n",
    "        if val % 2 == 0:\n",
    "            temp = val / (val - 4)\n",
    "            running_sum += temp\n",
    "    return running_sums()\n",
    "\n",
    "\n",
    "my_list = [1, 2, 3, 4, 5]\n",
    "sums = running_sums(my_list)"
   ]
  },
  {
   "cell_type": "markdown",
   "metadata": {},
   "source": [
    "#### The error message displayed has two parts.  \n",
    "- First, it shows:  \n",
    "`\n",
    "ZeroDivisionError                         Traceback (most recent call last)\n",
    "<ipython-input-4-e2420ca48c2f> in <module>\n",
    "     10 \n",
    "     11 my_list = [1, 2, 3, 4, 5]\n",
    "---> 12 sums = running_sums(my_list)\n",
    "`\n",
    "\n",
    "- It found an error on line 12 where it drew the arrow. `\n",
    "- The code: `sums = running_sums(my_list)` failed to execute\n",
    "\n",
    "#### The traceback goes deeper    \n",
    "<code>\n",
    "&lt;ipython-input-4-e2420ca48c2f> in running_sums(list)\n",
    "      4 \n",
    "      5         if val % 2 == 0:\n",
    "----> 6             temp = val / (val - 4)\n",
    "      7             running_sum += temp\n",
    "      8     return running_sums()\n",
    "\n",
    "ZeroDivisionError: division by zero\n",
    "</code>  \n",
    "\n",
    "Here, Python traces back the error to line 6 of the `running_sums` function.  \n",
    "When we get to the number 4 on the list, 4 -4 = 0, and we are trying to divide by 0.\n",
    "\n",
    "Later, we will learn how to `step through the code` to figure out this type of error."
   ]
  },
  {
   "cell_type": "markdown",
   "metadata": {},
   "source": [
    "# Stepping through code\n",
    "\n",
    "Stepping through the code is going line by line, making sure you see the contents of each variable and how that information flows through the program in order to diagnose an error."
   ]
  },
  {
   "cell_type": "markdown",
   "metadata": {},
   "source": [
    "Here, you could use more advanced coding software that has debugging tools, or you could write some easy `print()` statements into the code to see what's goin on along the way."
   ]
  },
  {
   "cell_type": "markdown",
   "metadata": {},
   "source": [
    "## Stepping through code example\n",
    "\n",
    "Here we'll use the example from Stack Trace to step through our code and figure out how the value 4 is causing a divide-by-zero error."
   ]
  },
  {
   "cell_type": "code",
   "execution_count": null,
   "metadata": {},
   "outputs": [],
   "source": [
    "def running_sums(list):  \n",
    "    running_sum = 0\n",
    "    print(\"Initial value of running_sum: \", running_sum) # Check if the value of running_sum is 0\n",
    "    for val in my_list:\n",
    "\n",
    "        if val % 2 == 0:\n",
    "            temp = val / (val - 4)\n",
    "            running_sum += temp\n",
    "    return running_sums()\n",
    "\n",
    "\n",
    "my_list = [1, 2, 3, 4, 5]\n",
    "sums = running_sums(my_list)"
   ]
  },
  {
   "cell_type": "markdown",
   "metadata": {},
   "source": [
    "Great.  We know that worked. On to the next part."
   ]
  },
  {
   "cell_type": "code",
   "execution_count": null,
   "metadata": {},
   "outputs": [],
   "source": [
    "def running_sums(list):  \n",
    "    running_sum = 0\n",
    "    print(\"Initial value of running_sum: \", running_sum) # Check if the value of running_sum is 0\n",
    "    for val in my_list:\n",
    "        print(\"val: \", val)  # show us the value of val so we can see if that's causing the error\n",
    "        if val % 2 == 0:\n",
    "            temp = val / (val - 4)\n",
    "            running_sum += temp\n",
    "    return running_sums()\n",
    "\n",
    "\n",
    "my_list = [1, 2, 3, 4, 5]\n",
    "sums = running_sums(my_list)"
   ]
  },
  {
   "cell_type": "markdown",
   "metadata": {},
   "source": [
    "Look, the program stopped running when val was 4.  Let's keep going to see why 4 is making it crash."
   ]
  },
  {
   "cell_type": "code",
   "execution_count": null,
   "metadata": {},
   "outputs": [],
   "source": [
    "def running_sums(list):  \n",
    "    running_sum = 0\n",
    "    print(\"Initial value of running_sum: \", running_sum) # Check if the value of running_sum is 0\n",
    "    for val in my_list:\n",
    "        print(\"val: \", val)  # show us the value of val so we can see if that's causing the error\n",
    "        if val % 2 == 0:\n",
    "            temp = val / (val - 4)\n",
    "            print(\"temp: \", temp) # Show us the value of temp\n",
    "            running_sum += temp\n",
    "    return running_sums()\n",
    "\n",
    "\n",
    "my_list = [1, 2, 3, 4, 5]\n",
    "sums = running_sums(my_list)"
   ]
  },
  {
   "cell_type": "markdown",
   "metadata": {},
   "source": [
    "Oh no!  It stopped before we got the value of temp.  That means we need to look at the equation in `temp` to see what's going on.  Remember that the program stopped when `val == 4`.\n",
    "\n",
    "- Break the equation down into parts so you can see what it's doing.\n",
    "- Plug in the value where it stopped working\n",
    "    - in this example that's `4`"
   ]
  },
  {
   "cell_type": "code",
   "execution_count": null,
   "metadata": {},
   "outputs": [],
   "source": [
    "val = 4\n",
    "numerator = val\n",
    "print(\"numerator: \", numerator)\n",
    "denominator = (val - 4)\n",
    "print(\"denominator: \", denominator)"
   ]
  },
  {
   "cell_type": "markdown",
   "metadata": {},
   "source": [
    "### Explanation:\n",
    "When `val = 4`, the denominator becomes: `4 -4 = 0`. When the value is 4, we are trying to divide 4 into zero parts, which is impossible in Python.  This causes the error."
   ]
  },
  {
   "cell_type": "markdown",
   "metadata": {},
   "source": [
    "### Don't forget to clean up!\n",
    "When your're done debugging, make sure you get rid of all of those print statements that you used to debug your program.\n",
    "\n",
    "\n",
    "### Hurray!  \n",
    "\n",
    "We stepped through the code and figured out the error by breaking the code down into it's pieces and seeing what each part does.\n",
    "\n"
   ]
  },
  {
   "cell_type": "markdown",
   "metadata": {},
   "source": [
    "# Programming so the user doesn't see any errors and so errors don't break the program"
   ]
  },
  {
   "cell_type": "markdown",
   "metadata": {
    "slideshow": {
     "slide_type": "slide"
    }
   },
   "source": [
    "## Try / Except\n",
    "In the last example, we figured out that there was a runtime error when the `val==4`.  What if we wanted to continue running our program even if that happens? We can use Try/Except to catch errors, and tell Python to do something else when they happen, instead of exiting the program."
   ]
  },
  {
   "cell_type": "markdown",
   "metadata": {
    "slideshow": {
     "slide_type": "slide"
    }
   },
   "source": [
    "### Try / Except Block"
   ]
  },
  {
   "cell_type": "code",
   "execution_count": null,
   "metadata": {
    "slideshow": {
     "slide_type": "fragment"
    }
   },
   "outputs": [],
   "source": [
    "try:\n",
    "    # Tries to do this code\n",
    "    pass\n",
    "except:\n",
    "    # If there is an error, keep going and do this instead\n",
    "    pass"
   ]
  },
  {
   "cell_type": "markdown",
   "metadata": {
    "slideshow": {
     "slide_type": "slide"
    }
   },
   "source": [
    "### Here is  an example using 'try` / `except`\n",
    "#### We want to get an ID number from the participant"
   ]
  },
  {
   "cell_type": "code",
   "execution_count": null,
   "metadata": {
    "slideshow": {
     "slide_type": "fragment"
    }
   },
   "outputs": [],
   "source": [
    "participant_id = input(\"Please type your participant ID number: \")\n",
    "\n",
    "print('Your Participant ID number is: ', participant_id)"
   ]
  },
  {
   "cell_type": "code",
   "execution_count": null,
   "metadata": {
    "slideshow": {
     "slide_type": "fragment"
    }
   },
   "outputs": [],
   "source": [
    "try:\n",
    "    participant_id = input('Please type your Participant ID number: ') # participant_id is a string\n",
    "    int(participant_id) # try to convert the participant_id into an integer.  It will crash if any of the character(s) in the string are not integers.\n",
    "    print('Your Participant ID number is: ', participant_id)\n",
    "except:\n",
    "    print(\"That's not a valid Participant ID number\")"
   ]
  },
  {
   "cell_type": "markdown",
   "metadata": {
    "slideshow": {
     "slide_type": "slide"
    }
   },
   "source": [
    "#### Try / Except within a While Loop"
   ]
  },
  {
   "cell_type": "code",
   "execution_count": null,
   "metadata": {
    "slideshow": {
     "slide_type": "fragment"
    }
   },
   "outputs": [],
   "source": [
    "ask_for_num = True\n",
    "while ask_for_num:\n",
    "    try:\n",
    "        participant_id = input('Please type your Participant ID number: ') # participant_id is a string\n",
    "        int(participant_id) # try to convert the participant_id into an integer.  It will crash if any of the character(s) in the string are not integers.\n",
    "        ask_for_num = False\n",
    "    except ValueError:\n",
    "        print(\"Oops!  That was not valid participant ID number. Try again!\")\n",
    "        \n",
    "print('Your Participant ID number is: ', participant_id)"
   ]
  },
  {
   "cell_type": "markdown",
   "metadata": {
    "slideshow": {
     "slide_type": "slide"
    }
   },
   "source": [
    "### More Try / Except"
   ]
  },
  {
   "cell_type": "code",
   "execution_count": null,
   "metadata": {
    "slideshow": {
     "slide_type": "fragment"
    }
   },
   "outputs": [],
   "source": [
    "def divide(num1, num2):\n",
    "    return num1 / num2\n",
    "\n",
    "def safe_divide(num1, num2):\n",
    "    \n",
    "    try:\n",
    "        output = num1 / num2\n",
    "    except ZeroDivisionError:\n",
    "        output = \"We can't divide by zero, try again\"\n",
    "    \n",
    "    return output"
   ]
  },
  {
   "cell_type": "code",
   "execution_count": null,
   "metadata": {
    "slideshow": {
     "slide_type": "fragment"
    }
   },
   "outputs": [],
   "source": [
    "print(divide(2, 0))"
   ]
  },
  {
   "cell_type": "code",
   "execution_count": null,
   "metadata": {
    "slideshow": {
     "slide_type": "fragment"
    }
   },
   "outputs": [],
   "source": [
    "print(safe_divide(2, 0))"
   ]
  },
  {
   "cell_type": "markdown",
   "metadata": {
    "slideshow": {
     "slide_type": "slide"
    }
   },
   "source": [
    "## Raising Errors"
   ]
  },
  {
   "cell_type": "markdown",
   "metadata": {
    "slideshow": {
     "slide_type": "fragment"
    }
   },
   "source": [
    "<div class=\"alert alert-success\">\n",
    "You can also write code to raise an Exception if something unexpected happens. This won't fix anything, but it lets you send yourself a message, like displaying the contents of a variable, displaying the count in a loop, or whatever you need to help `step through` the problem.\n",
    "</div>"
   ]
  },
  {
   "cell_type": "markdown",
   "metadata": {
    "slideshow": {
     "slide_type": "slide"
    }
   },
   "source": [
    "### Raise Exception Examples"
   ]
  },
  {
   "cell_type": "code",
   "execution_count": null,
   "metadata": {
    "slideshow": {
     "slide_type": "fragment"
    }
   },
   "outputs": [],
   "source": [
    "my_int = input('An integer please: ')\n",
    "if not my_int.isnumeric():\n",
    "    raise ValueError('I wanted a number! :(')\n",
    "    \n",
    "print('My integer is: ', my_int)"
   ]
  },
  {
   "cell_type": "markdown",
   "metadata": {},
   "source": [
    "## Runtime Errors\n",
    "\n",
    "- Runtime errors are produced by the runtime system if something goes wrong\n",
    "while the program is running. \n",
    "- Most runtime error messages include information about where the error occurred and what functions were\n",
    "executing. \n",
    "- A divide by zero error is a runtime error."
   ]
  },
  {
   "cell_type": "markdown",
   "metadata": {},
   "source": [
    "### Example: \n",
    "- Recursion is a function defined by itself\n",
    "- Infinite recursion is when a recursive function calls itself again and again, going deeper and deeper, an infinite number of times.\n",
    "- An infinite recursion eventually causes a runtime error of maximum recursion depth exceeded.\n",
    "    - `RecursionError: maximum recursion depth exceeded`"
   ]
  },
  {
   "cell_type": "code",
   "execution_count": null,
   "metadata": {},
   "outputs": [],
   "source": [
    "def recurseInfinitely(n):\n",
    "    recurseInfinitely(n+1)\n",
    "\n",
    "recurseInfinitely(0)"
   ]
  },
  {
   "cell_type": "markdown",
   "metadata": {},
   "source": [
    "### Example - Infinite Looop\n",
    "An infinite loop is a loop that goes on forever.  Your program will hang and it won't give any error messages.  You'll have to interrupt it with they stop button in Jupyter Notebooks, or ctrl + c if you're running a python program from the command line."
   ]
  },
  {
   "cell_type": "code",
   "execution_count": null,
   "metadata": {},
   "outputs": [],
   "source": [
    "x = 1\n",
    "y = -1\n",
    "while x > 0 and y < 0:\n",
    "    x += 3\n",
    "    y -= 4"
   ]
  },
  {
   "cell_type": "markdown",
   "metadata": {},
   "source": [
    "To figure out this is happening, you can always print out the values of x and y in the loop and see if x ever gets to be <= 0 or if y ever gets >= 0"
   ]
  },
  {
   "cell_type": "code",
   "execution_count": null,
   "metadata": {},
   "outputs": [],
   "source": [
    "x = 1\n",
    "y = -1\n",
    "while x > 0 and y < 0:\n",
    "    x += 3\n",
    "    print(\"x: \", x)\n",
    "    y -= 4\n",
    "    print(\"y: \", y)"
   ]
  },
  {
   "cell_type": "markdown",
   "metadata": {},
   "source": [
    "## Complex expressions\n",
    "Writing complex expressions is fine as long as they are readable, but they can be hard to debug. It is often a good idea to break a complex expression into a series of assignments to temporary variables.\n",
    "\n",
    "We've already dealt with this once when we were measuring voice pitch."
   ]
  },
  {
   "cell_type": "markdown",
   "metadata": {},
   "source": [
    "We `imported` some libraries and loaded some sounds"
   ]
  },
  {
   "cell_type": "code",
   "execution_count": null,
   "metadata": {},
   "outputs": [],
   "source": [
    "import glob\n",
    "import parselmouth\n",
    "from parselmouth.praat import call\n",
    "wav_file = '/home/david/work/stimuli/sample_sounds/m4195_vowels.wav'"
   ]
  },
  {
   "cell_type": "markdown",
   "metadata": {},
   "source": [
    "Then we wrote some crazy expression that was super hard to understand, and I told you how good it was to write expressions like that."
   ]
  },
  {
   "cell_type": "code",
   "execution_count": null,
   "metadata": {},
   "outputs": [],
   "source": [
    "print(call(parselmouth.Sound(wav_file).to_pitch(), \"Get mean\", 0, 0, \"Hertz\"))"
   ]
  },
  {
   "cell_type": "markdown",
   "metadata": {},
   "source": [
    "But then I showed you how to break it down into pieces to understand what's happening."
   ]
  },
  {
   "cell_type": "markdown",
   "metadata": {},
   "source": [
    "We loaded a sound"
   ]
  },
  {
   "cell_type": "code",
   "execution_count": null,
   "metadata": {},
   "outputs": [],
   "source": [
    "sound = parselmouth.Sound(wav_file)"
   ]
  },
  {
   "cell_type": "markdown",
   "metadata": {},
   "source": [
    "We measured the pitch of the sound"
   ]
  },
  {
   "cell_type": "code",
   "execution_count": null,
   "metadata": {},
   "outputs": [],
   "source": [
    "pitch = call(sound, \"To Pitch\", 0.0, 60, 500)"
   ]
  },
  {
   "cell_type": "markdown",
   "metadata": {},
   "source": [
    "We calculated the mean pitch"
   ]
  },
  {
   "cell_type": "code",
   "execution_count": null,
   "metadata": {},
   "outputs": [],
   "source": [
    "mean_pitch = call(pitch, \"Get mean\", 0, 0, \"Hertz\")"
   ]
  },
  {
   "cell_type": "markdown",
   "metadata": {},
   "source": [
    "Then we printed the result"
   ]
  },
  {
   "cell_type": "code",
   "execution_count": null,
   "metadata": {},
   "outputs": [],
   "source": [
    "print(mean_pitcn)"
   ]
  },
  {
   "cell_type": "markdown",
   "metadata": {},
   "source": [
    "You can always re-write complicated expressions as individual operations.  That will help you understand what the expression does, and to fix any errors that are occuring when using it."
   ]
  },
  {
   "cell_type": "markdown",
   "metadata": {},
   "source": [
    "## Order of operations\n",
    "\n",
    "Remember that all else equal, expressions are evaluated left to right.  Therefore it's important to use parentheses to block your equations and make sure they evaluate properly so you don't get math errors.\n",
    "\n",
    "- Python uses PEMDAS is \n",
    "    - `P`arentheses\n",
    "    - `E`xponents\n",
    "    - `M`ultiplication and `D`ivision\n",
    "        - Multiplication and division have the same precedence\n",
    "        - The leftmost goes first\n",
    "    - `A`ddition and `S`ubtractraction\n",
    "        - Addition and subtraction have the same precedence\n",
    "        - The leftmost goes first \n",
    "\n",
    "You can always break the equation down into pieces to help understand what's going on, like we did in the divide by zero example.\n",
    "\n",
    "\n",
    "\n",
    "<div class=\"section\" id=\"no-i-really-need-help\">\n",
    "<h2>No, I really need help.<a class=\"headerlink\" href=\"#no-i-really-need-help\" title=\"Permalink to this headline\">¶</a></h2>\n",
    "<p>It happens. Even the best programmers occasionally get stuck.  Sometimes you\n",
    "work on a program so long that you can&#8217;t see the error.  A fresh pair of eyes\n",
    "is just the thing.</p>\n",
    "<p>Before you bring someone else in, make sure you have exhausted the techniques\n",
    "described here. Your program should be as simple as possible, and you should be\n",
    "working on the smallest input that causes the error. You should have <tt class=\"docutils literal\"><span class=\"pre\">print</span></tt>\n",
    "statements in the appropriate places (and the output they produce should be\n",
    "comprehensible). You should understand the problem well enough to describe it\n",
    "concisely.</p>\n",
    "<p>When you bring someone in to help, be sure to give them the information they\n",
    "need:</p>\n",
    "<ol class=\"arabic simple\">\n",
    "<li>If there is an error message, what is it and what part of the program does\n",
    "it indicate?</li>\n",
    "<li>What was the last thing you did before this error occurred? What were the\n",
    "last lines of code that you wrote, or what is the new test case that fails?</li>\n",
    "<li>What have you tried so far, and what have you learned?</li>\n",
    "</ol>\n",
    "<p>When you find the bug, take a second to think about what you could have done to\n",
    "find it faster. Next time you see something similar, you will be able to find\n",
    "the bug more quickly.</p>\n",
    "<p>Remember, the goal is not just to make the program work. The goal is to learn\n",
    "how to make the program work.</p>\n",
    "</div>\n",
    "</div>\n",
    "\n",
    "\n",
    "\n"
   ]
  },
  {
   "cell_type": "markdown",
   "metadata": {},
   "source": [
    "additional source: http://www.openbookproject.net/thinkcs/python/english2e/app_a.html"
   ]
  },
  {
   "cell_type": "markdown",
   "metadata": {},
   "source": [
    "# What to do if doing print statments and stepping through doesn't work and you can't run your program?"
   ]
  },
  {
   "cell_type": "markdown",
   "metadata": {},
   "source": [
    "- Start from scratch \n",
    "    - Add each piece of code line by line\n",
    "- When writing loops, make sure the code inside a loop works before wrapping it in a loop\n",
    "- When writing functions make sure the:\n",
    "    - code inside the function works\n",
    "    - inputs into the function are correct\n",
    "    - the code executing function is correct\n",
    "    - you are properly dealing with the function output\n",
    "- Is there something that isn't happening that is supposed to happen?\n",
    "   - Figure out if something is\n",
    "       - missing\n",
    "       - called incorrectly (e.g. typos, name errors)\n",
    "       - misplaced\n",
    "- Is something that is happening that shouldn't happen?\n",
    "    - Is something in the wrong place in a loop\n",
    "    - Are you in the correct namespace\n",
    "    - Are you using the function correctly\n",
    "    - Is the function written correctly?"
   ]
  },
  {
   "cell_type": "markdown",
   "metadata": {},
   "source": [
    "# What if that doesn't work and I still can't figure it out?"
   ]
  },
  {
   "cell_type": "markdown",
   "metadata": {},
   "source": [
    "## Take a break \n",
    "\n",
    "- If you are frustrated or angry\n",
    "- If you believe your computer is out to get you\n",
    "- If you can't get it no matter what you do\n",
    "\n",
    "## Break out of a mental loop\n",
    "\n",
    "It's okay to put it down and try again tomorrow.  Chances are you'll think of the solution just before you go to sleep, or when you wake up.  Your mind might just need some time to get out of a loop."
   ]
  },
  {
   "cell_type": "markdown",
   "metadata": {},
   "source": [
    "## Ask a friend or classmate\n"
   ]
  },
  {
   "cell_type": "markdown",
   "metadata": {},
   "source": [
    "## Ask your Instructors\n",
    "We probably know the answers to the exercises we assigned.  Don't be afraid to ask us for help. You can always ask Dr. Feinberg for help coding, even if it's not for this class. "
   ]
  },
  {
   "cell_type": "markdown",
   "metadata": {},
   "source": [
    "## Googling the problem\n",
    "\n",
    "It's totally legit to search the web for your problem.  Here are some things that are useful:\n",
    "- Type your problem, or copy and paste your error message into google \n",
    "    - Type `Python` when you do this to make sure you get help for Python and not some other programming language\n",
    "    - The more you do this, the more google learns what you're doing, and the better your search results become\n",
    "- Search for YouTube videos\n",
    "- Ask for help on <a href = \"https://stackoverflow.com\">Stack Overflow</a> or Reddit's <a href = \"https://reddit.com/r/learnpython\">/r/learnpython</a>\n",
    "    - These are sites where you can post your code, and people will try it out, figure out the problem, and help you learn how to fix it.\n",
    "    - Read the code that you see.  Retype it. Internalize it. Don't just copy and paste the answers.\n",
    "    - You might get an exercise correct in class, but you won't learn anything.\n",
    "- It's going to take some time getting used to understanding other people's errors and how they apply to you. Keep on trying and the more you code, and the more errors you look up, the more you'll learn and the easier it will get."
   ]
  },
  {
   "cell_type": "code",
   "execution_count": null,
   "metadata": {},
   "outputs": [],
   "source": []
  }
 ],
 "metadata": {
  "kernelspec": {
   "display_name": "Python 3",
   "language": "python",
   "name": "python3"
  },
  "language_info": {
   "codemirror_mode": {
    "name": "ipython",
    "version": 3
   },
   "file_extension": ".py",
   "mimetype": "text/x-python",
   "name": "python",
   "nbconvert_exporter": "python",
   "pygments_lexer": "ipython3",
   "version": "3.7.3"
  },
  "toc": {
   "base_numbering": 1,
   "nav_menu": {},
   "number_sections": false,
   "sideBar": false,
   "skip_h1_title": false,
   "title_cell": "Table of Contents",
   "title_sidebar": "Contents",
   "toc_cell": false,
   "toc_position": {},
   "toc_section_display": false,
   "toc_window_display": false
  }
 },
 "nbformat": 4,
 "nbformat_minor": 2
}
