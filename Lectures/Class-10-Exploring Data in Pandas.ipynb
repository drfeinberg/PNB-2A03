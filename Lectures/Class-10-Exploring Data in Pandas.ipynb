{
 "cells": [
  {
   "cell_type": "markdown",
   "metadata": {},
   "source": [
    "# Data Wrangling"
   ]
  },
  {
   "cell_type": "markdown",
   "metadata": {},
   "source": [
    "# Simulate data for stroop experiment"
   ]
  },
  {
   "cell_type": "markdown",
   "metadata": {},
   "source": [
    "## We need to simulate:\n",
    "- participant ID's\n",
    "- reaction times\n",
    "- responses\n",
    "    - calculate whether or not the responses are correct"
   ]
  },
  {
   "cell_type": "markdown",
   "metadata": {},
   "source": [
    "## Simulates binary responses.  \n",
    "- Numpy stands for \"number Python\" and deals well with the complex math we use in science\n",
    "- We are taking random choice from the list `[\"incorrect\", \"correct\"]`\n",
    "- There is a sample size of 50, meaning we take a random choice 50 times\n",
    "- We give it a probability `p` which is specified using Python's fraction notation.  Note that the correct and incorrect probabilities are out of 1, but could have been specified differently\n",
    "- We'll have more corrects than incorrects in the congruent condition, so we swap the fractions in congrent and incongruent in order to simulate that\n",
    "    - I'm just picking numbers here, there's nothing concrete about these fractions\n",
    "    - I picked 1/4 and 3/4 because they are easy"
   ]
  },
  {
   "cell_type": "code",
   "execution_count": 2,
   "metadata": {},
   "outputs": [],
   "source": [
    "import numpy as np\n",
    "congruent_responses = np.random.choice([\"incorrect\", \"correct\"], size=(50,), p=[1./4, 3./4])\n",
    "incongruent_responses = np.random.choice([\"incorrect\", \"correct\"], size=(50,), p=[3./4, 1./4])"
   ]
  },
  {
   "cell_type": "markdown",
   "metadata": {},
   "source": [
    "#### Check our data"
   ]
  },
  {
   "cell_type": "code",
   "execution_count": 3,
   "metadata": {},
   "outputs": [
    {
     "name": "stdout",
     "output_type": "stream",
     "text": [
      "congruent ['incorrect' 'correct' 'correct' 'incorrect' 'incorrect' 'incorrect'\n",
      " 'correct' 'incorrect' 'incorrect' 'incorrect' 'incorrect' 'correct'\n",
      " 'correct' 'correct' 'correct' 'incorrect' 'correct' 'correct' 'correct'\n",
      " 'correct' 'correct' 'correct' 'correct' 'incorrect' 'incorrect' 'correct'\n",
      " 'incorrect' 'correct' 'correct' 'incorrect' 'correct' 'correct' 'correct'\n",
      " 'correct' 'incorrect' 'correct' 'correct' 'correct' 'correct' 'correct'\n",
      " 'correct' 'incorrect' 'correct' 'incorrect' 'correct' 'correct' 'correct'\n",
      " 'correct' 'incorrect' 'incorrect']\n",
      "incongruent ['incorrect' 'incorrect' 'incorrect' 'correct' 'incorrect' 'incorrect'\n",
      " 'incorrect' 'incorrect' 'correct' 'incorrect' 'incorrect' 'incorrect'\n",
      " 'incorrect' 'correct' 'incorrect' 'incorrect' 'incorrect' 'incorrect'\n",
      " 'incorrect' 'incorrect' 'incorrect' 'incorrect' 'incorrect' 'incorrect'\n",
      " 'incorrect' 'incorrect' 'correct' 'incorrect' 'correct' 'incorrect'\n",
      " 'incorrect' 'incorrect' 'correct' 'incorrect' 'incorrect' 'incorrect'\n",
      " 'correct' 'incorrect' 'correct' 'correct' 'incorrect' 'incorrect'\n",
      " 'incorrect' 'incorrect' 'incorrect' 'incorrect' 'correct' 'incorrect'\n",
      " 'incorrect' 'incorrect']\n"
     ]
    }
   ],
   "source": [
    "print(\"congruent\", congruent_responses)\n",
    "print(\"incongruent\", incongruent_responses)"
   ]
  },
  {
   "cell_type": "markdown",
   "metadata": {},
   "source": [
    "## Simulate reaction time data\n",
    "\n",
    "The `random.triangular` function generates normally distributed random numbers in a range betwen `a` and `b` with a mode of `x`. "
   ]
  },
  {
   "cell_type": "code",
   "execution_count": 4,
   "metadata": {},
   "outputs": [],
   "source": [
    "import random\n",
    "\n",
    "a = 0.5 # lowest possible reaction time\n",
    "b = 6 # highest possible reaction time\n",
    "reaction_time_incongruent = []\n",
    "reaction_time_congruent = []\n",
    "for i in range(50):\n",
    "    x = 4 # mode of reaction time\n",
    "    reaction_time_incongruent.append(random.triangular(a, b, 3*x - a - b))\n",
    "    x = 3 # mode of reaction time\n",
    "    reaction_time_congruent.append(random.triangular(a, b, 3*x - a - b))"
   ]
  },
  {
   "cell_type": "markdown",
   "metadata": {},
   "source": [
    "## Put all the data together into a nice looking list\n",
    "We can make a list of tuples by using the `zip()` function, and feeding that output into a list.  The `zip()` function goes through the specified lists and makes tuples out of corresponding values for each item on the list"
   ]
  },
  {
   "cell_type": "code",
   "execution_count": 5,
   "metadata": {},
   "outputs": [
    {
     "data": {
      "text/plain": [
       "[('incorrect', 'incorrect', 1.8662872363442375, 2.7434607160382334),\n",
       " ('correct', 'incorrect', 4.937513294652324, 4.393710227170056),\n",
       " ('correct', 'incorrect', 2.726114425018164, 2.478732002592217),\n",
       " ('incorrect', 'correct', 5.822324037411727, 3.2498999865920415),\n",
       " ('incorrect', 'incorrect', 3.456126831537752, 1.4383971977628995),\n",
       " ('incorrect', 'incorrect', 0.9833217085487104, 2.221493843943046),\n",
       " ('correct', 'incorrect', 3.586901012463611, 2.848707916680223),\n",
       " ('incorrect', 'incorrect', 2.023182032587675, 3.1118160732974216),\n",
       " ('incorrect', 'correct', 5.11754940918394, 1.7012309069137597),\n",
       " ('incorrect', 'incorrect', 2.6016213909586487, 3.927305148308429),\n",
       " ('incorrect', 'incorrect', 5.744051567059915, 2.1889469997444797),\n",
       " ('correct', 'incorrect', 1.1579671591566805, 2.568124067714722),\n",
       " ('correct', 'incorrect', 4.082233250513543, 3.304023478265753),\n",
       " ('correct', 'correct', 4.543800134368167, 3.2060029305861732),\n",
       " ('correct', 'incorrect', 4.869982702142824, 4.91210950587012),\n",
       " ('incorrect', 'incorrect', 2.870747418571452, 2.909889990607925),\n",
       " ('correct', 'incorrect', 4.222173348393142, 2.7945088087384327),\n",
       " ('correct', 'incorrect', 4.742181672909123, 4.606959909238141),\n",
       " ('correct', 'incorrect', 4.289558466907518, 4.02731050284225),\n",
       " ('correct', 'incorrect', 4.685084183631177, 3.9639981748540563),\n",
       " ('correct', 'incorrect', 5.231506634392393, 3.5185492855278877),\n",
       " ('correct', 'incorrect', 4.422678951902819, 1.8066552705463401),\n",
       " ('correct', 'incorrect', 5.00194390824178, 4.2720723459357846),\n",
       " ('incorrect', 'incorrect', 3.3799110418031195, 1.9713407253283053),\n",
       " ('incorrect', 'incorrect', 4.233762191519318, 2.985002429527523),\n",
       " ('correct', 'incorrect', 5.416783422205677, 1.765021403582717),\n",
       " ('incorrect', 'correct', 5.75835512799116, 5.417641645241872),\n",
       " ('correct', 'incorrect', 3.3300043932928043, 3.947303185056584),\n",
       " ('correct', 'correct', 2.5128795505038406, 2.6481553916376477),\n",
       " ('incorrect', 'incorrect', 5.717392020045784, 3.5292193064429074),\n",
       " ('correct', 'incorrect', 5.663256276055189, 4.750531690766296),\n",
       " ('correct', 'incorrect', 3.792190593253293, 4.684272683933591),\n",
       " ('correct', 'correct', 5.4191292597117044, 2.1135481943385948),\n",
       " ('correct', 'incorrect', 5.008910156681448, 2.727330047268725),\n",
       " ('incorrect', 'incorrect', 4.069094556539868, 3.2903118516313556),\n",
       " ('correct', 'incorrect', 3.3526764533787854, 2.858146538573583),\n",
       " ('correct', 'correct', 5.481397368855071, 2.1538234820553512),\n",
       " ('correct', 'incorrect', 1.6081180188208832, 3.9425331262512513),\n",
       " ('correct', 'correct', 5.492360803846742, 3.0020611227163374),\n",
       " ('correct', 'correct', 1.6017837962512123, 3.6678930823994786),\n",
       " ('correct', 'incorrect', 4.921673566248443, 4.526225020199351),\n",
       " ('incorrect', 'incorrect', 3.319002808488273, 3.3355531783520114),\n",
       " ('correct', 'incorrect', 5.272985657471469, 3.759445744430149),\n",
       " ('incorrect', 'incorrect', 2.500585498430879, 3.1334854653304545),\n",
       " ('correct', 'incorrect', 4.462223346037107, 3.118933717182574),\n",
       " ('correct', 'incorrect', 5.5133602409876925, 0.9943828740724006),\n",
       " ('correct', 'correct', 2.572992189555968, 2.644987129584929),\n",
       " ('correct', 'incorrect', 3.9239998931639533, 1.2314179477294966),\n",
       " ('incorrect', 'incorrect', 5.512098562148924, 2.5266319169658487),\n",
       " ('incorrect', 'incorrect', 4.998508161399467, 3.1041699577837973)]"
      ]
     },
     "execution_count": 5,
     "metadata": {},
     "output_type": "execute_result"
    }
   ],
   "source": [
    "data_tuples = list(zip(congruent_responses, incongruent_responses, reaction_time_incongruent, reaction_time_congruent))\n",
    "data_tuples"
   ]
  },
  {
   "cell_type": "markdown",
   "metadata": {},
   "source": [
    "# Pandas DataFrame\n",
    "A Pandas DataFrame is a Python Object that holds a set of data like a spreadsheet."
   ]
  },
  {
   "cell_type": "code",
   "execution_count": 6,
   "metadata": {},
   "outputs": [],
   "source": [
    "import pandas as pd  # it is custom to shorten pandas to pd because we'll be typing it a log\n",
    "df = pd.DataFrame(data_tuples)  # called the dataframe df, but you can use any name you want... it's a Python object."
   ]
  },
  {
   "cell_type": "markdown",
   "metadata": {},
   "source": [
    "## Viewing the data"
   ]
  },
  {
   "cell_type": "markdown",
   "metadata": {},
   "source": [
    "You can view the whole DataFrame by typing `df` as usual.  But, perhaps your dataset is large and you just want to get a sense of how it's looking.  For that we can use the `head()` method call on our dataframe.  By default it shows the first 5 rows, or you can specify the number of rows you want to see."
   ]
  },
  {
   "cell_type": "code",
   "execution_count": 7,
   "metadata": {},
   "outputs": [
    {
     "data": {
      "text/html": [
       "<div>\n",
       "<style scoped>\n",
       "    .dataframe tbody tr th:only-of-type {\n",
       "        vertical-align: middle;\n",
       "    }\n",
       "\n",
       "    .dataframe tbody tr th {\n",
       "        vertical-align: top;\n",
       "    }\n",
       "\n",
       "    .dataframe thead th {\n",
       "        text-align: right;\n",
       "    }\n",
       "</style>\n",
       "<table border=\"1\" class=\"dataframe\">\n",
       "  <thead>\n",
       "    <tr style=\"text-align: right;\">\n",
       "      <th></th>\n",
       "      <th>0</th>\n",
       "      <th>1</th>\n",
       "      <th>2</th>\n",
       "      <th>3</th>\n",
       "    </tr>\n",
       "  </thead>\n",
       "  <tbody>\n",
       "    <tr>\n",
       "      <th>0</th>\n",
       "      <td>incorrect</td>\n",
       "      <td>incorrect</td>\n",
       "      <td>1.866287</td>\n",
       "      <td>2.743461</td>\n",
       "    </tr>\n",
       "    <tr>\n",
       "      <th>1</th>\n",
       "      <td>correct</td>\n",
       "      <td>incorrect</td>\n",
       "      <td>4.937513</td>\n",
       "      <td>4.393710</td>\n",
       "    </tr>\n",
       "    <tr>\n",
       "      <th>2</th>\n",
       "      <td>correct</td>\n",
       "      <td>incorrect</td>\n",
       "      <td>2.726114</td>\n",
       "      <td>2.478732</td>\n",
       "    </tr>\n",
       "    <tr>\n",
       "      <th>3</th>\n",
       "      <td>incorrect</td>\n",
       "      <td>correct</td>\n",
       "      <td>5.822324</td>\n",
       "      <td>3.249900</td>\n",
       "    </tr>\n",
       "    <tr>\n",
       "      <th>4</th>\n",
       "      <td>incorrect</td>\n",
       "      <td>incorrect</td>\n",
       "      <td>3.456127</td>\n",
       "      <td>1.438397</td>\n",
       "    </tr>\n",
       "  </tbody>\n",
       "</table>\n",
       "</div>"
      ],
      "text/plain": [
       "           0          1         2         3\n",
       "0  incorrect  incorrect  1.866287  2.743461\n",
       "1    correct  incorrect  4.937513  4.393710\n",
       "2    correct  incorrect  2.726114  2.478732\n",
       "3  incorrect    correct  5.822324  3.249900\n",
       "4  incorrect  incorrect  3.456127  1.438397"
      ]
     },
     "execution_count": 7,
     "metadata": {},
     "output_type": "execute_result"
    }
   ],
   "source": [
    "df.head()"
   ]
  },
  {
   "cell_type": "markdown",
   "metadata": {},
   "source": [
    "## Column names"
   ]
  },
  {
   "cell_type": "code",
   "execution_count": 8,
   "metadata": {},
   "outputs": [],
   "source": [
    "df.columns = [\"Incongruent Response\", \"Congruent Response\", \"Incongruent RT\", \"Congruent RT\"]"
   ]
  },
  {
   "cell_type": "code",
   "execution_count": 9,
   "metadata": {},
   "outputs": [
    {
     "data": {
      "text/html": [
       "<div>\n",
       "<style scoped>\n",
       "    .dataframe tbody tr th:only-of-type {\n",
       "        vertical-align: middle;\n",
       "    }\n",
       "\n",
       "    .dataframe tbody tr th {\n",
       "        vertical-align: top;\n",
       "    }\n",
       "\n",
       "    .dataframe thead th {\n",
       "        text-align: right;\n",
       "    }\n",
       "</style>\n",
       "<table border=\"1\" class=\"dataframe\">\n",
       "  <thead>\n",
       "    <tr style=\"text-align: right;\">\n",
       "      <th></th>\n",
       "      <th>Incongruent Response</th>\n",
       "      <th>Congruent Response</th>\n",
       "      <th>Incongruent RT</th>\n",
       "      <th>Congruent RT</th>\n",
       "    </tr>\n",
       "  </thead>\n",
       "  <tbody>\n",
       "    <tr>\n",
       "      <th>0</th>\n",
       "      <td>incorrect</td>\n",
       "      <td>incorrect</td>\n",
       "      <td>1.866287</td>\n",
       "      <td>2.743461</td>\n",
       "    </tr>\n",
       "    <tr>\n",
       "      <th>1</th>\n",
       "      <td>correct</td>\n",
       "      <td>incorrect</td>\n",
       "      <td>4.937513</td>\n",
       "      <td>4.393710</td>\n",
       "    </tr>\n",
       "  </tbody>\n",
       "</table>\n",
       "</div>"
      ],
      "text/plain": [
       "  Incongruent Response Congruent Response  Incongruent RT  Congruent RT\n",
       "0            incorrect          incorrect        1.866287      2.743461\n",
       "1              correct          incorrect        4.937513      4.393710"
      ]
     },
     "execution_count": 9,
     "metadata": {},
     "output_type": "execute_result"
    }
   ],
   "source": [
    "df.head(2)"
   ]
  },
  {
   "cell_type": "markdown",
   "metadata": {},
   "source": [
    "df.columns holds the column names, so you can print them if you want to see them"
   ]
  },
  {
   "cell_type": "code",
   "execution_count": 10,
   "metadata": {},
   "outputs": [
    {
     "name": "stdout",
     "output_type": "stream",
     "text": [
      "Incongruent Response\n",
      "Congruent Response\n",
      "Incongruent RT\n",
      "Congruent RT\n"
     ]
    }
   ],
   "source": [
    "for col in df.columns: \n",
    "    print(col)"
   ]
  },
  {
   "cell_type": "markdown",
   "metadata": {},
   "source": [
    "## Indexing data"
   ]
  },
  {
   "cell_type": "markdown",
   "metadata": {},
   "source": [
    "### `iloc`"
   ]
  },
  {
   "cell_type": "markdown",
   "metadata": {},
   "source": [
    "Here we use `iloc` to index our data by it's location, just like you would do in excel... In excel, you would find, for example, cell `A5`.  In Pandas, we do `df.ix[4,0]`.  Don't forget we start counting from 0 in Python, so the 5th row is 4, and the 1st column is 0."
   ]
  },
  {
   "cell_type": "code",
   "execution_count": 11,
   "metadata": {},
   "outputs": [
    {
     "data": {
      "text/plain": [
       "'incorrect'"
      ]
     },
     "execution_count": 11,
     "metadata": {},
     "output_type": "execute_result"
    }
   ],
   "source": [
    "df.iloc[4,0]"
   ]
  },
  {
   "cell_type": "markdown",
   "metadata": {},
   "source": [
    "### `loc`"
   ]
  },
  {
   "cell_type": "markdown",
   "metadata": {},
   "source": [
    "Here we use `loc` to index our data by it's nameDon't forget we start counting from 0 in Python, so the 8th row is 7, and the 1st column is 'Incongruent Response."
   ]
  },
  {
   "cell_type": "code",
   "execution_count": 12,
   "metadata": {},
   "outputs": [
    {
     "data": {
      "text/plain": [
       "'incorrect'"
      ]
     },
     "execution_count": 12,
     "metadata": {},
     "output_type": "execute_result"
    }
   ],
   "source": [
    "df.loc[7,'Incongruent Response']"
   ]
  },
  {
   "cell_type": "markdown",
   "metadata": {},
   "source": [
    "## `index`\n",
    "\n",
    "In both cases above, we used the `index` or, what we thought was the row number to find our cells.  Pandas created our index for us, and we just pretended it was the row number.  We could have used another column.\n",
    "If you don't have an index but want one, or if you want to chage the index, you can use the method `.set_index()`"
   ]
  },
  {
   "cell_type": "markdown",
   "metadata": {},
   "source": [
    "## Selecting Data\n",
    "\n",
    "You can select data by calling the dataframe, and instead of putting the name of one column, you put in a list of column names that you want.  I'm applying the `head()` method here just to keep the output short.  It's not a part of the selection command."
   ]
  },
  {
   "cell_type": "code",
   "execution_count": 16,
   "metadata": {},
   "outputs": [
    {
     "data": {
      "text/html": [
       "<div>\n",
       "<style scoped>\n",
       "    .dataframe tbody tr th:only-of-type {\n",
       "        vertical-align: middle;\n",
       "    }\n",
       "\n",
       "    .dataframe tbody tr th {\n",
       "        vertical-align: top;\n",
       "    }\n",
       "\n",
       "    .dataframe thead th {\n",
       "        text-align: right;\n",
       "    }\n",
       "</style>\n",
       "<table border=\"1\" class=\"dataframe\">\n",
       "  <thead>\n",
       "    <tr style=\"text-align: right;\">\n",
       "      <th></th>\n",
       "      <th>Incongruent RT</th>\n",
       "      <th>Congruent RT</th>\n",
       "    </tr>\n",
       "  </thead>\n",
       "  <tbody>\n",
       "    <tr>\n",
       "      <th>0</th>\n",
       "      <td>1.866287</td>\n",
       "      <td>2.743461</td>\n",
       "    </tr>\n",
       "    <tr>\n",
       "      <th>1</th>\n",
       "      <td>4.937513</td>\n",
       "      <td>4.393710</td>\n",
       "    </tr>\n",
       "    <tr>\n",
       "      <th>2</th>\n",
       "      <td>2.726114</td>\n",
       "      <td>2.478732</td>\n",
       "    </tr>\n",
       "    <tr>\n",
       "      <th>3</th>\n",
       "      <td>5.822324</td>\n",
       "      <td>3.249900</td>\n",
       "    </tr>\n",
       "    <tr>\n",
       "      <th>4</th>\n",
       "      <td>3.456127</td>\n",
       "      <td>1.438397</td>\n",
       "    </tr>\n",
       "  </tbody>\n",
       "</table>\n",
       "</div>"
      ],
      "text/plain": [
       "   Incongruent RT  Congruent RT\n",
       "0        1.866287      2.743461\n",
       "1        4.937513      4.393710\n",
       "2        2.726114      2.478732\n",
       "3        5.822324      3.249900\n",
       "4        3.456127      1.438397"
      ]
     },
     "execution_count": 16,
     "metadata": {},
     "output_type": "execute_result"
    }
   ],
   "source": [
    "df[['Incongruent RT', 'Congruent RT']].head()"
   ]
  },
  {
   "cell_type": "markdown",
   "metadata": {},
   "source": [
    "### Selecting data by condition\n",
    "You can use expressions to select data that match a number or satisfy an equation. "
   ]
  },
  {
   "cell_type": "code",
   "execution_count": 15,
   "metadata": {},
   "outputs": [
    {
     "data": {
      "text/html": [
       "<div>\n",
       "<style scoped>\n",
       "    .dataframe tbody tr th:only-of-type {\n",
       "        vertical-align: middle;\n",
       "    }\n",
       "\n",
       "    .dataframe tbody tr th {\n",
       "        vertical-align: top;\n",
       "    }\n",
       "\n",
       "    .dataframe thead th {\n",
       "        text-align: right;\n",
       "    }\n",
       "</style>\n",
       "<table border=\"1\" class=\"dataframe\">\n",
       "  <thead>\n",
       "    <tr style=\"text-align: right;\">\n",
       "      <th></th>\n",
       "      <th>Incongruent Response</th>\n",
       "      <th>Congruent Response</th>\n",
       "      <th>Incongruent RT</th>\n",
       "      <th>Congruent RT</th>\n",
       "    </tr>\n",
       "  </thead>\n",
       "  <tbody>\n",
       "    <tr>\n",
       "      <th>1</th>\n",
       "      <td>correct</td>\n",
       "      <td>incorrect</td>\n",
       "      <td>4.937513</td>\n",
       "      <td>4.393710</td>\n",
       "    </tr>\n",
       "    <tr>\n",
       "      <th>2</th>\n",
       "      <td>correct</td>\n",
       "      <td>incorrect</td>\n",
       "      <td>2.726114</td>\n",
       "      <td>2.478732</td>\n",
       "    </tr>\n",
       "    <tr>\n",
       "      <th>6</th>\n",
       "      <td>correct</td>\n",
       "      <td>incorrect</td>\n",
       "      <td>3.586901</td>\n",
       "      <td>2.848708</td>\n",
       "    </tr>\n",
       "    <tr>\n",
       "      <th>11</th>\n",
       "      <td>correct</td>\n",
       "      <td>incorrect</td>\n",
       "      <td>1.157967</td>\n",
       "      <td>2.568124</td>\n",
       "    </tr>\n",
       "    <tr>\n",
       "      <th>12</th>\n",
       "      <td>correct</td>\n",
       "      <td>incorrect</td>\n",
       "      <td>4.082233</td>\n",
       "      <td>3.304023</td>\n",
       "    </tr>\n",
       "  </tbody>\n",
       "</table>\n",
       "</div>"
      ],
      "text/plain": [
       "   Incongruent Response Congruent Response  Incongruent RT  Congruent RT\n",
       "1               correct          incorrect        4.937513      4.393710\n",
       "2               correct          incorrect        2.726114      2.478732\n",
       "6               correct          incorrect        3.586901      2.848708\n",
       "11              correct          incorrect        1.157967      2.568124\n",
       "12              correct          incorrect        4.082233      3.304023"
      ]
     },
     "execution_count": 15,
     "metadata": {},
     "output_type": "execute_result"
    }
   ],
   "source": [
    "df[df[\"Incongruent Response\"] == \"correct\"].head()"
   ]
  },
  {
   "cell_type": "markdown",
   "metadata": {},
   "source": [
    "## Subsetting data"
   ]
  },
  {
   "cell_type": "markdown",
   "metadata": {},
   "source": [
    "### Subsetting by row"
   ]
  },
  {
   "cell_type": "code",
   "execution_count": 106,
   "metadata": {},
   "outputs": [
    {
     "data": {
      "text/html": [
       "<div>\n",
       "<style scoped>\n",
       "    .dataframe tbody tr th:only-of-type {\n",
       "        vertical-align: middle;\n",
       "    }\n",
       "\n",
       "    .dataframe tbody tr th {\n",
       "        vertical-align: top;\n",
       "    }\n",
       "\n",
       "    .dataframe thead th {\n",
       "        text-align: right;\n",
       "    }\n",
       "</style>\n",
       "<table border=\"1\" class=\"dataframe\">\n",
       "  <thead>\n",
       "    <tr style=\"text-align: right;\">\n",
       "      <th></th>\n",
       "      <th>Incongruent Response</th>\n",
       "      <th>Congruent Response</th>\n",
       "      <th>Incongruent RT</th>\n",
       "      <th>Congruent RT</th>\n",
       "      <th>Log of Incongruent RT</th>\n",
       "      <th>Log of congruent RT</th>\n",
       "    </tr>\n",
       "  </thead>\n",
       "  <tbody>\n",
       "    <tr>\n",
       "      <th>0</th>\n",
       "      <td>correct</td>\n",
       "      <td>incorrect</td>\n",
       "      <td>5.316297</td>\n",
       "      <td>5.075958</td>\n",
       "      <td>1.670777</td>\n",
       "      <td>1.624515</td>\n",
       "    </tr>\n",
       "    <tr>\n",
       "      <th>1</th>\n",
       "      <td>incorrect</td>\n",
       "      <td>incorrect</td>\n",
       "      <td>4.693978</td>\n",
       "      <td>3.285078</td>\n",
       "      <td>1.546280</td>\n",
       "      <td>1.189390</td>\n",
       "    </tr>\n",
       "    <tr>\n",
       "      <th>2</th>\n",
       "      <td>correct</td>\n",
       "      <td>incorrect</td>\n",
       "      <td>4.346245</td>\n",
       "      <td>1.668717</td>\n",
       "      <td>1.469312</td>\n",
       "      <td>0.512055</td>\n",
       "    </tr>\n",
       "  </tbody>\n",
       "</table>\n",
       "</div>"
      ],
      "text/plain": [
       "  Incongruent Response Congruent Response  Incongruent RT  Congruent RT  \\\n",
       "0              correct          incorrect        5.316297      5.075958   \n",
       "1            incorrect          incorrect        4.693978      3.285078   \n",
       "2              correct          incorrect        4.346245      1.668717   \n",
       "\n",
       "   Log of Incongruent RT  Log of congruent RT  \n",
       "0               1.670777             1.624515  \n",
       "1               1.546280             1.189390  \n",
       "2               1.469312             0.512055  "
      ]
     },
     "execution_count": 106,
     "metadata": {},
     "output_type": "execute_result"
    }
   ],
   "source": [
    "df2 = df[0:3]\n",
    "df2"
   ]
  },
  {
   "cell_type": "markdown",
   "metadata": {},
   "source": [
    "### Subsetting by index location"
   ]
  },
  {
   "cell_type": "code",
   "execution_count": 113,
   "metadata": {},
   "outputs": [
    {
     "data": {
      "text/html": [
       "<div>\n",
       "<style scoped>\n",
       "    .dataframe tbody tr th:only-of-type {\n",
       "        vertical-align: middle;\n",
       "    }\n",
       "\n",
       "    .dataframe tbody tr th {\n",
       "        vertical-align: top;\n",
       "    }\n",
       "\n",
       "    .dataframe thead th {\n",
       "        text-align: right;\n",
       "    }\n",
       "</style>\n",
       "<table border=\"1\" class=\"dataframe\">\n",
       "  <thead>\n",
       "    <tr style=\"text-align: right;\">\n",
       "      <th></th>\n",
       "      <th>Congruent Response</th>\n",
       "      <th>Incongruent RT</th>\n",
       "      <th>Congruent RT</th>\n",
       "    </tr>\n",
       "  </thead>\n",
       "  <tbody>\n",
       "    <tr>\n",
       "      <th>2</th>\n",
       "      <td>incorrect</td>\n",
       "      <td>4.346245</td>\n",
       "      <td>1.668717</td>\n",
       "    </tr>\n",
       "    <tr>\n",
       "      <th>3</th>\n",
       "      <td>incorrect</td>\n",
       "      <td>4.651065</td>\n",
       "      <td>2.799293</td>\n",
       "    </tr>\n",
       "  </tbody>\n",
       "</table>\n",
       "</div>"
      ],
      "text/plain": [
       "  Congruent Response  Incongruent RT  Congruent RT\n",
       "2          incorrect        4.346245      1.668717\n",
       "3          incorrect        4.651065      2.799293"
      ]
     },
     "execution_count": 113,
     "metadata": {},
     "output_type": "execute_result"
    }
   ],
   "source": [
    "df4 = df.iloc[2:4, 1:4]\n",
    "df4"
   ]
  },
  {
   "cell_type": "markdown",
   "metadata": {},
   "source": [
    "## Calculate the mean reaction times using the `mean()` method."
   ]
  },
  {
   "cell_type": "code",
   "execution_count": 71,
   "metadata": {},
   "outputs": [
    {
     "name": "stdout",
     "output_type": "stream",
     "text": [
      "4.100048375606001\n",
      "2.938231142082509\n"
     ]
    }
   ],
   "source": [
    "print(df['Incongruent RT'].mean())\n",
    "print(df['Congruent RT'].mean())"
   ]
  },
  {
   "cell_type": "markdown",
   "metadata": {},
   "source": [
    "## Calculate the median reaction times using the `median()` method."
   ]
  },
  {
   "cell_type": "code",
   "execution_count": 75,
   "metadata": {},
   "outputs": [
    {
     "name": "stdout",
     "output_type": "stream",
     "text": [
      "4.345814621574393\n",
      "2.7615103570782686\n"
     ]
    }
   ],
   "source": [
    "print(df['Incongruent RT'].median())\n",
    "print(df['Congruent RT'].median())"
   ]
  },
  {
   "cell_type": "markdown",
   "metadata": {},
   "source": [
    "## Calculate the mode of responses times using the `mode()` method.\n",
    "Here we're calculating the mode of responses instead of reaction times because `mode()` calculates the most often occuring value.  Our reaction times are all unique values, so the mode function just returns the original data.  If we want to see the mode method in action, we can use it on the responses, and see what the most often occuring responses are in each category."
   ]
  },
  {
   "cell_type": "code",
   "execution_count": 82,
   "metadata": {},
   "outputs": [
    {
     "name": "stdout",
     "output_type": "stream",
     "text": [
      "0    correct\n",
      "dtype: object\n",
      "0    incorrect\n",
      "dtype: object\n"
     ]
    }
   ],
   "source": [
    "print(df['Incongruent Response'].mode())\n",
    "print(df['Congruent Response'].mode())"
   ]
  },
  {
   "cell_type": "markdown",
   "metadata": {},
   "source": [
    "## Calculate the standard deviation of the reaction times using the `stdev()` method."
   ]
  },
  {
   "cell_type": "code",
   "execution_count": 83,
   "metadata": {},
   "outputs": [
    {
     "name": "stdout",
     "output_type": "stream",
     "text": [
      "1.1556001832350131\n",
      "1.1693635050024664\n"
     ]
    }
   ],
   "source": [
    "print(df['Incongruent RT'].std())\n",
    "print(df['Congruent RT'].std())"
   ]
  },
  {
   "cell_type": "markdown",
   "metadata": {},
   "source": [
    "<h2>Functions &amp; Description</h2>\n",
    "<p>Let us now understand the functions under Descriptive Statistics in Python Pandas. The following table list down the important functions &minus;</p>\n",
    "<table class=\"table table-bordered\">\n",
    "<tr>\n",
    "<th style=\"text-align:center;\">Sr.No.</th>\n",
    "<th style=\"text-align:center;\">Function</th>\n",
    "<th style=\"text-align:center;\">Description</th>\n",
    "</tr>\n",
    "<tr>\n",
    "<td style=\"text-align:center;\">1</td>\n",
    "<td style=\"text-align:center;\">count()</td>\n",
    "<td>Number of non-null observations</td>\n",
    "</tr>\n",
    "<tr>\n",
    "<td style=\"text-align:center;\">2</td>\n",
    "<td style=\"text-align:center;\">sum()</td>\n",
    "<td>Sum of values</td>\n",
    "</tr>\n",
    "<tr>\n",
    "<td style=\"text-align:center;\">3</td>\n",
    "<td style=\"text-align:center;\">mean()</td>\n",
    "<td>Mean of Values</td>\n",
    "</tr>\n",
    "<tr>\n",
    "<td style=\"text-align:center;\">4</td>\n",
    "<td style=\"text-align:center;\">median()</td>\n",
    "<td>Median of Values</td>\n",
    "</tr>\n",
    "<tr>\n",
    "<td style=\"text-align:center;\">5</td>\n",
    "<td style=\"text-align:center;\">mode()</td>\n",
    "<td>Mode of values</td>\n",
    "</tr>\n",
    "<tr>\n",
    "<td style=\"text-align:center;\">6</td>\n",
    "<td style=\"text-align:center;\">std()</td>\n",
    "<td>Standard Deviation of the Values</td>\n",
    "</tr>\n",
    "<tr>\n",
    "<td style=\"text-align:center;\">7</td>\n",
    "<td style=\"text-align:center;\">min()</td>\n",
    "<td>Minimum Value</td>\n",
    "</tr>\n",
    "<tr>\n",
    "<td style=\"text-align:center;\">8</td>\n",
    "<td style=\"text-align:center;\">max()</td>\n",
    "<td>Maximum Value</td>\n",
    "</tr>\n",
    "<tr>\n",
    "<td style=\"text-align:center;\">9</td>\n",
    "<td style=\"text-align:center;\">abs()</td>\n",
    "<td>Absolute Value</td>\n",
    "</tr>\n",
    "<tr>\n",
    "<td style=\"text-align:center;\">10</td>\n",
    "<td style=\"text-align:center;\">prod()</td>\n",
    "<td>Product of Values</td>\n",
    "</tr>\n",
    "<tr>\n",
    "<td style=\"text-align:center;\">11</td>\n",
    "<td style=\"text-align:center;\">cumsum()</td>\n",
    "<td>Cumulative Sum</td>\n",
    "</tr>\n",
    "<tr>\n",
    "<td style=\"text-align:center;\">12</td>\n",
    "<td style=\"text-align:center;\">cumprod()</td>\n",
    "<td>Cumulative Product</td>\n",
    "</tr>\n",
    "</table>\n",
    "\n",
    "https://www.tutorialspoint.com/python_pandas/python_pandas_descriptive_statistics.htm"
   ]
  },
  {
   "cell_type": "markdown",
   "metadata": {},
   "source": [
    "## Describe the data gives a summary of the numerical data in a given dataset"
   ]
  },
  {
   "cell_type": "code",
   "execution_count": 85,
   "metadata": {},
   "outputs": [
    {
     "data": {
      "text/html": [
       "<div>\n",
       "<style scoped>\n",
       "    .dataframe tbody tr th:only-of-type {\n",
       "        vertical-align: middle;\n",
       "    }\n",
       "\n",
       "    .dataframe tbody tr th {\n",
       "        vertical-align: top;\n",
       "    }\n",
       "\n",
       "    .dataframe thead th {\n",
       "        text-align: right;\n",
       "    }\n",
       "</style>\n",
       "<table border=\"1\" class=\"dataframe\">\n",
       "  <thead>\n",
       "    <tr style=\"text-align: right;\">\n",
       "      <th></th>\n",
       "      <th>Incongruent RT</th>\n",
       "      <th>Congruent RT</th>\n",
       "    </tr>\n",
       "  </thead>\n",
       "  <tbody>\n",
       "    <tr>\n",
       "      <th>count</th>\n",
       "      <td>50.000000</td>\n",
       "      <td>50.000000</td>\n",
       "    </tr>\n",
       "    <tr>\n",
       "      <th>mean</th>\n",
       "      <td>4.100048</td>\n",
       "      <td>2.938231</td>\n",
       "    </tr>\n",
       "    <tr>\n",
       "      <th>std</th>\n",
       "      <td>1.155600</td>\n",
       "      <td>1.169364</td>\n",
       "    </tr>\n",
       "    <tr>\n",
       "      <th>min</th>\n",
       "      <td>0.641427</td>\n",
       "      <td>0.913163</td>\n",
       "    </tr>\n",
       "    <tr>\n",
       "      <th>25%</th>\n",
       "      <td>3.566793</td>\n",
       "      <td>2.112497</td>\n",
       "    </tr>\n",
       "    <tr>\n",
       "      <th>50%</th>\n",
       "      <td>4.345815</td>\n",
       "      <td>2.761510</td>\n",
       "    </tr>\n",
       "    <tr>\n",
       "      <th>75%</th>\n",
       "      <td>4.869505</td>\n",
       "      <td>3.578249</td>\n",
       "    </tr>\n",
       "    <tr>\n",
       "      <th>max</th>\n",
       "      <td>5.880729</td>\n",
       "      <td>5.428637</td>\n",
       "    </tr>\n",
       "  </tbody>\n",
       "</table>\n",
       "</div>"
      ],
      "text/plain": [
       "       Incongruent RT  Congruent RT\n",
       "count       50.000000     50.000000\n",
       "mean         4.100048      2.938231\n",
       "std          1.155600      1.169364\n",
       "min          0.641427      0.913163\n",
       "25%          3.566793      2.112497\n",
       "50%          4.345815      2.761510\n",
       "75%          4.869505      3.578249\n",
       "max          5.880729      5.428637"
      ]
     },
     "execution_count": 85,
     "metadata": {},
     "output_type": "execute_result"
    }
   ],
   "source": [
    "df.describe()"
   ]
  },
  {
   "cell_type": "markdown",
   "metadata": {},
   "source": [
    "### We can use `=object` to see info about cells that contain objects, not numbers.  This includes text, like our response variables"
   ]
  },
  {
   "cell_type": "code",
   "execution_count": 89,
   "metadata": {},
   "outputs": [
    {
     "data": {
      "text/html": [
       "<div>\n",
       "<style scoped>\n",
       "    .dataframe tbody tr th:only-of-type {\n",
       "        vertical-align: middle;\n",
       "    }\n",
       "\n",
       "    .dataframe tbody tr th {\n",
       "        vertical-align: top;\n",
       "    }\n",
       "\n",
       "    .dataframe thead th {\n",
       "        text-align: right;\n",
       "    }\n",
       "</style>\n",
       "<table border=\"1\" class=\"dataframe\">\n",
       "  <thead>\n",
       "    <tr style=\"text-align: right;\">\n",
       "      <th></th>\n",
       "      <th>Incongruent Response</th>\n",
       "      <th>Congruent Response</th>\n",
       "    </tr>\n",
       "  </thead>\n",
       "  <tbody>\n",
       "    <tr>\n",
       "      <th>count</th>\n",
       "      <td>50</td>\n",
       "      <td>50</td>\n",
       "    </tr>\n",
       "    <tr>\n",
       "      <th>unique</th>\n",
       "      <td>2</td>\n",
       "      <td>2</td>\n",
       "    </tr>\n",
       "    <tr>\n",
       "      <th>top</th>\n",
       "      <td>correct</td>\n",
       "      <td>incorrect</td>\n",
       "    </tr>\n",
       "    <tr>\n",
       "      <th>freq</th>\n",
       "      <td>38</td>\n",
       "      <td>37</td>\n",
       "    </tr>\n",
       "  </tbody>\n",
       "</table>\n",
       "</div>"
      ],
      "text/plain": [
       "       Incongruent Response Congruent Response\n",
       "count                    50                 50\n",
       "unique                    2                  2\n",
       "top                 correct          incorrect\n",
       "freq                     38                 37"
      ]
     },
     "execution_count": 89,
     "metadata": {},
     "output_type": "execute_result"
    }
   ],
   "source": [
    "df.describe(include=['object'])"
   ]
  },
  {
   "cell_type": "markdown",
   "metadata": {},
   "source": [
    "### We can use `=all` to see all of that info at once.  `NaN` stands for  `not a number`, which is Pandas' N/A value"
   ]
  },
  {
   "cell_type": "code",
   "execution_count": 90,
   "metadata": {},
   "outputs": [
    {
     "data": {
      "text/html": [
       "<div>\n",
       "<style scoped>\n",
       "    .dataframe tbody tr th:only-of-type {\n",
       "        vertical-align: middle;\n",
       "    }\n",
       "\n",
       "    .dataframe tbody tr th {\n",
       "        vertical-align: top;\n",
       "    }\n",
       "\n",
       "    .dataframe thead th {\n",
       "        text-align: right;\n",
       "    }\n",
       "</style>\n",
       "<table border=\"1\" class=\"dataframe\">\n",
       "  <thead>\n",
       "    <tr style=\"text-align: right;\">\n",
       "      <th></th>\n",
       "      <th>Incongruent Response</th>\n",
       "      <th>Congruent Response</th>\n",
       "      <th>Incongruent RT</th>\n",
       "      <th>Congruent RT</th>\n",
       "    </tr>\n",
       "  </thead>\n",
       "  <tbody>\n",
       "    <tr>\n",
       "      <th>count</th>\n",
       "      <td>50</td>\n",
       "      <td>50</td>\n",
       "      <td>50.000000</td>\n",
       "      <td>50.000000</td>\n",
       "    </tr>\n",
       "    <tr>\n",
       "      <th>unique</th>\n",
       "      <td>2</td>\n",
       "      <td>2</td>\n",
       "      <td>NaN</td>\n",
       "      <td>NaN</td>\n",
       "    </tr>\n",
       "    <tr>\n",
       "      <th>top</th>\n",
       "      <td>correct</td>\n",
       "      <td>incorrect</td>\n",
       "      <td>NaN</td>\n",
       "      <td>NaN</td>\n",
       "    </tr>\n",
       "    <tr>\n",
       "      <th>freq</th>\n",
       "      <td>38</td>\n",
       "      <td>37</td>\n",
       "      <td>NaN</td>\n",
       "      <td>NaN</td>\n",
       "    </tr>\n",
       "    <tr>\n",
       "      <th>mean</th>\n",
       "      <td>NaN</td>\n",
       "      <td>NaN</td>\n",
       "      <td>4.100048</td>\n",
       "      <td>2.938231</td>\n",
       "    </tr>\n",
       "    <tr>\n",
       "      <th>std</th>\n",
       "      <td>NaN</td>\n",
       "      <td>NaN</td>\n",
       "      <td>1.155600</td>\n",
       "      <td>1.169364</td>\n",
       "    </tr>\n",
       "    <tr>\n",
       "      <th>min</th>\n",
       "      <td>NaN</td>\n",
       "      <td>NaN</td>\n",
       "      <td>0.641427</td>\n",
       "      <td>0.913163</td>\n",
       "    </tr>\n",
       "    <tr>\n",
       "      <th>25%</th>\n",
       "      <td>NaN</td>\n",
       "      <td>NaN</td>\n",
       "      <td>3.566793</td>\n",
       "      <td>2.112497</td>\n",
       "    </tr>\n",
       "    <tr>\n",
       "      <th>50%</th>\n",
       "      <td>NaN</td>\n",
       "      <td>NaN</td>\n",
       "      <td>4.345815</td>\n",
       "      <td>2.761510</td>\n",
       "    </tr>\n",
       "    <tr>\n",
       "      <th>75%</th>\n",
       "      <td>NaN</td>\n",
       "      <td>NaN</td>\n",
       "      <td>4.869505</td>\n",
       "      <td>3.578249</td>\n",
       "    </tr>\n",
       "    <tr>\n",
       "      <th>max</th>\n",
       "      <td>NaN</td>\n",
       "      <td>NaN</td>\n",
       "      <td>5.880729</td>\n",
       "      <td>5.428637</td>\n",
       "    </tr>\n",
       "  </tbody>\n",
       "</table>\n",
       "</div>"
      ],
      "text/plain": [
       "       Incongruent Response Congruent Response  Incongruent RT  Congruent RT\n",
       "count                    50                 50       50.000000     50.000000\n",
       "unique                    2                  2             NaN           NaN\n",
       "top                 correct          incorrect             NaN           NaN\n",
       "freq                     38                 37             NaN           NaN\n",
       "mean                    NaN                NaN        4.100048      2.938231\n",
       "std                     NaN                NaN        1.155600      1.169364\n",
       "min                     NaN                NaN        0.641427      0.913163\n",
       "25%                     NaN                NaN        3.566793      2.112497\n",
       "50%                     NaN                NaN        4.345815      2.761510\n",
       "75%                     NaN                NaN        4.869505      3.578249\n",
       "max                     NaN                NaN        5.880729      5.428637"
      ]
     },
     "execution_count": 90,
     "metadata": {},
     "output_type": "execute_result"
    }
   ],
   "source": [
    "df. describe(include='all')"
   ]
  },
  {
   "cell_type": "markdown",
   "metadata": {},
   "source": [
    "### Transforming data\n",
    "\n",
    "Let's say we need to apply a function to our data.  Lots of times this is important to understand things on different scales.  Let's explore a natural log scale."
   ]
  },
  {
   "cell_type": "code",
   "execution_count": 99,
   "metadata": {},
   "outputs": [
    {
     "data": {
      "text/html": [
       "<div>\n",
       "<style scoped>\n",
       "    .dataframe tbody tr th:only-of-type {\n",
       "        vertical-align: middle;\n",
       "    }\n",
       "\n",
       "    .dataframe tbody tr th {\n",
       "        vertical-align: top;\n",
       "    }\n",
       "\n",
       "    .dataframe thead th {\n",
       "        text-align: right;\n",
       "    }\n",
       "</style>\n",
       "<table border=\"1\" class=\"dataframe\">\n",
       "  <thead>\n",
       "    <tr style=\"text-align: right;\">\n",
       "      <th></th>\n",
       "      <th>Incongruent Response</th>\n",
       "      <th>Congruent Response</th>\n",
       "      <th>Incongruent RT</th>\n",
       "      <th>Congruent RT</th>\n",
       "      <th>Log of Incongruent RT</th>\n",
       "      <th>Log of congruent RT</th>\n",
       "    </tr>\n",
       "  </thead>\n",
       "  <tbody>\n",
       "    <tr>\n",
       "      <th>0</th>\n",
       "      <td>correct</td>\n",
       "      <td>incorrect</td>\n",
       "      <td>5.316297</td>\n",
       "      <td>5.075958</td>\n",
       "      <td>1.670777</td>\n",
       "      <td>1.624515</td>\n",
       "    </tr>\n",
       "    <tr>\n",
       "      <th>1</th>\n",
       "      <td>incorrect</td>\n",
       "      <td>incorrect</td>\n",
       "      <td>4.693978</td>\n",
       "      <td>3.285078</td>\n",
       "      <td>1.546280</td>\n",
       "      <td>1.189390</td>\n",
       "    </tr>\n",
       "    <tr>\n",
       "      <th>2</th>\n",
       "      <td>correct</td>\n",
       "      <td>incorrect</td>\n",
       "      <td>4.346245</td>\n",
       "      <td>1.668717</td>\n",
       "      <td>1.469312</td>\n",
       "      <td>0.512055</td>\n",
       "    </tr>\n",
       "  </tbody>\n",
       "</table>\n",
       "</div>"
      ],
      "text/plain": [
       "  Incongruent Response Congruent Response  Incongruent RT  Congruent RT  \\\n",
       "0              correct          incorrect        5.316297      5.075958   \n",
       "1            incorrect          incorrect        4.693978      3.285078   \n",
       "2              correct          incorrect        4.346245      1.668717   \n",
       "\n",
       "   Log of Incongruent RT  Log of congruent RT  \n",
       "0               1.670777             1.624515  \n",
       "1               1.546280             1.189390  \n",
       "2               1.469312             0.512055  "
      ]
     },
     "execution_count": 99,
     "metadata": {},
     "output_type": "execute_result"
    }
   ],
   "source": [
    "import numpy as np\n",
    "df['Log of Incongruent RT'] = df['Incongruent RT'].transform(np.log)\n",
    "df.head(3)"
   ]
  },
  {
   "cell_type": "markdown",
   "metadata": {},
   "source": [
    "### Another way to do that"
   ]
  },
  {
   "cell_type": "code",
   "execution_count": 100,
   "metadata": {},
   "outputs": [
    {
     "data": {
      "text/html": [
       "<div>\n",
       "<style scoped>\n",
       "    .dataframe tbody tr th:only-of-type {\n",
       "        vertical-align: middle;\n",
       "    }\n",
       "\n",
       "    .dataframe tbody tr th {\n",
       "        vertical-align: top;\n",
       "    }\n",
       "\n",
       "    .dataframe thead th {\n",
       "        text-align: right;\n",
       "    }\n",
       "</style>\n",
       "<table border=\"1\" class=\"dataframe\">\n",
       "  <thead>\n",
       "    <tr style=\"text-align: right;\">\n",
       "      <th></th>\n",
       "      <th>Incongruent Response</th>\n",
       "      <th>Congruent Response</th>\n",
       "      <th>Incongruent RT</th>\n",
       "      <th>Congruent RT</th>\n",
       "      <th>Log of Incongruent RT</th>\n",
       "      <th>Log of congruent RT</th>\n",
       "    </tr>\n",
       "  </thead>\n",
       "  <tbody>\n",
       "    <tr>\n",
       "      <th>0</th>\n",
       "      <td>correct</td>\n",
       "      <td>incorrect</td>\n",
       "      <td>5.316297</td>\n",
       "      <td>5.075958</td>\n",
       "      <td>1.670777</td>\n",
       "      <td>1.624515</td>\n",
       "    </tr>\n",
       "    <tr>\n",
       "      <th>1</th>\n",
       "      <td>incorrect</td>\n",
       "      <td>incorrect</td>\n",
       "      <td>4.693978</td>\n",
       "      <td>3.285078</td>\n",
       "      <td>1.546280</td>\n",
       "      <td>1.189390</td>\n",
       "    </tr>\n",
       "    <tr>\n",
       "      <th>2</th>\n",
       "      <td>correct</td>\n",
       "      <td>incorrect</td>\n",
       "      <td>4.346245</td>\n",
       "      <td>1.668717</td>\n",
       "      <td>1.469312</td>\n",
       "      <td>0.512055</td>\n",
       "    </tr>\n",
       "  </tbody>\n",
       "</table>\n",
       "</div>"
      ],
      "text/plain": [
       "  Incongruent Response Congruent Response  Incongruent RT  Congruent RT  \\\n",
       "0              correct          incorrect        5.316297      5.075958   \n",
       "1            incorrect          incorrect        4.693978      3.285078   \n",
       "2              correct          incorrect        4.346245      1.668717   \n",
       "\n",
       "   Log of Incongruent RT  Log of congruent RT  \n",
       "0               1.670777             1.624515  \n",
       "1               1.546280             1.189390  \n",
       "2               1.469312             0.512055  "
      ]
     },
     "execution_count": 100,
     "metadata": {},
     "output_type": "execute_result"
    }
   ],
   "source": [
    "df['Log of congruent RT'] = np.log(df['Congruent RT'])\n",
    "df.head(3)"
   ]
  },
  {
   "cell_type": "markdown",
   "metadata": {},
   "source": [
    "## Calculating across axes using `apply`\n",
    "Sometimes you want to calculate across rows, sometimes down columns.  `apply` is the command to do that.\n",
    "\n",
    "<div class=\"alert alert-info\">\n",
    "<list>\n",
    "    <li>Axis 0 is rows</li>\n",
    "    <li>Axis 1 is columns</li>\n",
    "</list>\n",
    "\n"
   ]
  },
  {
   "cell_type": "markdown",
   "metadata": {},
   "source": [
    "Let's calculate the mean reaction time for each trial.\n",
    "- First we subset the data"
   ]
  },
  {
   "cell_type": "code",
   "execution_count": 19,
   "metadata": {},
   "outputs": [
    {
     "data": {
      "text/html": [
       "<div>\n",
       "<style scoped>\n",
       "    .dataframe tbody tr th:only-of-type {\n",
       "        vertical-align: middle;\n",
       "    }\n",
       "\n",
       "    .dataframe tbody tr th {\n",
       "        vertical-align: top;\n",
       "    }\n",
       "\n",
       "    .dataframe thead th {\n",
       "        text-align: right;\n",
       "    }\n",
       "</style>\n",
       "<table border=\"1\" class=\"dataframe\">\n",
       "  <thead>\n",
       "    <tr style=\"text-align: right;\">\n",
       "      <th></th>\n",
       "      <th>Incongruent RT</th>\n",
       "      <th>Congruent RT</th>\n",
       "    </tr>\n",
       "  </thead>\n",
       "  <tbody>\n",
       "    <tr>\n",
       "      <th>0</th>\n",
       "      <td>1.866287</td>\n",
       "      <td>2.743461</td>\n",
       "    </tr>\n",
       "    <tr>\n",
       "      <th>1</th>\n",
       "      <td>4.937513</td>\n",
       "      <td>4.393710</td>\n",
       "    </tr>\n",
       "  </tbody>\n",
       "</table>\n",
       "</div>"
      ],
      "text/plain": [
       "   Incongruent RT  Congruent RT\n",
       "0        1.866287      2.743461\n",
       "1        4.937513      4.393710"
      ]
     },
     "execution_count": 19,
     "metadata": {},
     "output_type": "execute_result"
    }
   ],
   "source": [
    "rtData = df.iloc[:-1, 2:4]\n",
    "rtData.head(2)"
   ]
  },
  {
   "cell_type": "code",
   "execution_count": 22,
   "metadata": {},
   "outputs": [
    {
     "data": {
      "text/html": [
       "<div>\n",
       "<style scoped>\n",
       "    .dataframe tbody tr th:only-of-type {\n",
       "        vertical-align: middle;\n",
       "    }\n",
       "\n",
       "    .dataframe tbody tr th {\n",
       "        vertical-align: top;\n",
       "    }\n",
       "\n",
       "    .dataframe thead th {\n",
       "        text-align: right;\n",
       "    }\n",
       "</style>\n",
       "<table border=\"1\" class=\"dataframe\">\n",
       "  <thead>\n",
       "    <tr style=\"text-align: right;\">\n",
       "      <th></th>\n",
       "      <th>Incongruent Response</th>\n",
       "      <th>Congruent Response</th>\n",
       "      <th>Incongruent RT</th>\n",
       "      <th>Congruent RT</th>\n",
       "      <th>Mean Reaction Time</th>\n",
       "    </tr>\n",
       "  </thead>\n",
       "  <tbody>\n",
       "    <tr>\n",
       "      <th>0</th>\n",
       "      <td>incorrect</td>\n",
       "      <td>incorrect</td>\n",
       "      <td>1.866287</td>\n",
       "      <td>2.743461</td>\n",
       "      <td>2.304874</td>\n",
       "    </tr>\n",
       "    <tr>\n",
       "      <th>1</th>\n",
       "      <td>correct</td>\n",
       "      <td>incorrect</td>\n",
       "      <td>4.937513</td>\n",
       "      <td>4.393710</td>\n",
       "      <td>4.665612</td>\n",
       "    </tr>\n",
       "    <tr>\n",
       "      <th>2</th>\n",
       "      <td>correct</td>\n",
       "      <td>incorrect</td>\n",
       "      <td>2.726114</td>\n",
       "      <td>2.478732</td>\n",
       "      <td>2.602423</td>\n",
       "    </tr>\n",
       "    <tr>\n",
       "      <th>3</th>\n",
       "      <td>incorrect</td>\n",
       "      <td>correct</td>\n",
       "      <td>5.822324</td>\n",
       "      <td>3.249900</td>\n",
       "      <td>4.536112</td>\n",
       "    </tr>\n",
       "    <tr>\n",
       "      <th>4</th>\n",
       "      <td>incorrect</td>\n",
       "      <td>incorrect</td>\n",
       "      <td>3.456127</td>\n",
       "      <td>1.438397</td>\n",
       "      <td>2.447262</td>\n",
       "    </tr>\n",
       "  </tbody>\n",
       "</table>\n",
       "</div>"
      ],
      "text/plain": [
       "  Incongruent Response Congruent Response  Incongruent RT  Congruent RT  \\\n",
       "0            incorrect          incorrect        1.866287      2.743461   \n",
       "1              correct          incorrect        4.937513      4.393710   \n",
       "2              correct          incorrect        2.726114      2.478732   \n",
       "3            incorrect            correct        5.822324      3.249900   \n",
       "4            incorrect          incorrect        3.456127      1.438397   \n",
       "\n",
       "   Mean Reaction Time  \n",
       "0            2.304874  \n",
       "1            4.665612  \n",
       "2            2.602423  \n",
       "3            4.536112  \n",
       "4            2.447262  "
      ]
     },
     "execution_count": 22,
     "metadata": {},
     "output_type": "execute_result"
    }
   ],
   "source": [
    "df['Mean Reaction Time'] = rtData.apply(np.mean, axis=1)\n",
    "df.head()"
   ]
  },
  {
   "cell_type": "markdown",
   "metadata": {},
   "source": [
    "## Calculate proportion correct by applying a conditional count method.\n",
    "\n",
    "### This is like `countif` in excel"
   ]
  },
  {
   "cell_type": "code",
   "execution_count": 37,
   "metadata": {},
   "outputs": [
    {
     "name": "stdout",
     "output_type": "stream",
     "text": [
      "0.64 0.2\n"
     ]
    }
   ],
   "source": [
    "proportion_correct_incongruent = (df[df[\"Incongruent Response\"] == \"correct\"].count(axis=0) / 50)[0]\n",
    "proportion_correct_congruent = (df[df[\"Congruent Response\"] == \"correct\"].count(axis=0) / 50)[0]\n",
    "print(proportion_correct_incongruent, proportion_correct_congruent)"
   ]
  },
  {
   "cell_type": "markdown",
   "metadata": {},
   "source": [
    "That was s a complicated statment.  Let's break it down.\n",
    "- `df[df[\"Incongruent Response\"] == \"correct\"]` is the exact same conditional search we used in the previous example\n",
    "- we apply the `count()` method on `axis=0`, which means across rows.\n",
    "- So we're counting the number of cells in each column that corresponds to correct incongruent responses\n",
    "- `50` is the number of trials.  \n",
    "    - When we divide the count by the number of items how we get a proportion.\n",
    "- Recall that the conditional search returns a Pandas series\n",
    "    - encapsulate the statement in `()`\n",
    "    - ask for the first element in the series `[0]`"
   ]
  },
  {
   "cell_type": "code",
   "execution_count": null,
   "metadata": {},
   "outputs": [],
   "source": []
  }
 ],
 "metadata": {
  "kernelspec": {
   "display_name": "Python 3",
   "language": "python",
   "name": "python3"
  },
  "language_info": {
   "codemirror_mode": {
    "name": "ipython",
    "version": 3
   },
   "file_extension": ".py",
   "mimetype": "text/x-python",
   "name": "python",
   "nbconvert_exporter": "python",
   "pygments_lexer": "ipython3",
   "version": "3.7.3"
  },
  "toc": {
   "base_numbering": 1,
   "nav_menu": {},
   "number_sections": false,
   "sideBar": false,
   "skip_h1_title": false,
   "title_cell": "Table of Contents",
   "title_sidebar": "Contents",
   "toc_cell": false,
   "toc_position": {},
   "toc_section_display": false,
   "toc_window_display": false
  }
 },
 "nbformat": 4,
 "nbformat_minor": 2
}
