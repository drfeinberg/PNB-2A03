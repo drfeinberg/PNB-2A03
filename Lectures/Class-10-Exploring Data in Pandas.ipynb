{
 "cells": [
  {
   "cell_type": "markdown",
   "metadata": {},
   "source": [
    "# Data Wrangling"
   ]
  },
  {
   "cell_type": "markdown",
   "metadata": {},
   "source": [
    "# Simulate data for stroop experiment"
   ]
  },
  {
   "cell_type": "markdown",
   "metadata": {},
   "source": [
    "## We need to simulate:\n",
    "- participant ID's\n",
    "- reaction times\n",
    "- responses\n",
    "    - calculate whether or not the responses are correct"
   ]
  },
  {
   "cell_type": "markdown",
   "metadata": {},
   "source": [
    "## Simulates binary responses.  \n",
    "- Numpy stands for \"number Python\" and deals well with the complex math we use in science\n",
    "- We are taking random choice from the list `[\"incorrect\", \"correct\"]`\n",
    "- There is a sample size of 50, meaning we take a random choice 50 times\n",
    "- We give it a probability `p` which is specified using Python's fraction notation.  Note that the correct and incorrect probabilities are out of 1, but could have been specified differently\n",
    "- We'll have more corrects than incorrects in the congruent condition, so we swap the fractions in congrent and incongruent in order to simulate that\n",
    "    - I'm just picking numbers here, there's nothing concrete about these fractions\n",
    "    - I picked 1/4 and 3/4 because they are easy"
   ]
  },
  {
   "cell_type": "code",
   "execution_count": 1,
   "metadata": {},
   "outputs": [],
   "source": [
    "import numpy as np\n",
    "congruent_responses = np.random.choice([\"incorrect\", \"correct\"], size=(50,), p=[1./4, 3./4])\n",
    "incongruent_responses = np.random.choice([\"incorrect\", \"correct\"], size=(50,), p=[3./4, 1./4])"
   ]
  },
  {
   "cell_type": "markdown",
   "metadata": {},
   "source": [
    "#### Check our data"
   ]
  },
  {
   "cell_type": "code",
   "execution_count": 2,
   "metadata": {},
   "outputs": [
    {
     "name": "stdout",
     "output_type": "stream",
     "text": [
      "congruent ['correct' 'correct' 'correct' 'correct' 'incorrect' 'correct' 'incorrect'\n",
      " 'correct' 'correct' 'incorrect' 'correct' 'correct' 'correct' 'correct'\n",
      " 'correct' 'correct' 'incorrect' 'correct' 'correct' 'correct' 'incorrect'\n",
      " 'correct' 'correct' 'correct' 'incorrect' 'correct' 'incorrect' 'correct'\n",
      " 'correct' 'correct' 'correct' 'correct' 'correct' 'correct' 'correct'\n",
      " 'correct' 'correct' 'incorrect' 'correct' 'correct' 'incorrect' 'correct'\n",
      " 'incorrect' 'correct' 'correct' 'correct' 'incorrect' 'correct' 'correct'\n",
      " 'correct']\n",
      "incongruent ['correct' 'correct' 'incorrect' 'correct' 'correct' 'incorrect'\n",
      " 'incorrect' 'incorrect' 'incorrect' 'incorrect' 'incorrect' 'incorrect'\n",
      " 'incorrect' 'incorrect' 'incorrect' 'correct' 'correct' 'incorrect'\n",
      " 'incorrect' 'correct' 'incorrect' 'incorrect' 'correct' 'incorrect'\n",
      " 'incorrect' 'incorrect' 'incorrect' 'correct' 'incorrect' 'correct'\n",
      " 'incorrect' 'incorrect' 'correct' 'incorrect' 'incorrect' 'incorrect'\n",
      " 'incorrect' 'incorrect' 'correct' 'correct' 'incorrect' 'incorrect'\n",
      " 'incorrect' 'incorrect' 'correct' 'incorrect' 'incorrect' 'incorrect'\n",
      " 'incorrect' 'incorrect']\n"
     ]
    }
   ],
   "source": [
    "print(\"congruent\", congruent_responses)\n",
    "print(\"incongruent\", incongruent_responses)"
   ]
  },
  {
   "cell_type": "markdown",
   "metadata": {},
   "source": [
    "## Simulate reaction time data\n",
    "\n",
    "The `random.triangular` function generates normally distributed random numbers in a range betwen `a` and `b` with a mode of `x`. "
   ]
  },
  {
   "cell_type": "code",
   "execution_count": 3,
   "metadata": {},
   "outputs": [],
   "source": [
    "import random\n",
    "\n",
    "a = 0.5 # lowest possible reaction time\n",
    "b = 6 # highest possible reaction time\n",
    "reaction_time_incongruent = []\n",
    "reaction_time_congruent = []\n",
    "for i in range(50):\n",
    "    x = 4 # mode of reaction time\n",
    "    reaction_time_incongruent.append(random.triangular(a, b, 3*x - a - b))\n",
    "    x = 3 # mode of reaction time\n",
    "    reaction_time_congruent.append(random.triangular(a, b, 3*x - a - b))"
   ]
  },
  {
   "cell_type": "markdown",
   "metadata": {},
   "source": [
    "## Put all the data together into a nice looking list\n",
    "We can make a list of tuples by using the `zip()` function, and feeding that output into a list.  The `zip()` function goes through the specified lists and makes tuples out of corresponding values for each item on the list"
   ]
  },
  {
   "cell_type": "code",
   "execution_count": 4,
   "metadata": {},
   "outputs": [
    {
     "data": {
      "text/plain": [
       "[('correct', 'correct', 3.3374943954605247, 2.3233917546817864),\n",
       " ('correct', 'correct', 4.930971295105398, 4.887589331826552),\n",
       " ('correct', 'incorrect', 5.578867905503561, 1.8822994480388844),\n",
       " ('correct', 'correct', 5.454450145762496, 2.737522644585537),\n",
       " ('incorrect', 'correct', 4.068950737520581, 4.020658105836836),\n",
       " ('correct', 'incorrect', 2.0873583178269235, 4.336129166005895),\n",
       " ('incorrect', 'incorrect', 5.070034113531269, 4.637862297735747),\n",
       " ('correct', 'incorrect', 3.462200613275944, 1.5130209584403764),\n",
       " ('correct', 'incorrect', 4.890153382030141, 2.9020069505627517),\n",
       " ('incorrect', 'incorrect', 3.450359070364311, 3.1316925351548153),\n",
       " ('correct', 'incorrect', 3.54510656458616, 3.326299740470151),\n",
       " ('correct', 'incorrect', 3.7086887380033495, 3.0021114232957076),\n",
       " ('correct', 'incorrect', 3.5824690931454257, 1.0067012623568692),\n",
       " ('correct', 'incorrect', 3.578196356488694, 5.026335153004643),\n",
       " ('correct', 'incorrect', 4.62355779400979, 4.9846288306472735),\n",
       " ('correct', 'correct', 4.530541354501435, 1.5318682857660757),\n",
       " ('incorrect', 'correct', 4.580758973467382, 2.5181788326567824),\n",
       " ('correct', 'incorrect', 2.5783652193201143, 3.2054994829892776),\n",
       " ('correct', 'incorrect', 2.554077549788504, 1.1570237115677213),\n",
       " ('correct', 'correct', 4.916046419904883, 2.5889554584429897),\n",
       " ('incorrect', 'incorrect', 5.704677389433433, 3.0144030231483505),\n",
       " ('correct', 'incorrect', 5.151954560998895, 1.5304344263902971),\n",
       " ('correct', 'correct', 2.6953297455677285, 1.6457066491014356),\n",
       " ('correct', 'incorrect', 4.09140190090991, 0.9485990726571585),\n",
       " ('incorrect', 'incorrect', 5.409047133540609, 3.64431996885636),\n",
       " ('correct', 'incorrect', 2.6456474444707503, 3.009721144740349),\n",
       " ('incorrect', 'incorrect', 2.7791764519726767, 1.7402843442813445),\n",
       " ('correct', 'correct', 4.367259598746486, 0.9640016700480445),\n",
       " ('correct', 'incorrect', 3.449955222358783, 2.542988054122055),\n",
       " ('correct', 'correct', 4.836273129559846, 5.3632162726653805),\n",
       " ('correct', 'incorrect', 5.5515580685293315, 5.519860533387536),\n",
       " ('correct', 'incorrect', 2.7419935948287995, 2.349776910066682),\n",
       " ('correct', 'correct', 3.5405914227185957, 2.6285417729449208),\n",
       " ('correct', 'incorrect', 5.090019567916893, 4.385407217016438),\n",
       " ('correct', 'incorrect', 1.4700086975574171, 5.175070730514047),\n",
       " ('correct', 'incorrect', 2.100526670928571, 3.8466303573089347),\n",
       " ('correct', 'incorrect', 4.224676410227351, 2.5029687287298445),\n",
       " ('incorrect', 'incorrect', 5.86678541155318, 3.376440677663015),\n",
       " ('correct', 'correct', 4.811214703433807, 3.171675765260742),\n",
       " ('correct', 'correct', 4.801979425451671, 4.791241442372813),\n",
       " ('incorrect', 'incorrect', 4.68097643972995, 2.3220994408730418),\n",
       " ('correct', 'incorrect', 4.920837019332912, 2.821534750919582),\n",
       " ('incorrect', 'incorrect', 5.324880256202089, 0.8503183432064254),\n",
       " ('correct', 'incorrect', 1.3801055142600376, 2.965524976409004),\n",
       " ('correct', 'correct', 2.260628417418557, 2.8507152756242986),\n",
       " ('correct', 'incorrect', 5.543547697359442, 4.650300333624567),\n",
       " ('incorrect', 'incorrect', 4.907534556571116, 1.7582853620060022),\n",
       " ('correct', 'incorrect', 3.1844729459651075, 1.073824914543025),\n",
       " ('correct', 'incorrect', 0.5876752080620745, 1.3572390209542573),\n",
       " ('correct', 'incorrect', 5.709331066545962, 2.639080610387039)]"
      ]
     },
     "execution_count": 4,
     "metadata": {},
     "output_type": "execute_result"
    }
   ],
   "source": [
    "data_tuples = list(zip(congruent_responses, incongruent_responses, reaction_time_incongruent, reaction_time_congruent))\n",
    "data_tuples"
   ]
  },
  {
   "cell_type": "markdown",
   "metadata": {},
   "source": [
    "# Pandas DataFrame\n",
    "A Pandas DataFrame is a Python Object that holds a set of data like a spreadsheet."
   ]
  },
  {
   "cell_type": "code",
   "execution_count": 5,
   "metadata": {},
   "outputs": [],
   "source": [
    "import pandas as pd  # it is custom to shorten pandas to pd because we'll be typing it a log\n",
    "df = pd.DataFrame(data_tuples)  # called the dataframe df, but you can use any name you want... it's a Python object."
   ]
  },
  {
   "cell_type": "markdown",
   "metadata": {},
   "source": [
    "## Viewing the data"
   ]
  },
  {
   "cell_type": "markdown",
   "metadata": {},
   "source": [
    "You can view the whole DataFrame by typing `df` as usual.  But, perhaps your dataset is large and you just want to get a sense of how it's looking.  For that we can use the `head()` method call on our dataframe.  By default it shows the first 5 rows, or you can specify the number of rows you want to see."
   ]
  },
  {
   "cell_type": "code",
   "execution_count": 6,
   "metadata": {},
   "outputs": [
    {
     "data": {
      "text/html": [
       "<div>\n",
       "<style scoped>\n",
       "    .dataframe tbody tr th:only-of-type {\n",
       "        vertical-align: middle;\n",
       "    }\n",
       "\n",
       "    .dataframe tbody tr th {\n",
       "        vertical-align: top;\n",
       "    }\n",
       "\n",
       "    .dataframe thead th {\n",
       "        text-align: right;\n",
       "    }\n",
       "</style>\n",
       "<table border=\"1\" class=\"dataframe\">\n",
       "  <thead>\n",
       "    <tr style=\"text-align: right;\">\n",
       "      <th></th>\n",
       "      <th>0</th>\n",
       "      <th>1</th>\n",
       "      <th>2</th>\n",
       "      <th>3</th>\n",
       "    </tr>\n",
       "  </thead>\n",
       "  <tbody>\n",
       "    <tr>\n",
       "      <th>0</th>\n",
       "      <td>correct</td>\n",
       "      <td>correct</td>\n",
       "      <td>3.337494</td>\n",
       "      <td>2.323392</td>\n",
       "    </tr>\n",
       "    <tr>\n",
       "      <th>1</th>\n",
       "      <td>correct</td>\n",
       "      <td>correct</td>\n",
       "      <td>4.930971</td>\n",
       "      <td>4.887589</td>\n",
       "    </tr>\n",
       "    <tr>\n",
       "      <th>2</th>\n",
       "      <td>correct</td>\n",
       "      <td>incorrect</td>\n",
       "      <td>5.578868</td>\n",
       "      <td>1.882299</td>\n",
       "    </tr>\n",
       "    <tr>\n",
       "      <th>3</th>\n",
       "      <td>correct</td>\n",
       "      <td>correct</td>\n",
       "      <td>5.454450</td>\n",
       "      <td>2.737523</td>\n",
       "    </tr>\n",
       "    <tr>\n",
       "      <th>4</th>\n",
       "      <td>incorrect</td>\n",
       "      <td>correct</td>\n",
       "      <td>4.068951</td>\n",
       "      <td>4.020658</td>\n",
       "    </tr>\n",
       "  </tbody>\n",
       "</table>\n",
       "</div>"
      ],
      "text/plain": [
       "           0          1         2         3\n",
       "0    correct    correct  3.337494  2.323392\n",
       "1    correct    correct  4.930971  4.887589\n",
       "2    correct  incorrect  5.578868  1.882299\n",
       "3    correct    correct  5.454450  2.737523\n",
       "4  incorrect    correct  4.068951  4.020658"
      ]
     },
     "execution_count": 6,
     "metadata": {},
     "output_type": "execute_result"
    }
   ],
   "source": [
    "df.head()"
   ]
  },
  {
   "cell_type": "markdown",
   "metadata": {},
   "source": [
    "## Column names"
   ]
  },
  {
   "cell_type": "code",
   "execution_count": 7,
   "metadata": {},
   "outputs": [],
   "source": [
    "df.columns = [\"Incongruent Response\", \"Congruent Response\", \"Incongruent RT\", \"Congruent RT\"]"
   ]
  },
  {
   "cell_type": "code",
   "execution_count": 8,
   "metadata": {},
   "outputs": [
    {
     "data": {
      "text/html": [
       "<div>\n",
       "<style scoped>\n",
       "    .dataframe tbody tr th:only-of-type {\n",
       "        vertical-align: middle;\n",
       "    }\n",
       "\n",
       "    .dataframe tbody tr th {\n",
       "        vertical-align: top;\n",
       "    }\n",
       "\n",
       "    .dataframe thead th {\n",
       "        text-align: right;\n",
       "    }\n",
       "</style>\n",
       "<table border=\"1\" class=\"dataframe\">\n",
       "  <thead>\n",
       "    <tr style=\"text-align: right;\">\n",
       "      <th></th>\n",
       "      <th>Incongruent Response</th>\n",
       "      <th>Congruent Response</th>\n",
       "      <th>Incongruent RT</th>\n",
       "      <th>Congruent RT</th>\n",
       "    </tr>\n",
       "  </thead>\n",
       "  <tbody>\n",
       "    <tr>\n",
       "      <th>0</th>\n",
       "      <td>correct</td>\n",
       "      <td>correct</td>\n",
       "      <td>3.337494</td>\n",
       "      <td>2.323392</td>\n",
       "    </tr>\n",
       "    <tr>\n",
       "      <th>1</th>\n",
       "      <td>correct</td>\n",
       "      <td>correct</td>\n",
       "      <td>4.930971</td>\n",
       "      <td>4.887589</td>\n",
       "    </tr>\n",
       "  </tbody>\n",
       "</table>\n",
       "</div>"
      ],
      "text/plain": [
       "  Incongruent Response Congruent Response  Incongruent RT  Congruent RT\n",
       "0              correct            correct        3.337494      2.323392\n",
       "1              correct            correct        4.930971      4.887589"
      ]
     },
     "execution_count": 8,
     "metadata": {},
     "output_type": "execute_result"
    }
   ],
   "source": [
    "df.head(2)"
   ]
  },
  {
   "cell_type": "markdown",
   "metadata": {},
   "source": [
    "df.columns holds the column names, so you can print them if you want to see them"
   ]
  },
  {
   "cell_type": "code",
   "execution_count": 9,
   "metadata": {},
   "outputs": [
    {
     "name": "stdout",
     "output_type": "stream",
     "text": [
      "Incongruent Response\n",
      "Congruent Response\n",
      "Incongruent RT\n",
      "Congruent RT\n"
     ]
    }
   ],
   "source": [
    "for col in df.columns: \n",
    "    print(col)"
   ]
  },
  {
   "cell_type": "markdown",
   "metadata": {},
   "source": [
    "## Stacking the data "
   ]
  },
  {
   "cell_type": "markdown",
   "metadata": {},
   "source": [
    "Many times we need our data to be in long format rather than wide format.  Our data is currently in wide format.  To get it into long format, we can `melt` the data.  This saves us lots of copypasta in excel."
   ]
  },
  {
   "cell_type": "code",
   "execution_count": 30,
   "metadata": {},
   "outputs": [
    {
     "data": {
      "text/html": [
       "<div>\n",
       "<style scoped>\n",
       "    .dataframe tbody tr th:only-of-type {\n",
       "        vertical-align: middle;\n",
       "    }\n",
       "\n",
       "    .dataframe tbody tr th {\n",
       "        vertical-align: top;\n",
       "    }\n",
       "\n",
       "    .dataframe thead th {\n",
       "        text-align: right;\n",
       "    }\n",
       "</style>\n",
       "<table border=\"1\" class=\"dataframe\">\n",
       "  <thead>\n",
       "    <tr style=\"text-align: right;\">\n",
       "      <th></th>\n",
       "      <th>Incongruent Response</th>\n",
       "      <th>Congruent Response</th>\n",
       "      <th>Condition</th>\n",
       "      <th>RT</th>\n",
       "    </tr>\n",
       "  </thead>\n",
       "  <tbody>\n",
       "    <tr>\n",
       "      <th>0</th>\n",
       "      <td>correct</td>\n",
       "      <td>correct</td>\n",
       "      <td>Incongruent RT</td>\n",
       "      <td>3.337494</td>\n",
       "    </tr>\n",
       "    <tr>\n",
       "      <th>1</th>\n",
       "      <td>correct</td>\n",
       "      <td>correct</td>\n",
       "      <td>Incongruent RT</td>\n",
       "      <td>4.930971</td>\n",
       "    </tr>\n",
       "    <tr>\n",
       "      <th>2</th>\n",
       "      <td>correct</td>\n",
       "      <td>incorrect</td>\n",
       "      <td>Incongruent RT</td>\n",
       "      <td>5.578868</td>\n",
       "    </tr>\n",
       "    <tr>\n",
       "      <th>3</th>\n",
       "      <td>correct</td>\n",
       "      <td>correct</td>\n",
       "      <td>Incongruent RT</td>\n",
       "      <td>5.454450</td>\n",
       "    </tr>\n",
       "    <tr>\n",
       "      <th>4</th>\n",
       "      <td>incorrect</td>\n",
       "      <td>correct</td>\n",
       "      <td>Incongruent RT</td>\n",
       "      <td>4.068951</td>\n",
       "    </tr>\n",
       "  </tbody>\n",
       "</table>\n",
       "</div>"
      ],
      "text/plain": [
       "  Incongruent Response Congruent Response       Condition        RT\n",
       "0              correct            correct  Incongruent RT  3.337494\n",
       "1              correct            correct  Incongruent RT  4.930971\n",
       "2              correct          incorrect  Incongruent RT  5.578868\n",
       "3              correct            correct  Incongruent RT  5.454450\n",
       "4            incorrect            correct  Incongruent RT  4.068951"
      ]
     },
     "execution_count": 30,
     "metadata": {},
     "output_type": "execute_result"
    }
   ],
   "source": [
    "long_df=df.melt(id_vars=['Incongruent Response', 'Congruent Response'],\n",
    "                  value_vars=['Incongruent RT', 'Congruent RT'],\n",
    "                  var_name = 'Condition', value_name = 'RT') \n",
    "long_df.head()"
   ]
  },
  {
   "cell_type": "markdown",
   "metadata": {},
   "source": [
    "## Indexing data"
   ]
  },
  {
   "cell_type": "markdown",
   "metadata": {},
   "source": [
    "### `iloc`"
   ]
  },
  {
   "cell_type": "markdown",
   "metadata": {},
   "source": [
    "Here we use `iloc` to index our data by it's location, just like you would do in excel... In excel, you would find, for example, cell `A5`.  In Pandas, we do `df.ix[4,0]`.  Don't forget we start counting from 0 in Python, so the 5th row is 4, and the 1st column is 0."
   ]
  },
  {
   "cell_type": "code",
   "execution_count": 11,
   "metadata": {},
   "outputs": [
    {
     "data": {
      "text/plain": [
       "'incorrect'"
      ]
     },
     "execution_count": 11,
     "metadata": {},
     "output_type": "execute_result"
    }
   ],
   "source": [
    "df.iloc[4,0]"
   ]
  },
  {
   "cell_type": "markdown",
   "metadata": {},
   "source": [
    "### `loc`"
   ]
  },
  {
   "cell_type": "markdown",
   "metadata": {},
   "source": [
    "Here we use `loc` to index our data by it's nameDon't forget we start counting from 0 in Python, so the 8th row is 7, and the 1st column is 'Incongruent Response."
   ]
  },
  {
   "cell_type": "code",
   "execution_count": 12,
   "metadata": {},
   "outputs": [
    {
     "data": {
      "text/plain": [
       "'correct'"
      ]
     },
     "execution_count": 12,
     "metadata": {},
     "output_type": "execute_result"
    }
   ],
   "source": [
    "df.loc[7,'Incongruent Response']"
   ]
  },
  {
   "cell_type": "markdown",
   "metadata": {},
   "source": [
    "## `index`\n",
    "\n",
    "In both cases above, we used the `index` or, what we thought was the row number to find our cells.  Pandas created our index for us, and we just pretended it was the row number.  We could have used another column.\n",
    "If you don't have an index but want one, or if you want to chage the index, you can use the method `.set_index()`"
   ]
  },
  {
   "cell_type": "markdown",
   "metadata": {},
   "source": [
    "## Selecting Data\n",
    "\n",
    "You can select data by calling the dataframe, and instead of putting the name of one column, you put in a list of column names that you want.  I'm applying the `head()` method here just to keep the output short.  It's not a part of the selection command."
   ]
  },
  {
   "cell_type": "code",
   "execution_count": 13,
   "metadata": {},
   "outputs": [
    {
     "data": {
      "text/html": [
       "<div>\n",
       "<style scoped>\n",
       "    .dataframe tbody tr th:only-of-type {\n",
       "        vertical-align: middle;\n",
       "    }\n",
       "\n",
       "    .dataframe tbody tr th {\n",
       "        vertical-align: top;\n",
       "    }\n",
       "\n",
       "    .dataframe thead th {\n",
       "        text-align: right;\n",
       "    }\n",
       "</style>\n",
       "<table border=\"1\" class=\"dataframe\">\n",
       "  <thead>\n",
       "    <tr style=\"text-align: right;\">\n",
       "      <th></th>\n",
       "      <th>Incongruent RT</th>\n",
       "      <th>Congruent RT</th>\n",
       "    </tr>\n",
       "  </thead>\n",
       "  <tbody>\n",
       "    <tr>\n",
       "      <th>0</th>\n",
       "      <td>3.337494</td>\n",
       "      <td>2.323392</td>\n",
       "    </tr>\n",
       "    <tr>\n",
       "      <th>1</th>\n",
       "      <td>4.930971</td>\n",
       "      <td>4.887589</td>\n",
       "    </tr>\n",
       "    <tr>\n",
       "      <th>2</th>\n",
       "      <td>5.578868</td>\n",
       "      <td>1.882299</td>\n",
       "    </tr>\n",
       "    <tr>\n",
       "      <th>3</th>\n",
       "      <td>5.454450</td>\n",
       "      <td>2.737523</td>\n",
       "    </tr>\n",
       "    <tr>\n",
       "      <th>4</th>\n",
       "      <td>4.068951</td>\n",
       "      <td>4.020658</td>\n",
       "    </tr>\n",
       "  </tbody>\n",
       "</table>\n",
       "</div>"
      ],
      "text/plain": [
       "   Incongruent RT  Congruent RT\n",
       "0        3.337494      2.323392\n",
       "1        4.930971      4.887589\n",
       "2        5.578868      1.882299\n",
       "3        5.454450      2.737523\n",
       "4        4.068951      4.020658"
      ]
     },
     "execution_count": 13,
     "metadata": {},
     "output_type": "execute_result"
    }
   ],
   "source": [
    "df[['Incongruent RT', 'Congruent RT']].head()"
   ]
  },
  {
   "cell_type": "markdown",
   "metadata": {},
   "source": [
    "### Selecting data by condition\n",
    "You can use expressions to select data that match a number or satisfy an equation. "
   ]
  },
  {
   "cell_type": "code",
   "execution_count": 14,
   "metadata": {},
   "outputs": [
    {
     "data": {
      "text/html": [
       "<div>\n",
       "<style scoped>\n",
       "    .dataframe tbody tr th:only-of-type {\n",
       "        vertical-align: middle;\n",
       "    }\n",
       "\n",
       "    .dataframe tbody tr th {\n",
       "        vertical-align: top;\n",
       "    }\n",
       "\n",
       "    .dataframe thead th {\n",
       "        text-align: right;\n",
       "    }\n",
       "</style>\n",
       "<table border=\"1\" class=\"dataframe\">\n",
       "  <thead>\n",
       "    <tr style=\"text-align: right;\">\n",
       "      <th></th>\n",
       "      <th>Incongruent Response</th>\n",
       "      <th>Congruent Response</th>\n",
       "      <th>Incongruent RT</th>\n",
       "      <th>Congruent RT</th>\n",
       "    </tr>\n",
       "  </thead>\n",
       "  <tbody>\n",
       "    <tr>\n",
       "      <th>0</th>\n",
       "      <td>correct</td>\n",
       "      <td>correct</td>\n",
       "      <td>3.337494</td>\n",
       "      <td>2.323392</td>\n",
       "    </tr>\n",
       "    <tr>\n",
       "      <th>1</th>\n",
       "      <td>correct</td>\n",
       "      <td>correct</td>\n",
       "      <td>4.930971</td>\n",
       "      <td>4.887589</td>\n",
       "    </tr>\n",
       "    <tr>\n",
       "      <th>2</th>\n",
       "      <td>correct</td>\n",
       "      <td>incorrect</td>\n",
       "      <td>5.578868</td>\n",
       "      <td>1.882299</td>\n",
       "    </tr>\n",
       "    <tr>\n",
       "      <th>3</th>\n",
       "      <td>correct</td>\n",
       "      <td>correct</td>\n",
       "      <td>5.454450</td>\n",
       "      <td>2.737523</td>\n",
       "    </tr>\n",
       "    <tr>\n",
       "      <th>5</th>\n",
       "      <td>correct</td>\n",
       "      <td>incorrect</td>\n",
       "      <td>2.087358</td>\n",
       "      <td>4.336129</td>\n",
       "    </tr>\n",
       "  </tbody>\n",
       "</table>\n",
       "</div>"
      ],
      "text/plain": [
       "  Incongruent Response Congruent Response  Incongruent RT  Congruent RT\n",
       "0              correct            correct        3.337494      2.323392\n",
       "1              correct            correct        4.930971      4.887589\n",
       "2              correct          incorrect        5.578868      1.882299\n",
       "3              correct            correct        5.454450      2.737523\n",
       "5              correct          incorrect        2.087358      4.336129"
      ]
     },
     "execution_count": 14,
     "metadata": {},
     "output_type": "execute_result"
    }
   ],
   "source": [
    "df[df[\"Incongruent Response\"] == \"correct\"].head()"
   ]
  },
  {
   "cell_type": "markdown",
   "metadata": {},
   "source": [
    "## Subsetting data"
   ]
  },
  {
   "cell_type": "markdown",
   "metadata": {},
   "source": [
    "### Subsetting by row"
   ]
  },
  {
   "cell_type": "code",
   "execution_count": 15,
   "metadata": {},
   "outputs": [
    {
     "data": {
      "text/html": [
       "<div>\n",
       "<style scoped>\n",
       "    .dataframe tbody tr th:only-of-type {\n",
       "        vertical-align: middle;\n",
       "    }\n",
       "\n",
       "    .dataframe tbody tr th {\n",
       "        vertical-align: top;\n",
       "    }\n",
       "\n",
       "    .dataframe thead th {\n",
       "        text-align: right;\n",
       "    }\n",
       "</style>\n",
       "<table border=\"1\" class=\"dataframe\">\n",
       "  <thead>\n",
       "    <tr style=\"text-align: right;\">\n",
       "      <th></th>\n",
       "      <th>Incongruent Response</th>\n",
       "      <th>Congruent Response</th>\n",
       "      <th>Incongruent RT</th>\n",
       "      <th>Congruent RT</th>\n",
       "    </tr>\n",
       "  </thead>\n",
       "  <tbody>\n",
       "    <tr>\n",
       "      <th>0</th>\n",
       "      <td>correct</td>\n",
       "      <td>correct</td>\n",
       "      <td>3.337494</td>\n",
       "      <td>2.323392</td>\n",
       "    </tr>\n",
       "    <tr>\n",
       "      <th>1</th>\n",
       "      <td>correct</td>\n",
       "      <td>correct</td>\n",
       "      <td>4.930971</td>\n",
       "      <td>4.887589</td>\n",
       "    </tr>\n",
       "    <tr>\n",
       "      <th>2</th>\n",
       "      <td>correct</td>\n",
       "      <td>incorrect</td>\n",
       "      <td>5.578868</td>\n",
       "      <td>1.882299</td>\n",
       "    </tr>\n",
       "  </tbody>\n",
       "</table>\n",
       "</div>"
      ],
      "text/plain": [
       "  Incongruent Response Congruent Response  Incongruent RT  Congruent RT\n",
       "0              correct            correct        3.337494      2.323392\n",
       "1              correct            correct        4.930971      4.887589\n",
       "2              correct          incorrect        5.578868      1.882299"
      ]
     },
     "execution_count": 15,
     "metadata": {},
     "output_type": "execute_result"
    }
   ],
   "source": [
    "df2 = df[0:3]\n",
    "df2"
   ]
  },
  {
   "cell_type": "markdown",
   "metadata": {},
   "source": [
    "### Subsetting by index location"
   ]
  },
  {
   "cell_type": "code",
   "execution_count": 16,
   "metadata": {},
   "outputs": [
    {
     "data": {
      "text/html": [
       "<div>\n",
       "<style scoped>\n",
       "    .dataframe tbody tr th:only-of-type {\n",
       "        vertical-align: middle;\n",
       "    }\n",
       "\n",
       "    .dataframe tbody tr th {\n",
       "        vertical-align: top;\n",
       "    }\n",
       "\n",
       "    .dataframe thead th {\n",
       "        text-align: right;\n",
       "    }\n",
       "</style>\n",
       "<table border=\"1\" class=\"dataframe\">\n",
       "  <thead>\n",
       "    <tr style=\"text-align: right;\">\n",
       "      <th></th>\n",
       "      <th>Congruent Response</th>\n",
       "      <th>Incongruent RT</th>\n",
       "      <th>Congruent RT</th>\n",
       "    </tr>\n",
       "  </thead>\n",
       "  <tbody>\n",
       "    <tr>\n",
       "      <th>2</th>\n",
       "      <td>incorrect</td>\n",
       "      <td>5.578868</td>\n",
       "      <td>1.882299</td>\n",
       "    </tr>\n",
       "    <tr>\n",
       "      <th>3</th>\n",
       "      <td>correct</td>\n",
       "      <td>5.454450</td>\n",
       "      <td>2.737523</td>\n",
       "    </tr>\n",
       "  </tbody>\n",
       "</table>\n",
       "</div>"
      ],
      "text/plain": [
       "  Congruent Response  Incongruent RT  Congruent RT\n",
       "2          incorrect        5.578868      1.882299\n",
       "3            correct        5.454450      2.737523"
      ]
     },
     "execution_count": 16,
     "metadata": {},
     "output_type": "execute_result"
    }
   ],
   "source": [
    "df4 = df.iloc[2:4, 1:4]\n",
    "df4"
   ]
  },
  {
   "cell_type": "markdown",
   "metadata": {},
   "source": [
    "## Calculate the mean reaction times using the `mean()` method."
   ]
  },
  {
   "cell_type": "code",
   "execution_count": 17,
   "metadata": {},
   "outputs": [
    {
     "name": "stdout",
     "output_type": "stream",
     "text": [
      "4.007174274234977\n",
      "2.9231997432777934\n"
     ]
    }
   ],
   "source": [
    "print(df['Incongruent RT'].mean())\n",
    "print(df['Congruent RT'].mean())"
   ]
  },
  {
   "cell_type": "markdown",
   "metadata": {},
   "source": [
    "## Calculate the median reaction times using the `median()` method."
   ]
  },
  {
   "cell_type": "code",
   "execution_count": 18,
   "metadata": {},
   "outputs": [
    {
     "name": "stdout",
     "output_type": "stream",
     "text": [
      "4.295968004486919\n",
      "2.83612501327194\n"
     ]
    }
   ],
   "source": [
    "print(df['Incongruent RT'].median())\n",
    "print(df['Congruent RT'].median())"
   ]
  },
  {
   "cell_type": "markdown",
   "metadata": {},
   "source": [
    "## Calculate the mode of responses times using the `mode()` method.\n",
    "Here we're calculating the mode of responses instead of reaction times because `mode()` calculates the most often occuring value.  Our reaction times are all unique values, so the mode function just returns the original data.  If we want to see the mode method in action, we can use it on the responses, and see what the most often occuring responses are in each category."
   ]
  },
  {
   "cell_type": "code",
   "execution_count": 19,
   "metadata": {},
   "outputs": [
    {
     "name": "stdout",
     "output_type": "stream",
     "text": [
      "0    correct\n",
      "dtype: object\n",
      "0    incorrect\n",
      "dtype: object\n"
     ]
    }
   ],
   "source": [
    "print(df['Incongruent Response'].mode())\n",
    "print(df['Congruent Response'].mode())"
   ]
  },
  {
   "cell_type": "markdown",
   "metadata": {},
   "source": [
    "## Calculate the standard deviation of the reaction times using the `stdev()` method."
   ]
  },
  {
   "cell_type": "code",
   "execution_count": 20,
   "metadata": {},
   "outputs": [
    {
     "name": "stdout",
     "output_type": "stream",
     "text": [
      "1.2993214431884428\n",
      "1.3162985683435848\n"
     ]
    }
   ],
   "source": [
    "print(df['Incongruent RT'].std())\n",
    "print(df['Congruent RT'].std())"
   ]
  },
  {
   "cell_type": "markdown",
   "metadata": {},
   "source": [
    "<h2>Functions &amp; Description</h2>\n",
    "<p>Let us now understand the functions under Descriptive Statistics in Python Pandas. The following table list down the important functions &minus;</p>\n",
    "<table class=\"table table-bordered\">\n",
    "<tr>\n",
    "<th style=\"text-align:center;\">Sr.No.</th>\n",
    "<th style=\"text-align:center;\">Function</th>\n",
    "<th style=\"text-align:center;\">Description</th>\n",
    "</tr>\n",
    "<tr>\n",
    "<td style=\"text-align:center;\">1</td>\n",
    "<td style=\"text-align:center;\">count()</td>\n",
    "<td>Number of non-null observations</td>\n",
    "</tr>\n",
    "<tr>\n",
    "<td style=\"text-align:center;\">2</td>\n",
    "<td style=\"text-align:center;\">sum()</td>\n",
    "<td>Sum of values</td>\n",
    "</tr>\n",
    "<tr>\n",
    "<td style=\"text-align:center;\">3</td>\n",
    "<td style=\"text-align:center;\">mean()</td>\n",
    "<td>Mean of Values</td>\n",
    "</tr>\n",
    "<tr>\n",
    "<td style=\"text-align:center;\">4</td>\n",
    "<td style=\"text-align:center;\">median()</td>\n",
    "<td>Median of Values</td>\n",
    "</tr>\n",
    "<tr>\n",
    "<td style=\"text-align:center;\">5</td>\n",
    "<td style=\"text-align:center;\">mode()</td>\n",
    "<td>Mode of values</td>\n",
    "</tr>\n",
    "<tr>\n",
    "<td style=\"text-align:center;\">6</td>\n",
    "<td style=\"text-align:center;\">std()</td>\n",
    "<td>Standard Deviation of the Values</td>\n",
    "</tr>\n",
    "<tr>\n",
    "<td style=\"text-align:center;\">7</td>\n",
    "<td style=\"text-align:center;\">min()</td>\n",
    "<td>Minimum Value</td>\n",
    "</tr>\n",
    "<tr>\n",
    "<td style=\"text-align:center;\">8</td>\n",
    "<td style=\"text-align:center;\">max()</td>\n",
    "<td>Maximum Value</td>\n",
    "</tr>\n",
    "<tr>\n",
    "<td style=\"text-align:center;\">9</td>\n",
    "<td style=\"text-align:center;\">abs()</td>\n",
    "<td>Absolute Value</td>\n",
    "</tr>\n",
    "<tr>\n",
    "<td style=\"text-align:center;\">10</td>\n",
    "<td style=\"text-align:center;\">prod()</td>\n",
    "<td>Product of Values</td>\n",
    "</tr>\n",
    "<tr>\n",
    "<td style=\"text-align:center;\">11</td>\n",
    "<td style=\"text-align:center;\">cumsum()</td>\n",
    "<td>Cumulative Sum</td>\n",
    "</tr>\n",
    "<tr>\n",
    "<td style=\"text-align:center;\">12</td>\n",
    "<td style=\"text-align:center;\">cumprod()</td>\n",
    "<td>Cumulative Product</td>\n",
    "</tr>\n",
    "</table>\n",
    "\n",
    "https://www.tutorialspoint.com/python_pandas/python_pandas_descriptive_statistics.htm"
   ]
  },
  {
   "cell_type": "markdown",
   "metadata": {},
   "source": [
    "## Describe the data gives a summary of the numerical data in a given dataset"
   ]
  },
  {
   "cell_type": "code",
   "execution_count": 21,
   "metadata": {},
   "outputs": [
    {
     "data": {
      "text/html": [
       "<div>\n",
       "<style scoped>\n",
       "    .dataframe tbody tr th:only-of-type {\n",
       "        vertical-align: middle;\n",
       "    }\n",
       "\n",
       "    .dataframe tbody tr th {\n",
       "        vertical-align: top;\n",
       "    }\n",
       "\n",
       "    .dataframe thead th {\n",
       "        text-align: right;\n",
       "    }\n",
       "</style>\n",
       "<table border=\"1\" class=\"dataframe\">\n",
       "  <thead>\n",
       "    <tr style=\"text-align: right;\">\n",
       "      <th></th>\n",
       "      <th>Incongruent RT</th>\n",
       "      <th>Congruent RT</th>\n",
       "    </tr>\n",
       "  </thead>\n",
       "  <tbody>\n",
       "    <tr>\n",
       "      <th>count</th>\n",
       "      <td>50.000000</td>\n",
       "      <td>50.000000</td>\n",
       "    </tr>\n",
       "    <tr>\n",
       "      <th>mean</th>\n",
       "      <td>4.007174</td>\n",
       "      <td>2.923200</td>\n",
       "    </tr>\n",
       "    <tr>\n",
       "      <th>std</th>\n",
       "      <td>1.299321</td>\n",
       "      <td>1.316299</td>\n",
       "    </tr>\n",
       "    <tr>\n",
       "      <th>min</th>\n",
       "      <td>0.587675</td>\n",
       "      <td>0.850318</td>\n",
       "    </tr>\n",
       "    <tr>\n",
       "      <th>25%</th>\n",
       "      <td>3.222728</td>\n",
       "      <td>1.789289</td>\n",
       "    </tr>\n",
       "    <tr>\n",
       "      <th>50%</th>\n",
       "      <td>4.295968</td>\n",
       "      <td>2.836125</td>\n",
       "    </tr>\n",
       "    <tr>\n",
       "      <th>75%</th>\n",
       "      <td>4.928438</td>\n",
       "      <td>3.796053</td>\n",
       "    </tr>\n",
       "    <tr>\n",
       "      <th>max</th>\n",
       "      <td>5.866785</td>\n",
       "      <td>5.519861</td>\n",
       "    </tr>\n",
       "  </tbody>\n",
       "</table>\n",
       "</div>"
      ],
      "text/plain": [
       "       Incongruent RT  Congruent RT\n",
       "count       50.000000     50.000000\n",
       "mean         4.007174      2.923200\n",
       "std          1.299321      1.316299\n",
       "min          0.587675      0.850318\n",
       "25%          3.222728      1.789289\n",
       "50%          4.295968      2.836125\n",
       "75%          4.928438      3.796053\n",
       "max          5.866785      5.519861"
      ]
     },
     "execution_count": 21,
     "metadata": {},
     "output_type": "execute_result"
    }
   ],
   "source": [
    "df.describe()"
   ]
  },
  {
   "cell_type": "markdown",
   "metadata": {},
   "source": [
    "### We can use `=object` to see info about cells that contain objects, not numbers.  This includes text, like our response variables"
   ]
  },
  {
   "cell_type": "code",
   "execution_count": 22,
   "metadata": {},
   "outputs": [
    {
     "data": {
      "text/html": [
       "<div>\n",
       "<style scoped>\n",
       "    .dataframe tbody tr th:only-of-type {\n",
       "        vertical-align: middle;\n",
       "    }\n",
       "\n",
       "    .dataframe tbody tr th {\n",
       "        vertical-align: top;\n",
       "    }\n",
       "\n",
       "    .dataframe thead th {\n",
       "        text-align: right;\n",
       "    }\n",
       "</style>\n",
       "<table border=\"1\" class=\"dataframe\">\n",
       "  <thead>\n",
       "    <tr style=\"text-align: right;\">\n",
       "      <th></th>\n",
       "      <th>Incongruent Response</th>\n",
       "      <th>Congruent Response</th>\n",
       "    </tr>\n",
       "  </thead>\n",
       "  <tbody>\n",
       "    <tr>\n",
       "      <th>count</th>\n",
       "      <td>50</td>\n",
       "      <td>50</td>\n",
       "    </tr>\n",
       "    <tr>\n",
       "      <th>unique</th>\n",
       "      <td>2</td>\n",
       "      <td>2</td>\n",
       "    </tr>\n",
       "    <tr>\n",
       "      <th>top</th>\n",
       "      <td>correct</td>\n",
       "      <td>incorrect</td>\n",
       "    </tr>\n",
       "    <tr>\n",
       "      <th>freq</th>\n",
       "      <td>39</td>\n",
       "      <td>36</td>\n",
       "    </tr>\n",
       "  </tbody>\n",
       "</table>\n",
       "</div>"
      ],
      "text/plain": [
       "       Incongruent Response Congruent Response\n",
       "count                    50                 50\n",
       "unique                    2                  2\n",
       "top                 correct          incorrect\n",
       "freq                     39                 36"
      ]
     },
     "execution_count": 22,
     "metadata": {},
     "output_type": "execute_result"
    }
   ],
   "source": [
    "df.describe(include=['object'])"
   ]
  },
  {
   "cell_type": "markdown",
   "metadata": {},
   "source": [
    "### We can use `=all` to see all of that info at once.  `NaN` stands for  `not a number`, which is Pandas' N/A value"
   ]
  },
  {
   "cell_type": "code",
   "execution_count": 23,
   "metadata": {},
   "outputs": [
    {
     "data": {
      "text/html": [
       "<div>\n",
       "<style scoped>\n",
       "    .dataframe tbody tr th:only-of-type {\n",
       "        vertical-align: middle;\n",
       "    }\n",
       "\n",
       "    .dataframe tbody tr th {\n",
       "        vertical-align: top;\n",
       "    }\n",
       "\n",
       "    .dataframe thead th {\n",
       "        text-align: right;\n",
       "    }\n",
       "</style>\n",
       "<table border=\"1\" class=\"dataframe\">\n",
       "  <thead>\n",
       "    <tr style=\"text-align: right;\">\n",
       "      <th></th>\n",
       "      <th>Incongruent Response</th>\n",
       "      <th>Congruent Response</th>\n",
       "      <th>Incongruent RT</th>\n",
       "      <th>Congruent RT</th>\n",
       "    </tr>\n",
       "  </thead>\n",
       "  <tbody>\n",
       "    <tr>\n",
       "      <th>count</th>\n",
       "      <td>50</td>\n",
       "      <td>50</td>\n",
       "      <td>50.000000</td>\n",
       "      <td>50.000000</td>\n",
       "    </tr>\n",
       "    <tr>\n",
       "      <th>unique</th>\n",
       "      <td>2</td>\n",
       "      <td>2</td>\n",
       "      <td>NaN</td>\n",
       "      <td>NaN</td>\n",
       "    </tr>\n",
       "    <tr>\n",
       "      <th>top</th>\n",
       "      <td>correct</td>\n",
       "      <td>incorrect</td>\n",
       "      <td>NaN</td>\n",
       "      <td>NaN</td>\n",
       "    </tr>\n",
       "    <tr>\n",
       "      <th>freq</th>\n",
       "      <td>39</td>\n",
       "      <td>36</td>\n",
       "      <td>NaN</td>\n",
       "      <td>NaN</td>\n",
       "    </tr>\n",
       "    <tr>\n",
       "      <th>mean</th>\n",
       "      <td>NaN</td>\n",
       "      <td>NaN</td>\n",
       "      <td>4.007174</td>\n",
       "      <td>2.923200</td>\n",
       "    </tr>\n",
       "    <tr>\n",
       "      <th>std</th>\n",
       "      <td>NaN</td>\n",
       "      <td>NaN</td>\n",
       "      <td>1.299321</td>\n",
       "      <td>1.316299</td>\n",
       "    </tr>\n",
       "    <tr>\n",
       "      <th>min</th>\n",
       "      <td>NaN</td>\n",
       "      <td>NaN</td>\n",
       "      <td>0.587675</td>\n",
       "      <td>0.850318</td>\n",
       "    </tr>\n",
       "    <tr>\n",
       "      <th>25%</th>\n",
       "      <td>NaN</td>\n",
       "      <td>NaN</td>\n",
       "      <td>3.222728</td>\n",
       "      <td>1.789289</td>\n",
       "    </tr>\n",
       "    <tr>\n",
       "      <th>50%</th>\n",
       "      <td>NaN</td>\n",
       "      <td>NaN</td>\n",
       "      <td>4.295968</td>\n",
       "      <td>2.836125</td>\n",
       "    </tr>\n",
       "    <tr>\n",
       "      <th>75%</th>\n",
       "      <td>NaN</td>\n",
       "      <td>NaN</td>\n",
       "      <td>4.928438</td>\n",
       "      <td>3.796053</td>\n",
       "    </tr>\n",
       "    <tr>\n",
       "      <th>max</th>\n",
       "      <td>NaN</td>\n",
       "      <td>NaN</td>\n",
       "      <td>5.866785</td>\n",
       "      <td>5.519861</td>\n",
       "    </tr>\n",
       "  </tbody>\n",
       "</table>\n",
       "</div>"
      ],
      "text/plain": [
       "       Incongruent Response Congruent Response  Incongruent RT  Congruent RT\n",
       "count                    50                 50       50.000000     50.000000\n",
       "unique                    2                  2             NaN           NaN\n",
       "top                 correct          incorrect             NaN           NaN\n",
       "freq                     39                 36             NaN           NaN\n",
       "mean                    NaN                NaN        4.007174      2.923200\n",
       "std                     NaN                NaN        1.299321      1.316299\n",
       "min                     NaN                NaN        0.587675      0.850318\n",
       "25%                     NaN                NaN        3.222728      1.789289\n",
       "50%                     NaN                NaN        4.295968      2.836125\n",
       "75%                     NaN                NaN        4.928438      3.796053\n",
       "max                     NaN                NaN        5.866785      5.519861"
      ]
     },
     "execution_count": 23,
     "metadata": {},
     "output_type": "execute_result"
    }
   ],
   "source": [
    "df. describe(include='all')"
   ]
  },
  {
   "cell_type": "markdown",
   "metadata": {},
   "source": [
    "### Transforming data\n",
    "\n",
    "Let's say we need to apply a function to our data.  Lots of times this is important to understand things on different scales.  Let's explore a natural log scale."
   ]
  },
  {
   "cell_type": "code",
   "execution_count": 24,
   "metadata": {},
   "outputs": [
    {
     "data": {
      "text/html": [
       "<div>\n",
       "<style scoped>\n",
       "    .dataframe tbody tr th:only-of-type {\n",
       "        vertical-align: middle;\n",
       "    }\n",
       "\n",
       "    .dataframe tbody tr th {\n",
       "        vertical-align: top;\n",
       "    }\n",
       "\n",
       "    .dataframe thead th {\n",
       "        text-align: right;\n",
       "    }\n",
       "</style>\n",
       "<table border=\"1\" class=\"dataframe\">\n",
       "  <thead>\n",
       "    <tr style=\"text-align: right;\">\n",
       "      <th></th>\n",
       "      <th>Incongruent Response</th>\n",
       "      <th>Congruent Response</th>\n",
       "      <th>Incongruent RT</th>\n",
       "      <th>Congruent RT</th>\n",
       "      <th>Log of Incongruent RT</th>\n",
       "    </tr>\n",
       "  </thead>\n",
       "  <tbody>\n",
       "    <tr>\n",
       "      <th>0</th>\n",
       "      <td>correct</td>\n",
       "      <td>correct</td>\n",
       "      <td>3.337494</td>\n",
       "      <td>2.323392</td>\n",
       "      <td>1.205220</td>\n",
       "    </tr>\n",
       "    <tr>\n",
       "      <th>1</th>\n",
       "      <td>correct</td>\n",
       "      <td>correct</td>\n",
       "      <td>4.930971</td>\n",
       "      <td>4.887589</td>\n",
       "      <td>1.595536</td>\n",
       "    </tr>\n",
       "    <tr>\n",
       "      <th>2</th>\n",
       "      <td>correct</td>\n",
       "      <td>incorrect</td>\n",
       "      <td>5.578868</td>\n",
       "      <td>1.882299</td>\n",
       "      <td>1.718986</td>\n",
       "    </tr>\n",
       "  </tbody>\n",
       "</table>\n",
       "</div>"
      ],
      "text/plain": [
       "  Incongruent Response Congruent Response  Incongruent RT  Congruent RT  \\\n",
       "0              correct            correct        3.337494      2.323392   \n",
       "1              correct            correct        4.930971      4.887589   \n",
       "2              correct          incorrect        5.578868      1.882299   \n",
       "\n",
       "   Log of Incongruent RT  \n",
       "0               1.205220  \n",
       "1               1.595536  \n",
       "2               1.718986  "
      ]
     },
     "execution_count": 24,
     "metadata": {},
     "output_type": "execute_result"
    }
   ],
   "source": [
    "import numpy as np\n",
    "df['Log of Incongruent RT'] = df['Incongruent RT'].transform(np.log)\n",
    "df.head(3)"
   ]
  },
  {
   "cell_type": "markdown",
   "metadata": {},
   "source": [
    "### Another way to do that"
   ]
  },
  {
   "cell_type": "code",
   "execution_count": 25,
   "metadata": {},
   "outputs": [
    {
     "data": {
      "text/html": [
       "<div>\n",
       "<style scoped>\n",
       "    .dataframe tbody tr th:only-of-type {\n",
       "        vertical-align: middle;\n",
       "    }\n",
       "\n",
       "    .dataframe tbody tr th {\n",
       "        vertical-align: top;\n",
       "    }\n",
       "\n",
       "    .dataframe thead th {\n",
       "        text-align: right;\n",
       "    }\n",
       "</style>\n",
       "<table border=\"1\" class=\"dataframe\">\n",
       "  <thead>\n",
       "    <tr style=\"text-align: right;\">\n",
       "      <th></th>\n",
       "      <th>Incongruent Response</th>\n",
       "      <th>Congruent Response</th>\n",
       "      <th>Incongruent RT</th>\n",
       "      <th>Congruent RT</th>\n",
       "      <th>Log of Incongruent RT</th>\n",
       "      <th>Log of congruent RT</th>\n",
       "    </tr>\n",
       "  </thead>\n",
       "  <tbody>\n",
       "    <tr>\n",
       "      <th>0</th>\n",
       "      <td>correct</td>\n",
       "      <td>correct</td>\n",
       "      <td>3.337494</td>\n",
       "      <td>2.323392</td>\n",
       "      <td>1.205220</td>\n",
       "      <td>0.843028</td>\n",
       "    </tr>\n",
       "    <tr>\n",
       "      <th>1</th>\n",
       "      <td>correct</td>\n",
       "      <td>correct</td>\n",
       "      <td>4.930971</td>\n",
       "      <td>4.887589</td>\n",
       "      <td>1.595536</td>\n",
       "      <td>1.586699</td>\n",
       "    </tr>\n",
       "    <tr>\n",
       "      <th>2</th>\n",
       "      <td>correct</td>\n",
       "      <td>incorrect</td>\n",
       "      <td>5.578868</td>\n",
       "      <td>1.882299</td>\n",
       "      <td>1.718986</td>\n",
       "      <td>0.632494</td>\n",
       "    </tr>\n",
       "  </tbody>\n",
       "</table>\n",
       "</div>"
      ],
      "text/plain": [
       "  Incongruent Response Congruent Response  Incongruent RT  Congruent RT  \\\n",
       "0              correct            correct        3.337494      2.323392   \n",
       "1              correct            correct        4.930971      4.887589   \n",
       "2              correct          incorrect        5.578868      1.882299   \n",
       "\n",
       "   Log of Incongruent RT  Log of congruent RT  \n",
       "0               1.205220             0.843028  \n",
       "1               1.595536             1.586699  \n",
       "2               1.718986             0.632494  "
      ]
     },
     "execution_count": 25,
     "metadata": {},
     "output_type": "execute_result"
    }
   ],
   "source": [
    "df['Log of congruent RT'] = np.log(df['Congruent RT'])\n",
    "df.head(3)"
   ]
  },
  {
   "cell_type": "markdown",
   "metadata": {},
   "source": [
    "## Calculating across axes using `apply`\n",
    "Sometimes you want to calculate across rows, sometimes down columns.  `apply` is the command to do that.\n",
    "\n",
    "<div class=\"alert alert-info\">\n",
    "<list>\n",
    "    <li>Axis 0 is rows</li>\n",
    "    <li>Axis 1 is columns</li>\n",
    "</list>\n",
    "\n"
   ]
  },
  {
   "cell_type": "markdown",
   "metadata": {},
   "source": [
    "Let's calculate the mean reaction time for each trial.\n",
    "- First we subset the data"
   ]
  },
  {
   "cell_type": "code",
   "execution_count": 26,
   "metadata": {},
   "outputs": [
    {
     "data": {
      "text/html": [
       "<div>\n",
       "<style scoped>\n",
       "    .dataframe tbody tr th:only-of-type {\n",
       "        vertical-align: middle;\n",
       "    }\n",
       "\n",
       "    .dataframe tbody tr th {\n",
       "        vertical-align: top;\n",
       "    }\n",
       "\n",
       "    .dataframe thead th {\n",
       "        text-align: right;\n",
       "    }\n",
       "</style>\n",
       "<table border=\"1\" class=\"dataframe\">\n",
       "  <thead>\n",
       "    <tr style=\"text-align: right;\">\n",
       "      <th></th>\n",
       "      <th>Incongruent RT</th>\n",
       "      <th>Congruent RT</th>\n",
       "    </tr>\n",
       "  </thead>\n",
       "  <tbody>\n",
       "    <tr>\n",
       "      <th>0</th>\n",
       "      <td>3.337494</td>\n",
       "      <td>2.323392</td>\n",
       "    </tr>\n",
       "    <tr>\n",
       "      <th>1</th>\n",
       "      <td>4.930971</td>\n",
       "      <td>4.887589</td>\n",
       "    </tr>\n",
       "  </tbody>\n",
       "</table>\n",
       "</div>"
      ],
      "text/plain": [
       "   Incongruent RT  Congruent RT\n",
       "0        3.337494      2.323392\n",
       "1        4.930971      4.887589"
      ]
     },
     "execution_count": 26,
     "metadata": {},
     "output_type": "execute_result"
    }
   ],
   "source": [
    "rtData = df.iloc[:-1, 2:4]\n",
    "rtData.head(2)"
   ]
  },
  {
   "cell_type": "code",
   "execution_count": 27,
   "metadata": {},
   "outputs": [
    {
     "data": {
      "text/html": [
       "<div>\n",
       "<style scoped>\n",
       "    .dataframe tbody tr th:only-of-type {\n",
       "        vertical-align: middle;\n",
       "    }\n",
       "\n",
       "    .dataframe tbody tr th {\n",
       "        vertical-align: top;\n",
       "    }\n",
       "\n",
       "    .dataframe thead th {\n",
       "        text-align: right;\n",
       "    }\n",
       "</style>\n",
       "<table border=\"1\" class=\"dataframe\">\n",
       "  <thead>\n",
       "    <tr style=\"text-align: right;\">\n",
       "      <th></th>\n",
       "      <th>Incongruent Response</th>\n",
       "      <th>Congruent Response</th>\n",
       "      <th>Incongruent RT</th>\n",
       "      <th>Congruent RT</th>\n",
       "      <th>Log of Incongruent RT</th>\n",
       "      <th>Log of congruent RT</th>\n",
       "      <th>Mean Reaction Time</th>\n",
       "    </tr>\n",
       "  </thead>\n",
       "  <tbody>\n",
       "    <tr>\n",
       "      <th>0</th>\n",
       "      <td>correct</td>\n",
       "      <td>correct</td>\n",
       "      <td>3.337494</td>\n",
       "      <td>2.323392</td>\n",
       "      <td>1.205220</td>\n",
       "      <td>0.843028</td>\n",
       "      <td>2.830443</td>\n",
       "    </tr>\n",
       "    <tr>\n",
       "      <th>1</th>\n",
       "      <td>correct</td>\n",
       "      <td>correct</td>\n",
       "      <td>4.930971</td>\n",
       "      <td>4.887589</td>\n",
       "      <td>1.595536</td>\n",
       "      <td>1.586699</td>\n",
       "      <td>4.909280</td>\n",
       "    </tr>\n",
       "    <tr>\n",
       "      <th>2</th>\n",
       "      <td>correct</td>\n",
       "      <td>incorrect</td>\n",
       "      <td>5.578868</td>\n",
       "      <td>1.882299</td>\n",
       "      <td>1.718986</td>\n",
       "      <td>0.632494</td>\n",
       "      <td>3.730584</td>\n",
       "    </tr>\n",
       "    <tr>\n",
       "      <th>3</th>\n",
       "      <td>correct</td>\n",
       "      <td>correct</td>\n",
       "      <td>5.454450</td>\n",
       "      <td>2.737523</td>\n",
       "      <td>1.696432</td>\n",
       "      <td>1.007053</td>\n",
       "      <td>4.095986</td>\n",
       "    </tr>\n",
       "    <tr>\n",
       "      <th>4</th>\n",
       "      <td>incorrect</td>\n",
       "      <td>correct</td>\n",
       "      <td>4.068951</td>\n",
       "      <td>4.020658</td>\n",
       "      <td>1.403385</td>\n",
       "      <td>1.391446</td>\n",
       "      <td>4.044804</td>\n",
       "    </tr>\n",
       "  </tbody>\n",
       "</table>\n",
       "</div>"
      ],
      "text/plain": [
       "  Incongruent Response Congruent Response  Incongruent RT  Congruent RT  \\\n",
       "0              correct            correct        3.337494      2.323392   \n",
       "1              correct            correct        4.930971      4.887589   \n",
       "2              correct          incorrect        5.578868      1.882299   \n",
       "3              correct            correct        5.454450      2.737523   \n",
       "4            incorrect            correct        4.068951      4.020658   \n",
       "\n",
       "   Log of Incongruent RT  Log of congruent RT  Mean Reaction Time  \n",
       "0               1.205220             0.843028            2.830443  \n",
       "1               1.595536             1.586699            4.909280  \n",
       "2               1.718986             0.632494            3.730584  \n",
       "3               1.696432             1.007053            4.095986  \n",
       "4               1.403385             1.391446            4.044804  "
      ]
     },
     "execution_count": 27,
     "metadata": {},
     "output_type": "execute_result"
    }
   ],
   "source": [
    "df['Mean Reaction Time'] = rtData.apply(np.mean, axis=1)\n",
    "df.head()"
   ]
  },
  {
   "cell_type": "markdown",
   "metadata": {},
   "source": [
    "## Calculate proportion correct by applying a conditional count method.\n",
    "\n",
    "### This is like `countif` in excel"
   ]
  },
  {
   "cell_type": "code",
   "execution_count": 28,
   "metadata": {},
   "outputs": [
    {
     "name": "stdout",
     "output_type": "stream",
     "text": [
      "0.78 0.28\n"
     ]
    }
   ],
   "source": [
    "proportion_correct_incongruent = (df[df[\"Incongruent Response\"] == \"correct\"].count(axis=0) / 50)[0]\n",
    "proportion_correct_congruent = (df[df[\"Congruent Response\"] == \"correct\"].count(axis=0) / 50)[0]\n",
    "print(proportion_correct_incongruent, proportion_correct_congruent)"
   ]
  },
  {
   "cell_type": "markdown",
   "metadata": {},
   "source": [
    "That was s a complicated statment.  Let's break it down.\n",
    "- `df[df[\"Incongruent Response\"] == \"correct\"]` is the exact same conditional search we used in the previous example\n",
    "- we apply the `count()` method on `axis=0`, which means across rows.\n",
    "- So we're counting the number of cells in each column that corresponds to correct incongruent responses\n",
    "- `50` is the number of trials.  \n",
    "    - When we divide the count by the number of items how we get a proportion.\n",
    "- Recall that the conditional search returns a Pandas series\n",
    "    - encapsulate the statement in `()`\n",
    "    - ask for the first element in the series `[0]`"
   ]
  },
  {
   "cell_type": "code",
   "execution_count": null,
   "metadata": {},
   "outputs": [],
   "source": []
  }
 ],
 "metadata": {
  "kernelspec": {
   "display_name": "Python 3",
   "language": "python",
   "name": "python3"
  },
  "language_info": {
   "codemirror_mode": {
    "name": "ipython",
    "version": 3
   },
   "file_extension": ".py",
   "mimetype": "text/x-python",
   "name": "python",
   "nbconvert_exporter": "python",
   "pygments_lexer": "ipython3",
   "version": "3.7.3"
  },
  "toc": {
   "base_numbering": 1,
   "nav_menu": {},
   "number_sections": false,
   "sideBar": false,
   "skip_h1_title": false,
   "title_cell": "Table of Contents",
   "title_sidebar": "Contents",
   "toc_cell": false,
   "toc_position": {},
   "toc_section_display": false,
   "toc_window_display": false
  }
 },
 "nbformat": 4,
 "nbformat_minor": 2
}
