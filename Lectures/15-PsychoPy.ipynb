{
 "cells": [
  {
   "cell_type": "markdown",
   "metadata": {},
   "source": [
    "<img src=\"img/psychopyLogoType3_h240.png\">\n",
    "\n",
    "# <a href=\"https://www.psychopy.org/\">PsychoPy</a> is an open-source application allowing you run a wide range of neuroscience, psychology and psychophysics experiments."
   ]
  },
  {
   "cell_type": "markdown",
   "metadata": {},
   "source": [
    "# Installing PsychoPy"
   ]
  },
  {
   "cell_type": "markdown",
   "metadata": {},
   "source": [
    "Psychopy offers installable applications for Mac and Windows.  Unless you are an advanced user, it's recommended you download the appropriate standalone version for your computer here, from the author's GitHub site: https://github.com/psychopy/psychopy/releases\n",
    "\n",
    "<div class=\"alert alert-warning\">\n",
    " We are using PsychoPy 3, not PsychoPy 2.  Make sure you install the proper version so you're using Python 3.\n",
    "</div>"
   ]
  },
  {
   "cell_type": "markdown",
   "metadata": {},
   "source": [
    "- For windows, choose: `StandalonePsychoPy3-3.1.5-win64.exe`\n",
    "- For mac, choose: `StandalonePsychoPy3-3.1.5-MacOS.dmg`\n",
    "- For linux\n",
    "    - follow instructions here: https://www.psychopy.org/download.html#download\n",
    "        - Remember to use the version of `pip` inside the `/anaconda3/bin/` you installed for class\n",
    "    - or compile the source on the GitHub: https://www.psychopy.org/download.html#download"
   ]
  },
  {
   "cell_type": "markdown",
   "metadata": {},
   "source": [
    "# Starting PsychoPy\n",
    "- Start PsychoPy program however you normally start programs."
   ]
  },
  {
   "cell_type": "markdown",
   "metadata": {},
   "source": [
    "# Psychopy Examples"
   ]
  },
  {
   "cell_type": "markdown",
   "metadata": {},
   "source": [
    "## Stimuli Types"
   ]
  },
  {
   "cell_type": "markdown",
   "metadata": {},
   "source": [
    "### Visual Gratings\n",
    "\n"
   ]
  },
  {
   "cell_type": "markdown",
   "metadata": {},
   "source": [
    "### Auditory Stimuli"
   ]
  },
  {
   "cell_type": "code",
   "execution_count": 33,
   "metadata": {},
   "outputs": [
    {
     "name": "stdout",
     "output_type": "stream",
     "text": [
      "Using sounddevice (with None) for sounds\n",
      "done\n",
      "2515.9519 \tEXP \tSound  set volume 0.800\n"
     ]
    },
    {
     "ename": "SystemExit",
     "evalue": "0",
     "output_type": "error",
     "traceback": [
      "An exception has occurred, use %tb to see the full traceback.\n",
      "\u001b[0;31mSystemExit\u001b[0m\u001b[0;31m:\u001b[0m 0\n"
     ]
    }
   ],
   "source": [
    "#!/usr/bin/env python\n",
    "# -*- coding: utf-8 -*-\n",
    "\n",
    "import sys\n",
    "from psychopy import logging, prefs\n",
    "logging.console.setLevel(logging.DEBUG)  # get messages about the sound lib as it loads\n",
    "\n",
    "from psychopy import sound, core\n",
    "\n",
    "print('Using %s (with %s) for sounds' % (sound.audioLib, sound.audioDriver))\n",
    "\n",
    "highA = sound.Sound('A', octave=3, sampleRate=44100, secs=0.8, stereo=True)\n",
    "highA.setVolume(0.8)\n",
    "tick = sound.Sound(800, secs=0.01, sampleRate=44100, stereo=True)  # sample rate ignored because already set\n",
    "tock = sound.Sound('600', secs=0.01, sampleRate=44100, stereo=True)\n",
    "\n",
    "highA.play()\n",
    "core.wait(0.8)\n",
    "tick.play()\n",
    "core.wait(0.4)\n",
    "tock.play()\n",
    "core.wait(0.6)\n",
    "\n",
    "if sys.platform == 'win32':\n",
    "    ding = sound.Sound('ding')\n",
    "    ding.play()\n",
    "\n",
    "    core.wait(1)\n",
    "\n",
    "    tada = sound.Sound('tada.wav')\n",
    "    tada.play()\n",
    "\n",
    "    core.wait(2)\n",
    "print('done')\n",
    "\n",
    "core.quit()\n",
    "\n",
    "# The contents of this file are in the public domain."
   ]
  },
  {
   "cell_type": "markdown",
   "metadata": {},
   "source": [
    "### Visual Stimuli"
   ]
  },
  {
   "cell_type": "markdown",
   "metadata": {},
   "source": [
    "## Response Types"
   ]
  },
  {
   "cell_type": "markdown",
   "metadata": {},
   "source": [
    "### Rating Scales"
   ]
  },
  {
   "cell_type": "markdown",
   "metadata": {},
   "source": [
    "### Using External Modules to Generate Stimuli"
   ]
  },
  {
   "cell_type": "markdown",
   "metadata": {},
   "source": [
    "### Button Box\n",
    "Here is an experiment example using code written by Miroslav Cika to use a button box he made with an Aduino."
   ]
  },
  {
   "cell_type": "markdown",
   "metadata": {},
   "source": [
    "# Builder and Coder"
   ]
  },
  {
   "cell_type": "markdown",
   "metadata": {},
   "source": [
    "Psychopy has builder mode and coder mode.  In our class, we're going to use coder mode."
   ]
  },
  {
   "cell_type": "markdown",
   "metadata": {},
   "source": [
    "### Hello World in PsychoPy\n",
    "\n",
    "Saying `Hello world` in PsychoPy takes a few steps.  That's because there's lots of parts to an experiment.  "
   ]
  },
  {
   "cell_type": "markdown",
   "metadata": {},
   "source": [
    "#### Load the Modules"
   ]
  },
  {
   "cell_type": "code",
   "execution_count": 35,
   "metadata": {},
   "outputs": [],
   "source": [
    "from psychopy import visual, core  # import psychopy's core and the visual module"
   ]
  },
  {
   "cell_type": "markdown",
   "metadata": {},
   "source": [
    "#### Create a window\n",
    "- Visual programs have windows where things appear on the screen.  \n",
    "- Look at your web browser\n",
    "    - there's a window with menus, buttons, and a web page on it.  \n",
    "    - In PsychoPy, we have to make a window to type `Hello World` on.\n",
    "\n",
    "- Previoulsy, we imported the `visual` _module_ from `psychopy`.  \n",
    "- Create an _instance_ of the `Window` _class_.  \n",
    "    - Specify the size of the window with the _list_ `[400, 400]`"
   ]
  },
  {
   "cell_type": "code",
   "execution_count": 36,
   "metadata": {},
   "outputs": [],
   "source": [
    "win = visual.Window([400,400])  # create a window size 400 x 400"
   ]
  },
  {
   "cell_type": "markdown",
   "metadata": {},
   "source": [
    "#### Tell Psychopy what message to write on the screen.  \n",
    "- To do this, we need to tell PsychoPy that we want to present Text Stimuli.  \n",
    "- create an _instance_ the `TextStim` _class_ called `message`.  \n",
    "    - That message goes into `win`, which is the window we just created. \n",
    "- The message contains the text `Hello world`."
   ]
  },
  {
   "cell_type": "code",
   "execution_count": 37,
   "metadata": {},
   "outputs": [],
   "source": [
    "message = visual.TextStim(win, text='Hello world')  # create a message that is a visual text stimulus"
   ]
  },
  {
   "cell_type": "markdown",
   "metadata": {},
   "source": [
    "####  Set the message to automatically be drawn\n",
    "- The previous code just created the `message` object.  It didn't draw it on the window.  \n",
    "- To do that, we will set the `autoDraw` boolean asset to True"
   ]
  },
  {
   "cell_type": "code",
   "execution_count": 38,
   "metadata": {},
   "outputs": [],
   "source": [
    "message.autoDraw = True  # Automatically draw that message on the window"
   ]
  },
  {
   "cell_type": "markdown",
   "metadata": {},
   "source": [
    "#### Flip the window\n",
    "Ack! We still can't see something on the screen.  \n",
    "- Imagine the screen is covered by a window curtain and you need to reveal what's behind the curtain to see everything you put on the window.\n",
    "- The window shade is a buffer and makes sure everything is 100% ready to go before we reveal what's behind the curtain.\n",
    "    - That's super important in experiments so that we are sure everything gets timed perfectly."
   ]
  },
  {
   "cell_type": "code",
   "execution_count": 39,
   "metadata": {},
   "outputs": [
    {
     "data": {
      "text/plain": [
       "2737.398643685"
      ]
     },
     "execution_count": 39,
     "metadata": {},
     "output_type": "execute_result"
    }
   ],
   "source": [
    "win.flip()  # Show the window"
   ]
  },
  {
   "cell_type": "markdown",
   "metadata": {},
   "source": [
    "Tell PsychoPy to wait 10 seconds before doing the next command"
   ]
  },
  {
   "cell_type": "code",
   "execution_count": 40,
   "metadata": {},
   "outputs": [],
   "source": [
    "core.wait(10)"
   ]
  },
  {
   "cell_type": "markdown",
   "metadata": {},
   "source": [
    "Close the window"
   ]
  },
  {
   "cell_type": "code",
   "execution_count": 41,
   "metadata": {},
   "outputs": [
    {
     "name": "stdout",
     "output_type": "stream",
     "text": [
      "2728.8100 \tEXP \tCreated unnamed TextStim = TextStim(__class__=<class 'psychopy.visual.text.TextStim'>, alignHoriz='center', alignVert='center', antialias=True, autoLog=True, bold=False, color='red', colorSpace='named', contrast=1.0, depth=0, flipHoriz=False, flipVert=False, font='', fontFiles=[], height=0.1, italic=False, languageStyle='LTR', name='unnamed TextStim', opacity=1.0, ori=0.0, pos=array([0., 0.]), rgb=array([255.,   0.,   0.]), text='Hello world', units='norm', win=Window(...), wrapWidth=1)\n",
      "2733.2707 \tWARNING \tMonitor specification not found. Creating a temporary one...\n",
      "2733.4434 \tWARNING \tThe size of the gamma ramp was reported as 0. This can mean that gamma settings have no effect. Proceeding with a default gamma ramp size.\n",
      "2733.4437 \tWARNING \tThe size of the gamma ramp was reported as 0. This can mean that gamma settings have no effect. Proceeding with a default gamma ramp size.\n",
      "2733.7927 \tEXP \tCreated window1 = Window(allowGUI=True, allowStencil=False, args=UNKNOWN, autoLog=True, bitsMode=UNKNOWN, blendMode='avg', color=array([0., 0., 0.]), colorSpace='rgb', fullscr=<method-wrapper '__getattribute__' of attributeSetter object at 0x7fac81354390>, gamma=None, kwargs=UNKNOWN, lms=UNKNOWN, monitor=<psychopy.monitors.calibTools.Monitor object at 0x7fac778723c8>, multiSample=False, name='window1', numSamples=2, pos=[1400.0, 700.0], screen=0, size=array([400, 400]), stereo=False, units='norm', useFBO=False, useRetina=False, viewOri=0.0, viewPos=None, viewScale=None, waitBlanking=True, winType='pyglet')\n",
      "2734.1048 \tEXP \tCreated unnamed TextStim = TextStim(__class__=<class 'psychopy.visual.text.TextStim'>, alignHoriz='center', alignVert='center', antialias=True, autoLog=True, bold=False, color='red', colorSpace='named', contrast=1.0, depth=0, flipHoriz=False, flipVert=False, font='', fontFiles=[], height=0.1, italic=False, languageStyle='LTR', name='unnamed TextStim', opacity=1.0, ori=0.0, pos=array([0., 0.]), rgb=array([255.,   0.,   0.]), text='Hello world', units='norm', win=Window(...), wrapWidth=1)\n",
      "2737.3986 \tEXP \tunnamed TextStim: autoDraw = True\n",
      "2755.5176 \tEXP \twindow1: mouseVisible = True\n"
     ]
    }
   ],
   "source": [
    "win.close()"
   ]
  },
  {
   "cell_type": "markdown",
   "metadata": {},
   "source": [
    "#### We can change the stimulus by taking the previous code, and changing some attributes of the message\n",
    "- remember that message is an instance of the TextStim class, so it has more attributes available to it.  If we forget, we can type `dir message`"
   ]
  },
  {
   "cell_type": "code",
   "execution_count": 7,
   "metadata": {},
   "outputs": [
    {
     "data": {
      "text/plain": [
       "['__class__',\n",
       " '__del__',\n",
       " '__delattr__',\n",
       " '__dict__',\n",
       " '__dir__',\n",
       " '__doc__',\n",
       " '__eq__',\n",
       " '__format__',\n",
       " '__ge__',\n",
       " '__getattribute__',\n",
       " '__gt__',\n",
       " '__hash__',\n",
       " '__init__',\n",
       " '__init_subclass__',\n",
       " '__le__',\n",
       " '__lt__',\n",
       " '__module__',\n",
       " '__ne__',\n",
       " '__new__',\n",
       " '__reduce__',\n",
       " '__reduce_ex__',\n",
       " '__repr__',\n",
       " '__setattr__',\n",
       " '__sizeof__',\n",
       " '__str__',\n",
       " '__subclasshook__',\n",
       " '__weakref__',\n",
       " '_borderBase',\n",
       " '_borderPix',\n",
       " '_calcPosRendered',\n",
       " '_calcSizeRendered',\n",
       " '_font',\n",
       " '_fontHeightPix',\n",
       " '_getDesiredRGB',\n",
       " '_getPolyAsRendered',\n",
       " '_heightPix',\n",
       " '_initParams',\n",
       " '_listID',\n",
       " '_needSetText',\n",
       " '_needUpdate',\n",
       " '_needVertexUpdate',\n",
       " '_pygletTextObj',\n",
       " '_rotationMatrix',\n",
       " '_selectWindow',\n",
       " '_set',\n",
       " '_setTextNoShaders',\n",
       " '_setTextShaders',\n",
       " '_updateList',\n",
       " '_updateListNoShaders',\n",
       " '_updateListShaders',\n",
       " '_updateVertices',\n",
       " '_verticesBase',\n",
       " '_wrapWidthPix',\n",
       " 'alignHoriz',\n",
       " 'alignVert',\n",
       " 'antialias',\n",
       " 'autoDraw',\n",
       " 'autoLog',\n",
       " 'bold',\n",
       " 'boundingBox',\n",
       " 'color',\n",
       " 'colorSpace',\n",
       " 'contains',\n",
       " 'contrast',\n",
       " 'depth',\n",
       " 'draw',\n",
       " 'flipHoriz',\n",
       " 'flipVert',\n",
       " 'font',\n",
       " 'fontFiles',\n",
       " 'h',\n",
       " 'height',\n",
       " 'italic',\n",
       " 'languageStyle',\n",
       " 'name',\n",
       " 'opacity',\n",
       " 'ori',\n",
       " 'overlaps',\n",
       " 'pos',\n",
       " 'posPix',\n",
       " 'rgb',\n",
       " 'setAutoDraw',\n",
       " 'setAutoLog',\n",
       " 'setColor',\n",
       " 'setContrast',\n",
       " 'setDKL',\n",
       " 'setDepth',\n",
       " 'setFlip',\n",
       " 'setFlipHoriz',\n",
       " 'setFlipVert',\n",
       " 'setFont',\n",
       " 'setHeight',\n",
       " 'setLMS',\n",
       " 'setOpacity',\n",
       " 'setOri',\n",
       " 'setPos',\n",
       " 'setRGB',\n",
       " 'setSize',\n",
       " 'setText',\n",
       " 'setUseShaders',\n",
       " 'size',\n",
       " 'status',\n",
       " 'text',\n",
       " 'units',\n",
       " 'useShaders',\n",
       " 'verticesPix',\n",
       " 'width',\n",
       " 'win',\n",
       " 'wrapWidth']"
      ]
     },
     "execution_count": 7,
     "metadata": {},
     "output_type": "execute_result"
    }
   ],
   "source": [
    "dir(message)"
   ]
  },
  {
   "cell_type": "markdown",
   "metadata": {},
   "source": [
    "#### Some fun and useful things we can change are `text` and `color`.\n",
    "\n",
    "Let's begin by drawing that `Hello world` text in the window."
   ]
  },
  {
   "cell_type": "code",
   "execution_count": 9,
   "metadata": {},
   "outputs": [],
   "source": [
    "from psychopy import visual, core  # import psychopy's core and the visual module\n",
    "win = visual.Window([400,400])  # create a window size 400 x 400\n",
    "message = visual.TextStim(win, text='Hello world')  # create a message that is a visual text stimulus\n",
    "message.autoDraw = True  # Automatically draw that message on the window\n",
    "win.flip()  # Show the window\n",
    "core.wait(10)\n"
   ]
  },
  {
   "cell_type": "markdown",
   "metadata": {},
   "source": [
    "#### Now let's update the  `text` and `color`."
   ]
  },
  {
   "cell_type": "code",
   "execution_count": 10,
   "metadata": {},
   "outputs": [],
   "source": [
    "message.text = \"This is green\"  # make a \n",
    "message.color = \"red\"\n",
    "message.setOri = 180\n",
    "win.flip()  # Show the window\n",
    "core.wait(10)"
   ]
  },
  {
   "cell_type": "code",
   "execution_count": 6,
   "metadata": {},
   "outputs": [],
   "source": [
    "win.close()"
   ]
  }
 ],
 "metadata": {
  "kernelspec": {
   "display_name": "Python 3",
   "language": "python",
   "name": "python3"
  },
  "language_info": {
   "codemirror_mode": {
    "name": "ipython",
    "version": 3
   },
   "file_extension": ".py",
   "mimetype": "text/x-python",
   "name": "python",
   "nbconvert_exporter": "python",
   "pygments_lexer": "ipython3",
   "version": "3.7.3"
  },
  "toc": {
   "base_numbering": 1,
   "nav_menu": {},
   "number_sections": false,
   "sideBar": false,
   "skip_h1_title": false,
   "title_cell": "Table of Contents",
   "title_sidebar": "Contents",
   "toc_cell": false,
   "toc_position": {},
   "toc_section_display": false,
   "toc_window_display": false
  }
 },
 "nbformat": 4,
 "nbformat_minor": 2
}
