{
 "cells": [
  {
   "cell_type": "markdown",
   "metadata": {},
   "source": [
    "<img src=\"img/psychopyLogoType3_h240.png\">\n",
    "\n",
    "# <a href=\"https://www.psychopy.org/\">PsychoPy</a> is an open-source application allowing you run a wide range of neuroscience, psychology and psychophysics experiments."
   ]
  },
  {
   "cell_type": "markdown",
   "metadata": {},
   "source": [
    "# Installing PsychoPy"
   ]
  },
  {
   "cell_type": "markdown",
   "metadata": {},
   "source": [
    "Psychopy offers installable applications for Mac and Windows.  Unless you are an advanced user, it's recommended you download the appropriate standalone version for your computer here, from the author's GitHub site: https://github.com/psychopy/psychopy/releases\n",
    "\n",
    "<div class=\"alert alert-warning\">\n",
    " We are using PsychoPy 3, not PsychoPy 2.  Make sure you install the proper version so you're using Python 3.\n",
    "</div>"
   ]
  },
  {
   "cell_type": "markdown",
   "metadata": {},
   "source": [
    "- For windows, choose: `StandalonePsychoPy3-3.1.5-win64.exe`\n",
    "- For mac, choose: `StandalonePsychoPy3-3.1.5-MacOS.dmg`\n",
    "- For linux\n",
    "    - follow instructions here: https://www.psychopy.org/download.html#download\n",
    "        - Remember to use the version of `pip` inside the `/anaconda3/bin/` you installed for class\n",
    "    - or compile the source on the GitHub: https://www.psychopy.org/download.html#download"
   ]
  },
  {
   "cell_type": "markdown",
   "metadata": {},
   "source": [
    "# Starting PsychoPy\n",
    "- Start PsychoPy program however you normally start programs.\n",
    "\n",
    "# Make sure you put pictures here"
   ]
  },
  {
   "cell_type": "markdown",
   "metadata": {},
   "source": [
    "# Builder and Coder"
   ]
  },
  {
   "cell_type": "markdown",
   "metadata": {},
   "source": [
    "Psychopy has builder mode and coder mode.  In our class, we're going to use coder mode."
   ]
  }
 ],
 "metadata": {
  "kernelspec": {
   "display_name": "Python 3",
   "language": "python",
   "name": "python3"
  },
  "language_info": {
   "codemirror_mode": {
    "name": "ipython",
    "version": 3
   },
   "file_extension": ".py",
   "mimetype": "text/x-python",
   "name": "python",
   "nbconvert_exporter": "python",
   "pygments_lexer": "ipython3",
   "version": "3.7.1"
  }
 },
 "nbformat": 4,
 "nbformat_minor": 2
}
