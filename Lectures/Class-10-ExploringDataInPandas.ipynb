{
 "cells": [
  {
   "cell_type": "markdown",
   "metadata": {},
   "source": [
    "# Data Wrangling"
   ]
  },
  {
   "cell_type": "markdown",
   "metadata": {},
   "source": [
    "# Simulate data for stroop experiment"
   ]
  },
  {
   "cell_type": "markdown",
   "metadata": {},
   "source": [
    "## We need to simulate:\n",
    "- participant ID's\n",
    "- reaction times\n",
    "- responses\n",
    "    - calculate whether or not the responses are correct"
   ]
  },
  {
   "cell_type": "markdown",
   "metadata": {},
   "source": [
    "## Simulates binary responses.  \n",
    "- Numpy stands for \"number Python\" and deals well with the complex math we use in science\n",
    "- We are taking random choice from the list `[\"incorrect\", \"correct\"]`\n",
    "- There is a sample size of 50, meaning we take a random choice 50 times\n",
    "- We give it a probability `p` which is specified using Python's fraction notation.  Note that the correct and incorrect probabilities are out of 1, but could have been specified differently\n",
    "- We'll have more corrects than incorrects in the congruent condition, so we swap the fractions in congrent and incongruent in order to simulate that\n",
    "    - I'm just picking numbers here, there's nothing concrete about these fractions\n",
    "    - I picked 1/4 and 3/4 because they are easy"
   ]
  },
  {
   "cell_type": "code",
   "execution_count": null,
   "metadata": {},
   "outputs": [],
   "source": [
    "import numpy as np\n",
    "congruent_responses = np.random.choice([\"incorrect\", \"correct\"], size=(50,), p=[1./4, 3./4])\n",
    "incongruent_responses = np.random.choice([\"incorrect\", \"correct\"], size=(50,), p=[3./4, 1./4])"
   ]
  },
  {
   "cell_type": "markdown",
   "metadata": {},
   "source": [
    "#### Check our data"
   ]
  },
  {
   "cell_type": "code",
   "execution_count": null,
   "metadata": {},
   "outputs": [],
   "source": [
    "print(\"congruent\", congruent_responses)\n",
    "print(\"incongruent\", incongruent_responses)"
   ]
  },
  {
   "cell_type": "markdown",
   "metadata": {},
   "source": [
    "## Simulate reaction time data\n",
    "\n",
    "The `random.triangular` function generates normally distributed random numbers in a range betwen `a` and `b` with a mode of `x`. "
   ]
  },
  {
   "cell_type": "code",
   "execution_count": null,
   "metadata": {},
   "outputs": [],
   "source": [
    "import random\n",
    "\n",
    "a = 0.5 # lowest possible reaction time\n",
    "b = 6 # highest possible reaction time\n",
    "reaction_time_incongruent = []\n",
    "reaction_time_congruent = []\n",
    "for i in range(50):\n",
    "    x = 4 # mode of reaction time\n",
    "    reaction_time_incongruent.append(random.triangular(a, b, 3*x - a - b))\n",
    "    x = 3 # mode of reaction time\n",
    "    reaction_time_congruent.append(random.triangular(a, b, 3*x - a - b))"
   ]
  },
  {
   "cell_type": "markdown",
   "metadata": {},
   "source": [
    "## Put all the data together into a nice looking list\n",
    "We can make a list of tuples by using the `zip()` function, and feeding that output into a list.  The `zip()` function goes through the specified lists and makes tuples out of corresponding values for each item on the list"
   ]
  },
  {
   "cell_type": "code",
   "execution_count": 7,
   "metadata": {},
   "outputs": [
    {
     "data": {
      "text/plain": [
       "[('correct', 'incorrect', 2.479999245529081, 2.0050413698653076),\n",
       " ('correct', 'incorrect', 3.7360420077741066, 2.8900240212433252),\n",
       " ('correct', 'incorrect', 3.702279550921168, 3.6429790235407404),\n",
       " ('correct', 'incorrect', 3.940540847175789, 3.194375846994646),\n",
       " ('correct', 'incorrect', 5.456142345937917, 3.4881337529731096),\n",
       " ('correct', 'incorrect', 3.7571805434745844, 4.423734409990389),\n",
       " ('correct', 'correct', 4.061008474591707, 2.1245905187021545),\n",
       " ('correct', 'correct', 2.1958800229209023, 2.5232069821399974),\n",
       " ('correct', 'incorrect', 5.160250421926483, 3.7955272882494824),\n",
       " ('correct', 'incorrect', 5.286178993345807, 3.6213320824598414),\n",
       " ('correct', 'incorrect', 3.83787522430487, 3.3124145207799907),\n",
       " ('correct', 'incorrect', 3.374761676217749, 3.9270176501552223),\n",
       " ('incorrect', 'correct', 5.6711361944031315, 4.757078995780281),\n",
       " ('incorrect', 'correct', 3.3220031803379864, 4.682068525841227),\n",
       " ('correct', 'incorrect', 5.022698872075701, 2.477330574836642),\n",
       " ('correct', 'incorrect', 2.286714468849581, 2.5171059607563993),\n",
       " ('incorrect', 'correct', 4.8388759399177355, 2.766233094908002),\n",
       " ('incorrect', 'incorrect', 4.767935470698575, 4.1636165970836),\n",
       " ('correct', 'incorrect', 5.436642045739895, 2.525290476085543),\n",
       " ('correct', 'incorrect', 3.1236889861077985, 1.8850489943116713),\n",
       " ('correct', 'correct', 4.206745117338263, 3.397875743854533),\n",
       " ('incorrect', 'incorrect', 4.639769254749599, 2.2809143560067704),\n",
       " ('correct', 'incorrect', 3.4869735368913446, 2.067225858965755),\n",
       " ('correct', 'incorrect', 2.7689705938881746, 2.347276867416193),\n",
       " ('correct', 'incorrect', 4.177650631333407, 4.8320194728765795),\n",
       " ('incorrect', 'incorrect', 2.611631615972119, 2.9185184132202315),\n",
       " ('incorrect', 'incorrect', 3.541048570650352, 2.7007386795802915),\n",
       " ('incorrect', 'incorrect', 3.7003120265402982, 3.2070343917662973),\n",
       " ('incorrect', 'incorrect', 5.128035924258796, 1.0190704941875866),\n",
       " ('correct', 'incorrect', 3.078770732173238, 2.950287966335619),\n",
       " ('incorrect', 'incorrect', 1.6613328682630388, 3.1145490955421824),\n",
       " ('correct', 'incorrect', 1.181908812065312, 1.6863617847887369),\n",
       " ('correct', 'incorrect', 3.634265647760098, 2.895404424916085),\n",
       " ('correct', 'incorrect', 4.379111963080479, 3.6441886653672912),\n",
       " ('correct', 'correct', 4.867460769689875, 2.0745168109743855),\n",
       " ('correct', 'incorrect', 2.3434075829571483, 3.908605182031008),\n",
       " ('incorrect', 'incorrect', 4.335683016108661, 4.593334549294353),\n",
       " ('correct', 'correct', 4.363257798465794, 2.965298081255539),\n",
       " ('correct', 'correct', 3.126356245869854, 2.410338401785923),\n",
       " ('incorrect', 'incorrect', 3.672374102226802, 3.622962501360049),\n",
       " ('incorrect', 'correct', 4.425669364470117, 3.824450904196394),\n",
       " ('correct', 'incorrect', 4.502014961999547, 3.5521134102309397),\n",
       " ('correct', 'incorrect', 2.5085080886313147, 3.5702814654895905),\n",
       " ('correct', 'incorrect', 3.0611977955809353, 1.3903757147190627),\n",
       " ('correct', 'incorrect', 5.110812525067599, 1.9020333423621771),\n",
       " ('correct', 'incorrect', 1.096241557927332, 1.5279129019616144),\n",
       " ('correct', 'incorrect', 2.0481442596081108, 3.212659287721728),\n",
       " ('incorrect', 'incorrect', 5.024938656864443, 3.4882770989156686),\n",
       " ('correct', 'incorrect', 2.761368661068851, 2.778194382425528),\n",
       " ('incorrect', 'correct', 2.5624824689509595, 3.537444705260983)]"
      ]
     },
     "execution_count": 7,
     "metadata": {},
     "output_type": "execute_result"
    }
   ],
   "source": [
    "data_tuples = list(zip(congruent_responses, incongruent_responses, reaction_time_incongruent, reaction_time_congruent))\n",
    "data_tuples"
   ]
  },
  {
   "cell_type": "markdown",
   "metadata": {},
   "source": [
    "# Pandas DataFrame\n",
    "A Pandas DataFrame is a Python Object that holds a set of data like a spreadsheet."
   ]
  },
  {
   "cell_type": "code",
   "execution_count": 8,
   "metadata": {},
   "outputs": [],
   "source": [
    "import pandas as pd  # it is custom to shorten pandas to pd because we'll be typing it a log\n",
    "df = pd.DataFrame(data_tuples)  # called the dataframe df, but you can use any name you want... it's a Python object."
   ]
  },
  {
   "cell_type": "markdown",
   "metadata": {},
   "source": [
    "## Viewing the data"
   ]
  },
  {
   "cell_type": "markdown",
   "metadata": {},
   "source": [
    "You can view the whole DataFrame by typing `df` as usual.  But, perhaps your dataset is large and you just want to get a sense of how it's looking.  For that we can use the `head()` method call on our dataframe.  By default it shows the first 5 rows, or you can specify the number of rows you want to see."
   ]
  },
  {
   "cell_type": "code",
   "execution_count": 9,
   "metadata": {},
   "outputs": [
    {
     "data": {
      "text/html": [
       "<div>\n",
       "<style scoped>\n",
       "    .dataframe tbody tr th:only-of-type {\n",
       "        vertical-align: middle;\n",
       "    }\n",
       "\n",
       "    .dataframe tbody tr th {\n",
       "        vertical-align: top;\n",
       "    }\n",
       "\n",
       "    .dataframe thead th {\n",
       "        text-align: right;\n",
       "    }\n",
       "</style>\n",
       "<table border=\"1\" class=\"dataframe\">\n",
       "  <thead>\n",
       "    <tr style=\"text-align: right;\">\n",
       "      <th></th>\n",
       "      <th>0</th>\n",
       "      <th>1</th>\n",
       "      <th>2</th>\n",
       "      <th>3</th>\n",
       "    </tr>\n",
       "  </thead>\n",
       "  <tbody>\n",
       "    <tr>\n",
       "      <th>0</th>\n",
       "      <td>correct</td>\n",
       "      <td>incorrect</td>\n",
       "      <td>2.479999</td>\n",
       "      <td>2.005041</td>\n",
       "    </tr>\n",
       "    <tr>\n",
       "      <th>1</th>\n",
       "      <td>correct</td>\n",
       "      <td>incorrect</td>\n",
       "      <td>3.736042</td>\n",
       "      <td>2.890024</td>\n",
       "    </tr>\n",
       "    <tr>\n",
       "      <th>2</th>\n",
       "      <td>correct</td>\n",
       "      <td>incorrect</td>\n",
       "      <td>3.702280</td>\n",
       "      <td>3.642979</td>\n",
       "    </tr>\n",
       "    <tr>\n",
       "      <th>3</th>\n",
       "      <td>correct</td>\n",
       "      <td>incorrect</td>\n",
       "      <td>3.940541</td>\n",
       "      <td>3.194376</td>\n",
       "    </tr>\n",
       "    <tr>\n",
       "      <th>4</th>\n",
       "      <td>correct</td>\n",
       "      <td>incorrect</td>\n",
       "      <td>5.456142</td>\n",
       "      <td>3.488134</td>\n",
       "    </tr>\n",
       "  </tbody>\n",
       "</table>\n",
       "</div>"
      ],
      "text/plain": [
       "         0          1         2         3\n",
       "0  correct  incorrect  2.479999  2.005041\n",
       "1  correct  incorrect  3.736042  2.890024\n",
       "2  correct  incorrect  3.702280  3.642979\n",
       "3  correct  incorrect  3.940541  3.194376\n",
       "4  correct  incorrect  5.456142  3.488134"
      ]
     },
     "execution_count": 9,
     "metadata": {},
     "output_type": "execute_result"
    }
   ],
   "source": [
    "df.head()"
   ]
  },
  {
   "cell_type": "markdown",
   "metadata": {},
   "source": [
    "## Column names"
   ]
  },
  {
   "cell_type": "code",
   "execution_count": 10,
   "metadata": {},
   "outputs": [],
   "source": [
    "df.columns = [\"Incongruent Response\", \"Congruent Response\", \"Incongruent RT\", \"Congruent RT\"]"
   ]
  },
  {
   "cell_type": "code",
   "execution_count": 12,
   "metadata": {},
   "outputs": [
    {
     "data": {
      "text/html": [
       "<div>\n",
       "<style scoped>\n",
       "    .dataframe tbody tr th:only-of-type {\n",
       "        vertical-align: middle;\n",
       "    }\n",
       "\n",
       "    .dataframe tbody tr th {\n",
       "        vertical-align: top;\n",
       "    }\n",
       "\n",
       "    .dataframe thead th {\n",
       "        text-align: right;\n",
       "    }\n",
       "</style>\n",
       "<table border=\"1\" class=\"dataframe\">\n",
       "  <thead>\n",
       "    <tr style=\"text-align: right;\">\n",
       "      <th></th>\n",
       "      <th>Incongruent Response</th>\n",
       "      <th>Congruent Response</th>\n",
       "      <th>Incongruent RT</th>\n",
       "      <th>Congruent RT</th>\n",
       "    </tr>\n",
       "  </thead>\n",
       "  <tbody>\n",
       "    <tr>\n",
       "      <th>0</th>\n",
       "      <td>correct</td>\n",
       "      <td>incorrect</td>\n",
       "      <td>2.479999</td>\n",
       "      <td>2.005041</td>\n",
       "    </tr>\n",
       "    <tr>\n",
       "      <th>1</th>\n",
       "      <td>correct</td>\n",
       "      <td>incorrect</td>\n",
       "      <td>3.736042</td>\n",
       "      <td>2.890024</td>\n",
       "    </tr>\n",
       "  </tbody>\n",
       "</table>\n",
       "</div>"
      ],
      "text/plain": [
       "  Incongruent Response Congruent Response  Incongruent RT  Congruent RT\n",
       "0              correct          incorrect        2.479999      2.005041\n",
       "1              correct          incorrect        3.736042      2.890024"
      ]
     },
     "execution_count": 12,
     "metadata": {},
     "output_type": "execute_result"
    }
   ],
   "source": [
    "df.head(2)"
   ]
  },
  {
   "cell_type": "markdown",
   "metadata": {},
   "source": [
    "df.columns holds the column names, so you can print them if you want to see them"
   ]
  },
  {
   "cell_type": "code",
   "execution_count": 13,
   "metadata": {},
   "outputs": [
    {
     "name": "stdout",
     "output_type": "stream",
     "text": [
      "Incongruent Response\n",
      "Congruent Response\n",
      "Incongruent RT\n",
      "Congruent RT\n"
     ]
    }
   ],
   "source": [
    "for col in df.columns: \n",
    "    print(col)"
   ]
  },
  {
   "cell_type": "markdown",
   "metadata": {},
   "source": [
    "## Stacking the data "
   ]
  },
  {
   "cell_type": "markdown",
   "metadata": {},
   "source": [
    "Many times we need our data to be in long format rather than wide format.  Our data is currently in wide format.  To get it into long format, we can `melt` the data.  This saves us lots of copypasta in excel."
   ]
  },
  {
   "cell_type": "code",
   "execution_count": 14,
   "metadata": {},
   "outputs": [
    {
     "data": {
      "text/html": [
       "<div>\n",
       "<style scoped>\n",
       "    .dataframe tbody tr th:only-of-type {\n",
       "        vertical-align: middle;\n",
       "    }\n",
       "\n",
       "    .dataframe tbody tr th {\n",
       "        vertical-align: top;\n",
       "    }\n",
       "\n",
       "    .dataframe thead th {\n",
       "        text-align: right;\n",
       "    }\n",
       "</style>\n",
       "<table border=\"1\" class=\"dataframe\">\n",
       "  <thead>\n",
       "    <tr style=\"text-align: right;\">\n",
       "      <th></th>\n",
       "      <th>Incongruent Response</th>\n",
       "      <th>Congruent Response</th>\n",
       "      <th>Condition</th>\n",
       "      <th>RT</th>\n",
       "    </tr>\n",
       "  </thead>\n",
       "  <tbody>\n",
       "    <tr>\n",
       "      <th>0</th>\n",
       "      <td>correct</td>\n",
       "      <td>incorrect</td>\n",
       "      <td>Incongruent RT</td>\n",
       "      <td>2.479999</td>\n",
       "    </tr>\n",
       "    <tr>\n",
       "      <th>1</th>\n",
       "      <td>correct</td>\n",
       "      <td>incorrect</td>\n",
       "      <td>Incongruent RT</td>\n",
       "      <td>3.736042</td>\n",
       "    </tr>\n",
       "    <tr>\n",
       "      <th>2</th>\n",
       "      <td>correct</td>\n",
       "      <td>incorrect</td>\n",
       "      <td>Incongruent RT</td>\n",
       "      <td>3.702280</td>\n",
       "    </tr>\n",
       "    <tr>\n",
       "      <th>3</th>\n",
       "      <td>correct</td>\n",
       "      <td>incorrect</td>\n",
       "      <td>Incongruent RT</td>\n",
       "      <td>3.940541</td>\n",
       "    </tr>\n",
       "    <tr>\n",
       "      <th>4</th>\n",
       "      <td>correct</td>\n",
       "      <td>incorrect</td>\n",
       "      <td>Incongruent RT</td>\n",
       "      <td>5.456142</td>\n",
       "    </tr>\n",
       "  </tbody>\n",
       "</table>\n",
       "</div>"
      ],
      "text/plain": [
       "  Incongruent Response Congruent Response       Condition        RT\n",
       "0              correct          incorrect  Incongruent RT  2.479999\n",
       "1              correct          incorrect  Incongruent RT  3.736042\n",
       "2              correct          incorrect  Incongruent RT  3.702280\n",
       "3              correct          incorrect  Incongruent RT  3.940541\n",
       "4              correct          incorrect  Incongruent RT  5.456142"
      ]
     },
     "execution_count": 14,
     "metadata": {},
     "output_type": "execute_result"
    }
   ],
   "source": [
    "long_df=df.melt(id_vars=['Incongruent Response', 'Congruent Response'],\n",
    "                  value_vars=['Incongruent RT', 'Congruent RT'],\n",
    "                  var_name = 'Condition', value_name = 'RT') \n",
    "long_df.head()"
   ]
  },
  {
   "cell_type": "markdown",
   "metadata": {},
   "source": [
    "## Indexing data"
   ]
  },
  {
   "cell_type": "markdown",
   "metadata": {},
   "source": [
    "### `iloc`"
   ]
  },
  {
   "cell_type": "markdown",
   "metadata": {},
   "source": [
    "Here we use `iloc` to index our data by it's location, just like you would do in excel... In excel, you would find, for example, cell `A5`.  In Pandas, we do `df.ix[4,0]`.  Don't forget we start counting from 0 in Python, so the 5th row is 4, and the 1st column is 0."
   ]
  },
  {
   "cell_type": "code",
   "execution_count": 15,
   "metadata": {},
   "outputs": [
    {
     "data": {
      "text/plain": [
       "'correct'"
      ]
     },
     "execution_count": 15,
     "metadata": {},
     "output_type": "execute_result"
    }
   ],
   "source": [
    "df.iloc[4,0]"
   ]
  },
  {
   "cell_type": "markdown",
   "metadata": {},
   "source": [
    "### `loc`"
   ]
  },
  {
   "cell_type": "markdown",
   "metadata": {},
   "source": [
    "Here we use `loc` to index our data by it's nameDon't forget we start counting from 0 in Python, so the 8th row is 7, and the 1st column is 'Incongruent Response."
   ]
  },
  {
   "cell_type": "code",
   "execution_count": 16,
   "metadata": {},
   "outputs": [
    {
     "data": {
      "text/plain": [
       "'correct'"
      ]
     },
     "execution_count": 16,
     "metadata": {},
     "output_type": "execute_result"
    }
   ],
   "source": [
    "df.loc[7,'Incongruent Response']"
   ]
  },
  {
   "cell_type": "markdown",
   "metadata": {},
   "source": [
    "## `index`\n",
    "\n",
    "In both cases above, we used the `index` or, what we thought was the row number to find our cells.  Pandas created our index for us, and we just pretended it was the row number.  We could have used another column.\n",
    "If you don't have an index but want one, or if you want to chage the index, you can use the method `.set_index()`"
   ]
  },
  {
   "cell_type": "markdown",
   "metadata": {},
   "source": [
    "## Selecting Data\n",
    "\n",
    "You can select data by calling the dataframe, and instead of putting the name of one column, you put in a list of column names that you want.  I'm applying the `head()` method here just to keep the output short.  It's not a part of the selection command."
   ]
  },
  {
   "cell_type": "code",
   "execution_count": 17,
   "metadata": {},
   "outputs": [
    {
     "data": {
      "text/html": [
       "<div>\n",
       "<style scoped>\n",
       "    .dataframe tbody tr th:only-of-type {\n",
       "        vertical-align: middle;\n",
       "    }\n",
       "\n",
       "    .dataframe tbody tr th {\n",
       "        vertical-align: top;\n",
       "    }\n",
       "\n",
       "    .dataframe thead th {\n",
       "        text-align: right;\n",
       "    }\n",
       "</style>\n",
       "<table border=\"1\" class=\"dataframe\">\n",
       "  <thead>\n",
       "    <tr style=\"text-align: right;\">\n",
       "      <th></th>\n",
       "      <th>Incongruent RT</th>\n",
       "      <th>Congruent RT</th>\n",
       "    </tr>\n",
       "  </thead>\n",
       "  <tbody>\n",
       "    <tr>\n",
       "      <th>0</th>\n",
       "      <td>2.479999</td>\n",
       "      <td>2.005041</td>\n",
       "    </tr>\n",
       "    <tr>\n",
       "      <th>1</th>\n",
       "      <td>3.736042</td>\n",
       "      <td>2.890024</td>\n",
       "    </tr>\n",
       "    <tr>\n",
       "      <th>2</th>\n",
       "      <td>3.702280</td>\n",
       "      <td>3.642979</td>\n",
       "    </tr>\n",
       "    <tr>\n",
       "      <th>3</th>\n",
       "      <td>3.940541</td>\n",
       "      <td>3.194376</td>\n",
       "    </tr>\n",
       "    <tr>\n",
       "      <th>4</th>\n",
       "      <td>5.456142</td>\n",
       "      <td>3.488134</td>\n",
       "    </tr>\n",
       "  </tbody>\n",
       "</table>\n",
       "</div>"
      ],
      "text/plain": [
       "   Incongruent RT  Congruent RT\n",
       "0        2.479999      2.005041\n",
       "1        3.736042      2.890024\n",
       "2        3.702280      3.642979\n",
       "3        3.940541      3.194376\n",
       "4        5.456142      3.488134"
      ]
     },
     "execution_count": 17,
     "metadata": {},
     "output_type": "execute_result"
    }
   ],
   "source": [
    "df[['Incongruent RT', 'Congruent RT']].head()"
   ]
  },
  {
   "cell_type": "markdown",
   "metadata": {},
   "source": [
    "### Selecting data by condition\n",
    "You can use expressions to select data that match a number or satisfy an equation. "
   ]
  },
  {
   "cell_type": "code",
   "execution_count": 18,
   "metadata": {},
   "outputs": [
    {
     "data": {
      "text/html": [
       "<div>\n",
       "<style scoped>\n",
       "    .dataframe tbody tr th:only-of-type {\n",
       "        vertical-align: middle;\n",
       "    }\n",
       "\n",
       "    .dataframe tbody tr th {\n",
       "        vertical-align: top;\n",
       "    }\n",
       "\n",
       "    .dataframe thead th {\n",
       "        text-align: right;\n",
       "    }\n",
       "</style>\n",
       "<table border=\"1\" class=\"dataframe\">\n",
       "  <thead>\n",
       "    <tr style=\"text-align: right;\">\n",
       "      <th></th>\n",
       "      <th>Incongruent Response</th>\n",
       "      <th>Congruent Response</th>\n",
       "      <th>Incongruent RT</th>\n",
       "      <th>Congruent RT</th>\n",
       "    </tr>\n",
       "  </thead>\n",
       "  <tbody>\n",
       "    <tr>\n",
       "      <th>0</th>\n",
       "      <td>correct</td>\n",
       "      <td>incorrect</td>\n",
       "      <td>2.479999</td>\n",
       "      <td>2.005041</td>\n",
       "    </tr>\n",
       "    <tr>\n",
       "      <th>1</th>\n",
       "      <td>correct</td>\n",
       "      <td>incorrect</td>\n",
       "      <td>3.736042</td>\n",
       "      <td>2.890024</td>\n",
       "    </tr>\n",
       "    <tr>\n",
       "      <th>2</th>\n",
       "      <td>correct</td>\n",
       "      <td>incorrect</td>\n",
       "      <td>3.702280</td>\n",
       "      <td>3.642979</td>\n",
       "    </tr>\n",
       "    <tr>\n",
       "      <th>3</th>\n",
       "      <td>correct</td>\n",
       "      <td>incorrect</td>\n",
       "      <td>3.940541</td>\n",
       "      <td>3.194376</td>\n",
       "    </tr>\n",
       "    <tr>\n",
       "      <th>4</th>\n",
       "      <td>correct</td>\n",
       "      <td>incorrect</td>\n",
       "      <td>5.456142</td>\n",
       "      <td>3.488134</td>\n",
       "    </tr>\n",
       "  </tbody>\n",
       "</table>\n",
       "</div>"
      ],
      "text/plain": [
       "  Incongruent Response Congruent Response  Incongruent RT  Congruent RT\n",
       "0              correct          incorrect        2.479999      2.005041\n",
       "1              correct          incorrect        3.736042      2.890024\n",
       "2              correct          incorrect        3.702280      3.642979\n",
       "3              correct          incorrect        3.940541      3.194376\n",
       "4              correct          incorrect        5.456142      3.488134"
      ]
     },
     "execution_count": 18,
     "metadata": {},
     "output_type": "execute_result"
    }
   ],
   "source": [
    "df[df[\"Incongruent Response\"] == \"correct\"].head()"
   ]
  },
  {
   "cell_type": "markdown",
   "metadata": {},
   "source": [
    "## Subsetting data"
   ]
  },
  {
   "cell_type": "markdown",
   "metadata": {},
   "source": [
    "### Subsetting by row"
   ]
  },
  {
   "cell_type": "code",
   "execution_count": 19,
   "metadata": {},
   "outputs": [
    {
     "data": {
      "text/html": [
       "<div>\n",
       "<style scoped>\n",
       "    .dataframe tbody tr th:only-of-type {\n",
       "        vertical-align: middle;\n",
       "    }\n",
       "\n",
       "    .dataframe tbody tr th {\n",
       "        vertical-align: top;\n",
       "    }\n",
       "\n",
       "    .dataframe thead th {\n",
       "        text-align: right;\n",
       "    }\n",
       "</style>\n",
       "<table border=\"1\" class=\"dataframe\">\n",
       "  <thead>\n",
       "    <tr style=\"text-align: right;\">\n",
       "      <th></th>\n",
       "      <th>Incongruent Response</th>\n",
       "      <th>Congruent Response</th>\n",
       "      <th>Incongruent RT</th>\n",
       "      <th>Congruent RT</th>\n",
       "    </tr>\n",
       "  </thead>\n",
       "  <tbody>\n",
       "    <tr>\n",
       "      <th>0</th>\n",
       "      <td>correct</td>\n",
       "      <td>incorrect</td>\n",
       "      <td>2.479999</td>\n",
       "      <td>2.005041</td>\n",
       "    </tr>\n",
       "    <tr>\n",
       "      <th>1</th>\n",
       "      <td>correct</td>\n",
       "      <td>incorrect</td>\n",
       "      <td>3.736042</td>\n",
       "      <td>2.890024</td>\n",
       "    </tr>\n",
       "    <tr>\n",
       "      <th>2</th>\n",
       "      <td>correct</td>\n",
       "      <td>incorrect</td>\n",
       "      <td>3.702280</td>\n",
       "      <td>3.642979</td>\n",
       "    </tr>\n",
       "  </tbody>\n",
       "</table>\n",
       "</div>"
      ],
      "text/plain": [
       "  Incongruent Response Congruent Response  Incongruent RT  Congruent RT\n",
       "0              correct          incorrect        2.479999      2.005041\n",
       "1              correct          incorrect        3.736042      2.890024\n",
       "2              correct          incorrect        3.702280      3.642979"
      ]
     },
     "execution_count": 19,
     "metadata": {},
     "output_type": "execute_result"
    }
   ],
   "source": [
    "df2 = df[0:3]\n",
    "df2"
   ]
  },
  {
   "cell_type": "markdown",
   "metadata": {},
   "source": [
    "### Subsetting by index location"
   ]
  },
  {
   "cell_type": "code",
   "execution_count": 20,
   "metadata": {},
   "outputs": [
    {
     "data": {
      "text/html": [
       "<div>\n",
       "<style scoped>\n",
       "    .dataframe tbody tr th:only-of-type {\n",
       "        vertical-align: middle;\n",
       "    }\n",
       "\n",
       "    .dataframe tbody tr th {\n",
       "        vertical-align: top;\n",
       "    }\n",
       "\n",
       "    .dataframe thead th {\n",
       "        text-align: right;\n",
       "    }\n",
       "</style>\n",
       "<table border=\"1\" class=\"dataframe\">\n",
       "  <thead>\n",
       "    <tr style=\"text-align: right;\">\n",
       "      <th></th>\n",
       "      <th>Congruent Response</th>\n",
       "      <th>Incongruent RT</th>\n",
       "      <th>Congruent RT</th>\n",
       "    </tr>\n",
       "  </thead>\n",
       "  <tbody>\n",
       "    <tr>\n",
       "      <th>2</th>\n",
       "      <td>incorrect</td>\n",
       "      <td>3.702280</td>\n",
       "      <td>3.642979</td>\n",
       "    </tr>\n",
       "    <tr>\n",
       "      <th>3</th>\n",
       "      <td>incorrect</td>\n",
       "      <td>3.940541</td>\n",
       "      <td>3.194376</td>\n",
       "    </tr>\n",
       "  </tbody>\n",
       "</table>\n",
       "</div>"
      ],
      "text/plain": [
       "  Congruent Response  Incongruent RT  Congruent RT\n",
       "2          incorrect        3.702280      3.642979\n",
       "3          incorrect        3.940541      3.194376"
      ]
     },
     "execution_count": 20,
     "metadata": {},
     "output_type": "execute_result"
    }
   ],
   "source": [
    "df4 = df.iloc[2:4, 1:4]\n",
    "df4"
   ]
  },
  {
   "cell_type": "markdown",
   "metadata": {},
   "source": [
    "## Calculate the mean reaction times using the `mean()` method."
   ]
  },
  {
   "cell_type": "code",
   "execution_count": 21,
   "metadata": {},
   "outputs": [
    {
     "name": "stdout",
     "output_type": "stream",
     "text": [
      "3.709285593254048\n",
      "3.0428483128301345\n"
     ]
    }
   ],
   "source": [
    "print(df['Incongruent RT'].mean())\n",
    "print(df['Congruent RT'].mean())"
   ]
  },
  {
   "cell_type": "markdown",
   "metadata": {},
   "source": [
    "## Calculate the median reaction times using the `median()` method."
   ]
  },
  {
   "cell_type": "code",
   "execution_count": 22,
   "metadata": {},
   "outputs": [
    {
     "name": "stdout",
     "output_type": "stream",
     "text": [
      "3.7191607793476376\n",
      "3.0399235883988607\n"
     ]
    }
   ],
   "source": [
    "print(df['Incongruent RT'].median())\n",
    "print(df['Congruent RT'].median())"
   ]
  },
  {
   "cell_type": "markdown",
   "metadata": {},
   "source": [
    "## Calculate the mode of responses times using the `mode()` method.\n",
    "Here we're calculating the mode of responses instead of reaction times because `mode()` calculates the most often occuring value.  Our reaction times are all unique values, so the mode function just returns the original data.  If we want to see the mode method in action, we can use it on the responses, and see what the most often occuring responses are in each category."
   ]
  },
  {
   "cell_type": "code",
   "execution_count": 23,
   "metadata": {},
   "outputs": [
    {
     "name": "stdout",
     "output_type": "stream",
     "text": [
      "0    correct\n",
      "dtype: object\n",
      "0    incorrect\n",
      "dtype: object\n"
     ]
    }
   ],
   "source": [
    "print(df['Incongruent Response'].mode())\n",
    "print(df['Congruent Response'].mode())"
   ]
  },
  {
   "cell_type": "markdown",
   "metadata": {},
   "source": [
    "## Calculate the standard deviation of the reaction times using the `stdev()` method."
   ]
  },
  {
   "cell_type": "code",
   "execution_count": 24,
   "metadata": {},
   "outputs": [
    {
     "name": "stdout",
     "output_type": "stream",
     "text": [
      "1.1520929579550927\n",
      "0.9069713659329325\n"
     ]
    }
   ],
   "source": [
    "print(df['Incongruent RT'].std())\n",
    "print(df['Congruent RT'].std())"
   ]
  },
  {
   "cell_type": "markdown",
   "metadata": {},
   "source": [
    "<h2>Functions &amp; Description</h2>\n",
    "<p>Let us now understand the functions under Descriptive Statistics in Python Pandas. The following table list down the important functions &minus;</p>\n",
    "<table class=\"table table-bordered\">\n",
    "<tr>\n",
    "<th style=\"text-align:center;\">Sr.No.</th>\n",
    "<th style=\"text-align:center;\">Function</th>\n",
    "<th style=\"text-align:center;\">Description</th>\n",
    "</tr>\n",
    "<tr>\n",
    "<td style=\"text-align:center;\">1</td>\n",
    "<td style=\"text-align:center;\">count()</td>\n",
    "<td>Number of non-null observations</td>\n",
    "</tr>\n",
    "<tr>\n",
    "<td style=\"text-align:center;\">2</td>\n",
    "<td style=\"text-align:center;\">sum()</td>\n",
    "<td>Sum of values</td>\n",
    "</tr>\n",
    "<tr>\n",
    "<td style=\"text-align:center;\">3</td>\n",
    "<td style=\"text-align:center;\">mean()</td>\n",
    "<td>Mean of Values</td>\n",
    "</tr>\n",
    "<tr>\n",
    "<td style=\"text-align:center;\">4</td>\n",
    "<td style=\"text-align:center;\">median()</td>\n",
    "<td>Median of Values</td>\n",
    "</tr>\n",
    "<tr>\n",
    "<td style=\"text-align:center;\">5</td>\n",
    "<td style=\"text-align:center;\">mode()</td>\n",
    "<td>Mode of values</td>\n",
    "</tr>\n",
    "<tr>\n",
    "<td style=\"text-align:center;\">6</td>\n",
    "<td style=\"text-align:center;\">std()</td>\n",
    "<td>Standard Deviation of the Values</td>\n",
    "</tr>\n",
    "<tr>\n",
    "<td style=\"text-align:center;\">7</td>\n",
    "<td style=\"text-align:center;\">min()</td>\n",
    "<td>Minimum Value</td>\n",
    "</tr>\n",
    "<tr>\n",
    "<td style=\"text-align:center;\">8</td>\n",
    "<td style=\"text-align:center;\">max()</td>\n",
    "<td>Maximum Value</td>\n",
    "</tr>\n",
    "<tr>\n",
    "<td style=\"text-align:center;\">9</td>\n",
    "<td style=\"text-align:center;\">abs()</td>\n",
    "<td>Absolute Value</td>\n",
    "</tr>\n",
    "<tr>\n",
    "<td style=\"text-align:center;\">10</td>\n",
    "<td style=\"text-align:center;\">prod()</td>\n",
    "<td>Product of Values</td>\n",
    "</tr>\n",
    "<tr>\n",
    "<td style=\"text-align:center;\">11</td>\n",
    "<td style=\"text-align:center;\">cumsum()</td>\n",
    "<td>Cumulative Sum</td>\n",
    "</tr>\n",
    "<tr>\n",
    "<td style=\"text-align:center;\">12</td>\n",
    "<td style=\"text-align:center;\">cumprod()</td>\n",
    "<td>Cumulative Product</td>\n",
    "</tr>\n",
    "</table>\n",
    "\n",
    "https://www.tutorialspoint.com/python_pandas/python_pandas_descriptive_statistics.htm"
   ]
  },
  {
   "cell_type": "markdown",
   "metadata": {},
   "source": [
    "## Describe the data gives a summary of the numerical data in a given dataset"
   ]
  },
  {
   "cell_type": "code",
   "execution_count": 25,
   "metadata": {},
   "outputs": [
    {
     "data": {
      "text/html": [
       "<div>\n",
       "<style scoped>\n",
       "    .dataframe tbody tr th:only-of-type {\n",
       "        vertical-align: middle;\n",
       "    }\n",
       "\n",
       "    .dataframe tbody tr th {\n",
       "        vertical-align: top;\n",
       "    }\n",
       "\n",
       "    .dataframe thead th {\n",
       "        text-align: right;\n",
       "    }\n",
       "</style>\n",
       "<table border=\"1\" class=\"dataframe\">\n",
       "  <thead>\n",
       "    <tr style=\"text-align: right;\">\n",
       "      <th></th>\n",
       "      <th>Incongruent RT</th>\n",
       "      <th>Congruent RT</th>\n",
       "    </tr>\n",
       "  </thead>\n",
       "  <tbody>\n",
       "    <tr>\n",
       "      <th>count</th>\n",
       "      <td>50.000000</td>\n",
       "      <td>50.000000</td>\n",
       "    </tr>\n",
       "    <tr>\n",
       "      <th>mean</th>\n",
       "      <td>3.709286</td>\n",
       "      <td>3.042848</td>\n",
       "    </tr>\n",
       "    <tr>\n",
       "      <th>std</th>\n",
       "      <td>1.152093</td>\n",
       "      <td>0.906971</td>\n",
       "    </tr>\n",
       "    <tr>\n",
       "      <th>min</th>\n",
       "      <td>1.096242</td>\n",
       "      <td>1.019070</td>\n",
       "    </tr>\n",
       "    <tr>\n",
       "      <th>25%</th>\n",
       "      <td>2.842027</td>\n",
       "      <td>2.427086</td>\n",
       "    </tr>\n",
       "    <tr>\n",
       "      <th>50%</th>\n",
       "      <td>3.719161</td>\n",
       "      <td>3.039924</td>\n",
       "    </tr>\n",
       "    <tr>\n",
       "      <th>75%</th>\n",
       "      <td>4.605331</td>\n",
       "      <td>3.622555</td>\n",
       "    </tr>\n",
       "    <tr>\n",
       "      <th>max</th>\n",
       "      <td>5.671136</td>\n",
       "      <td>4.832019</td>\n",
       "    </tr>\n",
       "  </tbody>\n",
       "</table>\n",
       "</div>"
      ],
      "text/plain": [
       "       Incongruent RT  Congruent RT\n",
       "count       50.000000     50.000000\n",
       "mean         3.709286      3.042848\n",
       "std          1.152093      0.906971\n",
       "min          1.096242      1.019070\n",
       "25%          2.842027      2.427086\n",
       "50%          3.719161      3.039924\n",
       "75%          4.605331      3.622555\n",
       "max          5.671136      4.832019"
      ]
     },
     "execution_count": 25,
     "metadata": {},
     "output_type": "execute_result"
    }
   ],
   "source": [
    "df.describe()"
   ]
  },
  {
   "cell_type": "markdown",
   "metadata": {},
   "source": [
    "### We can use `=object` to see info about cells that contain objects, not numbers.  This includes text, like our response variables"
   ]
  },
  {
   "cell_type": "code",
   "execution_count": 26,
   "metadata": {},
   "outputs": [
    {
     "data": {
      "text/html": [
       "<div>\n",
       "<style scoped>\n",
       "    .dataframe tbody tr th:only-of-type {\n",
       "        vertical-align: middle;\n",
       "    }\n",
       "\n",
       "    .dataframe tbody tr th {\n",
       "        vertical-align: top;\n",
       "    }\n",
       "\n",
       "    .dataframe thead th {\n",
       "        text-align: right;\n",
       "    }\n",
       "</style>\n",
       "<table border=\"1\" class=\"dataframe\">\n",
       "  <thead>\n",
       "    <tr style=\"text-align: right;\">\n",
       "      <th></th>\n",
       "      <th>Incongruent Response</th>\n",
       "      <th>Congruent Response</th>\n",
       "    </tr>\n",
       "  </thead>\n",
       "  <tbody>\n",
       "    <tr>\n",
       "      <th>count</th>\n",
       "      <td>50</td>\n",
       "      <td>50</td>\n",
       "    </tr>\n",
       "    <tr>\n",
       "      <th>unique</th>\n",
       "      <td>2</td>\n",
       "      <td>2</td>\n",
       "    </tr>\n",
       "    <tr>\n",
       "      <th>top</th>\n",
       "      <td>correct</td>\n",
       "      <td>incorrect</td>\n",
       "    </tr>\n",
       "    <tr>\n",
       "      <th>freq</th>\n",
       "      <td>35</td>\n",
       "      <td>39</td>\n",
       "    </tr>\n",
       "  </tbody>\n",
       "</table>\n",
       "</div>"
      ],
      "text/plain": [
       "       Incongruent Response Congruent Response\n",
       "count                    50                 50\n",
       "unique                    2                  2\n",
       "top                 correct          incorrect\n",
       "freq                     35                 39"
      ]
     },
     "execution_count": 26,
     "metadata": {},
     "output_type": "execute_result"
    }
   ],
   "source": [
    "df.describe(include=['object'])"
   ]
  },
  {
   "cell_type": "markdown",
   "metadata": {},
   "source": [
    "### We can use `=all` to see all of that info at once.  `NaN` stands for  `not a number`, which is Pandas' N/A value"
   ]
  },
  {
   "cell_type": "code",
   "execution_count": 27,
   "metadata": {},
   "outputs": [
    {
     "data": {
      "text/html": [
       "<div>\n",
       "<style scoped>\n",
       "    .dataframe tbody tr th:only-of-type {\n",
       "        vertical-align: middle;\n",
       "    }\n",
       "\n",
       "    .dataframe tbody tr th {\n",
       "        vertical-align: top;\n",
       "    }\n",
       "\n",
       "    .dataframe thead th {\n",
       "        text-align: right;\n",
       "    }\n",
       "</style>\n",
       "<table border=\"1\" class=\"dataframe\">\n",
       "  <thead>\n",
       "    <tr style=\"text-align: right;\">\n",
       "      <th></th>\n",
       "      <th>Incongruent Response</th>\n",
       "      <th>Congruent Response</th>\n",
       "      <th>Incongruent RT</th>\n",
       "      <th>Congruent RT</th>\n",
       "    </tr>\n",
       "  </thead>\n",
       "  <tbody>\n",
       "    <tr>\n",
       "      <th>count</th>\n",
       "      <td>50</td>\n",
       "      <td>50</td>\n",
       "      <td>50.000000</td>\n",
       "      <td>50.000000</td>\n",
       "    </tr>\n",
       "    <tr>\n",
       "      <th>unique</th>\n",
       "      <td>2</td>\n",
       "      <td>2</td>\n",
       "      <td>NaN</td>\n",
       "      <td>NaN</td>\n",
       "    </tr>\n",
       "    <tr>\n",
       "      <th>top</th>\n",
       "      <td>correct</td>\n",
       "      <td>incorrect</td>\n",
       "      <td>NaN</td>\n",
       "      <td>NaN</td>\n",
       "    </tr>\n",
       "    <tr>\n",
       "      <th>freq</th>\n",
       "      <td>35</td>\n",
       "      <td>39</td>\n",
       "      <td>NaN</td>\n",
       "      <td>NaN</td>\n",
       "    </tr>\n",
       "    <tr>\n",
       "      <th>mean</th>\n",
       "      <td>NaN</td>\n",
       "      <td>NaN</td>\n",
       "      <td>3.709286</td>\n",
       "      <td>3.042848</td>\n",
       "    </tr>\n",
       "    <tr>\n",
       "      <th>std</th>\n",
       "      <td>NaN</td>\n",
       "      <td>NaN</td>\n",
       "      <td>1.152093</td>\n",
       "      <td>0.906971</td>\n",
       "    </tr>\n",
       "    <tr>\n",
       "      <th>min</th>\n",
       "      <td>NaN</td>\n",
       "      <td>NaN</td>\n",
       "      <td>1.096242</td>\n",
       "      <td>1.019070</td>\n",
       "    </tr>\n",
       "    <tr>\n",
       "      <th>25%</th>\n",
       "      <td>NaN</td>\n",
       "      <td>NaN</td>\n",
       "      <td>2.842027</td>\n",
       "      <td>2.427086</td>\n",
       "    </tr>\n",
       "    <tr>\n",
       "      <th>50%</th>\n",
       "      <td>NaN</td>\n",
       "      <td>NaN</td>\n",
       "      <td>3.719161</td>\n",
       "      <td>3.039924</td>\n",
       "    </tr>\n",
       "    <tr>\n",
       "      <th>75%</th>\n",
       "      <td>NaN</td>\n",
       "      <td>NaN</td>\n",
       "      <td>4.605331</td>\n",
       "      <td>3.622555</td>\n",
       "    </tr>\n",
       "    <tr>\n",
       "      <th>max</th>\n",
       "      <td>NaN</td>\n",
       "      <td>NaN</td>\n",
       "      <td>5.671136</td>\n",
       "      <td>4.832019</td>\n",
       "    </tr>\n",
       "  </tbody>\n",
       "</table>\n",
       "</div>"
      ],
      "text/plain": [
       "       Incongruent Response Congruent Response  Incongruent RT  Congruent RT\n",
       "count                    50                 50       50.000000     50.000000\n",
       "unique                    2                  2             NaN           NaN\n",
       "top                 correct          incorrect             NaN           NaN\n",
       "freq                     35                 39             NaN           NaN\n",
       "mean                    NaN                NaN        3.709286      3.042848\n",
       "std                     NaN                NaN        1.152093      0.906971\n",
       "min                     NaN                NaN        1.096242      1.019070\n",
       "25%                     NaN                NaN        2.842027      2.427086\n",
       "50%                     NaN                NaN        3.719161      3.039924\n",
       "75%                     NaN                NaN        4.605331      3.622555\n",
       "max                     NaN                NaN        5.671136      4.832019"
      ]
     },
     "execution_count": 27,
     "metadata": {},
     "output_type": "execute_result"
    }
   ],
   "source": [
    "df. describe(include='all')"
   ]
  },
  {
   "cell_type": "markdown",
   "metadata": {},
   "source": [
    "### Transforming data\n",
    "\n",
    "Let's say we need to apply a function to our data.  Lots of times this is important to understand things on different scales.  Let's explore a natural log scale."
   ]
  },
  {
   "cell_type": "code",
   "execution_count": 28,
   "metadata": {},
   "outputs": [
    {
     "data": {
      "text/html": [
       "<div>\n",
       "<style scoped>\n",
       "    .dataframe tbody tr th:only-of-type {\n",
       "        vertical-align: middle;\n",
       "    }\n",
       "\n",
       "    .dataframe tbody tr th {\n",
       "        vertical-align: top;\n",
       "    }\n",
       "\n",
       "    .dataframe thead th {\n",
       "        text-align: right;\n",
       "    }\n",
       "</style>\n",
       "<table border=\"1\" class=\"dataframe\">\n",
       "  <thead>\n",
       "    <tr style=\"text-align: right;\">\n",
       "      <th></th>\n",
       "      <th>Incongruent Response</th>\n",
       "      <th>Congruent Response</th>\n",
       "      <th>Incongruent RT</th>\n",
       "      <th>Congruent RT</th>\n",
       "      <th>Log of Incongruent RT</th>\n",
       "    </tr>\n",
       "  </thead>\n",
       "  <tbody>\n",
       "    <tr>\n",
       "      <th>0</th>\n",
       "      <td>correct</td>\n",
       "      <td>incorrect</td>\n",
       "      <td>2.479999</td>\n",
       "      <td>2.005041</td>\n",
       "      <td>0.908258</td>\n",
       "    </tr>\n",
       "    <tr>\n",
       "      <th>1</th>\n",
       "      <td>correct</td>\n",
       "      <td>incorrect</td>\n",
       "      <td>3.736042</td>\n",
       "      <td>2.890024</td>\n",
       "      <td>1.318027</td>\n",
       "    </tr>\n",
       "    <tr>\n",
       "      <th>2</th>\n",
       "      <td>correct</td>\n",
       "      <td>incorrect</td>\n",
       "      <td>3.702280</td>\n",
       "      <td>3.642979</td>\n",
       "      <td>1.308949</td>\n",
       "    </tr>\n",
       "  </tbody>\n",
       "</table>\n",
       "</div>"
      ],
      "text/plain": [
       "  Incongruent Response Congruent Response  Incongruent RT  Congruent RT  \\\n",
       "0              correct          incorrect        2.479999      2.005041   \n",
       "1              correct          incorrect        3.736042      2.890024   \n",
       "2              correct          incorrect        3.702280      3.642979   \n",
       "\n",
       "   Log of Incongruent RT  \n",
       "0               0.908258  \n",
       "1               1.318027  \n",
       "2               1.308949  "
      ]
     },
     "execution_count": 28,
     "metadata": {},
     "output_type": "execute_result"
    }
   ],
   "source": [
    "import numpy as np\n",
    "df['Log of Incongruent RT'] = df['Incongruent RT'].transform(np.log)\n",
    "df.head(3)"
   ]
  },
  {
   "cell_type": "markdown",
   "metadata": {},
   "source": [
    "### Another way to do that"
   ]
  },
  {
   "cell_type": "code",
   "execution_count": 29,
   "metadata": {},
   "outputs": [
    {
     "data": {
      "text/html": [
       "<div>\n",
       "<style scoped>\n",
       "    .dataframe tbody tr th:only-of-type {\n",
       "        vertical-align: middle;\n",
       "    }\n",
       "\n",
       "    .dataframe tbody tr th {\n",
       "        vertical-align: top;\n",
       "    }\n",
       "\n",
       "    .dataframe thead th {\n",
       "        text-align: right;\n",
       "    }\n",
       "</style>\n",
       "<table border=\"1\" class=\"dataframe\">\n",
       "  <thead>\n",
       "    <tr style=\"text-align: right;\">\n",
       "      <th></th>\n",
       "      <th>Incongruent Response</th>\n",
       "      <th>Congruent Response</th>\n",
       "      <th>Incongruent RT</th>\n",
       "      <th>Congruent RT</th>\n",
       "      <th>Log of Incongruent RT</th>\n",
       "      <th>Log of congruent RT</th>\n",
       "    </tr>\n",
       "  </thead>\n",
       "  <tbody>\n",
       "    <tr>\n",
       "      <th>0</th>\n",
       "      <td>correct</td>\n",
       "      <td>incorrect</td>\n",
       "      <td>2.479999</td>\n",
       "      <td>2.005041</td>\n",
       "      <td>0.908258</td>\n",
       "      <td>0.695665</td>\n",
       "    </tr>\n",
       "    <tr>\n",
       "      <th>1</th>\n",
       "      <td>correct</td>\n",
       "      <td>incorrect</td>\n",
       "      <td>3.736042</td>\n",
       "      <td>2.890024</td>\n",
       "      <td>1.318027</td>\n",
       "      <td>1.061265</td>\n",
       "    </tr>\n",
       "    <tr>\n",
       "      <th>2</th>\n",
       "      <td>correct</td>\n",
       "      <td>incorrect</td>\n",
       "      <td>3.702280</td>\n",
       "      <td>3.642979</td>\n",
       "      <td>1.308949</td>\n",
       "      <td>1.292802</td>\n",
       "    </tr>\n",
       "  </tbody>\n",
       "</table>\n",
       "</div>"
      ],
      "text/plain": [
       "  Incongruent Response Congruent Response  Incongruent RT  Congruent RT  \\\n",
       "0              correct          incorrect        2.479999      2.005041   \n",
       "1              correct          incorrect        3.736042      2.890024   \n",
       "2              correct          incorrect        3.702280      3.642979   \n",
       "\n",
       "   Log of Incongruent RT  Log of congruent RT  \n",
       "0               0.908258             0.695665  \n",
       "1               1.318027             1.061265  \n",
       "2               1.308949             1.292802  "
      ]
     },
     "execution_count": 29,
     "metadata": {},
     "output_type": "execute_result"
    }
   ],
   "source": [
    "df['Log of congruent RT'] = np.log(df['Congruent RT'])\n",
    "df.head(3)"
   ]
  },
  {
   "cell_type": "markdown",
   "metadata": {},
   "source": [
    "## Calculating across axes using `apply`\n",
    "Sometimes you want to calculate across rows, sometimes down columns.  `apply` is the command to do that.\n",
    "\n",
    "<div class=\"alert alert-info\">\n",
    "<list>\n",
    "    <li>Axis 0 is rows</li>\n",
    "    <li>Axis 1 is columns</li>\n",
    "</list>\n",
    "\n"
   ]
  },
  {
   "cell_type": "markdown",
   "metadata": {},
   "source": [
    "Let's calculate the mean reaction time for each trial.\n",
    "- First we subset the data"
   ]
  },
  {
   "cell_type": "code",
   "execution_count": 30,
   "metadata": {},
   "outputs": [
    {
     "data": {
      "text/html": [
       "<div>\n",
       "<style scoped>\n",
       "    .dataframe tbody tr th:only-of-type {\n",
       "        vertical-align: middle;\n",
       "    }\n",
       "\n",
       "    .dataframe tbody tr th {\n",
       "        vertical-align: top;\n",
       "    }\n",
       "\n",
       "    .dataframe thead th {\n",
       "        text-align: right;\n",
       "    }\n",
       "</style>\n",
       "<table border=\"1\" class=\"dataframe\">\n",
       "  <thead>\n",
       "    <tr style=\"text-align: right;\">\n",
       "      <th></th>\n",
       "      <th>Incongruent RT</th>\n",
       "      <th>Congruent RT</th>\n",
       "    </tr>\n",
       "  </thead>\n",
       "  <tbody>\n",
       "    <tr>\n",
       "      <th>0</th>\n",
       "      <td>2.479999</td>\n",
       "      <td>2.005041</td>\n",
       "    </tr>\n",
       "    <tr>\n",
       "      <th>1</th>\n",
       "      <td>3.736042</td>\n",
       "      <td>2.890024</td>\n",
       "    </tr>\n",
       "  </tbody>\n",
       "</table>\n",
       "</div>"
      ],
      "text/plain": [
       "   Incongruent RT  Congruent RT\n",
       "0        2.479999      2.005041\n",
       "1        3.736042      2.890024"
      ]
     },
     "execution_count": 30,
     "metadata": {},
     "output_type": "execute_result"
    }
   ],
   "source": [
    "rtData = df.iloc[:-1, 2:4]\n",
    "rtData.head(2)"
   ]
  },
  {
   "cell_type": "code",
   "execution_count": 31,
   "metadata": {},
   "outputs": [
    {
     "data": {
      "text/html": [
       "<div>\n",
       "<style scoped>\n",
       "    .dataframe tbody tr th:only-of-type {\n",
       "        vertical-align: middle;\n",
       "    }\n",
       "\n",
       "    .dataframe tbody tr th {\n",
       "        vertical-align: top;\n",
       "    }\n",
       "\n",
       "    .dataframe thead th {\n",
       "        text-align: right;\n",
       "    }\n",
       "</style>\n",
       "<table border=\"1\" class=\"dataframe\">\n",
       "  <thead>\n",
       "    <tr style=\"text-align: right;\">\n",
       "      <th></th>\n",
       "      <th>Incongruent Response</th>\n",
       "      <th>Congruent Response</th>\n",
       "      <th>Incongruent RT</th>\n",
       "      <th>Congruent RT</th>\n",
       "      <th>Log of Incongruent RT</th>\n",
       "      <th>Log of congruent RT</th>\n",
       "      <th>Mean Reaction Time</th>\n",
       "    </tr>\n",
       "  </thead>\n",
       "  <tbody>\n",
       "    <tr>\n",
       "      <th>0</th>\n",
       "      <td>correct</td>\n",
       "      <td>incorrect</td>\n",
       "      <td>2.479999</td>\n",
       "      <td>2.005041</td>\n",
       "      <td>0.908258</td>\n",
       "      <td>0.695665</td>\n",
       "      <td>2.242520</td>\n",
       "    </tr>\n",
       "    <tr>\n",
       "      <th>1</th>\n",
       "      <td>correct</td>\n",
       "      <td>incorrect</td>\n",
       "      <td>3.736042</td>\n",
       "      <td>2.890024</td>\n",
       "      <td>1.318027</td>\n",
       "      <td>1.061265</td>\n",
       "      <td>3.313033</td>\n",
       "    </tr>\n",
       "    <tr>\n",
       "      <th>2</th>\n",
       "      <td>correct</td>\n",
       "      <td>incorrect</td>\n",
       "      <td>3.702280</td>\n",
       "      <td>3.642979</td>\n",
       "      <td>1.308949</td>\n",
       "      <td>1.292802</td>\n",
       "      <td>3.672629</td>\n",
       "    </tr>\n",
       "    <tr>\n",
       "      <th>3</th>\n",
       "      <td>correct</td>\n",
       "      <td>incorrect</td>\n",
       "      <td>3.940541</td>\n",
       "      <td>3.194376</td>\n",
       "      <td>1.371318</td>\n",
       "      <td>1.161392</td>\n",
       "      <td>3.567458</td>\n",
       "    </tr>\n",
       "    <tr>\n",
       "      <th>4</th>\n",
       "      <td>correct</td>\n",
       "      <td>incorrect</td>\n",
       "      <td>5.456142</td>\n",
       "      <td>3.488134</td>\n",
       "      <td>1.696742</td>\n",
       "      <td>1.249367</td>\n",
       "      <td>4.472138</td>\n",
       "    </tr>\n",
       "  </tbody>\n",
       "</table>\n",
       "</div>"
      ],
      "text/plain": [
       "  Incongruent Response Congruent Response  Incongruent RT  Congruent RT  \\\n",
       "0              correct          incorrect        2.479999      2.005041   \n",
       "1              correct          incorrect        3.736042      2.890024   \n",
       "2              correct          incorrect        3.702280      3.642979   \n",
       "3              correct          incorrect        3.940541      3.194376   \n",
       "4              correct          incorrect        5.456142      3.488134   \n",
       "\n",
       "   Log of Incongruent RT  Log of congruent RT  Mean Reaction Time  \n",
       "0               0.908258             0.695665            2.242520  \n",
       "1               1.318027             1.061265            3.313033  \n",
       "2               1.308949             1.292802            3.672629  \n",
       "3               1.371318             1.161392            3.567458  \n",
       "4               1.696742             1.249367            4.472138  "
      ]
     },
     "execution_count": 31,
     "metadata": {},
     "output_type": "execute_result"
    }
   ],
   "source": [
    "df['Mean Reaction Time'] = rtData.apply(np.mean, axis=1)\n",
    "df.head()"
   ]
  },
  {
   "cell_type": "markdown",
   "metadata": {},
   "source": [
    "## Calculate proportion correct by applying a conditional count method.\n",
    "\n",
    "### This is like `countif` in excel"
   ]
  },
  {
   "cell_type": "code",
   "execution_count": 32,
   "metadata": {},
   "outputs": [
    {
     "name": "stdout",
     "output_type": "stream",
     "text": [
      "0.7 0.22\n"
     ]
    }
   ],
   "source": [
    "proportion_correct_incongruent = (df[df[\"Incongruent Response\"] == \"correct\"].count(axis=0) / 50)[0]\n",
    "proportion_correct_congruent = (df[df[\"Congruent Response\"] == \"correct\"].count(axis=0) / 50)[0]\n",
    "print(proportion_correct_incongruent, proportion_correct_congruent)"
   ]
  },
  {
   "cell_type": "markdown",
   "metadata": {},
   "source": [
    "That was s a complicated statment.  Let's break it down.\n",
    "- `df[df[\"Incongruent Response\"] == \"correct\"]` is the exact same conditional search we used in the previous example\n",
    "- we apply the `count()` method on `axis=0`, which means across rows.\n",
    "- So we're counting the number of cells in each column that corresponds to correct incongruent responses\n",
    "- `50` is the number of trials.  \n",
    "    - When we divide the count by the number of items how we get a proportion.\n",
    "- Recall that the conditional search returns a Pandas series\n",
    "    - encapsulate the statement in `()`\n",
    "    - ask for the first element in the series `[0]`"
   ]
  },
  {
   "cell_type": "code",
   "execution_count": null,
   "metadata": {},
   "outputs": [],
   "source": []
  }
 ],
 "metadata": {
  "kernelspec": {
   "display_name": "Python 3",
   "language": "python",
   "name": "python3"
  },
  "language_info": {
   "codemirror_mode": {
    "name": "ipython",
    "version": 3
   },
   "file_extension": ".py",
   "mimetype": "text/x-python",
   "name": "python",
   "nbconvert_exporter": "python",
   "pygments_lexer": "ipython3",
   "version": "3.7.3"
  },
  "toc": {
   "base_numbering": 1,
   "nav_menu": {},
   "number_sections": false,
   "sideBar": false,
   "skip_h1_title": false,
   "title_cell": "Table of Contents",
   "title_sidebar": "Contents",
   "toc_cell": false,
   "toc_position": {},
   "toc_section_display": false,
   "toc_window_display": false
  }
 },
 "nbformat": 4,
 "nbformat_minor": 2
}
