{
 "cells": [
  {
   "cell_type": "markdown",
   "metadata": {},
   "source": [
    "# Debugging\n",
    "<div class=\"alert alert-success\">\n",
    "Debugging is the process of finding and fixing errors in a computer program.\n",
    "</div>\n",
    "\n",
    "Different kinds of errors can occur in a program, and it is useful to distinguish among them in order to track them down more quickly."
   ]
  },
  {
   "cell_type": "markdown",
   "metadata": {},
   "source": [
    "# Finding your errors\n",
    "\n",
    "## Finding an error isn't easy.  Even when Python tells you about your error, sometimes we can spend hours looking for a typo.\n",
    "\n",
    "So how can we do this? The following tips are from: http://www.openbookproject.net/thinkcs/python/english2e/app_a.html"
   ]
  },
  {
   "cell_type": "markdown",
   "metadata": {
    "slideshow": {
     "slide_type": "slide"
    }
   },
   "source": [
    "## Different types of Errors \n",
    "\n",
    "- Syntax errors\n",
    "- Indentation error\n",
    "- Zero division error\n",
    "- Name error\n",
    "- Index error\n",
    "- Value error\n",
    "- Type error"
   ]
  },
  {
   "cell_type": "markdown",
   "metadata": {},
   "source": [
    "## Syntax Errors\n",
    "\n",
    "- Syntax errors are usually easy to fix once you figure out what they are.\n",
    "- Unfortunately, the error messages are often not helpful. \n",
    "- The most common messages are `SyntaxError: invalid syntax` and `SyntaxError:invalid token`\n",
    "    - Neither are very informative\n",
    "- The message does tell you where in the program the problem occurred. \n",
    "    - Actually, it tells you where Python noticed a problem, which is not necessarily where the error is. \n",
    "    - Sometimes the error is prior to the location of the error message, often on the preceding line.\n",
    "- If you are building the program incrementally, you should have a good idea about where the error is. \n",
    "    - It will be in the last line you added.\n",
    "- If you are copying code from a book, or the internet, start by comparing your code to the book's or website's code very carefully.\n",
    "    - Check every character. \n",
    "    - Remember that the book or website might be wrong, or using an incompatible software version\n",
    "        - If you see something that looks like a syntax error, it might not be your fault\n",
    "- Syntax errors are produced by Python when it is translating the source code into byte code. \n",
    "    - They usually indicate that there is something wrong with the syntax of the program. "
   ]
  },
  {
   "cell_type": "markdown",
   "metadata": {
    "slideshow": {
     "slide_type": "slide"
    }
   },
   "source": [
    "### Syntax Error Examples"
   ]
  },
  {
   "cell_type": "markdown",
   "metadata": {},
   "source": [
    "#### Missing colon"
   ]
  },
  {
   "cell_type": "code",
   "execution_count": 1,
   "metadata": {
    "slideshow": {
     "slide_type": "fragment"
    }
   },
   "outputs": [
    {
     "ename": "SyntaxError",
     "evalue": "invalid syntax (<ipython-input-1-84adba9b209c>, line 1)",
     "output_type": "error",
     "traceback": [
      "\u001b[0;36m  File \u001b[0;32m\"<ipython-input-1-84adba9b209c>\"\u001b[0;36m, line \u001b[0;32m1\u001b[0m\n\u001b[0;31m    if True\u001b[0m\n\u001b[0m           ^\u001b[0m\n\u001b[0;31mSyntaxError\u001b[0m\u001b[0;31m:\u001b[0m invalid syntax\n"
     ]
    }
   ],
   "source": [
    "if True\n",
    "    print('Yep.')"
   ]
  },
  {
   "cell_type": "markdown",
   "metadata": {},
   "source": [
    "#### Forgot to close quotes"
   ]
  },
  {
   "cell_type": "code",
   "execution_count": 15,
   "metadata": {},
   "outputs": [
    {
     "ename": "SyntaxError",
     "evalue": "EOL while scanning string literal (<ipython-input-15-f36633c8afd8>, line 1)",
     "output_type": "error",
     "traceback": [
      "\u001b[0;36m  File \u001b[0;32m\"<ipython-input-15-f36633c8afd8>\"\u001b[0;36m, line \u001b[0;32m1\u001b[0m\n\u001b[0;31m    name = 'Dr Feinberg\u001b[0m\n\u001b[0m                       ^\u001b[0m\n\u001b[0;31mSyntaxError\u001b[0m\u001b[0;31m:\u001b[0m EOL while scanning string literal\n"
     ]
    }
   ],
   "source": [
    "name = 'Dr Feinberg"
   ]
  },
  {
   "cell_type": "markdown",
   "metadata": {},
   "source": [
    "#### Forgot to close parentheses"
   ]
  },
  {
   "cell_type": "code",
   "execution_count": 17,
   "metadata": {},
   "outputs": [
    {
     "ename": "SyntaxError",
     "evalue": "unexpected EOF while parsing (<ipython-input-17-84ddbb59fdf6>, line 1)",
     "output_type": "error",
     "traceback": [
      "\u001b[0;36m  File \u001b[0;32m\"<ipython-input-17-84ddbb59fdf6>\"\u001b[0;36m, line \u001b[0;32m1\u001b[0m\n\u001b[0;31m    print('My Name is; My name is; My name is Slim Shady'\u001b[0m\n\u001b[0m                                                         ^\u001b[0m\n\u001b[0;31mSyntaxError\u001b[0m\u001b[0;31m:\u001b[0m unexpected EOF while parsing\n"
     ]
    }
   ],
   "source": [
    "print('My Name is; My name is; My name is Slim Shady'"
   ]
  },
  {
   "cell_type": "markdown",
   "metadata": {},
   "source": [
    "#### Typed your operator backwards... should be `+=`, not `=+`"
   ]
  },
  {
   "cell_type": "code",
   "execution_count": 20,
   "metadata": {},
   "outputs": [
    {
     "ename": "SyntaxError",
     "evalue": "can't assign to literal (<ipython-input-20-353f08094bc6>, line 1)",
     "output_type": "error",
     "traceback": [
      "\u001b[0;36m  File \u001b[0;32m\"<ipython-input-20-353f08094bc6>\"\u001b[0;36m, line \u001b[0;32m1\u001b[0m\n\u001b[0;31m    6 =+ 1\u001b[0m\n\u001b[0m          ^\u001b[0m\n\u001b[0;31mSyntaxError\u001b[0m\u001b[0;31m:\u001b[0m can't assign to literal\n"
     ]
    }
   ],
   "source": [
    " 6 =+ 1"
   ]
  },
  {
   "cell_type": "markdown",
   "metadata": {},
   "source": [
    "### Indentation Error Example"
   ]
  },
  {
   "cell_type": "code",
   "execution_count": 2,
   "metadata": {
    "slideshow": {
     "slide_type": "fragment"
    }
   },
   "outputs": [
    {
     "ename": "IndentationError",
     "evalue": "expected an indented block (<ipython-input-2-6b38a7bbe4d8>, line 3)",
     "output_type": "error",
     "traceback": [
      "\u001b[0;36m  File \u001b[0;32m\"<ipython-input-2-6b38a7bbe4d8>\"\u001b[0;36m, line \u001b[0;32m3\u001b[0m\n\u001b[0;31m    print(value)\u001b[0m\n\u001b[0m        ^\u001b[0m\n\u001b[0;31mIndentationError\u001b[0m\u001b[0;31m:\u001b[0m expected an indented block\n"
     ]
    }
   ],
   "source": [
    "my_list = [1, 2]\n",
    "for value in my_list:\n",
    "print(value)"
   ]
  },
  {
   "cell_type": "markdown",
   "metadata": {
    "slideshow": {
     "slide_type": "slide"
    }
   },
   "source": [
    "### ZeroDivisionError\n",
    "\n",
    "ZeroDivisionError occurs when you try to divide by zero. There are other math errors that occur when trying to do illegal mathematical operations.  Don't worry, you won't go to jail if you do illegal mathematical operations.  Your program won't work though."
   ]
  },
  {
   "cell_type": "code",
   "execution_count": 3,
   "metadata": {
    "slideshow": {
     "slide_type": "fragment"
    }
   },
   "outputs": [
    {
     "ename": "ZeroDivisionError",
     "evalue": "division by zero",
     "output_type": "error",
     "traceback": [
      "\u001b[0;31m---------------------------------------------------------------------------\u001b[0m",
      "\u001b[0;31mZeroDivisionError\u001b[0m                         Traceback (most recent call last)",
      "\u001b[0;32m<ipython-input-3-bc757c3fda29>\u001b[0m in \u001b[0;36m<module>\u001b[0;34m()\u001b[0m\n\u001b[0;32m----> 1\u001b[0;31m \u001b[0;36m1\u001b[0m \u001b[0;34m/\u001b[0m \u001b[0;36m0\u001b[0m\u001b[0;34m\u001b[0m\u001b[0m\n\u001b[0m",
      "\u001b[0;31mZeroDivisionError\u001b[0m: division by zero"
     ]
    }
   ],
   "source": [
    "1 / 0"
   ]
  },
  {
   "cell_type": "markdown",
   "metadata": {
    "slideshow": {
     "slide_type": "slide"
    }
   },
   "source": [
    "### Name Error\n",
    "\n",
    "#### NameError occurs when you try to access a name that Python does not know."
   ]
  },
  {
   "cell_type": "markdown",
   "metadata": {},
   "source": [
    "#### For example, if you typo a name, you will get a NameError"
   ]
  },
  {
   "cell_type": "code",
   "execution_count": 25,
   "metadata": {
    "slideshow": {
     "slide_type": "fragment"
    }
   },
   "outputs": [
    {
     "ename": "NameError",
     "evalue": "name 'varaible' is not defined",
     "output_type": "error",
     "traceback": [
      "\u001b[0;31m---------------------------------------------------------------------------\u001b[0m",
      "\u001b[0;31mNameError\u001b[0m                                 Traceback (most recent call last)",
      "\u001b[0;32m<ipython-input-25-d676d3304780>\u001b[0m in \u001b[0;36m<module>\u001b[0;34m\u001b[0m\n\u001b[1;32m      1\u001b[0m \u001b[0mvariable\u001b[0m \u001b[0;34m=\u001b[0m \u001b[0;36m12\u001b[0m\u001b[0;34m\u001b[0m\u001b[0;34m\u001b[0m\u001b[0m\n\u001b[0;32m----> 2\u001b[0;31m \u001b[0mvaraible\u001b[0m\u001b[0;34m\u001b[0m\u001b[0;34m\u001b[0m\u001b[0m\n\u001b[0m",
      "\u001b[0;31mNameError\u001b[0m: name 'varaible' is not defined"
     ]
    }
   ],
   "source": [
    "variable = 12\n",
    "varaible"
   ]
  },
  {
   "cell_type": "markdown",
   "metadata": {},
   "source": [
    "#### You also get a name error if you try to use the wrong operator for assignment\n"
   ]
  },
  {
   "cell_type": "code",
   "execution_count": 6,
   "metadata": {
    "slideshow": {
     "slide_type": "fragment"
    }
   },
   "outputs": [
    {
     "ename": "NameError",
     "evalue": "name 'new_variable' is not defined",
     "output_type": "error",
     "traceback": [
      "\u001b[0;31m---------------------------------------------------------------------------\u001b[0m",
      "\u001b[0;31mNameError\u001b[0m                                 Traceback (most recent call last)",
      "\u001b[0;32m<ipython-input-6-4f05423dede6>\u001b[0m in \u001b[0;36m<module>\u001b[0;34m()\u001b[0m\n\u001b[1;32m      1\u001b[0m \u001b[0;31m# You also get a name error if you try to use the wrong operator for assignment\u001b[0m\u001b[0;34m\u001b[0m\u001b[0;34m\u001b[0m\u001b[0m\n\u001b[0;32m----> 2\u001b[0;31m \u001b[0mnew_variable\u001b[0m \u001b[0;34m==\u001b[0m \u001b[0;36m1\u001b[0m\u001b[0;34m\u001b[0m\u001b[0m\n\u001b[0m",
      "\u001b[0;31mNameError\u001b[0m: name 'new_variable' is not defined"
     ]
    }
   ],
   "source": [
    "new_variable == 1"
   ]
  },
  {
   "cell_type": "markdown",
   "metadata": {},
   "source": [
    "#### Name errors can also occur if you make certain typos for built-in commands:"
   ]
  },
  {
   "cell_type": "code",
   "execution_count": 22,
   "metadata": {},
   "outputs": [
    {
     "ename": "NameError",
     "evalue": "name 'Ture' is not defined",
     "output_type": "error",
     "traceback": [
      "\u001b[0;31m---------------------------------------------------------------------------\u001b[0m",
      "\u001b[0;31mNameError\u001b[0m                                 Traceback (most recent call last)",
      "\u001b[0;32m<ipython-input-22-375a130a2eea>\u001b[0m in \u001b[0;36m<module>\u001b[0;34m\u001b[0m\n\u001b[0;32m----> 1\u001b[0;31m \u001b[0;32mif\u001b[0m \u001b[0mTure\u001b[0m\u001b[0;34m:\u001b[0m\u001b[0;34m\u001b[0m\u001b[0;34m\u001b[0m\u001b[0m\n\u001b[0m\u001b[1;32m      2\u001b[0m     \u001b[0mprint\u001b[0m\u001b[0;34m(\u001b[0m\u001b[0;34m'The truth is out there.'\u001b[0m\u001b[0;34m)\u001b[0m\u001b[0;34m\u001b[0m\u001b[0;34m\u001b[0m\u001b[0m\n",
      "\u001b[0;31mNameError\u001b[0m: name 'Ture' is not defined"
     ]
    }
   ],
   "source": [
    "if Ture:\n",
    "    print('The truth is out there.')"
   ]
  },
  {
   "cell_type": "markdown",
   "metadata": {
    "slideshow": {
     "slide_type": "slide"
    }
   },
   "source": [
    "### IndexError\n",
    "\n",
    "IndexError occurs when you try to access an index that doesn't exist."
   ]
  },
  {
   "cell_type": "code",
   "execution_count": 7,
   "metadata": {
    "slideshow": {
     "slide_type": "fragment"
    }
   },
   "outputs": [
    {
     "ename": "IndexError",
     "evalue": "list index out of range",
     "output_type": "error",
     "traceback": [
      "\u001b[0;31m---------------------------------------------------------------------------\u001b[0m",
      "\u001b[0;31mIndexError\u001b[0m                                Traceback (most recent call last)",
      "\u001b[0;32m<ipython-input-7-2c2a83518cf2>\u001b[0m in \u001b[0;36m<module>\u001b[0;34m()\u001b[0m\n\u001b[1;32m      1\u001b[0m \u001b[0mmy_list\u001b[0m \u001b[0;34m=\u001b[0m \u001b[0;34m[\u001b[0m\u001b[0;36m1\u001b[0m\u001b[0;34m,\u001b[0m \u001b[0;36m2\u001b[0m\u001b[0;34m,\u001b[0m \u001b[0;36m3\u001b[0m\u001b[0;34m]\u001b[0m\u001b[0;34m\u001b[0m\u001b[0m\n\u001b[0;32m----> 2\u001b[0;31m \u001b[0mmy_list\u001b[0m\u001b[0;34m[\u001b[0m\u001b[0;36m5\u001b[0m\u001b[0;34m]\u001b[0m\u001b[0;34m\u001b[0m\u001b[0m\n\u001b[0m",
      "\u001b[0;31mIndexError\u001b[0m: list index out of range"
     ]
    }
   ],
   "source": [
    "my_list = [1, 2, 3]\n",
    "my_list[5]"
   ]
  },
  {
   "cell_type": "code",
   "execution_count": 8,
   "metadata": {
    "slideshow": {
     "slide_type": "fragment"
    }
   },
   "outputs": [
    {
     "ename": "KeyError",
     "evalue": "'name3'",
     "output_type": "error",
     "traceback": [
      "\u001b[0;31m---------------------------------------------------------------------------\u001b[0m",
      "\u001b[0;31mKeyError\u001b[0m                                  Traceback (most recent call last)",
      "\u001b[0;32m<ipython-input-8-84a1c00e4833>\u001b[0m in \u001b[0;36m<module>\u001b[0;34m()\u001b[0m\n\u001b[1;32m      1\u001b[0m \u001b[0;31m# Relatedly, 'KeyError' occurs if you ask for a dictionary key that doesn't exist\u001b[0m\u001b[0;34m\u001b[0m\u001b[0;34m\u001b[0m\u001b[0m\n\u001b[1;32m      2\u001b[0m \u001b[0mmy_dictionary\u001b[0m \u001b[0;34m=\u001b[0m \u001b[0;34m{\u001b[0m\u001b[0;34m'name1'\u001b[0m \u001b[0;34m:\u001b[0m \u001b[0;36m1\u001b[0m\u001b[0;34m,\u001b[0m \u001b[0;34m'name2'\u001b[0m \u001b[0;34m:\u001b[0m \u001b[0;36m2\u001b[0m\u001b[0;34m}\u001b[0m\u001b[0;34m\u001b[0m\u001b[0m\n\u001b[0;32m----> 3\u001b[0;31m \u001b[0mmy_dictionary\u001b[0m\u001b[0;34m[\u001b[0m\u001b[0;34m'name3'\u001b[0m\u001b[0;34m]\u001b[0m\u001b[0;34m\u001b[0m\u001b[0m\n\u001b[0m",
      "\u001b[0;31mKeyError\u001b[0m: 'name3'"
     ]
    }
   ],
   "source": [
    "# Relatedly, 'KeyError' occurs if you ask for a dictionary key that doesn't exist\n",
    "my_dictionary = {'name1' : 1, 'name2' : 2}\n",
    "my_dictionary['name3']"
   ]
  },
  {
   "cell_type": "markdown",
   "metadata": {
    "slideshow": {
     "slide_type": "slide"
    }
   },
   "source": [
    "### ValueError\n",
    "\n",
    "ValueError occurs when you try to use an illegal value for something."
   ]
  },
  {
   "cell_type": "code",
   "execution_count": 9,
   "metadata": {
    "slideshow": {
     "slide_type": "fragment"
    }
   },
   "outputs": [
    {
     "ename": "ValueError",
     "evalue": "invalid literal for int() with base 10: 'cat'",
     "output_type": "error",
     "traceback": [
      "\u001b[0;31m---------------------------------------------------------------------------\u001b[0m",
      "\u001b[0;31mValueError\u001b[0m                                Traceback (most recent call last)",
      "\u001b[0;32m<ipython-input-9-1c6b28888bbe>\u001b[0m in \u001b[0;36m<module>\u001b[0;34m()\u001b[0m\n\u001b[0;32m----> 1\u001b[0;31m \u001b[0mint\u001b[0m\u001b[0;34m(\u001b[0m\u001b[0;34m'cat'\u001b[0m\u001b[0;34m)\u001b[0m\u001b[0;34m\u001b[0m\u001b[0m\n\u001b[0m",
      "\u001b[0;31mValueError\u001b[0m: invalid literal for int() with base 10: 'cat'"
     ]
    }
   ],
   "source": [
    "int('cat')"
   ]
  },
  {
   "cell_type": "code",
   "execution_count": 10,
   "metadata": {
    "slideshow": {
     "slide_type": "fragment"
    }
   },
   "outputs": [
    {
     "ename": "ValueError",
     "evalue": "list.remove(x): x not in list",
     "output_type": "error",
     "traceback": [
      "\u001b[0;31m---------------------------------------------------------------------------\u001b[0m",
      "\u001b[0;31mValueError\u001b[0m                                Traceback (most recent call last)",
      "\u001b[0;32m<ipython-input-10-f00634ed638b>\u001b[0m in \u001b[0;36m<module>\u001b[0;34m()\u001b[0m\n\u001b[1;32m      1\u001b[0m \u001b[0mmy_list\u001b[0m \u001b[0;34m=\u001b[0m \u001b[0;34m[\u001b[0m\u001b[0;36m1\u001b[0m\u001b[0;34m,\u001b[0m \u001b[0;36m2\u001b[0m\u001b[0;34m,\u001b[0m \u001b[0;36m3\u001b[0m\u001b[0;34m]\u001b[0m\u001b[0;34m\u001b[0m\u001b[0m\n\u001b[0;32m----> 2\u001b[0;31m \u001b[0mmy_list\u001b[0m\u001b[0;34m.\u001b[0m\u001b[0mremove\u001b[0m\u001b[0;34m(\u001b[0m\u001b[0;36m0\u001b[0m\u001b[0;34m)\u001b[0m\u001b[0;34m\u001b[0m\u001b[0m\n\u001b[0m",
      "\u001b[0;31mValueError\u001b[0m: list.remove(x): x not in list"
     ]
    }
   ],
   "source": [
    "my_list = [1, 2, 3]\n",
    "my_list.remove(0)"
   ]
  },
  {
   "cell_type": "markdown",
   "metadata": {
    "slideshow": {
     "slide_type": "slide"
    }
   },
   "source": [
    "### TypeError"
   ]
  },
  {
   "cell_type": "code",
   "execution_count": 11,
   "metadata": {
    "slideshow": {
     "slide_type": "fragment"
    }
   },
   "outputs": [
    {
     "ename": "TypeError",
     "evalue": "must be str, not int",
     "output_type": "error",
     "traceback": [
      "\u001b[0;31m---------------------------------------------------------------------------\u001b[0m",
      "\u001b[0;31mTypeError\u001b[0m                                 Traceback (most recent call last)",
      "\u001b[0;32m<ipython-input-11-57c293ee5895>\u001b[0m in \u001b[0;36m<module>\u001b[0;34m()\u001b[0m\n\u001b[0;32m----> 1\u001b[0;31m \u001b[0;34m'a_string'\u001b[0m \u001b[0;34m+\u001b[0m \u001b[0;36m12\u001b[0m\u001b[0;34m\u001b[0m\u001b[0m\n\u001b[0m",
      "\u001b[0;31mTypeError\u001b[0m: must be str, not int"
     ]
    }
   ],
   "source": [
    "'a_string' + 12"
   ]
  },
  {
   "cell_type": "markdown",
   "metadata": {
    "slideshow": {
     "slide_type": "slide"
    }
   },
   "source": [
    "## Stack Trace"
   ]
  },
  {
   "cell_type": "code",
   "execution_count": 12,
   "metadata": {
    "scrolled": true,
    "slideshow": {
     "slide_type": "fragment"
    }
   },
   "outputs": [
    {
     "ename": "ZeroDivisionError",
     "evalue": "division by zero",
     "output_type": "error",
     "traceback": [
      "\u001b[0;31m---------------------------------------------------------------------------\u001b[0m",
      "\u001b[0;31mZeroDivisionError\u001b[0m                         Traceback (most recent call last)",
      "\u001b[0;32m<ipython-input-12-08385b303fa2>\u001b[0m in \u001b[0;36m<module>\u001b[0;34m()\u001b[0m\n\u001b[1;32m      5\u001b[0m \u001b[0;34m\u001b[0m\u001b[0m\n\u001b[1;32m      6\u001b[0m     \u001b[0;32mif\u001b[0m \u001b[0mval\u001b[0m \u001b[0;34m%\u001b[0m \u001b[0;36m2\u001b[0m \u001b[0;34m==\u001b[0m \u001b[0;36m0\u001b[0m\u001b[0;34m:\u001b[0m\u001b[0;34m\u001b[0m\u001b[0m\n\u001b[0;32m----> 7\u001b[0;31m         \u001b[0mtemp\u001b[0m \u001b[0;34m=\u001b[0m \u001b[0mval\u001b[0m \u001b[0;34m/\u001b[0m \u001b[0;34m(\u001b[0m\u001b[0mval\u001b[0m \u001b[0;34m-\u001b[0m \u001b[0;36m4\u001b[0m\u001b[0;34m)\u001b[0m\u001b[0;34m\u001b[0m\u001b[0m\n\u001b[0m\u001b[1;32m      8\u001b[0m         \u001b[0mrunning_sum\u001b[0m \u001b[0;34m+=\u001b[0m \u001b[0mtemp\u001b[0m\u001b[0;34m\u001b[0m\u001b[0m\n",
      "\u001b[0;31mZeroDivisionError\u001b[0m: division by zero"
     ]
    }
   ],
   "source": [
    "running_sum = 0\n",
    "my_list = [1, 2, 3, 4, 5]\n",
    "\n",
    "for val in my_list:\n",
    "    \n",
    "    if val % 2 == 0:\n",
    "        temp = val / (val - 4)\n",
    "        running_sum += temp"
   ]
  },
  {
   "cell_type": "markdown",
   "metadata": {
    "slideshow": {
     "slide_type": "slide"
    }
   },
   "source": [
    "## Try / Except"
   ]
  },
  {
   "cell_type": "markdown",
   "metadata": {
    "slideshow": {
     "slide_type": "fragment"
    }
   },
   "source": [
    "<div class=\"alert alert-success\">\n",
    "Exceptions do not necessarily have to lead to breaking the program - they can be programmatically dealt with, using 'try' and 'except'. \n",
    "</div>"
   ]
  },
  {
   "cell_type": "markdown",
   "metadata": {
    "slideshow": {
     "slide_type": "slide"
    }
   },
   "source": [
    "### Try / Except Block"
   ]
  },
  {
   "cell_type": "code",
   "execution_count": 13,
   "metadata": {
    "slideshow": {
     "slide_type": "fragment"
    }
   },
   "outputs": [],
   "source": [
    "# Try / Except Block\n",
    "try:\n",
    "    # Tries to do this code\n",
    "    pass\n",
    "except:\n",
    "    # If there is an error, keep going and do this instead\n",
    "    pass"
   ]
  },
  {
   "cell_type": "markdown",
   "metadata": {
    "slideshow": {
     "slide_type": "slide"
    }
   },
   "source": [
    "### Try / Except Example "
   ]
  },
  {
   "cell_type": "code",
   "execution_count": null,
   "metadata": {
    "slideshow": {
     "slide_type": "fragment"
    }
   },
   "outputs": [],
   "source": [
    "# Example: we want to get an input number from the user\n",
    "\n",
    "my_num = input(\"Please type a number: \")\n",
    "\n",
    "print('\\nmy_num is: ', my_num)"
   ]
  },
  {
   "cell_type": "markdown",
   "metadata": {
    "slideshow": {
     "slide_type": "slide"
    }
   },
   "source": [
    "### Example with Try / Except"
   ]
  },
  {
   "cell_type": "code",
   "execution_count": null,
   "metadata": {
    "slideshow": {
     "slide_type": "fragment"
    }
   },
   "outputs": [],
   "source": [
    "try:\n",
    "    int(input('Number'))\n",
    "except:\n",
    "    print(\"nahhh\")"
   ]
  },
  {
   "cell_type": "markdown",
   "metadata": {
    "slideshow": {
     "slide_type": "slide"
    }
   },
   "source": [
    "#### Try / Except within a While Loop"
   ]
  },
  {
   "cell_type": "code",
   "execution_count": null,
   "metadata": {
    "slideshow": {
     "slide_type": "fragment"
    }
   },
   "outputs": [],
   "source": [
    "ask_for_num = True\n",
    "while ask_for_num:\n",
    "    try:\n",
    "        my_num = int(input(\"Please enter a number: \"))\n",
    "        ask_for_num = False\n",
    "    except ValueError:\n",
    "        print(\"Oops!  That was no valid number. Try again!\")\n",
    "        \n",
    "print('\\nmy_num is: ', my_num)"
   ]
  },
  {
   "cell_type": "markdown",
   "metadata": {
    "slideshow": {
     "slide_type": "slide"
    }
   },
   "source": [
    "### More Try / Except"
   ]
  },
  {
   "cell_type": "code",
   "execution_count": null,
   "metadata": {
    "slideshow": {
     "slide_type": "fragment"
    }
   },
   "outputs": [],
   "source": [
    "def divide(num1, num2):\n",
    "    return num1 / num2\n",
    "\n",
    "def safe_divide(num1, num2):\n",
    "    \n",
    "    try:\n",
    "        output = num1 / num2\n",
    "    except ZeroDivisionError:\n",
    "        output = None\n",
    "    \n",
    "    return output"
   ]
  },
  {
   "cell_type": "code",
   "execution_count": null,
   "metadata": {
    "slideshow": {
     "slide_type": "fragment"
    }
   },
   "outputs": [],
   "source": [
    "print(divide(2, 0))"
   ]
  },
  {
   "cell_type": "code",
   "execution_count": 24,
   "metadata": {
    "slideshow": {
     "slide_type": "fragment"
    }
   },
   "outputs": [
    {
     "name": "stdout",
     "output_type": "stream",
     "text": [
      "None\n"
     ]
    }
   ],
   "source": [
    "print(safe_divide(2, 0))"
   ]
  },
  {
   "cell_type": "markdown",
   "metadata": {
    "slideshow": {
     "slide_type": "slide"
    }
   },
   "source": [
    "## Raising Errors"
   ]
  },
  {
   "cell_type": "markdown",
   "metadata": {
    "slideshow": {
     "slide_type": "fragment"
    }
   },
   "source": [
    "<div class=\"alert alert-success\">\n",
    "You can also write code to raise an Exception if something unexpected happens. This won't fix anything, but it lets you tell the user a message along with Python's error message.\n",
    "</div>"
   ]
  },
  {
   "cell_type": "markdown",
   "metadata": {
    "slideshow": {
     "slide_type": "slide"
    }
   },
   "source": [
    "### Raise Exception Examples"
   ]
  },
  {
   "cell_type": "code",
   "execution_count": 3,
   "metadata": {
    "slideshow": {
     "slide_type": "fragment"
    }
   },
   "outputs": [
    {
     "name": "stdout",
     "output_type": "stream",
     "text": [
      "An integer please: k\n"
     ]
    },
    {
     "ename": "ValueError",
     "evalue": "I wanted a number! :(",
     "output_type": "error",
     "traceback": [
      "\u001b[0;31m---------------------------------------------------------------------------\u001b[0m",
      "\u001b[0;31mValueError\u001b[0m                                Traceback (most recent call last)",
      "\u001b[0;32m<ipython-input-3-bc64f24647db>\u001b[0m in \u001b[0;36m<module>\u001b[0;34m\u001b[0m\n\u001b[1;32m      1\u001b[0m \u001b[0mmy_int\u001b[0m \u001b[0;34m=\u001b[0m \u001b[0minput\u001b[0m\u001b[0;34m(\u001b[0m\u001b[0;34m'An integer please: '\u001b[0m\u001b[0;34m)\u001b[0m\u001b[0;34m\u001b[0m\u001b[0;34m\u001b[0m\u001b[0m\n\u001b[1;32m      2\u001b[0m \u001b[0;32mif\u001b[0m \u001b[0;32mnot\u001b[0m \u001b[0mmy_int\u001b[0m\u001b[0;34m.\u001b[0m\u001b[0misnumeric\u001b[0m\u001b[0;34m(\u001b[0m\u001b[0;34m)\u001b[0m\u001b[0;34m:\u001b[0m\u001b[0;34m\u001b[0m\u001b[0;34m\u001b[0m\u001b[0m\n\u001b[0;32m----> 3\u001b[0;31m     \u001b[0;32mraise\u001b[0m \u001b[0mValueError\u001b[0m\u001b[0;34m(\u001b[0m\u001b[0;34m'I wanted a number! :('\u001b[0m\u001b[0;34m)\u001b[0m\u001b[0;34m\u001b[0m\u001b[0;34m\u001b[0m\u001b[0m\n\u001b[0m\u001b[1;32m      4\u001b[0m \u001b[0;34m\u001b[0m\u001b[0m\n\u001b[1;32m      5\u001b[0m \u001b[0mprint\u001b[0m\u001b[0;34m(\u001b[0m\u001b[0;34m'My integer is: '\u001b[0m\u001b[0;34m,\u001b[0m \u001b[0mmy_int\u001b[0m\u001b[0;34m)\u001b[0m\u001b[0;34m\u001b[0m\u001b[0;34m\u001b[0m\u001b[0m\n",
      "\u001b[0;31mValueError\u001b[0m: I wanted a number! :("
     ]
    }
   ],
   "source": [
    "my_int = input('An integer please: ')\n",
    "if not my_int.isnumeric():\n",
    "    raise ValueError('I wanted a number! :(')\n",
    "    \n",
    "print('My integer is: ', my_int)"
   ]
  },
  {
   "cell_type": "markdown",
   "metadata": {},
   "source": [
    "You can see that Python is trying really hard to show you where the error is.  It put the `^` symbol right where it's missing something."
   ]
  },
  {
   "cell_type": "markdown",
   "metadata": {},
   "source": [
    "## Runtime Errors\n",
    "\n",
    "- Runtime errors are produced by the runtime system if something goes wrong\n",
    "while the program is running. \n",
    "- Most runtime error messages include\n",
    "information about where the error occurred and what functions were\n",
    "executing. \n",
    "- Example: \n",
    "    - An infinite recursion eventually causes a runtime error of maximum recursion depth exceeded.\n",
    "    - `RecursionError: maximum recursion depth exceeded`"
   ]
  },
  {
   "cell_type": "code",
   "execution_count": 7,
   "metadata": {},
   "outputs": [
    {
     "ename": "RecursionError",
     "evalue": "maximum recursion depth exceeded",
     "output_type": "error",
     "traceback": [
      "\u001b[0;31m---------------------------------------------------------------------------\u001b[0m",
      "\u001b[0;31mRecursionError\u001b[0m                            Traceback (most recent call last)",
      "\u001b[0;32m<ipython-input-7-762b3d4c7464>\u001b[0m in \u001b[0;36m<module>\u001b[0;34m\u001b[0m\n\u001b[1;32m      2\u001b[0m     \u001b[0mrecurseInfinitely\u001b[0m\u001b[0;34m(\u001b[0m\u001b[0mn\u001b[0m\u001b[0;34m+\u001b[0m\u001b[0;36m1\u001b[0m\u001b[0;34m)\u001b[0m\u001b[0;34m\u001b[0m\u001b[0;34m\u001b[0m\u001b[0m\n\u001b[1;32m      3\u001b[0m \u001b[0;34m\u001b[0m\u001b[0m\n\u001b[0;32m----> 4\u001b[0;31m \u001b[0mrecurseInfinitely\u001b[0m\u001b[0;34m(\u001b[0m\u001b[0;36m0\u001b[0m\u001b[0;34m)\u001b[0m\u001b[0;34m\u001b[0m\u001b[0;34m\u001b[0m\u001b[0m\n\u001b[0m",
      "\u001b[0;32m<ipython-input-7-762b3d4c7464>\u001b[0m in \u001b[0;36mrecurseInfinitely\u001b[0;34m(n)\u001b[0m\n\u001b[1;32m      1\u001b[0m \u001b[0;32mdef\u001b[0m \u001b[0mrecurseInfinitely\u001b[0m\u001b[0;34m(\u001b[0m\u001b[0mn\u001b[0m\u001b[0;34m)\u001b[0m\u001b[0;34m:\u001b[0m\u001b[0;34m\u001b[0m\u001b[0;34m\u001b[0m\u001b[0m\n\u001b[0;32m----> 2\u001b[0;31m     \u001b[0mrecurseInfinitely\u001b[0m\u001b[0;34m(\u001b[0m\u001b[0mn\u001b[0m\u001b[0;34m+\u001b[0m\u001b[0;36m1\u001b[0m\u001b[0;34m)\u001b[0m\u001b[0;34m\u001b[0m\u001b[0;34m\u001b[0m\u001b[0m\n\u001b[0m\u001b[1;32m      3\u001b[0m \u001b[0;34m\u001b[0m\u001b[0m\n\u001b[1;32m      4\u001b[0m \u001b[0mrecurseInfinitely\u001b[0m\u001b[0;34m(\u001b[0m\u001b[0;36m0\u001b[0m\u001b[0;34m)\u001b[0m\u001b[0;34m\u001b[0m\u001b[0;34m\u001b[0m\u001b[0m\n",
      "... last 1 frames repeated, from the frame below ...\n",
      "\u001b[0;32m<ipython-input-7-762b3d4c7464>\u001b[0m in \u001b[0;36mrecurseInfinitely\u001b[0;34m(n)\u001b[0m\n\u001b[1;32m      1\u001b[0m \u001b[0;32mdef\u001b[0m \u001b[0mrecurseInfinitely\u001b[0m\u001b[0;34m(\u001b[0m\u001b[0mn\u001b[0m\u001b[0;34m)\u001b[0m\u001b[0;34m:\u001b[0m\u001b[0;34m\u001b[0m\u001b[0;34m\u001b[0m\u001b[0m\n\u001b[0;32m----> 2\u001b[0;31m     \u001b[0mrecurseInfinitely\u001b[0m\u001b[0;34m(\u001b[0m\u001b[0mn\u001b[0m\u001b[0;34m+\u001b[0m\u001b[0;36m1\u001b[0m\u001b[0;34m)\u001b[0m\u001b[0;34m\u001b[0m\u001b[0;34m\u001b[0m\u001b[0m\n\u001b[0m\u001b[1;32m      3\u001b[0m \u001b[0;34m\u001b[0m\u001b[0m\n\u001b[1;32m      4\u001b[0m \u001b[0mrecurseInfinitely\u001b[0m\u001b[0;34m(\u001b[0m\u001b[0;36m0\u001b[0m\u001b[0;34m)\u001b[0m\u001b[0;34m\u001b[0m\u001b[0;34m\u001b[0m\u001b[0m\n",
      "\u001b[0;31mRecursionError\u001b[0m: maximum recursion depth exceeded"
     ]
    }
   ],
   "source": [
    "def recurseInfinitely(n):\n",
    "    recurseInfinitely(n+1)\n",
    "\n",
    "recurseInfinitely(0)"
   ]
  },
  {
   "cell_type": "markdown",
   "metadata": {},
   "source": [
    "## Semantic Errors\n",
    "\n",
    "- Semantic errors are problems with a program that compiles and runs but\n",
    "doesn't do the right thing. \n",
    "- Example: \n",
    "    - An expression may not be evaluated in the order you expect, yielding an unexpected result."
   ]
  },
  {
   "cell_type": "markdown",
   "metadata": {},
   "source": [
    "Example:  \n",
    "Let's suppose we want to make a list of all the letters in a really long word, and then print out the final list."
   ]
  },
  {
   "cell_type": "code",
   "execution_count": 12,
   "metadata": {},
   "outputs": [
    {
     "name": "stdout",
     "output_type": "stream",
     "text": [
      "['s']\n",
      "['s', 'u']\n",
      "['s', 'u', 'p']\n",
      "['s', 'u', 'p', 'e']\n",
      "['s', 'u', 'p', 'e', 'r']\n",
      "['s', 'u', 'p', 'e', 'r', 'c']\n",
      "['s', 'u', 'p', 'e', 'r', 'c', 'a']\n",
      "['s', 'u', 'p', 'e', 'r', 'c', 'a', 'l']\n",
      "['s', 'u', 'p', 'e', 'r', 'c', 'a', 'l', 'i']\n",
      "['s', 'u', 'p', 'e', 'r', 'c', 'a', 'l', 'i', 'f']\n",
      "['s', 'u', 'p', 'e', 'r', 'c', 'a', 'l', 'i', 'f', 'r']\n",
      "['s', 'u', 'p', 'e', 'r', 'c', 'a', 'l', 'i', 'f', 'r', 'a']\n",
      "['s', 'u', 'p', 'e', 'r', 'c', 'a', 'l', 'i', 'f', 'r', 'a', 'g']\n",
      "['s', 'u', 'p', 'e', 'r', 'c', 'a', 'l', 'i', 'f', 'r', 'a', 'g', 'i']\n",
      "['s', 'u', 'p', 'e', 'r', 'c', 'a', 'l', 'i', 'f', 'r', 'a', 'g', 'i', 'l']\n",
      "['s', 'u', 'p', 'e', 'r', 'c', 'a', 'l', 'i', 'f', 'r', 'a', 'g', 'i', 'l', 'i']\n",
      "['s', 'u', 'p', 'e', 'r', 'c', 'a', 'l', 'i', 'f', 'r', 'a', 'g', 'i', 'l', 'i', 's']\n",
      "['s', 'u', 'p', 'e', 'r', 'c', 'a', 'l', 'i', 'f', 'r', 'a', 'g', 'i', 'l', 'i', 's', 't']\n",
      "['s', 'u', 'p', 'e', 'r', 'c', 'a', 'l', 'i', 'f', 'r', 'a', 'g', 'i', 'l', 'i', 's', 't', 'i']\n",
      "['s', 'u', 'p', 'e', 'r', 'c', 'a', 'l', 'i', 'f', 'r', 'a', 'g', 'i', 'l', 'i', 's', 't', 'i', 'c']\n",
      "['s', 'u', 'p', 'e', 'r', 'c', 'a', 'l', 'i', 'f', 'r', 'a', 'g', 'i', 'l', 'i', 's', 't', 'i', 'c', 'e']\n",
      "['s', 'u', 'p', 'e', 'r', 'c', 'a', 'l', 'i', 'f', 'r', 'a', 'g', 'i', 'l', 'i', 's', 't', 'i', 'c', 'e', 'x']\n",
      "['s', 'u', 'p', 'e', 'r', 'c', 'a', 'l', 'i', 'f', 'r', 'a', 'g', 'i', 'l', 'i', 's', 't', 'i', 'c', 'e', 'x', 'p']\n",
      "['s', 'u', 'p', 'e', 'r', 'c', 'a', 'l', 'i', 'f', 'r', 'a', 'g', 'i', 'l', 'i', 's', 't', 'i', 'c', 'e', 'x', 'p', 'i']\n",
      "['s', 'u', 'p', 'e', 'r', 'c', 'a', 'l', 'i', 'f', 'r', 'a', 'g', 'i', 'l', 'i', 's', 't', 'i', 'c', 'e', 'x', 'p', 'i', 'a']\n",
      "['s', 'u', 'p', 'e', 'r', 'c', 'a', 'l', 'i', 'f', 'r', 'a', 'g', 'i', 'l', 'i', 's', 't', 'i', 'c', 'e', 'x', 'p', 'i', 'a', 'l']\n",
      "['s', 'u', 'p', 'e', 'r', 'c', 'a', 'l', 'i', 'f', 'r', 'a', 'g', 'i', 'l', 'i', 's', 't', 'i', 'c', 'e', 'x', 'p', 'i', 'a', 'l', 'i']\n",
      "['s', 'u', 'p', 'e', 'r', 'c', 'a', 'l', 'i', 'f', 'r', 'a', 'g', 'i', 'l', 'i', 's', 't', 'i', 'c', 'e', 'x', 'p', 'i', 'a', 'l', 'i', 'd']\n",
      "['s', 'u', 'p', 'e', 'r', 'c', 'a', 'l', 'i', 'f', 'r', 'a', 'g', 'i', 'l', 'i', 's', 't', 'i', 'c', 'e', 'x', 'p', 'i', 'a', 'l', 'i', 'd', 'o']\n",
      "['s', 'u', 'p', 'e', 'r', 'c', 'a', 'l', 'i', 'f', 'r', 'a', 'g', 'i', 'l', 'i', 's', 't', 'i', 'c', 'e', 'x', 'p', 'i', 'a', 'l', 'i', 'd', 'o', 'c']\n",
      "['s', 'u', 'p', 'e', 'r', 'c', 'a', 'l', 'i', 'f', 'r', 'a', 'g', 'i', 'l', 'i', 's', 't', 'i', 'c', 'e', 'x', 'p', 'i', 'a', 'l', 'i', 'd', 'o', 'c', 'i']\n",
      "['s', 'u', 'p', 'e', 'r', 'c', 'a', 'l', 'i', 'f', 'r', 'a', 'g', 'i', 'l', 'i', 's', 't', 'i', 'c', 'e', 'x', 'p', 'i', 'a', 'l', 'i', 'd', 'o', 'c', 'i', 'o']\n",
      "['s', 'u', 'p', 'e', 'r', 'c', 'a', 'l', 'i', 'f', 'r', 'a', 'g', 'i', 'l', 'i', 's', 't', 'i', 'c', 'e', 'x', 'p', 'i', 'a', 'l', 'i', 'd', 'o', 'c', 'i', 'o', 'u']\n",
      "['s', 'u', 'p', 'e', 'r', 'c', 'a', 'l', 'i', 'f', 'r', 'a', 'g', 'i', 'l', 'i', 's', 't', 'i', 'c', 'e', 'x', 'p', 'i', 'a', 'l', 'i', 'd', 'o', 'c', 'i', 'o', 'u', 's']\n"
     ]
    }
   ],
   "source": [
    "x = []\n",
    "string = 'supercalifragilisticexpialidocious'\n",
    "for letter in string:\n",
    "    x.append(letter)\n",
    "    print(x)"
   ]
  },
  {
   "cell_type": "markdown",
   "metadata": {},
   "source": [
    "The code above executed perfectly with no errors, but the output is not what we wanted.  This is a semantic error.  To fix it we need to figure out what we did wrong. Here, our print statement should come after the loop, not inside of it."
   ]
  },
  {
   "cell_type": "code",
   "execution_count": 13,
   "metadata": {},
   "outputs": [
    {
     "name": "stdout",
     "output_type": "stream",
     "text": [
      "['s', 'u', 'p', 'e', 'r', 'c', 'a', 'l', 'i', 'f', 'r', 'a', 'g', 'i', 'l', 'i', 's', 't', 'i', 'c', 'e', 'x', 'p', 'i', 'a', 'l', 'i', 'd', 'o', 'c', 'i', 'o', 'u', 's']\n"
     ]
    }
   ],
   "source": [
    "x = []\n",
    "string = 'supercalifragilisticexpialidocious'\n",
    "for letter in string:\n",
    "    x.append(letter)\n",
    "print(x)"
   ]
  },
  {
   "cell_type": "markdown",
   "metadata": {},
   "source": [
    "The first step in debugging is to figure out which kind of error you are dealing with. Although the following sections are organized by error type, some techniques are applicable in more than one situation."
   ]
  },
  {
   "cell_type": "markdown",
   "metadata": {},
   "source": [
    "# Avoiding common syntax errors:\n",
    "\n",
    "- Make sure you are not using a Python keyword for a variable name.\n",
    "    - Don't use id or print or something as your variable name\n",
    "- Check that you have a colon at the end of the header of every compound statement, including `for`, `while', `if`, and `def` statements.\n",
    "- Check that indentation is consistent. \n",
    "    - In python 1 tab=4 spaces.  Don't mess with this.  Always use the tab key.\n",
    "    - In jupyter notebook, you can indent with `tab`, and you can also unindent with `shift+tab`\n",
    "<li>Make sure that any strings in the code have matching quotation marks.</li>\n",
    "<li>If you have multiline strings with triple quotes (single or double), make\n",
    "sure you have terminated the string properly. An unterminated string may\n",
    "cause an <tt class=\"docutils literal\"><span class=\"pre\">invalid</span> <span class=\"pre\">token</span></tt> error at the end of your program, or it may treat\n",
    "the following part of the program as a string until it comes to the next\n",
    "string. In the second case, it might not produce an error message at all!</li>\n",
    "<li>An unclosed bracket &#8211; (, {, or [ &#8211; makes Python continue with the next\n",
    "line as part of the current statement. Generally, an error occurs almost\n",
    "immediately in the next line.</li>\n",
    "<li>Check for the classic <tt class=\"docutils literal\"><span class=\"pre\">=</span></tt> instead of <tt class=\"docutils literal\"><span class=\"pre\">==</span></tt> inside a conditional.</li>\n",
    "</ol>\n",
    "<p>If nothing works, move on to the next section...</p>\n",
    "</div>\n",
    "<div class=\"section\" id=\"i-can-t-get-my-program-to-run-no-matter-what-i-do\">\n",
    "<h2>I can&#8217;t get my program to run no matter what I do.<a class=\"headerlink\" href=\"#i-can-t-get-my-program-to-run-no-matter-what-i-do\" title=\"Permalink to this headline\">¶</a></h2>\n",
    "<p>If the compiler says there is an error and you don&#8217;t see it, that might be\n",
    "because you and the compiler are not looking at the same code. Check your\n",
    "programming environment to make sure that the program you are editing is the\n",
    "one Python is trying to run. If you are not sure, try putting an obvious and\n",
    "deliberate syntax error at the beginning of the program. Now run (or import) it\n",
    "again. If the compiler doesn&#8217;t find the new error, there is probably something\n",
    "wrong with the way your environment is set up.</p>\n",
    "<p>If this happens, one approach is to start again with a new program like Hello,\n",
    "World!, and make sure you can get a known program to run.  Then gradually add\n",
    "the pieces of the new program to the working one.</p>"
   ]
  },
  {
   "cell_type": "markdown",
   "metadata": {},
   "source": [
    "\n",
    "\n",
    "</div>\n",
    "<div class=\"section\" id=\"runtime-errors\">\n",
    "<h2>Runtime errors<a class=\"headerlink\" href=\"#runtime-errors\" title=\"Permalink to this headline\">¶</a></h2>\n",
    "<p>Once your program is syntactically correct, Python can import it and at least\n",
    "start running it. What could possibly go wrong?</p>\n",
    "</div>\n",
    "<div class=\"section\" id=\"my-program-does-absolutely-nothing\">\n",
    "<h2>My program does absolutely nothing.<a class=\"headerlink\" href=\"#my-program-does-absolutely-nothing\" title=\"Permalink to this headline\">¶</a></h2>\n",
    "<p>This problem is most common when your file consists of functions and classes\n",
    "but does not actually invoke anything to start execution. This may be\n",
    "intentional if you only plan to import this module to supply classes and\n",
    "functions.</p>\n",
    "<p>If it is not intentional, make sure that you are invoking a function to start\n",
    "execution, or execute one from the interactive prompt. Also see the Flow of\n",
    "Execution section below.</p>\n",
    "</div>\n",
    "<div class=\"section\" id=\"my-program-hangs\">\n",
    "<h2>My program hangs.<a class=\"headerlink\" href=\"#my-program-hangs\" title=\"Permalink to this headline\">¶</a></h2>\n",
    "<p>If a program stops and seems to be doing nothing, we say it is hanging. Often\n",
    "that means that it is caught in an infinite loop or an infinite recursion.</p>\n",
    "<ol class=\"arabic simple\">\n",
    "<li>If there is a particular loop that you suspect is the problem, add a\n",
    "<tt class=\"docutils literal\"><span class=\"pre\">print</span></tt> statement immediately before the loop that says entering the loop\n",
    "and another immediately after that says exiting the loop.</li>\n",
    "<li>Run the program. If you get the first message and not the second, you&#8217;ve got\n",
    "an infinite loop. Go to the Infinite Loop section below.</li>\n",
    "<li>Most of the time, an infinite recursion will cause the program to run for a\n",
    "while and then produce a RuntimeError: Maximum recursion depth exceeded\n",
    "error. If that happens, go to the Infinite Recursion\n",
    "section below.</li>\n",
    "<li>If you are not getting this error but you suspect there is a problem with a\n",
    "recursive method or function, you can still use the techniques in the\n",
    "Infinite Recursion section.</li>\n",
    "<li>If neither of those steps works, start testing other loops and other\n",
    "recursive functions and methods.</li>\n",
    "<li>If that doesn&#8217;t work, then it is possible that you don&#8217;t understand the flow\n",
    "of execution in your program. Go to the Flow of Execution section below.</li>\n",
    "</ol>\n",
    "</div>\n",
    "<div class=\"section\" id=\"infinite-loop\">\n",
    "<h2>Infinite Loop<a class=\"headerlink\" href=\"#infinite-loop\" title=\"Permalink to this headline\">¶</a></h2>\n",
    "<p>If you think you have an infinite loop and you think you know what loop is\n",
    "causing the problem, add a <tt class=\"docutils literal\"><span class=\"pre\">print</span></tt> statement at the end of the loop that\n",
    "prints the values of the variables in the condition and the value of the\n",
    "condition.</p>\n",
    "<p>For example:</p>\n",
    "<div class=\"highlight-python\"><div class=\"highlight\"><pre><span class=\"k\">while</span> <span class=\"n\">x</span> <span class=\"o\">&gt;</span> <span class=\"mi\">0</span> <span class=\"ow\">and</span> <span class=\"n\">y</span> <span class=\"o\">&lt;</span> <span class=\"mi\">0</span><span class=\"p\">:</span>\n",
    "    <span class=\"c\"># do something to x</span>\n",
    "    <span class=\"c\"># do something to y</span>\n",
    "\n",
    "    <span class=\"k\">print</span>  <span class=\"s\">&quot;x: &quot;</span><span class=\"p\">,</span> <span class=\"n\">x</span>\n",
    "    <span class=\"k\">print</span>  <span class=\"s\">&quot;y: &quot;</span><span class=\"p\">,</span> <span class=\"n\">y</span>\n",
    "    <span class=\"k\">print</span>  <span class=\"s\">&quot;condition: &quot;</span><span class=\"p\">,</span> <span class=\"p\">(</span><span class=\"n\">x</span> <span class=\"o\">&gt;</span> <span class=\"mi\">0</span> <span class=\"ow\">and</span> <span class=\"n\">y</span> <span class=\"o\">&lt;</span> <span class=\"mi\">0</span><span class=\"p\">)</span>\n",
    "</pre></div>\n",
    "</div>\n",
    "<p>Now when you run the program, you will see three lines of output for each time\n",
    "through the loop. The last time through the loop, the condition should be\n",
    "<tt class=\"docutils literal\"><span class=\"pre\">false</span></tt>. If the loop keeps going, you will be able to see the values of <tt class=\"docutils literal\"><span class=\"pre\">x</span></tt>\n",
    "and <tt class=\"docutils literal\"><span class=\"pre\">y</span></tt>, and you might figure out why they are not being updated correctly.</p>\n",
    "</div>\n",
    "<div class=\"section\" id=\"infinite-recursion\">\n",
    "<h2>Infinite Recursion<a class=\"headerlink\" href=\"#infinite-recursion\" title=\"Permalink to this headline\">¶</a></h2>\n",
    "<p>Most of the time, an infinite recursion will cause the program to run for a\n",
    "while and then produce a <tt class=\"docutils literal\"><span class=\"pre\">Maximum</span> <span class=\"pre\">recursion</span> <span class=\"pre\">depth</span> <span class=\"pre\">exceeded</span></tt> error.</p>\n",
    "<p>If you suspect that a function or method is causing an infinite recursion,\n",
    "start by checking to make sure that there is a base case.  In other words,\n",
    "there should be some condition that will cause the function or method to return\n",
    "without making a recursive invocation. If not, then you need to rethink the\n",
    "algorithm and identify a base case.</p>\n",
    "<p>If there is a base case but the program doesn&#8217;t seem to be reaching it, add a\n",
    "<tt class=\"docutils literal\"><span class=\"pre\">print</span></tt> statement at the beginning of the function or method that prints the\n",
    "parameters. Now when you run the program, you will see a few lines of output\n",
    "every time the function or method is invoked, and you will see the parameters.\n",
    "If the parameters are not moving toward the base case, you will get some ideas\n",
    "about why not.</p>\n",
    "</div>\n",
    "<div class=\"section\" id=\"flow-of-execution\">\n",
    "<h2>Flow of Execution<a class=\"headerlink\" href=\"#flow-of-execution\" title=\"Permalink to this headline\">¶</a></h2>\n",
    "<p>If you are not sure how the flow of execution is moving through your program,\n",
    "add <tt class=\"docutils literal\"><span class=\"pre\">print</span></tt> statements to the beginning of each function with a message like\n",
    "entering function <tt class=\"docutils literal\"><span class=\"pre\">foo</span></tt>, where <tt class=\"docutils literal\"><span class=\"pre\">foo</span></tt> is the name of the function.</p>\n",
    "<p>Now when you run the program, it will print a trace of each function as it is\n",
    "invoked.</p>\n",
    "</div>\n",
    "<div class=\"section\" id=\"when-i-run-the-program-i-get-an-exception\">\n",
    "<h2>When I run the program I get an exception.<a class=\"headerlink\" href=\"#when-i-run-the-program-i-get-an-exception\" title=\"Permalink to this headline\">¶</a></h2>\n",
    "<p>If something goes wrong during runtime, Python prints a message that includes\n",
    "the name of the exception, the line of the program where the problem occurred,\n",
    "and a traceback.</p>\n",
    "<p>The traceback identifies the function that is currently running, and then the\n",
    "function that invoked it, and then the function that invoked <em>that</em>, and so on.\n",
    "In other words, it traces the path of function invocations that got you to\n",
    "where you are. It also includes the line number in your file where each of\n",
    "these calls occurs.</p>\n",
    "<p>The first step is to examine the place in the program where the error occurred\n",
    "and see if you can figure out what happened. These are some of the most common\n",
    "runtime errors:</p>\n",
    "<dl class=\"docutils\">\n",
    "<dt>NameError</dt>\n",
    "<dd>You are trying to use a variable that doesn&#8217;t exist in the current\n",
    "environment. Remember that local variables are local. You cannot refer to\n",
    "them from outside the function where they are defined.</dd>\n",
    "<dt>TypeError</dt>\n",
    "<dd><p class=\"first\">There are several possible causes:</p>\n",
    "<ol class=\"last arabic simple\">\n",
    "<li>You are trying to use a value improperly. Example: indexing a\n",
    "string, list, or tuple with something other than an integer.</li>\n",
    "<li>There is a mismatch between the items in a format string and the\n",
    "items passed for conversion. This can happen if either the number of\n",
    "items does not match or an invalid conversion is called for.</li>\n",
    "<li>You are passing the wrong number of arguments to a function or\n",
    "method. For methods, look at the method definition and check that the\n",
    "first parameter is <tt class=\"docutils literal\"><span class=\"pre\">self</span></tt>. Then look at the method invocation; make\n",
    "sure you are invoking the method on an object with the right type and\n",
    "providing the other arguments correctly.</li>\n",
    "</ol>\n",
    "</dd>\n",
    "<dt>KeyError</dt>\n",
    "<dd>You are trying to access an element of a dictionary using a key value that\n",
    "the dictionary does not contain.</dd>\n",
    "<dt>AttributeError</dt>\n",
    "<dd>You are trying to access an attribute or method that does not exist.</dd>\n",
    "<dt>IndexError</dt>\n",
    "<dd>The index you are using to access a list, string, or tuple is greater than\n",
    "its length minus one. Immediately before the site of the error, add a\n",
    "<tt class=\"docutils literal\"><span class=\"pre\">print</span></tt> statement to display the value of the index and the length of the\n",
    "array. Is the array the right size? Is the index the right value?</dd>\n",
    "</dl>\n",
    "</div>\n",
    "<div class=\"section\" id=\"i-added-so-many-print-statements-i-get-inundated-with-output\">\n",
    "<h2>I added so many <tt class=\"docutils literal\"><span class=\"pre\">print</span></tt> statements I get inundated with output.<a class=\"headerlink\" href=\"#i-added-so-many-print-statements-i-get-inundated-with-output\" title=\"Permalink to this headline\">¶</a></h2>\n",
    "<p>One of the problems with using <tt class=\"docutils literal\"><span class=\"pre\">print</span></tt> statements for debugging is\n",
    "that you can end up buried in output. There are two ways to proceed:\n",
    "simplify the output or simplify the program.</p>\n",
    "<p>To simplify the output, you can remove or comment out <tt class=\"docutils literal\"><span class=\"pre\">print</span></tt>\n",
    "statements that aren&#8217;t helping, or combine them, or format the output\n",
    "so it is easier to understand.</p>\n",
    "<p>To simplify the program, there are several things you can do. First,\n",
    "scale down the problem the program is working on. For example, if you\n",
    "are sorting an array, sort a <em>small</em> array. If the program takes input\n",
    "from the user, give it the simplest input that causes the problem.</p>\n",
    "<p>Second, clean up the program. Remove dead code and reorganize the\n",
    "program to make it as easy to read as possible. For example, if you\n",
    "suspect that the problem is in a deeply nested part of the program,\n",
    "try rewriting that part with simpler structure. If you suspect a large\n",
    "function, try splitting it into smaller functions and testing them\n",
    "separately.</p>\n",
    "<p>Often the process of finding the minimal test case leads you to the\n",
    "bug. If you find that a program works in one situation but not in\n",
    "another, that gives you a clue about what is going on.</p>\n",
    "<p>Similarly, rewriting a piece of code can help you find subtle bugs. If\n",
    "you make a change that you think doesn&#8217;t affect the program, and it\n",
    "does, that can tip you off.</p>\n",
    "</div>\n",
    "<div class=\"section\" id=\"semantic-errors\">\n",
    "<h2>Semantic errors<a class=\"headerlink\" href=\"#semantic-errors\" title=\"Permalink to this headline\">¶</a></h2>\n",
    "<p>In some ways, semantic errors are the hardest to debug, because the\n",
    "compiler and the runtime system provide no information about what is\n",
    "wrong. Only you know what the program is supposed to do, and only you\n",
    "know that it isn&#8217;t doing it.</p>\n",
    "<p>The first step is to make a connection between the program text and\n",
    "the behavior you are seeing. You need a hypothesis about what the\n",
    "program is actually doing. One of the things that makes that hard is\n",
    "that computers run so fast.</p>\n",
    "<p>You will often wish that you could slow the program down to human\n",
    "speed, and with some debuggers you can. But the time it takes to\n",
    "insert a few well-placed <tt class=\"docutils literal\"><span class=\"pre\">print</span></tt> statements is often short compared to\n",
    "setting up the debugger, inserting and removing breakpoints, and\n",
    "walking the program to where the error is occurring.</p>\n",
    "</div>\n",
    "<div class=\"section\" id=\"my-program-doesn-t-work\">\n",
    "<h2>My program doesn&#8217;t work.<a class=\"headerlink\" href=\"#my-program-doesn-t-work\" title=\"Permalink to this headline\">¶</a></h2>\n",
    "<p>You should ask yourself these questions:</p>\n",
    "<ol class=\"arabic simple\">\n",
    "<li>Is there something the program was supposed to do but which doesn&#8217;t\n",
    "seem to be happening? Find the section of the code that performs that\n",
    "function and make sure it is executing when you think it should.</li>\n",
    "<li>Is something happening that shouldn&#8217;t? Find code in your program\n",
    "that performs that function and see if it is executing when it\n",
    "shouldn&#8217;t.</li>\n",
    "<li>Is a section of code producing an effect that is not what you\n",
    "expected? Make sure that you understand the code in question,\n",
    "especially if it involves invocations to functions or methods in other\n",
    "Python modules. Read the documentation for the functions you invoke.\n",
    "Try them out by writing simple test cases and checking the results.</li>\n",
    "</ol>\n",
    "<p>In order to program, you need to have a mental model of how programs\n",
    "work. If you write a program that doesn&#8217;t do what you expect, very\n",
    "often the problem is not in the program; it&#8217;s in your mental model.</p>\n",
    "<p>The best way to correct your mental model is to break the program into\n",
    "its components (usually the functions and methods) and test each\n",
    "component independently. Once you find the discrepancy between your\n",
    "model and reality, you can solve the problem.</p>\n",
    "<p>Of course, you should be building and testing components as you\n",
    "develop the program. If you encounter a problem, there should be only\n",
    "a small amount of new code that is not known to be correct.</p>\n",
    "</div>\n",
    "<div class=\"section\" id=\"i-ve-got-a-big-hairy-expression-and-it-doesn-t-do-what-i-expect\">\n",
    "<h2>I&#8217;ve got a big hairy expression and it doesn&#8217;t do what I expect.<a class=\"headerlink\" href=\"#i-ve-got-a-big-hairy-expression-and-it-doesn-t-do-what-i-expect\" title=\"Permalink to this headline\">¶</a></h2>\n",
    "<p>Writing complex expressions is fine as long as they are readable, but\n",
    "they can be hard to debug. It is often a good idea to break a complex\n",
    "expression into a series of assignments to temporary variables.</p>\n",
    "<p>For example:</p>\n",
    "<div class=\"highlight-python\"><div class=\"highlight\"><pre><span class=\"bp\">self</span><span class=\"o\">.</span><span class=\"n\">hands</span><span class=\"p\">[</span><span class=\"n\">i</span><span class=\"p\">]</span><span class=\"o\">.</span><span class=\"n\">addCard</span> <span class=\"p\">(</span><span class=\"bp\">self</span><span class=\"o\">.</span><span class=\"n\">hands</span><span class=\"p\">[</span><span class=\"bp\">self</span><span class=\"o\">.</span><span class=\"n\">findNeighbor</span><span class=\"p\">(</span><span class=\"n\">i</span><span class=\"p\">)]</span><span class=\"o\">.</span><span class=\"n\">popCard</span><span class=\"p\">())</span>\n",
    "</pre></div>\n",
    "</div>\n",
    "<p>This can be rewritten as:</p>\n",
    "<div class=\"highlight-python\"><div class=\"highlight\"><pre><span class=\"n\">neighbor</span> <span class=\"o\">=</span> <span class=\"bp\">self</span><span class=\"o\">.</span><span class=\"n\">findNeighbor</span> <span class=\"p\">(</span><span class=\"n\">i</span><span class=\"p\">)</span>\n",
    "<span class=\"n\">pickedCard</span> <span class=\"o\">=</span> <span class=\"bp\">self</span><span class=\"o\">.</span><span class=\"n\">hands</span><span class=\"p\">[</span><span class=\"n\">neighbor</span><span class=\"p\">]</span><span class=\"o\">.</span><span class=\"n\">popCard</span><span class=\"p\">()</span>\n",
    "<span class=\"bp\">self</span><span class=\"o\">.</span><span class=\"n\">hands</span><span class=\"p\">[</span><span class=\"n\">i</span><span class=\"p\">]</span><span class=\"o\">.</span><span class=\"n\">addCard</span> <span class=\"p\">(</span><span class=\"n\">pickedCard</span><span class=\"p\">)</span>\n",
    "</pre></div>\n",
    "</div>\n",
    "<p>The explicit version is easier to read because the variable names provide\n",
    "additional documentation, and it is easier to debug because you can check the\n",
    "types of the intermediate variables and display their values.</p>\n",
    "<p>Another problem that can occur with big expressions is that the order of\n",
    "evaluation may not be what you expect. For example, if you are translating the\n",
    "expression <tt class=\"docutils literal\"><span class=\"pre\">x/2pi</span></tt> into Python, you might write:</p>\n",
    "<div class=\"highlight-python\"><div class=\"highlight\"><pre><span class=\"n\">y</span> <span class=\"o\">=</span> <span class=\"n\">x</span> <span class=\"o\">/</span> <span class=\"mi\">2</span> <span class=\"o\">*</span> <span class=\"n\">math</span><span class=\"o\">.</span><span class=\"n\">pi</span><span class=\"p\">;</span>\n",
    "</pre></div>\n",
    "</div>\n",
    "<p>That is not correct because multiplication and division have the same\n",
    "precedence and are evaluated from left to right. So this expression computes\n",
    "<tt class=\"docutils literal\"><span class=\"pre\">(x/2)pi</span></tt>.</p>\n",
    "<p>A good way to debug expressions is to add parentheses to make the order of\n",
    "evaluation explicit:</p>\n",
    "<div class=\"highlight-python\"><div class=\"highlight\"><pre><span class=\"n\">y</span> <span class=\"o\">=</span> <span class=\"n\">x</span> <span class=\"o\">/</span> <span class=\"p\">(</span><span class=\"mi\">2</span> <span class=\"o\">*</span> <span class=\"n\">math</span><span class=\"o\">.</span><span class=\"n\">pi</span><span class=\"p\">);</span>\n",
    "</pre></div>\n",
    "</div>\n",
    "<p>Whenever you are not sure of the order of evaluation, use parentheses.  Not\n",
    "only will the program be correct (in the sense of doing what you intended), it\n",
    "will also be more readable for other people who haven&#8217;t memorized the rules of\n",
    "precedence.</p>\n",
    "</div>\n",
    "<div class=\"section\" id=\"i-ve-got-a-function-or-method-that-doesn-t-return-what-i-expect\">\n",
    "<h2>I&#8217;ve got a function or method that doesn&#8217;t return what I expect.<a class=\"headerlink\" href=\"#i-ve-got-a-function-or-method-that-doesn-t-return-what-i-expect\" title=\"Permalink to this headline\">¶</a></h2>\n",
    "<p>If you have a <tt class=\"docutils literal\"><span class=\"pre\">return</span></tt> statement with a complex expression, you don&#8217;t have a\n",
    "chance to print the <tt class=\"docutils literal\"><span class=\"pre\">return</span></tt> value before returning. Again, you can use a\n",
    "temporary variable. For example, instead of:</p>\n",
    "<div class=\"highlight-python\"><div class=\"highlight\"><pre><span class=\"k\">return</span> <span class=\"bp\">self</span><span class=\"o\">.</span><span class=\"n\">hands</span><span class=\"p\">[</span><span class=\"n\">i</span><span class=\"p\">]</span><span class=\"o\">.</span><span class=\"n\">removeMatches</span><span class=\"p\">()</span>\n",
    "</pre></div>\n",
    "</div>\n",
    "<p>you could write:</p>\n",
    "<div class=\"highlight-python\"><div class=\"highlight\"><pre><span class=\"n\">count</span> <span class=\"o\">=</span> <span class=\"bp\">self</span><span class=\"o\">.</span><span class=\"n\">hands</span><span class=\"p\">[</span><span class=\"n\">i</span><span class=\"p\">]</span><span class=\"o\">.</span><span class=\"n\">removeMatches</span><span class=\"p\">()</span>\n",
    "<span class=\"k\">return</span> <span class=\"n\">count</span>\n",
    "</pre></div>\n",
    "</div>\n",
    "<p>Now you have the opportunity to display the value of <tt class=\"docutils literal\"><span class=\"pre\">count</span></tt> before\n",
    "returning.</p>\n",
    "</div>\n",
    "<div class=\"section\" id=\"i-m-really-really-stuck-and-i-need-help\">\n",
    "<h2>I&#8217;m really, really stuck and I need help.<a class=\"headerlink\" href=\"#i-m-really-really-stuck-and-i-need-help\" title=\"Permalink to this headline\">¶</a></h2>\n",
    "<p>First, try getting away from the computer for a few minutes. Computers emit\n",
    "waves that affect the brain, causing these effects:</p>\n",
    "<ol class=\"arabic simple\">\n",
    "<li>Frustration and/or rage.</li>\n",
    "<li>Superstitious beliefs ( the computer hates me ) and magical thinking ( the\n",
    "program only works when I wear my hat backward ).</li>\n",
    "<li>Random-walk programming (the attempt to program by writing every possible\n",
    "program and choosing the one that does the right thing).</li>\n",
    "</ol>\n",
    "<p>If you find yourself suffering from any of these symptoms, get up and go for a\n",
    "walk. When you are calm, think about the program. What is it doing? What are\n",
    "some possible causes of that behavior? When was the last time you had a working\n",
    "program, and what did you do next?</p>\n",
    "<p>Sometimes it just takes time to find a bug. We often find bugs when we are away\n",
    "from the computer and let our minds wander. Some of the best places to find\n",
    "bugs are trains, showers, and in bed, just before you fall asleep.</p>\n",
    "</div>\n",
    "<div class=\"section\" id=\"no-i-really-need-help\">\n",
    "<h2>No, I really need help.<a class=\"headerlink\" href=\"#no-i-really-need-help\" title=\"Permalink to this headline\">¶</a></h2>\n",
    "<p>It happens. Even the best programmers occasionally get stuck.  Sometimes you\n",
    "work on a program so long that you can&#8217;t see the error.  A fresh pair of eyes\n",
    "is just the thing.</p>\n",
    "<p>Before you bring someone else in, make sure you have exhausted the techniques\n",
    "described here. Your program should be as simple as possible, and you should be\n",
    "working on the smallest input that causes the error. You should have <tt class=\"docutils literal\"><span class=\"pre\">print</span></tt>\n",
    "statements in the appropriate places (and the output they produce should be\n",
    "comprehensible). You should understand the problem well enough to describe it\n",
    "concisely.</p>\n",
    "<p>When you bring someone in to help, be sure to give them the information they\n",
    "need:</p>\n",
    "<ol class=\"arabic simple\">\n",
    "<li>If there is an error message, what is it and what part of the program does\n",
    "it indicate?</li>\n",
    "<li>What was the last thing you did before this error occurred? What were the\n",
    "last lines of code that you wrote, or what is the new test case that fails?</li>\n",
    "<li>What have you tried so far, and what have you learned?</li>\n",
    "</ol>\n",
    "<p>When you find the bug, take a second to think about what you could have done to\n",
    "find it faster. Next time you see something similar, you will be able to find\n",
    "the bug more quickly.</p>\n",
    "<p>Remember, the goal is not just to make the program work. The goal is to learn\n",
    "how to make the program work.</p>\n",
    "</div>\n",
    "</div>\n",
    "\n",
    "\n",
    "\n"
   ]
  },
  {
   "cell_type": "code",
   "execution_count": null,
   "metadata": {},
   "outputs": [],
   "source": []
  }
 ],
 "metadata": {
  "kernelspec": {
   "display_name": "Python 3",
   "language": "python",
   "name": "python3"
  },
  "language_info": {
   "codemirror_mode": {
    "name": "ipython",
    "version": 3
   },
   "file_extension": ".py",
   "mimetype": "text/x-python",
   "name": "python",
   "nbconvert_exporter": "python",
   "pygments_lexer": "ipython3",
   "version": "3.7.3"
  },
  "toc": {
   "base_numbering": 1,
   "nav_menu": {},
   "number_sections": false,
   "sideBar": false,
   "skip_h1_title": false,
   "title_cell": "Table of Contents",
   "title_sidebar": "Contents",
   "toc_cell": false,
   "toc_position": {},
   "toc_section_display": false,
   "toc_window_display": false
  }
 },
 "nbformat": 4,
 "nbformat_minor": 2
}
