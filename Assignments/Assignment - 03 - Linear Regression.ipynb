{
 "cells": [
  {
   "cell_type": "markdown",
   "metadata": {},
   "source": [
    "# Assignment 3 - Linear Regression"
   ]
  },
  {
   "cell_type": "markdown",
   "metadata": {},
   "source": [
    "## Your assignment is to write a funtion that will perform an Ordinary Least Squares Regression.\n",
    "### The function should return the slope and the intercept, and a  list of residuals\n",
    "### Test the regression funtion using the simulated data provided below.\n",
    "\n",
    "The OLS regression equation takes the form:\n",
    "$Y_i = b_0 + b_1X_i + \\epsilon_i$\n",
    "\n",
    "#### To code the regression, you need only these 2 formulae\n",
    "Slope = $b_0 = $(Σy)(Σx^2) - (Σx)(Σxy)/ n(Σx^2) - (Σx)^2  \n",
    "Intercept = $b_1= $ n(Σxy) - (Σx)(Σy) /n(Σx^2) - (Σx)^2\n",
    "\n",
    "Residual = Observed y-value - Predicted y-value\n",
    "\n",
    "#### Extra credit\n",
    "Use the equation for a correlation from last assignment. Make a funciton out of it.  Calculate the $R^2$ value of the regression by squaring the r-value of these data from the correlation equation."
   ]
  },
  {
   "cell_type": "markdown",
   "metadata": {},
   "source": [
    "## Use this code to simulate your data.  Use `x` and `y` to test your regression."
   ]
  },
  {
   "cell_type": "code",
   "execution_count": 7,
   "metadata": {},
   "outputs": [],
   "source": [
    "import numpy as np\n",
    "seed = 8675309\n",
    "mean = [12, 9]  # These are the means we wrote above\n",
    "cov = [[1, 0.345], [0.345, 1]] # This is a covariance matrix. \n",
    "\n",
    "## Let's pick a sample size of 100\n",
    "num_samples = 100\n",
    "\n",
    "## Simulate the data\n",
    "x, y = np.random.multivariate_normal(mean, cov, size=num_samples).T"
   ]
  },
  {
   "cell_type": "code",
   "execution_count": 8,
   "metadata": {},
   "outputs": [
    {
     "name": "stdout",
     "output_type": "stream",
     "text": [
      "0.38842192781798995\n",
      "11699245.008170683\n"
     ]
    }
   ],
   "source": [
    "# Your work here\n",
    "sumy = sum(y)\n",
    "sumx_squared = sum(x**2)\n",
    "sumx = sum(x)\n",
    "sumxy = sum(x*y)\n",
    "n = len(x)\n",
    "\n",
    "print((n*sumxy - sumx*sumy)/(n*sumx_squared - sumx**2))#intercept\n",
    "print((sumy*sumx_squared) - (sumx*sumxy)/(n*sumx_squared) - sumx**2)#slope"
   ]
  },
  {
   "cell_type": "code",
   "execution_count": 10,
   "metadata": {},
   "outputs": [
    {
     "data": {
      "text/plain": [
       "array([ 9.36025995, 11.44644348, 10.29913692,  9.00029209,  8.81936626,\n",
       "       10.02073122,  8.41628552,  7.99519556,  8.00532484, 10.07420679,\n",
       "        9.53119582, 10.06235207,  8.82123041,  9.32338059, 10.88225799,\n",
       "        9.23710595,  8.57499552,  8.88265333,  9.15595238,  9.2189906 ,\n",
       "        8.37503576,  9.15554194, 11.40549605,  9.31050724,  7.72715173,\n",
       "        9.10431214,  9.50137721,  9.33542134,  8.64993943,  7.85808067,\n",
       "        9.76633   ,  7.96117282,  9.70677223,  5.85367879, 10.19377864,\n",
       "       10.36449759, 11.04251108,  8.18398664,  9.7705718 ,  8.88614515,\n",
       "        8.06512554,  8.08710433,  7.02891195, 10.52810378,  8.45231873,\n",
       "        7.99555904,  6.86174806,  9.59091811,  9.84956652,  8.4032622 ,\n",
       "       10.05942448, 10.35813863,  8.44923128,  9.15322273,  7.39139271,\n",
       "       10.93870126,  8.61681345,  9.23602231,  9.93331674,  8.48017812,\n",
       "        8.39290436, 10.45176632, 10.71780657,  9.1284462 ,  8.49024057,\n",
       "        7.55702174,  7.60286002, 10.41350432,  8.09574542,  9.57059934,\n",
       "        8.16749958,  7.90219565,  9.45814711,  8.08201924,  8.01446762,\n",
       "        8.65779121,  6.54937281,  9.72177911,  8.39479608, 10.04798177,\n",
       "        8.46580471,  8.31166887,  7.89088414,  9.14410973,  9.6651127 ,\n",
       "        7.33953475,  7.99116946,  8.69948368,  9.08248904,  7.68301737,\n",
       "       10.32847316,  8.56778827, 10.20731481,  9.53271736,  8.57937436,\n",
       "        8.15146972, 10.18448152,  8.71890806,  8.90315797,  8.85109083])"
      ]
     },
     "execution_count": 10,
     "metadata": {},
     "output_type": "execute_result"
    }
   ],
   "source": [
    "# Extra credit here\n"
   ]
  },
  {
   "cell_type": "code",
   "execution_count": null,
   "metadata": {},
   "outputs": [],
   "source": []
  }
 ],
 "metadata": {
  "kernelspec": {
   "display_name": "Python 3",
   "language": "python",
   "name": "python3"
  },
  "language_info": {
   "codemirror_mode": {
    "name": "ipython",
    "version": 3
   },
   "file_extension": ".py",
   "mimetype": "text/x-python",
   "name": "python",
   "nbconvert_exporter": "python",
   "pygments_lexer": "ipython3",
   "version": "3.6.5"
  },
  "toc": {
   "base_numbering": 1,
   "nav_menu": {},
   "number_sections": false,
   "sideBar": false,
   "skip_h1_title": false,
   "title_cell": "Table of Contents",
   "title_sidebar": "Contents",
   "toc_cell": false,
   "toc_position": {},
   "toc_section_display": false,
   "toc_window_display": false
  }
 },
 "nbformat": 4,
 "nbformat_minor": 2
}
